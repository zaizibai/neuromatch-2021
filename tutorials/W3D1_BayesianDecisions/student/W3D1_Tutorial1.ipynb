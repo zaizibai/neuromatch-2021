{
  "nbformat": 4,
  "nbformat_minor": 0,
  "metadata": {
    "colab": {
      "name": "W3D1_Tutorial1",
      "provenance": [],
      "collapsed_sections": [
        "jWmfLbhzBpfz"
      ],
      "toc_visible": true,
      "include_colab_link": true
    },
    "kernel": {
      "display_name": "Python 3",
      "language": "python",
      "name": "python3"
    },
    "kernelspec": {
      "display_name": "Python 3",
      "name": "python3"
    },
    "language_info": {
      "codemirror_mode": {
        "name": "ipython",
        "version": 3
      },
      "file_extension": ".py",
      "mimetype": "text/x-python",
      "name": "python",
      "nbconvert_exporter": "python",
      "pygments_lexer": "ipython3",
      "version": "3.7.10"
    },
    "widgets": {
      "application/vnd.jupyter.widget-state+json": {
        "ff323cbca40c462499f4e80d079f72f2": {
          "model_module": "@jupyter-widgets/controls",
          "model_name": "TabModel",
          "state": {
            "_view_name": "TabView",
            "_dom_classes": [],
            "_titles": {
              "0": "Youtube",
              "1": "Bilibili"
            },
            "_model_name": "TabModel",
            "_view_module": "@jupyter-widgets/controls",
            "selected_index": 0,
            "_model_module_version": "1.5.0",
            "_view_count": null,
            "_view_module_version": "1.5.0",
            "box_style": "",
            "layout": "IPY_MODEL_a0753fe4a1da45c3a6e069b23594a607",
            "_model_module": "@jupyter-widgets/controls",
            "children": [
              "IPY_MODEL_78a5baf3748a40faa5770fbc8eb9cf62",
              "IPY_MODEL_1aa3e55bf31b4461a4d51525b8274e6a"
            ]
          }
        },
        "a0753fe4a1da45c3a6e069b23594a607": {
          "model_module": "@jupyter-widgets/base",
          "model_name": "LayoutModel",
          "state": {
            "_view_name": "LayoutView",
            "grid_template_rows": null,
            "right": null,
            "justify_content": null,
            "_view_module": "@jupyter-widgets/base",
            "overflow": null,
            "_model_module_version": "1.2.0",
            "_view_count": null,
            "flex_flow": null,
            "width": null,
            "min_width": null,
            "border": null,
            "align_items": null,
            "bottom": null,
            "_model_module": "@jupyter-widgets/base",
            "top": null,
            "grid_column": null,
            "overflow_y": null,
            "overflow_x": null,
            "grid_auto_flow": null,
            "grid_area": null,
            "grid_template_columns": null,
            "flex": null,
            "_model_name": "LayoutModel",
            "justify_items": null,
            "grid_row": null,
            "max_height": null,
            "align_content": null,
            "visibility": null,
            "align_self": null,
            "height": null,
            "min_height": null,
            "padding": null,
            "grid_auto_rows": null,
            "grid_gap": null,
            "max_width": null,
            "order": null,
            "_view_module_version": "1.2.0",
            "grid_template_areas": null,
            "object_position": null,
            "object_fit": null,
            "grid_auto_columns": null,
            "margin": null,
            "display": null,
            "left": null
          }
        },
        "78a5baf3748a40faa5770fbc8eb9cf62": {
          "model_module": "@jupyter-widgets/output",
          "model_name": "OutputModel",
          "state": {
            "_view_name": "OutputView",
            "msg_id": "",
            "_dom_classes": [],
            "_model_name": "OutputModel",
            "outputs": [
              {
                "output_type": "stream",
                "metadata": {
                  "tags": []
                },
                "text": "Video available at https://youtube.com/watch?v=JiEIn9QsrFg\n",
                "stream": "stdout"
              },
              {
                "output_type": "display_data",
                "metadata": {
                  "tags": []
                },
                "text/html": "\n        <iframe\n            width=\"854\"\n            height=\"480\"\n            src=\"https://www.youtube.com/embed/JiEIn9QsrFg?fs=1&rel=0\"\n            frameborder=\"0\"\n            allowfullscreen\n        ></iframe>\n        ",
                "text/plain": "<IPython.lib.display.YouTubeVideo at 0x7fed7d481a10>",
                "image/jpeg": "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\n"
              }
            ],
            "_view_module": "@jupyter-widgets/output",
            "_model_module_version": "1.0.0",
            "_view_count": null,
            "_view_module_version": "1.0.0",
            "layout": "IPY_MODEL_eb6895d2dd4c48179ef644cf956ed6c3",
            "_model_module": "@jupyter-widgets/output"
          }
        },
        "1aa3e55bf31b4461a4d51525b8274e6a": {
          "model_module": "@jupyter-widgets/output",
          "model_name": "OutputModel",
          "state": {
            "_view_name": "OutputView",
            "msg_id": "",
            "_dom_classes": [],
            "_model_name": "OutputModel",
            "outputs": [
              {
                "output_type": "stream",
                "metadata": {
                  "tags": []
                },
                "text": "Video available at https://www.bilibili.com/video/\n",
                "stream": "stdout"
              },
              {
                "output_type": "display_data",
                "metadata": {
                  "tags": []
                },
                "text/html": "\n        <iframe\n            width=\"854\"\n            height=\"480\"\n            src=\"https://player.bilibili.com/player.html?bvid=&page=1?fs=1\"\n            frameborder=\"0\"\n            allowfullscreen\n        ></iframe>\n        ",
                "text/plain": "<__main__.BiliVideo at 0x7fed7d481650>"
              }
            ],
            "_view_module": "@jupyter-widgets/output",
            "_model_module_version": "1.0.0",
            "_view_count": null,
            "_view_module_version": "1.0.0",
            "layout": "IPY_MODEL_7d3c172eb2d947419a17059924760204",
            "_model_module": "@jupyter-widgets/output"
          }
        },
        "eb6895d2dd4c48179ef644cf956ed6c3": {
          "model_module": "@jupyter-widgets/base",
          "model_name": "LayoutModel",
          "state": {
            "_view_name": "LayoutView",
            "grid_template_rows": null,
            "right": null,
            "justify_content": null,
            "_view_module": "@jupyter-widgets/base",
            "overflow": null,
            "_model_module_version": "1.2.0",
            "_view_count": null,
            "flex_flow": null,
            "width": null,
            "min_width": null,
            "border": null,
            "align_items": null,
            "bottom": null,
            "_model_module": "@jupyter-widgets/base",
            "top": null,
            "grid_column": null,
            "overflow_y": null,
            "overflow_x": null,
            "grid_auto_flow": null,
            "grid_area": null,
            "grid_template_columns": null,
            "flex": null,
            "_model_name": "LayoutModel",
            "justify_items": null,
            "grid_row": null,
            "max_height": null,
            "align_content": null,
            "visibility": null,
            "align_self": null,
            "height": null,
            "min_height": null,
            "padding": null,
            "grid_auto_rows": null,
            "grid_gap": null,
            "max_width": null,
            "order": null,
            "_view_module_version": "1.2.0",
            "grid_template_areas": null,
            "object_position": null,
            "object_fit": null,
            "grid_auto_columns": null,
            "margin": null,
            "display": null,
            "left": null
          }
        },
        "7d3c172eb2d947419a17059924760204": {
          "model_module": "@jupyter-widgets/base",
          "model_name": "LayoutModel",
          "state": {
            "_view_name": "LayoutView",
            "grid_template_rows": null,
            "right": null,
            "justify_content": null,
            "_view_module": "@jupyter-widgets/base",
            "overflow": null,
            "_model_module_version": "1.2.0",
            "_view_count": null,
            "flex_flow": null,
            "width": null,
            "min_width": null,
            "border": null,
            "align_items": null,
            "bottom": null,
            "_model_module": "@jupyter-widgets/base",
            "top": null,
            "grid_column": null,
            "overflow_y": null,
            "overflow_x": null,
            "grid_auto_flow": null,
            "grid_area": null,
            "grid_template_columns": null,
            "flex": null,
            "_model_name": "LayoutModel",
            "justify_items": null,
            "grid_row": null,
            "max_height": null,
            "align_content": null,
            "visibility": null,
            "align_self": null,
            "height": null,
            "min_height": null,
            "padding": null,
            "grid_auto_rows": null,
            "grid_gap": null,
            "max_width": null,
            "order": null,
            "_view_module_version": "1.2.0",
            "grid_template_areas": null,
            "object_position": null,
            "object_fit": null,
            "grid_auto_columns": null,
            "margin": null,
            "display": null,
            "left": null
          }
        },
        "de72d2b5aa3142ada8811b210a2d2b90": {
          "model_module": "@jupyter-widgets/controls",
          "model_name": "TabModel",
          "state": {
            "_view_name": "TabView",
            "_dom_classes": [],
            "_titles": {
              "0": "Youtube",
              "1": "Bilibili"
            },
            "_model_name": "TabModel",
            "_view_module": "@jupyter-widgets/controls",
            "selected_index": 0,
            "_model_module_version": "1.5.0",
            "_view_count": null,
            "_view_module_version": "1.5.0",
            "box_style": "",
            "layout": "IPY_MODEL_f872f69caece48b4876776a1edc31047",
            "_model_module": "@jupyter-widgets/controls",
            "children": [
              "IPY_MODEL_0609d1f8730948c795fec3f778ef6ac5",
              "IPY_MODEL_1b7cdaf182624274acca3fae7cdb9663"
            ]
          }
        },
        "f872f69caece48b4876776a1edc31047": {
          "model_module": "@jupyter-widgets/base",
          "model_name": "LayoutModel",
          "state": {
            "_view_name": "LayoutView",
            "grid_template_rows": null,
            "right": null,
            "justify_content": null,
            "_view_module": "@jupyter-widgets/base",
            "overflow": null,
            "_model_module_version": "1.2.0",
            "_view_count": null,
            "flex_flow": null,
            "width": null,
            "min_width": null,
            "border": null,
            "align_items": null,
            "bottom": null,
            "_model_module": "@jupyter-widgets/base",
            "top": null,
            "grid_column": null,
            "overflow_y": null,
            "overflow_x": null,
            "grid_auto_flow": null,
            "grid_area": null,
            "grid_template_columns": null,
            "flex": null,
            "_model_name": "LayoutModel",
            "justify_items": null,
            "grid_row": null,
            "max_height": null,
            "align_content": null,
            "visibility": null,
            "align_self": null,
            "height": null,
            "min_height": null,
            "padding": null,
            "grid_auto_rows": null,
            "grid_gap": null,
            "max_width": null,
            "order": null,
            "_view_module_version": "1.2.0",
            "grid_template_areas": null,
            "object_position": null,
            "object_fit": null,
            "grid_auto_columns": null,
            "margin": null,
            "display": null,
            "left": null
          }
        },
        "0609d1f8730948c795fec3f778ef6ac5": {
          "model_module": "@jupyter-widgets/output",
          "model_name": "OutputModel",
          "state": {
            "_view_name": "OutputView",
            "msg_id": "",
            "_dom_classes": [],
            "_model_name": "OutputModel",
            "outputs": [
              {
                "output_type": "stream",
                "metadata": {
                  "tags": []
                },
                "text": "Video available at https://youtube.com/watch?v=McALsTzb494\n",
                "stream": "stdout"
              },
              {
                "output_type": "display_data",
                "metadata": {
                  "tags": []
                },
                "text/html": "\n        <iframe\n            width=\"854\"\n            height=\"480\"\n            src=\"https://www.youtube.com/embed/McALsTzb494?fs=1&rel=0\"\n            frameborder=\"0\"\n            allowfullscreen\n        ></iframe>\n        ",
                "text/plain": "<IPython.lib.display.YouTubeVideo at 0x7fed7d481a10>",
                "image/jpeg": "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\n"
              }
            ],
            "_view_module": "@jupyter-widgets/output",
            "_model_module_version": "1.0.0",
            "_view_count": null,
            "_view_module_version": "1.0.0",
            "layout": "IPY_MODEL_6981428f377248d093dced9d6810ed64",
            "_model_module": "@jupyter-widgets/output"
          }
        },
        "1b7cdaf182624274acca3fae7cdb9663": {
          "model_module": "@jupyter-widgets/output",
          "model_name": "OutputModel",
          "state": {
            "_view_name": "OutputView",
            "msg_id": "",
            "_dom_classes": [],
            "_model_name": "OutputModel",
            "outputs": [
              {
                "output_type": "stream",
                "metadata": {
                  "tags": []
                },
                "text": "Video available at https://www.bilibili.com/video/\n",
                "stream": "stdout"
              },
              {
                "output_type": "display_data",
                "metadata": {
                  "tags": []
                },
                "text/html": "\n        <iframe\n            width=\"854\"\n            height=\"480\"\n            src=\"https://player.bilibili.com/player.html?bvid=&page=1?fs=1\"\n            frameborder=\"0\"\n            allowfullscreen\n        ></iframe>\n        ",
                "text/plain": "<__main__.BiliVideo at 0x7fed71c75e10>"
              }
            ],
            "_view_module": "@jupyter-widgets/output",
            "_model_module_version": "1.0.0",
            "_view_count": null,
            "_view_module_version": "1.0.0",
            "layout": "IPY_MODEL_42abd5a9c41844bfa13b3b12ed079e1c",
            "_model_module": "@jupyter-widgets/output"
          }
        },
        "6981428f377248d093dced9d6810ed64": {
          "model_module": "@jupyter-widgets/base",
          "model_name": "LayoutModel",
          "state": {
            "_view_name": "LayoutView",
            "grid_template_rows": null,
            "right": null,
            "justify_content": null,
            "_view_module": "@jupyter-widgets/base",
            "overflow": null,
            "_model_module_version": "1.2.0",
            "_view_count": null,
            "flex_flow": null,
            "width": null,
            "min_width": null,
            "border": null,
            "align_items": null,
            "bottom": null,
            "_model_module": "@jupyter-widgets/base",
            "top": null,
            "grid_column": null,
            "overflow_y": null,
            "overflow_x": null,
            "grid_auto_flow": null,
            "grid_area": null,
            "grid_template_columns": null,
            "flex": null,
            "_model_name": "LayoutModel",
            "justify_items": null,
            "grid_row": null,
            "max_height": null,
            "align_content": null,
            "visibility": null,
            "align_self": null,
            "height": null,
            "min_height": null,
            "padding": null,
            "grid_auto_rows": null,
            "grid_gap": null,
            "max_width": null,
            "order": null,
            "_view_module_version": "1.2.0",
            "grid_template_areas": null,
            "object_position": null,
            "object_fit": null,
            "grid_auto_columns": null,
            "margin": null,
            "display": null,
            "left": null
          }
        },
        "42abd5a9c41844bfa13b3b12ed079e1c": {
          "model_module": "@jupyter-widgets/base",
          "model_name": "LayoutModel",
          "state": {
            "_view_name": "LayoutView",
            "grid_template_rows": null,
            "right": null,
            "justify_content": null,
            "_view_module": "@jupyter-widgets/base",
            "overflow": null,
            "_model_module_version": "1.2.0",
            "_view_count": null,
            "flex_flow": null,
            "width": null,
            "min_width": null,
            "border": null,
            "align_items": null,
            "bottom": null,
            "_model_module": "@jupyter-widgets/base",
            "top": null,
            "grid_column": null,
            "overflow_y": null,
            "overflow_x": null,
            "grid_auto_flow": null,
            "grid_area": null,
            "grid_template_columns": null,
            "flex": null,
            "_model_name": "LayoutModel",
            "justify_items": null,
            "grid_row": null,
            "max_height": null,
            "align_content": null,
            "visibility": null,
            "align_self": null,
            "height": null,
            "min_height": null,
            "padding": null,
            "grid_auto_rows": null,
            "grid_gap": null,
            "max_width": null,
            "order": null,
            "_view_module_version": "1.2.0",
            "grid_template_areas": null,
            "object_position": null,
            "object_fit": null,
            "grid_auto_columns": null,
            "margin": null,
            "display": null,
            "left": null
          }
        },
        "fd6979c15ca3406fb4f76343b34e181b": {
          "model_module": "@jupyter-widgets/controls",
          "model_name": "TabModel",
          "state": {
            "_view_name": "TabView",
            "_dom_classes": [],
            "_titles": {
              "0": "Youtube",
              "1": "Bilibili"
            },
            "_model_name": "TabModel",
            "_view_module": "@jupyter-widgets/controls",
            "selected_index": 0,
            "_model_module_version": "1.5.0",
            "_view_count": null,
            "_view_module_version": "1.5.0",
            "box_style": "",
            "layout": "IPY_MODEL_513eaa0010f248308ea347b22c369fcc",
            "_model_module": "@jupyter-widgets/controls",
            "children": [
              "IPY_MODEL_1be183553abf4666a5a35ba0faddcb55",
              "IPY_MODEL_57c4f192d9f947fd81598bfec7817df1"
            ]
          }
        },
        "513eaa0010f248308ea347b22c369fcc": {
          "model_module": "@jupyter-widgets/base",
          "model_name": "LayoutModel",
          "state": {
            "_view_name": "LayoutView",
            "grid_template_rows": null,
            "right": null,
            "justify_content": null,
            "_view_module": "@jupyter-widgets/base",
            "overflow": null,
            "_model_module_version": "1.2.0",
            "_view_count": null,
            "flex_flow": null,
            "width": null,
            "min_width": null,
            "border": null,
            "align_items": null,
            "bottom": null,
            "_model_module": "@jupyter-widgets/base",
            "top": null,
            "grid_column": null,
            "overflow_y": null,
            "overflow_x": null,
            "grid_auto_flow": null,
            "grid_area": null,
            "grid_template_columns": null,
            "flex": null,
            "_model_name": "LayoutModel",
            "justify_items": null,
            "grid_row": null,
            "max_height": null,
            "align_content": null,
            "visibility": null,
            "align_self": null,
            "height": null,
            "min_height": null,
            "padding": null,
            "grid_auto_rows": null,
            "grid_gap": null,
            "max_width": null,
            "order": null,
            "_view_module_version": "1.2.0",
            "grid_template_areas": null,
            "object_position": null,
            "object_fit": null,
            "grid_auto_columns": null,
            "margin": null,
            "display": null,
            "left": null
          }
        },
        "1be183553abf4666a5a35ba0faddcb55": {
          "model_module": "@jupyter-widgets/output",
          "model_name": "OutputModel",
          "state": {
            "_view_name": "OutputView",
            "msg_id": "",
            "_dom_classes": [],
            "_model_name": "OutputModel",
            "outputs": [
              {
                "output_type": "stream",
                "metadata": {
                  "tags": []
                },
                "text": "Video available at https://youtube.com/watch?v=xvIVZrqF_5s\n",
                "stream": "stdout"
              },
              {
                "output_type": "display_data",
                "metadata": {
                  "tags": []
                },
                "text/html": "\n        <iframe\n            width=\"854\"\n            height=\"480\"\n            src=\"https://www.youtube.com/embed/xvIVZrqF_5s?fs=1&rel=0\"\n            frameborder=\"0\"\n            allowfullscreen\n        ></iframe>\n        ",
                "text/plain": "<IPython.lib.display.YouTubeVideo at 0x7fed7d481a10>",
                "image/jpeg": "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\n"
              }
            ],
            "_view_module": "@jupyter-widgets/output",
            "_model_module_version": "1.0.0",
            "_view_count": null,
            "_view_module_version": "1.0.0",
            "layout": "IPY_MODEL_7ba47f9086f642658e7213d978b09b35",
            "_model_module": "@jupyter-widgets/output"
          }
        },
        "57c4f192d9f947fd81598bfec7817df1": {
          "model_module": "@jupyter-widgets/output",
          "model_name": "OutputModel",
          "state": {
            "_view_name": "OutputView",
            "msg_id": "",
            "_dom_classes": [],
            "_model_name": "OutputModel",
            "outputs": [
              {
                "output_type": "stream",
                "metadata": {
                  "tags": []
                },
                "text": "Video available at https://www.bilibili.com/video/\n",
                "stream": "stdout"
              },
              {
                "output_type": "display_data",
                "metadata": {
                  "tags": []
                },
                "text/html": "\n        <iframe\n            width=\"854\"\n            height=\"480\"\n            src=\"https://player.bilibili.com/player.html?bvid=&page=1?fs=1\"\n            frameborder=\"0\"\n            allowfullscreen\n        ></iframe>\n        ",
                "text/plain": "<__main__.BiliVideo at 0x7fed71c18550>"
              }
            ],
            "_view_module": "@jupyter-widgets/output",
            "_model_module_version": "1.0.0",
            "_view_count": null,
            "_view_module_version": "1.0.0",
            "layout": "IPY_MODEL_704b27fd47b544458dad5b835e3fcc5b",
            "_model_module": "@jupyter-widgets/output"
          }
        },
        "7ba47f9086f642658e7213d978b09b35": {
          "model_module": "@jupyter-widgets/base",
          "model_name": "LayoutModel",
          "state": {
            "_view_name": "LayoutView",
            "grid_template_rows": null,
            "right": null,
            "justify_content": null,
            "_view_module": "@jupyter-widgets/base",
            "overflow": null,
            "_model_module_version": "1.2.0",
            "_view_count": null,
            "flex_flow": null,
            "width": null,
            "min_width": null,
            "border": null,
            "align_items": null,
            "bottom": null,
            "_model_module": "@jupyter-widgets/base",
            "top": null,
            "grid_column": null,
            "overflow_y": null,
            "overflow_x": null,
            "grid_auto_flow": null,
            "grid_area": null,
            "grid_template_columns": null,
            "flex": null,
            "_model_name": "LayoutModel",
            "justify_items": null,
            "grid_row": null,
            "max_height": null,
            "align_content": null,
            "visibility": null,
            "align_self": null,
            "height": null,
            "min_height": null,
            "padding": null,
            "grid_auto_rows": null,
            "grid_gap": null,
            "max_width": null,
            "order": null,
            "_view_module_version": "1.2.0",
            "grid_template_areas": null,
            "object_position": null,
            "object_fit": null,
            "grid_auto_columns": null,
            "margin": null,
            "display": null,
            "left": null
          }
        },
        "704b27fd47b544458dad5b835e3fcc5b": {
          "model_module": "@jupyter-widgets/base",
          "model_name": "LayoutModel",
          "state": {
            "_view_name": "LayoutView",
            "grid_template_rows": null,
            "right": null,
            "justify_content": null,
            "_view_module": "@jupyter-widgets/base",
            "overflow": null,
            "_model_module_version": "1.2.0",
            "_view_count": null,
            "flex_flow": null,
            "width": null,
            "min_width": null,
            "border": null,
            "align_items": null,
            "bottom": null,
            "_model_module": "@jupyter-widgets/base",
            "top": null,
            "grid_column": null,
            "overflow_y": null,
            "overflow_x": null,
            "grid_auto_flow": null,
            "grid_area": null,
            "grid_template_columns": null,
            "flex": null,
            "_model_name": "LayoutModel",
            "justify_items": null,
            "grid_row": null,
            "max_height": null,
            "align_content": null,
            "visibility": null,
            "align_self": null,
            "height": null,
            "min_height": null,
            "padding": null,
            "grid_auto_rows": null,
            "grid_gap": null,
            "max_width": null,
            "order": null,
            "_view_module_version": "1.2.0",
            "grid_template_areas": null,
            "object_position": null,
            "object_fit": null,
            "grid_auto_columns": null,
            "margin": null,
            "display": null,
            "left": null
          }
        },
        "e9e18ab926d249d299625b28b4f6a0ff": {
          "model_module": "@jupyter-widgets/controls",
          "model_name": "VBoxModel",
          "state": {
            "_view_name": "VBoxView",
            "_dom_classes": [
              "widget-interact"
            ],
            "_model_name": "VBoxModel",
            "_view_module": "@jupyter-widgets/controls",
            "_model_module_version": "1.5.0",
            "_view_count": null,
            "_view_module_version": "1.5.0",
            "box_style": "",
            "layout": "IPY_MODEL_ecbbf107e57148df8a192831b176c6ff",
            "_model_module": "@jupyter-widgets/controls",
            "children": [
              "IPY_MODEL_69c6a0e2f8364abd9d39abf1f89250dc",
              "IPY_MODEL_65a855c7b6a04496a74ff87b8d921dcd"
            ]
          }
        },
        "ecbbf107e57148df8a192831b176c6ff": {
          "model_module": "@jupyter-widgets/base",
          "model_name": "LayoutModel",
          "state": {
            "_view_name": "LayoutView",
            "grid_template_rows": null,
            "right": null,
            "justify_content": null,
            "_view_module": "@jupyter-widgets/base",
            "overflow": null,
            "_model_module_version": "1.2.0",
            "_view_count": null,
            "flex_flow": null,
            "width": null,
            "min_width": null,
            "border": null,
            "align_items": null,
            "bottom": null,
            "_model_module": "@jupyter-widgets/base",
            "top": null,
            "grid_column": null,
            "overflow_y": null,
            "overflow_x": null,
            "grid_auto_flow": null,
            "grid_area": null,
            "grid_template_columns": null,
            "flex": null,
            "_model_name": "LayoutModel",
            "justify_items": null,
            "grid_row": null,
            "max_height": null,
            "align_content": null,
            "visibility": null,
            "align_self": null,
            "height": null,
            "min_height": null,
            "padding": null,
            "grid_auto_rows": null,
            "grid_gap": null,
            "max_width": null,
            "order": null,
            "_view_module_version": "1.2.0",
            "grid_template_areas": null,
            "object_position": null,
            "object_fit": null,
            "grid_auto_columns": null,
            "margin": null,
            "display": null,
            "left": null
          }
        },
        "69c6a0e2f8364abd9d39abf1f89250dc": {
          "model_module": "@jupyter-widgets/controls",
          "model_name": "FloatSliderModel",
          "state": {
            "_view_name": "FloatSliderView",
            "style": "IPY_MODEL_312e445d17f443ac97c1535b00011937",
            "_dom_classes": [],
            "description": "p(s = left)",
            "step": 0.01,
            "_model_name": "FloatSliderModel",
            "orientation": "horizontal",
            "max": 1,
            "_view_module": "@jupyter-widgets/controls",
            "_model_module_version": "1.5.0",
            "value": 0.49,
            "_view_count": null,
            "disabled": false,
            "_view_module_version": "1.5.0",
            "min": 0,
            "continuous_update": true,
            "readout_format": ".2f",
            "description_tooltip": null,
            "readout": true,
            "_model_module": "@jupyter-widgets/controls",
            "layout": "IPY_MODEL_bb9a19a1fa3540308728042a5a1a1d88"
          }
        },
        "65a855c7b6a04496a74ff87b8d921dcd": {
          "model_module": "@jupyter-widgets/output",
          "model_name": "OutputModel",
          "state": {
            "_view_name": "OutputView",
            "msg_id": "",
            "_dom_classes": [],
            "_model_name": "OutputModel",
            "outputs": [
              {
                "output_type": "display_data",
                "metadata": {
                  "tags": [],
                  "image/png": {
                    "width": 723,
                    "height": 277
                  },
                  "needs_background": "light"
                },
                "image/png": "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\n",
                "text/plain": "<Figure size 1224x216 with 3 Axes>"
              }
            ],
            "_view_module": "@jupyter-widgets/output",
            "_model_module_version": "1.0.0",
            "_view_count": null,
            "_view_module_version": "1.0.0",
            "layout": "IPY_MODEL_57eed8c720fb4967aa5a68c212b5795c",
            "_model_module": "@jupyter-widgets/output"
          }
        },
        "312e445d17f443ac97c1535b00011937": {
          "model_module": "@jupyter-widgets/controls",
          "model_name": "SliderStyleModel",
          "state": {
            "_view_name": "StyleView",
            "handle_color": null,
            "_model_name": "SliderStyleModel",
            "description_width": "",
            "_view_module": "@jupyter-widgets/base",
            "_model_module_version": "1.5.0",
            "_view_count": null,
            "_view_module_version": "1.2.0",
            "_model_module": "@jupyter-widgets/controls"
          }
        },
        "bb9a19a1fa3540308728042a5a1a1d88": {
          "model_module": "@jupyter-widgets/base",
          "model_name": "LayoutModel",
          "state": {
            "_view_name": "LayoutView",
            "grid_template_rows": null,
            "right": null,
            "justify_content": null,
            "_view_module": "@jupyter-widgets/base",
            "overflow": null,
            "_model_module_version": "1.2.0",
            "_view_count": null,
            "flex_flow": null,
            "width": null,
            "min_width": null,
            "border": null,
            "align_items": null,
            "bottom": null,
            "_model_module": "@jupyter-widgets/base",
            "top": null,
            "grid_column": null,
            "overflow_y": null,
            "overflow_x": null,
            "grid_auto_flow": null,
            "grid_area": null,
            "grid_template_columns": null,
            "flex": null,
            "_model_name": "LayoutModel",
            "justify_items": null,
            "grid_row": null,
            "max_height": null,
            "align_content": null,
            "visibility": null,
            "align_self": null,
            "height": null,
            "min_height": null,
            "padding": null,
            "grid_auto_rows": null,
            "grid_gap": null,
            "max_width": null,
            "order": null,
            "_view_module_version": "1.2.0",
            "grid_template_areas": null,
            "object_position": null,
            "object_fit": null,
            "grid_auto_columns": null,
            "margin": null,
            "display": null,
            "left": null
          }
        },
        "57eed8c720fb4967aa5a68c212b5795c": {
          "model_module": "@jupyter-widgets/base",
          "model_name": "LayoutModel",
          "state": {
            "_view_name": "LayoutView",
            "grid_template_rows": null,
            "right": null,
            "justify_content": null,
            "_view_module": "@jupyter-widgets/base",
            "overflow": null,
            "_model_module_version": "1.2.0",
            "_view_count": null,
            "flex_flow": null,
            "width": null,
            "min_width": null,
            "border": null,
            "align_items": null,
            "bottom": null,
            "_model_module": "@jupyter-widgets/base",
            "top": null,
            "grid_column": null,
            "overflow_y": null,
            "overflow_x": null,
            "grid_auto_flow": null,
            "grid_area": null,
            "grid_template_columns": null,
            "flex": null,
            "_model_name": "LayoutModel",
            "justify_items": null,
            "grid_row": null,
            "max_height": null,
            "align_content": null,
            "visibility": null,
            "align_self": null,
            "height": null,
            "min_height": null,
            "padding": null,
            "grid_auto_rows": null,
            "grid_gap": null,
            "max_width": null,
            "order": null,
            "_view_module_version": "1.2.0",
            "grid_template_areas": null,
            "object_position": null,
            "object_fit": null,
            "grid_auto_columns": null,
            "margin": null,
            "display": null,
            "left": null
          }
        },
        "2d52d7dbd56d40ad879a2bd8b6122930": {
          "model_module": "@jupyter-widgets/controls",
          "model_name": "TabModel",
          "state": {
            "_view_name": "TabView",
            "_dom_classes": [],
            "_titles": {
              "0": "Youtube",
              "1": "Bilibili"
            },
            "_model_name": "TabModel",
            "_view_module": "@jupyter-widgets/controls",
            "selected_index": 0,
            "_model_module_version": "1.5.0",
            "_view_count": null,
            "_view_module_version": "1.5.0",
            "box_style": "",
            "layout": "IPY_MODEL_a233bcc68b594a538aaac61acf5292da",
            "_model_module": "@jupyter-widgets/controls",
            "children": [
              "IPY_MODEL_bb0cde7cf0604c69915de195796cbfae",
              "IPY_MODEL_c44f9c7d2cb24445aa97b59f116e1d43"
            ]
          }
        },
        "a233bcc68b594a538aaac61acf5292da": {
          "model_module": "@jupyter-widgets/base",
          "model_name": "LayoutModel",
          "state": {
            "_view_name": "LayoutView",
            "grid_template_rows": null,
            "right": null,
            "justify_content": null,
            "_view_module": "@jupyter-widgets/base",
            "overflow": null,
            "_model_module_version": "1.2.0",
            "_view_count": null,
            "flex_flow": null,
            "width": null,
            "min_width": null,
            "border": null,
            "align_items": null,
            "bottom": null,
            "_model_module": "@jupyter-widgets/base",
            "top": null,
            "grid_column": null,
            "overflow_y": null,
            "overflow_x": null,
            "grid_auto_flow": null,
            "grid_area": null,
            "grid_template_columns": null,
            "flex": null,
            "_model_name": "LayoutModel",
            "justify_items": null,
            "grid_row": null,
            "max_height": null,
            "align_content": null,
            "visibility": null,
            "align_self": null,
            "height": null,
            "min_height": null,
            "padding": null,
            "grid_auto_rows": null,
            "grid_gap": null,
            "max_width": null,
            "order": null,
            "_view_module_version": "1.2.0",
            "grid_template_areas": null,
            "object_position": null,
            "object_fit": null,
            "grid_auto_columns": null,
            "margin": null,
            "display": null,
            "left": null
          }
        },
        "bb0cde7cf0604c69915de195796cbfae": {
          "model_module": "@jupyter-widgets/output",
          "model_name": "OutputModel",
          "state": {
            "_view_name": "OutputView",
            "msg_id": "",
            "_dom_classes": [],
            "_model_name": "OutputModel",
            "outputs": [
              {
                "output_type": "stream",
                "metadata": {
                  "tags": []
                },
                "text": "Video available at https://youtube.com/watch?v=l4m0JzMWGio\n",
                "stream": "stdout"
              },
              {
                "output_type": "display_data",
                "metadata": {
                  "tags": []
                },
                "text/html": "\n        <iframe\n            width=\"854\"\n            height=\"480\"\n            src=\"https://www.youtube.com/embed/l4m0JzMWGio?fs=1&rel=0\"\n            frameborder=\"0\"\n            allowfullscreen\n        ></iframe>\n        ",
                "text/plain": "<IPython.lib.display.YouTubeVideo at 0x7fed711309d0>",
                "image/jpeg": "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\n"
              }
            ],
            "_view_module": "@jupyter-widgets/output",
            "_model_module_version": "1.0.0",
            "_view_count": null,
            "_view_module_version": "1.0.0",
            "layout": "IPY_MODEL_2eb07f7c106d456ab9ee0ffed5f0ad43",
            "_model_module": "@jupyter-widgets/output"
          }
        },
        "c44f9c7d2cb24445aa97b59f116e1d43": {
          "model_module": "@jupyter-widgets/output",
          "model_name": "OutputModel",
          "state": {
            "_view_name": "OutputView",
            "msg_id": "",
            "_dom_classes": [],
            "_model_name": "OutputModel",
            "outputs": [
              {
                "output_type": "stream",
                "metadata": {
                  "tags": []
                },
                "text": "Video available at https://www.bilibili.com/video/\n",
                "stream": "stdout"
              },
              {
                "output_type": "display_data",
                "metadata": {
                  "tags": []
                },
                "text/html": "\n        <iframe\n            width=\"854\"\n            height=\"480\"\n            src=\"https://player.bilibili.com/player.html?bvid=&page=1?fs=1\"\n            frameborder=\"0\"\n            allowfullscreen\n        ></iframe>\n        ",
                "text/plain": "<__main__.BiliVideo at 0x7fed711307d0>"
              }
            ],
            "_view_module": "@jupyter-widgets/output",
            "_model_module_version": "1.0.0",
            "_view_count": null,
            "_view_module_version": "1.0.0",
            "layout": "IPY_MODEL_b69502f8ae014987a7c21a76743030f5",
            "_model_module": "@jupyter-widgets/output"
          }
        },
        "2eb07f7c106d456ab9ee0ffed5f0ad43": {
          "model_module": "@jupyter-widgets/base",
          "model_name": "LayoutModel",
          "state": {
            "_view_name": "LayoutView",
            "grid_template_rows": null,
            "right": null,
            "justify_content": null,
            "_view_module": "@jupyter-widgets/base",
            "overflow": null,
            "_model_module_version": "1.2.0",
            "_view_count": null,
            "flex_flow": null,
            "width": null,
            "min_width": null,
            "border": null,
            "align_items": null,
            "bottom": null,
            "_model_module": "@jupyter-widgets/base",
            "top": null,
            "grid_column": null,
            "overflow_y": null,
            "overflow_x": null,
            "grid_auto_flow": null,
            "grid_area": null,
            "grid_template_columns": null,
            "flex": null,
            "_model_name": "LayoutModel",
            "justify_items": null,
            "grid_row": null,
            "max_height": null,
            "align_content": null,
            "visibility": null,
            "align_self": null,
            "height": null,
            "min_height": null,
            "padding": null,
            "grid_auto_rows": null,
            "grid_gap": null,
            "max_width": null,
            "order": null,
            "_view_module_version": "1.2.0",
            "grid_template_areas": null,
            "object_position": null,
            "object_fit": null,
            "grid_auto_columns": null,
            "margin": null,
            "display": null,
            "left": null
          }
        },
        "b69502f8ae014987a7c21a76743030f5": {
          "model_module": "@jupyter-widgets/base",
          "model_name": "LayoutModel",
          "state": {
            "_view_name": "LayoutView",
            "grid_template_rows": null,
            "right": null,
            "justify_content": null,
            "_view_module": "@jupyter-widgets/base",
            "overflow": null,
            "_model_module_version": "1.2.0",
            "_view_count": null,
            "flex_flow": null,
            "width": null,
            "min_width": null,
            "border": null,
            "align_items": null,
            "bottom": null,
            "_model_module": "@jupyter-widgets/base",
            "top": null,
            "grid_column": null,
            "overflow_y": null,
            "overflow_x": null,
            "grid_auto_flow": null,
            "grid_area": null,
            "grid_template_columns": null,
            "flex": null,
            "_model_name": "LayoutModel",
            "justify_items": null,
            "grid_row": null,
            "max_height": null,
            "align_content": null,
            "visibility": null,
            "align_self": null,
            "height": null,
            "min_height": null,
            "padding": null,
            "grid_auto_rows": null,
            "grid_gap": null,
            "max_width": null,
            "order": null,
            "_view_module_version": "1.2.0",
            "grid_template_areas": null,
            "object_position": null,
            "object_fit": null,
            "grid_auto_columns": null,
            "margin": null,
            "display": null,
            "left": null
          }
        },
        "b037ed4e4f3b4019930dbf781b744f60": {
          "model_module": "@jupyter-widgets/controls",
          "model_name": "TabModel",
          "state": {
            "_view_name": "TabView",
            "_dom_classes": [],
            "_titles": {
              "0": "Youtube",
              "1": "Bilibili"
            },
            "_model_name": "TabModel",
            "_view_module": "@jupyter-widgets/controls",
            "selected_index": 0,
            "_model_module_version": "1.5.0",
            "_view_count": null,
            "_view_module_version": "1.5.0",
            "box_style": "",
            "layout": "IPY_MODEL_ec433006504a440da40682ad80dd58fc",
            "_model_module": "@jupyter-widgets/controls",
            "children": [
              "IPY_MODEL_8e0c019f152643598248f5531b7e1034",
              "IPY_MODEL_5c726e78af07403b81761fcb572725fe"
            ]
          }
        },
        "ec433006504a440da40682ad80dd58fc": {
          "model_module": "@jupyter-widgets/base",
          "model_name": "LayoutModel",
          "state": {
            "_view_name": "LayoutView",
            "grid_template_rows": null,
            "right": null,
            "justify_content": null,
            "_view_module": "@jupyter-widgets/base",
            "overflow": null,
            "_model_module_version": "1.2.0",
            "_view_count": null,
            "flex_flow": null,
            "width": null,
            "min_width": null,
            "border": null,
            "align_items": null,
            "bottom": null,
            "_model_module": "@jupyter-widgets/base",
            "top": null,
            "grid_column": null,
            "overflow_y": null,
            "overflow_x": null,
            "grid_auto_flow": null,
            "grid_area": null,
            "grid_template_columns": null,
            "flex": null,
            "_model_name": "LayoutModel",
            "justify_items": null,
            "grid_row": null,
            "max_height": null,
            "align_content": null,
            "visibility": null,
            "align_self": null,
            "height": null,
            "min_height": null,
            "padding": null,
            "grid_auto_rows": null,
            "grid_gap": null,
            "max_width": null,
            "order": null,
            "_view_module_version": "1.2.0",
            "grid_template_areas": null,
            "object_position": null,
            "object_fit": null,
            "grid_auto_columns": null,
            "margin": null,
            "display": null,
            "left": null
          }
        },
        "8e0c019f152643598248f5531b7e1034": {
          "model_module": "@jupyter-widgets/output",
          "model_name": "OutputModel",
          "state": {
            "_view_name": "OutputView",
            "msg_id": "",
            "_dom_classes": [],
            "_model_name": "OutputModel",
            "outputs": [
              {
                "output_type": "stream",
                "metadata": {
                  "tags": []
                },
                "text": "Video available at https://youtube.com/watch?v=vsDjtWi-BVo\n",
                "stream": "stdout"
              },
              {
                "output_type": "display_data",
                "metadata": {
                  "tags": []
                },
                "text/html": "\n        <iframe\n            width=\"854\"\n            height=\"480\"\n            src=\"https://www.youtube.com/embed/vsDjtWi-BVo?fs=1&rel=0\"\n            frameborder=\"0\"\n            allowfullscreen\n        ></iframe>\n        ",
                "text/plain": "<IPython.lib.display.YouTubeVideo at 0x7fed711301d0>",
                "image/jpeg": "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\n"
              }
            ],
            "_view_module": "@jupyter-widgets/output",
            "_model_module_version": "1.0.0",
            "_view_count": null,
            "_view_module_version": "1.0.0",
            "layout": "IPY_MODEL_6e40651f846045c8b4bbda1c19e95d21",
            "_model_module": "@jupyter-widgets/output"
          }
        },
        "5c726e78af07403b81761fcb572725fe": {
          "model_module": "@jupyter-widgets/output",
          "model_name": "OutputModel",
          "state": {
            "_view_name": "OutputView",
            "msg_id": "",
            "_dom_classes": [],
            "_model_name": "OutputModel",
            "outputs": [
              {
                "output_type": "stream",
                "metadata": {
                  "tags": []
                },
                "text": "Video available at https://www.bilibili.com/video/\n",
                "stream": "stdout"
              },
              {
                "output_type": "display_data",
                "metadata": {
                  "tags": []
                },
                "text/html": "\n        <iframe\n            width=\"854\"\n            height=\"480\"\n            src=\"https://player.bilibili.com/player.html?bvid=&page=1?fs=1\"\n            frameborder=\"0\"\n            allowfullscreen\n        ></iframe>\n        ",
                "text/plain": "<__main__.BiliVideo at 0x7fed70dce510>"
              }
            ],
            "_view_module": "@jupyter-widgets/output",
            "_model_module_version": "1.0.0",
            "_view_count": null,
            "_view_module_version": "1.0.0",
            "layout": "IPY_MODEL_324fbc1a6eef4aac9207eec162228b0b",
            "_model_module": "@jupyter-widgets/output"
          }
        },
        "6e40651f846045c8b4bbda1c19e95d21": {
          "model_module": "@jupyter-widgets/base",
          "model_name": "LayoutModel",
          "state": {
            "_view_name": "LayoutView",
            "grid_template_rows": null,
            "right": null,
            "justify_content": null,
            "_view_module": "@jupyter-widgets/base",
            "overflow": null,
            "_model_module_version": "1.2.0",
            "_view_count": null,
            "flex_flow": null,
            "width": null,
            "min_width": null,
            "border": null,
            "align_items": null,
            "bottom": null,
            "_model_module": "@jupyter-widgets/base",
            "top": null,
            "grid_column": null,
            "overflow_y": null,
            "overflow_x": null,
            "grid_auto_flow": null,
            "grid_area": null,
            "grid_template_columns": null,
            "flex": null,
            "_model_name": "LayoutModel",
            "justify_items": null,
            "grid_row": null,
            "max_height": null,
            "align_content": null,
            "visibility": null,
            "align_self": null,
            "height": null,
            "min_height": null,
            "padding": null,
            "grid_auto_rows": null,
            "grid_gap": null,
            "max_width": null,
            "order": null,
            "_view_module_version": "1.2.0",
            "grid_template_areas": null,
            "object_position": null,
            "object_fit": null,
            "grid_auto_columns": null,
            "margin": null,
            "display": null,
            "left": null
          }
        },
        "324fbc1a6eef4aac9207eec162228b0b": {
          "model_module": "@jupyter-widgets/base",
          "model_name": "LayoutModel",
          "state": {
            "_view_name": "LayoutView",
            "grid_template_rows": null,
            "right": null,
            "justify_content": null,
            "_view_module": "@jupyter-widgets/base",
            "overflow": null,
            "_model_module_version": "1.2.0",
            "_view_count": null,
            "flex_flow": null,
            "width": null,
            "min_width": null,
            "border": null,
            "align_items": null,
            "bottom": null,
            "_model_module": "@jupyter-widgets/base",
            "top": null,
            "grid_column": null,
            "overflow_y": null,
            "overflow_x": null,
            "grid_auto_flow": null,
            "grid_area": null,
            "grid_template_columns": null,
            "flex": null,
            "_model_name": "LayoutModel",
            "justify_items": null,
            "grid_row": null,
            "max_height": null,
            "align_content": null,
            "visibility": null,
            "align_self": null,
            "height": null,
            "min_height": null,
            "padding": null,
            "grid_auto_rows": null,
            "grid_gap": null,
            "max_width": null,
            "order": null,
            "_view_module_version": "1.2.0",
            "grid_template_areas": null,
            "object_position": null,
            "object_fit": null,
            "grid_auto_columns": null,
            "margin": null,
            "display": null,
            "left": null
          }
        },
        "96e3b71a813b4ff4b33b171e4f4a9d94": {
          "model_module": "@jupyter-widgets/controls",
          "model_name": "VBoxModel",
          "state": {
            "_view_name": "VBoxView",
            "_dom_classes": [
              "widget-interact"
            ],
            "_model_name": "VBoxModel",
            "_view_module": "@jupyter-widgets/controls",
            "_model_module_version": "1.5.0",
            "_view_count": null,
            "_view_module_version": "1.5.0",
            "box_style": "",
            "layout": "IPY_MODEL_591ef447759b4415a62d26499a0db417",
            "_model_module": "@jupyter-widgets/controls",
            "children": [
              "IPY_MODEL_df3e915618614c46992a5c2f8e1f84de",
              "IPY_MODEL_ddf3bc7482654653826d296ed06454da",
              "IPY_MODEL_ac308b73d80045d08cc24a8b15922a86",
              "IPY_MODEL_fd070f58630544c2b475be1c9a9c8903"
            ]
          }
        },
        "591ef447759b4415a62d26499a0db417": {
          "model_module": "@jupyter-widgets/base",
          "model_name": "LayoutModel",
          "state": {
            "_view_name": "LayoutView",
            "grid_template_rows": null,
            "right": null,
            "justify_content": null,
            "_view_module": "@jupyter-widgets/base",
            "overflow": null,
            "_model_module_version": "1.2.0",
            "_view_count": null,
            "flex_flow": null,
            "width": null,
            "min_width": null,
            "border": null,
            "align_items": null,
            "bottom": null,
            "_model_module": "@jupyter-widgets/base",
            "top": null,
            "grid_column": null,
            "overflow_y": null,
            "overflow_x": null,
            "grid_auto_flow": null,
            "grid_area": null,
            "grid_template_columns": null,
            "flex": null,
            "_model_name": "LayoutModel",
            "justify_items": null,
            "grid_row": null,
            "max_height": null,
            "align_content": null,
            "visibility": null,
            "align_self": null,
            "height": null,
            "min_height": null,
            "padding": null,
            "grid_auto_rows": null,
            "grid_gap": null,
            "max_width": null,
            "order": null,
            "_view_module_version": "1.2.0",
            "grid_template_areas": null,
            "object_position": null,
            "object_fit": null,
            "grid_auto_columns": null,
            "margin": null,
            "display": null,
            "left": null
          }
        },
        "df3e915618614c46992a5c2f8e1f84de": {
          "model_module": "@jupyter-widgets/controls",
          "model_name": "FloatSliderModel",
          "state": {
            "_view_name": "FloatSliderView",
            "style": "IPY_MODEL_50b5e6af42b44346aa8e5d245600d715",
            "_dom_classes": [],
            "description": "p(color=golden)",
            "step": 0.01,
            "_model_name": "FloatSliderModel",
            "orientation": "horizontal",
            "max": 0.99,
            "_view_module": "@jupyter-widgets/controls",
            "_model_module_version": "1.5.0",
            "value": 0.16,
            "_view_count": null,
            "disabled": false,
            "_view_module_version": "1.5.0",
            "min": 0.01,
            "continuous_update": true,
            "readout_format": ".2f",
            "description_tooltip": null,
            "readout": true,
            "_model_module": "@jupyter-widgets/controls",
            "layout": "IPY_MODEL_ce9db2a8388e4e7687f499fd721eb846"
          }
        },
        "ddf3bc7482654653826d296ed06454da": {
          "model_module": "@jupyter-widgets/controls",
          "model_name": "FloatSliderModel",
          "state": {
            "_view_name": "FloatSliderView",
            "style": "IPY_MODEL_00b114ef11b14ff7836e098f97f25e37",
            "_dom_classes": [],
            "description": "p(size=large)",
            "step": 0.01,
            "_model_name": "FloatSliderModel",
            "orientation": "horizontal",
            "max": 0.99,
            "_view_module": "@jupyter-widgets/controls",
            "_model_module_version": "1.5.0",
            "value": 0.86,
            "_view_count": null,
            "disabled": false,
            "_view_module_version": "1.5.0",
            "min": 0.01,
            "continuous_update": true,
            "readout_format": ".2f",
            "description_tooltip": null,
            "readout": true,
            "_model_module": "@jupyter-widgets/controls",
            "layout": "IPY_MODEL_657d0686c4b64ac9b2a2ee4559a338f3"
          }
        },
        "ac308b73d80045d08cc24a8b15922a86": {
          "model_module": "@jupyter-widgets/controls",
          "model_name": "FloatSliderModel",
          "state": {
            "_view_name": "FloatSliderView",
            "style": "IPY_MODEL_2b314f7c71144434bfeef2c7e7c13e62",
            "_dom_classes": [],
            "description": "ρ",
            "step": 0.01,
            "_model_name": "FloatSliderModel",
            "orientation": "horizontal",
            "max": 0.1660901812651249,
            "_view_module": "@jupyter-widgets/controls",
            "_model_module_version": "1.5.0",
            "value": -0.18748,
            "_view_count": null,
            "disabled": false,
            "_view_module_version": "1.5.0",
            "min": -0.9144734516419053,
            "continuous_update": true,
            "readout_format": ".2f",
            "description_tooltip": null,
            "readout": true,
            "_model_module": "@jupyter-widgets/controls",
            "layout": "IPY_MODEL_461fb1dd560f4d0d99e1f321132d00a4"
          }
        },
        "fd070f58630544c2b475be1c9a9c8903": {
          "model_module": "@jupyter-widgets/output",
          "model_name": "OutputModel",
          "state": {
            "_view_name": "OutputView",
            "msg_id": "",
            "_dom_classes": [],
            "_model_name": "OutputModel",
            "outputs": [
              {
                "output_type": "display_data",
                "metadata": {
                  "tags": [],
                  "image/png": {
                    "width": 405,
                    "height": 364
                  },
                  "needs_background": "light"
                },
                "image/png": "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\n",
                "text/plain": "<Figure size 360x360 with 3 Axes>"
              }
            ],
            "_view_module": "@jupyter-widgets/output",
            "_model_module_version": "1.0.0",
            "_view_count": null,
            "_view_module_version": "1.0.0",
            "layout": "IPY_MODEL_ab377228be09412ea954c1d042001cb0",
            "_model_module": "@jupyter-widgets/output"
          }
        },
        "50b5e6af42b44346aa8e5d245600d715": {
          "model_module": "@jupyter-widgets/controls",
          "model_name": "SliderStyleModel",
          "state": {
            "_view_name": "StyleView",
            "handle_color": null,
            "_model_name": "SliderStyleModel",
            "description_width": "initial",
            "_view_module": "@jupyter-widgets/base",
            "_model_module_version": "1.5.0",
            "_view_count": null,
            "_view_module_version": "1.2.0",
            "_model_module": "@jupyter-widgets/controls"
          }
        },
        "ce9db2a8388e4e7687f499fd721eb846": {
          "model_module": "@jupyter-widgets/base",
          "model_name": "LayoutModel",
          "state": {
            "_view_name": "LayoutView",
            "grid_template_rows": null,
            "right": null,
            "justify_content": null,
            "_view_module": "@jupyter-widgets/base",
            "overflow": null,
            "_model_module_version": "1.2.0",
            "_view_count": null,
            "flex_flow": null,
            "width": null,
            "min_width": null,
            "border": null,
            "align_items": null,
            "bottom": null,
            "_model_module": "@jupyter-widgets/base",
            "top": null,
            "grid_column": null,
            "overflow_y": null,
            "overflow_x": null,
            "grid_auto_flow": null,
            "grid_area": "widget002",
            "grid_template_columns": null,
            "flex": null,
            "_model_name": "LayoutModel",
            "justify_items": null,
            "grid_row": null,
            "max_height": null,
            "align_content": null,
            "visibility": null,
            "align_self": null,
            "height": null,
            "min_height": null,
            "padding": null,
            "grid_auto_rows": null,
            "grid_gap": null,
            "max_width": null,
            "order": null,
            "_view_module_version": "1.2.0",
            "grid_template_areas": null,
            "object_position": null,
            "object_fit": null,
            "grid_auto_columns": null,
            "margin": null,
            "display": null,
            "left": null
          }
        },
        "00b114ef11b14ff7836e098f97f25e37": {
          "model_module": "@jupyter-widgets/controls",
          "model_name": "SliderStyleModel",
          "state": {
            "_view_name": "StyleView",
            "handle_color": null,
            "_model_name": "SliderStyleModel",
            "description_width": "initial",
            "_view_module": "@jupyter-widgets/base",
            "_model_module_version": "1.5.0",
            "_view_count": null,
            "_view_module_version": "1.2.0",
            "_model_module": "@jupyter-widgets/controls"
          }
        },
        "657d0686c4b64ac9b2a2ee4559a338f3": {
          "model_module": "@jupyter-widgets/base",
          "model_name": "LayoutModel",
          "state": {
            "_view_name": "LayoutView",
            "grid_template_rows": null,
            "right": null,
            "justify_content": null,
            "_view_module": "@jupyter-widgets/base",
            "overflow": null,
            "_model_module_version": "1.2.0",
            "_view_count": null,
            "flex_flow": null,
            "width": null,
            "min_width": null,
            "border": null,
            "align_items": null,
            "bottom": null,
            "_model_module": "@jupyter-widgets/base",
            "top": null,
            "grid_column": null,
            "overflow_y": null,
            "overflow_x": null,
            "grid_auto_flow": null,
            "grid_area": "widget003",
            "grid_template_columns": null,
            "flex": null,
            "_model_name": "LayoutModel",
            "justify_items": null,
            "grid_row": null,
            "max_height": null,
            "align_content": null,
            "visibility": null,
            "align_self": null,
            "height": null,
            "min_height": null,
            "padding": null,
            "grid_auto_rows": null,
            "grid_gap": null,
            "max_width": null,
            "order": null,
            "_view_module_version": "1.2.0",
            "grid_template_areas": null,
            "object_position": null,
            "object_fit": null,
            "grid_auto_columns": null,
            "margin": null,
            "display": null,
            "left": null
          }
        },
        "2b314f7c71144434bfeef2c7e7c13e62": {
          "model_module": "@jupyter-widgets/controls",
          "model_name": "SliderStyleModel",
          "state": {
            "_view_name": "StyleView",
            "handle_color": null,
            "_model_name": "SliderStyleModel",
            "description_width": "",
            "_view_module": "@jupyter-widgets/base",
            "_model_module_version": "1.5.0",
            "_view_count": null,
            "_view_module_version": "1.2.0",
            "_model_module": "@jupyter-widgets/controls"
          }
        },
        "461fb1dd560f4d0d99e1f321132d00a4": {
          "model_module": "@jupyter-widgets/base",
          "model_name": "LayoutModel",
          "state": {
            "_view_name": "LayoutView",
            "grid_template_rows": null,
            "right": null,
            "justify_content": null,
            "_view_module": "@jupyter-widgets/base",
            "overflow": null,
            "_model_module_version": "1.2.0",
            "_view_count": null,
            "flex_flow": null,
            "width": null,
            "min_width": null,
            "border": null,
            "align_items": null,
            "bottom": null,
            "_model_module": "@jupyter-widgets/base",
            "top": null,
            "grid_column": null,
            "overflow_y": null,
            "overflow_x": null,
            "grid_auto_flow": null,
            "grid_area": "widget001",
            "grid_template_columns": null,
            "flex": null,
            "_model_name": "LayoutModel",
            "justify_items": null,
            "grid_row": null,
            "max_height": null,
            "align_content": null,
            "visibility": null,
            "align_self": null,
            "height": null,
            "min_height": null,
            "padding": null,
            "grid_auto_rows": null,
            "grid_gap": null,
            "max_width": null,
            "order": null,
            "_view_module_version": "1.2.0",
            "grid_template_areas": null,
            "object_position": null,
            "object_fit": null,
            "grid_auto_columns": null,
            "margin": null,
            "display": null,
            "left": null
          }
        },
        "ab377228be09412ea954c1d042001cb0": {
          "model_module": "@jupyter-widgets/base",
          "model_name": "LayoutModel",
          "state": {
            "_view_name": "LayoutView",
            "grid_template_rows": null,
            "right": null,
            "justify_content": null,
            "_view_module": "@jupyter-widgets/base",
            "overflow": null,
            "_model_module_version": "1.2.0",
            "_view_count": null,
            "flex_flow": null,
            "width": null,
            "min_width": null,
            "border": null,
            "align_items": null,
            "bottom": null,
            "_model_module": "@jupyter-widgets/base",
            "top": null,
            "grid_column": null,
            "overflow_y": null,
            "overflow_x": null,
            "grid_auto_flow": null,
            "grid_area": null,
            "grid_template_columns": null,
            "flex": null,
            "_model_name": "LayoutModel",
            "justify_items": null,
            "grid_row": null,
            "max_height": null,
            "align_content": null,
            "visibility": null,
            "align_self": null,
            "height": null,
            "min_height": null,
            "padding": null,
            "grid_auto_rows": null,
            "grid_gap": null,
            "max_width": null,
            "order": null,
            "_view_module_version": "1.2.0",
            "grid_template_areas": null,
            "object_position": null,
            "object_fit": null,
            "grid_auto_columns": null,
            "margin": null,
            "display": null,
            "left": null
          }
        },
        "976532f2b3ef4c1ea9470a9672fd5788": {
          "model_module": "@jupyter-widgets/controls",
          "model_name": "VBoxModel",
          "state": {
            "_view_name": "VBoxView",
            "_dom_classes": [
              "widget-interact"
            ],
            "_model_name": "VBoxModel",
            "_view_module": "@jupyter-widgets/controls",
            "_model_module_version": "1.5.0",
            "_view_count": null,
            "_view_module_version": "1.5.0",
            "box_style": "",
            "layout": "IPY_MODEL_3440cb1b87a64ce58190dc1019896339",
            "_model_module": "@jupyter-widgets/controls",
            "children": [
              "IPY_MODEL_6b3ad7ecdc994c1c91b888a37859c2c4",
              "IPY_MODEL_c85456fb47c8421f9741c57d2d666411",
              "IPY_MODEL_8ade5bf9400b47f6a0b7a64edeecba8b",
              "IPY_MODEL_b03f75b1543d4fb98e5e70b3d52f400e",
              "IPY_MODEL_9645f96ddd9a4981acf59e86ebf50f7a"
            ]
          }
        },
        "3440cb1b87a64ce58190dc1019896339": {
          "model_module": "@jupyter-widgets/base",
          "model_name": "LayoutModel",
          "state": {
            "_view_name": "LayoutView",
            "grid_template_rows": null,
            "right": null,
            "justify_content": null,
            "_view_module": "@jupyter-widgets/base",
            "overflow": null,
            "_model_module_version": "1.2.0",
            "_view_count": null,
            "flex_flow": null,
            "width": null,
            "min_width": null,
            "border": null,
            "align_items": null,
            "bottom": null,
            "_model_module": "@jupyter-widgets/base",
            "top": null,
            "grid_column": null,
            "overflow_y": null,
            "overflow_x": null,
            "grid_auto_flow": null,
            "grid_area": null,
            "grid_template_columns": null,
            "flex": null,
            "_model_name": "LayoutModel",
            "justify_items": null,
            "grid_row": null,
            "max_height": null,
            "align_content": null,
            "visibility": null,
            "align_self": null,
            "height": null,
            "min_height": null,
            "padding": null,
            "grid_auto_rows": null,
            "grid_gap": null,
            "max_width": null,
            "order": null,
            "_view_module_version": "1.2.0",
            "grid_template_areas": null,
            "object_position": null,
            "object_fit": null,
            "grid_auto_columns": null,
            "margin": null,
            "display": null,
            "left": null
          }
        },
        "6b3ad7ecdc994c1c91b888a37859c2c4": {
          "model_module": "@jupyter-widgets/controls",
          "model_name": "FloatSliderModel",
          "state": {
            "_view_name": "FloatSliderView",
            "style": "IPY_MODEL_8b378ee091654543a0f1f0e37fdfccd9",
            "_dom_classes": [],
            "description": "p(s = left)",
            "step": 0.01,
            "_model_name": "FloatSliderModel",
            "orientation": "horizontal",
            "max": 0.99,
            "_view_module": "@jupyter-widgets/controls",
            "_model_module_version": "1.5.0",
            "value": 0.66,
            "_view_count": null,
            "disabled": false,
            "_view_module_version": "1.5.0",
            "min": 0.01,
            "continuous_update": true,
            "readout_format": ".2f",
            "description_tooltip": null,
            "readout": true,
            "_model_module": "@jupyter-widgets/controls",
            "layout": "IPY_MODEL_151b9c9abd4348c187a9ebd8b252a499"
          }
        },
        "c85456fb47c8421f9741c57d2d666411": {
          "model_module": "@jupyter-widgets/controls",
          "model_name": "FloatSliderModel",
          "state": {
            "_view_name": "FloatSliderView",
            "style": "IPY_MODEL_b17d77cfb29c4f22bcf367b608078d07",
            "_dom_classes": [],
            "description": "p(fish | s = left)",
            "step": 0.01,
            "_model_name": "FloatSliderModel",
            "orientation": "horizontal",
            "max": 0.99,
            "_view_module": "@jupyter-widgets/controls",
            "_model_module_version": "1.5.0",
            "value": 0.25,
            "_view_count": null,
            "disabled": false,
            "_view_module_version": "1.5.0",
            "min": 0.01,
            "continuous_update": true,
            "readout_format": ".2f",
            "description_tooltip": null,
            "readout": true,
            "_model_module": "@jupyter-widgets/controls",
            "layout": "IPY_MODEL_7464672eb618473bafb843eb78b8f31f"
          }
        },
        "8ade5bf9400b47f6a0b7a64edeecba8b": {
          "model_module": "@jupyter-widgets/controls",
          "model_name": "FloatSliderModel",
          "state": {
            "_view_name": "FloatSliderView",
            "style": "IPY_MODEL_7abfec46cf34493c9fd1a1ec8c424c78",
            "_dom_classes": [],
            "description": "p(fish | s = right)",
            "step": 0.01,
            "_model_name": "FloatSliderModel",
            "orientation": "horizontal",
            "max": 0.99,
            "_view_module": "@jupyter-widgets/controls",
            "_model_module_version": "1.5.0",
            "value": 0.71,
            "_view_count": null,
            "disabled": false,
            "_view_module_version": "1.5.0",
            "min": 0.01,
            "continuous_update": true,
            "readout_format": ".2f",
            "description_tooltip": null,
            "readout": true,
            "_model_module": "@jupyter-widgets/controls",
            "layout": "IPY_MODEL_3dde03a53ad74296ba5ca60dbeec0937"
          }
        },
        "b03f75b1543d4fb98e5e70b3d52f400e": {
          "model_module": "@jupyter-widgets/controls",
          "model_name": "CheckboxModel",
          "state": {
            "_view_name": "CheckboxView",
            "style": "IPY_MODEL_650bf113df38441e97409c6b481f9c4e",
            "_dom_classes": [],
            "description": "Observed fish (m)",
            "_model_name": "CheckboxModel",
            "_view_module": "@jupyter-widgets/controls",
            "_model_module_version": "1.5.0",
            "value": false,
            "_view_count": null,
            "disabled": false,
            "_view_module_version": "1.5.0",
            "indent": false,
            "description_tooltip": null,
            "_model_module": "@jupyter-widgets/controls",
            "layout": "IPY_MODEL_74ef4e47e8d246f68e9f2095ecaa4058"
          }
        },
        "9645f96ddd9a4981acf59e86ebf50f7a": {
          "model_module": "@jupyter-widgets/output",
          "model_name": "OutputModel",
          "state": {
            "_view_name": "OutputView",
            "msg_id": "",
            "_dom_classes": [],
            "_model_name": "OutputModel",
            "outputs": [
              {
                "output_type": "display_data",
                "metadata": {
                  "tags": [],
                  "image/png": {
                    "width": 677,
                    "height": 310
                  },
                  "needs_background": "light"
                },
                "image/png": "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\n",
                "text/plain": "<Figure size 720x288 with 3 Axes>"
              }
            ],
            "_view_module": "@jupyter-widgets/output",
            "_model_module_version": "1.0.0",
            "_view_count": null,
            "_view_module_version": "1.0.0",
            "layout": "IPY_MODEL_a698170d98084a808dcb0f9d44aae5f8",
            "_model_module": "@jupyter-widgets/output"
          }
        },
        "8b378ee091654543a0f1f0e37fdfccd9": {
          "model_module": "@jupyter-widgets/controls",
          "model_name": "SliderStyleModel",
          "state": {
            "_view_name": "StyleView",
            "handle_color": null,
            "_model_name": "SliderStyleModel",
            "description_width": "",
            "_view_module": "@jupyter-widgets/base",
            "_model_module_version": "1.5.0",
            "_view_count": null,
            "_view_module_version": "1.2.0",
            "_model_module": "@jupyter-widgets/controls"
          }
        },
        "151b9c9abd4348c187a9ebd8b252a499": {
          "model_module": "@jupyter-widgets/base",
          "model_name": "LayoutModel",
          "state": {
            "_view_name": "LayoutView",
            "grid_template_rows": null,
            "right": null,
            "justify_content": null,
            "_view_module": "@jupyter-widgets/base",
            "overflow": null,
            "_model_module_version": "1.2.0",
            "_view_count": null,
            "flex_flow": null,
            "width": null,
            "min_width": null,
            "border": null,
            "align_items": null,
            "bottom": null,
            "_model_module": "@jupyter-widgets/base",
            "top": null,
            "grid_column": null,
            "overflow_y": null,
            "overflow_x": null,
            "grid_auto_flow": null,
            "grid_area": null,
            "grid_template_columns": null,
            "flex": null,
            "_model_name": "LayoutModel",
            "justify_items": null,
            "grid_row": null,
            "max_height": null,
            "align_content": null,
            "visibility": null,
            "align_self": null,
            "height": null,
            "min_height": null,
            "padding": null,
            "grid_auto_rows": null,
            "grid_gap": null,
            "max_width": null,
            "order": null,
            "_view_module_version": "1.2.0",
            "grid_template_areas": null,
            "object_position": null,
            "object_fit": null,
            "grid_auto_columns": null,
            "margin": null,
            "display": null,
            "left": null
          }
        },
        "b17d77cfb29c4f22bcf367b608078d07": {
          "model_module": "@jupyter-widgets/controls",
          "model_name": "SliderStyleModel",
          "state": {
            "_view_name": "StyleView",
            "handle_color": null,
            "_model_name": "SliderStyleModel",
            "description_width": "initial",
            "_view_module": "@jupyter-widgets/base",
            "_model_module_version": "1.5.0",
            "_view_count": null,
            "_view_module_version": "1.2.0",
            "_model_module": "@jupyter-widgets/controls"
          }
        },
        "7464672eb618473bafb843eb78b8f31f": {
          "model_module": "@jupyter-widgets/base",
          "model_name": "LayoutModel",
          "state": {
            "_view_name": "LayoutView",
            "grid_template_rows": null,
            "right": null,
            "justify_content": null,
            "_view_module": "@jupyter-widgets/base",
            "overflow": null,
            "_model_module_version": "1.2.0",
            "_view_count": null,
            "flex_flow": null,
            "width": null,
            "min_width": null,
            "border": null,
            "align_items": null,
            "bottom": null,
            "_model_module": "@jupyter-widgets/base",
            "top": null,
            "grid_column": null,
            "overflow_y": null,
            "overflow_x": null,
            "grid_auto_flow": null,
            "grid_area": null,
            "grid_template_columns": null,
            "flex": null,
            "_model_name": "LayoutModel",
            "justify_items": null,
            "grid_row": null,
            "max_height": null,
            "align_content": null,
            "visibility": null,
            "align_self": null,
            "height": null,
            "min_height": null,
            "padding": null,
            "grid_auto_rows": null,
            "grid_gap": null,
            "max_width": null,
            "order": null,
            "_view_module_version": "1.2.0",
            "grid_template_areas": null,
            "object_position": null,
            "object_fit": null,
            "grid_auto_columns": null,
            "margin": null,
            "display": null,
            "left": null
          }
        },
        "7abfec46cf34493c9fd1a1ec8c424c78": {
          "model_module": "@jupyter-widgets/controls",
          "model_name": "SliderStyleModel",
          "state": {
            "_view_name": "StyleView",
            "handle_color": null,
            "_model_name": "SliderStyleModel",
            "description_width": "initial",
            "_view_module": "@jupyter-widgets/base",
            "_model_module_version": "1.5.0",
            "_view_count": null,
            "_view_module_version": "1.2.0",
            "_model_module": "@jupyter-widgets/controls"
          }
        },
        "3dde03a53ad74296ba5ca60dbeec0937": {
          "model_module": "@jupyter-widgets/base",
          "model_name": "LayoutModel",
          "state": {
            "_view_name": "LayoutView",
            "grid_template_rows": null,
            "right": null,
            "justify_content": null,
            "_view_module": "@jupyter-widgets/base",
            "overflow": null,
            "_model_module_version": "1.2.0",
            "_view_count": null,
            "flex_flow": null,
            "width": null,
            "min_width": null,
            "border": null,
            "align_items": null,
            "bottom": null,
            "_model_module": "@jupyter-widgets/base",
            "top": null,
            "grid_column": null,
            "overflow_y": null,
            "overflow_x": null,
            "grid_auto_flow": null,
            "grid_area": null,
            "grid_template_columns": null,
            "flex": null,
            "_model_name": "LayoutModel",
            "justify_items": null,
            "grid_row": null,
            "max_height": null,
            "align_content": null,
            "visibility": null,
            "align_self": null,
            "height": null,
            "min_height": null,
            "padding": null,
            "grid_auto_rows": null,
            "grid_gap": null,
            "max_width": null,
            "order": null,
            "_view_module_version": "1.2.0",
            "grid_template_areas": null,
            "object_position": null,
            "object_fit": null,
            "grid_auto_columns": null,
            "margin": null,
            "display": null,
            "left": null
          }
        },
        "650bf113df38441e97409c6b481f9c4e": {
          "model_module": "@jupyter-widgets/controls",
          "model_name": "DescriptionStyleModel",
          "state": {
            "_view_name": "StyleView",
            "_model_name": "DescriptionStyleModel",
            "description_width": "",
            "_view_module": "@jupyter-widgets/base",
            "_model_module_version": "1.5.0",
            "_view_count": null,
            "_view_module_version": "1.2.0",
            "_model_module": "@jupyter-widgets/controls"
          }
        },
        "74ef4e47e8d246f68e9f2095ecaa4058": {
          "model_module": "@jupyter-widgets/base",
          "model_name": "LayoutModel",
          "state": {
            "_view_name": "LayoutView",
            "grid_template_rows": null,
            "right": null,
            "justify_content": null,
            "_view_module": "@jupyter-widgets/base",
            "overflow": null,
            "_model_module_version": "1.2.0",
            "_view_count": null,
            "flex_flow": null,
            "width": "max-content",
            "min_width": null,
            "border": null,
            "align_items": null,
            "bottom": null,
            "_model_module": "@jupyter-widgets/base",
            "top": null,
            "grid_column": null,
            "overflow_y": null,
            "overflow_x": null,
            "grid_auto_flow": null,
            "grid_area": null,
            "grid_template_columns": null,
            "flex": null,
            "_model_name": "LayoutModel",
            "justify_items": null,
            "grid_row": null,
            "max_height": null,
            "align_content": null,
            "visibility": null,
            "align_self": null,
            "height": null,
            "min_height": null,
            "padding": null,
            "grid_auto_rows": null,
            "grid_gap": null,
            "max_width": null,
            "order": null,
            "_view_module_version": "1.2.0",
            "grid_template_areas": null,
            "object_position": null,
            "object_fit": null,
            "grid_auto_columns": null,
            "margin": null,
            "display": null,
            "left": null
          }
        },
        "a698170d98084a808dcb0f9d44aae5f8": {
          "model_module": "@jupyter-widgets/base",
          "model_name": "LayoutModel",
          "state": {
            "_view_name": "LayoutView",
            "grid_template_rows": null,
            "right": null,
            "justify_content": null,
            "_view_module": "@jupyter-widgets/base",
            "overflow": null,
            "_model_module_version": "1.2.0",
            "_view_count": null,
            "flex_flow": null,
            "width": null,
            "min_width": null,
            "border": null,
            "align_items": null,
            "bottom": null,
            "_model_module": "@jupyter-widgets/base",
            "top": null,
            "grid_column": null,
            "overflow_y": null,
            "overflow_x": null,
            "grid_auto_flow": null,
            "grid_area": null,
            "grid_template_columns": null,
            "flex": null,
            "_model_name": "LayoutModel",
            "justify_items": null,
            "grid_row": null,
            "max_height": null,
            "align_content": null,
            "visibility": null,
            "align_self": null,
            "height": null,
            "min_height": null,
            "padding": null,
            "grid_auto_rows": null,
            "grid_gap": null,
            "max_width": null,
            "order": null,
            "_view_module_version": "1.2.0",
            "grid_template_areas": null,
            "object_position": null,
            "object_fit": null,
            "grid_auto_columns": null,
            "margin": null,
            "display": null,
            "left": null
          }
        },
        "1d5fe6c038514e50ad363e71fc97cb03": {
          "model_module": "@jupyter-widgets/controls",
          "model_name": "VBoxModel",
          "state": {
            "_view_name": "VBoxView",
            "_dom_classes": [
              "widget-interact"
            ],
            "_model_name": "VBoxModel",
            "_view_module": "@jupyter-widgets/controls",
            "_model_module_version": "1.5.0",
            "_view_count": null,
            "_view_module_version": "1.5.0",
            "box_style": "",
            "layout": "IPY_MODEL_4ba9c155b5414a1a9c4ec83965ff678a",
            "_model_module": "@jupyter-widgets/controls",
            "children": [
              "IPY_MODEL_effa84f27404481d89ffad7917b68e21",
              "IPY_MODEL_10f9d9eabf314edea5b2cb73fcff229a",
              "IPY_MODEL_f5f487c6b6b7432b9fe3b726b13cf505",
              "IPY_MODEL_9d2052f889a6493299d463ea88834a6e",
              "IPY_MODEL_09ba23f2d42b439dba3b13b948084327"
            ]
          }
        },
        "4ba9c155b5414a1a9c4ec83965ff678a": {
          "model_module": "@jupyter-widgets/base",
          "model_name": "LayoutModel",
          "state": {
            "_view_name": "LayoutView",
            "grid_template_rows": null,
            "right": null,
            "justify_content": null,
            "_view_module": "@jupyter-widgets/base",
            "overflow": null,
            "_model_module_version": "1.2.0",
            "_view_count": null,
            "flex_flow": null,
            "width": null,
            "min_width": null,
            "border": null,
            "align_items": null,
            "bottom": null,
            "_model_module": "@jupyter-widgets/base",
            "top": null,
            "grid_column": null,
            "overflow_y": null,
            "overflow_x": null,
            "grid_auto_flow": null,
            "grid_area": null,
            "grid_template_columns": null,
            "flex": null,
            "_model_name": "LayoutModel",
            "justify_items": null,
            "grid_row": null,
            "max_height": null,
            "align_content": null,
            "visibility": null,
            "align_self": null,
            "height": null,
            "min_height": null,
            "padding": null,
            "grid_auto_rows": null,
            "grid_gap": null,
            "max_width": null,
            "order": null,
            "_view_module_version": "1.2.0",
            "grid_template_areas": null,
            "object_position": null,
            "object_fit": null,
            "grid_auto_columns": null,
            "margin": null,
            "display": null,
            "left": null
          }
        },
        "effa84f27404481d89ffad7917b68e21": {
          "model_module": "@jupyter-widgets/controls",
          "model_name": "FloatSliderModel",
          "state": {
            "_view_name": "FloatSliderView",
            "style": "IPY_MODEL_f5d651cbcd854b9993b029b88d5f94e2",
            "_dom_classes": [],
            "description": "p(s)",
            "step": 0.01,
            "_model_name": "FloatSliderModel",
            "orientation": "horizontal",
            "max": 0.99,
            "_view_module": "@jupyter-widgets/controls",
            "_model_module_version": "1.5.0",
            "value": 0.41,
            "_view_count": null,
            "disabled": false,
            "_view_module_version": "1.5.0",
            "min": 0.01,
            "continuous_update": true,
            "readout_format": ".2f",
            "description_tooltip": null,
            "readout": true,
            "_model_module": "@jupyter-widgets/controls",
            "layout": "IPY_MODEL_5e7895e20a2344f7a826d8cb043ad51e"
          }
        },
        "10f9d9eabf314edea5b2cb73fcff229a": {
          "model_module": "@jupyter-widgets/controls",
          "model_name": "FloatSliderModel",
          "state": {
            "_view_name": "FloatSliderView",
            "style": "IPY_MODEL_ec65418a43ec420db7d87fda5e967b6c",
            "_dom_classes": [],
            "description": "p(fish | s = left)",
            "step": 0.01,
            "_model_name": "FloatSliderModel",
            "orientation": "horizontal",
            "max": 0.99,
            "_view_module": "@jupyter-widgets/controls",
            "_model_module_version": "1.5.0",
            "value": 0.17,
            "_view_count": null,
            "disabled": false,
            "_view_module_version": "1.5.0",
            "min": 0.01,
            "continuous_update": true,
            "readout_format": ".2f",
            "description_tooltip": null,
            "readout": true,
            "_model_module": "@jupyter-widgets/controls",
            "layout": "IPY_MODEL_7b4ad466ab2443a69c28ad581255eea2"
          }
        },
        "f5f487c6b6b7432b9fe3b726b13cf505": {
          "model_module": "@jupyter-widgets/controls",
          "model_name": "FloatSliderModel",
          "state": {
            "_view_name": "FloatSliderView",
            "style": "IPY_MODEL_f8c8bd337dc94e129c4a66c96ff9ed62",
            "_dom_classes": [],
            "description": "p(fish | s = right)",
            "step": 0.01,
            "_model_name": "FloatSliderModel",
            "orientation": "horizontal",
            "max": 0.99,
            "_view_module": "@jupyter-widgets/controls",
            "_model_module_version": "1.5.0",
            "value": 0.36,
            "_view_count": null,
            "disabled": false,
            "_view_module_version": "1.5.0",
            "min": 0.01,
            "continuous_update": true,
            "readout_format": ".2f",
            "description_tooltip": null,
            "readout": true,
            "_model_module": "@jupyter-widgets/controls",
            "layout": "IPY_MODEL_6b6b41cc085b4f9b90109c4d0b2ebe3a"
          }
        },
        "9d2052f889a6493299d463ea88834a6e": {
          "model_module": "@jupyter-widgets/controls",
          "model_name": "CheckboxModel",
          "state": {
            "_view_name": "CheckboxView",
            "style": "IPY_MODEL_6e89b7147d1f4eaca34a5fd1200a02b2",
            "_dom_classes": [],
            "description": "Observed fish (m)",
            "_model_name": "CheckboxModel",
            "_view_module": "@jupyter-widgets/controls",
            "_model_module_version": "1.5.0",
            "value": false,
            "_view_count": null,
            "disabled": false,
            "_view_module_version": "1.5.0",
            "indent": false,
            "description_tooltip": null,
            "_model_module": "@jupyter-widgets/controls",
            "layout": "IPY_MODEL_5c5e9be7e57e4c8a890f675d1df51e30"
          }
        },
        "09ba23f2d42b439dba3b13b948084327": {
          "model_module": "@jupyter-widgets/output",
          "model_name": "OutputModel",
          "state": {
            "_view_name": "OutputView",
            "msg_id": "",
            "_dom_classes": [],
            "_model_name": "OutputModel",
            "outputs": [
              {
                "output_type": "display_data",
                "metadata": {
                  "tags": [],
                  "image/png": {
                    "width": 1079,
                    "height": 303
                  },
                  "needs_background": "light"
                },
                "image/png": "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\n",
                "text/plain": "<Figure size 1224x288 with 5 Axes>"
              }
            ],
            "_view_module": "@jupyter-widgets/output",
            "_model_module_version": "1.0.0",
            "_view_count": null,
            "_view_module_version": "1.0.0",
            "layout": "IPY_MODEL_c27822cfa4054d439082876b237d70d5",
            "_model_module": "@jupyter-widgets/output"
          }
        },
        "f5d651cbcd854b9993b029b88d5f94e2": {
          "model_module": "@jupyter-widgets/controls",
          "model_name": "SliderStyleModel",
          "state": {
            "_view_name": "StyleView",
            "handle_color": null,
            "_model_name": "SliderStyleModel",
            "description_width": "",
            "_view_module": "@jupyter-widgets/base",
            "_model_module_version": "1.5.0",
            "_view_count": null,
            "_view_module_version": "1.2.0",
            "_model_module": "@jupyter-widgets/controls"
          }
        },
        "5e7895e20a2344f7a826d8cb043ad51e": {
          "model_module": "@jupyter-widgets/base",
          "model_name": "LayoutModel",
          "state": {
            "_view_name": "LayoutView",
            "grid_template_rows": null,
            "right": null,
            "justify_content": null,
            "_view_module": "@jupyter-widgets/base",
            "overflow": null,
            "_model_module_version": "1.2.0",
            "_view_count": null,
            "flex_flow": null,
            "width": null,
            "min_width": null,
            "border": null,
            "align_items": null,
            "bottom": null,
            "_model_module": "@jupyter-widgets/base",
            "top": null,
            "grid_column": null,
            "overflow_y": null,
            "overflow_x": null,
            "grid_auto_flow": null,
            "grid_area": null,
            "grid_template_columns": null,
            "flex": null,
            "_model_name": "LayoutModel",
            "justify_items": null,
            "grid_row": null,
            "max_height": null,
            "align_content": null,
            "visibility": null,
            "align_self": null,
            "height": null,
            "min_height": null,
            "padding": null,
            "grid_auto_rows": null,
            "grid_gap": null,
            "max_width": null,
            "order": null,
            "_view_module_version": "1.2.0",
            "grid_template_areas": null,
            "object_position": null,
            "object_fit": null,
            "grid_auto_columns": null,
            "margin": null,
            "display": null,
            "left": null
          }
        },
        "ec65418a43ec420db7d87fda5e967b6c": {
          "model_module": "@jupyter-widgets/controls",
          "model_name": "SliderStyleModel",
          "state": {
            "_view_name": "StyleView",
            "handle_color": null,
            "_model_name": "SliderStyleModel",
            "description_width": "initial",
            "_view_module": "@jupyter-widgets/base",
            "_model_module_version": "1.5.0",
            "_view_count": null,
            "_view_module_version": "1.2.0",
            "_model_module": "@jupyter-widgets/controls"
          }
        },
        "7b4ad466ab2443a69c28ad581255eea2": {
          "model_module": "@jupyter-widgets/base",
          "model_name": "LayoutModel",
          "state": {
            "_view_name": "LayoutView",
            "grid_template_rows": null,
            "right": null,
            "justify_content": null,
            "_view_module": "@jupyter-widgets/base",
            "overflow": null,
            "_model_module_version": "1.2.0",
            "_view_count": null,
            "flex_flow": null,
            "width": null,
            "min_width": null,
            "border": null,
            "align_items": null,
            "bottom": null,
            "_model_module": "@jupyter-widgets/base",
            "top": null,
            "grid_column": null,
            "overflow_y": null,
            "overflow_x": null,
            "grid_auto_flow": null,
            "grid_area": null,
            "grid_template_columns": null,
            "flex": null,
            "_model_name": "LayoutModel",
            "justify_items": null,
            "grid_row": null,
            "max_height": null,
            "align_content": null,
            "visibility": null,
            "align_self": null,
            "height": null,
            "min_height": null,
            "padding": null,
            "grid_auto_rows": null,
            "grid_gap": null,
            "max_width": null,
            "order": null,
            "_view_module_version": "1.2.0",
            "grid_template_areas": null,
            "object_position": null,
            "object_fit": null,
            "grid_auto_columns": null,
            "margin": null,
            "display": null,
            "left": null
          }
        },
        "f8c8bd337dc94e129c4a66c96ff9ed62": {
          "model_module": "@jupyter-widgets/controls",
          "model_name": "SliderStyleModel",
          "state": {
            "_view_name": "StyleView",
            "handle_color": null,
            "_model_name": "SliderStyleModel",
            "description_width": "initial",
            "_view_module": "@jupyter-widgets/base",
            "_model_module_version": "1.5.0",
            "_view_count": null,
            "_view_module_version": "1.2.0",
            "_model_module": "@jupyter-widgets/controls"
          }
        },
        "6b6b41cc085b4f9b90109c4d0b2ebe3a": {
          "model_module": "@jupyter-widgets/base",
          "model_name": "LayoutModel",
          "state": {
            "_view_name": "LayoutView",
            "grid_template_rows": null,
            "right": null,
            "justify_content": null,
            "_view_module": "@jupyter-widgets/base",
            "overflow": null,
            "_model_module_version": "1.2.0",
            "_view_count": null,
            "flex_flow": null,
            "width": null,
            "min_width": null,
            "border": null,
            "align_items": null,
            "bottom": null,
            "_model_module": "@jupyter-widgets/base",
            "top": null,
            "grid_column": null,
            "overflow_y": null,
            "overflow_x": null,
            "grid_auto_flow": null,
            "grid_area": null,
            "grid_template_columns": null,
            "flex": null,
            "_model_name": "LayoutModel",
            "justify_items": null,
            "grid_row": null,
            "max_height": null,
            "align_content": null,
            "visibility": null,
            "align_self": null,
            "height": null,
            "min_height": null,
            "padding": null,
            "grid_auto_rows": null,
            "grid_gap": null,
            "max_width": null,
            "order": null,
            "_view_module_version": "1.2.0",
            "grid_template_areas": null,
            "object_position": null,
            "object_fit": null,
            "grid_auto_columns": null,
            "margin": null,
            "display": null,
            "left": null
          }
        },
        "6e89b7147d1f4eaca34a5fd1200a02b2": {
          "model_module": "@jupyter-widgets/controls",
          "model_name": "DescriptionStyleModel",
          "state": {
            "_view_name": "StyleView",
            "_model_name": "DescriptionStyleModel",
            "description_width": "",
            "_view_module": "@jupyter-widgets/base",
            "_model_module_version": "1.5.0",
            "_view_count": null,
            "_view_module_version": "1.2.0",
            "_model_module": "@jupyter-widgets/controls"
          }
        },
        "5c5e9be7e57e4c8a890f675d1df51e30": {
          "model_module": "@jupyter-widgets/base",
          "model_name": "LayoutModel",
          "state": {
            "_view_name": "LayoutView",
            "grid_template_rows": null,
            "right": null,
            "justify_content": null,
            "_view_module": "@jupyter-widgets/base",
            "overflow": null,
            "_model_module_version": "1.2.0",
            "_view_count": null,
            "flex_flow": null,
            "width": "max-content",
            "min_width": null,
            "border": null,
            "align_items": null,
            "bottom": null,
            "_model_module": "@jupyter-widgets/base",
            "top": null,
            "grid_column": null,
            "overflow_y": null,
            "overflow_x": null,
            "grid_auto_flow": null,
            "grid_area": null,
            "grid_template_columns": null,
            "flex": null,
            "_model_name": "LayoutModel",
            "justify_items": null,
            "grid_row": null,
            "max_height": null,
            "align_content": null,
            "visibility": null,
            "align_self": null,
            "height": null,
            "min_height": null,
            "padding": null,
            "grid_auto_rows": null,
            "grid_gap": null,
            "max_width": null,
            "order": null,
            "_view_module_version": "1.2.0",
            "grid_template_areas": null,
            "object_position": null,
            "object_fit": null,
            "grid_auto_columns": null,
            "margin": null,
            "display": null,
            "left": null
          }
        },
        "c27822cfa4054d439082876b237d70d5": {
          "model_module": "@jupyter-widgets/base",
          "model_name": "LayoutModel",
          "state": {
            "_view_name": "LayoutView",
            "grid_template_rows": null,
            "right": null,
            "justify_content": null,
            "_view_module": "@jupyter-widgets/base",
            "overflow": null,
            "_model_module_version": "1.2.0",
            "_view_count": null,
            "flex_flow": null,
            "width": null,
            "min_width": null,
            "border": null,
            "align_items": null,
            "bottom": null,
            "_model_module": "@jupyter-widgets/base",
            "top": null,
            "grid_column": null,
            "overflow_y": null,
            "overflow_x": null,
            "grid_auto_flow": null,
            "grid_area": null,
            "grid_template_columns": null,
            "flex": null,
            "_model_name": "LayoutModel",
            "justify_items": null,
            "grid_row": null,
            "max_height": null,
            "align_content": null,
            "visibility": null,
            "align_self": null,
            "height": null,
            "min_height": null,
            "padding": null,
            "grid_auto_rows": null,
            "grid_gap": null,
            "max_width": null,
            "order": null,
            "_view_module_version": "1.2.0",
            "grid_template_areas": null,
            "object_position": null,
            "object_fit": null,
            "grid_auto_columns": null,
            "margin": null,
            "display": null,
            "left": null
          }
        }
      }
    }
  },
  "cells": [
    {
      "cell_type": "markdown",
      "metadata": {
        "id": "view-in-github",
        "colab_type": "text"
      },
      "source": [
        "<a href=\"https://colab.research.google.com/github/drewwint/neuromatch-2021/blob/main/tutorials/W3D1_BayesianDecisions/student/W3D1_Tutorial1.ipynb\" target=\"_parent\"><img src=\"https://colab.research.google.com/assets/colab-badge.svg\" alt=\"Open In Colab\"/></a>"
      ]
    },
    {
      "cell_type": "markdown",
      "metadata": {
        "id": "eiMXhnd15smk"
      },
      "source": [
        "# Tutorial 1: Bayes with a binary hidden state\n",
        "**Week 3, Day 1: Bayesian Decisions**\n",
        "\n",
        "**By Neuromatch Academy**\n",
        "\n",
        "__Content creators:__ [insert your name here]\n",
        "\n",
        "__Content reviewers:__ "
      ]
    },
    {
      "cell_type": "markdown",
      "metadata": {
        "id": "L6-WgCNi5smp"
      },
      "source": [
        "# Tutorial Objectives\n",
        "This is the first in a series of two core tutorials on Bayesian statistics. In these tutorials, we will explore the fundemental concepts of the Bayesian approach from two perspectives. This tutorial will work through an example of Bayesian inference and decision making using a binary hidden state. The second main tutorial extends these concepts to a continuous hidden state. In the next days, each of these basic ideas will be extended--first through time as we consider what happens when we infere a hidden state using multiple observations and when the hidden state changes across time. In the third day, we will introduce the notion of how to use inference and decisions to select actions for optimal control. For this tutorial, you will be introduced to our binary state fishing problem!\n",
        "\n",
        "This notebook will introduce the fundamental building blocks for Bayesian statistics: \n",
        "\n",
        "1. How do we use probability distributions to represent hidden states?\n",
        "2. How does marginalization work and how can we use it?\n",
        "3. How do we combine new information with our prior knowledge?\n",
        "4. How do we combine the possible loss (or gain) for making a decision with our probabilitic knowledge?\n"
      ]
    },
    {
      "cell_type": "code",
      "metadata": {
        "cellView": "form",
        "execution": {
          "iopub.execute_input": "2021-06-25T15:15:26.250647Z",
          "iopub.status.busy": "2021-06-25T15:15:26.250126Z",
          "iopub.status.idle": "2021-06-25T15:15:26.382494Z",
          "shell.execute_reply": "2021-06-25T15:15:26.381532Z"
        },
        "id": "DaONGVcf5smr",
        "outputId": "24ab40ab-7222-407e-971c-c2a61a25a905",
        "colab": {
          "base_uri": "https://localhost:8080/",
          "height": 581,
          "referenced_widgets": [
            "ff323cbca40c462499f4e80d079f72f2",
            "a0753fe4a1da45c3a6e069b23594a607",
            "78a5baf3748a40faa5770fbc8eb9cf62",
            "1aa3e55bf31b4461a4d51525b8274e6a",
            "eb6895d2dd4c48179ef644cf956ed6c3",
            "7d3c172eb2d947419a17059924760204"
          ]
        }
      },
      "source": [
        "# @title Video 1: Introduction to Bayesian Statistics\n",
        "from ipywidgets import widgets\n",
        "\n",
        "out2 = widgets.Output()\n",
        "with out2:\n",
        "  from IPython.display import IFrame\n",
        "  class BiliVideo(IFrame):\n",
        "      def __init__(self, id, page=1, width=400, height=300, **kwargs):\n",
        "          self.id=id\n",
        "          src = 'https://player.bilibili.com/player.html?bvid={0}&page={1}'.format(id, page)\n",
        "          super(BiliVideo, self).__init__(src, width, height, **kwargs)\n",
        "\n",
        "  video = BiliVideo(id=\"\", width=854, height=480, fs=1)\n",
        "  print('Video available at https://www.bilibili.com/video/{0}'.format(video.id))\n",
        "  display(video)\n",
        "\n",
        "out1 = widgets.Output()\n",
        "with out1:\n",
        "  from IPython.display import YouTubeVideo\n",
        "  video = YouTubeVideo(id=\"JiEIn9QsrFg\", width=854, height=480, fs=1, rel=0)\n",
        "  print('Video available at https://youtube.com/watch?v=' + video.id)\n",
        "  display(video)\n",
        "\n",
        "out = widgets.Tab([out1, out2])\n",
        "out.set_title(0, 'Youtube')\n",
        "out.set_title(1, 'Bilibili')\n",
        "\n",
        "display(out)"
      ],
      "execution_count": 1,
      "outputs": [
        {
          "output_type": "display_data",
          "data": {
            "application/vnd.jupyter.widget-view+json": {
              "model_id": "ff323cbca40c462499f4e80d079f72f2",
              "version_minor": 0,
              "version_major": 2
            },
            "text/plain": [
              "Tab(children=(Output(), Output()), _titles={'0': 'Youtube', '1': 'Bilibili'})"
            ]
          },
          "metadata": {
            "tags": []
          }
        }
      ]
    },
    {
      "cell_type": "markdown",
      "metadata": {
        "id": "JRfyQIyh5smt"
      },
      "source": [
        "## Setup  \n",
        "Please execute the cells below to initialize the notebook environment."
      ]
    },
    {
      "cell_type": "code",
      "metadata": {
        "execution": {
          "iopub.execute_input": "2021-06-25T15:15:26.396114Z",
          "iopub.status.busy": "2021-06-25T15:15:26.395542Z",
          "iopub.status.idle": "2021-06-25T15:15:26.779072Z",
          "shell.execute_reply": "2021-06-25T15:15:26.779955Z"
        },
        "id": "vioVoHXo5smt"
      },
      "source": [
        "import numpy as np\n",
        "import matplotlib.pyplot as plt\n",
        "from matplotlib import patches\n",
        "from matplotlib import transforms\n",
        "from matplotlib import gridspec\n",
        "from scipy.optimize import fsolve\n",
        "\n",
        "from collections import namedtuple"
      ],
      "execution_count": 3,
      "outputs": []
    },
    {
      "cell_type": "code",
      "metadata": {
        "cellView": "form",
        "execution": {
          "iopub.execute_input": "2021-06-25T15:15:26.783374Z",
          "iopub.status.busy": "2021-06-25T15:15:26.782267Z",
          "iopub.status.idle": "2021-06-25T15:15:26.826729Z",
          "shell.execute_reply": "2021-06-25T15:15:26.827529Z"
        },
        "id": "IbWWDWUl5smu"
      },
      "source": [
        "#@title Figure Settings\n",
        "import ipywidgets as widgets       # interactive display\n",
        "from ipywidgets import GridspecLayout\n",
        "from IPython.display import clear_output\n",
        "%config InlineBackend.figure_format = 'retina'\n",
        "plt.style.use(\"https://raw.githubusercontent.com/NeuromatchAcademy/course-content/master/nma.mplstyle\")\n",
        "\n",
        "import warnings\n",
        "warnings.filterwarnings(\"ignore\")"
      ],
      "execution_count": 4,
      "outputs": []
    },
    {
      "cell_type": "code",
      "metadata": {
        "cellView": "form",
        "execution": {
          "iopub.execute_input": "2021-06-25T15:15:26.831991Z",
          "iopub.status.busy": "2021-06-25T15:15:26.830372Z",
          "iopub.status.idle": "2021-06-25T15:15:26.901682Z",
          "shell.execute_reply": "2021-06-25T15:15:26.901183Z"
        },
        "id": "hxaci_AC5smv"
      },
      "source": [
        "# @title Plotting Functions\n",
        "\n",
        "def plot_joint_probs(P, ):\n",
        "    assert np.all(P >= 0), \"probabilities should be >= 0\"\n",
        "    # normalize if not\n",
        "    P = P / np.sum(P)\n",
        "    marginal_y = np.sum(P,axis=1)\n",
        "    marginal_x = np.sum(P,axis=0)\n",
        "\n",
        "    # definitions for the axes\n",
        "    left, width = 0.1, 0.65\n",
        "    bottom, height = 0.1, 0.65\n",
        "    spacing = 0.005\n",
        "\n",
        "    # start with a square Figure\n",
        "    fig = plt.figure(figsize=(5, 5))\n",
        "\n",
        "    joint_prob = [left, bottom, width, height]\n",
        "    rect_histx = [left, bottom + height + spacing, width, 0.2]\n",
        "    rect_histy = [left + width + spacing, bottom, 0.2, height]\n",
        "\n",
        "    rect_x_cmap = plt.cm.Blues\n",
        "    rect_y_cmap = plt.cm.Reds\n",
        "\n",
        "    # Show joint probs and marginals\n",
        "    ax = fig.add_axes(joint_prob)\n",
        "    ax_x = fig.add_axes(rect_histx, sharex=ax)\n",
        "    ax_y = fig.add_axes(rect_histy, sharey=ax)\n",
        "\n",
        "    # Show joint probs and marginals\n",
        "    ax.matshow(P,vmin=0., vmax=1., cmap='Greys')\n",
        "    ax_x.bar(0, marginal_x[0], facecolor=rect_x_cmap(marginal_x[0]))\n",
        "    ax_x.bar(1, marginal_x[1], facecolor=rect_x_cmap(marginal_x[1]))\n",
        "    ax_y.barh(0, marginal_y[0], facecolor=rect_y_cmap(marginal_y[0]))\n",
        "    ax_y.barh(1, marginal_y[1], facecolor=rect_y_cmap(marginal_y[1]))\n",
        "    # set limits\n",
        "    ax_x.set_ylim([0,1])\n",
        "    ax_y.set_xlim([0,1])\n",
        "\n",
        "    # show values\n",
        "    ind = np.arange(2)\n",
        "    x,y = np.meshgrid(ind,ind)\n",
        "    for i,j in zip(x.flatten(), y.flatten()):\n",
        "        c = f\"{P[i,j]:.2f}\"\n",
        "        ax.text(j,i, c, va='center', ha='center', color='black')\n",
        "    for i in ind:\n",
        "        v = marginal_x[i]\n",
        "        c = f\"{v:.2f}\"\n",
        "        ax_x.text(i, v +0.1, c, va='center', ha='center', color='black')\n",
        "        v = marginal_y[i]\n",
        "        c = f\"{v:.2f}\"\n",
        "        ax_y.text(v+0.2, i, c, va='center', ha='center', color='black')\n",
        "\n",
        "    # set up labels\n",
        "    ax.xaxis.tick_bottom()\n",
        "    ax.yaxis.tick_left()\n",
        "    ax.set_xticks([0,1])\n",
        "    ax.set_yticks([0,1])\n",
        "    ax.set_xticklabels(['Silver','Gold'])\n",
        "    ax.set_yticklabels(['Small', 'Large'])\n",
        "    ax.set_xlabel('color')\n",
        "    ax.set_ylabel('size')\n",
        "    ax_x.axis('off')\n",
        "    ax_y.axis('off')\n",
        "    return fig\n",
        "# test\n",
        "# P = np.random.rand(2,2)\n",
        "# P = np.asarray([[0.9, 0.8], [0.4, 0.1]])\n",
        "# P = P / np.sum(P)\n",
        "# fig = plot_joint_probs(P)\n",
        "# plt.show(fig)\n",
        "# plt.close(fig)\n",
        "\n",
        "\n",
        "# fig = plot_prior_likelihood(0.5, 0.3)\n",
        "# plt.show(fig)\n",
        "# plt.close(fig)\n",
        "\n",
        "\n",
        "def plot_prior_likelihood_posterior(prior, likelihood, posterior):\n",
        "\n",
        "    # definitions for the axes\n",
        "    left, width = 0.05, 0.3\n",
        "    bottom, height = 0.05, 0.9\n",
        "    padding = 0.1\n",
        "    small_width = 0.1\n",
        "    left_space = left + small_width + padding\n",
        "    added_space = padding + width\n",
        "\n",
        "    fig = plt.figure(figsize=(10, 4))\n",
        "\n",
        "    rect_prior = [left, bottom, small_width, height]\n",
        "    rect_likelihood = [left_space , bottom , width, height]\n",
        "    rect_posterior = [left_space +  added_space, bottom , width, height]\n",
        "\n",
        "    ax_prior = fig.add_axes(rect_prior)\n",
        "    ax_likelihood = fig.add_axes(rect_likelihood, sharey=ax_prior)\n",
        "    ax_posterior = fig.add_axes(rect_posterior, sharey = ax_prior)\n",
        "\n",
        "    rect_colormap = plt.cm.Blues\n",
        "\n",
        "    # Show posterior probs and marginals\n",
        "    ax_prior.barh(0, prior[0], facecolor = rect_colormap(prior[0, 0]))\n",
        "    ax_prior.barh(1, prior[1], facecolor = rect_colormap(prior[1, 0]))\n",
        "    ax_likelihood.matshow(likelihood, vmin=0., vmax=1., cmap='Reds')\n",
        "    ax_posterior.matshow(posterior, vmin=0., vmax=1., cmap='Greens')\n",
        "\n",
        "\n",
        "    # Probabilities plot details\n",
        "    ax_prior.set(xlim = [1, 0], yticks = [0, 1], yticklabels = ['left', 'right'],\n",
        "                 ylabel = 'state (s)', title = \"Prior p(s)\")\n",
        "    ax_prior.axis('off')\n",
        "\n",
        "    # Likelihood plot details\n",
        "    ax_likelihood.set(xticks = [0, 1], xticklabels = ['fish', 'no fish'],\n",
        "                  yticks = [0, 1], yticklabels = ['left', 'right'],\n",
        "                   ylabel = 'state (s)', xlabel = 'measurement (m)',\n",
        "                   title = 'Likelihood p(m (right) | s)')\n",
        "    ax_likelihood.xaxis.set_ticks_position('bottom')\n",
        "    ax_likelihood.spines['left'].set_visible(False)\n",
        "    ax_likelihood.spines['bottom'].set_visible(False)\n",
        "\n",
        "    # Posterior plot details\n",
        "\n",
        "    ax_posterior.set(xticks = [0, 1], xticklabels = ['fish', 'no fish'],\n",
        "                  yticks = [0, 1], yticklabels = ['left', 'right'],\n",
        "                   ylabel = 'state (s)', xlabel = 'measurement (m)',\n",
        "                   title = 'Posterior p(s | m)')\n",
        "    ax_posterior.xaxis.set_ticks_position('bottom')\n",
        "    ax_posterior.spines['left'].set_visible(False)\n",
        "    ax_posterior.spines['bottom'].set_visible(False)\n",
        "\n",
        "\n",
        "    # show values\n",
        "    ind = np.arange(2)\n",
        "    x,y = np.meshgrid(ind,ind)\n",
        "    for i,j in zip(x.flatten(), y.flatten()):\n",
        "        c = f\"{posterior[i,j]:.2f}\"\n",
        "        ax_posterior.text(j,i, c, va='center', ha='center', color='black')\n",
        "    for i,j in zip(x.flatten(), y.flatten()):\n",
        "        c = f\"{likelihood[i,j]:.2f}\"\n",
        "        ax_likelihood.text(j,i, c, va='center', ha='center', color='black')\n",
        "    for i in ind:\n",
        "        v = prior[i, 0]\n",
        "        c = f\"{v:.2f}\"\n",
        "        ax_prior.text(v+0.2, i, c, va='center', ha='center', color='black')\n",
        "\n",
        "\n",
        "def plot_prior_likelihood(ps, p_a_s1, p_a_s0, measurement):\n",
        "    likelihood = np.asarray([[p_a_s1, 1-p_a_s1],[p_a_s0, 1-p_a_s0]])\n",
        "    assert 0.0 <= ps <= 1.0\n",
        "    prior = np.asarray([ps, 1 - ps])\n",
        "    if measurement:\n",
        "        posterior = likelihood[:, 0] * prior\n",
        "    else:\n",
        "        posterior = (likelihood[:, 1] * prior).reshape(-1)\n",
        "    posterior /= np.sum(posterior)\n",
        "\n",
        "    # definitions for the axes\n",
        "    left, width = 0.05, 0.3\n",
        "    bottom, height = 0.05, 0.9\n",
        "    padding = 0.1\n",
        "    small_width = 0.22\n",
        "    left_space = left + small_width + padding\n",
        "    small_padding = 0.05\n",
        "\n",
        "    fig = plt.figure(figsize=(10, 4))\n",
        "\n",
        "    rect_prior = [left, bottom, small_width, height]\n",
        "    rect_likelihood = [left_space , bottom , width, height]\n",
        "    rect_posterior = [left_space + width + small_padding, bottom , small_width, height]\n",
        "\n",
        "    ax_prior = fig.add_axes(rect_prior)\n",
        "    ax_likelihood = fig.add_axes(rect_likelihood, sharey=ax_prior)\n",
        "    ax_posterior = fig.add_axes(rect_posterior, sharey=ax_prior)\n",
        "\n",
        "    prior_colormap = plt.cm.Blues\n",
        "    posterior_colormap = plt.cm.Greens\n",
        "\n",
        "    # Show posterior probs and marginals\n",
        "    ax_prior.barh(0, prior[0], facecolor = prior_colormap(prior[0]))\n",
        "    ax_prior.barh(1, prior[1], facecolor = prior_colormap(prior[1]))\n",
        "    ax_likelihood.matshow(likelihood, vmin=0., vmax=1., cmap='Reds')\n",
        "    # ax_posterior.matshow(posterior, vmin=0., vmax=1., cmap='')\n",
        "    ax_posterior.barh(0, posterior[0], facecolor = posterior_colormap(posterior[0]))\n",
        "    ax_posterior.barh(1, posterior[1], facecolor = posterior_colormap(posterior[1]))\n",
        "\n",
        "    # Probabilities plot details\n",
        "    ax_prior.set(xlim = [1, 0], yticks = [0, 1], yticklabels = ['left', 'right'],\n",
        "                 ylabel = 'state (s)', title = \"Prior p(s)\")\n",
        "    ax_prior.axis('off')\n",
        "\n",
        "    # Likelihood plot details\n",
        "    ax_likelihood.set(xticks = [0, 1], xticklabels = ['fish', 'no fish'],\n",
        "                  yticks = [0, 1], yticklabels = ['left', 'right'],\n",
        "                   ylabel = 'state (s)', xlabel = 'measurement (m)',\n",
        "                   title = 'Likelihood p(m | s)')\n",
        "    ax_likelihood.xaxis.set_ticks_position('bottom')\n",
        "    ax_likelihood.spines['left'].set_visible(False)\n",
        "    ax_likelihood.spines['bottom'].set_visible(False)\n",
        "\n",
        "    # Posterior plot details\n",
        "    ax_posterior.set(xlim = [0, 1], yticks = [0, 1], yticklabels = ['left', 'right'],\n",
        "                 ylabel = 'state (s)', title = \"Posterior p(s | m)\")\n",
        "    ax_posterior.axis('off')\n",
        "    # ax_posterior.set(xticks = [0, 1], xticklabels = ['fish', 'no fish'],\n",
        "    #               yticks = [0, 1], yticklabels = ['left', 'right'],\n",
        "    #                ylabel = 'state (s)', xlabel = 'measurement (m)',\n",
        "    #                title = 'Posterior p(s | m)')\n",
        "    # ax_posterior.xaxis.set_ticks_position('bottom')\n",
        "    # ax_posterior.spines['left'].set_visible(False)\n",
        "    # ax_posterior.spines['bottom'].set_visible(False)\n",
        "\n",
        "\n",
        "    # show values\n",
        "    ind = np.arange(2)\n",
        "    x,y = np.meshgrid(ind,ind)\n",
        "    # for i,j in zip(x.flatten(), y.flatten()):\n",
        "    #     c = f\"{posterior[i,j]:.2f}\"\n",
        "    #     ax_posterior.text(j,i, c, va='center', ha='center', color='black')\n",
        "    for i in ind:\n",
        "        v = posterior[i]\n",
        "        c = f\"{v:.2f}\"\n",
        "        ax_posterior.text(v+0.2, i, c, va='center', ha='center', color='black')\n",
        "    for i,j in zip(x.flatten(), y.flatten()):\n",
        "        c = f\"{likelihood[i,j]:.2f}\"\n",
        "        ax_likelihood.text(j,i, c, va='center', ha='center', color='black')\n",
        "    for i in ind:\n",
        "        v = prior[i]\n",
        "        c = f\"{v:.2f}\"\n",
        "        ax_prior.text(v+0.2, i, c, va='center', ha='center', color='black')\n",
        "    return fig\n",
        "\n",
        "# fig = plot_prior_likelihood(0.5, 0.3)\n",
        "# plt.show(fig)\n",
        "# plt.close(fig)\n",
        "\n",
        "\n",
        "from matplotlib import colors\n",
        "def plot_utility(ps):\n",
        "    prior = np.asarray([ps, 1 - ps])\n",
        "\n",
        "    utility = np.array([[2, -3], [-2, 1]])\n",
        "\n",
        "    expected = prior @ utility\n",
        "\n",
        "    # definitions for the axes\n",
        "    left, width = 0.05, 0.16\n",
        "    bottom, height = 0.05, 0.9\n",
        "    padding = 0.04\n",
        "    small_width = 0.1\n",
        "    left_space = left + small_width + padding\n",
        "    added_space = padding + width\n",
        "\n",
        "    fig = plt.figure(figsize=(17, 3))\n",
        "\n",
        "    rect_prior = [left, bottom, small_width, height]\n",
        "    rect_utility = [left + added_space , bottom , width, height]\n",
        "    rect_expected = [left + 2* added_space, bottom , width, height]\n",
        "\n",
        "    ax_prior = fig.add_axes(rect_prior)\n",
        "    ax_utility = fig.add_axes(rect_utility, sharey=ax_prior)\n",
        "    ax_expected = fig.add_axes(rect_expected)\n",
        "\n",
        "    rect_colormap = plt.cm.Blues\n",
        "\n",
        "    # Data of plots\n",
        "    ax_prior.barh(0, prior[0], facecolor = rect_colormap(prior[0]))\n",
        "    ax_prior.barh(1, prior[1], facecolor = rect_colormap(prior[1]))\n",
        "    ax_utility.matshow(utility, cmap='cool')\n",
        "    norm = colors.Normalize(vmin=-3, vmax=3)\n",
        "    ax_expected.bar(0, expected[0], facecolor = rect_colormap(norm(expected[0])))\n",
        "    ax_expected.bar(1, expected[1], facecolor = rect_colormap(norm(expected[1])))\n",
        "\n",
        "    # Probabilities plot details\n",
        "    ax_prior.set(xlim = [1, 0], yticks = [0, 1], yticklabels = ['left', 'right'],\n",
        "                 ylabel = 'state (s)', title = \"Probability of state\")\n",
        "    ax_prior.axis('off')\n",
        "\n",
        "    # Utility plot details\n",
        "    ax_utility.set(xticks = [0, 1], xticklabels = ['left', 'right'],\n",
        "                  yticks = [0, 1], yticklabels = ['left', 'right'],\n",
        "                   ylabel = 'state (s)', xlabel = 'action (a)',\n",
        "                   title = 'Utility')\n",
        "    ax_utility.xaxis.set_ticks_position('bottom')\n",
        "    ax_utility.spines['left'].set_visible(False)\n",
        "    ax_utility.spines['bottom'].set_visible(False)\n",
        "\n",
        "    # Expected utility plot details\n",
        "    ax_expected.set(title = 'Expected utility', ylim = [-3, 3],\n",
        "                    xticks = [0, 1], xticklabels = ['left', 'right'],\n",
        "                    xlabel = 'action (a)',\n",
        "                    yticks = [])\n",
        "    ax_expected.xaxis.set_ticks_position('bottom')\n",
        "    ax_expected.spines['left'].set_visible(False)\n",
        "    ax_expected.spines['bottom'].set_visible(False)\n",
        "\n",
        "    # show values\n",
        "    ind = np.arange(2)\n",
        "    x,y = np.meshgrid(ind,ind)\n",
        "\n",
        "    for i,j in zip(x.flatten(), y.flatten()):\n",
        "        c = f\"{utility[i,j]:.2f}\"\n",
        "        ax_utility.text(j,i, c, va='center', ha='center', color='black')\n",
        "    for i in ind:\n",
        "        v = prior[i]\n",
        "        c = f\"{v:.2f}\"\n",
        "        ax_prior.text(v+0.2, i, c, va='center', ha='center', color='black')\n",
        "    for i in ind:\n",
        "        v = expected[i]\n",
        "        c = f\"{v:.2f}\"\n",
        "        ax_expected.text(i, 2.5, c, va='center', ha='center', color='black')\n",
        "\n",
        "    return fig\n",
        "\n",
        "\n",
        "def plot_prior_likelihood_utility(ps, p_a_s1, p_a_s0,measurement):\n",
        "    assert 0.0 <= ps <= 1.0\n",
        "    assert 0.0 <= p_a_s1 <= 1.0\n",
        "    assert 0.0 <= p_a_s0 <= 1.0\n",
        "    prior = np.asarray([ps, 1 - ps])\n",
        "    likelihood = np.asarray([[p_a_s1, 1-p_a_s1],[p_a_s0, 1-p_a_s0]])\n",
        "    utility = np.array([[2.0, -3.0], [-2.0, 1.0]])\n",
        "    # expected = np.zeros_like(utility)\n",
        "\n",
        "    if measurement:\n",
        "        posterior = likelihood[:, 0] * prior\n",
        "    else:\n",
        "        posterior = (likelihood[:, 1] * prior).reshape(-1)\n",
        "    posterior /= np.sum(posterior)\n",
        "    # expected[:, 0] = utility[:, 0] * posterior\n",
        "    # expected[:, 1] = utility[:, 1] * posterior\n",
        "    expected = posterior @ utility\n",
        "\n",
        "    # definitions for the axes\n",
        "    left, width = 0.05, 0.15\n",
        "    bottom, height = 0.05, 0.9\n",
        "    padding = 0.05\n",
        "    small_width = 0.1\n",
        "    large_padding = 0.07\n",
        "    left_space = left + small_width + large_padding\n",
        "\n",
        "    fig = plt.figure(figsize=(17, 4))\n",
        "\n",
        "    rect_prior = [left, bottom+0.05, small_width, height-0.1]\n",
        "    rect_likelihood = [left_space, bottom , width, height]\n",
        "    rect_posterior = [left_space + padding + width - 0.02, bottom+0.05 , small_width, height-0.1]\n",
        "    rect_utility = [left_space + padding + width + padding + small_width, bottom , width, height]\n",
        "    rect_expected = [left_space + padding + width + padding + small_width + padding + width, bottom+0.05 , width, height-0.1]\n",
        "\n",
        "    ax_likelihood = fig.add_axes(rect_likelihood)\n",
        "    ax_prior = fig.add_axes(rect_prior, sharey=ax_likelihood)\n",
        "    ax_posterior = fig.add_axes(rect_posterior, sharey=ax_likelihood)\n",
        "    ax_utility = fig.add_axes(rect_utility, sharey=ax_posterior)\n",
        "    ax_expected = fig.add_axes(rect_expected)\n",
        "\n",
        "\n",
        "    prior_colormap = plt.cm.Blues\n",
        "    posterior_colormap = plt.cm.Greens\n",
        "    expected_colormap = plt.cm.Wistia\n",
        "\n",
        "    # Show posterior probs and marginals\n",
        "    ax_prior.barh(0, prior[0], facecolor = prior_colormap(prior[0]))\n",
        "    ax_prior.barh(1, prior[1], facecolor = prior_colormap(prior[1]))\n",
        "    ax_likelihood.matshow(likelihood, vmin=0., vmax=1., cmap='Reds')\n",
        "    ax_posterior.barh(0, posterior[0], facecolor = posterior_colormap(posterior[0]))\n",
        "    ax_posterior.barh(1, posterior[1], facecolor = posterior_colormap(posterior[1]))\n",
        "    ax_utility.matshow(utility, vmin=0., vmax=1., cmap='cool')\n",
        "    # ax_expected.matshow(expected, vmin=0., vmax=1., cmap='Wistia')\n",
        "    ax_expected.bar(0, expected[0], facecolor = expected_colormap(expected[0]))\n",
        "    ax_expected.bar(1, expected[1], facecolor = expected_colormap(expected[1]))\n",
        "\n",
        "    # Probabilities plot details\n",
        "    ax_prior.set(xlim = [1, 0], yticks = [0, 1], yticklabels = ['left', 'right'],\n",
        "                 ylabel = 'state (s)', title = \"Prior p(s)\")\n",
        "    ax_prior.axis('off')\n",
        "\n",
        "    # Likelihood plot details\n",
        "    ax_likelihood.set(xticks = [0, 1], xticklabels = ['fish', 'no fish'],\n",
        "                  yticks = [0, 1], yticklabels = ['left', 'right'],\n",
        "                   ylabel = 'state (s)', xlabel = 'measurement (m)',\n",
        "                   title = 'Likelihood p(m | s)')\n",
        "    ax_likelihood.xaxis.set_ticks_position('bottom')\n",
        "    ax_likelihood.spines['left'].set_visible(False)\n",
        "    ax_likelihood.spines['bottom'].set_visible(False)\n",
        "\n",
        "    # Posterior plot details\n",
        "    ax_posterior.set(xlim = [0, 1], yticks = [0, 1], yticklabels = ['left', 'right'],\n",
        "                 ylabel = 'state (s)', title = \"Posterior p(s | m)\")\n",
        "    ax_posterior.axis('off')\n",
        "\n",
        "    # Utility plot details\n",
        "    ax_utility.set(xticks = [0, 1], xticklabels = ['left', 'right'],\n",
        "                   xlabel = 'action (a)',\n",
        "                   title = 'Utility')\n",
        "    ax_utility.xaxis.set_ticks_position('bottom')\n",
        "    ax_utility.spines['left'].set_visible(False)\n",
        "    ax_utility.spines['bottom'].set_visible(False)\n",
        "\n",
        "    # Expected Utility plot details\n",
        "    ax_expected.set(ylim = [-2, 2], xticks = [0, 1], xticklabels = ['left', 'right'],\n",
        "                 xlabel = 'action (a)', title = 'Expected utility', yticks=[])\n",
        "    # ax_expected.axis('off')\n",
        "    ax_expected.spines['left'].set_visible(False)\n",
        "    # ax_expected.set(xticks = [0, 1], xticklabels = ['left', 'right'],\n",
        "    #                 xlabel = 'action (a)',\n",
        "    #                title = 'Expected utility')\n",
        "    # ax_expected.xaxis.set_ticks_position('bottom')\n",
        "    # ax_expected.spines['left'].set_visible(False)\n",
        "    # ax_expected.spines['bottom'].set_visible(False)\n",
        "\n",
        "    # show values\n",
        "    ind = np.arange(2)\n",
        "    x,y = np.meshgrid(ind,ind)\n",
        "    for i in ind:\n",
        "        v = posterior[i]\n",
        "        c = f\"{v:.2f}\"\n",
        "        ax_posterior.text(v+0.2, i, c, va='center', ha='center', color='black')\n",
        "    for i,j in zip(x.flatten(), y.flatten()):\n",
        "        c = f\"{likelihood[i,j]:.2f}\"\n",
        "        ax_likelihood.text(j,i, c, va='center', ha='center', color='black')\n",
        "    for i,j in zip(x.flatten(), y.flatten()):\n",
        "        c = f\"{utility[i,j]:.2f}\"\n",
        "        ax_utility.text(j,i, c, va='center', ha='center', color='black')\n",
        "    # for i,j in zip(x.flatten(), y.flatten()):\n",
        "    #     c = f\"{expected[i,j]:.2f}\"\n",
        "    #     ax_expected.text(j,i, c, va='center', ha='center', color='black')\n",
        "    for i in ind:\n",
        "        v = prior[i]\n",
        "        c = f\"{v:.2f}\"\n",
        "        ax_prior.text(v+0.2, i, c, va='center', ha='center', color='black')\n",
        "    for i in ind:\n",
        "        v = expected[i]\n",
        "        c = f\"{v:.2f}\"\n",
        "        ax_expected.text(i, v, c, va='center', ha='center', color='black')\n",
        "\n",
        "    # # show values\n",
        "    # ind = np.arange(2)\n",
        "    # x,y = np.meshgrid(ind,ind)\n",
        "    # for i,j in zip(x.flatten(), y.flatten()):\n",
        "    #     c = f\"{P[i,j]:.2f}\"\n",
        "    #     ax.text(j,i, c, va='center', ha='center', color='white')\n",
        "    # for i in ind:\n",
        "    #     v = marginal_x[i]\n",
        "    #     c = f\"{v:.2f}\"\n",
        "    #     ax_x.text(i, v +0.2, c, va='center', ha='center', color='black')\n",
        "    #     v = marginal_y[i]\n",
        "    #     c = f\"{v:.2f}\"\n",
        "    #     ax_y.text(v+0.2, i, c, va='center', ha='center', color='black')\n",
        "\n",
        "    return fig"
      ],
      "execution_count": 5,
      "outputs": []
    },
    {
      "cell_type": "code",
      "metadata": {
        "cellView": "form",
        "execution": {
          "iopub.execute_input": "2021-06-25T15:15:26.909876Z",
          "iopub.status.busy": "2021-06-25T15:15:26.909310Z",
          "iopub.status.idle": "2021-06-25T15:15:26.913133Z",
          "shell.execute_reply": "2021-06-25T15:15:26.912415Z"
        },
        "id": "RBlxysbE5smz"
      },
      "source": [
        "# @title Helper Functions\n",
        "\n",
        "def compute_marginal(px, py, cor):\n",
        "    # calculate 2x2 joint probabilities given marginals p(x=1), p(y=1) and correlation\n",
        "    p11 = px*py + cor*np.sqrt(px*py*(1-px)*(1-py))\n",
        "    p01 = px - p11\n",
        "    p10 = py - p11\n",
        "    p00 = 1.0 - p11 - p01 - p10\n",
        "    return np.asarray([[p00, p01], [p10, p11]])\n",
        "# test\n",
        "# print(compute_marginal(0.4, 0.6, -0.8))\n",
        "\n",
        "\n",
        "def compute_cor_range(px,py):\n",
        "    # Calculate the allowed range of correlation values given marginals p(x=1) and p(y=1)\n",
        "    def p11(corr):\n",
        "        return px*py + corr*np.sqrt(px*py*(1-px)*(1-py))\n",
        "    def p01(corr):\n",
        "        return px - p11(corr)\n",
        "    def p10(corr):\n",
        "        return py - p11(corr)\n",
        "    def p00(corr):\n",
        "        return 1.0 - p11(corr) - p01(corr) - p10(corr)\n",
        "    Cmax = min(fsolve(p01, 0.0), fsolve(p10, 0.0))\n",
        "    Cmin = max(fsolve(p11, 0.0), fsolve(p00, 0.0))\n",
        "    return Cmin, Cmax"
      ],
      "execution_count": 6,
      "outputs": []
    },
    {
      "cell_type": "markdown",
      "metadata": {
        "id": "0mYdyTIl5smz"
      },
      "source": [
        "---\n",
        "# Section 1: Gone Fishin'\n"
      ]
    },
    {
      "cell_type": "code",
      "metadata": {
        "cellView": "form",
        "execution": {
          "iopub.execute_input": "2021-06-25T15:15:26.924621Z",
          "iopub.status.busy": "2021-06-25T15:15:26.924066Z",
          "iopub.status.idle": "2021-06-25T15:15:27.002207Z",
          "shell.execute_reply": "2021-06-25T15:15:27.001495Z"
        },
        "id": "28vRn5OT5sm0",
        "outputId": "62f768ce-5b5c-42ca-e343-ce1b3c612e0d",
        "colab": {
          "base_uri": "https://localhost:8080/",
          "height": 581,
          "referenced_widgets": [
            "de72d2b5aa3142ada8811b210a2d2b90",
            "f872f69caece48b4876776a1edc31047",
            "0609d1f8730948c795fec3f778ef6ac5",
            "1b7cdaf182624274acca3fae7cdb9663",
            "6981428f377248d093dced9d6810ed64",
            "42abd5a9c41844bfa13b3b12ed079e1c"
          ]
        }
      },
      "source": [
        "# @title Video 2: Gone Fishin'\n",
        "from ipywidgets import widgets\n",
        "\n",
        "out2 = widgets.Output()\n",
        "with out2:\n",
        "  from IPython.display import IFrame\n",
        "  class BiliVideo(IFrame):\n",
        "      def __init__(self, id, page=1, width=400, height=300, **kwargs):\n",
        "          self.id=id\n",
        "          src = 'https://player.bilibili.com/player.html?bvid={0}&page={1}'.format(id, page)\n",
        "          super(BiliVideo, self).__init__(src, width, height, **kwargs)\n",
        "\n",
        "  video = BiliVideo(id=\"\", width=854, height=480, fs=1)\n",
        "  print('Video available at https://www.bilibili.com/video/{0}'.format(video.id))\n",
        "  display(video)\n",
        "\n",
        "out1 = widgets.Output()\n",
        "with out1:\n",
        "  from IPython.display import YouTubeVideo\n",
        "  video = YouTubeVideo(id=\"McALsTzb494\", width=854, height=480, fs=1, rel=0)\n",
        "  print('Video available at https://youtube.com/watch?v=' + video.id)\n",
        "  display(video)\n",
        "\n",
        "out = widgets.Tab([out1, out2])\n",
        "out.set_title(0, 'Youtube')\n",
        "out.set_title(1, 'Bilibili')\n",
        "\n",
        "display(out)"
      ],
      "execution_count": 7,
      "outputs": [
        {
          "output_type": "display_data",
          "data": {
            "application/vnd.jupyter.widget-view+json": {
              "model_id": "de72d2b5aa3142ada8811b210a2d2b90",
              "version_minor": 0,
              "version_major": 2
            },
            "text/plain": [
              "Tab(children=(Output(), Output()), _titles={'0': 'Youtube', '1': 'Bilibili'})"
            ]
          },
          "metadata": {
            "tags": []
          }
        }
      ]
    },
    {
      "cell_type": "markdown",
      "metadata": {
        "id": "FTCtZmt35sm1"
      },
      "source": [
        "You were just introduced to the **binary hidden state problem** we are going to explore. You need to decide which side to fish on. We know fish like to school together. On different days the school of fish is either on the left or right side, but we don’t know what the case is today. We will represent our knowledge probabilistically, asking how to make a decision (where to decide the fish are or where to fish) and what to expect in terms of gains or losses. In the next two sections we will consider just the probability of where the fish might be and what you gain or lose by choosing where to fish.\n",
        "\n",
        "Remember, you can either think of your self as a scientist conducting an experiment or as a brain trying to make a decision. The Bayesian approach is the same!\n"
      ]
    },
    {
      "cell_type": "markdown",
      "metadata": {
        "id": "qBr9_Rol5sm2"
      },
      "source": [
        "---\n",
        "# Section 2: Deciding where to fish \n",
        "\n"
      ]
    },
    {
      "cell_type": "code",
      "metadata": {
        "cellView": "form",
        "execution": {
          "iopub.execute_input": "2021-06-25T15:15:27.027109Z",
          "iopub.status.busy": "2021-06-25T15:15:27.026597Z",
          "iopub.status.idle": "2021-06-25T15:15:27.095976Z",
          "shell.execute_reply": "2021-06-25T15:15:27.095432Z"
        },
        "id": "dYPic0BP5sm3",
        "outputId": "362935dc-9b2d-4158-b8a8-1b6ab5388042",
        "colab": {
          "base_uri": "https://localhost:8080/",
          "height": 581,
          "referenced_widgets": [
            "fd6979c15ca3406fb4f76343b34e181b",
            "513eaa0010f248308ea347b22c369fcc",
            "1be183553abf4666a5a35ba0faddcb55",
            "57c4f192d9f947fd81598bfec7817df1",
            "7ba47f9086f642658e7213d978b09b35",
            "704b27fd47b544458dad5b835e3fcc5b"
          ]
        }
      },
      "source": [
        "# @title Video 3: Utility\n",
        "from ipywidgets import widgets\n",
        "\n",
        "out2 = widgets.Output()\n",
        "with out2:\n",
        "  from IPython.display import IFrame\n",
        "  class BiliVideo(IFrame):\n",
        "      def __init__(self, id, page=1, width=400, height=300, **kwargs):\n",
        "          self.id=id\n",
        "          src = 'https://player.bilibili.com/player.html?bvid={0}&page={1}'.format(id, page)\n",
        "          super(BiliVideo, self).__init__(src, width, height, **kwargs)\n",
        "\n",
        "  video = BiliVideo(id=\"\", width=854, height=480, fs=1)\n",
        "  print('Video available at https://www.bilibili.com/video/{0}'.format(video.id))\n",
        "  display(video)\n",
        "\n",
        "out1 = widgets.Output()\n",
        "with out1:\n",
        "  from IPython.display import YouTubeVideo\n",
        "  video = YouTubeVideo(id=\"xvIVZrqF_5s\", width=854, height=480, fs=1, rel=0)\n",
        "  print('Video available at https://youtube.com/watch?v=' + video.id)\n",
        "  display(video)\n",
        "\n",
        "out = widgets.Tab([out1, out2])\n",
        "out.set_title(0, 'Youtube')\n",
        "out.set_title(1, 'Bilibili')\n",
        "\n",
        "display(out)"
      ],
      "execution_count": 8,
      "outputs": [
        {
          "output_type": "display_data",
          "data": {
            "application/vnd.jupyter.widget-view+json": {
              "model_id": "fd6979c15ca3406fb4f76343b34e181b",
              "version_minor": 0,
              "version_major": 2
            },
            "text/plain": [
              "Tab(children=(Output(), Output()), _titles={'0': 'Youtube', '1': 'Bilibili'})"
            ]
          },
          "metadata": {
            "tags": []
          }
        }
      ]
    },
    {
      "cell_type": "markdown",
      "metadata": {
        "id": "Rs_j0oan5sm3"
      },
      "source": [
        "You know the probability that the school of fish is on the left side of the dock today, $P(s = left)$. You also know the probability that it is on the right, $P(s = right)$, because these two probabilities must add up to 1. You need to decide where to fish. It may seem obvious - you could just fish on the side where the probability of the fish being is higher! Unfortunately, decisions and actions are always a little more complicated. Deciding to fish may be influenced by more than just the probability of the school of fish being there as we saw by the potential issues of submarines and sunburn. \n",
        "\n",
        "We quantify these factors numerically using **utility**, which describes the consequences of your actions: how much value you gain (or if negative, lose) given the state of the world ($s$) and the action you take ($a$). In our example, our utility can be summarized as:\n",
        "\n",
        "| Utility: U(s,a)   | a = left   | a = right  |\n",
        "| ----------------- |----------|----------|\n",
        "| s = Left          | 2          | -3         |\n",
        "| s = right         | -2         |  1         |\n",
        "\n",
        "To use utility to choose an action, we calculate the **expected utility** of that action by weighing these utilities with the probability of that state occuring. This allows us to choose actions by taking probabilities of events into account: we don't care if the outcome of an action-state pair is a loss if the probability of that state is very low. We can formalize this as:\n",
        "\n",
        "$$\\text{Expected utility of action a} = \\sum_{s}U(s,a)P(s) $$\n",
        "\n",
        "In other words, the expected utility of an action a is the sum over possible states of the utility of that action and state times the probability of that state.\n"
      ]
    },
    {
      "cell_type": "markdown",
      "metadata": {
        "id": "kzXAw_RQ5sm3"
      },
      "source": [
        "## Interactive Demo 2: Exploring the decision\n",
        "\n",
        "Let's start to get a sense of how all this works. \n",
        "\n",
        "Take a look at the interactive demo below. You can change the probability that the school of fish is on the left side ($p(s = left)$ using the slider. You will see the utility matrix and the corresponding expected utility of each action.\n",
        "\n",
        "First, make sure you understand how the expected utility of each action is being computed from the probabilities and the utility values. In the initial state: the probability of the fish being on the left is 0.9 and on the right is 0.1. The expected utility of the action of fishing on the left is then $U(s = left,a = left)p(s = left) + U(s = right,a = left)p(s = right) = 2(0.9) + -2(0.1) = 1.6$.\n",
        "\n",
        "For each of these scenarios, think and discuss first. Then use the demo to try out each and see if your action would have been correct (that is, if the expected value of that action is the highest).\n",
        "\n",
        "\n",
        "1.  You just arrived at the dock for the first time and have no sense of where the fish might be. So you guess that the probability of the school being on the left side is 0.5 (so the probability on the right side is also 0.5). Which side would you choose to fish on given our utility values?\n",
        "2.  You think that the probability of the school being on the left side is very low (0.1) and correspondingly high on the right side (0.9). Which side would you choose to fish on given our utility values?\n",
        "3.  What would you choose if the probability of the school being on the left side is slightly lower than on the right side (0. 4 vs 0.6)?"
      ]
    },
    {
      "cell_type": "code",
      "metadata": {
        "cellView": "form",
        "execution": {
          "iopub.execute_input": "2021-06-25T15:15:27.125816Z",
          "iopub.status.busy": "2021-06-25T15:15:27.125160Z",
          "iopub.status.idle": "2021-06-25T15:15:27.363022Z",
          "shell.execute_reply": "2021-06-25T15:15:27.362492Z"
        },
        "id": "dRXbH-0C5sm4",
        "outputId": "1f1f1e6c-92bb-40f0-d558-c27c00f74952",
        "colab": {
          "base_uri": "https://localhost:8080/",
          "height": 326,
          "referenced_widgets": [
            "e9e18ab926d249d299625b28b4f6a0ff",
            "ecbbf107e57148df8a192831b176c6ff",
            "69c6a0e2f8364abd9d39abf1f89250dc",
            "65a855c7b6a04496a74ff87b8d921dcd",
            "312e445d17f443ac97c1535b00011937",
            "bb9a19a1fa3540308728042a5a1a1d88",
            "57eed8c720fb4967aa5a68c212b5795c"
          ]
        }
      },
      "source": [
        "# @markdown Execute this cell to use the widget\n",
        "ps_widget = widgets.FloatSlider(0.9, description='p(s = left)', min=0.0, max=1.0, step=0.01)\n",
        "\n",
        "@widgets.interact(\n",
        "    ps = ps_widget,\n",
        ")\n",
        "def make_utility_plot(ps):\n",
        "    fig = plot_utility(ps)\n",
        "    plt.show(fig)\n",
        "    plt.close(fig)\n",
        "    return None"
      ],
      "execution_count": 9,
      "outputs": [
        {
          "output_type": "display_data",
          "data": {
            "application/vnd.jupyter.widget-view+json": {
              "model_id": "e9e18ab926d249d299625b28b4f6a0ff",
              "version_minor": 0,
              "version_major": 2
            },
            "text/plain": [
              "interactive(children=(FloatSlider(value=0.9, description='p(s = left)', max=1.0, step=0.01), Output()), _dom_c…"
            ]
          },
          "metadata": {
            "tags": []
          }
        }
      ]
    },
    {
      "cell_type": "markdown",
      "metadata": {
        "execution": {
          "iopub.execute_input": "2021-06-25T15:15:27.368248Z",
          "iopub.status.busy": "2021-06-25T15:15:27.367081Z",
          "iopub.status.idle": "2021-06-25T15:15:27.368872Z",
          "shell.execute_reply": "2021-06-25T15:15:27.369319Z"
        },
        "id": "BxPjiFP75sm4"
      },
      "source": [
        "[*Click for solution*](https://github.com/NeuromatchAcademy/course-content/tree/master//tutorials/W3D1_BayesianDecisions/solutions/W3D1_Tutorial1_Solution_459cbf35.py)\n",
        "\n"
      ]
    },
    {
      "cell_type": "code",
      "metadata": {
        "id": "IY8TmspLAhgY"
      },
      "source": [
        "# 1)  With equal probabilities, the expected utility is higher on the left side,\n",
        "#    since that is the side without submarines, so you would choose to fish there.\n",
        "\n",
        "# 2)  If the probability that the fish is on the right side is high, you would\n",
        "#     choose to fish there. The high probability of fish being on the right far outweights\n",
        "#    the slightly higher utilities from fishing on the left (as you are unlikely to gain these)\n",
        "\n",
        "# 3)  If the probability that the fish is on the right side is just slightly higher\n",
        "#.    than on the left, you would choose the left side as the expected utility is still\n",
        "#.    higher on the left. Note that in this situation, you are not simply choosing the\n",
        "#.    side with the higher probability - the utility really matters here for the decision"
      ],
      "execution_count": null,
      "outputs": []
    },
    {
      "cell_type": "markdown",
      "metadata": {
        "id": "vqDTQv9h5sm4"
      },
      "source": [
        "In this section, you have seen that both the utility of various state and action pairs and our knowledge of the probability of each state affects your decision. Importantly, we want our knowledge of the probability of each state to be as accurate as possible! \n",
        "\n",
        "So how do we know these probabilities? We may have prior knowledge from years of fishing at the same dock. Over those years, we may have learned that the fish are more likely to be on the left side for example. We want to make sure this knowledge is as accurate as possible though. To do this, we want to collect more data, or take some more measurements! For the next few sections, we will focus on making our knowledge of the probability as accurate as possible, before coming back to using utility to make decisions."
      ]
    },
    {
      "cell_type": "markdown",
      "metadata": {
        "id": "mhyJ00tw5sm5"
      },
      "source": [
        "---\n",
        "# Section 3: Likelihood of the fish being on either side\n",
        " \n"
      ]
    },
    {
      "cell_type": "code",
      "metadata": {
        "cellView": "form",
        "execution": {
          "iopub.execute_input": "2021-06-25T15:15:27.382108Z",
          "iopub.status.busy": "2021-06-25T15:15:27.380574Z",
          "iopub.status.idle": "2021-06-25T15:15:27.447741Z",
          "shell.execute_reply": "2021-06-25T15:15:27.448200Z"
        },
        "id": "o8vY_iJR5sm5",
        "outputId": "afb72951-5813-4998-8293-ed90f4a5e4e5",
        "colab": {
          "base_uri": "https://localhost:8080/",
          "height": 581,
          "referenced_widgets": [
            "2d52d7dbd56d40ad879a2bd8b6122930",
            "a233bcc68b594a538aaac61acf5292da",
            "bb0cde7cf0604c69915de195796cbfae",
            "c44f9c7d2cb24445aa97b59f116e1d43",
            "2eb07f7c106d456ab9ee0ffed5f0ad43",
            "b69502f8ae014987a7c21a76743030f5"
          ]
        }
      },
      "source": [
        "# @title Video 4: Likelihood\n",
        "from ipywidgets import widgets\n",
        "\n",
        "out2 = widgets.Output()\n",
        "with out2:\n",
        "  from IPython.display import IFrame\n",
        "  class BiliVideo(IFrame):\n",
        "      def __init__(self, id, page=1, width=400, height=300, **kwargs):\n",
        "          self.id=id\n",
        "          src = 'https://player.bilibili.com/player.html?bvid={0}&page={1}'.format(id, page)\n",
        "          super(BiliVideo, self).__init__(src, width, height, **kwargs)\n",
        "\n",
        "  video = BiliVideo(id=\"\", width=854, height=480, fs=1)\n",
        "  print('Video available at https://www.bilibili.com/video/{0}'.format(video.id))\n",
        "  display(video)\n",
        "\n",
        "out1 = widgets.Output()\n",
        "with out1:\n",
        "  from IPython.display import YouTubeVideo\n",
        "  video = YouTubeVideo(id=\"l4m0JzMWGio\", width=854, height=480, fs=1, rel=0)\n",
        "  print('Video available at https://youtube.com/watch?v=' + video.id)\n",
        "  display(video)\n",
        "\n",
        "out = widgets.Tab([out1, out2])\n",
        "out.set_title(0, 'Youtube')\n",
        "out.set_title(1, 'Bilibili')\n",
        "\n",
        "display(out)"
      ],
      "execution_count": 10,
      "outputs": [
        {
          "output_type": "display_data",
          "data": {
            "application/vnd.jupyter.widget-view+json": {
              "model_id": "2d52d7dbd56d40ad879a2bd8b6122930",
              "version_minor": 0,
              "version_major": 2
            },
            "text/plain": [
              "Tab(children=(Output(), Output()), _titles={'0': 'Youtube', '1': 'Bilibili'})"
            ]
          },
          "metadata": {
            "tags": []
          }
        }
      ]
    },
    {
      "cell_type": "markdown",
      "metadata": {
        "id": "1MrQHNAi5sm5"
      },
      "source": [
        "First, we'll think about what it means to take a measurement (also often called an observation or just data) and what it tells you about what the hidden state may be. Specifically, we'll be looking at the **likelihood**, which is the probability of your measurement ($m$) given the hidden state ($s$): $P(m | s)$. Remember that in this case, the hidden state is which side of the dock the school of fish is on.\n",
        "\n",
        "We will watch someone fish (for let's say 10 minutes) and our measurement is whether they catch a fish or not. We know something about what catching a fish means for the likelihood of the fish being on one side or the other. "
      ]
    },
    {
      "cell_type": "markdown",
      "metadata": {
        "id": "C-fuTtd45sm5"
      },
      "source": [
        "## Think! 3: Guessing the location of the fish\n",
        "\n",
        "Let's say we go to different dock from the one in the video. Here, there are different probabilities of catching fish given the state of the world. In this case, if they fish on the side of the dock where the fish are, they have a 70% chance of catching a fish. Otherwise, they catch a fish with only 20% probability. \n",
        "\n",
        "The fisherperson is fishing on the left side. \n",
        "\n",
        "1) Figure out each of the following:\n",
        "- probability of catching a fish given that the school of fish is on the left side, $P(m = catch\\text{ } fish | s = left )$\n",
        "- probability of not catching a fish given that the school of fish is on the left side, $P(m = no \\text{ } fish | s = left)$\n",
        "- probability of catching a fish given that the school of fish is on the right side, $P(m = catch  \\text{ } fish | s = right)$\n",
        "- probability of not catching a fish given that the school of fish is on the right side, $P(m = no \\text{ } fish | s = right)$\n",
        "\n",
        "2) If the fisherperson catches a fish, which side would you guess the school is on? Why?\n",
        "\n",
        "3) If the fisherperson does not catch a fish, which side would you guess the school is on? Why?\n"
      ]
    },
    {
      "cell_type": "markdown",
      "metadata": {
        "id": "gFEPjBkqCXdV"
      },
      "source": [
        "#### NOTE:\n",
        "for the above questions its 70% on the left and 20% chance on the right\n",
        "\n",
        "#### Answers \n",
        "1) The fisherperson is on the left side so:\n",
        "      - P(m = catch fish | s = left) = 0.7 because they have a 70% chance of catching\n",
        "        a fish when on the same side as the school\n",
        "      - P(m = no fish | s = left) = 0.3 because the probability of catching a fish\n",
        "         and not catching a fish for a given state must add up to 1 as these\n",
        "         are the only options: 1 - 0.7 = 0.3\n",
        "       - P(m = catch fish | s = right) = 0.2\n",
        "       - P(m = no fish | s = right) = 0.8\n",
        "\n",
        "\n",
        " 2) If the fisherperson catches a fish, you would guess the school of fish is on the\n",
        "     left side. This is because the probability of catching a fish given that the school is on the left side (0.7) is higher than the probability given that the school is on the right side (0.2).\n",
        "\n",
        "\n",
        " 3) If the fisherperson does not catch a fish, you would guess the school of fish is on the\n",
        "     right side. This is because the probability of not catching a fish given that the school is on the right side (0.8) is higher than the probability given that the school is on the right side (0.3)."
      ]
    },
    {
      "cell_type": "markdown",
      "metadata": {
        "execution": {
          "iopub.execute_input": "2021-06-25T15:15:27.459236Z",
          "iopub.status.busy": "2021-06-25T15:15:27.458560Z",
          "iopub.status.idle": "2021-06-25T15:15:27.460258Z",
          "shell.execute_reply": "2021-06-25T15:15:27.459756Z"
        },
        "id": "C36K3cTM5sm6"
      },
      "source": [
        "[*Click for solution*](https://github.com/NeuromatchAcademy/course-content/tree/master//tutorials/W3D1_BayesianDecisions/solutions/W3D1_Tutorial1_Solution_2284aaf4.py)\n",
        "\n"
      ]
    },
    {
      "cell_type": "markdown",
      "metadata": {
        "id": "wrv9wiXg5sm7"
      },
      "source": [
        "In the prior exercise, you guessed where the school of fish was based on the measurement you took (watching someone fish). You did this by choosing the state (side of school) that maximized the probability of the measurement. In other words, you estimated the state by maximizing the likelihood (had the highest probability of measurement given state $P(m|s$)). This is called maximum likelihood estimation (MLE) and you've encountered it before during this course, in W1D3!\n",
        "\n",
        "What if you had been going to this river for years and you knew that the fish were almost always on the left side? This would probably affect how you make your estimate - you would rely less on the single new measurement and more on your prior knowledge. This is the idea behind Bayesian inference, as we will see later in this tutorial!"
      ]
    },
    {
      "cell_type": "markdown",
      "metadata": {
        "id": "3GIZkpbrBmNT"
      },
      "source": [
        "NOTE:: state of the world (s) "
      ]
    },
    {
      "cell_type": "markdown",
      "metadata": {
        "id": "21LYc-TY5sm7"
      },
      "source": [
        "---\n",
        "# Section 4: Correlation and marginalization\n"
      ]
    },
    {
      "cell_type": "code",
      "metadata": {
        "cellView": "form",
        "execution": {
          "iopub.execute_input": "2021-06-25T15:15:27.507590Z",
          "iopub.status.busy": "2021-06-25T15:15:27.505019Z",
          "iopub.status.idle": "2021-06-25T15:15:27.573883Z",
          "shell.execute_reply": "2021-06-25T15:15:27.572166Z"
        },
        "id": "fwsuh4A75sm8",
        "outputId": "6961f42b-cc85-4ab3-ac3c-144bfdfbdcf7",
        "colab": {
          "base_uri": "https://localhost:8080/",
          "height": 581,
          "referenced_widgets": [
            "b037ed4e4f3b4019930dbf781b744f60",
            "ec433006504a440da40682ad80dd58fc",
            "8e0c019f152643598248f5531b7e1034",
            "5c726e78af07403b81761fcb572725fe",
            "6e40651f846045c8b4bbda1c19e95d21",
            "324fbc1a6eef4aac9207eec162228b0b"
          ]
        }
      },
      "source": [
        "# @title Video 5: Correlation and marginalization\n",
        "from ipywidgets import widgets\n",
        "\n",
        "out2 = widgets.Output()\n",
        "with out2:\n",
        "  from IPython.display import IFrame\n",
        "  class BiliVideo(IFrame):\n",
        "      def __init__(self, id, page=1, width=400, height=300, **kwargs):\n",
        "          self.id=id\n",
        "          src = 'https://player.bilibili.com/player.html?bvid={0}&page={1}'.format(id, page)\n",
        "          super(BiliVideo, self).__init__(src, width, height, **kwargs)\n",
        "\n",
        "  video = BiliVideo(id=\"\", width=854, height=480, fs=1)\n",
        "  print('Video available at https://www.bilibili.com/video/{0}'.format(video.id))\n",
        "  display(video)\n",
        "\n",
        "out1 = widgets.Output()\n",
        "with out1:\n",
        "  from IPython.display import YouTubeVideo\n",
        "  video = YouTubeVideo(id=\"vsDjtWi-BVo\", width=854, height=480, fs=1, rel=0)\n",
        "  print('Video available at https://youtube.com/watch?v=' + video.id)\n",
        "  display(video)\n",
        "\n",
        "out = widgets.Tab([out1, out2])\n",
        "out.set_title(0, 'Youtube')\n",
        "out.set_title(1, 'Bilibili')\n",
        "\n",
        "display(out)"
      ],
      "execution_count": 11,
      "outputs": [
        {
          "output_type": "display_data",
          "data": {
            "application/vnd.jupyter.widget-view+json": {
              "model_id": "b037ed4e4f3b4019930dbf781b744f60",
              "version_minor": 0,
              "version_major": 2
            },
            "text/plain": [
              "Tab(children=(Output(), Output()), _titles={'0': 'Youtube', '1': 'Bilibili'})"
            ]
          },
          "metadata": {
            "tags": []
          }
        }
      ]
    },
    {
      "cell_type": "markdown",
      "metadata": {
        "id": "hpPtY9Xg5sm8"
      },
      "source": [
        "In this section, we are going to take a step back for a bit and think more generally about the amount of information shared between two random variables. We want to know how much information you gain when you observe one variable (take a measurement) if you know something about another. We will see that the fundamental concept is the same if we think about two attributes, for example the size and color of the fish, or the prior information and the likelihood."
      ]
    },
    {
      "cell_type": "markdown",
      "metadata": {
        "id": "8e2L_g045sm9"
      },
      "source": [
        "## Math Exercise 4: Computing marginal likelihoods\n",
        "\n",
        "To understand the information between two variables, let's first consider the size and color of the fish.\n",
        "\n",
        "| P(X, Y)   | Y = silver   | Y = gold  |\n",
        "| ----------------- |----------|----------|\n",
        "| X = small          | 0.4          | 0.2         |\n",
        "| X = large         | 0.1         |  0.3         |\n",
        "\n",
        "The table above shows us the **joint probabilities**: the probability of both specific attributes occuring together. For example, the probability of a fish being small and silver ($P(X = small, Y = silver$) is 0.4.\n",
        "\n",
        "We want to know what the probability of a fish being small  regardless of color. Since the fish are either silver or gold, this would be the probability of a fish being small and silver plus the probability of a fish being small and gold. This is an example of marginalizing, or averaging out, the variable we are not interested in across the rows or columns.. In math speak: $P(X = small) = \\sum_y{P(X = small, Y)}$. This gives us a **marginal probability**, a probability of a variable outcome (in this case size), regardless of the other variables (in this case color).\n",
        "\n",
        "Please complete the following math problems to further practice thinking through probabilities:\n",
        "\n",
        "1. Calculate the probability of a fish being silver.\n",
        "2. Calculate the probability of a fish being small, large, silver, or gold.\n",
        "3. Calculate the probability of a fish being small OR gold. (Hint: $P(A\\ \\textrm{or}\\ B) = P(A) + P(B) - P(A\\ \\textrm{and}\\ B)$)\n",
        "\n",
        "\n"
      ]
    },
    {
      "cell_type": "markdown",
      "metadata": {
        "id": "7-nQX67_Ea5z"
      },
      "source": [
        "#### answer\n",
        " 1) The probability of a fish being silver is the joint probability of it being small and silver plus the joint probability of it being large and silver:\n",
        "\n",
        "-  P(Y = silver) = P(X = small, Y = silver) + P(X = large, Y = silver)\n",
        "-      = 0.4 + 0.1\n",
        "-      = 0.5\n",
        "\n",
        "\n",
        " 2) This is all the possibilities as in this scenario, our fish can only be small or large, silver or gold. So the probability is 1 - the fish has to be at least one of these.\n",
        "\n",
        "\n",
        "3) First we compute the marginal probabilities\n",
        "-  P(X = small) = P(X = small, Y = silver) + P(X = small, Y = gold) = 0.6\n",
        "-   P(Y = gold) = P(X = small, Y = gold) + P(X = large, Y = gold) = 0.5\n",
        "\n",
        "We already know the joint probability: P(X = small, Y = gold) = 0.2. \n",
        "We can now use the given formula:\n",
        "\n",
        "P( X = small or Y = gold) = P(X = small) + P(Y = gold) - P(X = small, Y = gold)\n",
        "-    = 0.6 + 0.5 - 0.2\n",
        "-    = 0.9"
      ]
    },
    {
      "cell_type": "markdown",
      "metadata": {
        "execution": {
          "iopub.execute_input": "2021-06-25T15:15:27.584366Z",
          "iopub.status.busy": "2021-06-25T15:15:27.583666Z",
          "iopub.status.idle": "2021-06-25T15:15:27.585405Z",
          "shell.execute_reply": "2021-06-25T15:15:27.584927Z"
        },
        "id": "q5IefIGJ5sm9"
      },
      "source": [
        "[*Click for solution*](https://github.com/NeuromatchAcademy/course-content/tree/master//tutorials/W3D1_BayesianDecisions/solutions/W3D1_Tutorial1_Solution_65e69cd1.py)\n",
        "\n"
      ]
    },
    {
      "cell_type": "markdown",
      "metadata": {
        "id": "RzzbakOk5snH"
      },
      "source": [
        "## Think! 4: Covarying probability distributions\n",
        "\n",
        "The relationship between the marginal probabilities and the joint probabilities is determined by the correlation between the two random variables - a normalized measure of how much the variables covary. We can also think of this as gaining some information about one of the variables when we observe a measurement from the other. We will think about this more formally in Tutorial 2. \n",
        "\n",
        "Here, we want to think about how the correlation between size and color of these fish changes how much information we gain about one attribute based on the other. See Bonus Section 1 for the formula for correlation.\n",
        "\n",
        "Use the widget below and answer the following questions:\n",
        "\n",
        "1. When the correlation is zero, $\\rho = 0$, what does the distribution of size tell you about color?\n",
        "2. Set $\\rho$ to something small. As you change the probability of golden fish, what happens to the ratio of size probabilities? Set $\\rho$ larger (can be negative). Can you explain the pattern of changes in the probabilities of size as you change the probability of golden fish?\n",
        "3. Set the probability of golden fish and of large fish to around 65%. As the correlation goes towards 1, how often will you see silver large fish?\n",
        "4. What is increasing the (absolute) correlation telling you about how likely you are to see one of the properties if you see a fish with the other?\n"
      ]
    },
    {
      "cell_type": "code",
      "metadata": {
        "cellView": "form",
        "execution": {
          "iopub.execute_input": "2021-06-25T15:15:27.641822Z",
          "iopub.status.busy": "2021-06-25T15:15:27.640659Z",
          "iopub.status.idle": "2021-06-25T15:15:27.846348Z",
          "shell.execute_reply": "2021-06-25T15:15:27.845374Z"
        },
        "id": "WGMTPTAE5snJ",
        "outputId": "d87356bb-41d4-47df-ed65-6d4aa830be64",
        "colab": {
          "base_uri": "https://localhost:8080/",
          "height": 477,
          "referenced_widgets": [
            "96e3b71a813b4ff4b33b171e4f4a9d94",
            "591ef447759b4415a62d26499a0db417",
            "df3e915618614c46992a5c2f8e1f84de",
            "ddf3bc7482654653826d296ed06454da",
            "ac308b73d80045d08cc24a8b15922a86",
            "fd070f58630544c2b475be1c9a9c8903",
            "50b5e6af42b44346aa8e5d245600d715",
            "ce9db2a8388e4e7687f499fd721eb846",
            "00b114ef11b14ff7836e098f97f25e37",
            "657d0686c4b64ac9b2a2ee4559a338f3",
            "2b314f7c71144434bfeef2c7e7c13e62",
            "461fb1dd560f4d0d99e1f321132d00a4",
            "ab377228be09412ea954c1d042001cb0"
          ]
        }
      },
      "source": [
        "# @markdown Execute this cell to enable the widget\n",
        "style = {'description_width': 'initial'}\n",
        "gs = GridspecLayout(2,2)\n",
        "\n",
        "cor_widget = widgets.FloatSlider(0.0, description='ρ', min=-1, max=1, step=0.01)\n",
        "px_widget = widgets.FloatSlider(0.5, description='p(color=golden)', min=0.01, max=0.99, step=0.01, style=style)\n",
        "py_widget = widgets.FloatSlider(0.5, description='p(size=large)', min=0.01, max=0.99, step=0.01, style=style)\n",
        "gs[0,0] = cor_widget\n",
        "gs[0,1] = px_widget\n",
        "gs[1,0] = py_widget\n",
        "\n",
        "\n",
        "@widgets.interact(\n",
        "    px=px_widget,\n",
        "    py=py_widget,\n",
        "    cor=cor_widget,\n",
        ")\n",
        "def make_corr_plot(px, py, cor):\n",
        "    Cmin, Cmax = compute_cor_range(px, py) #allow correlation values\n",
        "    cor_widget.min, cor_widget.max = Cmin+0.01, Cmax-0.01\n",
        "    if cor_widget.value > Cmax:\n",
        "        cor_widget.value = Cmax\n",
        "    if cor_widget.value < Cmin:\n",
        "        cor_widget.value = Cmin\n",
        "    cor = cor_widget.value\n",
        "    P = compute_marginal(px,py,cor)\n",
        "    # print(P)\n",
        "    fig = plot_joint_probs(P)\n",
        "    plt.show(fig)\n",
        "    plt.close(fig)\n",
        "    return None\n",
        "\n",
        "# gs[1,1] = make_corr_plot()"
      ],
      "execution_count": 12,
      "outputs": [
        {
          "output_type": "display_data",
          "data": {
            "application/vnd.jupyter.widget-view+json": {
              "model_id": "96e3b71a813b4ff4b33b171e4f4a9d94",
              "version_minor": 0,
              "version_major": 2
            },
            "text/plain": [
              "interactive(children=(FloatSlider(value=0.5, description='p(color=golden)', layout=Layout(grid_area='widget002…"
            ]
          },
          "metadata": {
            "tags": []
          }
        }
      ]
    },
    {
      "cell_type": "markdown",
      "metadata": {
        "execution": {
          "iopub.execute_input": "2021-06-25T15:15:27.850935Z",
          "iopub.status.busy": "2021-06-25T15:15:27.849827Z",
          "iopub.status.idle": "2021-06-25T15:15:27.851764Z",
          "shell.execute_reply": "2021-06-25T15:15:27.852245Z"
        },
        "id": "vwL6d0WV5snN"
      },
      "source": [
        "[*Click for solution*](https://github.com/NeuromatchAcademy/course-content/tree/master//tutorials/W3D1_BayesianDecisions/solutions/W3D1_Tutorial1_Solution_9727d8f3.py)\n",
        "\n"
      ]
    },
    {
      "cell_type": "markdown",
      "metadata": {
        "id": "kl-YxATvFWNg"
      },
      "source": [
        "#### answers\n",
        "1. When the correlation is zero, the two properties are completely independent.\n",
        " This means you don't gain any information about one variable from observing the other.\n",
        "Importantly, the marginal distribution of one variable is therefore independent of the other.\n",
        "\n",
        " 2. The correlation controls the distribution of probability across the joint probabilty table.\n",
        "The higher the correlation, the more the probabilities are restricted by the fact that both rows\n",
        "and columns need to sum to one! While the marginal probabilities show the relative weighting, the\n",
        "absolute probabilities for one quality will become more dependent on the other as the correlation\n",
        "goes to 1 or -1.\n",
        "\n",
        "3. The correlation will control how much probabilty mass is located on the diagonals. As the\n",
        "correlation goes to 1 (or -1), the probability of seeing the one of the two pairings has to goes\n",
        "towards zero!\n",
        "\n",
        "4. If we think about what information we gain by observing one quality, the intution from (3.) tells\n",
        "us that we know more (have more information) about the other quality as a function of the correlation."
      ]
    },
    {
      "cell_type": "markdown",
      "metadata": {
        "id": "s5mu8HQO5snN"
      },
      "source": [
        "We have just seen how two random variables can be more or less independent. The more correlated, the less independent, and the more shared information. We also learned that we can marginalize to determine the marginal likelihood of a hidden state or to find the marginal probability distribution of two random variables. We are going to now complete our journey towards being fully Bayesian!"
      ]
    },
    {
      "cell_type": "markdown",
      "metadata": {
        "id": "xTps3AEq5snN"
      },
      "source": [
        "---\n",
        "# Section 5: Bayes' Rule and the Posterior"
      ]
    },
    {
      "cell_type": "markdown",
      "metadata": {
        "id": "lSTmXJgR5snO"
      },
      "source": [
        "Marginalization is going to be used to combine our prior knowlege, which we call the **prior**, and our new information from a measurement, the **likelihood**. Only in this case, the information we gain about the hidden state we are interested in, where the fish are, is based on the relationship between the probabilities of the measurement and our prior. \n",
        "\n",
        "We can now calculate the full posterior distribution for the hidden state ($s$) using Bayes' Rule. As we've seen, the posterior is proportional the the prior times the likelihood. This means that the posterior probability of the hidden state ($s$) given a measurement ($m$) is proportional to the likelihood of the measurement given the state times the prior probability of that state (the marginal likelihood):\n",
        "\n",
        "$$ P(s | m) \\propto P(m | s) P(s)  $$\n",
        "\n",
        "We say proportional to instead of equal because we need to normalize to produce a full probability distribution:\n",
        "\n",
        "$$ P(s | m) = \\frac{P(m | s) P(s)}{P(m)}  $$\n",
        "\n",
        "Normalizing by this $P(m)$ means that our posterior is a complete probability distribution that sums or integrates to 1 appropriately. We now can use this new, complete probability distribution for any future inference or decisions we like! In fact, as we will see tomorrow, we can use it as a new prior! Finally, we often call this probability distribution our beliefs over the hidden states, to emphasize that it is our subjective knowlege about the hidden state.\n",
        "\n",
        "For many complicated cases, like those we might be using to model behavioral or brain inferences, the normalization term can be intractable or extremely complex to calculate. We can be careful to choose probability distributions were we can analytically calculate the posterior probability or numerical approximation is reliable. Better yet, we sometimes don't need to bother with this normalization! The normalization term, $P(m)$, is the probability of the measurement. This does not depend on state so is essentially a constant we can often ignore. We can compare the unnormalized posterior distribution values for different states because how they relate to each other is unchanged when divided by the same constant. We will see how to do this to compare evidence for different hypotheses tomorrow. (It's also used to compare the likelihood of models fit using maximum likelihood estimation, as you did in W1D5.)\n",
        "\n",
        "In this relatively simple example, we can compute the marginal probability $P(m)$ easily by using:\n",
        "$$P(m) = \\sum_s P(m | s) P(s)$$\n",
        "We can then normalize so that we deal with the full posterior distribution.\n"
      ]
    },
    {
      "cell_type": "markdown",
      "metadata": {
        "id": "X77RMiOy5snO"
      },
      "source": [
        "## Math Exercise 5: Calculating a posterior probability\n",
        "\n",
        "Our prior is $p(s = left) = 0.3$ and $p(s = right) = 0.7$. In the video, we learned that the chance of catching a fish given they fish on the same side as the school was 50%. Otherwise, it was 10%. We observe a person fishing on the left side. Our likelihood is: \n",
        "\n",
        "\n",
        "| Likelihood: p(m \\| s) | m = catch fish   | m = no fish  |\n",
        "| ----------------- |----------|----------|\n",
        "| s = left          | 0.5          | 0.5         |\n",
        "| s = right         | 0.1        |  0.9       |\n",
        "\n",
        "\n",
        "Calculate the posterior probability (on paper) that:\n",
        "\n",
        "1. The school is on the left if the fisherperson catches a fish: $p(s = left | m = catch fish)$ (hint: normalize by compute $p(m = catch fish)$)\n",
        "2. The school is on the right if the fisherperson does not catch a fish: $p(s = right | m = no fish)$\n",
        "\n",
        "### note:\n",
        "- p(s=left)=0.3 \n",
        "- p(s=right)=0.7"
      ]
    },
    {
      "cell_type": "markdown",
      "metadata": {
        "id": "5vf34Xb0HUWL"
      },
      "source": [
        "#### answers\n",
        "1. Using Bayes rule, we know that P(s = left | m = catch fish) = P(m = catch fish | s = left)P(s = left) / P(m = catch fish) \n",
        "\n",
        "Let's first compute P(m = catch fish): P(m = catch fish) =  P(m = catch fish | s = left)P(s = left) +  P(m = catch fish | s = right)P(s = right)\n",
        "-                      = 0.5 * 0.3 + .1*.7\n",
        "-                       = 0.22\n",
        "\n",
        "   Now we can plug in all parts of Bayes rule:\n",
        "\n",
        "   P(s = left | m = catch fish) = P(m = catch fish | s = left)P(s = left) / P(m = catch fish)\n",
        "-                                  = 0.5*0.3/0.22\n",
        "-                                  = 0.68\n",
        "\n",
        "2. Using Bayes rule, we know that P(s = right | m = no fish) = P(m = no fish | s = right)P(s = right) / P(m = no fish)\n",
        "   Let's first compute P(m = no fish):\n",
        "  P(m = no fish) =  P(m = no fish | s = left)P(s = left) +  P(m = no fish | s = right)P(s = right)\n",
        "-                      = 0.5 * 0.3 + .9*.7\n",
        "-                      = 0.78\n",
        "\n",
        "   Now we can plug in all parts of Bayes rule:\n",
        "\n",
        "  P(s = right | m = no fish) = P(m = no fish | s = right)P(s = right) / P(m = no fish)\n",
        "-                                 = 0.9*0.7/0.78\n",
        "-                                 = 0.81"
      ]
    },
    {
      "cell_type": "markdown",
      "metadata": {
        "execution": {
          "iopub.execute_input": "2021-06-25T15:15:27.856837Z",
          "iopub.status.busy": "2021-06-25T15:15:27.855645Z",
          "iopub.status.idle": "2021-06-25T15:15:27.857534Z",
          "shell.execute_reply": "2021-06-25T15:15:27.857980Z"
        },
        "id": "oZL2lMJQ5snO"
      },
      "source": [
        "[*Click for solution*](https://github.com/NeuromatchAcademy/course-content/tree/master//tutorials/W3D1_BayesianDecisions/solutions/W3D1_Tutorial1_Solution_46a5b352.py)\n",
        "\n"
      ]
    },
    {
      "cell_type": "markdown",
      "metadata": {
        "id": "7FKmyUSW5snP"
      },
      "source": [
        "## Coding Exercise 5: Computing Posteriors\n",
        "\n",
        "Let's implement our above math to be able to compute posteriors for different priors and likelihood.s\n",
        "\n",
        "As before, our prior is $p(s = left) = 0.3$ and $p(s = right) = 0.7$. In the video, we learned that the chance of catching a fish given they fish on the same side as the school was 50%. Otherwise, it was 10%. We observe a person fishing on the left side. Our likelihood is: \n",
        "\n",
        "\n",
        "| Likelihood: p(m \\| s) | m = catch fish   | m = no fish  |\n",
        "| ----------------- |----------|----------|\n",
        "| s = left          | 0.5          | 0.5         |\n",
        "| s = right         | 0.1        |  0.9       |\n",
        "\n",
        "\n",
        "We want our full posterior to take the same 2 by 2 form. Make sure the outputs match your math answers!\n",
        "\n"
      ]
    },
    {
      "cell_type": "code",
      "metadata": {
        "execution": {
          "iopub.execute_input": "2021-06-25T15:15:27.865944Z",
          "iopub.status.busy": "2021-06-25T15:15:27.865375Z",
          "iopub.status.idle": "2021-06-25T15:15:27.960980Z",
          "shell.execute_reply": "2021-06-25T15:15:27.961872Z"
        },
        "id": "dWIdVKk-5snP",
        "outputId": "4c535c53-d76b-4079-9d93-dfd4b9c695d3",
        "colab": {
          "base_uri": "https://localhost:8080/",
          "height": 327
        }
      },
      "source": [
        "def compute_posterior(likelihood, prior):\n",
        "  \"\"\" Use Bayes' Rule to compute posterior from likelihood and prior\n",
        "\n",
        "  Args:\n",
        "    likelihood (ndarray): i x j array with likelihood probabilities where i is\n",
        "                    number of state options, j is number of measurement options\n",
        "    prior (ndarray): i x 1 array with prior probability of each state\n",
        "\n",
        "  Returns:\n",
        "    ndarray: i x j array with posterior probabilities where i is\n",
        "            number of state options, j is number of measurement options\n",
        "\n",
        "  \"\"\"\n",
        "\n",
        "  #################################################\n",
        "  ## TODO for students ##\n",
        "  # Fill out function and remove\n",
        "  # raise NotImplementedError(\"Student exercise: implement compute_posterior\")\n",
        "  #################################################\n",
        "\n",
        "  # Compute unnormalized posterior (likelihood times prior)\n",
        "  posterior = likelihood * prior # first row is s = left, second row is s = right\n",
        "\n",
        "  # Compute p(m)\n",
        "  p_m = np.sum(posterior, axis = 0)\n",
        "\n",
        "  # Normalize posterior (divide elements by p_m)\n",
        "  posterior /= p_m\n",
        "    ## what this means is this: posterior= posterior/ p_m\n",
        "      ## could also use that same code and get the same thing\n",
        "\n",
        "\n",
        "  return posterior\n",
        "\n",
        "# Make prior\n",
        "prior = np.array([0.3, 0.7]).reshape((2, 1)) # first row is s = left, second row is s = right\n",
        "\n",
        "# Make likelihood\n",
        "likelihood = np.array([[0.5, 0.5], [0.1, 0.9]]) # first row is s = left, second row is s = right\n",
        "\n",
        "# Compute posterior\n",
        "posterior = compute_posterior(likelihood, prior)\n",
        "\n",
        "# Visualize\n",
        "plot_prior_likelihood_posterior(prior, likelihood, posterior)"
      ],
      "execution_count": 15,
      "outputs": [
        {
          "output_type": "display_data",
          "data": {
            "image/png": "[encoded data removed]",
            "text/plain": [
              "<Figure size 720x288 with 3 Axes>"
            ]
          },
          "metadata": {
            "tags": [],
            "image/png": {
              "width": 671,
              "height": 310
            },
            "needs_background": "light"
          }
        }
      ]
    },
    {
      "cell_type": "markdown",
      "metadata": {
        "execution": {
          "iopub.execute_input": "2021-06-25T15:15:27.968291Z",
          "iopub.status.busy": "2021-06-25T15:15:27.967743Z",
          "iopub.status.idle": "2021-06-25T15:15:28.290753Z",
          "shell.execute_reply": "2021-06-25T15:15:28.290286Z"
        },
        "id": "BxZvdvaz5snP"
      },
      "source": [
        "[*Click for solution*](https://github.com/NeuromatchAcademy/course-content/tree/master//tutorials/W3D1_BayesianDecisions/solutions/W3D1_Tutorial1_Solution_042b00b7.py)\n",
        "\n",
        "*Example output:*\n",
        "\n",
        "<img alt='Solution hint' align='left' width=669 height=314 src=https://raw.githubusercontent.com/NeuromatchAcademy/course-content/master/tutorials/W3D1_BayesianDecisions/static/W3D1_Tutorial1_Solution_042b00b7_0.png>\n",
        "\n"
      ]
    },
    {
      "cell_type": "markdown",
      "metadata": {
        "id": "Y5dgTxtI5snP"
      },
      "source": [
        "## Interactive Demo 5: What affects the posterior?\n",
        "\n",
        "Now that we can understand the implementation of *Bayes rule*, let's vary the parameters of the prior and likelihood to see how changing the prior and likelihood affect the posterior. \n",
        "\n",
        "In the demo below, you can change the prior by playing with the slider for $p( s = left)$. You can also change the likelihood by changing the probability of catching a fish given that the school is on the left and the probability of catching a fish given that the school is on the right. The fisherperson you are observing is fishing on the left.\n",
        " \n",
        "\n",
        "1.   Keeping the likelihood constant, when does the prior have the strongest influence over the posterior? Meaning, when does the posterior look most like the prior no matter whether a fish was caught or not?\n",
        "2.   Keeping the likelihood constant, when does the prior exert the weakest influence?  Meaning, when does the posterior look least like the prior and depend most on whether a fish was caught or not?\n",
        "3.  Set the prior probability of the state = left to 0.6 and play with the likelihood. When does the likelihood exert the most influence over the posterior?"
      ]
    },
    {
      "cell_type": "code",
      "metadata": {
        "cellView": "form",
        "execution": {
          "iopub.execute_input": "2021-06-25T15:15:28.333682Z",
          "iopub.status.busy": "2021-06-25T15:15:28.333070Z",
          "iopub.status.idle": "2021-06-25T15:15:28.570340Z",
          "shell.execute_reply": "2021-06-25T15:15:28.570771Z"
        },
        "id": "E6AU_8Z05snP",
        "outputId": "1444ec7e-575d-4701-8a20-acfadce81aa7",
        "colab": {
          "base_uri": "https://localhost:8080/",
          "height": 455,
          "referenced_widgets": [
            "976532f2b3ef4c1ea9470a9672fd5788",
            "3440cb1b87a64ce58190dc1019896339",
            "6b3ad7ecdc994c1c91b888a37859c2c4",
            "c85456fb47c8421f9741c57d2d666411",
            "8ade5bf9400b47f6a0b7a64edeecba8b",
            "b03f75b1543d4fb98e5e70b3d52f400e",
            "9645f96ddd9a4981acf59e86ebf50f7a",
            "8b378ee091654543a0f1f0e37fdfccd9",
            "151b9c9abd4348c187a9ebd8b252a499",
            "b17d77cfb29c4f22bcf367b608078d07",
            "7464672eb618473bafb843eb78b8f31f",
            "7abfec46cf34493c9fd1a1ec8c424c78",
            "3dde03a53ad74296ba5ca60dbeec0937",
            "650bf113df38441e97409c6b481f9c4e",
            "74ef4e47e8d246f68e9f2095ecaa4058",
            "a698170d98084a808dcb0f9d44aae5f8"
          ]
        }
      },
      "source": [
        "# @markdown Execute this cell to enable the widget\n",
        "style = {'description_width': 'initial'}\n",
        "ps_widget = widgets.FloatSlider(0.3, description='p(s = left)',\n",
        "                                min=0.01, max=0.99, step=0.01)\n",
        "p_a_s1_widget = widgets.FloatSlider(0.5, description='p(fish | s = left)',\n",
        "                                    min=0.01, max=0.99, step=0.01, style=style)\n",
        "p_a_s0_widget = widgets.FloatSlider(0.1, description='p(fish | s = right)',\n",
        "                                    min=0.01, max=0.99, step=0.01, style=style)\n",
        "observed_widget = widgets.Checkbox(value=False, description='Observed fish (m)',\n",
        "                                 disabled=False, indent=False, layout={'width': 'max-content'})\n",
        "\n",
        "@widgets.interact(\n",
        "    ps=ps_widget,\n",
        "    p_a_s1=p_a_s1_widget,\n",
        "    p_a_s0=p_a_s0_widget,\n",
        "    m_right=observed_widget\n",
        ")\n",
        "def make_prior_likelihood_plot(ps,p_a_s1,p_a_s0,m_right):\n",
        "    fig = plot_prior_likelihood(ps,p_a_s1,p_a_s0,m_right)\n",
        "    plt.show(fig)\n",
        "    plt.close(fig)\n",
        "    return None"
      ],
      "execution_count": 16,
      "outputs": [
        {
          "output_type": "display_data",
          "data": {
            "application/vnd.jupyter.widget-view+json": {
              "model_id": "976532f2b3ef4c1ea9470a9672fd5788",
              "version_minor": 0,
              "version_major": 2
            },
            "text/plain": [
              "interactive(children=(FloatSlider(value=0.3, description='p(s = left)', max=0.99, min=0.01, step=0.01), FloatS…"
            ]
          },
          "metadata": {
            "tags": []
          }
        }
      ]
    },
    {
      "cell_type": "markdown",
      "metadata": {
        "id": "yYFiFWqCKtsH"
      },
      "source": [
        "#### Answers\n",
        "\n",
        "1).  The prior exerts a strong influence over the posterior when it is very informative: when\n",
        "  the probability of the school being on one side or the other. If the prior that the fish are\n",
        " on the left side is very high (like 0.9), the posterior probability of the state being left is\n",
        " high regardless of the measurement.\n",
        "\n",
        "2).  The prior does not exert a strong influence when it is not informative: when the probabilities\n",
        "  of the school being on the left vs right are similar (both are 0.5 for example). In this case,\n",
        "  the posterior is more driven  by the collected data (the measurement) and more closely resembles\n",
        " the likelihood.\n",
        "\n",
        "\n",
        " 3) Similarly to the prior, the likelihood exerts the most influence when it is informative: when catching\n",
        " a fish tells you a lot of information about which state is likely. For example, if the probability of the\n",
        " fisherperson catching a fish if he is fishing on the right side and the school is on the left is 0\n",
        " (p fish | s = left) = 0 and the probability of catching a fish if the school is on the right is 1, the\n",
        " prior does not affect the posterior at all. The measurement tells you the hidden state completely."
      ]
    },
    {
      "cell_type": "markdown",
      "metadata": {
        "execution": {
          "iopub.execute_input": "2021-06-25T15:15:28.577224Z",
          "iopub.status.busy": "2021-06-25T15:15:28.576677Z",
          "iopub.status.idle": "2021-06-25T15:15:28.580420Z",
          "shell.execute_reply": "2021-06-25T15:15:28.579966Z"
        },
        "id": "6eRMccND5snQ"
      },
      "source": [
        "[*Click for solution*](https://github.com/NeuromatchAcademy/course-content/tree/master//tutorials/W3D1_BayesianDecisions/solutions/W3D1_Tutorial1_Solution_a004d68d.py)\n",
        "\n"
      ]
    },
    {
      "cell_type": "markdown",
      "metadata": {
        "id": "ZLW0FRTc5snQ"
      },
      "source": [
        "# Section 6: Making Bayesian fishing decisions\n",
        "\n",
        "We will explore how to consider the expected utility of an action based on our belief (the posterior distribution) about where we think the fish are. Now we have all the components of a Bayesian decision: our prior information, the likelihood given a measurement, the posterior distribution (belief) and our utility (the gains and losses). This allows us to consider the relationship between the true value of the hidden state, $s$, and what we *expect* to get if we take action, $a$, based on our belief!\n",
        "\n",
        "Let's use the following widget to think about the relationship between these probability distributions and utility function."
      ]
    },
    {
      "cell_type": "markdown",
      "metadata": {
        "id": "IbDk6CfS5snR"
      },
      "source": [
        "## Think! 6: What is more important, the probabilities or the utilities?\n",
        "\n",
        "We are now going to put everything we've learned together to gain some intuitions for how each of the elements that goes into a Bayesian decision comes together. Remember, the common assumption in neuroscience, psychology, economics, ecology, etc. is that we (humans and animals) are tying to maximize our expected utility.\n",
        "\n",
        "1. Can you find a situation where the expected utility is the same for both actions?\n",
        "2. What is more important for determining the expected utility: the prior or a new measurement (the likelihood)?\n",
        "3. Why is this a normative model?\n",
        "4. Can you think of ways in which this model would need to be extended to describe human or animal behavior?"
      ]
    },
    {
      "cell_type": "code",
      "metadata": {
        "cellView": "form",
        "execution": {
          "iopub.execute_input": "2021-06-25T15:15:28.632070Z",
          "iopub.status.busy": "2021-06-25T15:15:28.628105Z",
          "iopub.status.idle": "2021-06-25T15:15:29.020824Z",
          "shell.execute_reply": "2021-06-25T15:15:29.020317Z"
        },
        "id": "XXcDwt8-5snS",
        "outputId": "98cd153b-de50-43c4-c4c6-09c556a7ce3b",
        "colab": {
          "base_uri": "https://localhost:8080/",
          "height": 448,
          "referenced_widgets": [
            "1d5fe6c038514e50ad363e71fc97cb03",
            "4ba9c155b5414a1a9c4ec83965ff678a",
            "effa84f27404481d89ffad7917b68e21",
            "10f9d9eabf314edea5b2cb73fcff229a",
            "f5f487c6b6b7432b9fe3b726b13cf505",
            "9d2052f889a6493299d463ea88834a6e",
            "09ba23f2d42b439dba3b13b948084327",
            "f5d651cbcd854b9993b029b88d5f94e2",
            "5e7895e20a2344f7a826d8cb043ad51e",
            "ec65418a43ec420db7d87fda5e967b6c",
            "7b4ad466ab2443a69c28ad581255eea2",
            "f8c8bd337dc94e129c4a66c96ff9ed62",
            "6b6b41cc085b4f9b90109c4d0b2ebe3a",
            "6e89b7147d1f4eaca34a5fd1200a02b2",
            "5c5e9be7e57e4c8a890f675d1df51e30",
            "c27822cfa4054d439082876b237d70d5"
          ]
        }
      },
      "source": [
        "# @markdown Execute this cell to enable the widget\n",
        "style = {'description_width': 'initial'}\n",
        "ps_widget = widgets.FloatSlider(0.3, description='p(s)',\n",
        "                                min=0.01, max=0.99, step=0.01)\n",
        "p_a_s1_widget = widgets.FloatSlider(0.5, description='p(fish | s = left)',\n",
        "                                    min=0.01, max=0.99, step=0.01, style=style)\n",
        "p_a_s0_widget = widgets.FloatSlider(0.1, description='p(fish | s = right)',\n",
        "                                    min=0.01, max=0.99, step=0.01, style=style)\n",
        "observed_widget = widgets.Checkbox(value=False, description='Observed fish (m)',\n",
        "                                 disabled=False, indent=False, layout={'width': 'max-content'})\n",
        "\n",
        "@widgets.interact(\n",
        "    ps=ps_widget,\n",
        "    p_a_s1=p_a_s1_widget,\n",
        "    p_a_s0=p_a_s0_widget,\n",
        "    m_right=observed_widget\n",
        ")\n",
        "def make_prior_likelihood_utility_plot(ps, p_a_s1, p_a_s0,m_right):\n",
        "    fig = plot_prior_likelihood_utility(ps, p_a_s1, p_a_s0,m_right)\n",
        "    plt.show(fig)\n",
        "    plt.close(fig)\n",
        "    return None"
      ],
      "execution_count": 17,
      "outputs": [
        {
          "output_type": "display_data",
          "data": {
            "application/vnd.jupyter.widget-view+json": {
              "model_id": "1d5fe6c038514e50ad363e71fc97cb03",
              "version_minor": 0,
              "version_major": 2
            },
            "text/plain": [
              "interactive(children=(FloatSlider(value=0.3, description='p(s)', max=0.99, min=0.01, step=0.01), FloatSlider(v…"
            ]
          },
          "metadata": {
            "tags": []
          }
        }
      ]
    },
    {
      "cell_type": "markdown",
      "metadata": {
        "id": "Lq39j-ipUxf3"
      },
      "source": [
        "#### Answer\n",
        "1. There are actually many (infinite) combinations that can produce the same\n",
        " expected utility for both actions: but the posterior probabilities will always\n",
        " have to balance out the differences in the utility function. So, what is\n",
        "important is that for a given utility function, there will be some 'point\n",
        " of indifference'\n",
        "\n",
        "2. What matters is the relative information: if the prior is close to 50/50,\n",
        " then the likelihood has more infuence, if the likelihood is 50/50 given a\n",
        " measurement (the measurement is uninformative), the prior is more important.\n",
        " But the critical insite from Bayes Rule and the Bayesian approach is that what\n",
        " matters is the relative information you gain from a measurement, and that\n",
        " you can use all of this information for your decision.\n",
        "\n",
        "3. The model gives us a very precise way to think about how we *should* combine\n",
        " information and how we *should* act, GIVEN some assumption about our goals.\n",
        " In this case, if we assume we are trying to maximize expected utility--we can\n",
        " state what an animal or subject should do.\n",
        "\n",
        "4. There are lots of possible extensions. Humans may not always try to maximize\n",
        " utility; humans and animals might not be able to calculate or represent probabiltiy\n",
        " distributions exactly; The utility function might be more complicated; etc."
      ]
    },
    {
      "cell_type": "markdown",
      "metadata": {
        "execution": {
          "iopub.execute_input": "2021-06-25T15:15:29.026803Z",
          "iopub.status.busy": "2021-06-25T15:15:29.025580Z",
          "iopub.status.idle": "2021-06-25T15:15:29.027429Z",
          "shell.execute_reply": "2021-06-25T15:15:29.027901Z"
        },
        "id": "mTM3-77W5snS"
      },
      "source": [
        "[*Click for solution*](https://github.com/NeuromatchAcademy/course-content/tree/master//tutorials/W3D1_BayesianDecisions/solutions/W3D1_Tutorial1_Solution_3a230382.py)\n",
        "\n"
      ]
    },
    {
      "cell_type": "markdown",
      "metadata": {
        "id": "H5Ed25PQ5snT"
      },
      "source": [
        "---\n",
        "# Summary\n",
        "\n",
        "In this tutorial, you learned about combining prior information with new measurements to update your knowledge using Bayes Rulem, in the context of a fishing problem. \n",
        "\n",
        "Specifically, we covered:\n",
        "\n",
        "* That the likelihood is the probability of the measurement given some hidden state\n",
        "\n",
        "* That how the prior and likelihood interact to create the posterior, the probability of the hidden state given a measurement, depends on how they covary\n",
        "\n",
        "* That utility is the gain from each action and state pair, and the expected utility for an action is the sum of the utility for all state pairs, weighted by the probability of that state happening. You can then choose the action with highest expected utility.\n"
      ]
    },
    {
      "cell_type": "markdown",
      "metadata": {
        "id": "yXJggX3_5snT"
      },
      "source": [
        "---\n",
        "# Bonus"
      ]
    },
    {
      "cell_type": "markdown",
      "metadata": {
        "id": "rojDXegw5snT"
      },
      "source": [
        "## Bonus Section 1: Correlation Formula\n",
        "To understand the way we calculate the correlation, we need to review the definition of covariance and correlation.\n",
        "\n",
        "Covariance:\n",
        "\n",
        "$$\n",
        "cov(X,Y) = \\sigma_{XY} = E[(X - \\mu_{x})(Y - \\mu_{y})] = E[X]E[Y] - \\mu_{x}\\mu_{y}\n",
        "$$\n",
        "\n",
        "Correlation:\n",
        "\n",
        "$$\n",
        "\\rho_{XY} = \\frac{cov(Y,Y)}{\\sqrt{V(X)V(Y)}} = \\frac{\\sigma_{XY}}{\\sigma_{X}\\sigma_{Y}}\n",
        "$$"
      ]
    }
  ]
}