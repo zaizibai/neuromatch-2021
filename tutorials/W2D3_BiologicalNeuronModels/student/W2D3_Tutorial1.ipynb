{
  "nbformat": 4,
  "nbformat_minor": 0,
  "metadata": {
    "colab": {
      "name": "W2D3_Tutorial1",
      "provenance": [],
      "collapsed_sections": [],
      "toc_visible": true,
      "include_colab_link": true
    },
    "kernel": {
      "display_name": "Python 3",
      "language": "python",
      "name": "python3"
    },
    "kernelspec": {
      "display_name": "Python 3",
      "name": "python3"
    },
    "language_info": {
      "codemirror_mode": {
        "name": "ipython",
        "version": 3
      },
      "file_extension": ".py",
      "mimetype": "text/x-python",
      "name": "python",
      "nbconvert_exporter": "python",
      "pygments_lexer": "ipython3",
      "version": "3.7.10"
    },
    "widgets": {
      "application/vnd.jupyter.widget-state+json": {
        "ecd5d7a219ec4155a06b7a3bb4dd7cce": {
          "model_module": "@jupyter-widgets/controls",
          "model_name": "TabModel",
          "state": {
            "_view_name": "TabView",
            "_dom_classes": [],
            "_titles": {
              "0": "Youtube",
              "1": "Bilibili"
            },
            "_model_name": "TabModel",
            "_view_module": "@jupyter-widgets/controls",
            "selected_index": 0,
            "_model_module_version": "1.5.0",
            "_view_count": null,
            "_view_module_version": "1.5.0",
            "box_style": "",
            "layout": "IPY_MODEL_847d07f1f59b49fa934d2353faf36527",
            "_model_module": "@jupyter-widgets/controls",
            "children": [
              "IPY_MODEL_bb7395eb7ae941d39d95e885bf3aa29f",
              "IPY_MODEL_188e6f5f8a964bb7b3ce33d96554fda9"
            ]
          }
        },
        "847d07f1f59b49fa934d2353faf36527": {
          "model_module": "@jupyter-widgets/base",
          "model_name": "LayoutModel",
          "state": {
            "_view_name": "LayoutView",
            "grid_template_rows": null,
            "right": null,
            "justify_content": null,
            "_view_module": "@jupyter-widgets/base",
            "overflow": null,
            "_model_module_version": "1.2.0",
            "_view_count": null,
            "flex_flow": null,
            "width": null,
            "min_width": null,
            "border": null,
            "align_items": null,
            "bottom": null,
            "_model_module": "@jupyter-widgets/base",
            "top": null,
            "grid_column": null,
            "overflow_y": null,
            "overflow_x": null,
            "grid_auto_flow": null,
            "grid_area": null,
            "grid_template_columns": null,
            "flex": null,
            "_model_name": "LayoutModel",
            "justify_items": null,
            "grid_row": null,
            "max_height": null,
            "align_content": null,
            "visibility": null,
            "align_self": null,
            "height": null,
            "min_height": null,
            "padding": null,
            "grid_auto_rows": null,
            "grid_gap": null,
            "max_width": null,
            "order": null,
            "_view_module_version": "1.2.0",
            "grid_template_areas": null,
            "object_position": null,
            "object_fit": null,
            "grid_auto_columns": null,
            "margin": null,
            "display": null,
            "left": null
          }
        },
        "bb7395eb7ae941d39d95e885bf3aa29f": {
          "model_module": "@jupyter-widgets/output",
          "model_name": "OutputModel",
          "state": {
            "_view_name": "OutputView",
            "msg_id": "",
            "_dom_classes": [],
            "_model_name": "OutputModel",
            "outputs": [
              {
                "output_type": "stream",
                "metadata": {
                  "tags": []
                },
                "text": "Video available at https://youtube.com/watch?v=rSExvwCVRYg\n",
                "stream": "stdout"
              },
              {
                "output_type": "display_data",
                "metadata": {
                  "tags": []
                },
                "text/html": "\n        <iframe\n            width=\"854\"\n            height=\"480\"\n            src=\"https://www.youtube.com/embed/rSExvwCVRYg?fs=1&rel=0\"\n            frameborder=\"0\"\n            allowfullscreen\n        ></iframe>\n        ",
                "text/plain": "<IPython.lib.display.YouTubeVideo at 0x7fec35df3490>",
                "image/jpeg": "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\n"
              }
            ],
            "_view_module": "@jupyter-widgets/output",
            "_model_module_version": "1.0.0",
            "_view_count": null,
            "_view_module_version": "1.0.0",
            "layout": "IPY_MODEL_a5da0e5a66ac4b03a184e4fbb18cddf1",
            "_model_module": "@jupyter-widgets/output"
          }
        },
        "188e6f5f8a964bb7b3ce33d96554fda9": {
          "model_module": "@jupyter-widgets/output",
          "model_name": "OutputModel",
          "state": {
            "_view_name": "OutputView",
            "msg_id": "",
            "_dom_classes": [],
            "_model_name": "OutputModel",
            "outputs": [
              {
                "output_type": "stream",
                "metadata": {
                  "tags": []
                },
                "text": "Video available at https://www.bilibili.com/video/av456396195\n",
                "stream": "stdout"
              },
              {
                "output_type": "display_data",
                "metadata": {
                  "tags": []
                },
                "text/html": "\n        <iframe\n            width=\"854\"\n            height=\"480\"\n            src=\"https://player.bilibili.com/player.html?bvid=av456396195&page=1?fs=1\"\n            frameborder=\"0\"\n            allowfullscreen\n        ></iframe>\n        ",
                "text/plain": "<__main__.BiliVideo at 0x7fec310c35d0>"
              }
            ],
            "_view_module": "@jupyter-widgets/output",
            "_model_module_version": "1.0.0",
            "_view_count": null,
            "_view_module_version": "1.0.0",
            "layout": "IPY_MODEL_1b1e9544f81d42edbcfe739721fce97b",
            "_model_module": "@jupyter-widgets/output"
          }
        },
        "a5da0e5a66ac4b03a184e4fbb18cddf1": {
          "model_module": "@jupyter-widgets/base",
          "model_name": "LayoutModel",
          "state": {
            "_view_name": "LayoutView",
            "grid_template_rows": null,
            "right": null,
            "justify_content": null,
            "_view_module": "@jupyter-widgets/base",
            "overflow": null,
            "_model_module_version": "1.2.0",
            "_view_count": null,
            "flex_flow": null,
            "width": null,
            "min_width": null,
            "border": null,
            "align_items": null,
            "bottom": null,
            "_model_module": "@jupyter-widgets/base",
            "top": null,
            "grid_column": null,
            "overflow_y": null,
            "overflow_x": null,
            "grid_auto_flow": null,
            "grid_area": null,
            "grid_template_columns": null,
            "flex": null,
            "_model_name": "LayoutModel",
            "justify_items": null,
            "grid_row": null,
            "max_height": null,
            "align_content": null,
            "visibility": null,
            "align_self": null,
            "height": null,
            "min_height": null,
            "padding": null,
            "grid_auto_rows": null,
            "grid_gap": null,
            "max_width": null,
            "order": null,
            "_view_module_version": "1.2.0",
            "grid_template_areas": null,
            "object_position": null,
            "object_fit": null,
            "grid_auto_columns": null,
            "margin": null,
            "display": null,
            "left": null
          }
        },
        "1b1e9544f81d42edbcfe739721fce97b": {
          "model_module": "@jupyter-widgets/base",
          "model_name": "LayoutModel",
          "state": {
            "_view_name": "LayoutView",
            "grid_template_rows": null,
            "right": null,
            "justify_content": null,
            "_view_module": "@jupyter-widgets/base",
            "overflow": null,
            "_model_module_version": "1.2.0",
            "_view_count": null,
            "flex_flow": null,
            "width": null,
            "min_width": null,
            "border": null,
            "align_items": null,
            "bottom": null,
            "_model_module": "@jupyter-widgets/base",
            "top": null,
            "grid_column": null,
            "overflow_y": null,
            "overflow_x": null,
            "grid_auto_flow": null,
            "grid_area": null,
            "grid_template_columns": null,
            "flex": null,
            "_model_name": "LayoutModel",
            "justify_items": null,
            "grid_row": null,
            "max_height": null,
            "align_content": null,
            "visibility": null,
            "align_self": null,
            "height": null,
            "min_height": null,
            "padding": null,
            "grid_auto_rows": null,
            "grid_gap": null,
            "max_width": null,
            "order": null,
            "_view_module_version": "1.2.0",
            "grid_template_areas": null,
            "object_position": null,
            "object_fit": null,
            "grid_auto_columns": null,
            "margin": null,
            "display": null,
            "left": null
          }
        },
        "8e3365e0be514b79837dbff1d4834d4b": {
          "model_module": "@jupyter-widgets/controls",
          "model_name": "TabModel",
          "state": {
            "_view_name": "TabView",
            "_dom_classes": [],
            "_titles": {
              "0": "Youtube",
              "1": "Bilibili"
            },
            "_model_name": "TabModel",
            "_view_module": "@jupyter-widgets/controls",
            "selected_index": 0,
            "_model_module_version": "1.5.0",
            "_view_count": null,
            "_view_module_version": "1.5.0",
            "box_style": "",
            "layout": "IPY_MODEL_23ee5cb3d1034b598bb08231ae73e40e",
            "_model_module": "@jupyter-widgets/controls",
            "children": [
              "IPY_MODEL_6c2adac37d7644e48ca122765812cc2b",
              "IPY_MODEL_5066aa7c487e46aa9c18e1caf237c165"
            ]
          }
        },
        "23ee5cb3d1034b598bb08231ae73e40e": {
          "model_module": "@jupyter-widgets/base",
          "model_name": "LayoutModel",
          "state": {
            "_view_name": "LayoutView",
            "grid_template_rows": null,
            "right": null,
            "justify_content": null,
            "_view_module": "@jupyter-widgets/base",
            "overflow": null,
            "_model_module_version": "1.2.0",
            "_view_count": null,
            "flex_flow": null,
            "width": null,
            "min_width": null,
            "border": null,
            "align_items": null,
            "bottom": null,
            "_model_module": "@jupyter-widgets/base",
            "top": null,
            "grid_column": null,
            "overflow_y": null,
            "overflow_x": null,
            "grid_auto_flow": null,
            "grid_area": null,
            "grid_template_columns": null,
            "flex": null,
            "_model_name": "LayoutModel",
            "justify_items": null,
            "grid_row": null,
            "max_height": null,
            "align_content": null,
            "visibility": null,
            "align_self": null,
            "height": null,
            "min_height": null,
            "padding": null,
            "grid_auto_rows": null,
            "grid_gap": null,
            "max_width": null,
            "order": null,
            "_view_module_version": "1.2.0",
            "grid_template_areas": null,
            "object_position": null,
            "object_fit": null,
            "grid_auto_columns": null,
            "margin": null,
            "display": null,
            "left": null
          }
        },
        "6c2adac37d7644e48ca122765812cc2b": {
          "model_module": "@jupyter-widgets/output",
          "model_name": "OutputModel",
          "state": {
            "_view_name": "OutputView",
            "msg_id": "",
            "_dom_classes": [],
            "_model_name": "OutputModel",
            "outputs": [
              {
                "output_type": "stream",
                "metadata": {
                  "tags": []
                },
                "text": "Video available at https://youtube.com/watch?v=preNGdab7Kk\n",
                "stream": "stdout"
              },
              {
                "output_type": "display_data",
                "metadata": {
                  "tags": []
                },
                "text/html": "\n        <iframe\n            width=\"854\"\n            height=\"480\"\n            src=\"https://www.youtube.com/embed/preNGdab7Kk?fs=1&rel=0\"\n            frameborder=\"0\"\n            allowfullscreen\n        ></iframe>\n        ",
                "text/plain": "<IPython.lib.display.YouTubeVideo at 0x7fec28a6d850>",
                "image/jpeg": "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\n"
              }
            ],
            "_view_module": "@jupyter-widgets/output",
            "_model_module_version": "1.0.0",
            "_view_count": null,
            "_view_module_version": "1.0.0",
            "layout": "IPY_MODEL_e203ba086b1040d5bd69a2968907a4e9",
            "_model_module": "@jupyter-widgets/output"
          }
        },
        "5066aa7c487e46aa9c18e1caf237c165": {
          "model_module": "@jupyter-widgets/output",
          "model_name": "OutputModel",
          "state": {
            "_view_name": "OutputView",
            "msg_id": "",
            "_dom_classes": [],
            "_model_name": "OutputModel",
            "outputs": [
              {
                "output_type": "stream",
                "metadata": {
                  "tags": []
                },
                "text": "Video available at https://www.bilibili.com/video/av541417171\n",
                "stream": "stdout"
              },
              {
                "output_type": "display_data",
                "metadata": {
                  "tags": []
                },
                "text/html": "\n        <iframe\n            width=\"854\"\n            height=\"480\"\n            src=\"https://player.bilibili.com/player.html?bvid=av541417171&page=1?fs=1\"\n            frameborder=\"0\"\n            allowfullscreen\n        ></iframe>\n        ",
                "text/plain": "<__main__.BiliVideo at 0x7fec28f56990>"
              }
            ],
            "_view_module": "@jupyter-widgets/output",
            "_model_module_version": "1.0.0",
            "_view_count": null,
            "_view_module_version": "1.0.0",
            "layout": "IPY_MODEL_df92e557f44449488b2fe6cf34399580",
            "_model_module": "@jupyter-widgets/output"
          }
        },
        "e203ba086b1040d5bd69a2968907a4e9": {
          "model_module": "@jupyter-widgets/base",
          "model_name": "LayoutModel",
          "state": {
            "_view_name": "LayoutView",
            "grid_template_rows": null,
            "right": null,
            "justify_content": null,
            "_view_module": "@jupyter-widgets/base",
            "overflow": null,
            "_model_module_version": "1.2.0",
            "_view_count": null,
            "flex_flow": null,
            "width": null,
            "min_width": null,
            "border": null,
            "align_items": null,
            "bottom": null,
            "_model_module": "@jupyter-widgets/base",
            "top": null,
            "grid_column": null,
            "overflow_y": null,
            "overflow_x": null,
            "grid_auto_flow": null,
            "grid_area": null,
            "grid_template_columns": null,
            "flex": null,
            "_model_name": "LayoutModel",
            "justify_items": null,
            "grid_row": null,
            "max_height": null,
            "align_content": null,
            "visibility": null,
            "align_self": null,
            "height": null,
            "min_height": null,
            "padding": null,
            "grid_auto_rows": null,
            "grid_gap": null,
            "max_width": null,
            "order": null,
            "_view_module_version": "1.2.0",
            "grid_template_areas": null,
            "object_position": null,
            "object_fit": null,
            "grid_auto_columns": null,
            "margin": null,
            "display": null,
            "left": null
          }
        },
        "df92e557f44449488b2fe6cf34399580": {
          "model_module": "@jupyter-widgets/base",
          "model_name": "LayoutModel",
          "state": {
            "_view_name": "LayoutView",
            "grid_template_rows": null,
            "right": null,
            "justify_content": null,
            "_view_module": "@jupyter-widgets/base",
            "overflow": null,
            "_model_module_version": "1.2.0",
            "_view_count": null,
            "flex_flow": null,
            "width": null,
            "min_width": null,
            "border": null,
            "align_items": null,
            "bottom": null,
            "_model_module": "@jupyter-widgets/base",
            "top": null,
            "grid_column": null,
            "overflow_y": null,
            "overflow_x": null,
            "grid_auto_flow": null,
            "grid_area": null,
            "grid_template_columns": null,
            "flex": null,
            "_model_name": "LayoutModel",
            "justify_items": null,
            "grid_row": null,
            "max_height": null,
            "align_content": null,
            "visibility": null,
            "align_self": null,
            "height": null,
            "min_height": null,
            "padding": null,
            "grid_auto_rows": null,
            "grid_gap": null,
            "max_width": null,
            "order": null,
            "_view_module_version": "1.2.0",
            "grid_template_areas": null,
            "object_position": null,
            "object_fit": null,
            "grid_auto_columns": null,
            "margin": null,
            "display": null,
            "left": null
          }
        },
        "e313140689f84d08b88c0d7d758202a9": {
          "model_module": "@jupyter-widgets/controls",
          "model_name": "VBoxModel",
          "state": {
            "_view_name": "VBoxView",
            "_dom_classes": [
              "widget-interact"
            ],
            "_model_name": "VBoxModel",
            "_view_module": "@jupyter-widgets/controls",
            "_model_module_version": "1.5.0",
            "_view_count": null,
            "_view_module_version": "1.5.0",
            "box_style": "",
            "layout": "IPY_MODEL_dc426a54ee634f089d95998863b83c04",
            "_model_module": "@jupyter-widgets/controls",
            "children": [
              "IPY_MODEL_46ebde139a7b4046bd9ccea503c248f9",
              "IPY_MODEL_6ce16aad14a14c0d87ba0627d478aae3",
              "IPY_MODEL_8e3ad78bb7904bb4b07aba67d0272743"
            ]
          }
        },
        "dc426a54ee634f089d95998863b83c04": {
          "model_module": "@jupyter-widgets/base",
          "model_name": "LayoutModel",
          "state": {
            "_view_name": "LayoutView",
            "grid_template_rows": null,
            "right": null,
            "justify_content": null,
            "_view_module": "@jupyter-widgets/base",
            "overflow": null,
            "_model_module_version": "1.2.0",
            "_view_count": null,
            "flex_flow": null,
            "width": null,
            "min_width": null,
            "border": null,
            "align_items": null,
            "bottom": null,
            "_model_module": "@jupyter-widgets/base",
            "top": null,
            "grid_column": null,
            "overflow_y": null,
            "overflow_x": null,
            "grid_auto_flow": null,
            "grid_area": null,
            "grid_template_columns": null,
            "flex": null,
            "_model_name": "LayoutModel",
            "justify_items": null,
            "grid_row": null,
            "max_height": null,
            "align_content": null,
            "visibility": null,
            "align_self": null,
            "height": null,
            "min_height": null,
            "padding": null,
            "grid_auto_rows": null,
            "grid_gap": null,
            "max_width": null,
            "order": null,
            "_view_module_version": "1.2.0",
            "grid_template_areas": null,
            "object_position": null,
            "object_fit": null,
            "grid_auto_columns": null,
            "margin": null,
            "display": null,
            "left": null
          }
        },
        "46ebde139a7b4046bd9ccea503c248f9": {
          "model_module": "@jupyter-widgets/controls",
          "model_name": "FloatSliderModel",
          "state": {
            "_view_name": "FloatSliderView",
            "style": "IPY_MODEL_dc791c325a4d48649f41e894d9ca0807",
            "_dom_classes": [],
            "description": "I_dc",
            "step": 10,
            "_model_name": "FloatSliderModel",
            "orientation": "horizontal",
            "max": 300,
            "_view_module": "@jupyter-widgets/controls",
            "_model_module_version": "1.5.0",
            "value": 50,
            "_view_count": null,
            "disabled": false,
            "_view_module_version": "1.5.0",
            "min": 0,
            "continuous_update": true,
            "readout_format": ".2f",
            "description_tooltip": null,
            "readout": true,
            "_model_module": "@jupyter-widgets/controls",
            "layout": "IPY_MODEL_89189b6f04ad4342b5b1ee58d29025f4"
          }
        },
        "6ce16aad14a14c0d87ba0627d478aae3": {
          "model_module": "@jupyter-widgets/controls",
          "model_name": "FloatSliderModel",
          "state": {
            "_view_name": "FloatSliderView",
            "style": "IPY_MODEL_59771337e7e44b06b92dfdc3fda97bb2",
            "_dom_classes": [],
            "description": "tau_m",
            "step": 2,
            "_model_name": "FloatSliderModel",
            "orientation": "horizontal",
            "max": 20,
            "_view_module": "@jupyter-widgets/controls",
            "_model_module_version": "1.5.0",
            "value": 20,
            "_view_count": null,
            "disabled": false,
            "_view_module_version": "1.5.0",
            "min": 2,
            "continuous_update": true,
            "readout_format": ".2f",
            "description_tooltip": null,
            "readout": true,
            "_model_module": "@jupyter-widgets/controls",
            "layout": "IPY_MODEL_89189b6f04ad4342b5b1ee58d29025f4"
          }
        },
        "8e3ad78bb7904bb4b07aba67d0272743": {
          "model_module": "@jupyter-widgets/output",
          "model_name": "OutputModel",
          "state": {
            "_view_name": "OutputView",
            "msg_id": "",
            "_dom_classes": [],
            "_model_name": "OutputModel",
            "outputs": [
              {
                "output_type": "display_data",
                "metadata": {
                  "tags": [],
                  "image/png": {
                    "width": 552,
                    "height": 414
                  },
                  "needs_background": "light"
                },
                "image/png": "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\n",
                "text/plain": "<Figure size 576x432 with 1 Axes>"
              }
            ],
            "_view_module": "@jupyter-widgets/output",
            "_model_module_version": "1.0.0",
            "_view_count": null,
            "_view_module_version": "1.0.0",
            "layout": "IPY_MODEL_a674385c8bf344a7bdffe59c27218547",
            "_model_module": "@jupyter-widgets/output"
          }
        },
        "dc791c325a4d48649f41e894d9ca0807": {
          "model_module": "@jupyter-widgets/controls",
          "model_name": "SliderStyleModel",
          "state": {
            "_view_name": "StyleView",
            "handle_color": null,
            "_model_name": "SliderStyleModel",
            "description_width": "",
            "_view_module": "@jupyter-widgets/base",
            "_model_module_version": "1.5.0",
            "_view_count": null,
            "_view_module_version": "1.2.0",
            "_model_module": "@jupyter-widgets/controls"
          }
        },
        "89189b6f04ad4342b5b1ee58d29025f4": {
          "model_module": "@jupyter-widgets/base",
          "model_name": "LayoutModel",
          "state": {
            "_view_name": "LayoutView",
            "grid_template_rows": null,
            "right": null,
            "justify_content": null,
            "_view_module": "@jupyter-widgets/base",
            "overflow": null,
            "_model_module_version": "1.2.0",
            "_view_count": null,
            "flex_flow": null,
            "width": "450px",
            "min_width": null,
            "border": null,
            "align_items": null,
            "bottom": null,
            "_model_module": "@jupyter-widgets/base",
            "top": null,
            "grid_column": null,
            "overflow_y": null,
            "overflow_x": null,
            "grid_auto_flow": null,
            "grid_area": null,
            "grid_template_columns": null,
            "flex": null,
            "_model_name": "LayoutModel",
            "justify_items": null,
            "grid_row": null,
            "max_height": null,
            "align_content": null,
            "visibility": null,
            "align_self": null,
            "height": null,
            "min_height": null,
            "padding": null,
            "grid_auto_rows": null,
            "grid_gap": null,
            "max_width": null,
            "order": null,
            "_view_module_version": "1.2.0",
            "grid_template_areas": null,
            "object_position": null,
            "object_fit": null,
            "grid_auto_columns": null,
            "margin": null,
            "display": null,
            "left": null
          }
        },
        "59771337e7e44b06b92dfdc3fda97bb2": {
          "model_module": "@jupyter-widgets/controls",
          "model_name": "SliderStyleModel",
          "state": {
            "_view_name": "StyleView",
            "handle_color": null,
            "_model_name": "SliderStyleModel",
            "description_width": "",
            "_view_module": "@jupyter-widgets/base",
            "_model_module_version": "1.5.0",
            "_view_count": null,
            "_view_module_version": "1.2.0",
            "_model_module": "@jupyter-widgets/controls"
          }
        },
        "a674385c8bf344a7bdffe59c27218547": {
          "model_module": "@jupyter-widgets/base",
          "model_name": "LayoutModel",
          "state": {
            "_view_name": "LayoutView",
            "grid_template_rows": null,
            "right": null,
            "justify_content": null,
            "_view_module": "@jupyter-widgets/base",
            "overflow": null,
            "_model_module_version": "1.2.0",
            "_view_count": null,
            "flex_flow": null,
            "width": null,
            "min_width": null,
            "border": null,
            "align_items": null,
            "bottom": null,
            "_model_module": "@jupyter-widgets/base",
            "top": null,
            "grid_column": null,
            "overflow_y": null,
            "overflow_x": null,
            "grid_auto_flow": null,
            "grid_area": null,
            "grid_template_columns": null,
            "flex": null,
            "_model_name": "LayoutModel",
            "justify_items": null,
            "grid_row": null,
            "max_height": null,
            "align_content": null,
            "visibility": null,
            "align_self": null,
            "height": null,
            "min_height": null,
            "padding": null,
            "grid_auto_rows": null,
            "grid_gap": null,
            "max_width": null,
            "order": null,
            "_view_module_version": "1.2.0",
            "grid_template_areas": null,
            "object_position": null,
            "object_fit": null,
            "grid_auto_columns": null,
            "margin": null,
            "display": null,
            "left": null
          }
        },
        "2ed0e41e3c87423788d73a778e631bbb": {
          "model_module": "@jupyter-widgets/controls",
          "model_name": "VBoxModel",
          "state": {
            "_view_name": "VBoxView",
            "_dom_classes": [
              "widget-interact"
            ],
            "_model_name": "VBoxModel",
            "_view_module": "@jupyter-widgets/controls",
            "_model_module_version": "1.5.0",
            "_view_count": null,
            "_view_module_version": "1.5.0",
            "box_style": "",
            "layout": "IPY_MODEL_3515b7d7ef9346a2a02b85e704fa4605",
            "_model_module": "@jupyter-widgets/controls",
            "children": [
              "IPY_MODEL_26e43246aa4e432d8ba854b5b5e8aba4",
              "IPY_MODEL_d66583ffd2894833a4d909fa5c3bcf73",
              "IPY_MODEL_14a010ca207846089e7f818683aa849d"
            ]
          }
        },
        "3515b7d7ef9346a2a02b85e704fa4605": {
          "model_module": "@jupyter-widgets/base",
          "model_name": "LayoutModel",
          "state": {
            "_view_name": "LayoutView",
            "grid_template_rows": null,
            "right": null,
            "justify_content": null,
            "_view_module": "@jupyter-widgets/base",
            "overflow": null,
            "_model_module_version": "1.2.0",
            "_view_count": null,
            "flex_flow": null,
            "width": null,
            "min_width": null,
            "border": null,
            "align_items": null,
            "bottom": null,
            "_model_module": "@jupyter-widgets/base",
            "top": null,
            "grid_column": null,
            "overflow_y": null,
            "overflow_x": null,
            "grid_auto_flow": null,
            "grid_area": null,
            "grid_template_columns": null,
            "flex": null,
            "_model_name": "LayoutModel",
            "justify_items": null,
            "grid_row": null,
            "max_height": null,
            "align_content": null,
            "visibility": null,
            "align_self": null,
            "height": null,
            "min_height": null,
            "padding": null,
            "grid_auto_rows": null,
            "grid_gap": null,
            "max_width": null,
            "order": null,
            "_view_module_version": "1.2.0",
            "grid_template_areas": null,
            "object_position": null,
            "object_fit": null,
            "grid_auto_columns": null,
            "margin": null,
            "display": null,
            "left": null
          }
        },
        "26e43246aa4e432d8ba854b5b5e8aba4": {
          "model_module": "@jupyter-widgets/controls",
          "model_name": "FloatSliderModel",
          "state": {
            "_view_name": "FloatSliderView",
            "style": "IPY_MODEL_800cb4e63e3d439dbd5ef842b72491cb",
            "_dom_classes": [],
            "description": "mu_gwn",
            "step": 5,
            "_model_name": "FloatSliderModel",
            "orientation": "horizontal",
            "max": 300,
            "_view_module": "@jupyter-widgets/controls",
            "_model_module_version": "1.5.0",
            "value": 250,
            "_view_count": null,
            "disabled": false,
            "_view_module_version": "1.5.0",
            "min": 100,
            "continuous_update": true,
            "readout_format": ".2f",
            "description_tooltip": null,
            "readout": true,
            "_model_module": "@jupyter-widgets/controls",
            "layout": "IPY_MODEL_89189b6f04ad4342b5b1ee58d29025f4"
          }
        },
        "d66583ffd2894833a4d909fa5c3bcf73": {
          "model_module": "@jupyter-widgets/controls",
          "model_name": "FloatSliderModel",
          "state": {
            "_view_name": "FloatSliderView",
            "style": "IPY_MODEL_18f8e56f5dee43ac96b00cc2949cad51",
            "_dom_classes": [],
            "description": "sig_gwn",
            "step": 0.5,
            "_model_name": "FloatSliderModel",
            "orientation": "horizontal",
            "max": 5,
            "_view_module": "@jupyter-widgets/controls",
            "_model_module_version": "1.5.0",
            "value": 1,
            "_view_count": null,
            "disabled": false,
            "_view_module_version": "1.5.0",
            "min": 0,
            "continuous_update": true,
            "readout_format": ".2f",
            "description_tooltip": null,
            "readout": true,
            "_model_module": "@jupyter-widgets/controls",
            "layout": "IPY_MODEL_89189b6f04ad4342b5b1ee58d29025f4"
          }
        },
        "14a010ca207846089e7f818683aa849d": {
          "model_module": "@jupyter-widgets/output",
          "model_name": "OutputModel",
          "state": {
            "_view_name": "OutputView",
            "msg_id": "",
            "_dom_classes": [],
            "_model_name": "OutputModel",
            "outputs": [
              {
                "output_type": "display_data",
                "metadata": {
                  "tags": [],
                  "image/png": {
                    "width": 846,
                    "height": 270
                  },
                  "needs_background": "light"
                },
                "image/png": "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\n",
                "text/plain": "<Figure size 864x288 with 2 Axes>"
              }
            ],
            "_view_module": "@jupyter-widgets/output",
            "_model_module_version": "1.0.0",
            "_view_count": null,
            "_view_module_version": "1.0.0",
            "layout": "IPY_MODEL_a4eeed46ec5842f09f7c768e19d1f726",
            "_model_module": "@jupyter-widgets/output"
          }
        },
        "800cb4e63e3d439dbd5ef842b72491cb": {
          "model_module": "@jupyter-widgets/controls",
          "model_name": "SliderStyleModel",
          "state": {
            "_view_name": "StyleView",
            "handle_color": null,
            "_model_name": "SliderStyleModel",
            "description_width": "",
            "_view_module": "@jupyter-widgets/base",
            "_model_module_version": "1.5.0",
            "_view_count": null,
            "_view_module_version": "1.2.0",
            "_model_module": "@jupyter-widgets/controls"
          }
        },
        "18f8e56f5dee43ac96b00cc2949cad51": {
          "model_module": "@jupyter-widgets/controls",
          "model_name": "SliderStyleModel",
          "state": {
            "_view_name": "StyleView",
            "handle_color": null,
            "_model_name": "SliderStyleModel",
            "description_width": "",
            "_view_module": "@jupyter-widgets/base",
            "_model_module_version": "1.5.0",
            "_view_count": null,
            "_view_module_version": "1.2.0",
            "_model_module": "@jupyter-widgets/controls"
          }
        },
        "a4eeed46ec5842f09f7c768e19d1f726": {
          "model_module": "@jupyter-widgets/base",
          "model_name": "LayoutModel",
          "state": {
            "_view_name": "LayoutView",
            "grid_template_rows": null,
            "right": null,
            "justify_content": null,
            "_view_module": "@jupyter-widgets/base",
            "overflow": null,
            "_model_module_version": "1.2.0",
            "_view_count": null,
            "flex_flow": null,
            "width": null,
            "min_width": null,
            "border": null,
            "align_items": null,
            "bottom": null,
            "_model_module": "@jupyter-widgets/base",
            "top": null,
            "grid_column": null,
            "overflow_y": null,
            "overflow_x": null,
            "grid_auto_flow": null,
            "grid_area": null,
            "grid_template_columns": null,
            "flex": null,
            "_model_name": "LayoutModel",
            "justify_items": null,
            "grid_row": null,
            "max_height": null,
            "align_content": null,
            "visibility": null,
            "align_self": null,
            "height": null,
            "min_height": null,
            "padding": null,
            "grid_auto_rows": null,
            "grid_gap": null,
            "max_width": null,
            "order": null,
            "_view_module_version": "1.2.0",
            "grid_template_areas": null,
            "object_position": null,
            "object_fit": null,
            "grid_auto_columns": null,
            "margin": null,
            "display": null,
            "left": null
          }
        },
        "fe61a7c5ee754270a4407111f1d154a5": {
          "model_module": "@jupyter-widgets/controls",
          "model_name": "VBoxModel",
          "state": {
            "_view_name": "VBoxView",
            "_dom_classes": [
              "widget-interact"
            ],
            "_model_name": "VBoxModel",
            "_view_module": "@jupyter-widgets/controls",
            "_model_module_version": "1.5.0",
            "_view_count": null,
            "_view_module_version": "1.5.0",
            "box_style": "",
            "layout": "IPY_MODEL_3bb7fa1f62a146b1b8485d5a1924f415",
            "_model_module": "@jupyter-widgets/controls",
            "children": [
              "IPY_MODEL_5300a24a156f4b0b838076d912de7bbb",
              "IPY_MODEL_8cb55c5843ed4f8ea229cd1e43cf1315"
            ]
          }
        },
        "3bb7fa1f62a146b1b8485d5a1924f415": {
          "model_module": "@jupyter-widgets/base",
          "model_name": "LayoutModel",
          "state": {
            "_view_name": "LayoutView",
            "grid_template_rows": null,
            "right": null,
            "justify_content": null,
            "_view_module": "@jupyter-widgets/base",
            "overflow": null,
            "_model_module_version": "1.2.0",
            "_view_count": null,
            "flex_flow": null,
            "width": null,
            "min_width": null,
            "border": null,
            "align_items": null,
            "bottom": null,
            "_model_module": "@jupyter-widgets/base",
            "top": null,
            "grid_column": null,
            "overflow_y": null,
            "overflow_x": null,
            "grid_auto_flow": null,
            "grid_area": null,
            "grid_template_columns": null,
            "flex": null,
            "_model_name": "LayoutModel",
            "justify_items": null,
            "grid_row": null,
            "max_height": null,
            "align_content": null,
            "visibility": null,
            "align_self": null,
            "height": null,
            "min_height": null,
            "padding": null,
            "grid_auto_rows": null,
            "grid_gap": null,
            "max_width": null,
            "order": null,
            "_view_module_version": "1.2.0",
            "grid_template_areas": null,
            "object_position": null,
            "object_fit": null,
            "grid_auto_columns": null,
            "margin": null,
            "display": null,
            "left": null
          }
        },
        "5300a24a156f4b0b838076d912de7bbb": {
          "model_module": "@jupyter-widgets/controls",
          "model_name": "FloatSliderModel",
          "state": {
            "_view_name": "FloatSliderView",
            "style": "IPY_MODEL_272b7aa00aa340beb62cf0bbdbf72ba8",
            "_dom_classes": [],
            "description": "sig_gwn",
            "step": 0.5,
            "_model_name": "FloatSliderModel",
            "orientation": "horizontal",
            "max": 6,
            "_view_module": "@jupyter-widgets/controls",
            "_model_module_version": "1.5.0",
            "value": 1,
            "_view_count": null,
            "disabled": false,
            "_view_module_version": "1.5.0",
            "min": 0,
            "continuous_update": true,
            "readout_format": ".2f",
            "description_tooltip": null,
            "readout": true,
            "_model_module": "@jupyter-widgets/controls",
            "layout": "IPY_MODEL_89189b6f04ad4342b5b1ee58d29025f4"
          }
        },
        "8cb55c5843ed4f8ea229cd1e43cf1315": {
          "model_module": "@jupyter-widgets/output",
          "model_name": "OutputModel",
          "state": {
            "_view_name": "OutputView",
            "msg_id": "",
            "_dom_classes": [],
            "_model_name": "OutputModel",
            "outputs": [
              {
                "output_type": "display_data",
                "metadata": {
                  "tags": [],
                  "image/png": {
                    "width": 557,
                    "height": 414
                  },
                  "needs_background": "light"
                },
                "image/png": "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\n",
                "text/plain": "<Figure size 576x432 with 1 Axes>"
              }
            ],
            "_view_module": "@jupyter-widgets/output",
            "_model_module_version": "1.0.0",
            "_view_count": null,
            "_view_module_version": "1.0.0",
            "layout": "IPY_MODEL_36f5f93321cb475686734f6ba280fb3b",
            "_model_module": "@jupyter-widgets/output"
          }
        },
        "272b7aa00aa340beb62cf0bbdbf72ba8": {
          "model_module": "@jupyter-widgets/controls",
          "model_name": "SliderStyleModel",
          "state": {
            "_view_name": "StyleView",
            "handle_color": null,
            "_model_name": "SliderStyleModel",
            "description_width": "",
            "_view_module": "@jupyter-widgets/base",
            "_model_module_version": "1.5.0",
            "_view_count": null,
            "_view_module_version": "1.2.0",
            "_model_module": "@jupyter-widgets/controls"
          }
        },
        "36f5f93321cb475686734f6ba280fb3b": {
          "model_module": "@jupyter-widgets/base",
          "model_name": "LayoutModel",
          "state": {
            "_view_name": "LayoutView",
            "grid_template_rows": null,
            "right": null,
            "justify_content": null,
            "_view_module": "@jupyter-widgets/base",
            "overflow": null,
            "_model_module_version": "1.2.0",
            "_view_count": null,
            "flex_flow": null,
            "width": null,
            "min_width": null,
            "border": null,
            "align_items": null,
            "bottom": null,
            "_model_module": "@jupyter-widgets/base",
            "top": null,
            "grid_column": null,
            "overflow_y": null,
            "overflow_x": null,
            "grid_auto_flow": null,
            "grid_area": null,
            "grid_template_columns": null,
            "flex": null,
            "_model_name": "LayoutModel",
            "justify_items": null,
            "grid_row": null,
            "max_height": null,
            "align_content": null,
            "visibility": null,
            "align_self": null,
            "height": null,
            "min_height": null,
            "padding": null,
            "grid_auto_rows": null,
            "grid_gap": null,
            "max_width": null,
            "order": null,
            "_view_module_version": "1.2.0",
            "grid_template_areas": null,
            "object_position": null,
            "object_fit": null,
            "grid_auto_columns": null,
            "margin": null,
            "display": null,
            "left": null
          }
        },
        "dc0117f3ca7546a1b640984281c50253": {
          "model_module": "@jupyter-widgets/controls",
          "model_name": "VBoxModel",
          "state": {
            "_view_name": "VBoxView",
            "_dom_classes": [
              "widget-interact"
            ],
            "_model_name": "VBoxModel",
            "_view_module": "@jupyter-widgets/controls",
            "_model_module_version": "1.5.0",
            "_view_count": null,
            "_view_module_version": "1.5.0",
            "box_style": "",
            "layout": "IPY_MODEL_6fba974bc1ad41f4b45088b101039f81",
            "_model_module": "@jupyter-widgets/controls",
            "children": [
              "IPY_MODEL_9a44bd6498e1403dbc115a3fc4a1eca6",
              "IPY_MODEL_8733e71a2f6745b99cad04dff592d41f"
            ]
          }
        },
        "6fba974bc1ad41f4b45088b101039f81": {
          "model_module": "@jupyter-widgets/base",
          "model_name": "LayoutModel",
          "state": {
            "_view_name": "LayoutView",
            "grid_template_rows": null,
            "right": null,
            "justify_content": null,
            "_view_module": "@jupyter-widgets/base",
            "overflow": null,
            "_model_module_version": "1.2.0",
            "_view_count": null,
            "flex_flow": null,
            "width": null,
            "min_width": null,
            "border": null,
            "align_items": null,
            "bottom": null,
            "_model_module": "@jupyter-widgets/base",
            "top": null,
            "grid_column": null,
            "overflow_y": null,
            "overflow_x": null,
            "grid_auto_flow": null,
            "grid_area": null,
            "grid_template_columns": null,
            "flex": null,
            "_model_name": "LayoutModel",
            "justify_items": null,
            "grid_row": null,
            "max_height": null,
            "align_content": null,
            "visibility": null,
            "align_self": null,
            "height": null,
            "min_height": null,
            "padding": null,
            "grid_auto_rows": null,
            "grid_gap": null,
            "max_width": null,
            "order": null,
            "_view_module_version": "1.2.0",
            "grid_template_areas": null,
            "object_position": null,
            "object_fit": null,
            "grid_auto_columns": null,
            "margin": null,
            "display": null,
            "left": null
          }
        },
        "9a44bd6498e1403dbc115a3fc4a1eca6": {
          "model_module": "@jupyter-widgets/controls",
          "model_name": "FloatSliderModel",
          "state": {
            "_view_name": "FloatSliderView",
            "style": "IPY_MODEL_bc8d94b812ea4148bd34fc44994df2ff",
            "_dom_classes": [],
            "description": "sig_gwn",
            "step": 0.5,
            "_model_name": "FloatSliderModel",
            "orientation": "horizontal",
            "max": 10,
            "_view_module": "@jupyter-widgets/controls",
            "_model_module_version": "1.5.0",
            "value": 8.5,
            "_view_count": null,
            "disabled": false,
            "_view_module_version": "1.5.0",
            "min": 0,
            "continuous_update": true,
            "readout_format": ".2f",
            "description_tooltip": null,
            "readout": true,
            "_model_module": "@jupyter-widgets/controls",
            "layout": "IPY_MODEL_89189b6f04ad4342b5b1ee58d29025f4"
          }
        },
        "8733e71a2f6745b99cad04dff592d41f": {
          "model_module": "@jupyter-widgets/output",
          "model_name": "OutputModel",
          "state": {
            "_view_name": "OutputView",
            "msg_id": "",
            "_dom_classes": [],
            "_model_name": "OutputModel",
            "outputs": [
              {
                "output_type": "display_data",
                "metadata": {
                  "tags": [],
                  "image/png": {
                    "width": 558,
                    "height": 413
                  },
                  "needs_background": "light"
                },
                "image/png": "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\n",
                "text/plain": "<Figure size 576x432 with 1 Axes>"
              }
            ],
            "_view_module": "@jupyter-widgets/output",
            "_model_module_version": "1.0.0",
            "_view_count": null,
            "_view_module_version": "1.0.0",
            "layout": "IPY_MODEL_ddb9b22492864565ba1d0c9a119382a6",
            "_model_module": "@jupyter-widgets/output"
          }
        },
        "bc8d94b812ea4148bd34fc44994df2ff": {
          "model_module": "@jupyter-widgets/controls",
          "model_name": "SliderStyleModel",
          "state": {
            "_view_name": "StyleView",
            "handle_color": null,
            "_model_name": "SliderStyleModel",
            "description_width": "",
            "_view_module": "@jupyter-widgets/base",
            "_model_module_version": "1.5.0",
            "_view_count": null,
            "_view_module_version": "1.2.0",
            "_model_module": "@jupyter-widgets/controls"
          }
        },
        "ddb9b22492864565ba1d0c9a119382a6": {
          "model_module": "@jupyter-widgets/base",
          "model_name": "LayoutModel",
          "state": {
            "_view_name": "LayoutView",
            "grid_template_rows": null,
            "right": null,
            "justify_content": null,
            "_view_module": "@jupyter-widgets/base",
            "overflow": null,
            "_model_module_version": "1.2.0",
            "_view_count": null,
            "flex_flow": null,
            "width": null,
            "min_width": null,
            "border": null,
            "align_items": null,
            "bottom": null,
            "_model_module": "@jupyter-widgets/base",
            "top": null,
            "grid_column": null,
            "overflow_y": null,
            "overflow_x": null,
            "grid_auto_flow": null,
            "grid_area": null,
            "grid_template_columns": null,
            "flex": null,
            "_model_name": "LayoutModel",
            "justify_items": null,
            "grid_row": null,
            "max_height": null,
            "align_content": null,
            "visibility": null,
            "align_self": null,
            "height": null,
            "min_height": null,
            "padding": null,
            "grid_auto_rows": null,
            "grid_gap": null,
            "max_width": null,
            "order": null,
            "_view_module_version": "1.2.0",
            "grid_template_areas": null,
            "object_position": null,
            "object_fit": null,
            "grid_auto_columns": null,
            "margin": null,
            "display": null,
            "left": null
          }
        }
      }
    }
  },
  "cells": [
    {
      "cell_type": "markdown",
      "metadata": {
        "id": "view-in-github",
        "colab_type": "text"
      },
      "source": [
        "<a href=\"https://colab.research.google.com/github/drewwint/neuromatch-2021/blob/main/tutorials/W2D3_BiologicalNeuronModels/student/W2D3_Tutorial1.ipynb\" target=\"_parent\"><img src=\"https://colab.research.google.com/assets/colab-badge.svg\" alt=\"Open In Colab\"/></a>"
      ]
    },
    {
      "cell_type": "markdown",
      "metadata": {
        "execution": {},
        "id": "6xtg3kxygSTV"
      },
      "source": [
        "# Tutorial 1: The Leaky Integrate-and-Fire (LIF) Neuron Model\n",
        "**Week 2, Day 3: Biological Neuron Models**\n",
        "\n",
        "**By Neuromatch Academy**\n",
        "\n",
        "__Content creators:__ Qinglong Gu, Songtin Li, John Murray, Richard Naud, Arvind Kumar\n",
        "\n",
        "__Content reviewers:__  Maryam Vaziri-Pashkam, Ella Batty, Lorenzo Fontolan, Richard Gao, Matthew Krause, Spiros Chavlis, Michael Waskom, Ethan Cheng"
      ]
    },
    {
      "cell_type": "markdown",
      "metadata": {
        "execution": {},
        "id": "uriZra-wgSTZ"
      },
      "source": [
        "---\n",
        "# Tutorial Objectives\n",
        "\n",
        "*Estimated timing of tutorial: 1 hour, 10 min*\n",
        "\n",
        "This is Tutorial 1 of a series on implementing realistic neuron models. In this tutorial, we will build up a leaky integrate-and-fire (LIF) neuron model and study its dynamics in response to various types of inputs. In particular, we are going to write a few lines of code to:  \n",
        "\n",
        "- simulate the LIF neuron model\n",
        "\n",
        "- drive the LIF neuron with external inputs, such as direct currents, Gaussian white noise, and Poisson spike trains, etc.\n",
        "\n",
        "- study how different inputs affect the  LIF neuron's output (firing rate and spike time irregularity)\n",
        "\n",
        "Here, we will especially emphasize identifying conditions (input statistics) under which a neuron can spike at low firing rates and in an irregular manner. The reason for focusing on this is that in most cases, neocortical neurons spike in an irregular manner."
      ]
    },
    {
      "cell_type": "code",
      "metadata": {
        "cellView": "form",
        "execution": {},
        "id": "X_lgL2lNgSTb",
        "outputId": "11494eae-9a26-42ef-df20-121eb674ad9f",
        "colab": {
          "base_uri": "https://localhost:8080/",
          "height": 501
        }
      },
      "source": [
        "# @title Tutorial slides\n",
        "\n",
        "# @markdown These are the slides for the videos in all tutorials today\n",
        "from IPython.display import IFrame\n",
        "IFrame(src=f\"https://mfr.ca-1.osf.io/render?url=https://osf.io/8djsm/?direct%26mode=render%26action=download%26mode=render\", width=854, height=480)"
      ],
      "execution_count": 1,
      "outputs": [
        {
          "output_type": "execute_result",
          "data": {
            "text/html": [
              "\n",
              "        <iframe\n",
              "            width=\"854\"\n",
              "            height=\"480\"\n",
              "            src=\"https://mfr.ca-1.osf.io/render?url=https://osf.io/8djsm/?direct%26mode=render%26action=download%26mode=render\"\n",
              "            frameborder=\"0\"\n",
              "            allowfullscreen\n",
              "        ></iframe>\n",
              "        "
            ],
            "text/plain": [
              "<IPython.lib.display.IFrame at 0x7fec357e1550>"
            ]
          },
          "metadata": {
            "tags": []
          },
          "execution_count": 1
        }
      ]
    },
    {
      "cell_type": "markdown",
      "metadata": {
        "execution": {},
        "id": "uesu9TfngSTd"
      },
      "source": [
        "---\n",
        "# Setup"
      ]
    },
    {
      "cell_type": "code",
      "metadata": {
        "cellView": "both",
        "execution": {},
        "id": "lR6mF_CvgSTd"
      },
      "source": [
        "# Imports\n",
        "\n",
        "import numpy as np\n",
        "import matplotlib.pyplot as plt"
      ],
      "execution_count": 2,
      "outputs": []
    },
    {
      "cell_type": "code",
      "metadata": {
        "cellView": "form",
        "execution": {},
        "id": "yIsRSexPgSTf"
      },
      "source": [
        "# @title Figure Settings\n",
        "import ipywidgets as widgets  # interactive display\n",
        "%config InlineBackend.figure_format = 'retina'\n",
        "# use NMA plot style\n",
        "plt.style.use(\"https://raw.githubusercontent.com/NeuromatchAcademy/course-content/master/nma.mplstyle\")\n",
        "my_layout = widgets.Layout()"
      ],
      "execution_count": 4,
      "outputs": []
    },
    {
      "cell_type": "code",
      "metadata": {
        "cellView": "form",
        "execution": {},
        "id": "-7v4x1nEgSTf"
      },
      "source": [
        "# @title Plotting Functions\n",
        "\n",
        "def plot_volt_trace(pars, v, sp):\n",
        "  \"\"\"\n",
        "  Plot trajetory of membrane potential for a single neuron\n",
        "\n",
        "  Expects:\n",
        "  pars   : parameter dictionary\n",
        "  v      : volt trajetory\n",
        "  sp     : spike train\n",
        "\n",
        "  Returns:\n",
        "  figure of the membrane potential trajetory for a single neuron\n",
        "  \"\"\"\n",
        "\n",
        "  V_th = pars['V_th']\n",
        "  dt, range_t = pars['dt'], pars['range_t']\n",
        "  if sp.size:\n",
        "    sp_num = (sp / dt).astype(int) - 1\n",
        "    v[sp_num] += 20  # draw nicer spikes\n",
        "\n",
        "  plt.plot(pars['range_t'], v, 'b')\n",
        "  plt.axhline(V_th, 0, 1, color='k', ls='--')\n",
        "  plt.xlabel('Time (ms)')\n",
        "  plt.ylabel('V (mV)')\n",
        "  plt.legend(['Membrane\\npotential', r'Threshold V$_{\\mathrm{th}}$'],\n",
        "             loc=[1.05, 0.75])\n",
        "  plt.ylim([-80, -40])\n",
        "\n",
        "\n",
        "def plot_GWN(pars, I_GWN):\n",
        "  \"\"\"\n",
        "  Args:\n",
        "    pars  : parameter dictionary\n",
        "    I_GWN : Gaussian white noise input\n",
        "\n",
        "  Returns:\n",
        "    figure of the gaussian white noise input\n",
        "  \"\"\"\n",
        "\n",
        "  plt.figure(figsize=(12, 4))\n",
        "  plt.subplot(121)\n",
        "  plt.plot(pars['range_t'][::3], I_GWN[::3], 'b')\n",
        "  plt.xlabel('Time (ms)')\n",
        "  plt.ylabel(r'$I_{GWN}$ (pA)')\n",
        "  plt.subplot(122)\n",
        "  plot_volt_trace(pars, v, sp)\n",
        "  plt.tight_layout()\n",
        "\n",
        "\n",
        "def my_hists(isi1, isi2, cv1, cv2, sigma1, sigma2):\n",
        "  \"\"\"\n",
        "  Args:\n",
        "    isi1 : vector with inter-spike intervals\n",
        "    isi2 : vector with inter-spike intervals\n",
        "    cv1  : coefficient of variation for isi1\n",
        "    cv2  : coefficient of variation for isi2\n",
        "\n",
        "  Returns:\n",
        "    figure with two histograms, isi1, isi2\n",
        "\n",
        "  \"\"\"\n",
        "  plt.figure(figsize=(11, 4))\n",
        "  my_bins = np.linspace(10, 30, 20)\n",
        "  plt.subplot(121)\n",
        "  plt.hist(isi1, bins=my_bins, color='b', alpha=0.5)\n",
        "  plt.xlabel('ISI (ms)')\n",
        "  plt.ylabel('count')\n",
        "  plt.title(r'$\\sigma_{GWN}=$%.1f, CV$_{\\mathrm{isi}}$=%.3f' % (sigma1, cv1))\n",
        "\n",
        "  plt.subplot(122)\n",
        "  plt.hist(isi2, bins=my_bins, color='b', alpha=0.5)\n",
        "  plt.xlabel('ISI (ms)')\n",
        "  plt.ylabel('count')\n",
        "  plt.title(r'$\\sigma_{GWN}=$%.1f, CV$_{\\mathrm{isi}}$=%.3f' % (sigma2, cv2))\n",
        "  plt.tight_layout()\n",
        "  plt.show()"
      ],
      "execution_count": 5,
      "outputs": []
    },
    {
      "cell_type": "markdown",
      "metadata": {
        "execution": {},
        "id": "fYdHipLmgSTh"
      },
      "source": [
        "---\n",
        "# Section 1: The Leaky Integrate-and-Fire (LIF) model"
      ]
    },
    {
      "cell_type": "code",
      "metadata": {
        "cellView": "form",
        "execution": {},
        "id": "MsjUGNbmgSTi",
        "outputId": "0e3b3c4c-ea88-4185-efe0-e054bd446091",
        "colab": {
          "base_uri": "https://localhost:8080/",
          "height": 581,
          "referenced_widgets": [
            "ecd5d7a219ec4155a06b7a3bb4dd7cce",
            "847d07f1f59b49fa934d2353faf36527",
            "bb7395eb7ae941d39d95e885bf3aa29f",
            "188e6f5f8a964bb7b3ce33d96554fda9",
            "a5da0e5a66ac4b03a184e4fbb18cddf1",
            "1b1e9544f81d42edbcfe739721fce97b"
          ]
        }
      },
      "source": [
        "# @title Video 1: Reduced Neuron Models\n",
        "from ipywidgets import widgets\n",
        "\n",
        "out2 = widgets.Output()\n",
        "with out2:\n",
        "  from IPython.display import IFrame\n",
        "  class BiliVideo(IFrame):\n",
        "      def __init__(self, id, page=1, width=400, height=300, **kwargs):\n",
        "          self.id=id\n",
        "          src = 'https://player.bilibili.com/player.html?bvid={0}&page={1}'.format(id, page)\n",
        "          super(BiliVideo, self).__init__(src, width, height, **kwargs)\n",
        "\n",
        "  video = BiliVideo(id=\"av456396195\", width=854, height=480, fs=1)\n",
        "  print('Video available at https://www.bilibili.com/video/{0}'.format(video.id))\n",
        "  display(video)\n",
        "\n",
        "out1 = widgets.Output()\n",
        "with out1:\n",
        "  from IPython.display import YouTubeVideo\n",
        "  video = YouTubeVideo(id=\"rSExvwCVRYg\", width=854, height=480, fs=1, rel=0)\n",
        "  print('Video available at https://youtube.com/watch?v=' + video.id)\n",
        "  display(video)\n",
        "\n",
        "out = widgets.Tab([out1, out2])\n",
        "out.set_title(0, 'Youtube')\n",
        "out.set_title(1, 'Bilibili')\n",
        "\n",
        "display(out)"
      ],
      "execution_count": 6,
      "outputs": [
        {
          "output_type": "display_data",
          "data": {
            "application/vnd.jupyter.widget-view+json": {
              "model_id": "ecd5d7a219ec4155a06b7a3bb4dd7cce",
              "version_minor": 0,
              "version_major": 2
            },
            "text/plain": [
              "Tab(children=(Output(), Output()), _titles={'0': 'Youtube', '1': 'Bilibili'})"
            ]
          },
          "metadata": {
            "tags": []
          }
        }
      ]
    },
    {
      "cell_type": "markdown",
      "metadata": {
        "execution": {},
        "id": "0Khv2yOggSTj"
      },
      "source": [
        "This video introduces the reduction of a biological neuron to a simple leaky-integrate-fire (LIF) neuron model.\n",
        "\n",
        "<details>\n",
        "<summary> <font color='blue'>Click here for text recap of video </font></summary>\n",
        "\n",
        "Now, it's your turn to implement one of the simplest mathematical model of a neuron: the leaky integrate-and-fire (LIF) model. The basic idea of LIF neuron was proposed in 1907 by Louis Édouard Lapicque, long before we understood the electrophysiology of a neuron (see a translation of [Lapicque's paper](https://pubmed.ncbi.nlm.nih.gov/17968583/) ). More details of the model can be found in the book [**Theoretical neuroscience**](http://www.gatsby.ucl.ac.uk/~dayan/book/) by Peter Dayan and Laurence F. Abbott.\n",
        "\n",
        "The subthreshold membrane potential dynamics of a LIF neuron is described by\n",
        "\n",
        "\\begin{eqnarray}\n",
        "C_m\\frac{dV}{dt} = -g_L(V-E_L) + I,\\quad (1)\n",
        "\\end{eqnarray}\n",
        "\n",
        "where $C_m$ is the membrane capacitance, $V$ is the membrane potential, $g_L$ is the leak conductance ($g_L = 1/R$, the inverse of the leak resistance $R$ mentioned in previous tutorials), $E_L$ is the resting potential, and $I$ is the external input current. \n",
        "\n",
        "Dividing both sides of the above equation by $g_L$ gives\n",
        "\n",
        "\\begin{align}\n",
        "\\tau_m\\frac{dV}{dt} = -(V-E_L) + \\frac{I}{g_L}\\,,\\quad (2)\n",
        "\\end{align}\n",
        "\n",
        "where the $\\tau_m$ is membrane time constant and is defined as $\\tau_m=C_m/g_L$. \n",
        "\n",
        "Note that dividing capacitance by conductance gives units of time! \n",
        "\n",
        "Below, we will use Eqn.(2) to simulate LIF neuron dynamics. \n",
        "\n",
        "If $I$ is sufficiently strong such that $V$ reaches a certain threshold value $V_{\\rm th}$, $V$ is reset to a reset potential $V_{\\rm reset}< V_{\\rm th}$, and voltage is clamped to $V_{\\rm reset}$ for $\\tau_{\\rm ref}$ ms, mimicking the refractoriness of the neuron during an action potential:\n",
        "\n",
        "\\begin{eqnarray}\n",
        "\\mathrm{if}\\quad V(t_{\\text{sp}})\\geq V_{\\rm th}&:& V(t)=V_{\\rm reset} \\text{  for } t\\in(t_{\\text{sp}}, t_{\\text{sp}} + \\tau_{\\text{ref}}]\n",
        "\\end{eqnarray}\n",
        "where $t_{\\rm sp}$ is the spike time when $V(t)$ just exceeded $V_{\\rm th}$.\n",
        "\n",
        "(__Note__: in the lecture slides, $\\theta$ corresponds to the threshold voltage $V_{th}$, and $\\Delta$ corresponds to the refractory time $\\tau_{\\rm ref}$.)\n",
        "\n",
        "</details>\n",
        "\n",
        "Note that you have seen the LIF model before if you looked at the pre-reqs Python or Calculus days!\n",
        "\n",
        "The LIF model captures the facts that a neuron:\n",
        "- performs spatial and temporal integration of synaptic inputs \n",
        "- generates a spike when the voltage reaches a certain threshold\n",
        "- goes refractory during the action potential\n",
        "- has a leaky membrane \n",
        "\n",
        "The LIF model assumes that the spatial and temporal integration of inputs is linear. Also, membrane potential dynamics close to the spike threshold are much slower in LIF neurons than in real neurons. \n"
      ]
    },
    {
      "cell_type": "markdown",
      "metadata": {
        "execution": {},
        "id": "xIwTIGEvgSTk"
      },
      "source": [
        "## Coding Exercise 1: Python code to simulate the LIF neuron\n",
        "\n",
        "We now write Python code to calculate our equation for the LIF neuron and simulate the LIF neuron dynamics. We will use the Euler method, which you saw in the linear systems case yesterday  to numerically integrate this equation:\n",
        "\n",
        "\\begin{align*}\n",
        "\\tau_m\\frac{dV}{dt} = -(V-E_L) + \\frac{I}{g_L}\\,\n",
        "\\end{align*}\n",
        "\n",
        "where $V$ is the membrane potential, $g_L$ is the leak conductance, $E_L$ is the resting potential, $I$ is the external input current, and $\\tau_m$ is membrane time constant.\n",
        "\n",
        "The cell below initializes a dictionary that stores parameters of the LIF neuron model and the simulation scheme. You can use `pars=default_pars(T=simulation_time, dt=time_step)` to get the parameters. Note that, `simulation_time` and `time_step` have the unit `ms`. In addition, you can add the value to a new parameter by `pars['New_param'] = value`."
      ]
    },
    {
      "cell_type": "code",
      "metadata": {
        "cellView": "form",
        "execution": {},
        "id": "wmr1wwKbgSTl",
        "outputId": "4fd7c87d-8c91-4cf1-c428-29617a69d5b4",
        "colab": {
          "base_uri": "https://localhost:8080/"
        }
      },
      "source": [
        "# @markdown Execute this code to initialize the default parameters\n",
        "\n",
        "\n",
        "def default_pars(**kwargs):\n",
        "  pars = {}\n",
        "\n",
        "  # typical neuron parameters#\n",
        "  pars['V_th'] = -55.     # spike threshold [mV]\n",
        "  pars['V_reset'] = -75.  # reset potential [mV]\n",
        "  pars['tau_m'] = 10.     # membrane time constant [ms]\n",
        "  pars['g_L'] = 10.       # leak conductance [nS]\n",
        "  pars['V_init'] = -75.   # initial potential [mV]\n",
        "  pars['E_L'] = -75.      # leak reversal potential [mV]\n",
        "  pars['tref'] = 2.       # refractory time (ms)\n",
        "\n",
        "  # simulation parameters #\n",
        "  pars['T'] = 400.  # Total duration of simulation [ms]\n",
        "  pars['dt'] = .1   # Simulation time step [ms]\n",
        "\n",
        "  # external parameters if any #\n",
        "  for k in kwargs:\n",
        "    pars[k] = kwargs[k]\n",
        "\n",
        "  pars['range_t'] = np.arange(0, pars['T'], pars['dt'])  # Vector of discretized time points [ms]\n",
        "\n",
        "  return pars\n",
        "\n",
        "\n",
        "pars = default_pars()\n",
        "print(pars)"
      ],
      "execution_count": 7,
      "outputs": [
        {
          "output_type": "stream",
          "text": [
            "{'V_th': -55.0, 'V_reset': -75.0, 'tau_m': 10.0, 'g_L': 10.0, 'V_init': -75.0, 'E_L': -75.0, 'tref': 2.0, 'T': 400.0, 'dt': 0.1, 'range_t': array([0.000e+00, 1.000e-01, 2.000e-01, ..., 3.997e+02, 3.998e+02,\n",
            "       3.999e+02])}\n"
          ],
          "name": "stdout"
        }
      ]
    },
    {
      "cell_type": "markdown",
      "metadata": {
        "execution": {},
        "id": "MZKcKDXbgSTm"
      },
      "source": [
        "Complete the function below to simulate the LIF neuron when receiving external current inputs. You can use `v, sp = run_LIF(pars, Iinj)` to get the membrane potential (`v`) and spike train (`sp`) given the dictionary `pars` and input current `Iinj`. "
      ]
    },
    {
      "cell_type": "code",
      "metadata": {
        "cellView": "both",
        "execution": {},
        "id": "ola8iryGgSTm",
        "outputId": "1004afd2-176c-41b2-affa-2c395b399de6",
        "colab": {
          "base_uri": "https://localhost:8080/",
          "height": 431
        }
      },
      "source": [
        "def run_LIF(pars, Iinj, stop=False):\n",
        "  \"\"\"\n",
        "  Simulate the LIF dynamics with external input current\n",
        "\n",
        "  Args:\n",
        "    pars       : parameter dictionary\n",
        "    Iinj       : input current [pA]. The injected current here can be a value\n",
        "                 or an array\n",
        "    stop       : boolean. If True, use a current pulse\n",
        "\n",
        "  Returns:\n",
        "    rec_v      : membrane potential\n",
        "    rec_sp     : spike times\n",
        "  \"\"\"\n",
        "\n",
        "  # Set parameters\n",
        "  V_th, V_reset = pars['V_th'], pars['V_reset']\n",
        "  tau_m, g_L = pars['tau_m'], pars['g_L']\n",
        "  V_init, E_L = pars['V_init'], pars['E_L']\n",
        "  dt, range_t = pars['dt'], pars['range_t']\n",
        "  Lt = range_t.size\n",
        "  tref = pars['tref']\n",
        "\n",
        "  # Initialize voltage\n",
        "  v = np.zeros(Lt)\n",
        "  v[0] = V_init\n",
        "\n",
        "  # Set current time course\n",
        "  Iinj = Iinj * np.ones(Lt)\n",
        "\n",
        "  # If current pulse, set beginning and end to 0\n",
        "  if stop:\n",
        "    Iinj[:int(len(Iinj) / 2) - 1000] = 0\n",
        "    Iinj[int(len(Iinj) / 2) + 1000:] = 0\n",
        "\n",
        "  # Loop over time\n",
        "  rec_spikes = []  # record spike times\n",
        "  tr = 0.  # the count for refractory duration\n",
        "\n",
        "  for it in range(Lt - 1):\n",
        "\n",
        "    if tr > 0:  # check if in refractory period\n",
        "      v[it] = V_reset  # set voltage to reset\n",
        "      tr = tr - 1 # reduce running counter of refractory period\n",
        "\n",
        "    elif v[it] >= V_th:  # if voltage over threshold\n",
        "      rec_spikes.append(it)  # record spike event\n",
        "      v[it] = V_reset  # reset voltage\n",
        "      tr = tref / dt  # set refractory time\n",
        "\n",
        "    ########################################################################\n",
        "    ## TODO for students: compute the membrane potential v, spike train sp #\n",
        "    # Fill out function and remove\n",
        "    # raise NotImplementedError('Student Exercise: calculate the dv/dt and the update step!')\n",
        "    ########################################################################\n",
        "\n",
        "    # Calculate the increment of the membrane potential\n",
        "    dv = (-(v[it] - E_L) + Iinj[it] / g_L) * (dt / tau_m)\n",
        "\n",
        "    # Update the membrane potential\n",
        "    v[it + 1] = v[it] + dv\n",
        "\n",
        "  # Get spike times in ms\n",
        "  rec_spikes = np.array(rec_spikes) * dt\n",
        "\n",
        "  return v, rec_spikes\n",
        "\n",
        "\n",
        "# Get parameters\n",
        "pars = default_pars(T=500)\n",
        "\n",
        "# Simulate LIF model\n",
        "v, sp = run_LIF(pars, Iinj=100, stop=True)\n",
        "\n",
        "# Visualize\n",
        "plot_volt_trace(pars, v, sp)"
      ],
      "execution_count": 8,
      "outputs": [
        {
          "output_type": "display_data",
          "data": {
            "image/png": "[encoded data removed]",
            "text/plain": [
              "<Figure size 576x432 with 1 Axes>"
            ]
          },
          "metadata": {
            "tags": [],
            "image/png": {
              "width": 558,
              "height": 414
            },
            "needs_background": "light"
          }
        }
      ]
    },
    {
      "cell_type": "markdown",
      "metadata": {
        "execution": {},
        "id": "4IqYHzk6gSTn"
      },
      "source": [
        "[*Click for solution*](https://github.com/NeuromatchAcademy/course-content/tree/master//tutorials/W2D3_BiologicalNeuronModels/solutions/W2D3_Tutorial1_Solution_60a1e954.py)\n",
        "\n",
        "*Example output:*\n",
        "\n",
        "<img alt='Solution hint' align='left' width=1106.0 height=828.0 src=https://raw.githubusercontent.com/NeuromatchAcademy/course-content/master/tutorials/W2D3_BiologicalNeuronModels/static/W2D3_Tutorial1_Solution_60a1e954_0.png>\n",
        "\n"
      ]
    },
    {
      "cell_type": "markdown",
      "metadata": {
        "execution": {},
        "id": "bimGHglXgSTo"
      },
      "source": [
        "---\n",
        "# Section 2: Response of an LIF model to different types of input currents\n",
        "\n",
        "*Estimated timing to here from start of tutorial: 20 min*\n",
        "\n",
        "In the following section, we will learn how to inject direct current and white noise to study the response of an LIF neuron."
      ]
    },
    {
      "cell_type": "code",
      "metadata": {
        "cellView": "form",
        "execution": {},
        "id": "Rvuz6WL2gSTo",
        "outputId": "cf4a0608-b2f1-4d2e-89d0-ad0d033877f1",
        "colab": {
          "base_uri": "https://localhost:8080/",
          "height": 581,
          "referenced_widgets": [
            "8e3365e0be514b79837dbff1d4834d4b",
            "23ee5cb3d1034b598bb08231ae73e40e",
            "6c2adac37d7644e48ca122765812cc2b",
            "5066aa7c487e46aa9c18e1caf237c165",
            "e203ba086b1040d5bd69a2968907a4e9",
            "df92e557f44449488b2fe6cf34399580"
          ]
        }
      },
      "source": [
        "# @title Video 2: Response of the LIF neuron to different inputs\n",
        "from ipywidgets import widgets\n",
        "\n",
        "out2 = widgets.Output()\n",
        "with out2:\n",
        "  from IPython.display import IFrame\n",
        "  class BiliVideo(IFrame):\n",
        "      def __init__(self, id, page=1, width=400, height=300, **kwargs):\n",
        "          self.id=id\n",
        "          src = 'https://player.bilibili.com/player.html?bvid={0}&page={1}'.format(id, page)\n",
        "          super(BiliVideo, self).__init__(src, width, height, **kwargs)\n",
        "\n",
        "  video = BiliVideo(id=\"av541417171\", width=854, height=480, fs=1)\n",
        "  print('Video available at https://www.bilibili.com/video/{0}'.format(video.id))\n",
        "  display(video)\n",
        "\n",
        "out1 = widgets.Output()\n",
        "with out1:\n",
        "  from IPython.display import YouTubeVideo\n",
        "  video = YouTubeVideo(id=\"preNGdab7Kk\", width=854, height=480, fs=1, rel=0)\n",
        "  print('Video available at https://youtube.com/watch?v=' + video.id)\n",
        "  display(video)\n",
        "\n",
        "out = widgets.Tab([out1, out2])\n",
        "out.set_title(0, 'Youtube')\n",
        "out.set_title(1, 'Bilibili')\n",
        "\n",
        "display(out)"
      ],
      "execution_count": 9,
      "outputs": [
        {
          "output_type": "display_data",
          "data": {
            "application/vnd.jupyter.widget-view+json": {
              "model_id": "8e3365e0be514b79837dbff1d4834d4b",
              "version_minor": 0,
              "version_major": 2
            },
            "text/plain": [
              "Tab(children=(Output(), Output()), _titles={'0': 'Youtube', '1': 'Bilibili'})"
            ]
          },
          "metadata": {
            "tags": []
          }
        }
      ]
    },
    {
      "cell_type": "markdown",
      "metadata": {
        "execution": {},
        "id": "uoSxQMCLgSTp"
      },
      "source": [
        "## Section 2.1: Direct current (DC)\n",
        "\n",
        "*Estimated timing to here from start of tutorial: 30 min*\n"
      ]
    },
    {
      "cell_type": "markdown",
      "metadata": {
        "execution": {},
        "id": "51SlADYHgSTp"
      },
      "source": [
        "### Interactive Demo 2.1: Parameter exploration of DC input amplitude \n",
        "Here's an interactive demo that shows how the LIF neuron behavior changes for DC input (constant current) with different amplitudes. We plot the membrane potential of an LIF neuron. You may notice that the neuron generates a spike. But this is just a cosmetic spike only for illustration purposes. In an LIF neuron, we only need to keep track of times when the neuron hit the threshold so the postsynaptic neurons can be informed of the spike. \n",
        "\n",
        "How much DC is needed to reach the threshold (rheobase current)? How does the membrane time constant affect the frequency of the neuron?"
      ]
    },
    {
      "cell_type": "code",
      "metadata": {
        "cellView": "form",
        "execution": {},
        "id": "aLWSzVDRgSTq",
        "outputId": "de31e8ad-e247-4f9a-ddf4-65d7e81c7f84",
        "colab": {
          "base_uri": "https://localhost:8080/",
          "height": 495,
          "referenced_widgets": [
            "e313140689f84d08b88c0d7d758202a9",
            "dc426a54ee634f089d95998863b83c04",
            "46ebde139a7b4046bd9ccea503c248f9",
            "6ce16aad14a14c0d87ba0627d478aae3",
            "8e3ad78bb7904bb4b07aba67d0272743",
            "dc791c325a4d48649f41e894d9ca0807",
            "89189b6f04ad4342b5b1ee58d29025f4",
            "59771337e7e44b06b92dfdc3fda97bb2",
            "a674385c8bf344a7bdffe59c27218547"
          ]
        }
      },
      "source": [
        "# @title\n",
        "# @markdown Make sure you execute this cell to enable the widget!\n",
        "my_layout.width = '450px'\n",
        "@widgets.interact(\n",
        "    I_dc=widgets.FloatSlider(50., min=0., max=300., step=10.,\n",
        "                               layout=my_layout),\n",
        "    tau_m=widgets.FloatSlider(10., min=2., max=20., step=2.,\n",
        "                                layout=my_layout)\n",
        ")\n",
        "\n",
        "def diff_DC(I_dc=200., tau_m=10.):\n",
        "  pars = default_pars(T=100.)\n",
        "  pars['tau_m'] = tau_m\n",
        "  v, sp = run_LIF(pars, Iinj=I_dc)\n",
        "  plot_volt_trace(pars, v, sp)\n",
        "  plt.show()"
      ],
      "execution_count": 10,
      "outputs": [
        {
          "output_type": "display_data",
          "data": {
            "application/vnd.jupyter.widget-view+json": {
              "model_id": "e313140689f84d08b88c0d7d758202a9",
              "version_minor": 0,
              "version_major": 2
            },
            "text/plain": [
              "interactive(children=(FloatSlider(value=50.0, description='I_dc', layout=Layout(width='450px'), max=300.0, ste…"
            ]
          },
          "metadata": {
            "tags": []
          }
        }
      ]
    },
    {
      "cell_type": "markdown",
      "metadata": {
        "execution": {},
        "id": "ZwLWR6VGgSTr"
      },
      "source": [
        "[*Click for solution*](https://github.com/NeuromatchAcademy/course-content/tree/master//tutorials/W2D3_BiologicalNeuronModels/solutions/W2D3_Tutorial1_Solution_1058324c.py)\n",
        "\n"
      ]
    },
    {
      "cell_type": "markdown",
      "metadata": {
        "execution": {},
        "id": "NrBBtgu1gSTr"
      },
      "source": [
        "## Section 2.2: Gaussian white noise (GWN) current \n",
        "\n",
        "*Estimated timing to here from start of tutorial: 38 min*\n",
        "\n",
        "Given the noisy nature of neuronal activity _in vivo_, neurons usually receive complex, time-varying inputs.\n",
        "\n",
        "To mimic this, we will now investigate the neuronal response when the LIF neuron receives Gaussian white noise $\\xi(t)$ with mean 0 ($\\mu = 0$) and some standard deviation $\\sigma$.\n",
        "\n",
        "Note that the GWN has zero mean, that is, it describes only the fluctuations of the input received by a neuron. We can thus modify our definition of GWN to have a nonzero mean value $\\mu$ that equals the DC input, since this is the average input into the cell. The cell below defines the modified gaussian white noise currents with nonzero mean $\\mu$."
      ]
    },
    {
      "cell_type": "markdown",
      "metadata": {
        "execution": {},
        "id": "lcilC2ptgSTs"
      },
      "source": [
        "### Interactive Demo 2.2: LIF neuron Explorer for noisy input\n",
        "\n",
        "\n",
        "The mean of the Gaussian white noise (GWN) is the amplitude of DC. Indeed, when $\\sigma = 0$, GWN is just a DC.\n",
        "\n",
        "So the question arises how does $\\sigma$ of the GWN affect the spiking behavior of the neuron. For instance we may want to know\n",
        "1.  how does the minimum input (i.e. $\\mu$) needed to make a neuron spike change with increase in $\\sigma$\n",
        "2.  how does the spike regularity change with increase in $\\sigma$\n",
        "\n",
        "To get an intuition about these questions you can use the following interactive demo that shows how the LIF neuron behavior changes for noisy input with different amplitudes (the mean $\\mu$) and fluctuation sizes ($\\sigma$). We use a helper function to generate this noisy input current: `my_GWN(pars, mu, sig, myseed=False)`.  Note that fixing the value of the random seed (e.g., `myseed=2020`) will allow you to obtain the same result every time you run this. We then use our `run_LIF` function to simulate the LIF model.\n"
      ]
    },
    {
      "cell_type": "code",
      "metadata": {
        "cellView": "form",
        "execution": {},
        "id": "dOMamoS4gSTs",
        "outputId": "6202416c-5387-4a70-be61-76f79d7f5ab9",
        "colab": {
          "base_uri": "https://localhost:8080/"
        }
      },
      "source": [
        "# @markdown Execute to enable helper function `my_GWN`\n",
        "\n",
        "def my_GWN(pars, mu, sig, myseed=False):\n",
        "  \"\"\"\n",
        "  Function that generates Gaussian white noise input\n",
        "\n",
        "  Args:\n",
        "    pars       : parameter dictionary\n",
        "    mu         : noise baseline (mean)\n",
        "    sig        : noise amplitute (standard deviation)\n",
        "    myseed     : random seed. int or boolean\n",
        "                 the same seed will give the same\n",
        "                 random number sequence\n",
        "\n",
        "  Returns:\n",
        "    I          : Gaussian white noise input\n",
        "  \"\"\"\n",
        "\n",
        "  # Retrieve simulation parameters\n",
        "  dt, range_t = pars['dt'], pars['range_t']\n",
        "  Lt = range_t.size\n",
        "\n",
        "  # Set random seed\n",
        "  if myseed:\n",
        "      np.random.seed(seed=myseed)\n",
        "  else:\n",
        "      np.random.seed()\n",
        "\n",
        "  # Generate GWN\n",
        "  # we divide here by 1000 to convert units to sec.\n",
        "  I_gwn = mu + sig * np.random.randn(Lt) / np.sqrt(dt / 1000.)\n",
        "\n",
        "  return I_gwn\n",
        "\n",
        "help(my_GWN)"
      ],
      "execution_count": 11,
      "outputs": [
        {
          "output_type": "stream",
          "text": [
            "Help on function my_GWN in module __main__:\n",
            "\n",
            "my_GWN(pars, mu, sig, myseed=False)\n",
            "    Function that generates Gaussian white noise input\n",
            "    \n",
            "    Args:\n",
            "      pars       : parameter dictionary\n",
            "      mu         : noise baseline (mean)\n",
            "      sig        : noise amplitute (standard deviation)\n",
            "      myseed     : random seed. int or boolean\n",
            "                   the same seed will give the same\n",
            "                   random number sequence\n",
            "    \n",
            "    Returns:\n",
            "      I          : Gaussian white noise input\n",
            "\n"
          ],
          "name": "stdout"
        }
      ]
    },
    {
      "cell_type": "code",
      "metadata": {
        "cellView": "form",
        "execution": {},
        "id": "ZfM2lTCHgSTt",
        "outputId": "a4aa8689-061c-4f25-bd5c-fef2ef26fa4d",
        "colab": {
          "base_uri": "https://localhost:8080/",
          "height": 351,
          "referenced_widgets": [
            "2ed0e41e3c87423788d73a778e631bbb",
            "3515b7d7ef9346a2a02b85e704fa4605",
            "26e43246aa4e432d8ba854b5b5e8aba4",
            "d66583ffd2894833a4d909fa5c3bcf73",
            "14a010ca207846089e7f818683aa849d",
            "800cb4e63e3d439dbd5ef842b72491cb",
            "89189b6f04ad4342b5b1ee58d29025f4",
            "18f8e56f5dee43ac96b00cc2949cad51",
            "a4eeed46ec5842f09f7c768e19d1f726"
          ]
        }
      },
      "source": [
        "# @title\n",
        "\n",
        "# @markdown Make sure you execute this cell to enable the widget!\n",
        "\n",
        "my_layout.width = '450px'\n",
        "@widgets.interact(\n",
        "    mu_gwn=widgets.FloatSlider(200., min=100., max=300., step=5.,\n",
        "                               layout=my_layout),\n",
        "    sig_gwn=widgets.FloatSlider(2.5, min=0., max=5., step=.5,\n",
        "                                layout=my_layout)\n",
        ")\n",
        "\n",
        "\n",
        "def diff_GWN_to_LIF(mu_gwn, sig_gwn):\n",
        "  pars = default_pars(T=100.)\n",
        "  I_GWN = my_GWN(pars, mu=mu_gwn, sig=sig_gwn)\n",
        "  v, sp = run_LIF(pars, Iinj=I_GWN)\n",
        "  plt.figure(figsize=(12, 4))\n",
        "  plt.subplot(121)\n",
        "  plt.plot(pars['range_t'][::3], I_GWN[::3], 'b')\n",
        "  plt.xlabel('Time (ms)')\n",
        "  plt.ylabel(r'$I_{GWN}$ (pA)')\n",
        "  plt.subplot(122)\n",
        "  plot_volt_trace(pars, v, sp)\n",
        "  plt.tight_layout()\n",
        "  plt.show()"
      ],
      "execution_count": 12,
      "outputs": [
        {
          "output_type": "display_data",
          "data": {
            "application/vnd.jupyter.widget-view+json": {
              "model_id": "2ed0e41e3c87423788d73a778e631bbb",
              "version_minor": 0,
              "version_major": 2
            },
            "text/plain": [
              "interactive(children=(FloatSlider(value=200.0, description='mu_gwn', layout=Layout(width='450px'), max=300.0, …"
            ]
          },
          "metadata": {
            "tags": []
          }
        }
      ]
    },
    {
      "cell_type": "markdown",
      "metadata": {
        "execution": {},
        "id": "37hBbIoagSTu"
      },
      "source": [
        "[*Click for solution*](https://github.com/NeuromatchAcademy/course-content/tree/master//tutorials/W2D3_BiologicalNeuronModels/solutions/W2D3_Tutorial1_Solution_2de5d8a9.py)\n",
        "\n"
      ]
    },
    {
      "cell_type": "markdown",
      "metadata": {
        "execution": {},
        "id": "U1lOtxqHgSTv"
      },
      "source": [
        "### Think! 2.2: Analyzing GWN Effects on Spiking\n",
        "- As we increase the input average ($\\mu$) or the input fluctuation ($\\sigma$), the spike count changes. How much can we increase the spike count, and what might be the relationship between GWN mean/std or DC value and spike count? \n",
        "\n",
        "- We have seen above that when we inject DC, the neuron spikes in a regular manner (clock like), and this regularity is reduced when GWN is injected. The question is, how irregular can we make the neurons spiking by changing the parameters of the GWN? \n",
        "\n",
        "We will see the answers to these questions in the next section but discuss first!\n"
      ]
    },
    {
      "cell_type": "markdown",
      "metadata": {
        "execution": {},
        "id": "5NYLpNtpgSTv"
      },
      "source": [
        "---\n",
        "# Section 3: Firing rate and spike time irregularity\n",
        "\n",
        "*Estimated timing to here from start of tutorial: 48 min*\n",
        "\n",
        "When we plot the output firing rate as a function of GWN mean or DC value, it is called the input-output transfer function of the neuron (so simply F-I curve).\n",
        "\n",
        "Spike regularity can be quantified as the **coefficient of variation (CV) of the inter-spike-interval (ISI)**:\n",
        "\\begin{align}\n",
        "\\text{CV}_{\\text{ISI}} = \\frac{std(\\text{ISI})}{mean(\\text{ISI})}\n",
        "\\end{align}\n",
        "\n",
        "A Poisson train is an example of high irregularity, in which $\\textbf{CV}_{\\textbf{ISI}} \\textbf{= 1}$. And for a clocklike (regular) process we have $\\textbf{CV}_{\\textbf{ISI}} \\textbf{= 0}$ because of **std(ISI)=0**."
      ]
    },
    {
      "cell_type": "markdown",
      "metadata": {
        "execution": {},
        "id": "2_h4TVSzgSTv"
      },
      "source": [
        "## Interactive Demo 3A: F-I Explorer for different `sig_gwn`\n",
        "\n",
        "How does the F-I curve of the LIF neuron change as we increase the $\\sigma$ of the GWN? We can already expect that the F-I curve will be stochastic and the results will vary from one trial to another. But will there be any other change compared to the F-I curved measured using DC?\n",
        "\n",
        "Here's an interactive demo that shows how the F-I curve of a LIF neuron changes for different levels of fluctuation $\\sigma$.\n"
      ]
    },
    {
      "cell_type": "code",
      "metadata": {
        "cellView": "form",
        "execution": {},
        "id": "MpmdBbXigSTv",
        "outputId": "f6df9710-d53d-445c-8502-a1f51d867abe",
        "colab": {
          "base_uri": "https://localhost:8080/",
          "height": 463,
          "referenced_widgets": [
            "fe61a7c5ee754270a4407111f1d154a5",
            "3bb7fa1f62a146b1b8485d5a1924f415",
            "5300a24a156f4b0b838076d912de7bbb",
            "8cb55c5843ed4f8ea229cd1e43cf1315",
            "272b7aa00aa340beb62cf0bbdbf72ba8",
            "89189b6f04ad4342b5b1ee58d29025f4",
            "36f5f93321cb475686734f6ba280fb3b"
          ]
        }
      },
      "source": [
        "# @title\n",
        "\n",
        "# @markdown Make sure you execute this cell to enable the widget!\n",
        "\n",
        "\n",
        "my_layout.width = '450px'\n",
        "@widgets.interact(\n",
        "    sig_gwn=widgets.FloatSlider(3.0, min=0., max=6., step=0.5,\n",
        "                                layout=my_layout)\n",
        ")\n",
        "\n",
        "\n",
        "def diff_std_affect_fI(sig_gwn):\n",
        "  pars = default_pars(T=1000.)\n",
        "  I_mean = np.arange(100., 400., 10.)\n",
        "  spk_count = np.zeros(len(I_mean))\n",
        "  spk_count_dc = np.zeros(len(I_mean))\n",
        "\n",
        "  for idx in range(len(I_mean)):\n",
        "      I_GWN = my_GWN(pars, mu=I_mean[idx], sig=sig_gwn, myseed=2020)\n",
        "      v, rec_spikes = run_LIF(pars, Iinj=I_GWN)\n",
        "      v_dc, rec_sp_dc = run_LIF(pars, Iinj=I_mean[idx])\n",
        "      spk_count[idx] = len(rec_spikes)\n",
        "      spk_count_dc[idx] = len(rec_sp_dc)\n",
        "\n",
        "  # Plot the F-I curve i.e. Output firing rate as a function of input mean.\n",
        "  plt.figure()\n",
        "  plt.plot(I_mean, spk_count, 'k',\n",
        "           label=r'$\\sigma_{\\mathrm{GWN}}=%.2f$' % sig_gwn)\n",
        "  plt.plot(I_mean, spk_count_dc, 'k--', alpha=0.5, lw=4, dashes=(2, 2),\n",
        "           label='DC input')\n",
        "  plt.ylabel('Spike count')\n",
        "  plt.xlabel('Average injected current (pA)')\n",
        "  plt.legend(loc='best')\n",
        "  plt.show()"
      ],
      "execution_count": 13,
      "outputs": [
        {
          "output_type": "display_data",
          "data": {
            "application/vnd.jupyter.widget-view+json": {
              "model_id": "fe61a7c5ee754270a4407111f1d154a5",
              "version_minor": 0,
              "version_major": 2
            },
            "text/plain": [
              "interactive(children=(FloatSlider(value=3.0, description='sig_gwn', layout=Layout(width='450px'), max=6.0, ste…"
            ]
          },
          "metadata": {
            "tags": []
          }
        }
      ]
    },
    {
      "cell_type": "markdown",
      "metadata": {
        "id": "mE8BbAwyvirS"
      },
      "source": [
        "#### answer\n",
        "\n",
        "If we use a DC input, the F-I curve is deterministic, and we can\n",
        "found its shape by solving the membrane equation of the neuron. If we have GWN,\n",
        "as we increase the sigma, the F-I curve has a more linear shape, and the neuron\n",
        "reaches its threshold using less average injected current."
      ]
    },
    {
      "cell_type": "markdown",
      "metadata": {
        "execution": {},
        "id": "tg15QMDCgSTv"
      },
      "source": [
        "[*Click for solution*](https://github.com/NeuromatchAcademy/course-content/tree/master//tutorials/W2D3_BiologicalNeuronModels/solutions/W2D3_Tutorial1_Solution_eba2370f.py)\n",
        "\n"
      ]
    },
    {
      "cell_type": "markdown",
      "metadata": {
        "execution": {},
        "id": "YGxnn-0_gSTw"
      },
      "source": [
        "## Coding Exercise 3: Compute $CV_{ISI}$ values\n",
        "\n",
        "As shown above, the F-I curve becomes smoother while increasing the amplitude of the fluctuation ($\\sigma$). In addition, the fluctuation can also change the irregularity of the spikes. Let's investigate the effect of $\\mu=250$ with $\\sigma=0.5$ vs $\\sigma=3$. \n",
        "\n",
        "Fill in the code below to compute ISI, then plot the histogram of the ISI and compute the $CV_{ISI}$. Note that, you can use `np.diff` to calculate ISI."
      ]
    },
    {
      "cell_type": "code",
      "metadata": {
        "execution": {},
        "id": "8is3llLqgSTx",
        "outputId": "38717e3f-5fb1-4029-c6fd-bf2a87421972",
        "colab": {
          "base_uri": "https://localhost:8080/",
          "height": 286
        }
      },
      "source": [
        "def isi_cv_LIF(spike_times):\n",
        "  \"\"\"\n",
        "  Calculates the inter-spike intervals (isi) and\n",
        "  the coefficient of variation (cv) for a given spike_train\n",
        "\n",
        "  Args:\n",
        "    spike_times : (n, ) vector with the spike times (ndarray)\n",
        "\n",
        "  Returns:\n",
        "    isi         : (n-1,) vector with the inter-spike intervals (ms)\n",
        "    cv          : coefficient of variation of isi (float)\n",
        "\n",
        "  \"\"\"\n",
        "  ########################################################################\n",
        "  ## TODO for students: compute the membrane potential v, spike train sp #\n",
        "  # Fill out function and remove\n",
        "  ## raise NotImplementedError('Student Exercise: calculate the isi and the cv!')\n",
        "  ########################################################################\n",
        "  if len(spike_times) >= 2:\n",
        "    # Compute isi\n",
        "    isi = np.diff(spike_times)\n",
        "    # Compute cv\n",
        "    cv = np.std(isi)/np.mean(isi)\n",
        "  else:\n",
        "    isi = np.nan\n",
        "    cv = np.nan\n",
        "\n",
        "  return isi, cv\n",
        "\n",
        "\n",
        "# Set parameters\n",
        "pars = default_pars(T=1000.)\n",
        "mu_gwn = 250\n",
        "sig_gwn1 = 0.5\n",
        "sig_gwn2 = 3.0\n",
        "\n",
        "# Run LIF model for sigma = 0.5\n",
        "I_GWN1 = my_GWN(pars, mu=mu_gwn, sig=sig_gwn1, myseed=2020)\n",
        "_, sp1 = run_LIF(pars, Iinj=I_GWN1)\n",
        "\n",
        "# Run LIF model for sigma = 3\n",
        "I_GWN2 = my_GWN(pars, mu=mu_gwn, sig=sig_gwn2, myseed=2020)\n",
        "_, sp2 = run_LIF(pars, Iinj=I_GWN2)\n",
        "\n",
        "# Compute ISIs/CV\n",
        "isi1, cv1 = isi_cv_LIF(sp1)\n",
        "isi2, cv2 = isi_cv_LIF(sp2)\n",
        "\n",
        "# Visualize\n",
        "my_hists(isi1, isi2, cv1, cv2, sig_gwn1, sig_gwn2)"
      ],
      "execution_count": 14,
      "outputs": [
        {
          "output_type": "display_data",
          "data": {
            "image/png": "[encoded data removed]",
            "text/plain": [
              "<Figure size 792x288 with 2 Axes>"
            ]
          },
          "metadata": {
            "tags": [],
            "image/png": {
              "width": 773,
              "height": 269
            },
            "needs_background": "light"
          }
        }
      ]
    },
    {
      "cell_type": "markdown",
      "metadata": {
        "execution": {},
        "id": "CX3sAyGLgSTx"
      },
      "source": [
        "[*Click for solution*](https://github.com/NeuromatchAcademy/course-content/tree/master//tutorials/W2D3_BiologicalNeuronModels/solutions/W2D3_Tutorial1_Solution_27d69c89.py)\n",
        "\n",
        "*Example output:*\n",
        "\n",
        "<img alt='Solution hint' align='left' width=1552.0 height=544.0 src=https://raw.githubusercontent.com/NeuromatchAcademy/course-content/master/tutorials/W2D3_BiologicalNeuronModels/static/W2D3_Tutorial1_Solution_27d69c89_0.png>\n",
        "\n"
      ]
    },
    {
      "cell_type": "markdown",
      "metadata": {
        "execution": {},
        "id": "xY-BVSMbgSTx"
      },
      "source": [
        "## Interactive Demo 3B: Spike irregularity explorer for different `sig_gwn`\n",
        "\n",
        "In the above illustration, we see that the CV of inter-spike-interval (ISI) distribution depends on $\\sigma$ of GWN. What about the mean of GWN, should that also affect the CV$_{\\rm ISI}$? If yes, how? Does the efficacy of $\\sigma$ in increasing the CV$_{\\rm ISI}$ depend on $\\mu$?\n",
        "\n",
        "In the following interactive demo, you will examine how different levels of fluctuation $\\sigma$ affect the CVs for different average injected currents ($\\mu$).\n",
        "\n",
        "1. Does the standard deviation of the injected current affect the F-I curve in any qualitative manner?\n",
        "2. Why does increasing the mean of GWN reduce the $CV_{ISI}$?\n",
        "3.  If you plot spike count (or rate) vs. $CV_{ISI}$, should there be a relationship between the two? Try out yourself."
      ]
    },
    {
      "cell_type": "code",
      "metadata": {
        "cellView": "form",
        "execution": {},
        "id": "Y0XDBawGgSTx",
        "outputId": "dee2e5b7-dc07-4006-8cc8-f73924d0547a",
        "colab": {
          "base_uri": "https://localhost:8080/",
          "height": 462,
          "referenced_widgets": [
            "dc0117f3ca7546a1b640984281c50253",
            "6fba974bc1ad41f4b45088b101039f81",
            "9a44bd6498e1403dbc115a3fc4a1eca6",
            "8733e71a2f6745b99cad04dff592d41f",
            "bc8d94b812ea4148bd34fc44994df2ff",
            "89189b6f04ad4342b5b1ee58d29025f4",
            "ddb9b22492864565ba1d0c9a119382a6"
          ]
        }
      },
      "source": [
        "#@title\n",
        "\n",
        "#@markdown Make sure you execute this cell to enable the widget!\n",
        "\n",
        "my_layout.width = '450px'\n",
        "@widgets.interact(\n",
        "    sig_gwn=widgets.FloatSlider(0.0, min=0., max=10.,\n",
        "                                step=0.5, layout=my_layout)\n",
        ")\n",
        "\n",
        "\n",
        "def diff_std_affect_fI(sig_gwn):\n",
        "  pars = default_pars(T=1000.)\n",
        "  I_mean = np.arange(100., 400., 20)\n",
        "  spk_count = np.zeros(len(I_mean))\n",
        "  cv_isi = np.empty(len(I_mean))\n",
        "\n",
        "  for idx in range(len(I_mean)):\n",
        "    I_GWN = my_GWN(pars, mu=I_mean[idx], sig=sig_gwn)\n",
        "    v, rec_spikes = run_LIF(pars, Iinj=I_GWN)\n",
        "    spk_count[idx] = len(rec_spikes)\n",
        "    if len(rec_spikes) > 3:\n",
        "      isi = np.diff(rec_spikes)\n",
        "      cv_isi[idx] = np.std(isi) / np.mean(isi)\n",
        "\n",
        "  # Plot the F-I curve i.e. Output firing rate as a function of input mean.\n",
        "  plt.figure()\n",
        "  plt.plot(I_mean[spk_count > 5], cv_isi[spk_count > 5], 'bo', alpha=0.5)\n",
        "  plt.xlabel('Average injected current (pA)')\n",
        "  plt.ylabel(r'Spike irregularity ($\\mathrm{CV}_\\mathrm{ISI}$)')\n",
        "  plt.ylim(-0.1, 1.5)\n",
        "  plt.grid(True)\n",
        "  plt.show()"
      ],
      "execution_count": 15,
      "outputs": [
        {
          "output_type": "display_data",
          "data": {
            "application/vnd.jupyter.widget-view+json": {
              "model_id": "dc0117f3ca7546a1b640984281c50253",
              "version_minor": 0,
              "version_major": 2
            },
            "text/plain": [
              "interactive(children=(FloatSlider(value=0.0, description='sig_gwn', layout=Layout(width='450px'), max=10.0, st…"
            ]
          },
          "metadata": {
            "tags": []
          }
        }
      ]
    },
    {
      "cell_type": "markdown",
      "metadata": {
        "id": "T2-ZXRBcwhbs"
      },
      "source": [
        "________________________________________________________________________________\n",
        "#### answer\n",
        "\n",
        "1. Yes, it does. With DC input the F-I curve has a strong non-linearity but when\n",
        "a neuron is driven with GWN, as we increase the $\\sigma$ the non-linearity is\n",
        "smoothened out. Essentially, in this case noise is acting to suppress the\n",
        "non-linearities and render a neuron as a linear system.\n",
        "2. (here is a short answer) When we increase the mean of the GWN, at some point\n",
        "effective input mean is above the spike threshold and then the neuron operates\n",
        "in the so called mean-driven regime -- as the input is so high all the neuron\n",
        "is does is charge up to the spike threshold and reset. This essentially gives\n",
        "almost regular spiking.\n",
        "3. In an LIF, high firing rates are achieved for high GWN mean. Higher the mean,\n",
        "higher the firing rate and lower the CV_ISI. So you will expect that as firing rate\n",
        "increases, spike irregularity decreases. This is because of the spike threshold.\n",
        "FOr a Poisson process there is no relationship between spike rate and spike\n",
        "irregularity.\n",
        "________________________________________________________________________________"
      ]
    },
    {
      "cell_type": "markdown",
      "metadata": {
        "execution": {},
        "id": "D8M8Y52sgSTy"
      },
      "source": [
        "[*Click for solution*](https://github.com/NeuromatchAcademy/course-content/tree/master//tutorials/W2D3_BiologicalNeuronModels/solutions/W2D3_Tutorial1_Solution_c6f1c4a2.py)\n",
        "\n"
      ]
    },
    {
      "cell_type": "markdown",
      "metadata": {
        "execution": {},
        "id": "nPzBaY4SgSTy"
      },
      "source": [
        "---\n",
        "# Summary\n",
        "\n",
        "*Estimated timing of tutorial: 1 hour, 10 min*\n",
        "\n",
        "Congratulations! You've just built a leaky integrate-and-fire (LIF) neuron model from scratch, and studied its dynamics in response to various types of inputs, having:\n",
        "\n",
        "- simulated the LIF neuron model\n",
        "\n",
        "- driven the LIF neuron with external inputs, such as direct current and Gaussian white noise\n",
        "\n",
        "- studied how different inputs affect the  LIF neuron's output (firing rate and spike time irregularity),\n",
        "\n",
        "with a special focus on low rate and irregular firing regime to mimc real cortical neurons. The next tutorial will look at how spiking statistics may be influenced by a neuron's input statistics.\n",
        "\n",
        "If you have extra time, look at the bonus sections below to explore a different type of noise input and learn about extensions to integrate-and-fire models.\n"
      ]
    },
    {
      "cell_type": "markdown",
      "metadata": {
        "execution": {},
        "id": "EOTNjIxUgSTy"
      },
      "source": [
        "---\n",
        "# Bonus"
      ]
    },
    {
      "cell_type": "markdown",
      "metadata": {
        "execution": {},
        "id": "-3d3s56rgSTz"
      },
      "source": [
        "---\n",
        "## Bonus Section 1: Orenstein-Uhlenbeck Process\n",
        "\n",
        "When a neuron receives spiking input, the synaptic current is Shot Noise -- which is a kind of colored noise and the spectrum of the noise determined by the synaptic kernel time constant. That is, a neuron is driven by **colored noise** and not GWN.\n",
        "\n",
        "We can model colored noise using the Ohrenstein-Uhlenbeck process - filtered white noise. "
      ]
    },
    {
      "cell_type": "markdown",
      "metadata": {
        "execution": {},
        "id": "9HH06JqEgSTz"
      },
      "source": [
        "We next study if the input current is temporally correlated and is modeled as an Ornstein-Uhlenbeck process $\\eta(t)$, i.e., low-pass filtered GWN with a time constant $\\tau_{\\eta}$: \n",
        "\n",
        "$$\\tau_\\eta \\frac{d}{dt}\\eta(t) = \\mu-\\eta(t) + \\sigma_\\eta\\sqrt{2\\tau_\\eta}\\xi(t).$$\n",
        "\n",
        "**Hint:** An OU process as defined above has\n",
        "\n",
        "$$E[\\eta(t)]=\\mu$$ \n",
        "\n",
        "and autocovariance \n",
        "\n",
        "$$[\\eta(t)\\eta(t+\\tau)]=\\sigma_\\eta^2e^{-|t-\\tau|/\\tau_\\eta},$$\n",
        "\n",
        "which can be used to check your code. "
      ]
    },
    {
      "cell_type": "code",
      "metadata": {
        "cellView": "form",
        "execution": {},
        "id": "t58lI4SxgST0"
      },
      "source": [
        "# @markdown Execute this cell to get helper function `my_OU`\n",
        "\n",
        "\n",
        "def my_OU(pars, mu, sig, myseed=False):\n",
        "  \"\"\"\n",
        "  Function that produces Ornstein-Uhlenbeck input\n",
        "\n",
        "  Args:\n",
        "    pars       : parameter dictionary\n",
        "    sig        : noise amplitute\n",
        "    myseed     : random seed. int or boolean\n",
        "\n",
        "  Returns:\n",
        "    I_ou       : Ornstein-Uhlenbeck input current\n",
        "  \"\"\"\n",
        "\n",
        "  # Retrieve simulation parameters\n",
        "  dt, range_t = pars['dt'], pars['range_t']\n",
        "  Lt = range_t.size\n",
        "  tau_ou = pars['tau_ou']  # [ms]\n",
        "\n",
        "  # set random seed\n",
        "  if myseed:\n",
        "    np.random.seed(seed=myseed)\n",
        "  else:\n",
        "    np.random.seed()\n",
        "\n",
        "  # Initialize\n",
        "  noise = np.random.randn(Lt)\n",
        "  I_ou = np.zeros(Lt)\n",
        "  I_ou[0] = noise[0] * sig\n",
        "\n",
        "  # generate OU\n",
        "  for it in range(Lt-1):\n",
        "    I_ou[it+1] = I_ou[it] + (dt / tau_ou) * (mu - I_ou[it]) + np.sqrt(2 * dt / tau_ou) * sig * noise[it + 1]\n",
        "\n",
        "  return I_ou\n",
        "\n",
        "\n",
        "help(my_OU)"
      ],
      "execution_count": null,
      "outputs": []
    },
    {
      "cell_type": "markdown",
      "metadata": {
        "execution": {},
        "id": "RN_4dnc4gST0"
      },
      "source": [
        "### Bonus Interactive Demo 1: LIF Explorer with OU input\n",
        "In the following, we will check how a neuron responds to a noisy current that follows the statistics of an OU process.\n",
        "\n",
        "-  How does the OU type input change neuron responsiveness? \n",
        "-  What do you think will happen to the spike pattern and rate if you increased or decreased the time constant of the OU process?"
      ]
    },
    {
      "cell_type": "code",
      "metadata": {
        "cellView": "form",
        "execution": {},
        "id": "-hcCswcNgST0"
      },
      "source": [
        "# @title\n",
        "\n",
        "# @markdown Remember to enable the widget by running the cell!\n",
        "\n",
        "my_layout.width = '450px'\n",
        "@widgets.interact(\n",
        "  tau_ou=widgets.FloatSlider(10.0, min=5., max=20.,\n",
        "                             step=2.5, layout=my_layout),\n",
        "  sig_ou=widgets.FloatSlider(10.0, min=5., max=40.,\n",
        "                             step=2.5, layout=my_layout),\n",
        "  mu_ou=widgets.FloatSlider(190.0, min=180., max=220.,\n",
        "                            step=2.5, layout=my_layout)\n",
        ")\n",
        "\n",
        "\n",
        "def LIF_with_OU(tau_ou=10., sig_ou=40., mu_ou=200.):\n",
        "  pars = default_pars(T=1000.)\n",
        "  pars['tau_ou'] = tau_ou  # [ms]\n",
        "\n",
        "  I_ou = my_OU(pars, mu_ou, sig_ou)\n",
        "\n",
        "  v, sp = run_LIF(pars, Iinj=I_ou)\n",
        "\n",
        "  plt.figure(figsize=(12, 4))\n",
        "  plt.subplot(121)\n",
        "  plt.plot(pars['range_t'], I_ou, 'b', lw=1.0)\n",
        "  plt.xlabel('Time (ms)')\n",
        "  plt.ylabel(r'$I_{\\mathrm{OU}}$ (pA)')\n",
        "  plt.subplot(122)\n",
        "  plot_volt_trace(pars, v, sp)\n",
        "  plt.tight_layout()\n",
        "  plt.show()"
      ],
      "execution_count": null,
      "outputs": []
    },
    {
      "cell_type": "markdown",
      "metadata": {
        "execution": {},
        "id": "YRYXLniogST1"
      },
      "source": [
        "[*Click for solution*](https://github.com/NeuromatchAcademy/course-content/tree/master//tutorials/W2D3_BiologicalNeuronModels/solutions/W2D3_Tutorial1_Solution_cf5b6a80.py)\n",
        "\n"
      ]
    },
    {
      "cell_type": "markdown",
      "metadata": {
        "execution": {},
        "id": "haGQQ_xkgST1"
      },
      "source": [
        "---\n",
        "## Bonus Section 2: Generalized Integrate-and-Fire models\n",
        "\n",
        "LIF model is not the only abstraction of real neurons. If you want to learn about more realistic types of neuronal models, watch the Bonus Video!"
      ]
    },
    {
      "cell_type": "code",
      "metadata": {
        "cellView": "form",
        "execution": {},
        "id": "7aMzk8TqgST1"
      },
      "source": [
        "# @title Video 3 (Bonus): Extensions to Integrate-and-Fire models\n",
        "from ipywidgets import widgets\n",
        "\n",
        "out2 = widgets.Output()\n",
        "with out2:\n",
        "  from IPython.display import IFrame\n",
        "  class BiliVideo(IFrame):\n",
        "      def __init__(self, id, page=1, width=400, height=300, **kwargs):\n",
        "          self.id=id\n",
        "          src = 'https://player.bilibili.com/player.html?bvid={0}&page={1}'.format(id, page)\n",
        "          super(BiliVideo, self).__init__(src, width, height, **kwargs)\n",
        "\n",
        "  video = BiliVideo(id=\"\", width=854, height=480, fs=1)\n",
        "  print('Video available at https://www.bilibili.com/video/{0}'.format(video.id))\n",
        "  display(video)\n",
        "\n",
        "out1 = widgets.Output()\n",
        "with out1:\n",
        "  from IPython.display import YouTubeVideo\n",
        "  video = YouTubeVideo(id=\"G0b6wLhuQxE\", width=854, height=480, fs=1, rel=0)\n",
        "  print('Video available at https://youtube.com/watch?v=' + video.id)\n",
        "  display(video)\n",
        "\n",
        "out = widgets.Tab([out1, out2])\n",
        "out.set_title(0, 'Youtube')\n",
        "out.set_title(1, 'Bilibili')\n",
        "\n",
        "display(out)"
      ],
      "execution_count": null,
      "outputs": []
    }
  ]
}