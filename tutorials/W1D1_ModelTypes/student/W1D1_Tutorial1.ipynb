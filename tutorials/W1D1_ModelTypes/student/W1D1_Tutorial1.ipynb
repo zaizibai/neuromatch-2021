{
  "nbformat": 4,
  "nbformat_minor": 0,
  "metadata": {
    "colab": {
      "name": "W1D1_Tutorial1",
      "provenance": [],
      "collapsed_sections": [],
      "toc_visible": true,
      "include_colab_link": true
    },
    "kernel": {
      "display_name": "Python 3",
      "language": "python",
      "name": "python3"
    },
    "kernelspec": {
      "display_name": "Python 3",
      "name": "python3"
    },
    "language_info": {
      "codemirror_mode": {
        "name": "ipython",
        "version": 3
      },
      "file_extension": ".py",
      "mimetype": "text/x-python",
      "name": "python",
      "nbconvert_exporter": "python",
      "pygments_lexer": "ipython3",
      "version": "3.7.10"
    },
    "widgets": {
      "application/vnd.jupyter.widget-state+json": {
        "6d0137bf4d3d4448ae8f954cd2b98f61": {
          "model_module": "@jupyter-widgets/controls",
          "model_name": "TabModel",
          "state": {
            "_view_name": "TabView",
            "_dom_classes": [],
            "_titles": {
              "0": "Youtube",
              "1": "Bilibili"
            },
            "_model_name": "TabModel",
            "_view_module": "@jupyter-widgets/controls",
            "selected_index": 0,
            "_model_module_version": "1.5.0",
            "_view_count": null,
            "_view_module_version": "1.5.0",
            "box_style": "",
            "layout": "IPY_MODEL_10a5739270754fb79a84b7cbc706d82e",
            "_model_module": "@jupyter-widgets/controls",
            "children": [
              "IPY_MODEL_3e3d3c7d15bf445e99e003f39361b7ce",
              "IPY_MODEL_b86ec34b846548aeb444559b084bb2a0"
            ]
          }
        },
        "10a5739270754fb79a84b7cbc706d82e": {
          "model_module": "@jupyter-widgets/base",
          "model_name": "LayoutModel",
          "state": {
            "_view_name": "LayoutView",
            "grid_template_rows": null,
            "right": null,
            "justify_content": null,
            "_view_module": "@jupyter-widgets/base",
            "overflow": null,
            "_model_module_version": "1.2.0",
            "_view_count": null,
            "flex_flow": null,
            "width": null,
            "min_width": null,
            "border": null,
            "align_items": null,
            "bottom": null,
            "_model_module": "@jupyter-widgets/base",
            "top": null,
            "grid_column": null,
            "overflow_y": null,
            "overflow_x": null,
            "grid_auto_flow": null,
            "grid_area": null,
            "grid_template_columns": null,
            "flex": null,
            "_model_name": "LayoutModel",
            "justify_items": null,
            "grid_row": null,
            "max_height": null,
            "align_content": null,
            "visibility": null,
            "align_self": null,
            "height": null,
            "min_height": null,
            "padding": null,
            "grid_auto_rows": null,
            "grid_gap": null,
            "max_width": null,
            "order": null,
            "_view_module_version": "1.2.0",
            "grid_template_areas": null,
            "object_position": null,
            "object_fit": null,
            "grid_auto_columns": null,
            "margin": null,
            "display": null,
            "left": null
          }
        },
        "3e3d3c7d15bf445e99e003f39361b7ce": {
          "model_module": "@jupyter-widgets/output",
          "model_name": "OutputModel",
          "state": {
            "_view_name": "OutputView",
            "msg_id": "",
            "_dom_classes": [],
            "_model_name": "OutputModel",
            "outputs": [
              {
                "output_type": "stream",
                "metadata": {
                  "tags": []
                },
                "text": "Video available at https://youtube.com/watch?v=KgqR_jbjMQg\n",
                "stream": "stdout"
              },
              {
                "output_type": "display_data",
                "metadata": {
                  "tags": []
                },
                "text/html": "\n        <iframe\n            width=\"854\"\n            height=\"480\"\n            src=\"https://www.youtube.com/embed/KgqR_jbjMQg?fs=1&rel=0\"\n            frameborder=\"0\"\n            allowfullscreen\n        ></iframe>\n        ",
                "text/plain": "<IPython.lib.display.YouTubeVideo at 0x7fe3c3a5e650>",
                "image/jpeg": "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\n"
              }
            ],
            "_view_module": "@jupyter-widgets/output",
            "_model_module_version": "1.0.0",
            "_view_count": null,
            "_view_module_version": "1.0.0",
            "layout": "IPY_MODEL_021745d3ca7b48d5a2c9db6a17770272",
            "_model_module": "@jupyter-widgets/output"
          }
        },
        "b86ec34b846548aeb444559b084bb2a0": {
          "model_module": "@jupyter-widgets/output",
          "model_name": "OutputModel",
          "state": {
            "_view_name": "OutputView",
            "msg_id": "",
            "_dom_classes": [],
            "_model_name": "OutputModel",
            "outputs": [
              {
                "output_type": "stream",
                "metadata": {
                  "tags": []
                },
                "text": "Video available at https://www.bilibili.com/video/BV1mz4y1X7ot\n",
                "stream": "stdout"
              },
              {
                "output_type": "display_data",
                "metadata": {
                  "tags": []
                },
                "text/html": "\n        <iframe\n            width=\"854\"\n            height=\"480\"\n            src=\"https://player.bilibili.com/player.html?bvid=BV1mz4y1X7ot&page=1?fs=1\"\n            frameborder=\"0\"\n            allowfullscreen\n        ></iframe>\n        ",
                "text/plain": "<__main__.BiliVideo at 0x7fe3c3a47c10>"
              }
            ],
            "_view_module": "@jupyter-widgets/output",
            "_model_module_version": "1.0.0",
            "_view_count": null,
            "_view_module_version": "1.0.0",
            "layout": "IPY_MODEL_be5448eb74384fa98c2a2bcd6d4e0b72",
            "_model_module": "@jupyter-widgets/output"
          }
        },
        "021745d3ca7b48d5a2c9db6a17770272": {
          "model_module": "@jupyter-widgets/base",
          "model_name": "LayoutModel",
          "state": {
            "_view_name": "LayoutView",
            "grid_template_rows": null,
            "right": null,
            "justify_content": null,
            "_view_module": "@jupyter-widgets/base",
            "overflow": null,
            "_model_module_version": "1.2.0",
            "_view_count": null,
            "flex_flow": null,
            "width": null,
            "min_width": null,
            "border": null,
            "align_items": null,
            "bottom": null,
            "_model_module": "@jupyter-widgets/base",
            "top": null,
            "grid_column": null,
            "overflow_y": null,
            "overflow_x": null,
            "grid_auto_flow": null,
            "grid_area": null,
            "grid_template_columns": null,
            "flex": null,
            "_model_name": "LayoutModel",
            "justify_items": null,
            "grid_row": null,
            "max_height": null,
            "align_content": null,
            "visibility": null,
            "align_self": null,
            "height": null,
            "min_height": null,
            "padding": null,
            "grid_auto_rows": null,
            "grid_gap": null,
            "max_width": null,
            "order": null,
            "_view_module_version": "1.2.0",
            "grid_template_areas": null,
            "object_position": null,
            "object_fit": null,
            "grid_auto_columns": null,
            "margin": null,
            "display": null,
            "left": null
          }
        },
        "be5448eb74384fa98c2a2bcd6d4e0b72": {
          "model_module": "@jupyter-widgets/base",
          "model_name": "LayoutModel",
          "state": {
            "_view_name": "LayoutView",
            "grid_template_rows": null,
            "right": null,
            "justify_content": null,
            "_view_module": "@jupyter-widgets/base",
            "overflow": null,
            "_model_module_version": "1.2.0",
            "_view_count": null,
            "flex_flow": null,
            "width": null,
            "min_width": null,
            "border": null,
            "align_items": null,
            "bottom": null,
            "_model_module": "@jupyter-widgets/base",
            "top": null,
            "grid_column": null,
            "overflow_y": null,
            "overflow_x": null,
            "grid_auto_flow": null,
            "grid_area": null,
            "grid_template_columns": null,
            "flex": null,
            "_model_name": "LayoutModel",
            "justify_items": null,
            "grid_row": null,
            "max_height": null,
            "align_content": null,
            "visibility": null,
            "align_self": null,
            "height": null,
            "min_height": null,
            "padding": null,
            "grid_auto_rows": null,
            "grid_gap": null,
            "max_width": null,
            "order": null,
            "_view_module_version": "1.2.0",
            "grid_template_areas": null,
            "object_position": null,
            "object_fit": null,
            "grid_auto_columns": null,
            "margin": null,
            "display": null,
            "left": null
          }
        },
        "d30cdeac4e1f40f991d1b398bc591c51": {
          "model_module": "@jupyter-widgets/controls",
          "model_name": "TabModel",
          "state": {
            "_view_name": "TabView",
            "_dom_classes": [],
            "_titles": {
              "0": "Youtube",
              "1": "Bilibili"
            },
            "_model_name": "TabModel",
            "_view_module": "@jupyter-widgets/controls",
            "selected_index": 0,
            "_model_module_version": "1.5.0",
            "_view_count": null,
            "_view_module_version": "1.5.0",
            "box_style": "",
            "layout": "IPY_MODEL_5790da09209142e2b211f84211bb6ba6",
            "_model_module": "@jupyter-widgets/controls",
            "children": [
              "IPY_MODEL_ea611c42716c43229ccf8019109259a2",
              "IPY_MODEL_1d9c5134cb054422aadf90f2a8ac73e3"
            ]
          }
        },
        "5790da09209142e2b211f84211bb6ba6": {
          "model_module": "@jupyter-widgets/base",
          "model_name": "LayoutModel",
          "state": {
            "_view_name": "LayoutView",
            "grid_template_rows": null,
            "right": null,
            "justify_content": null,
            "_view_module": "@jupyter-widgets/base",
            "overflow": null,
            "_model_module_version": "1.2.0",
            "_view_count": null,
            "flex_flow": null,
            "width": null,
            "min_width": null,
            "border": null,
            "align_items": null,
            "bottom": null,
            "_model_module": "@jupyter-widgets/base",
            "top": null,
            "grid_column": null,
            "overflow_y": null,
            "overflow_x": null,
            "grid_auto_flow": null,
            "grid_area": null,
            "grid_template_columns": null,
            "flex": null,
            "_model_name": "LayoutModel",
            "justify_items": null,
            "grid_row": null,
            "max_height": null,
            "align_content": null,
            "visibility": null,
            "align_self": null,
            "height": null,
            "min_height": null,
            "padding": null,
            "grid_auto_rows": null,
            "grid_gap": null,
            "max_width": null,
            "order": null,
            "_view_module_version": "1.2.0",
            "grid_template_areas": null,
            "object_position": null,
            "object_fit": null,
            "grid_auto_columns": null,
            "margin": null,
            "display": null,
            "left": null
          }
        },
        "ea611c42716c43229ccf8019109259a2": {
          "model_module": "@jupyter-widgets/output",
          "model_name": "OutputModel",
          "state": {
            "_view_name": "OutputView",
            "msg_id": "",
            "_dom_classes": [],
            "_model_name": "OutputModel",
            "outputs": [
              {
                "output_type": "stream",
                "metadata": {
                  "tags": []
                },
                "text": "Video available at https://youtube.com/watch?v=QGA5FCW7kkA\n",
                "stream": "stdout"
              },
              {
                "output_type": "display_data",
                "metadata": {
                  "tags": []
                },
                "text/html": "\n        <iframe\n            width=\"854\"\n            height=\"480\"\n            src=\"https://www.youtube.com/embed/QGA5FCW7kkA?fs=1&rel=0\"\n            frameborder=\"0\"\n            allowfullscreen\n        ></iframe>\n        ",
                "text/plain": "<IPython.lib.display.YouTubeVideo at 0x7fe3c3a5e650>",
                "image/jpeg": "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\n"
              }
            ],
            "_view_module": "@jupyter-widgets/output",
            "_model_module_version": "1.0.0",
            "_view_count": null,
            "_view_module_version": "1.0.0",
            "layout": "IPY_MODEL_9cb62643e719489ebb52824e6c5bc056",
            "_model_module": "@jupyter-widgets/output"
          }
        },
        "1d9c5134cb054422aadf90f2a8ac73e3": {
          "model_module": "@jupyter-widgets/output",
          "model_name": "OutputModel",
          "state": {
            "_view_name": "OutputView",
            "msg_id": "",
            "_dom_classes": [],
            "_model_name": "OutputModel",
            "outputs": [
              {
                "output_type": "stream",
                "metadata": {
                  "tags": []
                },
                "text": "Video available at https://www.bilibili.com/video/BV1dt4y1Q7C5\n",
                "stream": "stdout"
              },
              {
                "output_type": "display_data",
                "metadata": {
                  "tags": []
                },
                "text/html": "\n        <iframe\n            width=\"854\"\n            height=\"480\"\n            src=\"https://player.bilibili.com/player.html?bvid=BV1dt4y1Q7C5&page=1?fs=1\"\n            frameborder=\"0\"\n            allowfullscreen\n        ></iframe>\n        ",
                "text/plain": "<__main__.BiliVideo at 0x7fe3b324a290>"
              }
            ],
            "_view_module": "@jupyter-widgets/output",
            "_model_module_version": "1.0.0",
            "_view_count": null,
            "_view_module_version": "1.0.0",
            "layout": "IPY_MODEL_d4c92445e1294c849e6bf4c35df3a809",
            "_model_module": "@jupyter-widgets/output"
          }
        },
        "9cb62643e719489ebb52824e6c5bc056": {
          "model_module": "@jupyter-widgets/base",
          "model_name": "LayoutModel",
          "state": {
            "_view_name": "LayoutView",
            "grid_template_rows": null,
            "right": null,
            "justify_content": null,
            "_view_module": "@jupyter-widgets/base",
            "overflow": null,
            "_model_module_version": "1.2.0",
            "_view_count": null,
            "flex_flow": null,
            "width": null,
            "min_width": null,
            "border": null,
            "align_items": null,
            "bottom": null,
            "_model_module": "@jupyter-widgets/base",
            "top": null,
            "grid_column": null,
            "overflow_y": null,
            "overflow_x": null,
            "grid_auto_flow": null,
            "grid_area": null,
            "grid_template_columns": null,
            "flex": null,
            "_model_name": "LayoutModel",
            "justify_items": null,
            "grid_row": null,
            "max_height": null,
            "align_content": null,
            "visibility": null,
            "align_self": null,
            "height": null,
            "min_height": null,
            "padding": null,
            "grid_auto_rows": null,
            "grid_gap": null,
            "max_width": null,
            "order": null,
            "_view_module_version": "1.2.0",
            "grid_template_areas": null,
            "object_position": null,
            "object_fit": null,
            "grid_auto_columns": null,
            "margin": null,
            "display": null,
            "left": null
          }
        },
        "d4c92445e1294c849e6bf4c35df3a809": {
          "model_module": "@jupyter-widgets/base",
          "model_name": "LayoutModel",
          "state": {
            "_view_name": "LayoutView",
            "grid_template_rows": null,
            "right": null,
            "justify_content": null,
            "_view_module": "@jupyter-widgets/base",
            "overflow": null,
            "_model_module_version": "1.2.0",
            "_view_count": null,
            "flex_flow": null,
            "width": null,
            "min_width": null,
            "border": null,
            "align_items": null,
            "bottom": null,
            "_model_module": "@jupyter-widgets/base",
            "top": null,
            "grid_column": null,
            "overflow_y": null,
            "overflow_x": null,
            "grid_auto_flow": null,
            "grid_area": null,
            "grid_template_columns": null,
            "flex": null,
            "_model_name": "LayoutModel",
            "justify_items": null,
            "grid_row": null,
            "max_height": null,
            "align_content": null,
            "visibility": null,
            "align_self": null,
            "height": null,
            "min_height": null,
            "padding": null,
            "grid_auto_rows": null,
            "grid_gap": null,
            "max_width": null,
            "order": null,
            "_view_module_version": "1.2.0",
            "grid_template_areas": null,
            "object_position": null,
            "object_fit": null,
            "grid_auto_columns": null,
            "margin": null,
            "display": null,
            "left": null
          }
        },
        "0d78080cb2954e93913971b074cdb0e7": {
          "model_module": "@jupyter-widgets/controls",
          "model_name": "TabModel",
          "state": {
            "_view_name": "TabView",
            "_dom_classes": [],
            "_titles": {
              "0": "Youtube",
              "1": "Bilibili"
            },
            "_model_name": "TabModel",
            "_view_module": "@jupyter-widgets/controls",
            "selected_index": 0,
            "_model_module_version": "1.5.0",
            "_view_count": null,
            "_view_module_version": "1.5.0",
            "box_style": "",
            "layout": "IPY_MODEL_30afa6152c094e749957594352d52443",
            "_model_module": "@jupyter-widgets/controls",
            "children": [
              "IPY_MODEL_1972580227854b54a29943310628a557",
              "IPY_MODEL_0d9a15b3437c40daa798a65711706c94"
            ]
          }
        },
        "30afa6152c094e749957594352d52443": {
          "model_module": "@jupyter-widgets/base",
          "model_name": "LayoutModel",
          "state": {
            "_view_name": "LayoutView",
            "grid_template_rows": null,
            "right": null,
            "justify_content": null,
            "_view_module": "@jupyter-widgets/base",
            "overflow": null,
            "_model_module_version": "1.2.0",
            "_view_count": null,
            "flex_flow": null,
            "width": null,
            "min_width": null,
            "border": null,
            "align_items": null,
            "bottom": null,
            "_model_module": "@jupyter-widgets/base",
            "top": null,
            "grid_column": null,
            "overflow_y": null,
            "overflow_x": null,
            "grid_auto_flow": null,
            "grid_area": null,
            "grid_template_columns": null,
            "flex": null,
            "_model_name": "LayoutModel",
            "justify_items": null,
            "grid_row": null,
            "max_height": null,
            "align_content": null,
            "visibility": null,
            "align_self": null,
            "height": null,
            "min_height": null,
            "padding": null,
            "grid_auto_rows": null,
            "grid_gap": null,
            "max_width": null,
            "order": null,
            "_view_module_version": "1.2.0",
            "grid_template_areas": null,
            "object_position": null,
            "object_fit": null,
            "grid_auto_columns": null,
            "margin": null,
            "display": null,
            "left": null
          }
        },
        "1972580227854b54a29943310628a557": {
          "model_module": "@jupyter-widgets/output",
          "model_name": "OutputModel",
          "state": {
            "_view_name": "OutputView",
            "msg_id": "",
            "_dom_classes": [],
            "_model_name": "OutputModel",
            "outputs": [
              {
                "output_type": "stream",
                "metadata": {
                  "tags": []
                },
                "text": "Video available at https://youtube.com/watch?v=DHhM80MOTe8\n",
                "stream": "stdout"
              },
              {
                "output_type": "display_data",
                "metadata": {
                  "tags": []
                },
                "text/html": "\n        <iframe\n            width=\"854\"\n            height=\"480\"\n            src=\"https://www.youtube.com/embed/DHhM80MOTe8?fs=1&rel=0\"\n            frameborder=\"0\"\n            allowfullscreen\n        ></iframe>\n        ",
                "text/plain": "<IPython.lib.display.YouTubeVideo at 0x7fe3b14f3390>",
                "image/jpeg": "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\n"
              }
            ],
            "_view_module": "@jupyter-widgets/output",
            "_model_module_version": "1.0.0",
            "_view_count": null,
            "_view_module_version": "1.0.0",
            "layout": "IPY_MODEL_77a5231df8b24a66b6307511bd0caf9f",
            "_model_module": "@jupyter-widgets/output"
          }
        },
        "0d9a15b3437c40daa798a65711706c94": {
          "model_module": "@jupyter-widgets/output",
          "model_name": "OutputModel",
          "state": {
            "_view_name": "OutputView",
            "msg_id": "",
            "_dom_classes": [],
            "_model_name": "OutputModel",
            "outputs": [
              {
                "output_type": "stream",
                "metadata": {
                  "tags": []
                },
                "text": "Video available at https://www.bilibili.com/video/BV1ov411B7Pm\n",
                "stream": "stdout"
              },
              {
                "output_type": "display_data",
                "metadata": {
                  "tags": []
                },
                "text/html": "\n        <iframe\n            width=\"854\"\n            height=\"480\"\n            src=\"https://player.bilibili.com/player.html?bvid=BV1ov411B7Pm&page=1?fs=1\"\n            frameborder=\"0\"\n            allowfullscreen\n        ></iframe>\n        ",
                "text/plain": "<__main__.BiliVideo at 0x7fe3b14f3350>"
              }
            ],
            "_view_module": "@jupyter-widgets/output",
            "_model_module_version": "1.0.0",
            "_view_count": null,
            "_view_module_version": "1.0.0",
            "layout": "IPY_MODEL_56d113e1316c47ff923d53b320d78db0",
            "_model_module": "@jupyter-widgets/output"
          }
        },
        "77a5231df8b24a66b6307511bd0caf9f": {
          "model_module": "@jupyter-widgets/base",
          "model_name": "LayoutModel",
          "state": {
            "_view_name": "LayoutView",
            "grid_template_rows": null,
            "right": null,
            "justify_content": null,
            "_view_module": "@jupyter-widgets/base",
            "overflow": null,
            "_model_module_version": "1.2.0",
            "_view_count": null,
            "flex_flow": null,
            "width": null,
            "min_width": null,
            "border": null,
            "align_items": null,
            "bottom": null,
            "_model_module": "@jupyter-widgets/base",
            "top": null,
            "grid_column": null,
            "overflow_y": null,
            "overflow_x": null,
            "grid_auto_flow": null,
            "grid_area": null,
            "grid_template_columns": null,
            "flex": null,
            "_model_name": "LayoutModel",
            "justify_items": null,
            "grid_row": null,
            "max_height": null,
            "align_content": null,
            "visibility": null,
            "align_self": null,
            "height": null,
            "min_height": null,
            "padding": null,
            "grid_auto_rows": null,
            "grid_gap": null,
            "max_width": null,
            "order": null,
            "_view_module_version": "1.2.0",
            "grid_template_areas": null,
            "object_position": null,
            "object_fit": null,
            "grid_auto_columns": null,
            "margin": null,
            "display": null,
            "left": null
          }
        },
        "56d113e1316c47ff923d53b320d78db0": {
          "model_module": "@jupyter-widgets/base",
          "model_name": "LayoutModel",
          "state": {
            "_view_name": "LayoutView",
            "grid_template_rows": null,
            "right": null,
            "justify_content": null,
            "_view_module": "@jupyter-widgets/base",
            "overflow": null,
            "_model_module_version": "1.2.0",
            "_view_count": null,
            "flex_flow": null,
            "width": null,
            "min_width": null,
            "border": null,
            "align_items": null,
            "bottom": null,
            "_model_module": "@jupyter-widgets/base",
            "top": null,
            "grid_column": null,
            "overflow_y": null,
            "overflow_x": null,
            "grid_auto_flow": null,
            "grid_area": null,
            "grid_template_columns": null,
            "flex": null,
            "_model_name": "LayoutModel",
            "justify_items": null,
            "grid_row": null,
            "max_height": null,
            "align_content": null,
            "visibility": null,
            "align_self": null,
            "height": null,
            "min_height": null,
            "padding": null,
            "grid_auto_rows": null,
            "grid_gap": null,
            "max_width": null,
            "order": null,
            "_view_module_version": "1.2.0",
            "grid_template_areas": null,
            "object_position": null,
            "object_fit": null,
            "grid_auto_columns": null,
            "margin": null,
            "display": null,
            "left": null
          }
        },
        "bc3fc9d58dc642b9bcb8096b30517460": {
          "model_module": "@jupyter-widgets/controls",
          "model_name": "VBoxModel",
          "state": {
            "_view_name": "VBoxView",
            "_dom_classes": [
              "widget-interact"
            ],
            "_model_name": "VBoxModel",
            "_view_module": "@jupyter-widgets/controls",
            "_model_module_version": "1.5.0",
            "_view_count": null,
            "_view_module_version": "1.5.0",
            "box_style": "",
            "layout": "IPY_MODEL_8430aee98a0948b3af82145cfeb7df50",
            "_model_module": "@jupyter-widgets/controls",
            "children": [
              "IPY_MODEL_b2f773b011944d2bb1ce38b639d8b361",
              "IPY_MODEL_bb1c8790ae1947348a6d8bbc6dc2790e",
              "IPY_MODEL_c12203005828489e824a901a5308e234",
              "IPY_MODEL_571ad81ce8bf4d4db268c27c7701a58d",
              "IPY_MODEL_acfd0d58dd05473aa2c0cf96ba5af68b",
              "IPY_MODEL_1bd72fb5f7854cd1be0159f7c5201d75",
              "IPY_MODEL_053a58af8cdc44ef8ce58bd2391dc098",
              "IPY_MODEL_614e19c848254ecb98ea65d4709cef2b"
            ]
          }
        },
        "8430aee98a0948b3af82145cfeb7df50": {
          "model_module": "@jupyter-widgets/base",
          "model_name": "LayoutModel",
          "state": {
            "_view_name": "LayoutView",
            "grid_template_rows": null,
            "right": null,
            "justify_content": null,
            "_view_module": "@jupyter-widgets/base",
            "overflow": null,
            "_model_module_version": "1.2.0",
            "_view_count": null,
            "flex_flow": null,
            "width": null,
            "min_width": null,
            "border": null,
            "align_items": null,
            "bottom": null,
            "_model_module": "@jupyter-widgets/base",
            "top": null,
            "grid_column": null,
            "overflow_y": null,
            "overflow_x": null,
            "grid_auto_flow": null,
            "grid_area": null,
            "grid_template_columns": null,
            "flex": null,
            "_model_name": "LayoutModel",
            "justify_items": null,
            "grid_row": null,
            "max_height": null,
            "align_content": null,
            "visibility": null,
            "align_self": null,
            "height": null,
            "min_height": null,
            "padding": null,
            "grid_auto_rows": null,
            "grid_gap": null,
            "max_width": null,
            "order": null,
            "_view_module_version": "1.2.0",
            "grid_template_areas": null,
            "object_position": null,
            "object_fit": null,
            "grid_auto_columns": null,
            "margin": null,
            "display": null,
            "left": null
          }
        },
        "b2f773b011944d2bb1ce38b639d8b361": {
          "model_module": "@jupyter-widgets/controls",
          "model_name": "FloatSliderModel",
          "state": {
            "_view_name": "FloatSliderView",
            "style": "IPY_MODEL_5b14e71919da40c690a827e89336cc3b",
            "_dom_classes": [],
            "description": "exp_scale",
            "step": 250,
            "_model_name": "FloatSliderModel",
            "orientation": "horizontal",
            "max": 20000,
            "_view_module": "@jupyter-widgets/controls",
            "_model_module_version": "1.5.0",
            "value": 12500,
            "_view_count": null,
            "disabled": false,
            "_view_module_version": "1.5.0",
            "min": 0,
            "continuous_update": true,
            "readout_format": ".2f",
            "description_tooltip": null,
            "readout": true,
            "_model_module": "@jupyter-widgets/controls",
            "layout": "IPY_MODEL_397587aa83ff42fda75a946ce12c4232"
          }
        },
        "bb1c8790ae1947348a6d8bbc6dc2790e": {
          "model_module": "@jupyter-widgets/controls",
          "model_name": "FloatSliderModel",
          "state": {
            "_view_name": "FloatSliderView",
            "style": "IPY_MODEL_a554fcc1a9d24f61a2e961b88fc1b99f",
            "_dom_classes": [],
            "description": "exp_rate",
            "step": 1,
            "_model_name": "FloatSliderModel",
            "orientation": "horizontal",
            "max": 50,
            "_view_module": "@jupyter-widgets/controls",
            "_model_module_version": "1.5.0",
            "value": -108,
            "_view_count": null,
            "disabled": false,
            "_view_module_version": "1.5.0",
            "min": -200,
            "continuous_update": true,
            "readout_format": ".2f",
            "description_tooltip": null,
            "readout": true,
            "_model_module": "@jupyter-widgets/controls",
            "layout": "IPY_MODEL_89998efdb9e64915aaecbf3dba70b9d4"
          }
        },
        "c12203005828489e824a901a5308e234": {
          "model_module": "@jupyter-widgets/controls",
          "model_name": "FloatSliderModel",
          "state": {
            "_view_name": "FloatSliderView",
            "style": "IPY_MODEL_54fede0765434f1795868989f3bef579",
            "_dom_classes": [],
            "description": "exp_x0",
            "step": 0.005,
            "_model_name": "FloatSliderModel",
            "orientation": "horizontal",
            "max": 0.5,
            "_view_module": "@jupyter-widgets/controls",
            "_model_module_version": "1.5.0",
            "value": -0.315,
            "_view_count": null,
            "disabled": false,
            "_view_module_version": "1.5.0",
            "min": -0.5,
            "continuous_update": true,
            "readout_format": ".2f",
            "description_tooltip": null,
            "readout": true,
            "_model_module": "@jupyter-widgets/controls",
            "layout": "IPY_MODEL_3f77bd03daca4d94ae783609c317bf72"
          }
        },
        "571ad81ce8bf4d4db268c27c7701a58d": {
          "model_module": "@jupyter-widgets/controls",
          "model_name": "FloatSliderModel",
          "state": {
            "_view_name": "FloatSliderView",
            "style": "IPY_MODEL_e15093bb198f404f831e642b355b312b",
            "_dom_classes": [],
            "description": "inv_scale",
            "step": 10,
            "_model_name": "FloatSliderModel",
            "orientation": "horizontal",
            "max": 300,
            "_view_module": "@jupyter-widgets/controls",
            "_model_module_version": "1.5.0",
            "value": 130,
            "_view_count": null,
            "disabled": false,
            "_view_module_version": "1.5.0",
            "min": 0,
            "continuous_update": true,
            "readout_format": ".2f",
            "description_tooltip": null,
            "readout": true,
            "_model_module": "@jupyter-widgets/controls",
            "layout": "IPY_MODEL_6e91c6b54afc44ba9542e4c5d757b538"
          }
        },
        "acfd0d58dd05473aa2c0cf96ba5af68b": {
          "model_module": "@jupyter-widgets/controls",
          "model_name": "FloatSliderModel",
          "state": {
            "_view_name": "FloatSliderView",
            "style": "IPY_MODEL_381634e4a57a4a319918f88ff41ee2f1",
            "_dom_classes": [],
            "description": "inv_x0",
            "step": 0.01,
            "_model_name": "FloatSliderModel",
            "orientation": "horizontal",
            "max": 0.2,
            "_view_module": "@jupyter-widgets/controls",
            "_model_module_version": "1.5.0",
            "value": 0,
            "_view_count": null,
            "disabled": false,
            "_view_module_version": "1.5.0",
            "min": -0.2,
            "continuous_update": true,
            "readout_format": ".2f",
            "description_tooltip": null,
            "readout": true,
            "_model_module": "@jupyter-widgets/controls",
            "layout": "IPY_MODEL_5b6fa3e68e824d998d1fff3d8c2f2fbe"
          }
        },
        "1bd72fb5f7854cd1be0159f7c5201d75": {
          "model_module": "@jupyter-widgets/controls",
          "model_name": "FloatSliderModel",
          "state": {
            "_view_name": "FloatSliderView",
            "style": "IPY_MODEL_e79c0ed29b1f4046b371c8941322091b",
            "_dom_classes": [],
            "description": "lin_slope",
            "step": 10000,
            "_model_name": "FloatSliderModel",
            "orientation": "horizontal",
            "max": 100000,
            "_view_module": "@jupyter-widgets/controls",
            "_model_module_version": "1.5.0",
            "value": -100000,
            "_view_count": null,
            "disabled": false,
            "_view_module_version": "1.5.0",
            "min": -600000,
            "continuous_update": true,
            "readout_format": ".2f",
            "description_tooltip": null,
            "readout": true,
            "_model_module": "@jupyter-widgets/controls",
            "layout": "IPY_MODEL_ea36111464d44544b106fe35facb31df"
          }
        },
        "053a58af8cdc44ef8ce58bd2391dc098": {
          "model_module": "@jupyter-widgets/controls",
          "model_name": "FloatSliderModel",
          "state": {
            "_view_name": "FloatSliderView",
            "style": "IPY_MODEL_8c2eb8a40067416eb6e2516072154137",
            "_dom_classes": [],
            "description": "lin_y0",
            "step": 1000,
            "_model_name": "FloatSliderModel",
            "orientation": "horizontal",
            "max": 40000,
            "_view_module": "@jupyter-widgets/controls",
            "_model_module_version": "1.5.0",
            "value": 10000,
            "_view_count": null,
            "disabled": false,
            "_view_module_version": "1.5.0",
            "min": 0,
            "continuous_update": true,
            "readout_format": ".2f",
            "description_tooltip": null,
            "readout": true,
            "_model_module": "@jupyter-widgets/controls",
            "layout": "IPY_MODEL_c87e762bb6a3473ab32458da3790d8a8"
          }
        },
        "614e19c848254ecb98ea65d4709cef2b": {
          "model_module": "@jupyter-widgets/output",
          "model_name": "OutputModel",
          "state": {
            "_view_name": "OutputView",
            "msg_id": "",
            "_dom_classes": [],
            "_model_name": "OutputModel",
            "outputs": [
              {
                "output_type": "display_data",
                "metadata": {
                  "tags": [],
                  "image/png": {
                    "width": 558,
                    "height": 413
                  },
                  "needs_background": "light"
                },
                "image/png": "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\n",
                "text/plain": "<Figure size 576x432 with 1 Axes>"
              }
            ],
            "_view_module": "@jupyter-widgets/output",
            "_model_module_version": "1.0.0",
            "_view_count": null,
            "_view_module_version": "1.0.0",
            "layout": "IPY_MODEL_8207e635257549d8ac3f07afee63ba4a",
            "_model_module": "@jupyter-widgets/output"
          }
        },
        "5b14e71919da40c690a827e89336cc3b": {
          "model_module": "@jupyter-widgets/controls",
          "model_name": "SliderStyleModel",
          "state": {
            "_view_name": "StyleView",
            "handle_color": null,
            "_model_name": "SliderStyleModel",
            "description_width": "",
            "_view_module": "@jupyter-widgets/base",
            "_model_module_version": "1.5.0",
            "_view_count": null,
            "_view_module_version": "1.2.0",
            "_model_module": "@jupyter-widgets/controls"
          }
        },
        "397587aa83ff42fda75a946ce12c4232": {
          "model_module": "@jupyter-widgets/base",
          "model_name": "LayoutModel",
          "state": {
            "_view_name": "LayoutView",
            "grid_template_rows": null,
            "right": null,
            "justify_content": null,
            "_view_module": "@jupyter-widgets/base",
            "overflow": null,
            "_model_module_version": "1.2.0",
            "_view_count": null,
            "flex_flow": null,
            "width": null,
            "min_width": null,
            "border": null,
            "align_items": null,
            "bottom": null,
            "_model_module": "@jupyter-widgets/base",
            "top": null,
            "grid_column": null,
            "overflow_y": null,
            "overflow_x": null,
            "grid_auto_flow": null,
            "grid_area": null,
            "grid_template_columns": null,
            "flex": null,
            "_model_name": "LayoutModel",
            "justify_items": null,
            "grid_row": null,
            "max_height": null,
            "align_content": null,
            "visibility": null,
            "align_self": null,
            "height": null,
            "min_height": null,
            "padding": null,
            "grid_auto_rows": null,
            "grid_gap": null,
            "max_width": null,
            "order": null,
            "_view_module_version": "1.2.0",
            "grid_template_areas": null,
            "object_position": null,
            "object_fit": null,
            "grid_auto_columns": null,
            "margin": null,
            "display": null,
            "left": null
          }
        },
        "a554fcc1a9d24f61a2e961b88fc1b99f": {
          "model_module": "@jupyter-widgets/controls",
          "model_name": "SliderStyleModel",
          "state": {
            "_view_name": "StyleView",
            "handle_color": null,
            "_model_name": "SliderStyleModel",
            "description_width": "",
            "_view_module": "@jupyter-widgets/base",
            "_model_module_version": "1.5.0",
            "_view_count": null,
            "_view_module_version": "1.2.0",
            "_model_module": "@jupyter-widgets/controls"
          }
        },
        "89998efdb9e64915aaecbf3dba70b9d4": {
          "model_module": "@jupyter-widgets/base",
          "model_name": "LayoutModel",
          "state": {
            "_view_name": "LayoutView",
            "grid_template_rows": null,
            "right": null,
            "justify_content": null,
            "_view_module": "@jupyter-widgets/base",
            "overflow": null,
            "_model_module_version": "1.2.0",
            "_view_count": null,
            "flex_flow": null,
            "width": null,
            "min_width": null,
            "border": null,
            "align_items": null,
            "bottom": null,
            "_model_module": "@jupyter-widgets/base",
            "top": null,
            "grid_column": null,
            "overflow_y": null,
            "overflow_x": null,
            "grid_auto_flow": null,
            "grid_area": null,
            "grid_template_columns": null,
            "flex": null,
            "_model_name": "LayoutModel",
            "justify_items": null,
            "grid_row": null,
            "max_height": null,
            "align_content": null,
            "visibility": null,
            "align_self": null,
            "height": null,
            "min_height": null,
            "padding": null,
            "grid_auto_rows": null,
            "grid_gap": null,
            "max_width": null,
            "order": null,
            "_view_module_version": "1.2.0",
            "grid_template_areas": null,
            "object_position": null,
            "object_fit": null,
            "grid_auto_columns": null,
            "margin": null,
            "display": null,
            "left": null
          }
        },
        "54fede0765434f1795868989f3bef579": {
          "model_module": "@jupyter-widgets/controls",
          "model_name": "SliderStyleModel",
          "state": {
            "_view_name": "StyleView",
            "handle_color": null,
            "_model_name": "SliderStyleModel",
            "description_width": "",
            "_view_module": "@jupyter-widgets/base",
            "_model_module_version": "1.5.0",
            "_view_count": null,
            "_view_module_version": "1.2.0",
            "_model_module": "@jupyter-widgets/controls"
          }
        },
        "3f77bd03daca4d94ae783609c317bf72": {
          "model_module": "@jupyter-widgets/base",
          "model_name": "LayoutModel",
          "state": {
            "_view_name": "LayoutView",
            "grid_template_rows": null,
            "right": null,
            "justify_content": null,
            "_view_module": "@jupyter-widgets/base",
            "overflow": null,
            "_model_module_version": "1.2.0",
            "_view_count": null,
            "flex_flow": null,
            "width": null,
            "min_width": null,
            "border": null,
            "align_items": null,
            "bottom": null,
            "_model_module": "@jupyter-widgets/base",
            "top": null,
            "grid_column": null,
            "overflow_y": null,
            "overflow_x": null,
            "grid_auto_flow": null,
            "grid_area": null,
            "grid_template_columns": null,
            "flex": null,
            "_model_name": "LayoutModel",
            "justify_items": null,
            "grid_row": null,
            "max_height": null,
            "align_content": null,
            "visibility": null,
            "align_self": null,
            "height": null,
            "min_height": null,
            "padding": null,
            "grid_auto_rows": null,
            "grid_gap": null,
            "max_width": null,
            "order": null,
            "_view_module_version": "1.2.0",
            "grid_template_areas": null,
            "object_position": null,
            "object_fit": null,
            "grid_auto_columns": null,
            "margin": null,
            "display": null,
            "left": null
          }
        },
        "e15093bb198f404f831e642b355b312b": {
          "model_module": "@jupyter-widgets/controls",
          "model_name": "SliderStyleModel",
          "state": {
            "_view_name": "StyleView",
            "handle_color": null,
            "_model_name": "SliderStyleModel",
            "description_width": "",
            "_view_module": "@jupyter-widgets/base",
            "_model_module_version": "1.5.0",
            "_view_count": null,
            "_view_module_version": "1.2.0",
            "_model_module": "@jupyter-widgets/controls"
          }
        },
        "6e91c6b54afc44ba9542e4c5d757b538": {
          "model_module": "@jupyter-widgets/base",
          "model_name": "LayoutModel",
          "state": {
            "_view_name": "LayoutView",
            "grid_template_rows": null,
            "right": null,
            "justify_content": null,
            "_view_module": "@jupyter-widgets/base",
            "overflow": null,
            "_model_module_version": "1.2.0",
            "_view_count": null,
            "flex_flow": null,
            "width": null,
            "min_width": null,
            "border": null,
            "align_items": null,
            "bottom": null,
            "_model_module": "@jupyter-widgets/base",
            "top": null,
            "grid_column": null,
            "overflow_y": null,
            "overflow_x": null,
            "grid_auto_flow": null,
            "grid_area": null,
            "grid_template_columns": null,
            "flex": null,
            "_model_name": "LayoutModel",
            "justify_items": null,
            "grid_row": null,
            "max_height": null,
            "align_content": null,
            "visibility": null,
            "align_self": null,
            "height": null,
            "min_height": null,
            "padding": null,
            "grid_auto_rows": null,
            "grid_gap": null,
            "max_width": null,
            "order": null,
            "_view_module_version": "1.2.0",
            "grid_template_areas": null,
            "object_position": null,
            "object_fit": null,
            "grid_auto_columns": null,
            "margin": null,
            "display": null,
            "left": null
          }
        },
        "381634e4a57a4a319918f88ff41ee2f1": {
          "model_module": "@jupyter-widgets/controls",
          "model_name": "SliderStyleModel",
          "state": {
            "_view_name": "StyleView",
            "handle_color": null,
            "_model_name": "SliderStyleModel",
            "description_width": "",
            "_view_module": "@jupyter-widgets/base",
            "_model_module_version": "1.5.0",
            "_view_count": null,
            "_view_module_version": "1.2.0",
            "_model_module": "@jupyter-widgets/controls"
          }
        },
        "5b6fa3e68e824d998d1fff3d8c2f2fbe": {
          "model_module": "@jupyter-widgets/base",
          "model_name": "LayoutModel",
          "state": {
            "_view_name": "LayoutView",
            "grid_template_rows": null,
            "right": null,
            "justify_content": null,
            "_view_module": "@jupyter-widgets/base",
            "overflow": null,
            "_model_module_version": "1.2.0",
            "_view_count": null,
            "flex_flow": null,
            "width": null,
            "min_width": null,
            "border": null,
            "align_items": null,
            "bottom": null,
            "_model_module": "@jupyter-widgets/base",
            "top": null,
            "grid_column": null,
            "overflow_y": null,
            "overflow_x": null,
            "grid_auto_flow": null,
            "grid_area": null,
            "grid_template_columns": null,
            "flex": null,
            "_model_name": "LayoutModel",
            "justify_items": null,
            "grid_row": null,
            "max_height": null,
            "align_content": null,
            "visibility": null,
            "align_self": null,
            "height": null,
            "min_height": null,
            "padding": null,
            "grid_auto_rows": null,
            "grid_gap": null,
            "max_width": null,
            "order": null,
            "_view_module_version": "1.2.0",
            "grid_template_areas": null,
            "object_position": null,
            "object_fit": null,
            "grid_auto_columns": null,
            "margin": null,
            "display": null,
            "left": null
          }
        },
        "e79c0ed29b1f4046b371c8941322091b": {
          "model_module": "@jupyter-widgets/controls",
          "model_name": "SliderStyleModel",
          "state": {
            "_view_name": "StyleView",
            "handle_color": null,
            "_model_name": "SliderStyleModel",
            "description_width": "",
            "_view_module": "@jupyter-widgets/base",
            "_model_module_version": "1.5.0",
            "_view_count": null,
            "_view_module_version": "1.2.0",
            "_model_module": "@jupyter-widgets/controls"
          }
        },
        "ea36111464d44544b106fe35facb31df": {
          "model_module": "@jupyter-widgets/base",
          "model_name": "LayoutModel",
          "state": {
            "_view_name": "LayoutView",
            "grid_template_rows": null,
            "right": null,
            "justify_content": null,
            "_view_module": "@jupyter-widgets/base",
            "overflow": null,
            "_model_module_version": "1.2.0",
            "_view_count": null,
            "flex_flow": null,
            "width": null,
            "min_width": null,
            "border": null,
            "align_items": null,
            "bottom": null,
            "_model_module": "@jupyter-widgets/base",
            "top": null,
            "grid_column": null,
            "overflow_y": null,
            "overflow_x": null,
            "grid_auto_flow": null,
            "grid_area": null,
            "grid_template_columns": null,
            "flex": null,
            "_model_name": "LayoutModel",
            "justify_items": null,
            "grid_row": null,
            "max_height": null,
            "align_content": null,
            "visibility": null,
            "align_self": null,
            "height": null,
            "min_height": null,
            "padding": null,
            "grid_auto_rows": null,
            "grid_gap": null,
            "max_width": null,
            "order": null,
            "_view_module_version": "1.2.0",
            "grid_template_areas": null,
            "object_position": null,
            "object_fit": null,
            "grid_auto_columns": null,
            "margin": null,
            "display": null,
            "left": null
          }
        },
        "8c2eb8a40067416eb6e2516072154137": {
          "model_module": "@jupyter-widgets/controls",
          "model_name": "SliderStyleModel",
          "state": {
            "_view_name": "StyleView",
            "handle_color": null,
            "_model_name": "SliderStyleModel",
            "description_width": "",
            "_view_module": "@jupyter-widgets/base",
            "_model_module_version": "1.5.0",
            "_view_count": null,
            "_view_module_version": "1.2.0",
            "_model_module": "@jupyter-widgets/controls"
          }
        },
        "c87e762bb6a3473ab32458da3790d8a8": {
          "model_module": "@jupyter-widgets/base",
          "model_name": "LayoutModel",
          "state": {
            "_view_name": "LayoutView",
            "grid_template_rows": null,
            "right": null,
            "justify_content": null,
            "_view_module": "@jupyter-widgets/base",
            "overflow": null,
            "_model_module_version": "1.2.0",
            "_view_count": null,
            "flex_flow": null,
            "width": null,
            "min_width": null,
            "border": null,
            "align_items": null,
            "bottom": null,
            "_model_module": "@jupyter-widgets/base",
            "top": null,
            "grid_column": null,
            "overflow_y": null,
            "overflow_x": null,
            "grid_auto_flow": null,
            "grid_area": null,
            "grid_template_columns": null,
            "flex": null,
            "_model_name": "LayoutModel",
            "justify_items": null,
            "grid_row": null,
            "max_height": null,
            "align_content": null,
            "visibility": null,
            "align_self": null,
            "height": null,
            "min_height": null,
            "padding": null,
            "grid_auto_rows": null,
            "grid_gap": null,
            "max_width": null,
            "order": null,
            "_view_module_version": "1.2.0",
            "grid_template_areas": null,
            "object_position": null,
            "object_fit": null,
            "grid_auto_columns": null,
            "margin": null,
            "display": null,
            "left": null
          }
        },
        "8207e635257549d8ac3f07afee63ba4a": {
          "model_module": "@jupyter-widgets/base",
          "model_name": "LayoutModel",
          "state": {
            "_view_name": "LayoutView",
            "grid_template_rows": null,
            "right": null,
            "justify_content": null,
            "_view_module": "@jupyter-widgets/base",
            "overflow": null,
            "_model_module_version": "1.2.0",
            "_view_count": null,
            "flex_flow": null,
            "width": null,
            "min_width": null,
            "border": null,
            "align_items": null,
            "bottom": null,
            "_model_module": "@jupyter-widgets/base",
            "top": null,
            "grid_column": null,
            "overflow_y": null,
            "overflow_x": null,
            "grid_auto_flow": null,
            "grid_area": null,
            "grid_template_columns": null,
            "flex": null,
            "_model_name": "LayoutModel",
            "justify_items": null,
            "grid_row": null,
            "max_height": null,
            "align_content": null,
            "visibility": null,
            "align_self": null,
            "height": null,
            "min_height": null,
            "padding": null,
            "grid_auto_rows": null,
            "grid_gap": null,
            "max_width": null,
            "order": null,
            "_view_module_version": "1.2.0",
            "grid_template_areas": null,
            "object_position": null,
            "object_fit": null,
            "grid_auto_columns": null,
            "margin": null,
            "display": null,
            "left": null
          }
        }
      }
    }
  },
  "cells": [
    {
      "cell_type": "markdown",
      "metadata": {
        "id": "view-in-github",
        "colab_type": "text"
      },
      "source": [
        "<a href=\"https://colab.research.google.com/github/drewwint/neuromatch-2021/blob/main/tutorials/W1D1_ModelTypes/student/W1D1_Tutorial1.ipynb\" target=\"_parent\"><img src=\"https://colab.research.google.com/assets/colab-badge.svg\" alt=\"Open In Colab\"/></a>"
      ]
    },
    {
      "cell_type": "markdown",
      "metadata": {
        "id": "yPOQRopt41i9"
      },
      "source": [
        "# Tutorial 1: \"What\" models\n",
        "**Week 1, Day 1: Model Types**\n",
        "\n",
        "**By Neuromatch Academy**\n",
        "\n",
        "__Content creators:__ Matt Laporte, Byron Galbraith, Konrad Kording\n",
        "\n",
        "__Content reviewers:__ Dalin Guo, Aishwarya Balwani, Madineh Sarvestani, Maryam Vaziri-Pashkam, Michael Waskom, Ella Batty\n",
        "\n",
        "We would like to acknowledge [Steinmetz _et al._ (2019)](https://www.nature.com/articles/s41586-019-1787-x) for sharing their data, a subset of which is used here.\n"
      ]
    },
    {
      "cell_type": "markdown",
      "metadata": {
        "id": "zSbTz-fk41jA"
      },
      "source": [
        "___\n",
        "# Tutorial Objectives\n",
        "\n",
        "*Estimated timing of tutorial: 50 minutes*\n",
        "\n",
        "This is tutorial 1 of a 3-part series on different flavors of models used to understand neural data. In this tutorial we will explore 'What' models, used to describe the data. To understand what our data looks like, we will visualize it in different ways. Then we will compare it to simple mathematical models. Specifically, we will:\n",
        "\n",
        "- Load a dataset with spiking activity from hundreds of neurons and understand how it is organized\n",
        "- Make plots to visualize characteristics of the spiking activity across the population\n",
        "- Compute the distribution of \"inter-spike intervals\" (ISIs) for a single neuron\n",
        "- Consider several formal models of this distribution's shape and fit them to the data \"by hand\""
      ]
    },
    {
      "cell_type": "code",
      "metadata": {
        "cellView": "form",
        "execution": {
          "iopub.execute_input": "2021-07-03T17:54:16.068512Z",
          "iopub.status.busy": "2021-07-03T17:54:16.067851Z",
          "iopub.status.idle": "2021-07-03T17:54:16.078805Z",
          "shell.execute_reply": "2021-07-03T17:54:16.079308Z"
        },
        "id": "WUNO7q5v41jC",
        "outputId": "010e77c4-3cd8-493a-be1d-4de5872560f7",
        "colab": {
          "base_uri": "https://localhost:8080/",
          "height": 501
        }
      },
      "source": [
        "# @title Tutorial slides\n",
        "\n",
        "# @markdown These are the slides for the videos in all tutorials today\n",
        "from IPython.display import IFrame\n",
        "IFrame(src=f\"https://mfr.ca-1.osf.io/render?url=https://osf.io/6dxwe/?direct%26mode=render%26action=download%26mode=render\", width=854, height=480)"
      ],
      "execution_count": 1,
      "outputs": [
        {
          "output_type": "execute_result",
          "data": {
            "text/html": [
              "\n",
              "        <iframe\n",
              "            width=\"854\"\n",
              "            height=\"480\"\n",
              "            src=\"https://mfr.ca-1.osf.io/render?url=https://osf.io/6dxwe/?direct%26mode=render%26action=download%26mode=render\"\n",
              "            frameborder=\"0\"\n",
              "            allowfullscreen\n",
              "        ></iframe>\n",
              "        "
            ],
            "text/plain": [
              "<IPython.lib.display.IFrame at 0x7fe3c3a5efd0>"
            ]
          },
          "metadata": {
            "tags": []
          },
          "execution_count": 1
        }
      ]
    },
    {
      "cell_type": "code",
      "metadata": {
        "cellView": "form",
        "execution": {
          "iopub.execute_input": "2021-07-03T17:54:16.087459Z",
          "iopub.status.busy": "2021-07-03T17:54:16.086818Z",
          "iopub.status.idle": "2021-07-03T17:54:16.200795Z",
          "shell.execute_reply": "2021-07-03T17:54:16.198330Z"
        },
        "id": "L-h6Zji941jE",
        "outputId": "a0cdd8c2-bebf-4ed6-fc88-17679f8ab1e5",
        "colab": {
          "base_uri": "https://localhost:8080/",
          "height": 581,
          "referenced_widgets": [
            "6d0137bf4d3d4448ae8f954cd2b98f61",
            "10a5739270754fb79a84b7cbc706d82e",
            "3e3d3c7d15bf445e99e003f39361b7ce",
            "b86ec34b846548aeb444559b084bb2a0",
            "021745d3ca7b48d5a2c9db6a17770272",
            "be5448eb74384fa98c2a2bcd6d4e0b72"
          ]
        }
      },
      "source": [
        "# @title Video 1: \"What\" Models\n",
        "from ipywidgets import widgets\n",
        "\n",
        "out2 = widgets.Output()\n",
        "with out2:\n",
        "  from IPython.display import IFrame\n",
        "  class BiliVideo(IFrame):\n",
        "      def __init__(self, id, page=1, width=400, height=300, **kwargs):\n",
        "          self.id=id\n",
        "          src = 'https://player.bilibili.com/player.html?bvid={0}&page={1}'.format(id, page)\n",
        "          super(BiliVideo, self).__init__(src, width, height, **kwargs)\n",
        "\n",
        "  video = BiliVideo(id=\"BV1mz4y1X7ot\", width=854, height=480, fs=1)\n",
        "  print('Video available at https://www.bilibili.com/video/{0}'.format(video.id))\n",
        "  display(video)\n",
        "\n",
        "out1 = widgets.Output()\n",
        "with out1:\n",
        "  from IPython.display import YouTubeVideo\n",
        "  video = YouTubeVideo(id=\"KgqR_jbjMQg\", width=854, height=480, fs=1, rel=0)\n",
        "  print('Video available at https://youtube.com/watch?v=' + video.id)\n",
        "  display(video)\n",
        "\n",
        "out = widgets.Tab([out1, out2])\n",
        "out.set_title(0, 'Youtube')\n",
        "out.set_title(1, 'Bilibili')\n",
        "\n",
        "display(out)"
      ],
      "execution_count": 2,
      "outputs": [
        {
          "output_type": "display_data",
          "data": {
            "application/vnd.jupyter.widget-view+json": {
              "model_id": "6d0137bf4d3d4448ae8f954cd2b98f61",
              "version_minor": 0,
              "version_major": 2
            },
            "text/plain": [
              "Tab(children=(Output(), Output()), _titles={'0': 'Youtube', '1': 'Bilibili'})"
            ]
          },
          "metadata": {
            "tags": []
          }
        }
      ]
    },
    {
      "cell_type": "markdown",
      "metadata": {
        "id": "a0Jmla8m41jF"
      },
      "source": [
        "# Setup\n",
        "\n"
      ]
    },
    {
      "cell_type": "markdown",
      "metadata": {
        "id": "Xf6RYcNa41jH"
      },
      "source": [
        "Python requires you to explictly \"import\" libraries before their functions are available to use. We will always specify our imports at the beginning of each notebook or script."
      ]
    },
    {
      "cell_type": "code",
      "metadata": {
        "execution": {
          "iopub.execute_input": "2021-07-03T17:54:16.207642Z",
          "iopub.status.busy": "2021-07-03T17:54:16.207031Z",
          "iopub.status.idle": "2021-07-03T17:54:18.019171Z",
          "shell.execute_reply": "2021-07-03T17:54:18.018238Z"
        },
        "pycharm": {
          "name": "#%%\n"
        },
        "id": "5dc2Kf1i41jH"
      },
      "source": [
        "import numpy as np\n",
        "import matplotlib.pyplot as plt"
      ],
      "execution_count": 3,
      "outputs": []
    },
    {
      "cell_type": "markdown",
      "metadata": {
        "id": "tECVkcCc41jI"
      },
      "source": [
        "Tutorial notebooks typically begin with several set-up steps that are hidden from view by default.\n",
        "\n",
        "**Important:** Even though the code is hidden, you still need to run it so that the rest of the notebook can work properly. Step through each cell, either by pressing the play button in the upper-left-hand corner or with a keyboard shortcut (`Cmd-Return` on a Mac, `Ctrl-Enter` otherwise). A number will appear inside the brackets (e.g. `[3]`) to tell you that the cell was executed and what order that happened in.\n",
        "\n",
        "If you are curious to see what is going on inside each cell, you can double click to expand. Once expanded, double-click the white space to the right of the editor to collapse again."
      ]
    },
    {
      "cell_type": "code",
      "metadata": {
        "cellView": "form",
        "execution": {
          "iopub.execute_input": "2021-07-03T17:54:18.035304Z",
          "iopub.status.busy": "2021-07-03T17:54:18.031341Z",
          "iopub.status.idle": "2021-07-03T17:54:18.199819Z",
          "shell.execute_reply": "2021-07-03T17:54:18.200358Z"
        },
        "pycharm": {
          "name": "#%%\n"
        },
        "id": "bmJqZYnP41jL"
      },
      "source": [
        "# @title Figure Settings\n",
        "import ipywidgets as widgets #interactive display\n",
        "\n",
        "%matplotlib inline\n",
        "%config InlineBackend.figure_format = 'retina'\n",
        "plt.style.use(\"https://raw.githubusercontent.com/NeuromatchAcademy/course-content/master/nma.mplstyle\")"
      ],
      "execution_count": 4,
      "outputs": []
    },
    {
      "cell_type": "code",
      "metadata": {
        "cellView": "form",
        "execution": {
          "iopub.execute_input": "2021-07-03T17:54:18.206360Z",
          "iopub.status.busy": "2021-07-03T17:54:18.202786Z",
          "iopub.status.idle": "2021-07-03T17:54:18.209079Z",
          "shell.execute_reply": "2021-07-03T17:54:18.209943Z"
        },
        "id": "rwhnWrz941jL"
      },
      "source": [
        "# @title Plotting functions\n",
        "\n",
        "def plot_isis(single_neuron_isis):\n",
        "  plt.hist(single_neuron_isis, bins=50, histtype=\"stepfilled\")\n",
        "  plt.axvline(single_neuron_isis.mean(), color=\"orange\", label=\"Mean ISI\")\n",
        "  plt.xlabel(\"ISI duration (s)\")\n",
        "  plt.ylabel(\"Number of spikes\")\n",
        "  plt.legend()"
      ],
      "execution_count": 5,
      "outputs": []
    },
    {
      "cell_type": "code",
      "metadata": {
        "cellView": "form",
        "execution": {
          "iopub.execute_input": "2021-07-03T17:54:18.216099Z",
          "iopub.status.busy": "2021-07-03T17:54:18.215112Z",
          "iopub.status.idle": "2021-07-03T17:54:20.671000Z",
          "shell.execute_reply": "2021-07-03T17:54:20.671442Z"
        },
        "pycharm": {
          "name": "#%%\n"
        },
        "id": "DMXlUUr441jO"
      },
      "source": [
        "#@title Data retrieval\n",
        "#@markdown This cell downloads the example dataset that we will use in this tutorial.\n",
        "import io\n",
        "import requests\n",
        "r = requests.get('https://osf.io/sy5xt/download')\n",
        "if r.status_code != 200:\n",
        "  print('Failed to download data')\n",
        "else:\n",
        "  spike_times = np.load(io.BytesIO(r.content), allow_pickle=True)['spike_times']"
      ],
      "execution_count": 6,
      "outputs": []
    },
    {
      "cell_type": "markdown",
      "metadata": {
        "id": "p_X-JYVY41jP"
      },
      "source": [
        "---\n",
        "\n",
        "# Section 1: Exploring the Steinmetz dataset\n",
        "\n",
        "In this tutorial we will explore the structure of a neuroscience dataset.\n",
        "\n",
        "We consider a subset of data from a study of [Steinmetz _et al._ (2019)](https://www.nature.com/articles/s41586-019-1787-x). In this study, Neuropixels probes were implanted in the brains of mice. Electrical potentials were measured by hundreds of electrodes along the length of each probe. Each electrode's measurements captured local variations in the electric field due to nearby spiking neurons. A spike sorting algorithm was used to infer spike times and cluster spikes according to common origin: a single cluster of sorted spikes is causally attributed to a single neuron.\n",
        "\n",
        "In particular, a single recording session of spike times and neuron assignments was loaded and assigned to `spike_times` in the preceding setup.\n",
        "\n",
        "Typically a dataset comes with some information about its structure. However, this information may be incomplete. You might also apply some transformations or \"pre-processing\" to create a working representation of the data of interest, which might go partly undocumented depending on the circumstances. In any case it is important to be able to use the available tools to investigate unfamiliar aspects of a data structure.\n",
        "\n",
        "Let's see what our data looks like..."
      ]
    },
    {
      "cell_type": "markdown",
      "metadata": {
        "id": "W66LKYsu41jQ"
      },
      "source": [
        "## Section 1.1: Warming up with `spike_times`"
      ]
    },
    {
      "cell_type": "markdown",
      "metadata": {
        "id": "Sqqkems241jQ"
      },
      "source": [
        "What is the Python type of our variable?"
      ]
    },
    {
      "cell_type": "code",
      "metadata": {
        "execution": {
          "iopub.execute_input": "2021-07-03T17:54:20.676871Z",
          "iopub.status.busy": "2021-07-03T17:54:20.676106Z",
          "iopub.status.idle": "2021-07-03T17:54:20.682191Z",
          "shell.execute_reply": "2021-07-03T17:54:20.681644Z"
        },
        "pycharm": {
          "name": "#%%\n"
        },
        "id": "kqiybtcV41jR",
        "outputId": "405e28c7-b1f9-4990-de34-62419aa92790",
        "colab": {
          "base_uri": "https://localhost:8080/"
        }
      },
      "source": [
        "type(spike_times)"
      ],
      "execution_count": 7,
      "outputs": [
        {
          "output_type": "execute_result",
          "data": {
            "text/plain": [
              "numpy.ndarray"
            ]
          },
          "metadata": {
            "tags": []
          },
          "execution_count": 7
        }
      ]
    },
    {
      "cell_type": "markdown",
      "metadata": {
        "id": "kSAxmOsP41jR"
      },
      "source": [
        "You should see `numpy.ndarray`, which means that it's a normal NumPy array.\n",
        "\n",
        "If you see an error message, it probably means that you did not execute the set-up cells at the top of the notebook. So go ahead and make sure to do that.\n",
        "\n",
        "Once everything is running properly, we can ask the next question about the dataset: what's its shape?"
      ]
    },
    {
      "cell_type": "code",
      "metadata": {
        "execution": {
          "iopub.execute_input": "2021-07-03T17:54:20.686733Z",
          "iopub.status.busy": "2021-07-03T17:54:20.686101Z",
          "iopub.status.idle": "2021-07-03T17:54:20.691916Z",
          "shell.execute_reply": "2021-07-03T17:54:20.692367Z"
        },
        "pycharm": {
          "name": "#%%\n"
        },
        "id": "Sms-31Nv41jR",
        "outputId": "ddf68357-ce13-473b-d3d2-b394007a0f1b",
        "colab": {
          "base_uri": "https://localhost:8080/"
        }
      },
      "source": [
        "spike_times.shape"
      ],
      "execution_count": 8,
      "outputs": [
        {
          "output_type": "execute_result",
          "data": {
            "text/plain": [
              "(734,)"
            ]
          },
          "metadata": {
            "tags": []
          },
          "execution_count": 8
        }
      ]
    },
    {
      "cell_type": "markdown",
      "metadata": {
        "id": "TeloWcWt41jS"
      },
      "source": [
        "There are 734 entries in one dimension, and no other dimensions. What is the Python type of the first entry, and what is *its* shape?"
      ]
    },
    {
      "cell_type": "code",
      "metadata": {
        "execution": {
          "iopub.execute_input": "2021-07-03T17:54:20.697800Z",
          "iopub.status.busy": "2021-07-03T17:54:20.697199Z",
          "iopub.status.idle": "2021-07-03T17:54:20.701384Z",
          "shell.execute_reply": "2021-07-03T17:54:20.700890Z"
        },
        "pycharm": {
          "name": "#%%\n"
        },
        "id": "FV2Z4OMe41jS",
        "outputId": "30824b72-1daa-47b2-da09-db75b28f2e17",
        "colab": {
          "base_uri": "https://localhost:8080/"
        }
      },
      "source": [
        "idx = 0\n",
        "print(\n",
        "  type(spike_times[idx]),\n",
        "  spike_times[idx].shape,\n",
        "  sep=\"\\n\",\n",
        ")"
      ],
      "execution_count": 10,
      "outputs": [
        {
          "output_type": "stream",
          "text": [
            "<class 'numpy.ndarray'>\n",
            "(826,)\n"
          ],
          "name": "stdout"
        }
      ]
    },
    {
      "cell_type": "markdown",
      "metadata": {
        "id": "JaAcW16941jT"
      },
      "source": [
        "It's also a NumPy array with a 1D shape! Why didn't this show up as a second dimension in the shape of `spike_times`? That is, why not `spike_times.shape == (734, 826)`?\n",
        "\n",
        "To investigate, let's check another entry."
      ]
    },
    {
      "cell_type": "code",
      "metadata": {
        "execution": {
          "iopub.execute_input": "2021-07-03T17:54:20.710021Z",
          "iopub.status.busy": "2021-07-03T17:54:20.707287Z",
          "iopub.status.idle": "2021-07-03T17:54:20.712941Z",
          "shell.execute_reply": "2021-07-03T17:54:20.712371Z"
        },
        "pycharm": {
          "name": "#%%\n"
        },
        "id": "lvSvj-jj41jT",
        "outputId": "6ffe136f-f6eb-49f9-a9e6-16d35018f342",
        "colab": {
          "base_uri": "https://localhost:8080/"
        }
      },
      "source": [
        "idx = 321\n",
        "print(\n",
        "  type(spike_times[idx]),\n",
        "  spike_times[idx].shape,\n",
        "  sep=\"\\n\",\n",
        ")"
      ],
      "execution_count": 11,
      "outputs": [
        {
          "output_type": "stream",
          "text": [
            "<class 'numpy.ndarray'>\n",
            "(9723,)\n"
          ],
          "name": "stdout"
        }
      ]
    },
    {
      "cell_type": "code",
      "metadata": {
        "id": "s9Zf7fn66OiE",
        "outputId": "dec9c354-ab59-4edb-839e-9521502bae43",
        "colab": {
          "base_uri": "https://localhost:8080/"
        }
      },
      "source": [
        "spike_times[321].shape"
      ],
      "execution_count": 15,
      "outputs": [
        {
          "output_type": "execute_result",
          "data": {
            "text/plain": [
              "(9723,)"
            ]
          },
          "metadata": {
            "tags": []
          },
          "execution_count": 15
        }
      ]
    },
    {
      "cell_type": "markdown",
      "metadata": {
        "id": "cVSS23vt41jU"
      },
      "source": [
        "It's also a 1D NumPy array, but it has a different shape. Checking the NumPy types of the values in these arrays, and their first few elements, we see they are composed of floating point numbers (not another level of `np.ndarray`):"
      ]
    },
    {
      "cell_type": "code",
      "metadata": {
        "execution": {
          "iopub.execute_input": "2021-07-03T17:54:20.722331Z",
          "iopub.status.busy": "2021-07-03T17:54:20.720941Z",
          "iopub.status.idle": "2021-07-03T17:54:20.724840Z",
          "shell.execute_reply": "2021-07-03T17:54:20.724270Z"
        },
        "pycharm": {
          "name": "#%%\n"
        },
        "id": "G7gCViiH41jV",
        "outputId": "15c75d24-d460-49b1-a95a-6c6ab158dc6e",
        "colab": {
          "base_uri": "https://localhost:8080/"
        }
      },
      "source": [
        "i_neurons = [0, 321]\n",
        "i_print = slice(0, 5)\n",
        "\n",
        "for i in i_neurons:\n",
        "  print(\n",
        "    \"Neuron {}:\".format(i),\n",
        "    spike_times[i].dtype,\n",
        "    spike_times[i][i_print],\n",
        "    \"\\n\",\n",
        "    sep=\"\\n\"\n",
        "  )"
      ],
      "execution_count": 16,
      "outputs": [
        {
          "output_type": "stream",
          "text": [
            "Neuron 0:\n",
            "float32\n",
            "[ 0.8149   14.822467 24.9646   25.1436   38.8709  ]\n",
            "\n",
            "\n",
            "Neuron 321:\n",
            "float32\n",
            "[1.0698667 1.1536334 1.2403667 1.7072    1.799    ]\n",
            "\n",
            "\n"
          ],
          "name": "stdout"
        }
      ]
    },
    {
      "cell_type": "markdown",
      "metadata": {
        "id": "VHEjra3_41jV"
      },
      "source": [
        "Note that this time we've checked the NumPy `dtype` rather than the Python variable type. These two arrays contain floating point numbers (\"floats\") with 32 bits of precision.\n",
        "\n",
        "The basic picture is coming together:\n",
        "- `spike_times` is 1D, its entries are NumPy arrays, and its length is the number of neurons (734): by indexing it, we select a subset of neurons.\n",
        "- An array in `spike_times` is also 1D and corresponds to a single neuron; its entries are floating point numbers, and its length is the number of spikes attributed to that neuron. By indexing it, we select a subset of spike times for that neuron.\n",
        "\n",
        "Visually, you can think of the data structure as looking something like this:\n",
        "\n",
        "```\n",
        "| . . . . . |\n",
        "| . . . . . . . . |\n",
        "| . . . |\n",
        "| . . . . . . . |\n",
        "```\n",
        "\n",
        "Before moving on, we'll calculate and store the number of neurons in the dataset and the number of spikes per neuron:"
      ]
    },
    {
      "cell_type": "code",
      "metadata": {
        "execution": {
          "iopub.execute_input": "2021-07-03T17:54:20.731464Z",
          "iopub.status.busy": "2021-07-03T17:54:20.730149Z",
          "iopub.status.idle": "2021-07-03T17:54:20.733629Z",
          "shell.execute_reply": "2021-07-03T17:54:20.733072Z"
        },
        "pycharm": {
          "name": "#%%\n"
        },
        "id": "y2vOO0fh41jX",
        "outputId": "6bc7dbfd-0989-43ea-8547-ae058a89d491",
        "colab": {
          "base_uri": "https://localhost:8080/"
        }
      },
      "source": [
        "n_neurons = len(spike_times)\n",
        "total_spikes_per_neuron = [len(spike_times_i) for spike_times_i in spike_times]\n",
        "\n",
        "print(f\"Number of neurons: {n_neurons}\")\n",
        "print(f\"Number of spikes for first five neurons: {total_spikes_per_neuron[:5]}\")"
      ],
      "execution_count": 17,
      "outputs": [
        {
          "output_type": "stream",
          "text": [
            "Number of neurons: 734\n",
            "Number of spikes for first five neurons: [826, 2818, 3953, 646, 1115]\n"
          ],
          "name": "stdout"
        }
      ]
    },
    {
      "cell_type": "code",
      "metadata": {
        "cellView": "form",
        "execution": {
          "iopub.execute_input": "2021-07-03T17:54:20.748484Z",
          "iopub.status.busy": "2021-07-03T17:54:20.746673Z",
          "iopub.status.idle": "2021-07-03T17:54:20.806460Z",
          "shell.execute_reply": "2021-07-03T17:54:20.803939Z"
        },
        "id": "3vZfiacx41jX"
      },
      "source": [
        "# @title Video 2: Exploring the dataset\n",
        "from ipywidgets import widgets\n",
        "\n",
        "out2 = widgets.Output()\n",
        "with out2:\n",
        "  from IPython.display import IFrame\n",
        "  class BiliVideo(IFrame):\n",
        "      def __init__(self, id, page=1, width=400, height=300, **kwargs):\n",
        "          self.id=id\n",
        "          src = 'https://player.bilibili.com/player.html?bvid={0}&page={1}'.format(id, page)\n",
        "          super(BiliVideo, self).__init__(src, width, height, **kwargs)\n",
        "\n",
        "  video = BiliVideo(id=\"BV1Hp4y1S7Au\", width=854, height=480, fs=1)\n",
        "  print('Video available at https://www.bilibili.com/video/{0}'.format(video.id))\n",
        "  display(video)\n",
        "\n",
        "out1 = widgets.Output()\n",
        "with out1:\n",
        "  from IPython.display import YouTubeVideo\n",
        "  video = YouTubeVideo(id=\"oHwYWUI_o1U\", width=854, height=480, fs=1, rel=0)\n",
        "  print('Video available at https://youtube.com/watch?v=' + video.id)\n",
        "  display(video)\n",
        "\n",
        "out = widgets.Tab([out1, out2])\n",
        "out.set_title(0, 'Youtube')\n",
        "out.set_title(1, 'Bilibili')\n",
        "\n",
        "display(out)"
      ],
      "execution_count": null,
      "outputs": []
    },
    {
      "cell_type": "markdown",
      "metadata": {
        "id": "ONUqKn6n41jY"
      },
      "source": [
        "## Section 1.2: Getting warmer: counting and plotting total spike counts\n",
        "\n",
        "As we've seen, the number of spikes over the entire recording is variable between neurons. More generally, some neurons tend to spike more than others in a given period. Lets explore what the distribution of spiking looks like across all the neurons in the dataset."
      ]
    },
    {
      "cell_type": "markdown",
      "metadata": {
        "id": "gSYall6041jY"
      },
      "source": [
        "Are most neurons \"loud\" or \"quiet\", compared to the average? To see, we'll define bins of constant width in terms of total spikes and count the neurons that fall in each bin. This is known as a \"histogram\".\n",
        "\n",
        "You can plot a histogram with the matplotlib function `plt.hist`. If you just need to compute it, you can use the numpy function `np.histogram` instead."
      ]
    },
    {
      "cell_type": "code",
      "metadata": {
        "execution": {
          "iopub.execute_input": "2021-07-03T17:54:20.831106Z",
          "iopub.status.busy": "2021-07-03T17:54:20.830471Z",
          "iopub.status.idle": "2021-07-03T17:54:21.104468Z",
          "shell.execute_reply": "2021-07-03T17:54:21.103509Z"
        },
        "pycharm": {
          "name": "#%%\n"
        },
        "id": "He7mRAc641jZ",
        "outputId": "9e9bf772-e2a7-4016-d84b-8b70fd841bb8",
        "colab": {
          "base_uri": "https://localhost:8080/",
          "height": 431
        }
      },
      "source": [
        "plt.hist(total_spikes_per_neuron, bins=50, histtype=\"stepfilled\")\n",
        "plt.xlabel(\"Total spikes per neuron\")\n",
        "plt.ylabel(\"Number of neurons\");"
      ],
      "execution_count": 18,
      "outputs": [
        {
          "output_type": "display_data",
          "data": {
            "image/png": "[encoded data removed]",
            "text/plain": [
              "<Figure size 576x432 with 1 Axes>"
            ]
          },
          "metadata": {
            "tags": [],
            "image/png": {
              "width": 558,
              "height": 414
            },
            "needs_background": "light"
          }
        }
      ]
    },
    {
      "cell_type": "code",
      "metadata": {
        "id": "0nZe1QuS7iRQ",
        "outputId": "e331069a-ea81-40e6-b299-33c500fff200",
        "colab": {
          "base_uri": "https://localhost:8080/"
        }
      },
      "source": [
        "np.histogram(total_spikes_per_neuron, bins=50)"
      ],
      "execution_count": 20,
      "outputs": [
        {
          "output_type": "execute_result",
          "data": {
            "text/plain": [
              "(array([237, 129,  80,  52,  43,  38,  29,  29,  19,  10,   9,  11,   4,\n",
              "          4,   3,   5,   4,   3,   0,   2,   5,   1,   0,   2,   1,   3,\n",
              "          1,   1,   0,   2,   0,   1,   1,   0,   0,   0,   0,   2,   0,\n",
              "          0,   0,   0,   1,   0,   0,   0,   1,   0,   0,   1]),\n",
              " array([1.1800000e+02, 2.6221200e+03, 5.1262400e+03, 7.6303600e+03,\n",
              "        1.0134480e+04, 1.2638600e+04, 1.5142720e+04, 1.7646840e+04,\n",
              "        2.0150960e+04, 2.2655080e+04, 2.5159200e+04, 2.7663320e+04,\n",
              "        3.0167440e+04, 3.2671560e+04, 3.5175680e+04, 3.7679800e+04,\n",
              "        4.0183920e+04, 4.2688040e+04, 4.5192160e+04, 4.7696280e+04,\n",
              "        5.0200400e+04, 5.2704520e+04, 5.5208640e+04, 5.7712760e+04,\n",
              "        6.0216880e+04, 6.2721000e+04, 6.5225120e+04, 6.7729240e+04,\n",
              "        7.0233360e+04, 7.2737480e+04, 7.5241600e+04, 7.7745720e+04,\n",
              "        8.0249840e+04, 8.2753960e+04, 8.5258080e+04, 8.7762200e+04,\n",
              "        9.0266320e+04, 9.2770440e+04, 9.5274560e+04, 9.7778680e+04,\n",
              "        1.0028280e+05, 1.0278692e+05, 1.0529104e+05, 1.0779516e+05,\n",
              "        1.1029928e+05, 1.1280340e+05, 1.1530752e+05, 1.1781164e+05,\n",
              "        1.2031576e+05, 1.2281988e+05, 1.2532400e+05]))"
            ]
          },
          "metadata": {
            "tags": []
          },
          "execution_count": 20
        }
      ]
    },
    {
      "cell_type": "markdown",
      "metadata": {
        "id": "qRCHaiXq41jZ"
      },
      "source": [
        "Let's see what percentage of neurons have a below-average spike count:"
      ]
    },
    {
      "cell_type": "code",
      "metadata": {
        "execution": {
          "iopub.execute_input": "2021-07-03T17:54:21.109765Z",
          "iopub.status.busy": "2021-07-03T17:54:21.109111Z",
          "iopub.status.idle": "2021-07-03T17:54:21.113872Z",
          "shell.execute_reply": "2021-07-03T17:54:21.113384Z"
        },
        "pycharm": {
          "name": "#%%\n"
        },
        "id": "ibl07Erl41ja",
        "outputId": "235cca71-4607-4007-e382-551ae1bcffcb",
        "colab": {
          "base_uri": "https://localhost:8080/"
        }
      },
      "source": [
        "mean_spike_count = np.mean(total_spikes_per_neuron)\n",
        "frac_below_mean = (total_spikes_per_neuron < mean_spike_count).mean()\n",
        "print(f\"{frac_below_mean:2.1%} of neurons are below the mean\")"
      ],
      "execution_count": 29,
      "outputs": [
        {
          "output_type": "stream",
          "text": [
            "68.0% of neurons are below the mean\n"
          ],
          "name": "stdout"
        }
      ]
    },
    {
      "cell_type": "markdown",
      "metadata": {
        "id": "J8Z2oEjK41ja"
      },
      "source": [
        "We can also see this by adding the average spike count to the histogram plot:"
      ]
    },
    {
      "cell_type": "code",
      "metadata": {
        "execution": {
          "iopub.execute_input": "2021-07-03T17:54:21.143165Z",
          "iopub.status.busy": "2021-07-03T17:54:21.142193Z",
          "iopub.status.idle": "2021-07-03T17:54:21.408641Z",
          "shell.execute_reply": "2021-07-03T17:54:21.408096Z"
        },
        "pycharm": {
          "name": "#%%\n"
        },
        "id": "-NzWNoF-41ja",
        "outputId": "84bf87cc-76d4-4116-ec06-428a3efe011d",
        "colab": {
          "base_uri": "https://localhost:8080/",
          "height": 431
        }
      },
      "source": [
        "plt.hist(total_spikes_per_neuron, bins=50, histtype=\"stepfilled\")\n",
        "plt.xlabel(\"Total spikes per neuron\")\n",
        "plt.ylabel(\"Number of neurons\")\n",
        "plt.axvline(mean_spike_count, color=\"orange\", label=\"Mean neuron\")\n",
        "plt.legend();"
      ],
      "execution_count": 30,
      "outputs": [
        {
          "output_type": "display_data",
          "data": {
            "image/png": "[encoded data removed]",
            "text/plain": [
              "<Figure size 576x432 with 1 Axes>"
            ]
          },
          "metadata": {
            "tags": [],
            "image/png": {
              "width": 558,
              "height": 414
            },
            "needs_background": "light"
          }
        }
      ]
    },
    {
      "cell_type": "markdown",
      "metadata": {
        "id": "C-aDS9Mt8hq1"
      },
      "source": [
        "### trying out median instead"
      ]
    },
    {
      "cell_type": "code",
      "metadata": {
        "id": "zgL3ZZIr8hER",
        "outputId": "22366662-405f-44ab-ea68-b3e09fb986e2",
        "colab": {
          "base_uri": "https://localhost:8080/"
        }
      },
      "source": [
        "median_spike_count = np.median(total_spikes_per_neuron)\n",
        "frac_below_mean = (total_spikes_per_neuron < median_spike_count).mean()\n",
        "print(f\"{frac_below_mean:2.1%} of neurons are below the median\")"
      ],
      "execution_count": 26,
      "outputs": [
        {
          "output_type": "stream",
          "text": [
            "49.9% of neurons are below the median\n"
          ],
          "name": "stdout"
        }
      ]
    },
    {
      "cell_type": "code",
      "metadata": {
        "id": "pm9TEDz88qA3",
        "outputId": "ccbc4195-6bbb-42b7-ee44-5455783503ad",
        "colab": {
          "base_uri": "https://localhost:8080/",
          "height": 431
        }
      },
      "source": [
        "plt.hist(total_spikes_per_neuron, bins=50, histtype=\"stepfilled\")\n",
        "plt.xlabel(\"Total spikes per neuron\")\n",
        "plt.ylabel(\"Number of neurons\")\n",
        "plt.axvline(median_spike_count, color=\"orange\", label=\"median neuron\")\n",
        "plt.legend();"
      ],
      "execution_count": 27,
      "outputs": [
        {
          "output_type": "display_data",
          "data": {
            "image/png": "[encoded data removed]",
            "text/plain": [
              "<Figure size 576x432 with 1 Axes>"
            ]
          },
          "metadata": {
            "tags": [],
            "image/png": {
              "width": 558,
              "height": 414
            },
            "needs_background": "light"
          }
        }
      ]
    },
    {
      "cell_type": "markdown",
      "metadata": {
        "id": "QeffKpN541ja"
      },
      "source": [
        "This shows that the majority of neurons are relatively \"quiet\" compared to the mean, while a small number of neurons are exceptionally \"loud\": they must have spiked more often to reach a large count.\n",
        "\n",
        "### Coding Exercise 1.2: Comparing mean and median neurons\n",
        "\n",
        "If the mean neuron is more active than 68% of the population, what does that imply about the relationship between the mean neuron and the median neuron?\n",
        "\n",
        "*Exercise objective:* Reproduce the plot above, but add the median neuron.\n"
      ]
    },
    {
      "cell_type": "code",
      "metadata": {
        "execution": {
          "iopub.execute_input": "2021-07-03T17:54:21.417212Z",
          "iopub.status.busy": "2021-07-03T17:54:21.416528Z",
          "iopub.status.idle": "2021-07-03T17:54:21.534528Z",
          "shell.execute_reply": "2021-07-03T17:54:21.532642Z"
        },
        "pycharm": {
          "name": "#%%\n"
        },
        "id": "oJW0WObF41ja",
        "outputId": "d2efcbf4-3a4f-494e-d29d-10a214eceaba",
        "colab": {
          "base_uri": "https://localhost:8080/",
          "height": 449
        }
      },
      "source": [
        "#################################################################################\n",
        "## TODO for students:\n",
        "# Fill out function and remove\n",
        "## raise NotImplementedError(\"Student exercise: complete histogram plotting with median\")\n",
        "#################################################################################\n",
        "\n",
        "# Compute median spike count\n",
        "median_spike_count = np.median(total_spikes_per_neuron)  # Hint: Try the function np.median\n",
        "\n",
        "# Visualize median, mean, and histogram\n",
        "plt.hist(total_spikes_per_neuron, bins=50, histtype=\"stepfilled\")\n",
        "plt.axvline(median_spike_count, color=\"limegreen\", label=\"Median neuron\")\n",
        "plt.axvline(mean_spike_count, color=\"orange\", label=\"Mean neuron\")\n",
        "plt.xlabel(\"Total spikes per neuron\")\n",
        "plt.ylabel(\"Number of neurons\")\n",
        "plt.legend()"
      ],
      "execution_count": 31,
      "outputs": [
        {
          "output_type": "execute_result",
          "data": {
            "text/plain": [
              "<matplotlib.legend.Legend at 0x7fe3bb9df590>"
            ]
          },
          "metadata": {
            "tags": []
          },
          "execution_count": 31
        },
        {
          "output_type": "display_data",
          "data": {
            "image/png": "[encoded data removed]",
            "text/plain": [
              "<Figure size 576x432 with 1 Axes>"
            ]
          },
          "metadata": {
            "tags": [],
            "image/png": {
              "width": 558,
              "height": 414
            },
            "needs_background": "light"
          }
        }
      ]
    },
    {
      "cell_type": "markdown",
      "metadata": {
        "execution": {
          "iopub.execute_input": "2021-07-03T17:54:21.567423Z",
          "iopub.status.busy": "2021-07-03T17:54:21.566322Z",
          "iopub.status.idle": "2021-07-03T17:54:21.931828Z",
          "shell.execute_reply": "2021-07-03T17:54:21.932371Z"
        },
        "pycharm": {
          "name": "#%%\n"
        },
        "id": "hRpHXyy541jb"
      },
      "source": [
        "[*Click for solution*](https://github.com/NeuromatchAcademy/course-content/tree/master//tutorials/W1D1_ModelTypes/solutions/W1D1_Tutorial1_Solution_9af91fe0.py)\n",
        "\n",
        "*Example output:*\n",
        "\n",
        "<img alt='Solution hint' align='left' width=1116.0 height=827.0 src=https://raw.githubusercontent.com/NeuromatchAcademy/course-content/master/tutorials/W1D1_ModelTypes/static/W1D1_Tutorial1_Solution_9af91fe0_0.png>\n",
        "\n"
      ]
    },
    {
      "cell_type": "markdown",
      "metadata": {
        "id": "WwSwkABj41jc"
      },
      "source": [
        "\n",
        "*Bonus:* The median is the 50th percentile. What about other percentiles? Can you show the interquartile range on the histogram?"
      ]
    },
    {
      "cell_type": "markdown",
      "metadata": {
        "id": "T5fAcad841jd"
      },
      "source": [
        "---\n",
        "\n",
        "# Section 2: Visualizing neuronal spiking activity\n",
        "\n",
        "*Estimated timing to here from start of tutorial: 15 min*"
      ]
    },
    {
      "cell_type": "markdown",
      "metadata": {
        "id": "ua2kAdi941jd"
      },
      "source": [
        "## Section 2.1: Getting a subset of the data\n",
        "\n",
        "Now we'll visualize trains of spikes. Because the recordings are long, we will first define a short time interval and restrict the visualization to only the spikes in this interval. We defined a helper function, `restrict_spike_times`, to do this for you. If you call `help()` on the function, it will tell you a little bit about itself:"
      ]
    },
    {
      "cell_type": "code",
      "metadata": {
        "execution": {
          "iopub.execute_input": "2021-07-03T17:54:21.939391Z",
          "iopub.status.busy": "2021-07-03T17:54:21.938026Z",
          "iopub.status.idle": "2021-07-03T17:54:21.940041Z",
          "shell.execute_reply": "2021-07-03T17:54:21.940561Z"
        },
        "id": "YdYii8_g41je"
      },
      "source": [
        "# @markdown Execute this cell for helper function `restrict_spike_times`\n",
        "def restrict_spike_times(spike_times, interval):\n",
        "  \"\"\"Given a spike_time dataset, restrict to spikes within given interval.\n",
        "\n",
        "  Args:\n",
        "    spike_times (sequence of np.ndarray): List or array of arrays,\n",
        "      each inner array has spike times for a single neuron.\n",
        "    interval (tuple): Min, max time values; keep min <= t < max.\n",
        "\n",
        "  Returns:\n",
        "    np.ndarray: like `spike_times`, but only within `interval`\n",
        "  \"\"\"\n",
        "  interval_spike_times = []\n",
        "  for spikes in spike_times:\n",
        "    interval_mask = (spikes >= interval[0]) & (spikes < interval[1])\n",
        "    interval_spike_times.append(spikes[interval_mask])\n",
        "  return np.array(interval_spike_times, object)"
      ],
      "execution_count": 33,
      "outputs": []
    },
    {
      "cell_type": "code",
      "metadata": {
        "execution": {
          "iopub.execute_input": "2021-07-03T17:54:21.946273Z",
          "iopub.status.busy": "2021-07-03T17:54:21.944852Z",
          "iopub.status.idle": "2021-07-03T17:54:21.948195Z",
          "shell.execute_reply": "2021-07-03T17:54:21.947642Z"
        },
        "pycharm": {
          "name": "#%%\n"
        },
        "id": "Ieyv3EGv41jf",
        "outputId": "d856eb28-0a6c-4195-ac70-d2cc98bc7500",
        "colab": {
          "base_uri": "https://localhost:8080/"
        }
      },
      "source": [
        "help(restrict_spike_times)"
      ],
      "execution_count": 35,
      "outputs": [
        {
          "output_type": "stream",
          "text": [
            "Help on function restrict_spike_times in module __main__:\n",
            "\n",
            "restrict_spike_times(spike_times, interval)\n",
            "    Given a spike_time dataset, restrict to spikes within given interval.\n",
            "    \n",
            "    Args:\n",
            "      spike_times (sequence of np.ndarray): List or array of arrays,\n",
            "        each inner array has spike times for a single neuron.\n",
            "      interval (tuple): Min, max time values; keep min <= t < max.\n",
            "    \n",
            "    Returns:\n",
            "      np.ndarray: like `spike_times`, but only within `interval`\n",
            "\n"
          ],
          "name": "stdout"
        }
      ]
    },
    {
      "cell_type": "code",
      "metadata": {
        "execution": {
          "iopub.execute_input": "2021-07-03T17:54:21.952491Z",
          "iopub.status.busy": "2021-07-03T17:54:21.951885Z",
          "iopub.status.idle": "2021-07-03T17:54:21.967180Z",
          "shell.execute_reply": "2021-07-03T17:54:21.966623Z"
        },
        "pycharm": {
          "name": "#%%\n"
        },
        "id": "h4Zg2Bq541jf"
      },
      "source": [
        "t_interval = (5, 15)  # units are seconds after start of recording\n",
        "interval_spike_times = restrict_spike_times(spike_times, t_interval)"
      ],
      "execution_count": 37,
      "outputs": []
    },
    {
      "cell_type": "code",
      "metadata": {
        "id": "oAOwqGog-jwq"
      },
      "source": [
        "#print(interval_spike_times)"
      ],
      "execution_count": 46,
      "outputs": []
    },
    {
      "cell_type": "markdown",
      "metadata": {
        "id": "x_7aOkCr41jf"
      },
      "source": [
        "Is this a representative interval? What fraction of the total spikes fall in this interval?"
      ]
    },
    {
      "cell_type": "code",
      "metadata": {
        "execution": {
          "iopub.execute_input": "2021-07-03T17:54:21.973917Z",
          "iopub.status.busy": "2021-07-03T17:54:21.972504Z",
          "iopub.status.idle": "2021-07-03T17:54:21.976061Z",
          "shell.execute_reply": "2021-07-03T17:54:21.975519Z"
        },
        "pycharm": {
          "name": "#%%\n"
        },
        "id": "6oDzOkfZ41jg",
        "outputId": "e5994235-4a1d-47d2-f677-7a37fd6c6ef3",
        "colab": {
          "base_uri": "https://localhost:8080/"
        }
      },
      "source": [
        "original_counts = sum([len(spikes) for spikes in spike_times])\n",
        "interval_counts = sum([len(spikes) for spikes in interval_spike_times])\n",
        "frac_interval_spikes = interval_counts / original_counts\n",
        "print(f\"{frac_interval_spikes:.2%} of the total spikes are in the interval\")"
      ],
      "execution_count": 47,
      "outputs": [
        {
          "output_type": "stream",
          "text": [
            "0.33% of the total spikes are in the interval\n"
          ],
          "name": "stdout"
        }
      ]
    },
    {
      "cell_type": "markdown",
      "metadata": {
        "id": "7o8WeubB41jg"
      },
      "source": [
        "How does this compare to the ratio between the interval duration and the experiment duration? (What fraction of the total time is in this interval?)\n",
        "\n",
        "We can approximate the experiment duration by taking the minimum and maximum spike time in the whole dataset. To do that, we \"concatenate\" all of the neurons into one array and then use `np.ptp` (\"peak-to-peak\") to get the difference between the maximum and minimum value:"
      ]
    },
    {
      "cell_type": "code",
      "metadata": {
        "execution": {
          "iopub.execute_input": "2021-07-03T17:54:21.980602Z",
          "iopub.status.busy": "2021-07-03T17:54:21.980011Z",
          "iopub.status.idle": "2021-07-03T17:54:21.999935Z",
          "shell.execute_reply": "2021-07-03T17:54:22.000568Z"
        },
        "pycharm": {
          "name": "#%%\n"
        },
        "id": "7PAykKQ041jg",
        "outputId": "43a231e2-c751-42d9-e2b0-5c012bb843ed",
        "colab": {
          "base_uri": "https://localhost:8080/"
        }
      },
      "source": [
        "spike_times_flat = np.concatenate(spike_times)\n",
        "experiment_duration = np.ptp(spike_times_flat)\n",
        "interval_duration = t_interval[1] - t_interval[0]\n",
        "\n",
        "frac_interval_time = interval_duration / experiment_duration\n",
        "print(f\"{frac_interval_time:.2%} of the total time is in the interval\")"
      ],
      "execution_count": 48,
      "outputs": [
        {
          "output_type": "stream",
          "text": [
            "0.37% of the total time is in the interval\n"
          ],
          "name": "stdout"
        }
      ]
    },
    {
      "cell_type": "markdown",
      "metadata": {
        "id": "ffPwD3Xm41jh"
      },
      "source": [
        "These two values—the fraction of total spikes and the fraction of total time—are similar. This suggests the average spike rate of the neuronal population is not very different in this interval compared to the entire recording.\n",
        "\n",
        "## Section 2.2: Plotting spike trains and rasters\n",
        "\n",
        "Now that we have a representative subset, we're ready to plot the spikes, using the matplotlib `plt.eventplot` function. Let's look at a single neuron first:"
      ]
    },
    {
      "cell_type": "code",
      "metadata": {
        "execution": {
          "iopub.execute_input": "2021-07-03T17:54:22.019853Z",
          "iopub.status.busy": "2021-07-03T17:54:22.019192Z",
          "iopub.status.idle": "2021-07-03T17:54:22.196514Z",
          "shell.execute_reply": "2021-07-03T17:54:22.195642Z"
        },
        "pycharm": {
          "name": "#%%\n"
        },
        "id": "XQGvBgYF41jh",
        "outputId": "0add3b00-f2dc-4364-f454-ad0b89d60e40",
        "colab": {
          "base_uri": "https://localhost:8080/",
          "height": 431
        }
      },
      "source": [
        "neuron_idx = 1\n",
        "plt.eventplot(interval_spike_times[neuron_idx], color=\".2\")\n",
        "plt.xlabel(\"Time (s)\")\n",
        "plt.yticks([]);"
      ],
      "execution_count": 49,
      "outputs": [
        {
          "output_type": "display_data",
          "data": {
            "image/png": "[encoded data removed]",
            "text/plain": [
              "<Figure size 576x432 with 1 Axes>"
            ]
          },
          "metadata": {
            "tags": [],
            "image/png": {
              "width": 557,
              "height": 414
            },
            "needs_background": "light"
          }
        }
      ]
    },
    {
      "cell_type": "markdown",
      "metadata": {
        "id": "ta1j6nCe41ji"
      },
      "source": [
        "We can also plot multiple neurons. Here are three:"
      ]
    },
    {
      "cell_type": "code",
      "metadata": {
        "execution": {
          "iopub.execute_input": "2021-07-03T17:54:22.270761Z",
          "iopub.status.busy": "2021-07-03T17:54:22.270162Z",
          "iopub.status.idle": "2021-07-03T17:54:22.424884Z",
          "shell.execute_reply": "2021-07-03T17:54:22.423869Z"
        },
        "pycharm": {
          "name": "#%%\n"
        },
        "id": "_Ea2TN9r41jj",
        "outputId": "99e71fa8-ab21-4585-fe27-af8a77e99229",
        "colab": {
          "base_uri": "https://localhost:8080/",
          "height": 430
        }
      },
      "source": [
        "neuron_idx = [1, 11, 51]\n",
        "plt.eventplot(interval_spike_times[neuron_idx], color=\".2\")\n",
        "plt.xlabel(\"Time (s)\")\n",
        "plt.yticks([]);"
      ],
      "execution_count": 51,
      "outputs": [
        {
          "output_type": "display_data",
          "data": {
            "image/png": "[encoded data removed]",
            "text/plain": [
              "<Figure size 576x432 with 1 Axes>"
            ]
          },
          "metadata": {
            "tags": [],
            "image/png": {
              "width": 557,
              "height": 413
            },
            "needs_background": "light"
          }
        }
      ]
    },
    {
      "cell_type": "code",
      "metadata": {
        "id": "0hwfoVsXBKMB",
        "outputId": "7e7bc89a-3500-4ee3-83b6-d4b74fb6b5a2",
        "colab": {
          "base_uri": "https://localhost:8080/"
        }
      },
      "source": [
        "interval_spike_times[neuron_idx]"
      ],
      "execution_count": 52,
      "outputs": [
        {
          "output_type": "execute_result",
          "data": {
            "text/plain": [
              "array([array([ 5.0386   ,  5.4224334,  5.435567 ,  5.4808664,  5.6014   ,\n",
              "        5.6606336,  7.0313334,  7.2695665,  7.338967 ,  7.3663   ,\n",
              "        7.9765   ,  9.149966 , 10.4380665, 10.441033 , 10.453267 ,\n",
              "       10.486067 , 10.499467 , 10.580067 , 10.585267 , 10.7438   ,\n",
              "       10.8243   , 11.100833 , 12.315066 , 13.0038   , 13.588667 ,\n",
              "       13.895766 , 14.637867 , 14.8004   ], dtype=float32),\n",
              "       array([ 5.9807  ,  8.2785  ,  8.650467,  9.3275  ,  9.8145  , 11.4934  ,\n",
              "       12.740167], dtype=float32),\n",
              "       array([ 6.3741   ,  6.3867   ,  6.4002666,  6.4181   ,  6.4351335,\n",
              "       11.141533 ], dtype=float32)], dtype=object)"
            ]
          },
          "metadata": {
            "tags": []
          },
          "execution_count": 52
        }
      ]
    },
    {
      "cell_type": "markdown",
      "metadata": {
        "id": "Ozki4-5y41jj"
      },
      "source": [
        "This makes a \"raster\" plot, where the spikes from each neuron appear in a different row.\n",
        "\n",
        "Plotting a large number of neurons can give you a sense for the characteristics in the population. Let's show every 5th neuron that was recorded:"
      ]
    },
    {
      "cell_type": "code",
      "metadata": {
        "execution": {
          "iopub.execute_input": "2021-07-03T17:54:22.439900Z",
          "iopub.status.busy": "2021-07-03T17:54:22.438828Z",
          "iopub.status.idle": "2021-07-03T17:54:22.879608Z",
          "shell.execute_reply": "2021-07-03T17:54:22.878363Z"
        },
        "pycharm": {
          "name": "#%%\n"
        },
        "id": "sjxuSMq741jj",
        "outputId": "f3d2f744-2618-4624-9b1f-3b8fbd7e443c",
        "colab": {
          "base_uri": "https://localhost:8080/",
          "height": 430
        }
      },
      "source": [
        "neuron_idx = np.arange(0, len(spike_times), 5)\n",
        "plt.eventplot(interval_spike_times[neuron_idx], color=\".2\")\n",
        "plt.xlabel(\"Time (s)\")\n",
        "plt.yticks([]);"
      ],
      "execution_count": 54,
      "outputs": [
        {
          "output_type": "display_data",
          "data": {
            "image/png": "[encoded data removed]",
            "text/plain": [
              "<Figure size 576x432 with 1 Axes>"
            ]
          },
          "metadata": {
            "tags": [],
            "image/png": {
              "width": 558,
              "height": 413
            },
            "needs_background": "light"
          }
        }
      ]
    },
    {
      "cell_type": "code",
      "metadata": {
        "id": "d5EueaXLBXWH",
        "outputId": "b9c90530-0773-4752-b319-510878e8eb0e",
        "colab": {
          "base_uri": "https://localhost:8080/"
        }
      },
      "source": [
        "## you are taking the interval spike time form every 5th neuron for the length of the spike_times\n",
        "### here is the numbers you are inputing\n",
        "print(np.arange(0, len(spike_times), 5))"
      ],
      "execution_count": 55,
      "outputs": [
        {
          "output_type": "stream",
          "text": [
            "[  0   5  10  15  20  25  30  35  40  45  50  55  60  65  70  75  80  85\n",
            "  90  95 100 105 110 115 120 125 130 135 140 145 150 155 160 165 170 175\n",
            " 180 185 190 195 200 205 210 215 220 225 230 235 240 245 250 255 260 265\n",
            " 270 275 280 285 290 295 300 305 310 315 320 325 330 335 340 345 350 355\n",
            " 360 365 370 375 380 385 390 395 400 405 410 415 420 425 430 435 440 445\n",
            " 450 455 460 465 470 475 480 485 490 495 500 505 510 515 520 525 530 535\n",
            " 540 545 550 555 560 565 570 575 580 585 590 595 600 605 610 615 620 625\n",
            " 630 635 640 645 650 655 660 665 670 675 680 685 690 695 700 705 710 715\n",
            " 720 725 730]\n"
          ],
          "name": "stdout"
        }
      ]
    },
    {
      "cell_type": "markdown",
      "metadata": {
        "id": "Z0t7KSHR41jj"
      },
      "source": [
        "*Question*: How does the information in this plot relate to the histogram of total spike counts that you saw above?"
      ]
    },
    {
      "cell_type": "markdown",
      "metadata": {
        "execution": {
          "iopub.execute_input": "2021-07-03T17:54:22.884637Z",
          "iopub.status.busy": "2021-07-03T17:54:22.883994Z",
          "iopub.status.idle": "2021-07-03T17:54:22.889216Z",
          "shell.execute_reply": "2021-07-03T17:54:22.890231Z"
        },
        "id": "RVF685jf41jk"
      },
      "source": [
        "[*Click for solution*](https://github.com/NeuromatchAcademy/course-content/tree/master//tutorials/W1D1_ModelTypes/solutions/W1D1_Tutorial1_Solution_b01195c9.py)\n",
        "\n"
      ]
    },
    {
      "cell_type": "code",
      "metadata": {
        "cellView": "form",
        "execution": {
          "iopub.execute_input": "2021-07-03T17:54:22.903300Z",
          "iopub.status.busy": "2021-07-03T17:54:22.902309Z",
          "iopub.status.idle": "2021-07-03T17:54:22.968449Z",
          "shell.execute_reply": "2021-07-03T17:54:22.967927Z"
        },
        "id": "h2PkynwM41jk",
        "outputId": "a2bb1733-441c-46d7-dc67-6cb1b0adbd3c",
        "colab": {
          "base_uri": "https://localhost:8080/",
          "height": 581,
          "referenced_widgets": [
            "d30cdeac4e1f40f991d1b398bc591c51",
            "5790da09209142e2b211f84211bb6ba6",
            "ea611c42716c43229ccf8019109259a2",
            "1d9c5134cb054422aadf90f2a8ac73e3",
            "9cb62643e719489ebb52824e6c5bc056",
            "d4c92445e1294c849e6bf4c35df3a809"
          ]
        }
      },
      "source": [
        "# @title Video 3: Visualizing activity\n",
        "from ipywidgets import widgets\n",
        "\n",
        "out2 = widgets.Output()\n",
        "with out2:\n",
        "  from IPython.display import IFrame\n",
        "  class BiliVideo(IFrame):\n",
        "      def __init__(self, id, page=1, width=400, height=300, **kwargs):\n",
        "          self.id=id\n",
        "          src = 'https://player.bilibili.com/player.html?bvid={0}&page={1}'.format(id, page)\n",
        "          super(BiliVideo, self).__init__(src, width, height, **kwargs)\n",
        "\n",
        "  video = BiliVideo(id=\"BV1dt4y1Q7C5\", width=854, height=480, fs=1)\n",
        "  print('Video available at https://www.bilibili.com/video/{0}'.format(video.id))\n",
        "  display(video)\n",
        "\n",
        "out1 = widgets.Output()\n",
        "with out1:\n",
        "  from IPython.display import YouTubeVideo\n",
        "  video = YouTubeVideo(id=\"QGA5FCW7kkA\", width=854, height=480, fs=1, rel=0)\n",
        "  print('Video available at https://youtube.com/watch?v=' + video.id)\n",
        "  display(video)\n",
        "\n",
        "out = widgets.Tab([out1, out2])\n",
        "out.set_title(0, 'Youtube')\n",
        "out.set_title(1, 'Bilibili')\n",
        "\n",
        "display(out)"
      ],
      "execution_count": 57,
      "outputs": [
        {
          "output_type": "display_data",
          "data": {
            "application/vnd.jupyter.widget-view+json": {
              "model_id": "d30cdeac4e1f40f991d1b398bc591c51",
              "version_minor": 0,
              "version_major": 2
            },
            "text/plain": [
              "Tab(children=(Output(), Output()), _titles={'0': 'Youtube', '1': 'Bilibili'})"
            ]
          },
          "metadata": {
            "tags": []
          }
        }
      ]
    },
    {
      "cell_type": "markdown",
      "metadata": {
        "id": "fZRyCcRt41jl"
      },
      "source": [
        "---\n",
        "\n",
        "# Section 3: Inter-spike intervals and their distributions\n",
        "\n",
        "*Estimated timing to here from start of tutorial: 25 min*"
      ]
    },
    {
      "cell_type": "markdown",
      "metadata": {
        "id": "AbC2DWkr41jl"
      },
      "source": [
        "Given the ordered arrays of spike times for each neuron in `spike_times`, which we've just visualized, what can we ask next?\n",
        "\n",
        "Scientific questions are informed by existing models. So, what knowledge do we already have that can inform questions about this data?\n",
        "\n",
        "We know that there are physical constraints on neuron spiking. Spiking costs energy, which the neuron's cellular machinery can only obtain at a finite rate. Therefore neurons should have a refractory period: they can only fire as quickly as their metabolic processes can support, and there is a minimum delay between consecutive spikes of the same neuron.\n",
        "\n",
        "More generally, we can ask \"how long does a neuron wait to spike again?\" or \"what is the longest a neuron will wait?\" Can we transform spike times into something else, to address questions like these more directly?\n",
        "\n",
        "We can consider the inter-spike times (or interspike intervals: ISIs). These are simply the time differences between consecutive spikes of the same neuron.\n",
        "\n",
        "### Exercise 3: Plot the distribution of ISIs for a single neuron\n",
        "\n",
        "*Exercise objective:* make a histogram, like we did for spike counts, to show the distribution of ISIs for one of the neurons in the dataset.\n",
        "\n",
        "Do this in three steps:\n",
        "\n",
        "1. Extract the spike times for one of the neurons\n",
        "2. Compute the ISIs (the amount of time between spikes, or equivalently, the difference between adjacent spike times)\n",
        "3. Plot a histogram with the array of individual ISIs"
      ]
    },
    {
      "cell_type": "code",
      "metadata": {
        "execution": {
          "iopub.execute_input": "2021-07-03T17:54:22.982203Z",
          "iopub.status.busy": "2021-07-03T17:54:22.981593Z",
          "iopub.status.idle": "2021-07-03T17:54:22.989786Z",
          "shell.execute_reply": "2021-07-03T17:54:22.989137Z"
        },
        "pycharm": {
          "name": "#%%\n"
        },
        "id": "44lOr7Xn41jm",
        "outputId": "b3083588-496d-4b63-ae45-eb02045d4d1f",
        "colab": {
          "base_uri": "https://localhost:8080/",
          "height": 430
        }
      },
      "source": [
        "def compute_single_neuron_isis(spike_times, neuron_idx):\n",
        "  \"\"\"Compute a vector of ISIs for a single neuron given spike times.\n",
        "\n",
        "  Args:\n",
        "    spike_times (list of 1D arrays): Spike time dataset, with the first\n",
        "      dimension corresponding to different neurons.\n",
        "    neuron_idx (int): Index of the unit to compute ISIs for.\n",
        "\n",
        "  Returns:\n",
        "    isis (1D array): Duration of time between each spike from one neuron.\n",
        "  \"\"\"\n",
        "  #############################################################################\n",
        "  # Students: Fill in missing code (...) and comment or remove the next line\n",
        "  ## raise NotImplementedError(\"Exercise: compute single neuron ISIs\")\n",
        "  #############################################################################\n",
        "\n",
        "  # Extract the spike times for the specified neuron\n",
        "  single_neuron_spikes = spike_times[neuron_idx]\n",
        "\n",
        "  # Compute the ISIs for this set of spikes\n",
        "  # Hint: the function np.diff computes discrete differences along an array\n",
        "  isis = np.diff(single_neuron_spikes)\n",
        "\n",
        "  return isis\n",
        "\n",
        "# Compute ISIs\n",
        "single_neuron_isis = compute_single_neuron_isis(spike_times, neuron_idx=283)\n",
        "\n",
        "# Visualize ISIs\n",
        "plot_isis(single_neuron_isis)"
      ],
      "execution_count": 58,
      "outputs": [
        {
          "output_type": "display_data",
          "data": {
            "image/png": "[encoded data removed]",
            "text/plain": [
              "<Figure size 576x432 with 1 Axes>"
            ]
          },
          "metadata": {
            "tags": [],
            "image/png": {
              "width": 558,
              "height": 413
            },
            "needs_background": "light"
          }
        }
      ]
    },
    {
      "cell_type": "markdown",
      "metadata": {
        "execution": {
          "iopub.execute_input": "2021-07-03T17:54:22.998186Z",
          "iopub.status.busy": "2021-07-03T17:54:22.997577Z",
          "iopub.status.idle": "2021-07-03T17:54:23.356486Z",
          "shell.execute_reply": "2021-07-03T17:54:23.355980Z"
        },
        "pycharm": {
          "name": "#%%\n"
        },
        "id": "sR9ewN9n41jm"
      },
      "source": [
        "[*Click for solution*](https://github.com/NeuromatchAcademy/course-content/tree/master//tutorials/W1D1_ModelTypes/solutions/W1D1_Tutorial1_Solution_2972c168.py)\n",
        "\n",
        "*Example output:*\n",
        "\n",
        "<img alt='Solution hint' align='left' width=1116.0 height=828.0 src=https://raw.githubusercontent.com/NeuromatchAcademy/course-content/master/tutorials/W1D1_ModelTypes/static/W1D1_Tutorial1_Solution_2972c168_0.png>\n",
        "\n"
      ]
    },
    {
      "cell_type": "markdown",
      "metadata": {
        "id": "FDfa-8xq41jn"
      },
      "source": [
        "---\n",
        "\n",
        "In general, the shorter ISIs are predominant, with counts decreasing rapidly (and smoothly, more or less) with increasing ISI. However, counts also rapidly decrease to zero with _decreasing_ ISI below the maximum of the distribution (8-11 ms). The absence of these very low ISIs agrees with the refractory period hypothesis: the neuron cannot fire quickly enough to populate this region of the ISI distribution.\n",
        "\n",
        "Check the distributions of some other neurons. To resolve various features of the distributions, you might need to play with the value of `n_bins`. Using too few bins might smooth over interesting details, but if you use too many bins, the random variability will start to dominate.\n",
        "\n",
        "You might also want to restrict the range to see the shape of the distribution when focusing on relatively short or long ISIs. *Hint:* `plt.hist` takes a `range` argument"
      ]
    },
    {
      "cell_type": "markdown",
      "metadata": {
        "id": "3vQnGGGQ41jn"
      },
      "source": [
        "---\n",
        "\n",
        "# Section 4: What is the functional form of an ISI distribution?\n",
        "\n",
        "*Estimated timing to here from start of tutorial: 35 min*"
      ]
    },
    {
      "cell_type": "code",
      "metadata": {
        "cellView": "form",
        "execution": {
          "iopub.execute_input": "2021-07-03T17:54:23.369679Z",
          "iopub.status.busy": "2021-07-03T17:54:23.369060Z",
          "iopub.status.idle": "2021-07-03T17:54:23.429414Z",
          "shell.execute_reply": "2021-07-03T17:54:23.428823Z"
        },
        "id": "6vXyu07E41jo",
        "outputId": "4c997d3b-a3e6-4f3d-aa9d-e99ffa7a1dc8",
        "colab": {
          "base_uri": "https://localhost:8080/",
          "height": 581,
          "referenced_widgets": [
            "0d78080cb2954e93913971b074cdb0e7",
            "30afa6152c094e749957594352d52443",
            "1972580227854b54a29943310628a557",
            "0d9a15b3437c40daa798a65711706c94",
            "77a5231df8b24a66b6307511bd0caf9f",
            "56d113e1316c47ff923d53b320d78db0"
          ]
        }
      },
      "source": [
        "# @title Video 4: ISI distribution\n",
        "from ipywidgets import widgets\n",
        "\n",
        "out2 = widgets.Output()\n",
        "with out2:\n",
        "  from IPython.display import IFrame\n",
        "  class BiliVideo(IFrame):\n",
        "      def __init__(self, id, page=1, width=400, height=300, **kwargs):\n",
        "          self.id=id\n",
        "          src = 'https://player.bilibili.com/player.html?bvid={0}&page={1}'.format(id, page)\n",
        "          super(BiliVideo, self).__init__(src, width, height, **kwargs)\n",
        "\n",
        "  video = BiliVideo(id=\"BV1ov411B7Pm\", width=854, height=480, fs=1)\n",
        "  print('Video available at https://www.bilibili.com/video/{0}'.format(video.id))\n",
        "  display(video)\n",
        "\n",
        "out1 = widgets.Output()\n",
        "with out1:\n",
        "  from IPython.display import YouTubeVideo\n",
        "  video = YouTubeVideo(id=\"DHhM80MOTe8\", width=854, height=480, fs=1, rel=0)\n",
        "  print('Video available at https://youtube.com/watch?v=' + video.id)\n",
        "  display(video)\n",
        "\n",
        "out = widgets.Tab([out1, out2])\n",
        "out.set_title(0, 'Youtube')\n",
        "out.set_title(1, 'Bilibili')\n",
        "\n",
        "display(out)"
      ],
      "execution_count": 59,
      "outputs": [
        {
          "output_type": "display_data",
          "data": {
            "application/vnd.jupyter.widget-view+json": {
              "model_id": "0d78080cb2954e93913971b074cdb0e7",
              "version_minor": 0,
              "version_major": 2
            },
            "text/plain": [
              "Tab(children=(Output(), Output()), _titles={'0': 'Youtube', '1': 'Bilibili'})"
            ]
          },
          "metadata": {
            "tags": []
          }
        }
      ]
    },
    {
      "cell_type": "markdown",
      "metadata": {
        "id": "8dCrdvoc41jo"
      },
      "source": [
        "The ISI histograms seem to follow continuous, monotonically decreasing functions above their maxima. The function is clearly non-linear. Could it belong to a single family of functions?\n",
        "\n",
        "To motivate the idea of using a mathematical function to explain physiological phenomena, let's define a few different function forms that we might expect the relationship to follow: exponential, inverse, and linear."
      ]
    },
    {
      "cell_type": "code",
      "metadata": {
        "execution": {
          "iopub.execute_input": "2021-07-03T17:54:23.445271Z",
          "iopub.status.busy": "2021-07-03T17:54:23.443840Z",
          "iopub.status.idle": "2021-07-03T17:54:23.446205Z",
          "shell.execute_reply": "2021-07-03T17:54:23.446819Z"
        },
        "pycharm": {
          "name": "#%%\n"
        },
        "id": "xgKOr4MY41jo"
      },
      "source": [
        "def exponential(xs, scale, rate, x0):\n",
        "  \"\"\"A simple parametrized exponential function, applied element-wise.\n",
        "\n",
        "  Args:\n",
        "    xs (np.ndarray or float): Input(s) to the function.\n",
        "    scale (float): Linear scaling factor.\n",
        "    rate (float): Exponential growth (positive) or decay (negative) rate.\n",
        "    x0 (float): Horizontal offset.\n",
        "\n",
        "  \"\"\"\n",
        "  ys = scale * np.exp(rate * (xs - x0))\n",
        "  return ys\n",
        "\n",
        "def inverse(xs, scale, x0):\n",
        "  \"\"\"A simple parametrized inverse function (`1/x`), applied element-wise.\n",
        "\n",
        "  Args:\n",
        "    xs (np.ndarray or float): Input(s) to the function.\n",
        "    scale (float): Linear scaling factor.\n",
        "    x0 (float): Horizontal offset.\n",
        "\n",
        "  \"\"\"\n",
        "  ys = scale / (xs - x0)\n",
        "  return ys\n",
        "\n",
        "def linear(xs, slope, y0):\n",
        "  \"\"\"A simple linear function, applied element-wise.\n",
        "\n",
        "  Args:\n",
        "    xs (np.ndarray or float): Input(s) to the function.\n",
        "    slope (float): Slope of the line.\n",
        "    y0 (float): y-intercept of the line.\n",
        "\n",
        "  \"\"\"\n",
        "  ys = slope * xs + y0\n",
        "  return ys"
      ],
      "execution_count": 62,
      "outputs": []
    },
    {
      "cell_type": "markdown",
      "metadata": {
        "id": "trI0ZI2r41jp"
      },
      "source": [
        "### Interactive Demo 4: ISI functions explorer\n",
        "\n",
        "Here is an interactive demo where you can vary the parameters of these functions and see how well the resulting outputs correspond to the data. Adjust the parameters by moving the sliders and see how close you can get the lines to follow the falling curve of the histogram. This will give you a taste of what you're trying to do when you *fit a model* to data.\n",
        "\n",
        "\"Interactive demo\" cells have hidden code that defines an interface where you can play with the parameters of some function using sliders. You don't need to worry about how the code works – but you do need to **run the cell** to enable the sliders.\n",
        "\n",
        "- Which type of function (exponential/inverse/linear) can you make match the data best?\n"
      ]
    },
    {
      "cell_type": "code",
      "metadata": {
        "cellView": "form",
        "execution": {
          "iopub.execute_input": "2021-07-03T17:54:23.458648Z",
          "iopub.status.busy": "2021-07-03T17:54:23.454106Z",
          "iopub.status.idle": "2021-07-03T17:54:23.875898Z",
          "shell.execute_reply": "2021-07-03T17:54:23.876365Z"
        },
        "pycharm": {
          "name": "#%%\n"
        },
        "id": "8lOSu-_B41jp",
        "outputId": "6bdb37df-b596-4fd1-f1e9-bcb150072342",
        "colab": {
          "base_uri": "https://localhost:8080/",
          "height": 654,
          "referenced_widgets": [
            "bc3fc9d58dc642b9bcb8096b30517460",
            "8430aee98a0948b3af82145cfeb7df50",
            "b2f773b011944d2bb1ce38b639d8b361",
            "bb1c8790ae1947348a6d8bbc6dc2790e",
            "c12203005828489e824a901a5308e234",
            "571ad81ce8bf4d4db268c27c7701a58d",
            "acfd0d58dd05473aa2c0cf96ba5af68b",
            "1bd72fb5f7854cd1be0159f7c5201d75",
            "053a58af8cdc44ef8ce58bd2391dc098",
            "614e19c848254ecb98ea65d4709cef2b",
            "5b14e71919da40c690a827e89336cc3b",
            "397587aa83ff42fda75a946ce12c4232",
            "a554fcc1a9d24f61a2e961b88fc1b99f",
            "89998efdb9e64915aaecbf3dba70b9d4",
            "54fede0765434f1795868989f3bef579",
            "3f77bd03daca4d94ae783609c317bf72",
            "e15093bb198f404f831e642b355b312b",
            "6e91c6b54afc44ba9542e4c5d757b538",
            "381634e4a57a4a319918f88ff41ee2f1",
            "5b6fa3e68e824d998d1fff3d8c2f2fbe",
            "e79c0ed29b1f4046b371c8941322091b",
            "ea36111464d44544b106fe35facb31df",
            "8c2eb8a40067416eb6e2516072154137",
            "c87e762bb6a3473ab32458da3790d8a8",
            "8207e635257549d8ac3f07afee63ba4a"
          ]
        }
      },
      "source": [
        "#@title\n",
        "\n",
        "#@markdown Be sure to run this cell to enable the demo\n",
        "# Don't worry about understanding this code! It's to setup an interactive plot.\n",
        "single_neuron_idx = 283\n",
        "single_neuron_spikes = spike_times[single_neuron_idx]\n",
        "single_neuron_isis = np.diff(single_neuron_spikes)\n",
        "\n",
        "counts, edges = np.histogram(\n",
        "  single_neuron_isis,\n",
        "  bins=50,\n",
        "  range=(0, single_neuron_isis.max())\n",
        ")\n",
        "\n",
        "functions = dict(\n",
        "  exponential=exponential,\n",
        "  inverse=inverse,\n",
        "  linear=linear,\n",
        ")\n",
        "\n",
        "colors = dict(\n",
        "  exponential=\"C1\",\n",
        "  inverse=\"C2\",\n",
        "  linear=\"C4\",\n",
        ")\n",
        "\n",
        "@widgets.interact(\n",
        "  exp_scale=widgets.FloatSlider(1000, min=0, max=20000, step=250),\n",
        "  exp_rate=widgets.FloatSlider(-10, min=-200, max=50, step=1),\n",
        "  exp_x0=widgets.FloatSlider(0.1, min=-0.5, max=0.5, step=0.005),\n",
        "  inv_scale=widgets.FloatSlider(1000, min=0, max=3e2, step=10),\n",
        "  inv_x0=widgets.FloatSlider(0, min=-0.2, max=0.2, step=0.01),\n",
        "  lin_slope=widgets.FloatSlider(-1e5, min=-6e5, max=1e5, step=10000),\n",
        "  lin_y0=widgets.FloatSlider(10000, min=0, max=4e4, step=1000),\n",
        ")\n",
        "def fit_plot(\n",
        "  exp_scale=1000, exp_rate=-10, exp_x0=0.1,\n",
        "  inv_scale=1000, inv_x0=0,\n",
        "  lin_slope=-1e5, lin_y0=2000,\n",
        "):\n",
        "  \"\"\"Helper function for plotting function fits with interactive sliders.\"\"\"\n",
        "  func_params = dict(\n",
        "    exponential=(exp_scale, exp_rate, exp_x0),\n",
        "    inverse=(inv_scale, inv_x0),\n",
        "    linear=(lin_slope, lin_y0),\n",
        "  )\n",
        "  f, ax = plt.subplots()\n",
        "  ax.fill_between(edges[:-1], counts, step=\"post\", alpha=.5)\n",
        "  xs = np.linspace(1e-10, edges.max())\n",
        "  for name, function in functions.items():\n",
        "    ys = function(xs, *func_params[name])\n",
        "    ax.plot(xs, ys, lw=3, color=colors[name], label=name);\n",
        "  ax.set(\n",
        "      xlim=(edges.min(), edges.max()),\n",
        "      ylim=(0, counts.max() * 1.1),\n",
        "      xlabel=\"ISI (s)\",\n",
        "      ylabel=\"Number of spikes\",\n",
        "  )\n",
        "  ax.legend()"
      ],
      "execution_count": 61,
      "outputs": [
        {
          "output_type": "display_data",
          "data": {
            "application/vnd.jupyter.widget-view+json": {
              "model_id": "bc3fc9d58dc642b9bcb8096b30517460",
              "version_minor": 0,
              "version_major": 2
            },
            "text/plain": [
              "interactive(children=(FloatSlider(value=1000.0, description='exp_scale', max=20000.0, step=250.0), FloatSlider…"
            ]
          },
          "metadata": {
            "tags": []
          }
        }
      ]
    },
    {
      "cell_type": "markdown",
      "metadata": {
        "execution": {
          "iopub.execute_input": "2021-07-03T17:54:23.881204Z",
          "iopub.status.busy": "2021-07-03T17:54:23.880570Z",
          "iopub.status.idle": "2021-07-03T17:54:23.884239Z",
          "shell.execute_reply": "2021-07-03T17:54:23.884689Z"
        },
        "id": "HgkKQEQ941jq"
      },
      "source": [
        "[*Click for solution*](https://github.com/NeuromatchAcademy/course-content/tree/master//tutorials/W1D1_ModelTypes/solutions/W1D1_Tutorial1_Solution_b6cd7761.py)\n",
        "\n"
      ]
    },
    {
      "cell_type": "code",
      "metadata": {
        "cellView": "form",
        "execution": {
          "iopub.execute_input": "2021-07-03T17:54:23.896459Z",
          "iopub.status.busy": "2021-07-03T17:54:23.892167Z",
          "iopub.status.idle": "2021-07-03T17:54:23.957580Z",
          "shell.execute_reply": "2021-07-03T17:54:23.958179Z"
        },
        "id": "fugDoudY41jq"
      },
      "source": [
        "# @title Video 5: Fitting models by hand\n",
        "from ipywidgets import widgets\n",
        "\n",
        "out2 = widgets.Output()\n",
        "with out2:\n",
        "  from IPython.display import IFrame\n",
        "  class BiliVideo(IFrame):\n",
        "      def __init__(self, id, page=1, width=400, height=300, **kwargs):\n",
        "          self.id=id\n",
        "          src = 'https://player.bilibili.com/player.html?bvid={0}&page={1}'.format(id, page)\n",
        "          super(BiliVideo, self).__init__(src, width, height, **kwargs)\n",
        "\n",
        "  video = BiliVideo(id=\"BV1w54y1S7Eb\", width=854, height=480, fs=1)\n",
        "  print('Video available at https://www.bilibili.com/video/{0}'.format(video.id))\n",
        "  display(video)\n",
        "\n",
        "out1 = widgets.Output()\n",
        "with out1:\n",
        "  from IPython.display import YouTubeVideo\n",
        "  video = YouTubeVideo(id=\"uW2HDk_4-wk\", width=854, height=480, fs=1, rel=0)\n",
        "  print('Video available at https://youtube.com/watch?v=' + video.id)\n",
        "  display(video)\n",
        "\n",
        "out = widgets.Tab([out1, out2])\n",
        "out.set_title(0, 'Youtube')\n",
        "out.set_title(1, 'Bilibili')\n",
        "\n",
        "display(out)"
      ],
      "execution_count": null,
      "outputs": []
    },
    {
      "cell_type": "markdown",
      "metadata": {
        "id": "Gl8L8V_e41js"
      },
      "source": [
        "---\n",
        "# Section 5: Reflecting on what models\n",
        "\n",
        "*Estimated timing to here from start of tutorial: 40 min*"
      ]
    },
    {
      "cell_type": "markdown",
      "metadata": {
        "id": "XZZLqPHy41js"
      },
      "source": [
        "## Think! 5: Reflecting on what models\n",
        "\n",
        "Please discuss the following questions for around 10 minutes with your group:\n",
        "- Have you seen what models before?\n",
        "- Have you ever done one?\n",
        "- Why are what models useful?\n",
        "- When are they possible? Does your field have what models?\n",
        "- What do we learn from constructing them?"
      ]
    },
    {
      "cell_type": "markdown",
      "metadata": {
        "id": "t3b_2qBc41js"
      },
      "source": [
        "---\n",
        "# Summary\n",
        "\n",
        "*Estimated timing of tutorial: 50 minutes*\n",
        "\n",
        "In this tutorial, we loaded some neural data and poked at it to understand how the dataset is organized. Then we made some basic plots to visualize (1) the average level of activity across the population and (2) the distribution of ISIs for an individual neuron. In the very last bit, we started to think about using mathematical formalisms to understand or explain some physiological phenomenon. All of this only allowed us to understand \"What\" the data looks like.\n",
        "\n",
        "This is the first step towards developing models that can tell us something about the brain. That's what we'll focus on in the next two tutorials."
      ]
    }
  ]
}