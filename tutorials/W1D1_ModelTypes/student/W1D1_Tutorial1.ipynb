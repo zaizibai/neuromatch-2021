{
  "nbformat": 4,
  "nbformat_minor": 0,
  "metadata": {
    "colab": {
      "name": "W1D1_Tutorial1",
      "provenance": [],
      "collapsed_sections": [],
      "toc_visible": true,
      "include_colab_link": true
    },
    "kernel": {
      "display_name": "Python 3",
      "language": "python",
      "name": "python3"
    },
    "kernelspec": {
      "display_name": "Python 3",
      "name": "python3"
    },
    "language_info": {
      "codemirror_mode": {
        "name": "ipython",
        "version": 3
      },
      "file_extension": ".py",
      "mimetype": "text/x-python",
      "name": "python",
      "nbconvert_exporter": "python",
      "pygments_lexer": "ipython3",
      "version": "3.7.10"
    },
    "widgets": {
      "application/vnd.jupyter.widget-state+json": {
        "6d0137bf4d3d4448ae8f954cd2b98f61": {
          "model_module": "@jupyter-widgets/controls",
          "model_name": "TabModel",
          "state": {
            "_view_name": "TabView",
            "_dom_classes": [],
            "_titles": {
              "0": "Youtube",
              "1": "Bilibili"
            },
            "_model_name": "TabModel",
            "_view_module": "@jupyter-widgets/controls",
            "selected_index": 0,
            "_model_module_version": "1.5.0",
            "_view_count": null,
            "_view_module_version": "1.5.0",
            "box_style": "",
            "layout": "IPY_MODEL_10a5739270754fb79a84b7cbc706d82e",
            "_model_module": "@jupyter-widgets/controls",
            "children": [
              "IPY_MODEL_3e3d3c7d15bf445e99e003f39361b7ce",
              "IPY_MODEL_b86ec34b846548aeb444559b084bb2a0"
            ]
          }
        },
        "10a5739270754fb79a84b7cbc706d82e": {
          "model_module": "@jupyter-widgets/base",
          "model_name": "LayoutModel",
          "state": {
            "_view_name": "LayoutView",
            "grid_template_rows": null,
            "right": null,
            "justify_content": null,
            "_view_module": "@jupyter-widgets/base",
            "overflow": null,
            "_model_module_version": "1.2.0",
            "_view_count": null,
            "flex_flow": null,
            "width": null,
            "min_width": null,
            "border": null,
            "align_items": null,
            "bottom": null,
            "_model_module": "@jupyter-widgets/base",
            "top": null,
            "grid_column": null,
            "overflow_y": null,
            "overflow_x": null,
            "grid_auto_flow": null,
            "grid_area": null,
            "grid_template_columns": null,
            "flex": null,
            "_model_name": "LayoutModel",
            "justify_items": null,
            "grid_row": null,
            "max_height": null,
            "align_content": null,
            "visibility": null,
            "align_self": null,
            "height": null,
            "min_height": null,
            "padding": null,
            "grid_auto_rows": null,
            "grid_gap": null,
            "max_width": null,
            "order": null,
            "_view_module_version": "1.2.0",
            "grid_template_areas": null,
            "object_position": null,
            "object_fit": null,
            "grid_auto_columns": null,
            "margin": null,
            "display": null,
            "left": null
          }
        },
        "3e3d3c7d15bf445e99e003f39361b7ce": {
          "model_module": "@jupyter-widgets/output",
          "model_name": "OutputModel",
          "state": {
            "_view_name": "OutputView",
            "msg_id": "",
            "_dom_classes": [],
            "_model_name": "OutputModel",
            "outputs": [
              {
                "output_type": "stream",
                "metadata": {
                  "tags": []
                },
                "text": "Video available at https://youtube.com/watch?v=KgqR_jbjMQg\n",
                "stream": "stdout"
              },
              {
                "output_type": "display_data",
                "metadata": {
                  "tags": []
                },
                "text/html": "\n        <iframe\n            width=\"854\"\n            height=\"480\"\n            src=\"https://www.youtube.com/embed/KgqR_jbjMQg?fs=1&rel=0\"\n            frameborder=\"0\"\n            allowfullscreen\n        ></iframe>\n        ",
                "text/plain": "<IPython.lib.display.YouTubeVideo at 0x7fe3c3a5e650>",
                "image/jpeg": "/9j/4AAQSkZJRgABAQAAAQABAAD/2wCEAAUDBAkICgsICAgICAgKCgoICAgICggICAgICAoICggICAoIChALCAgOCggIDRUNDhERExMTCAsWGBYSGBASExIBBQUFCAcIDwgJDhINDg8SEhISEhISEhISEhISEhISEhISEhISEhISEhISEhISEhISEhISEhISEhISEhISEhISEv/AABEIAWgB4AMBIgACEQEDEQH/xAAdAAEAAgMBAQEBAAAAAAAAAAAABQYEBwgDAgEJ/8QAWhAAAQMCAwMGBgsMBggFBQAAAQACAwQRBRIhBhMxBxYiQVFSCBRhcZLSGCMyM1RVgZGT1OIVNUJzdZShpLGytNEJYnKCwfAkNjdDdLPh8Rc0VoO1JYWio8T/xAAaAQEBAAMBAQAAAAAAAAAAAAAAAQIEBQMG/8QALBEBAAIBAwIDBwUBAAAAAAAAAAECEQMEIRIxBUFRFCJhgbHB8BORodHxI//aAAwDAQACEQMRAD8A4yREQEREBERAREQEREBERAREQEREBERAREQEREBERAREQEREBERAREQEREBERAREQEREBERAREQEREBERAREQEREBERAREQEREBERAREQEREBERAREQEREBERAREQEREBERAREQEREBERAREQEREBERAREQEREBERAREQEREBERAREQEREBERAREQEREBERAREQEREBERART/NSfvw+k/wBROak/fh9J/qIIBFP81J+/D6T/AFE5qT9+H0n+oggEU/zUn78PpP8AUTmpP34fSf6iCART/NSfvw+k/wBROak/fh9J/qIIBFP81J+/D6T/AFE5qT9+H0n+oggEU/zUn78PpP8AUTmpP34fSf6iCART/NSfvw+k/wBROak/fh9J/qIIBFP81J+/D6T/AFE5qT9+H0n+oggEU/zUn78PpP8AUTmpP34fSf6iCART/NSfvw+k/wBROak/fh9J/qIIBFP81J+/D6T/AFE5qT9+H0n+oggEU/zUn78PpP8AUTmpP34fSf6iCART/NSfvw+k/wBROak/fh9J/qIIBFP81J+/D6T/AFE5qT9+H0n+oggEU/zUn78PpP8AUTmpP34fSf6iCART/NSfvw+k/wBROak/fh9J/qIIBFP81J+/D6T/AFE5qT9+H0n+oggEU/zUn78PpP8AUTmpP34fSf6iCART/NSfvw+k/wBROak/fh9J/qIIBFP81J+/D6T/AFE5qT9+H0n+oggEU/zUn78PpP8AUTmpP34fSf6iCART/NSfvw+k/wBROak/fh9J/qIIBFP81J+/D6T/AFE5qT9+H0n+oggEU/zUn78PpP8AUTmpP34fSf6iCART/NSfvw+k/wBROak/fh9J/qIIBFP81J+/D6T/AFE5qT9+H0n+oggEU/zUn78PpP8AUTmpP34fSf6iCART/NSfvw+k/wBROak/fh9J/qIIBFP81J+/D6T/AFE5qT9+H0n+oggEU/zUn78PpP8AUTmpP34fSf6iC5oiLJiIiICIiAiIgIiICIiAiIgIiICIiAiIgIiICIiAiIgIiICIiAiIgIiICIiAiIgIiICIiAiIgIiICIiAiIgIiICIiAiIgIiICIiAiIgIobHMd8VeI91nuwPvny8S4WtlPd/SsDncPg5+k+wouFoRVfncPg5+k+wnO4fBz9J9hDC0IqvzuHwc/SfYTncPg5+k+whhaEVX53D4OfpPsJzuHwc/SfYQwtCKr87h8HP0n2E53D4OfpPsIYWhFV+dw+Dn6T7Cc7h8HP0n2EMLQiq/O4fBz9J9hOdw+Dn6T7CGFoRVfncPg5+k+wnO4fBz9J9hDC0IqvzuHwc/SfYTncPg5+k+whhaEVX53D4OfpPsJzuHwc/SfYQwtCKr87h8HP0n2E53D4OfpPsIYWhFV+dw+Dn6T7Cc7h8HP0n2EMLQiq/O4fBz9J9hOdw+Dn6T7CGFoRVfncPg5+k+wnO4fBz9J9hDC0IqvzuHwc/SfYTncPg5+k+whhaEVX53D4OfpPsJzuHwc/SfYQwtCKr87h8HP0n2E53D4OfpPsIYWhFXKPagSPZHuCM72svvL2zEC9smvFWNAREVQREQEREBERAREQEREBERAREQEREBERAREQEREFM259/b+Kb+/KoBT+3Pv7fxTf35VALFkIiICK6VXJTj8VJ905MGr20AgbVmrMR3IpntD2zlw/3eRwdfsKpaAimtj9lMQxiY0uF0VRXVDY3Tuhp2GR7YWOY10jgODA6Rgv2vHavPavZutwqc0eJUs1HVNa17oJ25JAyQXY4jsIQRKIiAiIgIrzyKcl9dtbWyYdh01HBPFTPrXOrXzRxGKOWnhc1pghkcZM1Sw2LQLB2vAGsbUYPJh1XU4fM6N81JUz0croi50TpaaV8Ujoy9rXGMuYSCWg2IuBwQRqIiAi2ByJck9ftdUzUeGzUUEtPB4zI6ufPGwxmRkdmGCCUl+Z40IAtfVUzHsNfR1E9HKWOkp5paaR0ZcY3Pge6N5YXNBLCWm1wDa2gQYSK67M8k+0GJ08ddQYNX1dJLn3VRDEXxybt74pMpvraSN7T5WlSX/gTtX/6dxP6E/wA0GuEWx/8AwJ2r/wDTuJ/Qn+aoeMYdNRzS0tVE+CogkdDPDIMr4pYyWvY8dTg4EfIgxEREBERAREQEREBERAREQZeD+/w/jY/32rY61xg/v8P42P8AfatjqwkiIiqCIiAi/Y2FxDWgucTYAC5JPAADiVb8E5PqycB72iNl+k0uYJcn4TgHEN0Hlv5Fha9a95wyisz2U9FsvENh6FhayOpLix2abpNLnMtcNabho4gE6/OvMYFTNIiYynvYOdvHPEuugzNadG6g2uPnK8Lbuker1jb2lrhFtNmwtPMLhjDduu4llzBw6w2Xo28/b5LqnbSbMGma6WB5mhY7JK12UTQOJsN61pOl+sdoTS3enqTiJ5L7e9YzKuoiLaeAiIgIiICIiAiIgIiICIiCmbc+/t/FN/flUAp/bn39v4pv78qgFiyEREH9VNgH0tTgmE4PVtztxDZ+Jjo3Wyy07KKhiqYteLiyrGnYHnqX8xdudnZcIr6vDKi5lo6mWlc4tLBJuXua2VrTqGPaGvHG4eOK7R5V9sjgFDsHipNooGUwqbBzr0c+G0kNXZrdXO3EkhA16Qb2LXnh88n8n3bocRoYjKcaZHShseu9xGnMUMYzXygyQy0jW3IvunntsF1/o/8AZ6PDMNqMeqmlsmJ1sGFUF8t3wxyBjnRdeV1RJLmB6sPvbTXT3h7f60z/APCUf/JW9drq2LCMc2M2KpHAxYe6OtqyAAJKgw1EEEht7mVxNdK4W18aadFo/wAOqndNtbLFGLvkp6GNg4Xe+MNaNeGpCDXHJbySY5tKXnCKB88Mbt3NVSOjgpYn2BLDLM4NfIGuaSxmZwD2m1iFadufBo2qwiF1XLhzaunjaXzPoJo6p0TRa7nQi0zmgEkljHABriSBqt8eGJj02x2C4PszgEsmHwysmE9TSvMFS+KiFPnbniAc11RPVPlke0tLjGQbte8HU3ge8quKUmP0dBPX1VTQV8ppJ6apmlnYJJWu3E0IlcRFKJt3dzfdNLgeogOfVs7kr5B9odpIfG8OoQ2iJc1lZVyMpoJXRuyvEOf2ycBwc0uY0tBje0kEWV88IjkvgZtxDhNM3c0uMVFDUZIQG+Lsr5tzWOjB0AEkVTKABYBwAFgrr4ee3VXhc+H7M4TNLhuHwUEdTJFRPfTCRrnzU9NTO3VneLwx0pIZfKTMCQSxpAZ/gbcleM7M7S1DMXonQMlweqEFQxzJ6aYtrcKu1ksRLQ+2uR2V1tbWXL/LT9/sY/K+JfxlQulf6PvlExetxKqwetxCorKFuHyV0TKt76iSCeKooYQIZZSXshLKh9475bgEAG99O02yseN7cz4XP7xUbQ1wqAC5pfTRVlTLURtc0gsc6KKRocOBcD1IMPky8H3aTaGEVlFQNion3MVVWyMpoprW1ha68srNT02sLOiRmuLKvcqXJdjGzMrIsYonU4lzeLzscyamnye63csRLc4uCWOs4BwJAuF2N4VHJ5tfjVXT02z5FLglLTMZHDBWsoGSVBJzufFG9uZkcbYY2Bws3K/LbMb+e1mxOLybAV1DtUBLiWGiWto6l0zKyYxUeSeGUzanebt9VTEk5t2TrrdBrL+jb+++I/k0fxVOueOU777Yl+Ua3+JmXQ/9G3998R/Jo/iqdc8cp332xL8o1v8AEzILLsby57TYPSRYbhuLPpaKDebmBtPQyBm+lkmk6U1O57rySyO1J91bhYLr3wPOUfF8dwfFqvFa59XUU0jmU0hipojE0Uu8ADYImtd09ekCv59rtnwAPvBjn45/8Eg0L7JjbL4+l/NcN+qqFx/k+2jxChm2xqqTxjD6h76upxJk+HkvklqDDLI6mgl3rP8ASCQQIxlsSQALrXS7C8AvHYcVw/F9ja8l8M8MtTAwlxPi1WwUteyMn3vI51NI0N/CmkdoQSg49Vx2z5McZwakpcSxOh8UpK4MdRvfPRulmEkQmaTTxzOnitGWk52NylzQ6xICsnJLyUz1+1MezlXGbUtbK3E7B2TxXD3uNSQdC1kojEbX9tRGdbq1+HZtyMVx40EEgdR4RH4ixrC0x+OOIfXubbVrg8RQOHUaPz3CkYlyE7T076OKTB5TJiJIoGRT0VQ6bKxsj3O8XnduI2se1xfLlaAdSFZNovBZ2toqc1Zw6KpDWl8tPR1EVRVRtDS51ogQZ3C1ssOdxJFgV0p4WXKVX7OYJhTsKMUFZWRCm8fLGSVFLTtgppJmUwkaWtdK5sQLjewj0GbK5mj/AAQeWHGxtDSUFditdiFFiDn008VfUT1mSTdSvgmgM73GGXetYCRo5rnAg2aWhzcto8lvIJtHtHCKugoBHROzBlZWSMpoJS0gHcB/tk7b5hnYwsux4zXFlsfl85NqeflAhwyNoZTYtUUVXURsuzKypP8A9RLC0aSPMFTJfvS9S3P4U3J5tbi81JQbNBlJgVJSxsbDBVsoA+oDnNyuYx7c0EUMdO1jSLNvJbjoHHHKryUY1sw9jMXojDHKSIKmN7J6WYt4tZLESGvA1yPyusL2tqq7sjs3W4vUx0GG0stZVym0cMQBcQNXOcSQ2ONo1L3ENA1JC7krth8ZdsHiuHbW2nraCOqraCczNrJhT0MUdXTufPmc4yCRtVDrY7ohvBag/o8NoaCjxmqpqt0cVXW0jYKCaTK0PeyZr5aNjibiSX2t4bwd4tbjlBCvTeCRtc2LeikonvtfxdtbTiYG3ubvIhzdXu7eVaKrKd8L3xSDLJG50b23ByvYS1wuDY2IPBdG8tXJrt3s/UVOJtxPF8QpM8kxxTD6yqErIi5zs1VBFI2Wlys1dlaYmcA6wXONTM6RzpHuLnvcXvcdS5ziS5x8pJJ+VB5oiIMvB/f4fxsf77Vsda4wf3+H8bH++1bHVhJERFUERfrW5iGjiSAPOdFBfNi6CKjidW1DWulI9oB4sabNzD+sS8C/81+Vm3LbucB0m6tzXsDlFyzMLAE3v5vMpDGqCSSjAaLse1rmlrXXIaCLHXTQix6/0KhtwqQExyNJadcpb0nD+r18Osdq52pMWnMuhp1mI4Wen2tcGGSd8IcALMYyNuV1yAC4gkixvxOt+NgvmGojnZni8XZK4AeMTODGhzeB1sZSBbjoBbgqbiGz75LtaHMc4Zt3axvoOkc3YSeHWsvANjJXOb7YdLtfexAGa1mjsI0+Qryv0YznDOtb57JhmNtoC4y1b6osA9rpy+MPcLm29cAMlr+4vc34cFN4HtKyva+SdpErScrbNbvKQ2a+KS7ss4sDcOsQQbeTIrtkskcLXNjbC17N68X1ZmuRc6u6RDidf0KFxPBwyYPhjYx7GhslgGGxZK3I8j3OaSVotfQCx4LyiaWjjv6srVtWee3oxNs8GihLZ6YPEEnFpuWscRcGN3XE6zrX4EEeQVtXTD4fapKeVrnQ2LTnN905zc7ZGnzlrh/Z1uqbLGWktcLOaS0jyg2K6W11JtXE8zDR16YnMeb5REW08BERAREQEREBERAREQUzbn39v4pv78qgFP7c+/t/FN/flUAsWQiIg628Mn/VbZL/AISD/wCOolujwbsRotqdnMHrMRyy1GA1IzOe7SOswyCWGnmlc7V/+i1EE5J/Dsdcq4P2y5ScXxilpMPxGt8Yo8PY2Ohh3FJDuGMjZE0Z4IWyS2jjYLvLuF+Oqqsc72gta97Wu901riA64sbgGx0Qb55Otrzj3KFTYsb5KrFS6AEWc2liifDRtcO+KeKEHyg8F9+HXO6LayWWM5ZGU9DIx2hyvZGHNdrobEBaT2Ux+qwqqhxCgl3FZTv3tPNkil3b7EZskzXRu0J0cCFl7e7Y4hj1U7EMVqfGqx7GRum3UEF2RDLG3JTRsjFh1ht0HXnhfYDNtngmD7TYBDJXxxNlM9NTN39SyKtEG8OSMlzn089K6KRjA4gyE+5Y4jVXgfckuLVOP0lfU4dV0mH4fIaueoqoZadrpY2P8Xhg3rRvpTNuyQ33LQ4m3RB1hyYcq+ObNl33IxCSmikcHzUzmxz0srxlBc6GdrmNkLWtaXsyus0C+gVn258JHarF4HUk+J+L00jck0dDFFSOlabXa+WMb4MIuC0PDXBxBBBsguXLlypUsm3lNisUjX0GE1VDSPnjvIJYKObPXvjDR0rPmqmNLbh27a4XzK9+HjyXYpitbR47hFHPilM+iZRzMoI3VUsTopZpoZwyHM+WGVlVYOY0hu4JcRmbfjRbY5OvCG2mwKnbQ0eINko4xlggrIoqlsDepsL3jeMjHUzNlHUAg6C8BTkixTBqybGMWi+55qaGWko8PqLNr5o3T0U01VJDfNTxMMUTMrwH3m1DRlz6C51NwTbioxWQEw020Nc+ewLneLPramOpLAPdPEMkhA7QFgf+Pu1H3QdjAxiTx91O+iEhgo5IYqSSSGV8MNPLA6CEF8EJLmsDjuxcnW+vcaxKatnmrKl+8qamaSpqJMrGbyed7pJX5YwGNu9zjZoAF9AEHZXhkbLY/UzU+0ezFXidZhdVSxb6PCKipkEb2i8NXHDTSXkp5YHx9NjSAYXFxGZt+cZsM2yqKaokmZtK6higklrZKp2Ix0gp2D20SuqXCN/RPuNSRfQr45MeW3aHZyMU+GYk9lIC53ic7IqmmBdmLt22dpMF3OLjuiy51N9VLbeeEZtRjMEtHVYixlHPGYZ6ampqWFksbr52ufuzNZwNiA+1hw4oNnf0bf33xH8mj+Kp1zxynffbEvyjW/xMyyOTblDxbZyaSpwas8Tnmj3Er9zS1GeLM1+XLVRPa3pNabgA6KvYpXSVM0tTO7PNNI+eZ9mtzyyuL5HZWANbdzibAAC+iDGXbPgAfeDHPxz/AOCXEyu3J/yr45gFPPR4TX+KU1U4uqY/F6KfeOLN2TmqYHvZ0NOiQgpKvPINtsdnsbocVLi2GKYR1gGY5qKoBiqui33wiKRz2jXpRsPEBUZSOzODT4jVU9BSsz1NVNHTQN1AMsz2sZmIHRbd1yeoAlB/SfbfCsP2Wkx3btojfU1GG08bGu0a6phBjjYyQE2jqpBhbCGjjBm1Ll/M7EKySolkqJ3ukmlkfNNI7V0ksri6R7j1uLnE/Kut/Du2iGGYfg+xsFRLMaemgqa2V5dvJoqSI0lDviOi8yPZUyuaeBjiNvclcgoO8/DK2CxTGsCwiXCqOSuNE0S1MMHTqRFLTQtbJFCOnOA5li1l3dIHKRmI0x4GfJVi020FLiNTh9XSUOHmSomnq4Zadr5d1KyCCHesG9l3r2OIHuWscTYloO3/AAxNscRwLD9na/CayWiqmtkj3kWVzXxupaUuimjka6OeIlrXZJGuF2NNrgEc6bb+EntVi9O6inxIQU8jTHO2ihipXzsNrtfLGN61pAILWOaHBzg4EGyCx8s/KvCdumY5TuFRRYZV0lOx0IBM9NRFra3dEnK/M91WGOvYgsPBbZ8MXZrHa91JtLstWYlWYZPSRMngwieqJFnPfDXMhpn3likila0lrbs3F3aO04jWw+THlo2g2cZucLxJ8dKSXGjnZHU0uY5i4xxztduCXOuTEWFxAvdB7uwzbOpp6h8jNpnUUVPNLWvqXYiykbSxxudUCZ1Q4Rubuw67CSXC9gVW9i9gsWxqOplwrD569tG2N9U2mySTMbOZBFkgDt7OTupNI2uIy62uFeNuPCR2pxeCWjqcRjipJ4nwVFPTU1NE2aKUFsjHSGMyhrmuIIDwCCqdybcpGMbOSSTYNXPonzBjZwI4JmTNiLjGHsqI3sNs77G1xmKDqTwMdr9s3Yk3CsUp8TqcHbFKZ6jFYZ2yYe5jHOg3dTUtEkpfLu4hA5zrNcXNDQxy5z8JiioqfaTFocNEbaRtW7KyK27jnLGOrI2AaMayqM7cg0blygAABWbaXwo9ra6B1McSZSse0skkooIaedzXCxyzAGSF39aIscO1aVJQfiIiDLwf3+H8bH++1bHWuMH9/h/Gx/vtWx1YSRERVBfrTY3HEaj5F+Ig3xyWQHFo4baxxvPjDXcDu2gm44FrnFgt2O+a1YvscBnkip4nPtmDBljzcLtL2tN/m6gOCp/gnVQMlZTED3EUzXa34va8dluixb0rahjej18PlP8A0XI3k9M4h2tjHVXLn6PZOoD5JZWNbM8m7SL7pl9A3q11PXoG9hU/sxsgW6yC46/N2eX/AKrY1djFNCbvMYAHSc+wAt23UezbPDnnI2aNznGwyatHlJvYBcXVveXXrSsY4YeP4ZEYsugyDQf99NeC0xtzCWOMsLy1zxu3gXAc0OJ4douB/fat81ETJQTG8OYeD2nMAfkWpuUGnFPI2OWM5nEvAjGdsrLHPYNBLXZM3V1Ada9djaerpae+px1Khg9SQA2UWzsEeozgvYTka7ycezrCre1UYbUyWFgcjgP7UbCf03Vwwpkk87IaSCWpyuBlAbfdxkN6T3ONoTYNdZ5bc3sqvt5A6KtmiewsdHkjLXCx6MbLHzWtbyWXd22IvMfBxdeJ6YnHGe6DREW+1BERAREQEREBERAREQUzbn39v4pv78qgFP7c+/t/FN/flUAsWQiIgIiICIiAiIgIr3yQVmzML5ztTSYtVRFkYoxhToWuZIC/embezx3aW5LWvwK6H5I+T/k92nir56DDtoYm4ZCyoqRVzxRukZI2oc0QbmpkDn2ppPdFo1brxsHHqLeO0uL8m7qWpbh+FbUx17qeZtDJUPpDTsrDG8Uz5w2ucTCJchdYE2B0PBaOQERXjke5MMQ2qqJqPDX0rJYIDVymrkfEzdNfHGcpjjeS7NI3SyCjoiICIiAs/Z7GanD52VlDUS0tVEXGKohcWSxl7XMcWOGrSWPcP7xUhydtw44hSjGnSNwrejx50OfeiCxuWbsF9724C69uU9uFDEqkYC6V2EZ2eJOn3m9LN1HvM+9Af77vOI4WQRu02P1mJzurMQqp6yqeGtfPUPdLK5sbQ1jS5xvYNAFlGIvaiaDIwEXBe0EHgQXDQoJvanbfFcVjigxLEqythp//AC8dTK+VkN2tad2HHo9FrR8iry6C8PPZ2hwzHqenw2hpKCB2FQTOho4YqaJ0rqrEGukLIWhpeWxsF7XsxvYufUBERAREQEREBERBl4P7/D+Nj/fatjrXGD+/w/jY/wB9q2OrCSIiKoIiINi8l9QcPllYKjJLUwlntbHuLGxtE2jiACXMuPlGqkanaWupDcTVEgdHv2GUPmiAuSL9cd2tOlxxGnEKN5HaJtfiNPa5fBTyunhIA3scUbomPjeXZcw38d2ut7k2JutsVWCCtlFPuS3Od3eQg5GPuJXNYzQvEeexJ0Nj1LnbqYi/MZdjZUtanuzMYa929dWiWJlVBKzewxTwxOdHeSR+czR2bcXZ0LtuTqLHVR0NJVysidTysjJLt9E4agkjKxjY+lwFtSLarfvKHgbarI9ozSxHNT2yksfrbR3UdPmB0IBFSwCrsdMrJW+7LYo2yNcPdD23MAb36iuV7THaKxEurXZzaMzMz81KwyjrqeV0dS2YRyQxmERzlscMkD5d44Bzi9zpGyxi1ne9akaK3HZVhp5JLOLszpIor5Hlrs996Wnpuyvd0eBGlutTrSJnl7nXeO/robG3YG6DQdgWbG7MNNLGxH+HmssPar8Ujj1x5vO2zpEza3Mz/DX2FU0NNJHHUNkibMC8bprWtay7Q1r72IZdzrdlitZ8rzA3EHMvd7Io45CTc5m5hHmPW7c7hdB4i+lijkrqtuVtM0kS9xsfSsxt7Pe5+gBB6VrLljGsQfVzy1Mnu5pHykXvlzuJDAesNFm+ZoW54XW19S2r5Rx+fs1vE9StNCujHfOf2z9c/wAMRERd18+IiICIiAiIgIiICIiCmbc+/t/FN/flUAp/bn39v4pv78qgFiyEREBERAREQEREBdW+AP8A+S2p/wCAp/8AlYsuUl1d4A//AJLan/gKb/lYsg5RXSnKDTsHJls/II2CQ4xOHSBrQ8jfbSaF1rkaDTyBc1rrrCdjazark5wvD8DbDWV+H4pPNVUu+hhkaN/i5MYdM5sbZd3iNNLle5t2E2ubAhWvBHp2P2f23c9jHOZgwLHOa1xYfEsf1aSLtOg4dgVs/o7Nrqh0ldgu7pvFYaabEmSbs+NGeSSkiLHy5rGDK2+TLx61PckvJkdmNmtq6atq4ZMaqMElqMQw+B7ZW4bT+I4v4hHK9os6okvVOdYkWYy1xZz9bf0eGJQxY7VUssjY5KvDJoqYOIBlljmppHRRgm75N02WSw/BheepBR8d23xLlAxHCMKrYsPpSavxWKSgpzBlZiElKyeWUOlcJN2yAOAFuDuN1t/lw5YHbC1o2Y2SoMPooKKGA1s8tOJqiqqZ4o5hvXkje+0yQ5nuu4lxFwGgLTA2WxfYLGcNxDGaF8McNcJojG+CVtbBQyweN+LFr+uKZti/L763hYgba8KDkZxPaLFBtLszEzGsNxWCnl3tNNTt3M0EMVNlLZnsO7cyBjr6lrt612UgAhictWGUW1WyUO3MVDTYdjFPOKXGG0bd3T1YM7abeFvEy55aWRrnEuDZXsc5+VjhauTXF8Nwrk9pcVxHDYsSNPXTSU1LI1m7nrfG6llMKlxabwMLjIQb33TRrwUBytNZshsPDsjWywux3Ep21tXRwyNlNHAKmOpzyll2gDxami42e/fFheIyVi4l/srpvym7+OqkEBsLypV2121uAz4pBQxmnnFNHHSRSRxGJxlkyvbNLJexNhrwA86rvhNVMVFtpXTmmhnhp62jndRva0QTxxQUb308jcpbu3hpadDo46FQ3gsf60YP/wAaz91621jdLQzcqTosUELqN1cy7ai25fUDDGGhY8O6Ls1WKZoadHFwGt0Fj5I+WXbHEa+gjGzLGbOVVTT00rKPCKxlBDRVEjI3VDagBzA2ON+cuJyEMNwBw0h4UWAUuGbWYhR0MDKalZPSSxwRANijdVUlHUStjaNI497PIQxtg0EAAAALorbLZzbZ21BxXEcS+5+ytFiENX4w7E2UWFDB6apZI2GSnjlDn1T4Ru3b2OzpCQXZMpWpfDh2SraXaaXFZoHNoMQfR+KVHRLJH01JSQTRGxu2RroXGxA0IKDM/pGf9Yqb8j038Zia5pXS39Iz/rFTfkem/jMTXNKAiIgIiICIiAiIgy8H9/h/Gx/vtWx1rjB/f4fxsf77VsdWEkREVQREQXHkXx1uH4rTzSECKTPSyk8A2oblYT2NEu6J8gK3zS4vLJWSNiABbG5hNj0XG3Dy2BH95cqFbz5NMVlxGHNT1G4rmMEFQ8ta/wBsDSIahzT7pkjWgO4HMx2o0XP3tJnFvLPLr+Ga8RFtP17fdLYtiWJB7t1MW2sCctyT1lubqUe9kkTTI9xMriXuN7OLnHU2PV5D2KZrYnvjAqaetfVMG7mAkZFBNKIwTNEWkuEBedL62vcdtPxbBnVQySQQQRAnOI5XzSuBy9EvytDODuBJ6XVZcjW04rPpDu0taY4z9IWHDsSe46nW17jh5fMf5hWvAKzOOlxt89uB/SqNh8QaMo0A0+SwAGvVYKw0FSI7X0WvXmXnrW45Uzl/qzFHFTjNaeWWV3SIbaIxlt29ZzPv5LLTq274QVOXR0dSB0c08Tj2F4hewH0H/MtRL6PYxH6MTHx+r5re5/WnPw+giItxqCIiAiIgIiICIiAiIgpm3Pv7fxTf35VAKf259/b+Kb+/KoBYshERAREQEREBERAWZh+KVFMHinqJ4BIMsohkkiEjRcBsgY4Zx0naHvHtWGiApPANoa7Dy51BXVlC54DZHUc81M6RovZrzC9pcBc6HtKjEQZ0eMVTd9lqqlvjN/Gssso8ZzZ83jFne3X3kl81753dpWLTzPjc2SN7o5GOD2PYS17HtILXsc3VrgQCCOFl5oglMf2irsQLDX11ZXGMERGsqJ6kxh1swjMz3ZAcrb27o7F94DtRiOHtcygxGvomPOZ7aSpqKZrzYC7xC9ocbAC57FEIg9qyqkme6WaR8srzmfJK50kj3Hi57nElx8pXqcTqDCKU1E5pgcwp95JuA65OYR3yB1yTe3WViIg9aSpkhe2WKR8UjTmZJG5zHsd2tc0gtPlC/a2qkneZZpJJpXavklc6SRxAABc55JcbADXsXiiCWxnabEK2NkNZiFdVwxWMUVTUzzxxEAgGNkry1mhI0A0K+MW2hrqtkcVXXVlVHAMtPHUTzTMgaAAGwtkeRELACzbcAoxEGVieIz1ThJUzzVEgAYHzyPleGgkhodISQ27nG3lKxURAREQEREBERAREQZeD+/w/jY/32rY61xg3v8P42P8AfatjqwkiIiqCIiApjY7aCXDKllVF0g3oyxXsJoTbPGew6Ag9TmtPUodfRYRqdOvXS/VoOJ17FJjMYllW0xOYdQYuwV0EVdTSAwTxtkbm0vnAIzDWzxwI6iCoGHDZG6yEAdgI4f4Kl8lu00zWw4MOm6aWQUhcQGseIpp5YSe57U8g96S3A3Uhj1fVRvLJI3RvBsQ42A+Y2PnXA32hMTh9Jtd310hN1crYzpx6uC+qWbO8EnQcP8/KqjT1EjyLkuceJOgVlwdjtL6dq58x0w9qz1zmWXypYbJV4RMadwFTTWrIbgEPMFzJC4HRwfHnbY9ZaufROHOcAMtibN7AdRbtsDZdAbe4sKXD6g5rF7DE3tzS9A28wJd/dK5uo43SOzNJDnSWYBexuQLfM5dnwm1uic9s8fdyPFK1jUjHfHP2SiL7qIixzmEG7TxsQHA+5c0ni0jUL4XWcsREVQREQEREBERAREQfLo2nUtB84B/avncs7jfRH8l6Iorz3LO430R/JNyzuN9EfyXoiDaPgtbGYdjeLyUWJ0jKqmbh1RUtjzzQ2mjqKBjH5qd7H6MmlFr26XDQW6f9jrsl8Ss/O8S+tLQHgRff+X8k1f8AF4Wu1VFap9jrsl8Ss/O8S+tJ7HXZL4lZ+d4l9aWw6LaCjnqZ8PhqoJK2lEbqulY9rp6dszWvhMzAbsDmuaRfiCvOq2moIquLDJK2mbiM8ZmgoTIzxqWFu8vKyK+cxe1S9K1va39hQUD2OuyXxKz87xL60nsddkviVn53iX1pbWRBqn2OuyXxKz87xL60nsddkviVn53iX1pbWRBqn2OuyXxKz87xL60nsddkviVn53iX1pbWRBqn2OuyXxKz87xL60nsddkviVn53iX1pbWRBqn2OuyXxKz87xL60nsddkviVn53iX1pXHANt6KuxCuweB0hrcMEBrWujc2NnjbN5DkedJLt424KSx3aGjoDC2tq4KU1MzKWlE72xmoqZNI4Isx6crupo1KDXnsddkviVn53iX1pPY67JfErPzvEvrS2LtHjtJhsDquvqoKOlYWh9RUyMhiaXuDWAueQAS5wAHaVm0k7JWNljcHRva2Rjhwcx4DmuF+oggoNW+x12S+JWfneJfWk9jrsl8Ss/O8S+tLayINU+x12S+JWfneJfWk9jrsl8Ss/O8S+tLaywNo8Whw+lqK+pLm09JBNVzua0vcIaaN8spa0aucGMdoOKDXHsddkviVn53iX1pPY67JfErPzvEvrSuOC7dYdVYYzHhUtgwuSPfipqv8AR2sizmPPLn97GYW17Qp3Da2KpijqaeRk0E0bJ4JoyHxywytD45I3DRzHNc0gjiCEGsfY67JfErPzvEvrSex12S+JWfneJfWltZEGqfY67JfErPzvEvrSex12S+JWfneJfWltZEHJHhY8lWB4FhtLU4VhzKWeXEWU0km+qp80DqSvlLMtRM9o6cMRuBfo8bE35s3LO430R/Jdj+Hb96KH8rR/wGKLjxVHnuWdxvoj+Sblncb6I/kvREHwImjUNb8wX2iKgiIiP1o7SAOsnQDylZdJFC46yF3aQMrL90E3LvmCgmEyuN9W8bDhx6N/kN1MSgRtA17ANCDcXPFFe1dWRxA5AGDgDYZ3HtBPSt51gUjnPyTHLZxe2NrXXDHM1dfr3pGo8mo/BtjVQ3rw0us0C73dxo46DUcDw7Co+irTlJia8NsbuOhcblzCG/g2IZY3va+isJLYOxFayDHMML3BrYnvkk7rd9BI0DThZsmv9ldA7YYZHP0nNBI6/wDPUuS8Kc5tdS2Ju3W5PCzQ0DjoNCt/Um0k0UeW28jI9ydcna1vW0eTq8i526jqtj4Ojs9SK159XjBTMa+zW31UtBx4DRVtm1Mcbi4wPJPAWAGvVcn/AAWBiO1k+V742MiHeOpubANBItckgcFyp2tp4dP2vTrGUDy44w97o6Nh6LelIerO8aD+6w//ALVRcGjtJc8GNLhp+HZrWEWOtnOafkWVjZmqniUvc4/hl1r5hdxeXONg02JueGXzLAwqQSEtbI10ri27Wkvs3ouLnOAytIc1oy3vx7Ne5oaMaWnFI8nB19WdW83nzXKGW04Y8Nkikb7lwu0tIbby8D/+K9qjZTOSYJWsudGTE2AJ4NkANx5x8qiqm4kheD7l27Nr8HaftN1aqCoIGR1z2acOPCwXq81PxXCKilPt0Tmg8HjpRnzPbosFbQZXtaCHWI4OaeBB4ggi1v8Aqq/i2EU0t3RAQO4AstkJ6g5hOnZ0beYq9XqYU9F+ytyuLCRmabG3mBBHkIIPyr8WSCIiqCIiAiIgIiICIiDePgRff+X8k1f8Xha7VXFXgRff+X8k1f8AF4Wu1Viycm4xyk0uzG1e11bM01FXJBgsGG4fGf8ASMQrH0VM2OGJou7dguaXvAOVvAOcWtdt7kI5Op8P3+OY25lTtPigEmIT6ObRQHKYsKpCCRHTxBsYdlJDnRN1cGMK1jzDodpNq9ssKxGPNDLTYK6OVtt9S1DKGDdVNO4joSsJPkcHOa4FrnA2PkJ2/rsLrnbEbVS3xSBoOC4m+4ZjOH9IQgucenVNDHAOvd27e13tkbnSBYdruVLEZ8Xl2b2Yw2mr66jhZPildiM0tNhtBvmsdBAdyx0lRO9r2mzOGoscsmTI5OuVCsmxWXZnaDD4cNxllOK6lfSTOqKDEqPMWulpnSNbJG5rmv6DgSd1Jwy2VE5PcXptm9sdo6bGaiKhGMGhxDC6qseyCmqYohUCSKOaUhm8D6rdhhIJMDrX0v8AgxWDaTb/AA+qweWKtosCwyoOIV9Od7S7+ujrIYqVk7BupH/6TG4ZXG+WcDWJ9gm8U5bsSdjeJ7M4XgQxDEKR1MKN2+MFNuJYWy1dZiUzxlp4YTJC0Nbd0hkDRrZT3ItynV+J4hiWAY5h9PQYvhYglk8SmdPSz09Uxr43sL+kwhskLtSbiYaNLSFAcif+uO2P9rBv4WZY/Jv/ALQdpfydhn8Nh6D6g5a8axDEsUwHBMBhq67D6x9P4zPO+HDqejjL2iprpCMxnkeGtZBHcuDZnXtGb3/a7F9pm+KwYThGGTTSUwmrqyvrHwUVJVDIHUscUDH1E9yXkPGgDNTci9G8Gb787YflwfsqVF8rG2z5tqW7OYlj02zGBxYa3EPGYKiHDZsTq3ysDYTXzC9NDl3wtGWkmnlF7ubkC8ci3KVXYpW4ngmM0FPQ4vhLoN8aOV89JUw1bHPilhMgzs6IY6ziTaVvAggRI5UcbxivrqPZXC8OqKLC5zRVmI4tUVFPFU1sdxNS0TaeNziWEEbx12m4Ogc0uofg0YphrdrsfjosRlq6epp6D7nVNdUz1NTiIpYxHVvhnrDva1jJmytDwXDLGMpLQCngr7a4bs4zHcEx7EKfDMQp8crKtza+RtNv4JoqaNksBlsJ83izngMuS2WNwBDgUEx4NmI1NXtVtVPW0L8Nq3MwcVFE+WOoMErKZ7HBs0XQmiOTM14tdr2mwvZZ3hk1UcDtmp55GQwxbTUEs0srgyOKKMudJJI52jGNaCSToACo7wZ9o4MX2p2qxGkbMKWoZhD6d1RE+CSWBtPIyKoEclnthlawSsLgCWSsJAvYS3hfNBl2XDgHA7UYcC1wBBBcbgg6EeRBibKUzuULEo8cqmvGyOFzvGB0MgLW4ziEJLJMVrI3aup43AtjY4X4g2vMx+yeWzlJj2bpYZBSyV9fW1MdBheHROEb6ysmNmMLyDu4xpd1jq5gt0lp/HaWfkzxN2JUcUs2xGKTj7pUkQL/ALhV0haxtVCwatp39FoyixDRGek2DNn+FVVRsn2W2tjc2qwbDsREtXUQB08bKPEnULoq4GIOvE0UuhA1fJE0G7hcJnaLlU2j2dbDX7UYLhrcGlmjgqarB6qoqKjCt9pG+rimitOzN0SYja/AklrXT/L5ytu2Y+5ckdH90IcRrG0sghL3ziI7t2ajZGD4xO5ryGsuA4louLqkeFvt9hWKYBJg2FV9JiuJ4tNQ09BSYdPDWTSObWU85eWwOcY47U72ZnWGZwHavHwiaB1JNsLSvcHPgx3C6d7hwc6F1CxzhfqJaT8qDYFByg4rh2HYhje1mG0mE0dNFFUUlNSVPjtW7eGRppah5yxGqdI6ljblytLptSLaUHbLbXa2u2er8Qq9ncPgwmtwmtPi8NdI/GKKkqaScMrJ2SxtgmY2N7ZHRtLJMt+iHAtVs8NPCZ6vZXEW07XSOi8Xq5GN4mnpqiGSod/ZZG18h8kRUDt3y2bP1my1QylxCGesrsHqaWDDKc76viqJqGVj456eO76eOHpufI+zA2JzgSLXDy2KxiLD+TmCsnoqfEYYcN3klDVgOp6hvjJGSUFpBbrfgdQFY9s+VE4FsjRbRUmHUwDqLCnxYc1xipqeOtip8sERY3oxxNkDWgAaMHBUQf7Lf/tP/wDUsbl6/wBmeHfk7Z7/AJVEgsO2PLhtDQ0nONuzMTNmGyQjPV1W6xeekqHsjirm07btponvkYGxvDn9NpIynMNh8sXKnDgFBT1kVNJiFXiEsNLhNBGd3JWVNUAYml1ju2AEXNjq5jfwgVW/DR/1OxP+zh3/AMnhypnhJUslLBsjtIYZKigwWpppsSZGwymKnqG4e4VRaDYbs0hDXHg+aPUXQTHKRyt7WbM4e7EsY2ewmaJxja2XD66ZzKSSR7A2CujmjzkuDngSwlzQ5gB92COgYH5mtd2gH5xdck+FzyyYPjmz89Dgks2Jkvo6mqqIYJ46Wgh38e68akqI2ZZpZLMbEAXaPJDcuvWtIOg3+y39gQaA8O370UP5Wj/gMUXHi7D8O370UP5Wj/gMUXHiqCIiqCIiAvGtlyMc7sabefqXsozaB5yBg/COvmCBhLi11hfjGO0XDG6H5VJYjUEvY0aNGawHFpA6TSONrm4WHhzTdr9bF44HUgjXhx49a/ZZc07rfgtA1sNT/wBAsu0DyqrBr+svZLfrB6D2jjpYXX5RU9o8oFurhxufL519VA0cRpoGAA8S97GkaeRxWVTjgOFzewJP6RqfnWI9sBjD68AWtGwcO3pLbNLDnaWh5b2cLEf57Fq/YKAvq5XdhDfJoB/ity4TS/JwvfguTr3/AOst3Sj3UM7CpZD0SwNvxyOv+l9lU9vW5HNpg973N6chBAAc73DcrQBoLngeI7FtXEXx00Lpjwa0m5sLho7fmHyrSVVUGaR0shs57i4nsvft/B4Beu2jqnqnyYa04jCLmYWDLI1rozdpuLtfcWLJLa2tcXHC6k6SBl2iMjJla8ZQ1pDTfoPA4O049dgRxWPVzgDtGgLBo55Nwxrf7Zv0uprXnqAOTh8O7BuQ6RxzSEcC4gXA7rABlaOoNAW7LVe2QA6gkh1xe+XQi1rFScFRpd3AeXQn/IsoeKTMRex1tw+XT/PasXEa8ueIGHQavtwvr1W4WVwqaqcQvw0HC4v5B0j5LrBrsUDG3ubnpDtDOrXtJ7TwA7So6smLnshaQAbZjaxsLl2o68rSovE6wvfbRw4AN4XHVrropgYlfWOLxISRcjyfP5dApimlD2hw8vzg2KgsQbpfr42/yFmbOzXa5vYbjzH/ALLKBKoiLJBERAREQEREBERBvHwIvv8Ay/kmr/i8LXaq4O8Fna2gwTF5K3E6jxWmdh1RTNk3c815pKigexmWnje/VkMpva3R46i/T/shNlfjf9TxT6qoyhsOlwWkinlrYqSmirKgMbVVccMTKmpbC0NibUTNaJJgxoDWhxNgAAvHHNmsPrnwzV2H0VZLTOL6SWqp4KiSmeSxxfTvmYXQuLoozdtjeNvYFQvZCbK/G/6nin1VPZCbK/G/6nin1VQXzafZnD8UY2HEqCjxCJjs7I62CGpYx9rZ2CZpDH20uLFeuz2BUeHRCmw+jpaGnBLhBSQxU0Qc73TskLQ3Mes2uVr72Qmyvxv+p4p9VT2Qmyvxv+p4p9VQbDosFpIJpquCkpoaqpyeN1MUMUdRVboFsXjErGh8+RpIGcmwOiU2CUkdRJXR0lLHWztbHUVjIYm1U8cYaI2TTNbvJWNDWgBxIGUW4LXnshNlfjf9TxT6qnshNlfjf9TxT6qg2HhmC0lK+aWmpKanlqX76rlghihkqptfbah0bQ6aTU9J9zqVh7UbIYZiu7OJ4Zh+IGK+5NbTU9UYs+XOI9+x2QOytuBocovwVI9kJsr8b/qeKfVU9kJsr8b/AKnin1VBeZdlMNdUQ1zsOoXVtNGIKWrNNAammhaHhsUEuTPFGBJIA1pAG8fb3Rv4Y/sRhGITMqq/CcNramMBsdRVUlNUTMa0kta2SWMuDQSSBfQm6pvshNlfjf8AU8U+qp7ITZX43/U8U+qoNh0WCUkE01XBSUsNVU5BVVMUMUdRUiFuWEVErGh8wY3RuYmw0CYvgtJWGI1dJTVRp5W1NMamGKc09RH73UQGVp3Uzep7bEdq157ITZX43/U8U+qp7ITZX43/AFPFPqqDZWJ0MNVE+nqYYqinlaY5oJ2Mlhljdo5kkcgLXsI4gghY2F4FR0tOKGlo6WmogHtFHBBDDShspc6VohjaIw17nvJFtS51+K197ITZX43/AFPFPqqeyE2V+N/1PFPqqC37ObBYNhspqMPwbC6GcgtM1JR0tPLkd7pgfDGHBhsOiDbRSeLYHR1joZKujpap9NK2opH1EMU76WoYQWT07pWkwzAtaQ9liLDVa99kJsr8b/qeKfVU9kJsr8b/AKnin1VBtIqs4fye4JTvllgwTCYZKiOSGpfFQ0jHTwzi08MxbEDJFIPdNOjusFVP2Qmyvxv+p4p9VT2Qmyvxv+p4p9VQX7m7Q+K/c3xCj+52TdeIeLweJbq+bd+L5N1u82uXLa6Yhs3QVNM3D6igop6BjY2MopqeCWkYyCwhY2B7DG1rA1uUAWblFrWVB9kJsr8b/qeKfVU9kJsr8b/qeKfVUGxcawilroXUlbS09ZSyZd5TVUUdRTybtzXszxStLH5XsY4XGha09SheUCbEqWkacDw6jr52PYx1DUTCjifRhjw9kMmUsjkuIwA4ZbXVU9kJsr8b/qeKfVU9kJsr8b/qeKfVUFB2p2S2k2uZT4RX7PUOyeAtq4qzFAyvpcQqsQZCcwp6YYexrIcx4ufY3axwd0Sx/SC1b7ITZX43/U8U+qp7ITZX43/U8U+qoKd4dv3oofytH/AYouPF0l4WPKfg2O4bS02FV3jU8WIsqZI9xWQZYG0lfEX5qiFjT05ohYG/S4WBtzaqgiIqgiIgKHxF2Z5cNcnRcO0cTbygqXJUHTPJc4t1N3E34PBOrT/PqVgScZywxH+t7rXUZjxPHgOpYUEvt0uutx1A9v8An5FlSR56du7/AAXOLGuNnE5m+1tvoXX0GovbS9wsOnsJZj2Bululfr0PA3CyuQz3tuw6ZhmZ8hzB3Dr0YeKyaVo4gm/DhbiewXI4LwYQWWN3Xc3iNQMk+nDTXX5F6F4DXOF7NBcctgOiDpxXmLFyV012yzEOPtjzpqXAE2t5ToAFuCigIHA2tck21vppr2kaeZaq5O6JzaYkNIzXkeSD0gwbuJo4EkEGTzgdq2phsDnvikL3We+S8YLmt3bHSlmnB1s0XHs61zJ062mbfFuRaYiIVnlixHdxRUbT05PbZAOIijPRB/tP1/8AaPatWzjS2tu3gfPp/n51J7a414/WTVLTdhdu4DxbuIehG7j7l1nP/wDcKgJZHe4aem45IzYGztC5+uuVrTmsRbMY1u6VOmuGte2ZyysNYC4vcehGXBt9Q6VwAkfpp0WtbH5w/tUk4eUa/Na/Vrw4alYUEbWBrGE2AsOu3G1+03usozho1NiPwbW8pGvk/avRi+ZHCIF56r8dNbG/A+RQeBOL3SSO67gG44fKV+47iBeC0HTXtHbx+f8AQvnA3lsTh0NG3JsL8NeKyhJeRmAMkh4j2ttzY3cLvvbjYED5V54dRE+2O0HVoLW43Av2LGpqxjI2ucA4kuf0h1vJygfJYfIveSokeM8hyNIOWIaEggWv2cFJGPXuBuAb9v8AkcF8bOyWkt3gWnzjUH9H6V+ubfgBrZY+EHLKB5f8bH9qirUiIs0EREBERAREQEREBERAREQEREBERAREQEREBERAREQEREBERAREQEREBERAREQEREBERBh4xKWROI4mzR8p/ksGilbIRdjt4BxiLQXDrOV+jj5iF9bRye5b1XzH/BY1J7WM72gWByg3PHr08l1YGZWFpjMQ1GYta6QiOzyGuDTYltybt42uRwXvs/Qy1TQ3dTSyAuYXsje+YBvFrwATKBYiztR2hbb8EfYiKtnlxbEqaklw1gkipBUneE10JgL5BTvBY9jY5H9Nx0e1tgdSOpqXE6KnIYyOEEaBzWMYQB1NDAABpwt1LR3W/jTnEVz8cx39PVu6GxvqV6o/I9XDeH7K4jKGRjDa18wu7IaWobeNsMri6z2A2AOvEX0vwvDVIaGPtpq1paP67gLeQr+gtVtHSM6T4g6MkCwvceUarXPL5s7Q4rQuFBRMdXjLLTua2zy9jg4sMjgGtBaHdDg45eHFa+n4lW2Yt7vzel/D71iJiJn5NH7KTWjZbSPM6S2uaRsbgbi5s1uWKRvYdToOMztXjrqShnfHmLreLxOzZ3NmqBJG94dwORwJ0sLN04BeWyNOY4zHJmDml4DXNs5rmjI5hBvY5mu7OJ01KqfK/XNvS0jRlPtlRJYBtg0NjjabaZbmX6Mdi9NCYm2HjqcRlTYxlbcZbWy2PAdnEaDjfq0PYvnCbPJmJJBBZDe49rBJc+x4F7iX+YtH4Kxa+VxDYRo6S7ewiIe+m7dC1xsziP8AeLNjmAFmgW4cNNPNot5qM64HDX5bC381GYlUgC1yDc34HydXkK/J57Dj5rDhcEquyPcXEkk3N9VlAyaiXy3Hl/7r68aywzOB0LWsb1avLr2+SyjppNbLKrb7qOMWzSSAi/Do2Df0gqjIoYWxtbNNbNb2qM6kNto4jjdflQXv1cA1vVewJtw0WU2ERHQ7yS3TfcHXrt2BeboQelK+/kHHrUkYwd+Dx+RYkT8kgJ0s/h5L9az5ZuLY22HbbXyqJlBDrnTz9fyLFV2ReVI/Mxru1oP6F6rMEREQREQEREBERAREQEREBERAREQEREBERAREQEREBERAREQEREBERAREQEREBERAREAvoC0HtccrR5XHqCCu44SZTmc2NgsLuIBNgCco4u6+CxZ8VisQ1heQNC/3NwNCWjjwVli2ZE2WXxmIukaXNswOc8D8JgJuI/KLjyr82f2ZbNiNHSyPMsU1ZSwyMIia58Mk8TZW5WO1BYXdV1naMRkr704dQ8i2zDKDDqFlRUFhjhE9RAQ1rn1WIh00rJBwayMStYOsmMcLFWnFMGw8XmMtRfXK1kzmi58o6/OVWttdlZ8XqzFFVfc6na28lUC4SAXAaIGNIzuzBw6RAGUnW4BzdsNlWWDosRqY5CQBuA1kd+8WG4K+e1Y6otaeOZ/19XT3JrWJmeI/z7ozEcMq7tfTVcVQziIqs5JW+Rs0LchH9pnnKm8EfVxD2+It0tZsjHi393q8uir+E4RXsNn1UdS0XyucxkMgA7xa4Nd6IU6TVwssI7t1uRY8fl0K5mpT45bdZzPPDF2ipo6q8jYwypYbiQAAztsQY5NbbwWbZ/XYArl7batfVYjNI6zTHlpQ0aZdxfNYAk3Er5Li99Cum2TG+pvfi0/gk9TiB8y0h4QeyRp3HEqaN25qXtjqsouyCoebGdw/BbKNMwtaR7u+Auh4ZuMW/Tt59v6cjxTa5j9Ssdu8fdrOj9sc6YNu0kBnDSNtwCTYXubu4fhrOa6w4gDz/t+ZfVK4RMDdPLw1HC2nyKPqagDr07Ov9i7zglTUk6Ai1h/m3aoqckG+lu3tXrU1DLaXuf2fMsN02YW6+I8vkWSPppzPCzqsF8kTcokyM3hbewNrcba8T+hR9I4Zrn/us7DsQEdS17m5mOa6Nw7GuIsR5QQ1Ue5qHPAPRb1WaLf91+wEDjx8uvWpDEMNB9ugIc06kC2mv8lFOJB6Qtbjf/FTuPeoudf2edRlYOlfrspNr7j+X7b2URVHpG3VoscKtWCSZoW+S7fmWaonZd3tZHY4/pAUssgREVQREQEU/sPs6zE5KiE1kdJJDQ1dfA18Uk7qyShjdM+kibGQWyOijndm6RAhdZruAxsB2YxHEG7yhw3EK2PX22kpampiBboRvIYyzMD1XvogiUWRiNDNTSGGpgnppwA50NTFJTzNBuAXRzNDwCQdSOorHQEREBERAREQEREBERARF+XQfqIsiloJ5mySRQTyxwNElRJFHJJHTxuNmyTuY0thYToHOIF0GOiIgIiICIiAiIgIiICIiAiIgIiICCkE5bG49Fzhcd4d0+Q9fkui9qJxD2kcb6ec6C3l1WVO5PZM4dG1sjo4wCQRvZP7PuIx29Yt7lvn1WyuS3D2ur6Z8mr2ytdEy2a5a17yfOGxvdfqyrW2Ft3YAv0iS+TyuJzW+QlXrkxx5sOLUUbiAJI64Zjwa9kcTYzrw0dIL/1irq8Um0s9CudSsfF0TtDVxxsvLDBNEW2GntjS618w4gGw4dg7FTsSjwu2dratrtBliqJS1vlDHuc39CbQtkkkyb3LZtwLajjrfgTx0VSqsEpmPM8lRUSy9Q3r4ooweoNjIaPOblfP61eqfR9VozFY/pPtooLh0GIyADV0dVFG9x8gdDk/S0rwxjEHi0fjDXNPA3Lc1uogcFTJ8SmilAiPjUbibtf0QwNtmyS26TwDoDcGx4WKzKGrgqS7dPa6WMgSwnKJYyeGdtz84uFoX07fJ79dfmmaKrJ6iHjRw4aeQjiLdqlY6qCdpp3QiRjwWSiVoMZYdHNcHXDmlVzxpzPk0BOhHmPFZ1FjEbGPe5rhkY5xOhuGAk/JovCaTM8LMx5ufOU6ipo6yeOiDYoI3bpsYLzctNi5r3k31v8AIAqLU07r21Fu3XTtBbxGnYrHW1m+e57iS55c9wI63Enr86wXTahpHDS9+Gq+upE1iI9HxtpzMygybA9fk0N/mXlCTl4D5jfzAdqnJIQ4m4zN6tO0+TgbBYFVQuHSY0uYdMoGazh1ebyrPLFGAW8nEEHiLI94BaeNv5qRlwyQgC7S7XoC5IuLm3UTpw7Viy4a9paLscxwBZLciNweAQbkdHrGvAgq5E1g1W9tix12ni08De/bpdStRDHMBfK134Q0/wC/Uq6/CKuBzWuiLc/uHZmmNx8j2ki9ivqXB52OAkifCXEZZZJA2F5PANla1zC4nqvdMZRly074uIuw9YvYa/tURXNs4kcDZTFfRVVKBn9sjtckXcGHrBuBp5bW8qi5iH6jzEcMp04jiNbKKm9mBZj/AO0D87Wn/FS6jNm2+1X8tj52gA/sUmqCIiqCIiDffJBt74lBS4rjcuH1tLRhmBYRRU9JRTY9SvswGoa8NZLFRNpTI113uMhLBlzOBfhcvu1bH1WIUswx/DcUpaiOmw+mjrw7BTRxP/8ANNp2MjdTGamLZGhue5kj6QAcFTNhaaOtwnF6GOkppcSiFLi1JNug6vdS0smTE4aeT3QDInRyiNurg6fQ6WqO8qcQqG5pJ62sqZIoWPmkfNPUTSFkMDDJM4l7iTGwZjwyjgEVdtitrX4i6LBMenlrcPqXtp6arqHGetwernOSnrKSokvKYN46NskL3FhZewFiHUXGqCSjmnpZwBPTTS00zRewlp3vjkDSRctzMNj1iy2hs5yX4iaWpazBa9m0eH4lRSRuqCyOgkopRJ0WGX/RqoRz0+Z7muIyTMIJAc1VHljqGT4pVzx4jSYsZiyWStoYHUlJLM6Jge2CN0kl2NLQM4e4P1dcklBbse5KcOwo0rsY2kio4qykgqoGxUFTVVGeVpM28jhkIhpYyY7TON5CXgNbkJMdWcj1azGjgLaineGwfdB2IuvHTMwwC766RmYuYA7oZAT0yBmynOPbwm66Gpq8PdTzRTtGz2HRl0L2StbJnr3GMlhID8r2HLxs9vatpYltrQUu0QEtbSx0tfsvTYZ4/wC01NNSVMj55YXVIdmiMOUjM14LfbI81mklEafrdhMPnpaurwPHPuq/D4hU11NLQz4dIaTMWyVtI6aRwmiZxcw2c1tiTcta6J5QtjjhEWGzGoFR90sNgxTKI914uZwHGC+d29DQW9Po316IWydoosdoqOsfW4zspSU81HUU2XD48HNVisczLPo6PxOibMWSjTOS3L0XEC12/O2Wz7dpMMwWqocTwiBlBhUWGYmK+rZSvoZqZsbXPkY5pc6M2kI4EgMLQ4OuCoWl5GXSYvSYIMRGarwlmMeMeLEiMyCceLCPfjP04PfMzdH+501xcN5LIKypjw6gx2lq62Nss2MObTVMeHYVTU7W7+ZtbIQyvDZXCMbsNzFwJyAOI25T43QN2vw6eKvpX0bdmo4WVRliZGS3x97WvJdaOUxFr8h1AcNFpnwecbpKd1bh2IVDKKnxbCZ8L8dk6MdJPKy0b5idGREOkBcSACGXsLkBkScm1BWU9VNgGPNxeooYXVVVRSUFTh80tNH77UURme7ftb3AL6t1u5od9Q8mVFDh2H4zimPMoKOvZK7dsoqisqmysfaOKCOB5MzDGHPfKQ0MIY2zy8Ws3J7gXM81mL4tX4U97sOqKLD6Kgq2Vs1fUVLoS1zWsaC2lbum3e4aCS5DcutZ5UqyF+AbLwxTRSSQ0uJMmYx7HvicZqJrRK1pvGSY32zWvkd2IjOx7kkw/C5Y/uttNTU1FVtZJhdRBRVNTNVwyNY41M8Ub8tDTsMjBnc9wdqRlsbR7ORys+7NTgclTBFHRwmtqsUka4UseHhjHiqLM1w45w3dlws5knSytL1++EVWxTwYGIJopizZyijkET2yGOTI8GN4YTkkuD0TrotqbXbS4dNj2MYdNiFNBT4zgcGGw4jvGSUtPVbmUxNnkY7Kxjm1BJJIHRYPwwg1zs/yUYdixqXYPtIyrjpKWapnbNh9TSVIfG28O7jnkAlppHB4MgN4yGAtdnBE7SbLYE/ZVj343FEx2MNe/FvuPWSTR1DqMB2Gblr9++NoJdvQ7dm3C6y+RrZEbP1FfLiuKYOyokwetgpqamrYqh0kbt1JNUSOs0RRjcRhgd0n55DlG7KrfJ/SsxjZmXAqerooMUhxZuJMp62ojpPGKV1LHCXQOk0e5ry+46sgvbM24Q2GcndHDRwYnjmNNwqnrXSfcyGOinr6ysgiIBq3QxPBp6exa7W+kkeoLmg3jkn2Zgjp9p6Cmxegq6WXCqJ7cVbnhpYoZTiBkfVsdd9PJE1rnPju4gBvWbDCx7Bm7UYbhDMPrsNixDCKQ4TiFBWVUVM+1Puo46umfcsngfuC7O0lpEjdbtIWPsdQ0+E0O1FC7FMNrJX4RSASUcwfA+pc+tbLSU735fGnxufE0uYLXlaNDcAK5i3J5RSYbU4tguNjFmUDoW4jBJQ1GHSxMqHBsdRCKh5c+K5OhA0jk1u0tWuls/knroYsD2njlmijklpcObCx72MfM4T1gIia43kIL2XDb+7b2rWCAiIgIiICIiAiIgIiICIiAiIgIDax6wQR5wbj9iIglnVFmlw42JB7TbiPOqxtdjktLPRTRGz44HPsfws1RMOlbUXEbdf6qki82y9X/a/7FV+UF2d9O/8AB8WEd/60cs2b99p/vL11Ji1cFZms5huXBeXCg3bfGGTslLbOsHua12lz0erzXWWzlRwWRubxktdfUPjqcoB7CYjrcdS5qAWXu7FsehJs51v6w6A89jf+8FzbbKlvX8+ToV8R1a+n5823tv8AlHY5j4KCcTXDX542uZCwtIIsXAOkkBtw07b2savsdXPjGcOcJNOmCQ+/EnNe5JOt1Vo2WzXHANYPKXG518zT86s2AQ9E2Cw1NvWleiGHtFtS/VP8MvF+ULE4pgyOoBa1oJbLHG+5Nzq6wdw8qk8O5TquoY+llgizSxTNM0RczK1sZJJY4m9ybcetUbHIvb5Nbe4FgL/gN1Pk1X1hTcr33A6FNldxNnzSNd8+Un5lsV22niPdjMPP2rVjMdUsiaQtcRe+gHV2LwncRqOv/qF5GQXPbwXmx59yfk/l5VsNZkxznttof5f4le5qMosO9fS/Zp+xYbdQfkH7T/Jfpf13t/nyqYGZvbNDrkPBaQeOodp/nyLI8YYxro3C7HFxDTboFxzZR/VzF3zqPYRdt7ZQQT+0rHklMgceskuHyaj9imFW6lxNj2Mp3C92uyZtbOaLtHkva3yrJmxFhp7P6cbhkeziHNuOI7RcKkw1B6Lm8W2IssypqejYHoOJe0dmb3TfMCf2KYRnYhJI1piDy5sfttM8km8f4cT9elpqL90hQtU0OAlj6LvclvDUD3vzWuW/KOxe7qs2DQb21t2tI6bB+351hxSBriCMzescL2sW+Y9d1lgT2zTwYjbvE+a4H/VSigdl5LuksLNd0gOzXh+kqeVURERBERBl4Nic9FPFV0kz6eqgeJYJ4yA+N4BFxcEEFpc0tcC1zXOaQQSDcpdqcErXb/EMDnpawkSSVGA1jaKGeW9y/wATqoJYqVxNiTC4Akk2BVCRFdAclPK48VBwigbTYRR1EVc9tfjVfVYjNFiPi0jqSqmqKt7YI4jNFEHQNiykyOIJcTm09tbtG2vZTsGG4VQy07ZmTT4ZTR0YrnSvYWyTshAjuwMs3KAPbH2sCGiARB+AIAv1ER+BoHAAIWjjYXX6iD8sOxfqIg/A0DgAPMll+ogmsK2TxCqhNVT0cssHthD27sOl3Dc05gjc4SVWQe6MTXZbG9rLzbsxXeKnEBSS+JBhmM3QHtDX7t1QI829dTCTomYNyAggu0KvXJ3tNhdE3D5JpY4ZKcVTK0SYe6vrHSVL6psc1HVSOLKGjbDPAXMgDJc0M/RkMuZQmJV+HTQwzOrq1k8GEU+DGhpY3QvnfSQtpC51S8GIYZNE0yvicM5Mj2ZdcyCExTY7EKSNs09BNFG58cfBjnslnBdBHNFG4y08rwDlZI1rnW0BUhinJ/X01N4xU08sczq+mwyGkDGTSTzVUVbIWtdDI7LUsdSMjNOW571LL5dA69c+MKpXzz08kMrTiOF4nSUseGvp53wYZXGd1NXV0znz1mIGKQe2SvdFmhe4PvJlEXs1tNheDmN0NXU4j/8AWYsSkBpnwFtJ4hjFG91p32kxBjsQje4aMcWMAedS0KbUbE4k2aOldQTOnmbLJTxx7uffNpmufUiJ0LnMkkja0lzAS5ugIBIB9a/YTFYI3zy0ErYYonVDpQ6B7DBG3NLPCY5D4xExur3RZgwA5stlaRtdR0zGUsM1O6NsOMPL8Ow77l0ranEMImw+kDY3Xnknc8s3khysa0RAZ8pcozBtpqWI4cXueG0mC4th01mE5arEOcG4azvMP3RpbuGgu6/uSiqvVYBVxPnjkppGSUkbZqtrsv8Ao8UhgbG95vbK41NOBYm+9ba6jlsfbbEd3hFEySOaDEsQgpo69szXMdJh2AvqoMLnLZLPy1DZIDnI6X3KaQSCL64RBERAREQEREBERAREQEREBERAREQFi4nRNnaGmwLSXMdYOyl1swIPFpsLjT3I1WUiCs1WDMgY6YjM9vBmpicTYXsekWa3ynzXKgoHHPncbnNmJPXc6q4bRP8Aa3MB6XRcRp7nNb9tlVY2CwJ4X17TpwFuJ8iYEpPBlyMGoe90vXbKAGxkAgEcX/Mrzs3RAMuQqm1l5w0aiNjGg6dbQ93DQnM8i/XZbCwWICMeZaevbN2xpRxlRNpKcCeTtO71Fh/uxx6yvhtJu45J2lrw8wizHAuY2KEZg8fguzOOnHog8CL5m1mUVD72Jyx/hG40I1b1Dh/kqvV1TK1ha15DC67mCxa46dKxHkA+RbcdmvPd4PYXnQ2FtfPfgNR8q8je1utt7HqcBpp5l8+NPIsS21yfcs4kWJ4diCd3k6wNLcdT7lB9tkPEdetv+h4r6dLfQi36NV5GXgC3QXN2mx186eMDUhrr6i9wdT5LedUegdc5fIdV9U0trXHBYjJgOrXyr7ErT5EH6527Jb1dXm4hfYmuMl9L5m+RfjXtcLG1+o3HD519OpesaEdnaFADjcEGxGt+wjgvRzszsxtqNerhofMvMRuHugQe3qP8lmYZh75nC4LYvwncLjsb2kqqldmKYsjLz+Gej/ZHA/Kb/oUuvxrQAABYAWAHAAcAv1EEREBFTOdc/ch9F/rpzrn7kPov9dRcLmipnOufuQ+i/wBdOdc/ch9F/roYXNFTOdc/ch9F/rpzrn7kPov9dDC5oqZzrn7kPov9dOdc/ch9F/roYXNFTOdc/ch9F/rpzrn7kPov9dDC5oqZzrn7kPov9dOdc/ch9F/roYXNFTOdc/ch9F/rpzrn7kPov9dDC5oqZzrn7kPov9dOdc/ch9F/roYXNFTOdc/ch9F/rpzrn7kPov8AXQwuaKmc65+5D6L/AF051z9yH0X+uhhdHEnUkk6C51NgAANeoAAeYBfipnOufuQ+i/1051z9yH0X+uhhc0VM51z9yH0X+unOufuQ+i/10MLmipnOufuQ+i/1051z9yH0X+uhhc0VM51z9yH0X+unOufuQ+i/10MLmipnOufuQ+i/1051z9yH0X+uhhc0VM51z9yH0X+unOufuQ+i/wBdDC5oqZzrn7kPov8AXTnXP3IfRf66GFzRUznXP3IfRf66c65+5D6L/XQwuaKmc65+5D6L/XTnXP3IfRf66GFzRUznXP3IfRf66c65+5D6L/XQwz8ble91gx2UakhpJcSbC9uIDGt8xe7tXjQUJeGsc1zQZGNeSHCzSQCfNYLG511Hch9F/rpzrqO5D6L/AF1l1GE9g4dJI+VwLS97n6gi2Yk63Ww8OLWsALm8B1hae51z9yH0X+uvznVP3IPRf661baGZzl6xqYjC4bXMLp3kAubkiN2lrh/vBbUXB06r9XaqvWwuJ9w+2umU/IvDnXP3IfRf66c65+5D6L/XWxHbDyw+Y6J3cd8oP8l6CjPcf8x/kvnnXP3IfRf66c66juQ+i/10MHiju4/0T/JYviz7noSce67+Syudc/ch9F/rpzrqO5D6L/XQwxDTv4ZH+ToO/kvjxd5/3cgP9hw/wWdzrqO5D6MnrpzrqO5D80nroYYApXkgbuTXQ9B3X8iv5ibwLQbdoBVP511Hch9F/rpzrn7kPov9dDC4CJvdb8wX2qZzrn7kPov9dOdc/ch9F/roYXNFTOdc/ch9F/rpzrn7kPov9dDC5oqZzrn7kPov9dOdc/ch9F/roYQCIiiiIiAiIgIiICIiAiIgIiICIiAiIgIiICIiAiIgIiICIiAiIgIiICIiAiIgIiICIiAiIgIiICIiAiIgIiICIiAiIgIiICIiAiIgIiICIiAiIgIiICIiAiIgIiICIiAiIgIiICIiAiIgIiICIiAiIgIiICIiAiIgIiICIiAiIgIiICIiAiIgIiICIiAiIgIiICIiAiIgIiICIiAiIgIiICIiAiIgIiICIiAiIgIiICIiAiIgIiICIiAiIgIiICIiAiIgIiICIiAiIgIiICIiAiIgIiICIiAiIgIiICIiAiIg/9k=\n"
              }
            ],
            "_view_module": "@jupyter-widgets/output",
            "_model_module_version": "1.0.0",
            "_view_count": null,
            "_view_module_version": "1.0.0",
            "layout": "IPY_MODEL_021745d3ca7b48d5a2c9db6a17770272",
            "_model_module": "@jupyter-widgets/output"
          }
        },
        "b86ec34b846548aeb444559b084bb2a0": {
          "model_module": "@jupyter-widgets/output",
          "model_name": "OutputModel",
          "state": {
            "_view_name": "OutputView",
            "msg_id": "",
            "_dom_classes": [],
            "_model_name": "OutputModel",
            "outputs": [
              {
                "output_type": "stream",
                "metadata": {
                  "tags": []
                },
                "text": "Video available at https://www.bilibili.com/video/BV1mz4y1X7ot\n",
                "stream": "stdout"
              },
              {
                "output_type": "display_data",
                "metadata": {
                  "tags": []
                },
                "text/html": "\n        <iframe\n            width=\"854\"\n            height=\"480\"\n            src=\"https://player.bilibili.com/player.html?bvid=BV1mz4y1X7ot&page=1?fs=1\"\n            frameborder=\"0\"\n            allowfullscreen\n        ></iframe>\n        ",
                "text/plain": "<__main__.BiliVideo at 0x7fe3c3a47c10>"
              }
            ],
            "_view_module": "@jupyter-widgets/output",
            "_model_module_version": "1.0.0",
            "_view_count": null,
            "_view_module_version": "1.0.0",
            "layout": "IPY_MODEL_be5448eb74384fa98c2a2bcd6d4e0b72",
            "_model_module": "@jupyter-widgets/output"
          }
        },
        "021745d3ca7b48d5a2c9db6a17770272": {
          "model_module": "@jupyter-widgets/base",
          "model_name": "LayoutModel",
          "state": {
            "_view_name": "LayoutView",
            "grid_template_rows": null,
            "right": null,
            "justify_content": null,
            "_view_module": "@jupyter-widgets/base",
            "overflow": null,
            "_model_module_version": "1.2.0",
            "_view_count": null,
            "flex_flow": null,
            "width": null,
            "min_width": null,
            "border": null,
            "align_items": null,
            "bottom": null,
            "_model_module": "@jupyter-widgets/base",
            "top": null,
            "grid_column": null,
            "overflow_y": null,
            "overflow_x": null,
            "grid_auto_flow": null,
            "grid_area": null,
            "grid_template_columns": null,
            "flex": null,
            "_model_name": "LayoutModel",
            "justify_items": null,
            "grid_row": null,
            "max_height": null,
            "align_content": null,
            "visibility": null,
            "align_self": null,
            "height": null,
            "min_height": null,
            "padding": null,
            "grid_auto_rows": null,
            "grid_gap": null,
            "max_width": null,
            "order": null,
            "_view_module_version": "1.2.0",
            "grid_template_areas": null,
            "object_position": null,
            "object_fit": null,
            "grid_auto_columns": null,
            "margin": null,
            "display": null,
            "left": null
          }
        },
        "be5448eb74384fa98c2a2bcd6d4e0b72": {
          "model_module": "@jupyter-widgets/base",
          "model_name": "LayoutModel",
          "state": {
            "_view_name": "LayoutView",
            "grid_template_rows": null,
            "right": null,
            "justify_content": null,
            "_view_module": "@jupyter-widgets/base",
            "overflow": null,
            "_model_module_version": "1.2.0",
            "_view_count": null,
            "flex_flow": null,
            "width": null,
            "min_width": null,
            "border": null,
            "align_items": null,
            "bottom": null,
            "_model_module": "@jupyter-widgets/base",
            "top": null,
            "grid_column": null,
            "overflow_y": null,
            "overflow_x": null,
            "grid_auto_flow": null,
            "grid_area": null,
            "grid_template_columns": null,
            "flex": null,
            "_model_name": "LayoutModel",
            "justify_items": null,
            "grid_row": null,
            "max_height": null,
            "align_content": null,
            "visibility": null,
            "align_self": null,
            "height": null,
            "min_height": null,
            "padding": null,
            "grid_auto_rows": null,
            "grid_gap": null,
            "max_width": null,
            "order": null,
            "_view_module_version": "1.2.0",
            "grid_template_areas": null,
            "object_position": null,
            "object_fit": null,
            "grid_auto_columns": null,
            "margin": null,
            "display": null,
            "left": null
          }
        },
        "d30cdeac4e1f40f991d1b398bc591c51": {
          "model_module": "@jupyter-widgets/controls",
          "model_name": "TabModel",
          "state": {
            "_view_name": "TabView",
            "_dom_classes": [],
            "_titles": {
              "0": "Youtube",
              "1": "Bilibili"
            },
            "_model_name": "TabModel",
            "_view_module": "@jupyter-widgets/controls",
            "selected_index": 0,
            "_model_module_version": "1.5.0",
            "_view_count": null,
            "_view_module_version": "1.5.0",
            "box_style": "",
            "layout": "IPY_MODEL_5790da09209142e2b211f84211bb6ba6",
            "_model_module": "@jupyter-widgets/controls",
            "children": [
              "IPY_MODEL_ea611c42716c43229ccf8019109259a2",
              "IPY_MODEL_1d9c5134cb054422aadf90f2a8ac73e3"
            ]
          }
        },
        "5790da09209142e2b211f84211bb6ba6": {
          "model_module": "@jupyter-widgets/base",
          "model_name": "LayoutModel",
          "state": {
            "_view_name": "LayoutView",
            "grid_template_rows": null,
            "right": null,
            "justify_content": null,
            "_view_module": "@jupyter-widgets/base",
            "overflow": null,
            "_model_module_version": "1.2.0",
            "_view_count": null,
            "flex_flow": null,
            "width": null,
            "min_width": null,
            "border": null,
            "align_items": null,
            "bottom": null,
            "_model_module": "@jupyter-widgets/base",
            "top": null,
            "grid_column": null,
            "overflow_y": null,
            "overflow_x": null,
            "grid_auto_flow": null,
            "grid_area": null,
            "grid_template_columns": null,
            "flex": null,
            "_model_name": "LayoutModel",
            "justify_items": null,
            "grid_row": null,
            "max_height": null,
            "align_content": null,
            "visibility": null,
            "align_self": null,
            "height": null,
            "min_height": null,
            "padding": null,
            "grid_auto_rows": null,
            "grid_gap": null,
            "max_width": null,
            "order": null,
            "_view_module_version": "1.2.0",
            "grid_template_areas": null,
            "object_position": null,
            "object_fit": null,
            "grid_auto_columns": null,
            "margin": null,
            "display": null,
            "left": null
          }
        },
        "ea611c42716c43229ccf8019109259a2": {
          "model_module": "@jupyter-widgets/output",
          "model_name": "OutputModel",
          "state": {
            "_view_name": "OutputView",
            "msg_id": "",
            "_dom_classes": [],
            "_model_name": "OutputModel",
            "outputs": [
              {
                "output_type": "stream",
                "metadata": {
                  "tags": []
                },
                "text": "Video available at https://youtube.com/watch?v=QGA5FCW7kkA\n",
                "stream": "stdout"
              },
              {
                "output_type": "display_data",
                "metadata": {
                  "tags": []
                },
                "text/html": "\n        <iframe\n            width=\"854\"\n            height=\"480\"\n            src=\"https://www.youtube.com/embed/QGA5FCW7kkA?fs=1&rel=0\"\n            frameborder=\"0\"\n            allowfullscreen\n        ></iframe>\n        ",
                "text/plain": "<IPython.lib.display.YouTubeVideo at 0x7fe3c3a5e650>",
                "image/jpeg": "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\n"
              }
            ],
            "_view_module": "@jupyter-widgets/output",
            "_model_module_version": "1.0.0",
            "_view_count": null,
            "_view_module_version": "1.0.0",
            "layout": "IPY_MODEL_9cb62643e719489ebb52824e6c5bc056",
            "_model_module": "@jupyter-widgets/output"
          }
        },
        "1d9c5134cb054422aadf90f2a8ac73e3": {
          "model_module": "@jupyter-widgets/output",
          "model_name": "OutputModel",
          "state": {
            "_view_name": "OutputView",
            "msg_id": "",
            "_dom_classes": [],
            "_model_name": "OutputModel",
            "outputs": [
              {
                "output_type": "stream",
                "metadata": {
                  "tags": []
                },
                "text": "Video available at https://www.bilibili.com/video/BV1dt4y1Q7C5\n",
                "stream": "stdout"
              },
              {
                "output_type": "display_data",
                "metadata": {
                  "tags": []
                },
                "text/html": "\n        <iframe\n            width=\"854\"\n            height=\"480\"\n            src=\"https://player.bilibili.com/player.html?bvid=BV1dt4y1Q7C5&page=1?fs=1\"\n            frameborder=\"0\"\n            allowfullscreen\n        ></iframe>\n        ",
                "text/plain": "<__main__.BiliVideo at 0x7fe3b324a290>"
              }
            ],
            "_view_module": "@jupyter-widgets/output",
            "_model_module_version": "1.0.0",
            "_view_count": null,
            "_view_module_version": "1.0.0",
            "layout": "IPY_MODEL_d4c92445e1294c849e6bf4c35df3a809",
            "_model_module": "@jupyter-widgets/output"
          }
        },
        "9cb62643e719489ebb52824e6c5bc056": {
          "model_module": "@jupyter-widgets/base",
          "model_name": "LayoutModel",
          "state": {
            "_view_name": "LayoutView",
            "grid_template_rows": null,
            "right": null,
            "justify_content": null,
            "_view_module": "@jupyter-widgets/base",
            "overflow": null,
            "_model_module_version": "1.2.0",
            "_view_count": null,
            "flex_flow": null,
            "width": null,
            "min_width": null,
            "border": null,
            "align_items": null,
            "bottom": null,
            "_model_module": "@jupyter-widgets/base",
            "top": null,
            "grid_column": null,
            "overflow_y": null,
            "overflow_x": null,
            "grid_auto_flow": null,
            "grid_area": null,
            "grid_template_columns": null,
            "flex": null,
            "_model_name": "LayoutModel",
            "justify_items": null,
            "grid_row": null,
            "max_height": null,
            "align_content": null,
            "visibility": null,
            "align_self": null,
            "height": null,
            "min_height": null,
            "padding": null,
            "grid_auto_rows": null,
            "grid_gap": null,
            "max_width": null,
            "order": null,
            "_view_module_version": "1.2.0",
            "grid_template_areas": null,
            "object_position": null,
            "object_fit": null,
            "grid_auto_columns": null,
            "margin": null,
            "display": null,
            "left": null
          }
        },
        "d4c92445e1294c849e6bf4c35df3a809": {
          "model_module": "@jupyter-widgets/base",
          "model_name": "LayoutModel",
          "state": {
            "_view_name": "LayoutView",
            "grid_template_rows": null,
            "right": null,
            "justify_content": null,
            "_view_module": "@jupyter-widgets/base",
            "overflow": null,
            "_model_module_version": "1.2.0",
            "_view_count": null,
            "flex_flow": null,
            "width": null,
            "min_width": null,
            "border": null,
            "align_items": null,
            "bottom": null,
            "_model_module": "@jupyter-widgets/base",
            "top": null,
            "grid_column": null,
            "overflow_y": null,
            "overflow_x": null,
            "grid_auto_flow": null,
            "grid_area": null,
            "grid_template_columns": null,
            "flex": null,
            "_model_name": "LayoutModel",
            "justify_items": null,
            "grid_row": null,
            "max_height": null,
            "align_content": null,
            "visibility": null,
            "align_self": null,
            "height": null,
            "min_height": null,
            "padding": null,
            "grid_auto_rows": null,
            "grid_gap": null,
            "max_width": null,
            "order": null,
            "_view_module_version": "1.2.0",
            "grid_template_areas": null,
            "object_position": null,
            "object_fit": null,
            "grid_auto_columns": null,
            "margin": null,
            "display": null,
            "left": null
          }
        },
        "0d78080cb2954e93913971b074cdb0e7": {
          "model_module": "@jupyter-widgets/controls",
          "model_name": "TabModel",
          "state": {
            "_view_name": "TabView",
            "_dom_classes": [],
            "_titles": {
              "0": "Youtube",
              "1": "Bilibili"
            },
            "_model_name": "TabModel",
            "_view_module": "@jupyter-widgets/controls",
            "selected_index": 0,
            "_model_module_version": "1.5.0",
            "_view_count": null,
            "_view_module_version": "1.5.0",
            "box_style": "",
            "layout": "IPY_MODEL_30afa6152c094e749957594352d52443",
            "_model_module": "@jupyter-widgets/controls",
            "children": [
              "IPY_MODEL_1972580227854b54a29943310628a557",
              "IPY_MODEL_0d9a15b3437c40daa798a65711706c94"
            ]
          }
        },
        "30afa6152c094e749957594352d52443": {
          "model_module": "@jupyter-widgets/base",
          "model_name": "LayoutModel",
          "state": {
            "_view_name": "LayoutView",
            "grid_template_rows": null,
            "right": null,
            "justify_content": null,
            "_view_module": "@jupyter-widgets/base",
            "overflow": null,
            "_model_module_version": "1.2.0",
            "_view_count": null,
            "flex_flow": null,
            "width": null,
            "min_width": null,
            "border": null,
            "align_items": null,
            "bottom": null,
            "_model_module": "@jupyter-widgets/base",
            "top": null,
            "grid_column": null,
            "overflow_y": null,
            "overflow_x": null,
            "grid_auto_flow": null,
            "grid_area": null,
            "grid_template_columns": null,
            "flex": null,
            "_model_name": "LayoutModel",
            "justify_items": null,
            "grid_row": null,
            "max_height": null,
            "align_content": null,
            "visibility": null,
            "align_self": null,
            "height": null,
            "min_height": null,
            "padding": null,
            "grid_auto_rows": null,
            "grid_gap": null,
            "max_width": null,
            "order": null,
            "_view_module_version": "1.2.0",
            "grid_template_areas": null,
            "object_position": null,
            "object_fit": null,
            "grid_auto_columns": null,
            "margin": null,
            "display": null,
            "left": null
          }
        },
        "1972580227854b54a29943310628a557": {
          "model_module": "@jupyter-widgets/output",
          "model_name": "OutputModel",
          "state": {
            "_view_name": "OutputView",
            "msg_id": "",
            "_dom_classes": [],
            "_model_name": "OutputModel",
            "outputs": [
              {
                "output_type": "stream",
                "metadata": {
                  "tags": []
                },
                "text": "Video available at https://youtube.com/watch?v=DHhM80MOTe8\n",
                "stream": "stdout"
              },
              {
                "output_type": "display_data",
                "metadata": {
                  "tags": []
                },
                "text/html": "\n        <iframe\n            width=\"854\"\n            height=\"480\"\n            src=\"https://www.youtube.com/embed/DHhM80MOTe8?fs=1&rel=0\"\n            frameborder=\"0\"\n            allowfullscreen\n        ></iframe>\n        ",
                "text/plain": "<IPython.lib.display.YouTubeVideo at 0x7fe3b14f3390>",
                "image/jpeg": "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\n"
              }
            ],
            "_view_module": "@jupyter-widgets/output",
            "_model_module_version": "1.0.0",
            "_view_count": null,
            "_view_module_version": "1.0.0",
            "layout": "IPY_MODEL_77a5231df8b24a66b6307511bd0caf9f",
            "_model_module": "@jupyter-widgets/output"
          }
        },
        "0d9a15b3437c40daa798a65711706c94": {
          "model_module": "@jupyter-widgets/output",
          "model_name": "OutputModel",
          "state": {
            "_view_name": "OutputView",
            "msg_id": "",
            "_dom_classes": [],
            "_model_name": "OutputModel",
            "outputs": [
              {
                "output_type": "stream",
                "metadata": {
                  "tags": []
                },
                "text": "Video available at https://www.bilibili.com/video/BV1ov411B7Pm\n",
                "stream": "stdout"
              },
              {
                "output_type": "display_data",
                "metadata": {
                  "tags": []
                },
                "text/html": "\n        <iframe\n            width=\"854\"\n            height=\"480\"\n            src=\"https://player.bilibili.com/player.html?bvid=BV1ov411B7Pm&page=1?fs=1\"\n            frameborder=\"0\"\n            allowfullscreen\n        ></iframe>\n        ",
                "text/plain": "<__main__.BiliVideo at 0x7fe3b14f3350>"
              }
            ],
            "_view_module": "@jupyter-widgets/output",
            "_model_module_version": "1.0.0",
            "_view_count": null,
            "_view_module_version": "1.0.0",
            "layout": "IPY_MODEL_56d113e1316c47ff923d53b320d78db0",
            "_model_module": "@jupyter-widgets/output"
          }
        },
        "77a5231df8b24a66b6307511bd0caf9f": {
          "model_module": "@jupyter-widgets/base",
          "model_name": "LayoutModel",
          "state": {
            "_view_name": "LayoutView",
            "grid_template_rows": null,
            "right": null,
            "justify_content": null,
            "_view_module": "@jupyter-widgets/base",
            "overflow": null,
            "_model_module_version": "1.2.0",
            "_view_count": null,
            "flex_flow": null,
            "width": null,
            "min_width": null,
            "border": null,
            "align_items": null,
            "bottom": null,
            "_model_module": "@jupyter-widgets/base",
            "top": null,
            "grid_column": null,
            "overflow_y": null,
            "overflow_x": null,
            "grid_auto_flow": null,
            "grid_area": null,
            "grid_template_columns": null,
            "flex": null,
            "_model_name": "LayoutModel",
            "justify_items": null,
            "grid_row": null,
            "max_height": null,
            "align_content": null,
            "visibility": null,
            "align_self": null,
            "height": null,
            "min_height": null,
            "padding": null,
            "grid_auto_rows": null,
            "grid_gap": null,
            "max_width": null,
            "order": null,
            "_view_module_version": "1.2.0",
            "grid_template_areas": null,
            "object_position": null,
            "object_fit": null,
            "grid_auto_columns": null,
            "margin": null,
            "display": null,
            "left": null
          }
        },
        "56d113e1316c47ff923d53b320d78db0": {
          "model_module": "@jupyter-widgets/base",
          "model_name": "LayoutModel",
          "state": {
            "_view_name": "LayoutView",
            "grid_template_rows": null,
            "right": null,
            "justify_content": null,
            "_view_module": "@jupyter-widgets/base",
            "overflow": null,
            "_model_module_version": "1.2.0",
            "_view_count": null,
            "flex_flow": null,
            "width": null,
            "min_width": null,
            "border": null,
            "align_items": null,
            "bottom": null,
            "_model_module": "@jupyter-widgets/base",
            "top": null,
            "grid_column": null,
            "overflow_y": null,
            "overflow_x": null,
            "grid_auto_flow": null,
            "grid_area": null,
            "grid_template_columns": null,
            "flex": null,
            "_model_name": "LayoutModel",
            "justify_items": null,
            "grid_row": null,
            "max_height": null,
            "align_content": null,
            "visibility": null,
            "align_self": null,
            "height": null,
            "min_height": null,
            "padding": null,
            "grid_auto_rows": null,
            "grid_gap": null,
            "max_width": null,
            "order": null,
            "_view_module_version": "1.2.0",
            "grid_template_areas": null,
            "object_position": null,
            "object_fit": null,
            "grid_auto_columns": null,
            "margin": null,
            "display": null,
            "left": null
          }
        },
        "93297efb4c7d45a6bdd44a8950c8fe4a": {
          "model_module": "@jupyter-widgets/controls",
          "model_name": "VBoxModel",
          "state": {
            "_view_name": "VBoxView",
            "_dom_classes": [
              "widget-interact"
            ],
            "_model_name": "VBoxModel",
            "_view_module": "@jupyter-widgets/controls",
            "_model_module_version": "1.5.0",
            "_view_count": null,
            "_view_module_version": "1.5.0",
            "box_style": "",
            "layout": "IPY_MODEL_3514e21097184807a8c63d163cea0b93",
            "_model_module": "@jupyter-widgets/controls",
            "children": [
              "IPY_MODEL_7189960321354b93b97270b688dbeae4",
              "IPY_MODEL_4dc8d4c778284f3699c86d29a5773230",
              "IPY_MODEL_22d63544ca0841c888ff23518ef8c6b1",
              "IPY_MODEL_3d80d270ec3949d4b69c3927107be2c2",
              "IPY_MODEL_830b5c8e75484b77b253cb90e5242ee3",
              "IPY_MODEL_116d36a199fc4e1cac379eb466334390",
              "IPY_MODEL_c6fcee9366d24ec5b3f25a2a0f1890bd",
              "IPY_MODEL_c69554af22f64554813a3a5e4eb8fcd2"
            ]
          }
        },
        "3514e21097184807a8c63d163cea0b93": {
          "model_module": "@jupyter-widgets/base",
          "model_name": "LayoutModel",
          "state": {
            "_view_name": "LayoutView",
            "grid_template_rows": null,
            "right": null,
            "justify_content": null,
            "_view_module": "@jupyter-widgets/base",
            "overflow": null,
            "_model_module_version": "1.2.0",
            "_view_count": null,
            "flex_flow": null,
            "width": null,
            "min_width": null,
            "border": null,
            "align_items": null,
            "bottom": null,
            "_model_module": "@jupyter-widgets/base",
            "top": null,
            "grid_column": null,
            "overflow_y": null,
            "overflow_x": null,
            "grid_auto_flow": null,
            "grid_area": null,
            "grid_template_columns": null,
            "flex": null,
            "_model_name": "LayoutModel",
            "justify_items": null,
            "grid_row": null,
            "max_height": null,
            "align_content": null,
            "visibility": null,
            "align_self": null,
            "height": null,
            "min_height": null,
            "padding": null,
            "grid_auto_rows": null,
            "grid_gap": null,
            "max_width": null,
            "order": null,
            "_view_module_version": "1.2.0",
            "grid_template_areas": null,
            "object_position": null,
            "object_fit": null,
            "grid_auto_columns": null,
            "margin": null,
            "display": null,
            "left": null
          }
        },
        "7189960321354b93b97270b688dbeae4": {
          "model_module": "@jupyter-widgets/controls",
          "model_name": "FloatSliderModel",
          "state": {
            "_view_name": "FloatSliderView",
            "style": "IPY_MODEL_309b8a3350d044019350134b720c205b",
            "_dom_classes": [],
            "description": "exp_scale",
            "step": 250,
            "_model_name": "FloatSliderModel",
            "orientation": "horizontal",
            "max": 20000,
            "_view_module": "@jupyter-widgets/controls",
            "_model_module_version": "1.5.0",
            "value": 500,
            "_view_count": null,
            "disabled": false,
            "_view_module_version": "1.5.0",
            "min": 0,
            "continuous_update": true,
            "readout_format": ".2f",
            "description_tooltip": null,
            "readout": true,
            "_model_module": "@jupyter-widgets/controls",
            "layout": "IPY_MODEL_a929a8633aef4fe08ba57ba51395145d"
          }
        },
        "4dc8d4c778284f3699c86d29a5773230": {
          "model_module": "@jupyter-widgets/controls",
          "model_name": "FloatSliderModel",
          "state": {
            "_view_name": "FloatSliderView",
            "style": "IPY_MODEL_74a6fd68c46f437598c2bff54d4e5ce7",
            "_dom_classes": [],
            "description": "exp_rate",
            "step": 1,
            "_model_name": "FloatSliderModel",
            "orientation": "horizontal",
            "max": 50,
            "_view_module": "@jupyter-widgets/controls",
            "_model_module_version": "1.5.0",
            "value": -75,
            "_view_count": null,
            "disabled": false,
            "_view_module_version": "1.5.0",
            "min": -200,
            "continuous_update": true,
            "readout_format": ".2f",
            "description_tooltip": null,
            "readout": true,
            "_model_module": "@jupyter-widgets/controls",
            "layout": "IPY_MODEL_8d998077948f4c7d82a92a1978528110"
          }
        },
        "22d63544ca0841c888ff23518ef8c6b1": {
          "model_module": "@jupyter-widgets/controls",
          "model_name": "FloatSliderModel",
          "state": {
            "_view_name": "FloatSliderView",
            "style": "IPY_MODEL_5ff87d6e1b6d403b898d661b1678f4af",
            "_dom_classes": [],
            "description": "exp_x0",
            "step": 0.005,
            "_model_name": "FloatSliderModel",
            "orientation": "horizontal",
            "max": 0.5,
            "_view_module": "@jupyter-widgets/controls",
            "_model_module_version": "1.5.0",
            "value": 0.1,
            "_view_count": null,
            "disabled": false,
            "_view_module_version": "1.5.0",
            "min": -0.5,
            "continuous_update": true,
            "readout_format": ".2f",
            "description_tooltip": null,
            "readout": true,
            "_model_module": "@jupyter-widgets/controls",
            "layout": "IPY_MODEL_30130167ff9b454ba1bdd87dbaec34e5"
          }
        },
        "3d80d270ec3949d4b69c3927107be2c2": {
          "model_module": "@jupyter-widgets/controls",
          "model_name": "FloatSliderModel",
          "state": {
            "_view_name": "FloatSliderView",
            "style": "IPY_MODEL_fdc2b2173d9b41c2945d23ef2ee60bfa",
            "_dom_classes": [],
            "description": "inv_scale",
            "step": 10,
            "_model_name": "FloatSliderModel",
            "orientation": "horizontal",
            "max": 300,
            "_view_module": "@jupyter-widgets/controls",
            "_model_module_version": "1.5.0",
            "value": 300,
            "_view_count": null,
            "disabled": false,
            "_view_module_version": "1.5.0",
            "min": 0,
            "continuous_update": true,
            "readout_format": ".2f",
            "description_tooltip": null,
            "readout": true,
            "_model_module": "@jupyter-widgets/controls",
            "layout": "IPY_MODEL_c1b21fb0b6ca41bbb1f76b801cc9c686"
          }
        },
        "830b5c8e75484b77b253cb90e5242ee3": {
          "model_module": "@jupyter-widgets/controls",
          "model_name": "FloatSliderModel",
          "state": {
            "_view_name": "FloatSliderView",
            "style": "IPY_MODEL_a6fd260973be4cd6801a6269f4992110",
            "_dom_classes": [],
            "description": "inv_x0",
            "step": 0.01,
            "_model_name": "FloatSliderModel",
            "orientation": "horizontal",
            "max": 0.2,
            "_view_module": "@jupyter-widgets/controls",
            "_model_module_version": "1.5.0",
            "value": 0,
            "_view_count": null,
            "disabled": false,
            "_view_module_version": "1.5.0",
            "min": -0.2,
            "continuous_update": true,
            "readout_format": ".2f",
            "description_tooltip": null,
            "readout": true,
            "_model_module": "@jupyter-widgets/controls",
            "layout": "IPY_MODEL_744ae2d5904d4eb5ae8d5e2fab978a8e"
          }
        },
        "116d36a199fc4e1cac379eb466334390": {
          "model_module": "@jupyter-widgets/controls",
          "model_name": "FloatSliderModel",
          "state": {
            "_view_name": "FloatSliderView",
            "style": "IPY_MODEL_ebb26e8f154449ec95f399b7ed52cd1a",
            "_dom_classes": [],
            "description": "lin_slope",
            "step": 10000,
            "_model_name": "FloatSliderModel",
            "orientation": "horizontal",
            "max": 100000,
            "_view_module": "@jupyter-widgets/controls",
            "_model_module_version": "1.5.0",
            "value": -100000,
            "_view_count": null,
            "disabled": false,
            "_view_module_version": "1.5.0",
            "min": -600000,
            "continuous_update": true,
            "readout_format": ".2f",
            "description_tooltip": null,
            "readout": true,
            "_model_module": "@jupyter-widgets/controls",
            "layout": "IPY_MODEL_459e7ad435c54616b3754ed59d41adbb"
          }
        },
        "c6fcee9366d24ec5b3f25a2a0f1890bd": {
          "model_module": "@jupyter-widgets/controls",
          "model_name": "FloatSliderModel",
          "state": {
            "_view_name": "FloatSliderView",
            "style": "IPY_MODEL_d3d52e3cb3e1430991211efb58aff88a",
            "_dom_classes": [],
            "description": "lin_y0",
            "step": 1000,
            "_model_name": "FloatSliderModel",
            "orientation": "horizontal",
            "max": 40000,
            "_view_module": "@jupyter-widgets/controls",
            "_model_module_version": "1.5.0",
            "value": 10000,
            "_view_count": null,
            "disabled": false,
            "_view_module_version": "1.5.0",
            "min": 0,
            "continuous_update": true,
            "readout_format": ".2f",
            "description_tooltip": null,
            "readout": true,
            "_model_module": "@jupyter-widgets/controls",
            "layout": "IPY_MODEL_ae6e10f43c294b2a80902d298d975082"
          }
        },
        "c69554af22f64554813a3a5e4eb8fcd2": {
          "model_module": "@jupyter-widgets/output",
          "model_name": "OutputModel",
          "state": {
            "_view_name": "OutputView",
            "msg_id": "",
            "_dom_classes": [],
            "_model_name": "OutputModel",
            "outputs": [
              {
                "output_type": "display_data",
                "metadata": {
                  "tags": [],
                  "image/png": {
                    "width": 558,
                    "height": 413
                  },
                  "needs_background": "light"
                },
                "image/png": "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\n",
                "text/plain": "<Figure size 576x432 with 1 Axes>"
              }
            ],
            "_view_module": "@jupyter-widgets/output",
            "_model_module_version": "1.0.0",
            "_view_count": null,
            "_view_module_version": "1.0.0",
            "layout": "IPY_MODEL_550beb4c83a24dc4b7f26e6b711881d5",
            "_model_module": "@jupyter-widgets/output"
          }
        },
        "309b8a3350d044019350134b720c205b": {
          "model_module": "@jupyter-widgets/controls",
          "model_name": "SliderStyleModel",
          "state": {
            "_view_name": "StyleView",
            "handle_color": null,
            "_model_name": "SliderStyleModel",
            "description_width": "",
            "_view_module": "@jupyter-widgets/base",
            "_model_module_version": "1.5.0",
            "_view_count": null,
            "_view_module_version": "1.2.0",
            "_model_module": "@jupyter-widgets/controls"
          }
        },
        "a929a8633aef4fe08ba57ba51395145d": {
          "model_module": "@jupyter-widgets/base",
          "model_name": "LayoutModel",
          "state": {
            "_view_name": "LayoutView",
            "grid_template_rows": null,
            "right": null,
            "justify_content": null,
            "_view_module": "@jupyter-widgets/base",
            "overflow": null,
            "_model_module_version": "1.2.0",
            "_view_count": null,
            "flex_flow": null,
            "width": null,
            "min_width": null,
            "border": null,
            "align_items": null,
            "bottom": null,
            "_model_module": "@jupyter-widgets/base",
            "top": null,
            "grid_column": null,
            "overflow_y": null,
            "overflow_x": null,
            "grid_auto_flow": null,
            "grid_area": null,
            "grid_template_columns": null,
            "flex": null,
            "_model_name": "LayoutModel",
            "justify_items": null,
            "grid_row": null,
            "max_height": null,
            "align_content": null,
            "visibility": null,
            "align_self": null,
            "height": null,
            "min_height": null,
            "padding": null,
            "grid_auto_rows": null,
            "grid_gap": null,
            "max_width": null,
            "order": null,
            "_view_module_version": "1.2.0",
            "grid_template_areas": null,
            "object_position": null,
            "object_fit": null,
            "grid_auto_columns": null,
            "margin": null,
            "display": null,
            "left": null
          }
        },
        "74a6fd68c46f437598c2bff54d4e5ce7": {
          "model_module": "@jupyter-widgets/controls",
          "model_name": "SliderStyleModel",
          "state": {
            "_view_name": "StyleView",
            "handle_color": null,
            "_model_name": "SliderStyleModel",
            "description_width": "",
            "_view_module": "@jupyter-widgets/base",
            "_model_module_version": "1.5.0",
            "_view_count": null,
            "_view_module_version": "1.2.0",
            "_model_module": "@jupyter-widgets/controls"
          }
        },
        "8d998077948f4c7d82a92a1978528110": {
          "model_module": "@jupyter-widgets/base",
          "model_name": "LayoutModel",
          "state": {
            "_view_name": "LayoutView",
            "grid_template_rows": null,
            "right": null,
            "justify_content": null,
            "_view_module": "@jupyter-widgets/base",
            "overflow": null,
            "_model_module_version": "1.2.0",
            "_view_count": null,
            "flex_flow": null,
            "width": null,
            "min_width": null,
            "border": null,
            "align_items": null,
            "bottom": null,
            "_model_module": "@jupyter-widgets/base",
            "top": null,
            "grid_column": null,
            "overflow_y": null,
            "overflow_x": null,
            "grid_auto_flow": null,
            "grid_area": null,
            "grid_template_columns": null,
            "flex": null,
            "_model_name": "LayoutModel",
            "justify_items": null,
            "grid_row": null,
            "max_height": null,
            "align_content": null,
            "visibility": null,
            "align_self": null,
            "height": null,
            "min_height": null,
            "padding": null,
            "grid_auto_rows": null,
            "grid_gap": null,
            "max_width": null,
            "order": null,
            "_view_module_version": "1.2.0",
            "grid_template_areas": null,
            "object_position": null,
            "object_fit": null,
            "grid_auto_columns": null,
            "margin": null,
            "display": null,
            "left": null
          }
        },
        "5ff87d6e1b6d403b898d661b1678f4af": {
          "model_module": "@jupyter-widgets/controls",
          "model_name": "SliderStyleModel",
          "state": {
            "_view_name": "StyleView",
            "handle_color": null,
            "_model_name": "SliderStyleModel",
            "description_width": "",
            "_view_module": "@jupyter-widgets/base",
            "_model_module_version": "1.5.0",
            "_view_count": null,
            "_view_module_version": "1.2.0",
            "_model_module": "@jupyter-widgets/controls"
          }
        },
        "30130167ff9b454ba1bdd87dbaec34e5": {
          "model_module": "@jupyter-widgets/base",
          "model_name": "LayoutModel",
          "state": {
            "_view_name": "LayoutView",
            "grid_template_rows": null,
            "right": null,
            "justify_content": null,
            "_view_module": "@jupyter-widgets/base",
            "overflow": null,
            "_model_module_version": "1.2.0",
            "_view_count": null,
            "flex_flow": null,
            "width": null,
            "min_width": null,
            "border": null,
            "align_items": null,
            "bottom": null,
            "_model_module": "@jupyter-widgets/base",
            "top": null,
            "grid_column": null,
            "overflow_y": null,
            "overflow_x": null,
            "grid_auto_flow": null,
            "grid_area": null,
            "grid_template_columns": null,
            "flex": null,
            "_model_name": "LayoutModel",
            "justify_items": null,
            "grid_row": null,
            "max_height": null,
            "align_content": null,
            "visibility": null,
            "align_self": null,
            "height": null,
            "min_height": null,
            "padding": null,
            "grid_auto_rows": null,
            "grid_gap": null,
            "max_width": null,
            "order": null,
            "_view_module_version": "1.2.0",
            "grid_template_areas": null,
            "object_position": null,
            "object_fit": null,
            "grid_auto_columns": null,
            "margin": null,
            "display": null,
            "left": null
          }
        },
        "fdc2b2173d9b41c2945d23ef2ee60bfa": {
          "model_module": "@jupyter-widgets/controls",
          "model_name": "SliderStyleModel",
          "state": {
            "_view_name": "StyleView",
            "handle_color": null,
            "_model_name": "SliderStyleModel",
            "description_width": "",
            "_view_module": "@jupyter-widgets/base",
            "_model_module_version": "1.5.0",
            "_view_count": null,
            "_view_module_version": "1.2.0",
            "_model_module": "@jupyter-widgets/controls"
          }
        },
        "c1b21fb0b6ca41bbb1f76b801cc9c686": {
          "model_module": "@jupyter-widgets/base",
          "model_name": "LayoutModel",
          "state": {
            "_view_name": "LayoutView",
            "grid_template_rows": null,
            "right": null,
            "justify_content": null,
            "_view_module": "@jupyter-widgets/base",
            "overflow": null,
            "_model_module_version": "1.2.0",
            "_view_count": null,
            "flex_flow": null,
            "width": null,
            "min_width": null,
            "border": null,
            "align_items": null,
            "bottom": null,
            "_model_module": "@jupyter-widgets/base",
            "top": null,
            "grid_column": null,
            "overflow_y": null,
            "overflow_x": null,
            "grid_auto_flow": null,
            "grid_area": null,
            "grid_template_columns": null,
            "flex": null,
            "_model_name": "LayoutModel",
            "justify_items": null,
            "grid_row": null,
            "max_height": null,
            "align_content": null,
            "visibility": null,
            "align_self": null,
            "height": null,
            "min_height": null,
            "padding": null,
            "grid_auto_rows": null,
            "grid_gap": null,
            "max_width": null,
            "order": null,
            "_view_module_version": "1.2.0",
            "grid_template_areas": null,
            "object_position": null,
            "object_fit": null,
            "grid_auto_columns": null,
            "margin": null,
            "display": null,
            "left": null
          }
        },
        "a6fd260973be4cd6801a6269f4992110": {
          "model_module": "@jupyter-widgets/controls",
          "model_name": "SliderStyleModel",
          "state": {
            "_view_name": "StyleView",
            "handle_color": null,
            "_model_name": "SliderStyleModel",
            "description_width": "",
            "_view_module": "@jupyter-widgets/base",
            "_model_module_version": "1.5.0",
            "_view_count": null,
            "_view_module_version": "1.2.0",
            "_model_module": "@jupyter-widgets/controls"
          }
        },
        "744ae2d5904d4eb5ae8d5e2fab978a8e": {
          "model_module": "@jupyter-widgets/base",
          "model_name": "LayoutModel",
          "state": {
            "_view_name": "LayoutView",
            "grid_template_rows": null,
            "right": null,
            "justify_content": null,
            "_view_module": "@jupyter-widgets/base",
            "overflow": null,
            "_model_module_version": "1.2.0",
            "_view_count": null,
            "flex_flow": null,
            "width": null,
            "min_width": null,
            "border": null,
            "align_items": null,
            "bottom": null,
            "_model_module": "@jupyter-widgets/base",
            "top": null,
            "grid_column": null,
            "overflow_y": null,
            "overflow_x": null,
            "grid_auto_flow": null,
            "grid_area": null,
            "grid_template_columns": null,
            "flex": null,
            "_model_name": "LayoutModel",
            "justify_items": null,
            "grid_row": null,
            "max_height": null,
            "align_content": null,
            "visibility": null,
            "align_self": null,
            "height": null,
            "min_height": null,
            "padding": null,
            "grid_auto_rows": null,
            "grid_gap": null,
            "max_width": null,
            "order": null,
            "_view_module_version": "1.2.0",
            "grid_template_areas": null,
            "object_position": null,
            "object_fit": null,
            "grid_auto_columns": null,
            "margin": null,
            "display": null,
            "left": null
          }
        },
        "ebb26e8f154449ec95f399b7ed52cd1a": {
          "model_module": "@jupyter-widgets/controls",
          "model_name": "SliderStyleModel",
          "state": {
            "_view_name": "StyleView",
            "handle_color": null,
            "_model_name": "SliderStyleModel",
            "description_width": "",
            "_view_module": "@jupyter-widgets/base",
            "_model_module_version": "1.5.0",
            "_view_count": null,
            "_view_module_version": "1.2.0",
            "_model_module": "@jupyter-widgets/controls"
          }
        },
        "459e7ad435c54616b3754ed59d41adbb": {
          "model_module": "@jupyter-widgets/base",
          "model_name": "LayoutModel",
          "state": {
            "_view_name": "LayoutView",
            "grid_template_rows": null,
            "right": null,
            "justify_content": null,
            "_view_module": "@jupyter-widgets/base",
            "overflow": null,
            "_model_module_version": "1.2.0",
            "_view_count": null,
            "flex_flow": null,
            "width": null,
            "min_width": null,
            "border": null,
            "align_items": null,
            "bottom": null,
            "_model_module": "@jupyter-widgets/base",
            "top": null,
            "grid_column": null,
            "overflow_y": null,
            "overflow_x": null,
            "grid_auto_flow": null,
            "grid_area": null,
            "grid_template_columns": null,
            "flex": null,
            "_model_name": "LayoutModel",
            "justify_items": null,
            "grid_row": null,
            "max_height": null,
            "align_content": null,
            "visibility": null,
            "align_self": null,
            "height": null,
            "min_height": null,
            "padding": null,
            "grid_auto_rows": null,
            "grid_gap": null,
            "max_width": null,
            "order": null,
            "_view_module_version": "1.2.0",
            "grid_template_areas": null,
            "object_position": null,
            "object_fit": null,
            "grid_auto_columns": null,
            "margin": null,
            "display": null,
            "left": null
          }
        },
        "d3d52e3cb3e1430991211efb58aff88a": {
          "model_module": "@jupyter-widgets/controls",
          "model_name": "SliderStyleModel",
          "state": {
            "_view_name": "StyleView",
            "handle_color": null,
            "_model_name": "SliderStyleModel",
            "description_width": "",
            "_view_module": "@jupyter-widgets/base",
            "_model_module_version": "1.5.0",
            "_view_count": null,
            "_view_module_version": "1.2.0",
            "_model_module": "@jupyter-widgets/controls"
          }
        },
        "ae6e10f43c294b2a80902d298d975082": {
          "model_module": "@jupyter-widgets/base",
          "model_name": "LayoutModel",
          "state": {
            "_view_name": "LayoutView",
            "grid_template_rows": null,
            "right": null,
            "justify_content": null,
            "_view_module": "@jupyter-widgets/base",
            "overflow": null,
            "_model_module_version": "1.2.0",
            "_view_count": null,
            "flex_flow": null,
            "width": null,
            "min_width": null,
            "border": null,
            "align_items": null,
            "bottom": null,
            "_model_module": "@jupyter-widgets/base",
            "top": null,
            "grid_column": null,
            "overflow_y": null,
            "overflow_x": null,
            "grid_auto_flow": null,
            "grid_area": null,
            "grid_template_columns": null,
            "flex": null,
            "_model_name": "LayoutModel",
            "justify_items": null,
            "grid_row": null,
            "max_height": null,
            "align_content": null,
            "visibility": null,
            "align_self": null,
            "height": null,
            "min_height": null,
            "padding": null,
            "grid_auto_rows": null,
            "grid_gap": null,
            "max_width": null,
            "order": null,
            "_view_module_version": "1.2.0",
            "grid_template_areas": null,
            "object_position": null,
            "object_fit": null,
            "grid_auto_columns": null,
            "margin": null,
            "display": null,
            "left": null
          }
        },
        "550beb4c83a24dc4b7f26e6b711881d5": {
          "model_module": "@jupyter-widgets/base",
          "model_name": "LayoutModel",
          "state": {
            "_view_name": "LayoutView",
            "grid_template_rows": null,
            "right": null,
            "justify_content": null,
            "_view_module": "@jupyter-widgets/base",
            "overflow": null,
            "_model_module_version": "1.2.0",
            "_view_count": null,
            "flex_flow": null,
            "width": null,
            "min_width": null,
            "border": null,
            "align_items": null,
            "bottom": null,
            "_model_module": "@jupyter-widgets/base",
            "top": null,
            "grid_column": null,
            "overflow_y": null,
            "overflow_x": null,
            "grid_auto_flow": null,
            "grid_area": null,
            "grid_template_columns": null,
            "flex": null,
            "_model_name": "LayoutModel",
            "justify_items": null,
            "grid_row": null,
            "max_height": null,
            "align_content": null,
            "visibility": null,
            "align_self": null,
            "height": null,
            "min_height": null,
            "padding": null,
            "grid_auto_rows": null,
            "grid_gap": null,
            "max_width": null,
            "order": null,
            "_view_module_version": "1.2.0",
            "grid_template_areas": null,
            "object_position": null,
            "object_fit": null,
            "grid_auto_columns": null,
            "margin": null,
            "display": null,
            "left": null
          }
        }
      }
    }
  },
  "cells": [
    {
      "cell_type": "markdown",
      "metadata": {
        "id": "view-in-github",
        "colab_type": "text"
      },
      "source": [
        "<a href=\"https://colab.research.google.com/github/drewwint/neuromatch-2021/blob/main/tutorials/W1D1_ModelTypes/student/W1D1_Tutorial1.ipynb\" target=\"_parent\"><img src=\"https://colab.research.google.com/assets/colab-badge.svg\" alt=\"Open In Colab\"/></a>"
      ]
    },
    {
      "cell_type": "markdown",
      "metadata": {
        "id": "yPOQRopt41i9"
      },
      "source": [
        "# Tutorial 1: \"What\" models\n",
        "**Week 1, Day 1: Model Types**\n",
        "\n",
        "**By Neuromatch Academy**\n",
        "\n",
        "__Content creators:__ Matt Laporte, Byron Galbraith, Konrad Kording\n",
        "\n",
        "__Content reviewers:__ Dalin Guo, Aishwarya Balwani, Madineh Sarvestani, Maryam Vaziri-Pashkam, Michael Waskom, Ella Batty\n",
        "\n",
        "We would like to acknowledge [Steinmetz _et al._ (2019)](https://www.nature.com/articles/s41586-019-1787-x) for sharing their data, a subset of which is used here.\n"
      ]
    },
    {
      "cell_type": "markdown",
      "metadata": {
        "id": "zSbTz-fk41jA"
      },
      "source": [
        "___\n",
        "# Tutorial Objectives\n",
        "\n",
        "*Estimated timing of tutorial: 50 minutes*\n",
        "\n",
        "This is tutorial 1 of a 3-part series on different flavors of models used to understand neural data. In this tutorial we will explore 'What' models, used to describe the data. To understand what our data looks like, we will visualize it in different ways. Then we will compare it to simple mathematical models. Specifically, we will:\n",
        "\n",
        "- Load a dataset with spiking activity from hundreds of neurons and understand how it is organized\n",
        "- Make plots to visualize characteristics of the spiking activity across the population\n",
        "- Compute the distribution of \"inter-spike intervals\" (ISIs) for a single neuron\n",
        "- Consider several formal models of this distribution's shape and fit them to the data \"by hand\""
      ]
    },
    {
      "cell_type": "code",
      "metadata": {
        "cellView": "form",
        "execution": {
          "iopub.execute_input": "2021-07-03T17:54:16.068512Z",
          "iopub.status.busy": "2021-07-03T17:54:16.067851Z",
          "iopub.status.idle": "2021-07-03T17:54:16.078805Z",
          "shell.execute_reply": "2021-07-03T17:54:16.079308Z"
        },
        "colab": {
          "base_uri": "https://localhost:8080/",
          "height": 501
        },
        "id": "WUNO7q5v41jC",
        "outputId": "010e77c4-3cd8-493a-be1d-4de5872560f7"
      },
      "source": [
        "# @title Tutorial slides\n",
        "\n",
        "# @markdown These are the slides for the videos in all tutorials today\n",
        "from IPython.display import IFrame\n",
        "IFrame(src=f\"https://mfr.ca-1.osf.io/render?url=https://osf.io/6dxwe/?direct%26mode=render%26action=download%26mode=render\", width=854, height=480)"
      ],
      "execution_count": 1,
      "outputs": [
        {
          "output_type": "execute_result",
          "data": {
            "text/html": [
              "\n",
              "        <iframe\n",
              "            width=\"854\"\n",
              "            height=\"480\"\n",
              "            src=\"https://mfr.ca-1.osf.io/render?url=https://osf.io/6dxwe/?direct%26mode=render%26action=download%26mode=render\"\n",
              "            frameborder=\"0\"\n",
              "            allowfullscreen\n",
              "        ></iframe>\n",
              "        "
            ],
            "text/plain": [
              "<IPython.lib.display.IFrame at 0x7fe3c3a5efd0>"
            ]
          },
          "metadata": {
            "tags": []
          },
          "execution_count": 1
        }
      ]
    },
    {
      "cell_type": "code",
      "metadata": {
        "cellView": "form",
        "execution": {
          "iopub.execute_input": "2021-07-03T17:54:16.087459Z",
          "iopub.status.busy": "2021-07-03T17:54:16.086818Z",
          "iopub.status.idle": "2021-07-03T17:54:16.200795Z",
          "shell.execute_reply": "2021-07-03T17:54:16.198330Z"
        },
        "colab": {
          "base_uri": "https://localhost:8080/",
          "height": 581,
          "referenced_widgets": [
            "6d0137bf4d3d4448ae8f954cd2b98f61",
            "10a5739270754fb79a84b7cbc706d82e",
            "3e3d3c7d15bf445e99e003f39361b7ce",
            "b86ec34b846548aeb444559b084bb2a0",
            "021745d3ca7b48d5a2c9db6a17770272",
            "be5448eb74384fa98c2a2bcd6d4e0b72"
          ]
        },
        "id": "L-h6Zji941jE",
        "outputId": "a0cdd8c2-bebf-4ed6-fc88-17679f8ab1e5"
      },
      "source": [
        "# @title Video 1: \"What\" Models\n",
        "from ipywidgets import widgets\n",
        "\n",
        "out2 = widgets.Output()\n",
        "with out2:\n",
        "  from IPython.display import IFrame\n",
        "  class BiliVideo(IFrame):\n",
        "      def __init__(self, id, page=1, width=400, height=300, **kwargs):\n",
        "          self.id=id\n",
        "          src = 'https://player.bilibili.com/player.html?bvid={0}&page={1}'.format(id, page)\n",
        "          super(BiliVideo, self).__init__(src, width, height, **kwargs)\n",
        "\n",
        "  video = BiliVideo(id=\"BV1mz4y1X7ot\", width=854, height=480, fs=1)\n",
        "  print('Video available at https://www.bilibili.com/video/{0}'.format(video.id))\n",
        "  display(video)\n",
        "\n",
        "out1 = widgets.Output()\n",
        "with out1:\n",
        "  from IPython.display import YouTubeVideo\n",
        "  video = YouTubeVideo(id=\"KgqR_jbjMQg\", width=854, height=480, fs=1, rel=0)\n",
        "  print('Video available at https://youtube.com/watch?v=' + video.id)\n",
        "  display(video)\n",
        "\n",
        "out = widgets.Tab([out1, out2])\n",
        "out.set_title(0, 'Youtube')\n",
        "out.set_title(1, 'Bilibili')\n",
        "\n",
        "display(out)"
      ],
      "execution_count": 2,
      "outputs": [
        {
          "output_type": "display_data",
          "data": {
            "application/vnd.jupyter.widget-view+json": {
              "model_id": "6d0137bf4d3d4448ae8f954cd2b98f61",
              "version_minor": 0,
              "version_major": 2
            },
            "text/plain": [
              "Tab(children=(Output(), Output()), _titles={'0': 'Youtube', '1': 'Bilibili'})"
            ]
          },
          "metadata": {
            "tags": []
          }
        }
      ]
    },
    {
      "cell_type": "markdown",
      "metadata": {
        "id": "a0Jmla8m41jF"
      },
      "source": [
        "# Setup\n",
        "\n"
      ]
    },
    {
      "cell_type": "markdown",
      "metadata": {
        "id": "Xf6RYcNa41jH"
      },
      "source": [
        "Python requires you to explictly \"import\" libraries before their functions are available to use. We will always specify our imports at the beginning of each notebook or script."
      ]
    },
    {
      "cell_type": "code",
      "metadata": {
        "execution": {
          "iopub.execute_input": "2021-07-03T17:54:16.207642Z",
          "iopub.status.busy": "2021-07-03T17:54:16.207031Z",
          "iopub.status.idle": "2021-07-03T17:54:18.019171Z",
          "shell.execute_reply": "2021-07-03T17:54:18.018238Z"
        },
        "pycharm": {
          "name": "#%%\n"
        },
        "id": "5dc2Kf1i41jH"
      },
      "source": [
        "import numpy as np\n",
        "import matplotlib.pyplot as plt"
      ],
      "execution_count": 3,
      "outputs": []
    },
    {
      "cell_type": "markdown",
      "metadata": {
        "id": "tECVkcCc41jI"
      },
      "source": [
        "Tutorial notebooks typically begin with several set-up steps that are hidden from view by default.\n",
        "\n",
        "**Important:** Even though the code is hidden, you still need to run it so that the rest of the notebook can work properly. Step through each cell, either by pressing the play button in the upper-left-hand corner or with a keyboard shortcut (`Cmd-Return` on a Mac, `Ctrl-Enter` otherwise). A number will appear inside the brackets (e.g. `[3]`) to tell you that the cell was executed and what order that happened in.\n",
        "\n",
        "If you are curious to see what is going on inside each cell, you can double click to expand. Once expanded, double-click the white space to the right of the editor to collapse again."
      ]
    },
    {
      "cell_type": "code",
      "metadata": {
        "cellView": "form",
        "execution": {
          "iopub.execute_input": "2021-07-03T17:54:18.035304Z",
          "iopub.status.busy": "2021-07-03T17:54:18.031341Z",
          "iopub.status.idle": "2021-07-03T17:54:18.199819Z",
          "shell.execute_reply": "2021-07-03T17:54:18.200358Z"
        },
        "pycharm": {
          "name": "#%%\n"
        },
        "id": "bmJqZYnP41jL"
      },
      "source": [
        "# @title Figure Settings\n",
        "import ipywidgets as widgets #interactive display\n",
        "\n",
        "%matplotlib inline\n",
        "%config InlineBackend.figure_format = 'retina'\n",
        "plt.style.use(\"https://raw.githubusercontent.com/NeuromatchAcademy/course-content/master/nma.mplstyle\")"
      ],
      "execution_count": 4,
      "outputs": []
    },
    {
      "cell_type": "code",
      "metadata": {
        "cellView": "form",
        "execution": {
          "iopub.execute_input": "2021-07-03T17:54:18.206360Z",
          "iopub.status.busy": "2021-07-03T17:54:18.202786Z",
          "iopub.status.idle": "2021-07-03T17:54:18.209079Z",
          "shell.execute_reply": "2021-07-03T17:54:18.209943Z"
        },
        "id": "rwhnWrz941jL"
      },
      "source": [
        "# @title Plotting functions\n",
        "\n",
        "def plot_isis(single_neuron_isis):\n",
        "  plt.hist(single_neuron_isis, bins=50, histtype=\"stepfilled\")\n",
        "  plt.axvline(single_neuron_isis.mean(), color=\"orange\", label=\"Mean ISI\")\n",
        "  plt.xlabel(\"ISI duration (s)\")\n",
        "  plt.ylabel(\"Number of spikes\")\n",
        "  plt.legend()"
      ],
      "execution_count": 5,
      "outputs": []
    },
    {
      "cell_type": "code",
      "metadata": {
        "cellView": "form",
        "execution": {
          "iopub.execute_input": "2021-07-03T17:54:18.216099Z",
          "iopub.status.busy": "2021-07-03T17:54:18.215112Z",
          "iopub.status.idle": "2021-07-03T17:54:20.671000Z",
          "shell.execute_reply": "2021-07-03T17:54:20.671442Z"
        },
        "pycharm": {
          "name": "#%%\n"
        },
        "id": "DMXlUUr441jO"
      },
      "source": [
        "#@title Data retrieval\n",
        "#@markdown This cell downloads the example dataset that we will use in this tutorial.\n",
        "import io\n",
        "import requests\n",
        "r = requests.get('https://osf.io/sy5xt/download')\n",
        "if r.status_code != 200:\n",
        "  print('Failed to download data')\n",
        "else:\n",
        "  spike_times = np.load(io.BytesIO(r.content), allow_pickle=True)['spike_times']"
      ],
      "execution_count": 6,
      "outputs": []
    },
    {
      "cell_type": "markdown",
      "metadata": {
        "id": "p_X-JYVY41jP"
      },
      "source": [
        "---\n",
        "\n",
        "# Section 1: Exploring the Steinmetz dataset\n",
        "\n",
        "In this tutorial we will explore the structure of a neuroscience dataset.\n",
        "\n",
        "We consider a subset of data from a study of [Steinmetz _et al._ (2019)](https://www.nature.com/articles/s41586-019-1787-x). In this study, Neuropixels probes were implanted in the brains of mice. Electrical potentials were measured by hundreds of electrodes along the length of each probe. Each electrode's measurements captured local variations in the electric field due to nearby spiking neurons. A spike sorting algorithm was used to infer spike times and cluster spikes according to common origin: a single cluster of sorted spikes is causally attributed to a single neuron.\n",
        "\n",
        "In particular, a single recording session of spike times and neuron assignments was loaded and assigned to `spike_times` in the preceding setup.\n",
        "\n",
        "Typically a dataset comes with some information about its structure. However, this information may be incomplete. You might also apply some transformations or \"pre-processing\" to create a working representation of the data of interest, which might go partly undocumented depending on the circumstances. In any case it is important to be able to use the available tools to investigate unfamiliar aspects of a data structure.\n",
        "\n",
        "Let's see what our data looks like..."
      ]
    },
    {
      "cell_type": "markdown",
      "metadata": {
        "id": "W66LKYsu41jQ"
      },
      "source": [
        "## Section 1.1: Warming up with `spike_times`"
      ]
    },
    {
      "cell_type": "markdown",
      "metadata": {
        "id": "Sqqkems241jQ"
      },
      "source": [
        "What is the Python type of our variable?"
      ]
    },
    {
      "cell_type": "code",
      "metadata": {
        "execution": {
          "iopub.execute_input": "2021-07-03T17:54:20.676871Z",
          "iopub.status.busy": "2021-07-03T17:54:20.676106Z",
          "iopub.status.idle": "2021-07-03T17:54:20.682191Z",
          "shell.execute_reply": "2021-07-03T17:54:20.681644Z"
        },
        "pycharm": {
          "name": "#%%\n"
        },
        "colab": {
          "base_uri": "https://localhost:8080/"
        },
        "id": "kqiybtcV41jR",
        "outputId": "405e28c7-b1f9-4990-de34-62419aa92790"
      },
      "source": [
        "type(spike_times)"
      ],
      "execution_count": 7,
      "outputs": [
        {
          "output_type": "execute_result",
          "data": {
            "text/plain": [
              "numpy.ndarray"
            ]
          },
          "metadata": {
            "tags": []
          },
          "execution_count": 7
        }
      ]
    },
    {
      "cell_type": "markdown",
      "metadata": {
        "id": "kSAxmOsP41jR"
      },
      "source": [
        "You should see `numpy.ndarray`, which means that it's a normal NumPy array.\n",
        "\n",
        "If you see an error message, it probably means that you did not execute the set-up cells at the top of the notebook. So go ahead and make sure to do that.\n",
        "\n",
        "Once everything is running properly, we can ask the next question about the dataset: what's its shape?"
      ]
    },
    {
      "cell_type": "code",
      "metadata": {
        "execution": {
          "iopub.execute_input": "2021-07-03T17:54:20.686733Z",
          "iopub.status.busy": "2021-07-03T17:54:20.686101Z",
          "iopub.status.idle": "2021-07-03T17:54:20.691916Z",
          "shell.execute_reply": "2021-07-03T17:54:20.692367Z"
        },
        "pycharm": {
          "name": "#%%\n"
        },
        "colab": {
          "base_uri": "https://localhost:8080/"
        },
        "id": "Sms-31Nv41jR",
        "outputId": "ddf68357-ce13-473b-d3d2-b394007a0f1b"
      },
      "source": [
        "spike_times.shape"
      ],
      "execution_count": 8,
      "outputs": [
        {
          "output_type": "execute_result",
          "data": {
            "text/plain": [
              "(734,)"
            ]
          },
          "metadata": {
            "tags": []
          },
          "execution_count": 8
        }
      ]
    },
    {
      "cell_type": "markdown",
      "metadata": {
        "id": "TeloWcWt41jS"
      },
      "source": [
        "There are 734 entries in one dimension, and no other dimensions. What is the Python type of the first entry, and what is *its* shape?"
      ]
    },
    {
      "cell_type": "code",
      "metadata": {
        "execution": {
          "iopub.execute_input": "2021-07-03T17:54:20.697800Z",
          "iopub.status.busy": "2021-07-03T17:54:20.697199Z",
          "iopub.status.idle": "2021-07-03T17:54:20.701384Z",
          "shell.execute_reply": "2021-07-03T17:54:20.700890Z"
        },
        "pycharm": {
          "name": "#%%\n"
        },
        "colab": {
          "base_uri": "https://localhost:8080/"
        },
        "id": "FV2Z4OMe41jS",
        "outputId": "30824b72-1daa-47b2-da09-db75b28f2e17"
      },
      "source": [
        "idx = 0\n",
        "print(\n",
        "  type(spike_times[idx]),\n",
        "  spike_times[idx].shape,\n",
        "  sep=\"\\n\",\n",
        ")"
      ],
      "execution_count": 10,
      "outputs": [
        {
          "output_type": "stream",
          "text": [
            "<class 'numpy.ndarray'>\n",
            "(826,)\n"
          ],
          "name": "stdout"
        }
      ]
    },
    {
      "cell_type": "markdown",
      "metadata": {
        "id": "JaAcW16941jT"
      },
      "source": [
        "It's also a NumPy array with a 1D shape! Why didn't this show up as a second dimension in the shape of `spike_times`? That is, why not `spike_times.shape == (734, 826)`?\n",
        "\n",
        "To investigate, let's check another entry."
      ]
    },
    {
      "cell_type": "code",
      "metadata": {
        "execution": {
          "iopub.execute_input": "2021-07-03T17:54:20.710021Z",
          "iopub.status.busy": "2021-07-03T17:54:20.707287Z",
          "iopub.status.idle": "2021-07-03T17:54:20.712941Z",
          "shell.execute_reply": "2021-07-03T17:54:20.712371Z"
        },
        "pycharm": {
          "name": "#%%\n"
        },
        "colab": {
          "base_uri": "https://localhost:8080/"
        },
        "id": "lvSvj-jj41jT",
        "outputId": "6ffe136f-f6eb-49f9-a9e6-16d35018f342"
      },
      "source": [
        "idx = 321\n",
        "print(\n",
        "  type(spike_times[idx]),\n",
        "  spike_times[idx].shape,\n",
        "  sep=\"\\n\",\n",
        ")"
      ],
      "execution_count": 11,
      "outputs": [
        {
          "output_type": "stream",
          "text": [
            "<class 'numpy.ndarray'>\n",
            "(9723,)\n"
          ],
          "name": "stdout"
        }
      ]
    },
    {
      "cell_type": "code",
      "metadata": {
        "colab": {
          "base_uri": "https://localhost:8080/"
        },
        "id": "s9Zf7fn66OiE",
        "outputId": "dec9c354-ab59-4edb-839e-9521502bae43"
      },
      "source": [
        "spike_times[321].shape"
      ],
      "execution_count": 15,
      "outputs": [
        {
          "output_type": "execute_result",
          "data": {
            "text/plain": [
              "(9723,)"
            ]
          },
          "metadata": {
            "tags": []
          },
          "execution_count": 15
        }
      ]
    },
    {
      "cell_type": "markdown",
      "metadata": {
        "id": "cVSS23vt41jU"
      },
      "source": [
        "It's also a 1D NumPy array, but it has a different shape. Checking the NumPy types of the values in these arrays, and their first few elements, we see they are composed of floating point numbers (not another level of `np.ndarray`):"
      ]
    },
    {
      "cell_type": "code",
      "metadata": {
        "execution": {
          "iopub.execute_input": "2021-07-03T17:54:20.722331Z",
          "iopub.status.busy": "2021-07-03T17:54:20.720941Z",
          "iopub.status.idle": "2021-07-03T17:54:20.724840Z",
          "shell.execute_reply": "2021-07-03T17:54:20.724270Z"
        },
        "pycharm": {
          "name": "#%%\n"
        },
        "colab": {
          "base_uri": "https://localhost:8080/"
        },
        "id": "G7gCViiH41jV",
        "outputId": "15c75d24-d460-49b1-a95a-6c6ab158dc6e"
      },
      "source": [
        "i_neurons = [0, 321]\n",
        "i_print = slice(0, 5)\n",
        "\n",
        "for i in i_neurons:\n",
        "  print(\n",
        "    \"Neuron {}:\".format(i),\n",
        "    spike_times[i].dtype,\n",
        "    spike_times[i][i_print],\n",
        "    \"\\n\",\n",
        "    sep=\"\\n\"\n",
        "  )"
      ],
      "execution_count": 16,
      "outputs": [
        {
          "output_type": "stream",
          "text": [
            "Neuron 0:\n",
            "float32\n",
            "[ 0.8149   14.822467 24.9646   25.1436   38.8709  ]\n",
            "\n",
            "\n",
            "Neuron 321:\n",
            "float32\n",
            "[1.0698667 1.1536334 1.2403667 1.7072    1.799    ]\n",
            "\n",
            "\n"
          ],
          "name": "stdout"
        }
      ]
    },
    {
      "cell_type": "markdown",
      "metadata": {
        "id": "VHEjra3_41jV"
      },
      "source": [
        "Note that this time we've checked the NumPy `dtype` rather than the Python variable type. These two arrays contain floating point numbers (\"floats\") with 32 bits of precision.\n",
        "\n",
        "The basic picture is coming together:\n",
        "- `spike_times` is 1D, its entries are NumPy arrays, and its length is the number of neurons (734): by indexing it, we select a subset of neurons.\n",
        "- An array in `spike_times` is also 1D and corresponds to a single neuron; its entries are floating point numbers, and its length is the number of spikes attributed to that neuron. By indexing it, we select a subset of spike times for that neuron.\n",
        "\n",
        "Visually, you can think of the data structure as looking something like this:\n",
        "\n",
        "```\n",
        "| . . . . . |\n",
        "| . . . . . . . . |\n",
        "| . . . |\n",
        "| . . . . . . . |\n",
        "```\n",
        "\n",
        "Before moving on, we'll calculate and store the number of neurons in the dataset and the number of spikes per neuron:"
      ]
    },
    {
      "cell_type": "code",
      "metadata": {
        "execution": {
          "iopub.execute_input": "2021-07-03T17:54:20.731464Z",
          "iopub.status.busy": "2021-07-03T17:54:20.730149Z",
          "iopub.status.idle": "2021-07-03T17:54:20.733629Z",
          "shell.execute_reply": "2021-07-03T17:54:20.733072Z"
        },
        "pycharm": {
          "name": "#%%\n"
        },
        "colab": {
          "base_uri": "https://localhost:8080/"
        },
        "id": "y2vOO0fh41jX",
        "outputId": "6bc7dbfd-0989-43ea-8547-ae058a89d491"
      },
      "source": [
        "n_neurons = len(spike_times)\n",
        "total_spikes_per_neuron = [len(spike_times_i) for spike_times_i in spike_times]\n",
        "\n",
        "print(f\"Number of neurons: {n_neurons}\")\n",
        "print(f\"Number of spikes for first five neurons: {total_spikes_per_neuron[:5]}\")"
      ],
      "execution_count": 17,
      "outputs": [
        {
          "output_type": "stream",
          "text": [
            "Number of neurons: 734\n",
            "Number of spikes for first five neurons: [826, 2818, 3953, 646, 1115]\n"
          ],
          "name": "stdout"
        }
      ]
    },
    {
      "cell_type": "code",
      "metadata": {
        "cellView": "form",
        "execution": {
          "iopub.execute_input": "2021-07-03T17:54:20.748484Z",
          "iopub.status.busy": "2021-07-03T17:54:20.746673Z",
          "iopub.status.idle": "2021-07-03T17:54:20.806460Z",
          "shell.execute_reply": "2021-07-03T17:54:20.803939Z"
        },
        "id": "3vZfiacx41jX"
      },
      "source": [
        "# @title Video 2: Exploring the dataset\n",
        "from ipywidgets import widgets\n",
        "\n",
        "out2 = widgets.Output()\n",
        "with out2:\n",
        "  from IPython.display import IFrame\n",
        "  class BiliVideo(IFrame):\n",
        "      def __init__(self, id, page=1, width=400, height=300, **kwargs):\n",
        "          self.id=id\n",
        "          src = 'https://player.bilibili.com/player.html?bvid={0}&page={1}'.format(id, page)\n",
        "          super(BiliVideo, self).__init__(src, width, height, **kwargs)\n",
        "\n",
        "  video = BiliVideo(id=\"BV1Hp4y1S7Au\", width=854, height=480, fs=1)\n",
        "  print('Video available at https://www.bilibili.com/video/{0}'.format(video.id))\n",
        "  display(video)\n",
        "\n",
        "out1 = widgets.Output()\n",
        "with out1:\n",
        "  from IPython.display import YouTubeVideo\n",
        "  video = YouTubeVideo(id=\"oHwYWUI_o1U\", width=854, height=480, fs=1, rel=0)\n",
        "  print('Video available at https://youtube.com/watch?v=' + video.id)\n",
        "  display(video)\n",
        "\n",
        "out = widgets.Tab([out1, out2])\n",
        "out.set_title(0, 'Youtube')\n",
        "out.set_title(1, 'Bilibili')\n",
        "\n",
        "display(out)"
      ],
      "execution_count": null,
      "outputs": []
    },
    {
      "cell_type": "markdown",
      "metadata": {
        "id": "ONUqKn6n41jY"
      },
      "source": [
        "## Section 1.2: Getting warmer: counting and plotting total spike counts\n",
        "\n",
        "As we've seen, the number of spikes over the entire recording is variable between neurons. More generally, some neurons tend to spike more than others in a given period. Lets explore what the distribution of spiking looks like across all the neurons in the dataset."
      ]
    },
    {
      "cell_type": "markdown",
      "metadata": {
        "id": "gSYall6041jY"
      },
      "source": [
        "Are most neurons \"loud\" or \"quiet\", compared to the average? To see, we'll define bins of constant width in terms of total spikes and count the neurons that fall in each bin. This is known as a \"histogram\".\n",
        "\n",
        "You can plot a histogram with the matplotlib function `plt.hist`. If you just need to compute it, you can use the numpy function `np.histogram` instead."
      ]
    },
    {
      "cell_type": "code",
      "metadata": {
        "execution": {
          "iopub.execute_input": "2021-07-03T17:54:20.831106Z",
          "iopub.status.busy": "2021-07-03T17:54:20.830471Z",
          "iopub.status.idle": "2021-07-03T17:54:21.104468Z",
          "shell.execute_reply": "2021-07-03T17:54:21.103509Z"
        },
        "pycharm": {
          "name": "#%%\n"
        },
        "colab": {
          "base_uri": "https://localhost:8080/",
          "height": 431
        },
        "id": "He7mRAc641jZ",
        "outputId": "9e9bf772-e2a7-4016-d84b-8b70fd841bb8"
      },
      "source": [
        "plt.hist(total_spikes_per_neuron, bins=50, histtype=\"stepfilled\")\n",
        "plt.xlabel(\"Total spikes per neuron\")\n",
        "plt.ylabel(\"Number of neurons\");"
      ],
      "execution_count": 18,
      "outputs": [
        {
          "output_type": "display_data",
          "data": {
            "image/png": "[encoded data removed]",
            "text/plain": [
              "<Figure size 576x432 with 1 Axes>"
            ]
          },
          "metadata": {
            "tags": [],
            "image/png": {
              "width": 558,
              "height": 414
            },
            "needs_background": "light"
          }
        }
      ]
    },
    {
      "cell_type": "code",
      "metadata": {
        "colab": {
          "base_uri": "https://localhost:8080/"
        },
        "id": "0nZe1QuS7iRQ",
        "outputId": "e331069a-ea81-40e6-b299-33c500fff200"
      },
      "source": [
        "np.histogram(total_spikes_per_neuron, bins=50)"
      ],
      "execution_count": 20,
      "outputs": [
        {
          "output_type": "execute_result",
          "data": {
            "text/plain": [
              "(array([237, 129,  80,  52,  43,  38,  29,  29,  19,  10,   9,  11,   4,\n",
              "          4,   3,   5,   4,   3,   0,   2,   5,   1,   0,   2,   1,   3,\n",
              "          1,   1,   0,   2,   0,   1,   1,   0,   0,   0,   0,   2,   0,\n",
              "          0,   0,   0,   1,   0,   0,   0,   1,   0,   0,   1]),\n",
              " array([1.1800000e+02, 2.6221200e+03, 5.1262400e+03, 7.6303600e+03,\n",
              "        1.0134480e+04, 1.2638600e+04, 1.5142720e+04, 1.7646840e+04,\n",
              "        2.0150960e+04, 2.2655080e+04, 2.5159200e+04, 2.7663320e+04,\n",
              "        3.0167440e+04, 3.2671560e+04, 3.5175680e+04, 3.7679800e+04,\n",
              "        4.0183920e+04, 4.2688040e+04, 4.5192160e+04, 4.7696280e+04,\n",
              "        5.0200400e+04, 5.2704520e+04, 5.5208640e+04, 5.7712760e+04,\n",
              "        6.0216880e+04, 6.2721000e+04, 6.5225120e+04, 6.7729240e+04,\n",
              "        7.0233360e+04, 7.2737480e+04, 7.5241600e+04, 7.7745720e+04,\n",
              "        8.0249840e+04, 8.2753960e+04, 8.5258080e+04, 8.7762200e+04,\n",
              "        9.0266320e+04, 9.2770440e+04, 9.5274560e+04, 9.7778680e+04,\n",
              "        1.0028280e+05, 1.0278692e+05, 1.0529104e+05, 1.0779516e+05,\n",
              "        1.1029928e+05, 1.1280340e+05, 1.1530752e+05, 1.1781164e+05,\n",
              "        1.2031576e+05, 1.2281988e+05, 1.2532400e+05]))"
            ]
          },
          "metadata": {
            "tags": []
          },
          "execution_count": 20
        }
      ]
    },
    {
      "cell_type": "markdown",
      "metadata": {
        "id": "qRCHaiXq41jZ"
      },
      "source": [
        "Let's see what percentage of neurons have a below-average spike count:"
      ]
    },
    {
      "cell_type": "code",
      "metadata": {
        "execution": {
          "iopub.execute_input": "2021-07-03T17:54:21.109765Z",
          "iopub.status.busy": "2021-07-03T17:54:21.109111Z",
          "iopub.status.idle": "2021-07-03T17:54:21.113872Z",
          "shell.execute_reply": "2021-07-03T17:54:21.113384Z"
        },
        "pycharm": {
          "name": "#%%\n"
        },
        "colab": {
          "base_uri": "https://localhost:8080/"
        },
        "id": "ibl07Erl41ja",
        "outputId": "235cca71-4607-4007-e382-551ae1bcffcb"
      },
      "source": [
        "mean_spike_count = np.mean(total_spikes_per_neuron)\n",
        "frac_below_mean = (total_spikes_per_neuron < mean_spike_count).mean()\n",
        "print(f\"{frac_below_mean:2.1%} of neurons are below the mean\")"
      ],
      "execution_count": 29,
      "outputs": [
        {
          "output_type": "stream",
          "text": [
            "68.0% of neurons are below the mean\n"
          ],
          "name": "stdout"
        }
      ]
    },
    {
      "cell_type": "markdown",
      "metadata": {
        "id": "J8Z2oEjK41ja"
      },
      "source": [
        "We can also see this by adding the average spike count to the histogram plot:"
      ]
    },
    {
      "cell_type": "code",
      "metadata": {
        "execution": {
          "iopub.execute_input": "2021-07-03T17:54:21.143165Z",
          "iopub.status.busy": "2021-07-03T17:54:21.142193Z",
          "iopub.status.idle": "2021-07-03T17:54:21.408641Z",
          "shell.execute_reply": "2021-07-03T17:54:21.408096Z"
        },
        "pycharm": {
          "name": "#%%\n"
        },
        "colab": {
          "base_uri": "https://localhost:8080/",
          "height": 431
        },
        "id": "-NzWNoF-41ja",
        "outputId": "84bf87cc-76d4-4116-ec06-428a3efe011d"
      },
      "source": [
        "plt.hist(total_spikes_per_neuron, bins=50, histtype=\"stepfilled\")\n",
        "plt.xlabel(\"Total spikes per neuron\")\n",
        "plt.ylabel(\"Number of neurons\")\n",
        "plt.axvline(mean_spike_count, color=\"orange\", label=\"Mean neuron\")\n",
        "plt.legend();"
      ],
      "execution_count": 30,
      "outputs": [
        {
          "output_type": "display_data",
          "data": {
            "image/png": "[encoded data removed]",
            "text/plain": [
              "<Figure size 576x432 with 1 Axes>"
            ]
          },
          "metadata": {
            "tags": [],
            "image/png": {
              "width": 558,
              "height": 414
            },
            "needs_background": "light"
          }
        }
      ]
    },
    {
      "cell_type": "markdown",
      "metadata": {
        "id": "C-aDS9Mt8hq1"
      },
      "source": [
        "### trying out median instead"
      ]
    },
    {
      "cell_type": "code",
      "metadata": {
        "colab": {
          "base_uri": "https://localhost:8080/"
        },
        "id": "zgL3ZZIr8hER",
        "outputId": "22366662-405f-44ab-ea68-b3e09fb986e2"
      },
      "source": [
        "median_spike_count = np.median(total_spikes_per_neuron)\n",
        "frac_below_mean = (total_spikes_per_neuron < median_spike_count).mean()\n",
        "print(f\"{frac_below_mean:2.1%} of neurons are below the median\")"
      ],
      "execution_count": 26,
      "outputs": [
        {
          "output_type": "stream",
          "text": [
            "49.9% of neurons are below the median\n"
          ],
          "name": "stdout"
        }
      ]
    },
    {
      "cell_type": "code",
      "metadata": {
        "colab": {
          "base_uri": "https://localhost:8080/",
          "height": 431
        },
        "id": "pm9TEDz88qA3",
        "outputId": "ccbc4195-6bbb-42b7-ee44-5455783503ad"
      },
      "source": [
        "plt.hist(total_spikes_per_neuron, bins=50, histtype=\"stepfilled\")\n",
        "plt.xlabel(\"Total spikes per neuron\")\n",
        "plt.ylabel(\"Number of neurons\")\n",
        "plt.axvline(median_spike_count, color=\"orange\", label=\"median neuron\")\n",
        "plt.legend();"
      ],
      "execution_count": 27,
      "outputs": [
        {
          "output_type": "display_data",
          "data": {
            "image/png": "[encoded data removed]",
            "text/plain": [
              "<Figure size 576x432 with 1 Axes>"
            ]
          },
          "metadata": {
            "tags": [],
            "image/png": {
              "width": 558,
              "height": 414
            },
            "needs_background": "light"
          }
        }
      ]
    },
    {
      "cell_type": "markdown",
      "metadata": {
        "id": "QeffKpN541ja"
      },
      "source": [
        "This shows that the majority of neurons are relatively \"quiet\" compared to the mean, while a small number of neurons are exceptionally \"loud\": they must have spiked more often to reach a large count.\n",
        "\n",
        "### Coding Exercise 1.2: Comparing mean and median neurons\n",
        "\n",
        "If the mean neuron is more active than 68% of the population, what does that imply about the relationship between the mean neuron and the median neuron?\n",
        "\n",
        "*Exercise objective:* Reproduce the plot above, but add the median neuron.\n"
      ]
    },
    {
      "cell_type": "code",
      "metadata": {
        "execution": {
          "iopub.execute_input": "2021-07-03T17:54:21.417212Z",
          "iopub.status.busy": "2021-07-03T17:54:21.416528Z",
          "iopub.status.idle": "2021-07-03T17:54:21.534528Z",
          "shell.execute_reply": "2021-07-03T17:54:21.532642Z"
        },
        "pycharm": {
          "name": "#%%\n"
        },
        "colab": {
          "base_uri": "https://localhost:8080/",
          "height": 449
        },
        "id": "oJW0WObF41ja",
        "outputId": "d2efcbf4-3a4f-494e-d29d-10a214eceaba"
      },
      "source": [
        "#################################################################################\n",
        "## TODO for students:\n",
        "# Fill out function and remove\n",
        "## raise NotImplementedError(\"Student exercise: complete histogram plotting with median\")\n",
        "#################################################################################\n",
        "\n",
        "# Compute median spike count\n",
        "median_spike_count = np.median(total_spikes_per_neuron)  # Hint: Try the function np.median\n",
        "\n",
        "# Visualize median, mean, and histogram\n",
        "plt.hist(total_spikes_per_neuron, bins=50, histtype=\"stepfilled\")\n",
        "plt.axvline(median_spike_count, color=\"limegreen\", label=\"Median neuron\")\n",
        "plt.axvline(mean_spike_count, color=\"orange\", label=\"Mean neuron\")\n",
        "plt.xlabel(\"Total spikes per neuron\")\n",
        "plt.ylabel(\"Number of neurons\")\n",
        "plt.legend()"
      ],
      "execution_count": 31,
      "outputs": [
        {
          "output_type": "execute_result",
          "data": {
            "text/plain": [
              "<matplotlib.legend.Legend at 0x7fe3bb9df590>"
            ]
          },
          "metadata": {
            "tags": []
          },
          "execution_count": 31
        },
        {
          "output_type": "display_data",
          "data": {
            "image/png": "[encoded data removed]",
            "text/plain": [
              "<Figure size 576x432 with 1 Axes>"
            ]
          },
          "metadata": {
            "tags": [],
            "image/png": {
              "width": 558,
              "height": 414
            },
            "needs_background": "light"
          }
        }
      ]
    },
    {
      "cell_type": "markdown",
      "metadata": {
        "execution": {
          "iopub.execute_input": "2021-07-03T17:54:21.567423Z",
          "iopub.status.busy": "2021-07-03T17:54:21.566322Z",
          "iopub.status.idle": "2021-07-03T17:54:21.931828Z",
          "shell.execute_reply": "2021-07-03T17:54:21.932371Z"
        },
        "pycharm": {
          "name": "#%%\n"
        },
        "id": "hRpHXyy541jb"
      },
      "source": [
        "[*Click for solution*](https://github.com/NeuromatchAcademy/course-content/tree/master//tutorials/W1D1_ModelTypes/solutions/W1D1_Tutorial1_Solution_9af91fe0.py)\n",
        "\n",
        "*Example output:*\n",
        "\n",
        "<img alt='Solution hint' align='left' width=1116.0 height=827.0 src=https://raw.githubusercontent.com/NeuromatchAcademy/course-content/master/tutorials/W1D1_ModelTypes/static/W1D1_Tutorial1_Solution_9af91fe0_0.png>\n",
        "\n"
      ]
    },
    {
      "cell_type": "markdown",
      "metadata": {
        "id": "WwSwkABj41jc"
      },
      "source": [
        "\n",
        "*Bonus:* The median is the 50th percentile. What about other percentiles? Can you show the interquartile range on the histogram?"
      ]
    },
    {
      "cell_type": "markdown",
      "metadata": {
        "id": "T5fAcad841jd"
      },
      "source": [
        "---\n",
        "\n",
        "# Section 2: Visualizing neuronal spiking activity\n",
        "\n",
        "*Estimated timing to here from start of tutorial: 15 min*"
      ]
    },
    {
      "cell_type": "markdown",
      "metadata": {
        "id": "ua2kAdi941jd"
      },
      "source": [
        "## Section 2.1: Getting a subset of the data\n",
        "\n",
        "Now we'll visualize trains of spikes. Because the recordings are long, we will first define a short time interval and restrict the visualization to only the spikes in this interval. We defined a helper function, `restrict_spike_times`, to do this for you. If you call `help()` on the function, it will tell you a little bit about itself:"
      ]
    },
    {
      "cell_type": "code",
      "metadata": {
        "execution": {
          "iopub.execute_input": "2021-07-03T17:54:21.939391Z",
          "iopub.status.busy": "2021-07-03T17:54:21.938026Z",
          "iopub.status.idle": "2021-07-03T17:54:21.940041Z",
          "shell.execute_reply": "2021-07-03T17:54:21.940561Z"
        },
        "id": "YdYii8_g41je"
      },
      "source": [
        "# @markdown Execute this cell for helper function `restrict_spike_times`\n",
        "def restrict_spike_times(spike_times, interval):\n",
        "  \"\"\"Given a spike_time dataset, restrict to spikes within given interval.\n",
        "\n",
        "  Args:\n",
        "    spike_times (sequence of np.ndarray): List or array of arrays,\n",
        "      each inner array has spike times for a single neuron.\n",
        "    interval (tuple): Min, max time values; keep min <= t < max.\n",
        "\n",
        "  Returns:\n",
        "    np.ndarray: like `spike_times`, but only within `interval`\n",
        "  \"\"\"\n",
        "  interval_spike_times = []\n",
        "  for spikes in spike_times:\n",
        "    interval_mask = (spikes >= interval[0]) & (spikes < interval[1])\n",
        "    interval_spike_times.append(spikes[interval_mask])\n",
        "  return np.array(interval_spike_times, object)"
      ],
      "execution_count": 33,
      "outputs": []
    },
    {
      "cell_type": "code",
      "metadata": {
        "execution": {
          "iopub.execute_input": "2021-07-03T17:54:21.946273Z",
          "iopub.status.busy": "2021-07-03T17:54:21.944852Z",
          "iopub.status.idle": "2021-07-03T17:54:21.948195Z",
          "shell.execute_reply": "2021-07-03T17:54:21.947642Z"
        },
        "pycharm": {
          "name": "#%%\n"
        },
        "colab": {
          "base_uri": "https://localhost:8080/"
        },
        "id": "Ieyv3EGv41jf",
        "outputId": "d856eb28-0a6c-4195-ac70-d2cc98bc7500"
      },
      "source": [
        "help(restrict_spike_times)"
      ],
      "execution_count": 35,
      "outputs": [
        {
          "output_type": "stream",
          "text": [
            "Help on function restrict_spike_times in module __main__:\n",
            "\n",
            "restrict_spike_times(spike_times, interval)\n",
            "    Given a spike_time dataset, restrict to spikes within given interval.\n",
            "    \n",
            "    Args:\n",
            "      spike_times (sequence of np.ndarray): List or array of arrays,\n",
            "        each inner array has spike times for a single neuron.\n",
            "      interval (tuple): Min, max time values; keep min <= t < max.\n",
            "    \n",
            "    Returns:\n",
            "      np.ndarray: like `spike_times`, but only within `interval`\n",
            "\n"
          ],
          "name": "stdout"
        }
      ]
    },
    {
      "cell_type": "code",
      "metadata": {
        "execution": {
          "iopub.execute_input": "2021-07-03T17:54:21.952491Z",
          "iopub.status.busy": "2021-07-03T17:54:21.951885Z",
          "iopub.status.idle": "2021-07-03T17:54:21.967180Z",
          "shell.execute_reply": "2021-07-03T17:54:21.966623Z"
        },
        "pycharm": {
          "name": "#%%\n"
        },
        "id": "h4Zg2Bq541jf"
      },
      "source": [
        "t_interval = (5, 15)  # units are seconds after start of recording\n",
        "interval_spike_times = restrict_spike_times(spike_times, t_interval)"
      ],
      "execution_count": 37,
      "outputs": []
    },
    {
      "cell_type": "code",
      "metadata": {
        "id": "oAOwqGog-jwq"
      },
      "source": [
        "#print(interval_spike_times)"
      ],
      "execution_count": 46,
      "outputs": []
    },
    {
      "cell_type": "markdown",
      "metadata": {
        "id": "x_7aOkCr41jf"
      },
      "source": [
        "Is this a representative interval? What fraction of the total spikes fall in this interval?"
      ]
    },
    {
      "cell_type": "code",
      "metadata": {
        "execution": {
          "iopub.execute_input": "2021-07-03T17:54:21.973917Z",
          "iopub.status.busy": "2021-07-03T17:54:21.972504Z",
          "iopub.status.idle": "2021-07-03T17:54:21.976061Z",
          "shell.execute_reply": "2021-07-03T17:54:21.975519Z"
        },
        "pycharm": {
          "name": "#%%\n"
        },
        "colab": {
          "base_uri": "https://localhost:8080/"
        },
        "id": "6oDzOkfZ41jg",
        "outputId": "e5994235-4a1d-47d2-f677-7a37fd6c6ef3"
      },
      "source": [
        "original_counts = sum([len(spikes) for spikes in spike_times])\n",
        "interval_counts = sum([len(spikes) for spikes in interval_spike_times])\n",
        "frac_interval_spikes = interval_counts / original_counts\n",
        "print(f\"{frac_interval_spikes:.2%} of the total spikes are in the interval\")"
      ],
      "execution_count": 47,
      "outputs": [
        {
          "output_type": "stream",
          "text": [
            "0.33% of the total spikes are in the interval\n"
          ],
          "name": "stdout"
        }
      ]
    },
    {
      "cell_type": "markdown",
      "metadata": {
        "id": "7o8WeubB41jg"
      },
      "source": [
        "How does this compare to the ratio between the interval duration and the experiment duration? (What fraction of the total time is in this interval?)\n",
        "\n",
        "We can approximate the experiment duration by taking the minimum and maximum spike time in the whole dataset. To do that, we \"concatenate\" all of the neurons into one array and then use `np.ptp` (\"peak-to-peak\") to get the difference between the maximum and minimum value:"
      ]
    },
    {
      "cell_type": "code",
      "metadata": {
        "execution": {
          "iopub.execute_input": "2021-07-03T17:54:21.980602Z",
          "iopub.status.busy": "2021-07-03T17:54:21.980011Z",
          "iopub.status.idle": "2021-07-03T17:54:21.999935Z",
          "shell.execute_reply": "2021-07-03T17:54:22.000568Z"
        },
        "pycharm": {
          "name": "#%%\n"
        },
        "colab": {
          "base_uri": "https://localhost:8080/"
        },
        "id": "7PAykKQ041jg",
        "outputId": "43a231e2-c751-42d9-e2b0-5c012bb843ed"
      },
      "source": [
        "spike_times_flat = np.concatenate(spike_times)\n",
        "experiment_duration = np.ptp(spike_times_flat)\n",
        "interval_duration = t_interval[1] - t_interval[0]\n",
        "\n",
        "frac_interval_time = interval_duration / experiment_duration\n",
        "print(f\"{frac_interval_time:.2%} of the total time is in the interval\")"
      ],
      "execution_count": 48,
      "outputs": [
        {
          "output_type": "stream",
          "text": [
            "0.37% of the total time is in the interval\n"
          ],
          "name": "stdout"
        }
      ]
    },
    {
      "cell_type": "markdown",
      "metadata": {
        "id": "ffPwD3Xm41jh"
      },
      "source": [
        "These two values—the fraction of total spikes and the fraction of total time—are similar. This suggests the average spike rate of the neuronal population is not very different in this interval compared to the entire recording.\n",
        "\n",
        "## Section 2.2: Plotting spike trains and rasters\n",
        "\n",
        "Now that we have a representative subset, we're ready to plot the spikes, using the matplotlib `plt.eventplot` function. Let's look at a single neuron first:"
      ]
    },
    {
      "cell_type": "code",
      "metadata": {
        "execution": {
          "iopub.execute_input": "2021-07-03T17:54:22.019853Z",
          "iopub.status.busy": "2021-07-03T17:54:22.019192Z",
          "iopub.status.idle": "2021-07-03T17:54:22.196514Z",
          "shell.execute_reply": "2021-07-03T17:54:22.195642Z"
        },
        "pycharm": {
          "name": "#%%\n"
        },
        "colab": {
          "base_uri": "https://localhost:8080/",
          "height": 431
        },
        "id": "XQGvBgYF41jh",
        "outputId": "0add3b00-f2dc-4364-f454-ad0b89d60e40"
      },
      "source": [
        "neuron_idx = 1\n",
        "plt.eventplot(interval_spike_times[neuron_idx], color=\".2\")\n",
        "plt.xlabel(\"Time (s)\")\n",
        "plt.yticks([]);"
      ],
      "execution_count": 49,
      "outputs": [
        {
          "output_type": "display_data",
          "data": {
            "image/png": "[encoded data removed]",
            "text/plain": [
              "<Figure size 576x432 with 1 Axes>"
            ]
          },
          "metadata": {
            "tags": [],
            "image/png": {
              "width": 557,
              "height": 414
            },
            "needs_background": "light"
          }
        }
      ]
    },
    {
      "cell_type": "markdown",
      "metadata": {
        "id": "ta1j6nCe41ji"
      },
      "source": [
        "We can also plot multiple neurons. Here are three:"
      ]
    },
    {
      "cell_type": "code",
      "metadata": {
        "execution": {
          "iopub.execute_input": "2021-07-03T17:54:22.270761Z",
          "iopub.status.busy": "2021-07-03T17:54:22.270162Z",
          "iopub.status.idle": "2021-07-03T17:54:22.424884Z",
          "shell.execute_reply": "2021-07-03T17:54:22.423869Z"
        },
        "pycharm": {
          "name": "#%%\n"
        },
        "colab": {
          "base_uri": "https://localhost:8080/",
          "height": 430
        },
        "id": "_Ea2TN9r41jj",
        "outputId": "99e71fa8-ab21-4585-fe27-af8a77e99229"
      },
      "source": [
        "neuron_idx = [1, 11, 51]\n",
        "plt.eventplot(interval_spike_times[neuron_idx], color=\".2\")\n",
        "plt.xlabel(\"Time (s)\")\n",
        "plt.yticks([]);"
      ],
      "execution_count": 51,
      "outputs": [
        {
          "output_type": "display_data",
          "data": {
            "image/png": "[encoded data removed]",
            "text/plain": [
              "<Figure size 576x432 with 1 Axes>"
            ]
          },
          "metadata": {
            "tags": [],
            "image/png": {
              "width": 557,
              "height": 413
            },
            "needs_background": "light"
          }
        }
      ]
    },
    {
      "cell_type": "code",
      "metadata": {
        "colab": {
          "base_uri": "https://localhost:8080/"
        },
        "id": "0hwfoVsXBKMB",
        "outputId": "7e7bc89a-3500-4ee3-83b6-d4b74fb6b5a2"
      },
      "source": [
        "interval_spike_times[neuron_idx]"
      ],
      "execution_count": 52,
      "outputs": [
        {
          "output_type": "execute_result",
          "data": {
            "text/plain": [
              "array([array([ 5.0386   ,  5.4224334,  5.435567 ,  5.4808664,  5.6014   ,\n",
              "        5.6606336,  7.0313334,  7.2695665,  7.338967 ,  7.3663   ,\n",
              "        7.9765   ,  9.149966 , 10.4380665, 10.441033 , 10.453267 ,\n",
              "       10.486067 , 10.499467 , 10.580067 , 10.585267 , 10.7438   ,\n",
              "       10.8243   , 11.100833 , 12.315066 , 13.0038   , 13.588667 ,\n",
              "       13.895766 , 14.637867 , 14.8004   ], dtype=float32),\n",
              "       array([ 5.9807  ,  8.2785  ,  8.650467,  9.3275  ,  9.8145  , 11.4934  ,\n",
              "       12.740167], dtype=float32),\n",
              "       array([ 6.3741   ,  6.3867   ,  6.4002666,  6.4181   ,  6.4351335,\n",
              "       11.141533 ], dtype=float32)], dtype=object)"
            ]
          },
          "metadata": {
            "tags": []
          },
          "execution_count": 52
        }
      ]
    },
    {
      "cell_type": "markdown",
      "metadata": {
        "id": "Ozki4-5y41jj"
      },
      "source": [
        "This makes a \"raster\" plot, where the spikes from each neuron appear in a different row.\n",
        "\n",
        "Plotting a large number of neurons can give you a sense for the characteristics in the population. Let's show every 5th neuron that was recorded:"
      ]
    },
    {
      "cell_type": "code",
      "metadata": {
        "execution": {
          "iopub.execute_input": "2021-07-03T17:54:22.439900Z",
          "iopub.status.busy": "2021-07-03T17:54:22.438828Z",
          "iopub.status.idle": "2021-07-03T17:54:22.879608Z",
          "shell.execute_reply": "2021-07-03T17:54:22.878363Z"
        },
        "pycharm": {
          "name": "#%%\n"
        },
        "colab": {
          "base_uri": "https://localhost:8080/",
          "height": 430
        },
        "id": "sjxuSMq741jj",
        "outputId": "f3d2f744-2618-4624-9b1f-3b8fbd7e443c"
      },
      "source": [
        "neuron_idx = np.arange(0, len(spike_times), 5)\n",
        "plt.eventplot(interval_spike_times[neuron_idx], color=\".2\")\n",
        "plt.xlabel(\"Time (s)\")\n",
        "plt.yticks([]);"
      ],
      "execution_count": 54,
      "outputs": [
        {
          "output_type": "display_data",
          "data": {
            "image/png": "[encoded data removed]",
            "text/plain": [
              "<Figure size 576x432 with 1 Axes>"
            ]
          },
          "metadata": {
            "tags": [],
            "image/png": {
              "width": 558,
              "height": 413
            },
            "needs_background": "light"
          }
        }
      ]
    },
    {
      "cell_type": "code",
      "metadata": {
        "colab": {
          "base_uri": "https://localhost:8080/"
        },
        "id": "d5EueaXLBXWH",
        "outputId": "b9c90530-0773-4752-b319-510878e8eb0e"
      },
      "source": [
        "## you are taking the interval spike time form every 5th neuron for the length of the spike_times\n",
        "### here is the numbers you are inputing\n",
        "print(np.arange(0, len(spike_times), 5))"
      ],
      "execution_count": 55,
      "outputs": [
        {
          "output_type": "stream",
          "text": [
            "[  0   5  10  15  20  25  30  35  40  45  50  55  60  65  70  75  80  85\n",
            "  90  95 100 105 110 115 120 125 130 135 140 145 150 155 160 165 170 175\n",
            " 180 185 190 195 200 205 210 215 220 225 230 235 240 245 250 255 260 265\n",
            " 270 275 280 285 290 295 300 305 310 315 320 325 330 335 340 345 350 355\n",
            " 360 365 370 375 380 385 390 395 400 405 410 415 420 425 430 435 440 445\n",
            " 450 455 460 465 470 475 480 485 490 495 500 505 510 515 520 525 530 535\n",
            " 540 545 550 555 560 565 570 575 580 585 590 595 600 605 610 615 620 625\n",
            " 630 635 640 645 650 655 660 665 670 675 680 685 690 695 700 705 710 715\n",
            " 720 725 730]\n"
          ],
          "name": "stdout"
        }
      ]
    },
    {
      "cell_type": "markdown",
      "metadata": {
        "id": "Z0t7KSHR41jj"
      },
      "source": [
        "*Question*: How does the information in this plot relate to the histogram of total spike counts that you saw above?"
      ]
    },
    {
      "cell_type": "markdown",
      "metadata": {
        "execution": {
          "iopub.execute_input": "2021-07-03T17:54:22.884637Z",
          "iopub.status.busy": "2021-07-03T17:54:22.883994Z",
          "iopub.status.idle": "2021-07-03T17:54:22.889216Z",
          "shell.execute_reply": "2021-07-03T17:54:22.890231Z"
        },
        "id": "RVF685jf41jk"
      },
      "source": [
        "[*Click for solution*](https://github.com/NeuromatchAcademy/course-content/tree/master//tutorials/W1D1_ModelTypes/solutions/W1D1_Tutorial1_Solution_b01195c9.py)\n",
        "\n"
      ]
    },
    {
      "cell_type": "code",
      "metadata": {
        "cellView": "form",
        "execution": {
          "iopub.execute_input": "2021-07-03T17:54:22.903300Z",
          "iopub.status.busy": "2021-07-03T17:54:22.902309Z",
          "iopub.status.idle": "2021-07-03T17:54:22.968449Z",
          "shell.execute_reply": "2021-07-03T17:54:22.967927Z"
        },
        "colab": {
          "base_uri": "https://localhost:8080/",
          "height": 581,
          "referenced_widgets": [
            "d30cdeac4e1f40f991d1b398bc591c51",
            "5790da09209142e2b211f84211bb6ba6",
            "ea611c42716c43229ccf8019109259a2",
            "1d9c5134cb054422aadf90f2a8ac73e3",
            "9cb62643e719489ebb52824e6c5bc056",
            "d4c92445e1294c849e6bf4c35df3a809"
          ]
        },
        "id": "h2PkynwM41jk",
        "outputId": "a2bb1733-441c-46d7-dc67-6cb1b0adbd3c"
      },
      "source": [
        "# @title Video 3: Visualizing activity\n",
        "from ipywidgets import widgets\n",
        "\n",
        "out2 = widgets.Output()\n",
        "with out2:\n",
        "  from IPython.display import IFrame\n",
        "  class BiliVideo(IFrame):\n",
        "      def __init__(self, id, page=1, width=400, height=300, **kwargs):\n",
        "          self.id=id\n",
        "          src = 'https://player.bilibili.com/player.html?bvid={0}&page={1}'.format(id, page)\n",
        "          super(BiliVideo, self).__init__(src, width, height, **kwargs)\n",
        "\n",
        "  video = BiliVideo(id=\"BV1dt4y1Q7C5\", width=854, height=480, fs=1)\n",
        "  print('Video available at https://www.bilibili.com/video/{0}'.format(video.id))\n",
        "  display(video)\n",
        "\n",
        "out1 = widgets.Output()\n",
        "with out1:\n",
        "  from IPython.display import YouTubeVideo\n",
        "  video = YouTubeVideo(id=\"QGA5FCW7kkA\", width=854, height=480, fs=1, rel=0)\n",
        "  print('Video available at https://youtube.com/watch?v=' + video.id)\n",
        "  display(video)\n",
        "\n",
        "out = widgets.Tab([out1, out2])\n",
        "out.set_title(0, 'Youtube')\n",
        "out.set_title(1, 'Bilibili')\n",
        "\n",
        "display(out)"
      ],
      "execution_count": 57,
      "outputs": [
        {
          "output_type": "display_data",
          "data": {
            "application/vnd.jupyter.widget-view+json": {
              "model_id": "d30cdeac4e1f40f991d1b398bc591c51",
              "version_minor": 0,
              "version_major": 2
            },
            "text/plain": [
              "Tab(children=(Output(), Output()), _titles={'0': 'Youtube', '1': 'Bilibili'})"
            ]
          },
          "metadata": {
            "tags": []
          }
        }
      ]
    },
    {
      "cell_type": "markdown",
      "metadata": {
        "id": "fZRyCcRt41jl"
      },
      "source": [
        "---\n",
        "\n",
        "# Section 3: Inter-spike intervals and their distributions\n",
        "\n",
        "*Estimated timing to here from start of tutorial: 25 min*"
      ]
    },
    {
      "cell_type": "markdown",
      "metadata": {
        "id": "AbC2DWkr41jl"
      },
      "source": [
        "Given the ordered arrays of spike times for each neuron in `spike_times`, which we've just visualized, what can we ask next?\n",
        "\n",
        "Scientific questions are informed by existing models. So, what knowledge do we already have that can inform questions about this data?\n",
        "\n",
        "We know that there are physical constraints on neuron spiking. Spiking costs energy, which the neuron's cellular machinery can only obtain at a finite rate. Therefore neurons should have a refractory period: they can only fire as quickly as their metabolic processes can support, and there is a minimum delay between consecutive spikes of the same neuron.\n",
        "\n",
        "More generally, we can ask \"how long does a neuron wait to spike again?\" or \"what is the longest a neuron will wait?\" Can we transform spike times into something else, to address questions like these more directly?\n",
        "\n",
        "We can consider the inter-spike times (or interspike intervals: ISIs). These are simply the time differences between consecutive spikes of the same neuron.\n",
        "\n",
        "### Exercise 3: Plot the distribution of ISIs for a single neuron\n",
        "\n",
        "*Exercise objective:* make a histogram, like we did for spike counts, to show the distribution of ISIs for one of the neurons in the dataset.\n",
        "\n",
        "Do this in three steps:\n",
        "\n",
        "1. Extract the spike times for one of the neurons\n",
        "2. Compute the ISIs (the amount of time between spikes, or equivalently, the difference between adjacent spike times)\n",
        "3. Plot a histogram with the array of individual ISIs"
      ]
    },
    {
      "cell_type": "code",
      "metadata": {
        "execution": {
          "iopub.execute_input": "2021-07-03T17:54:22.982203Z",
          "iopub.status.busy": "2021-07-03T17:54:22.981593Z",
          "iopub.status.idle": "2021-07-03T17:54:22.989786Z",
          "shell.execute_reply": "2021-07-03T17:54:22.989137Z"
        },
        "pycharm": {
          "name": "#%%\n"
        },
        "colab": {
          "base_uri": "https://localhost:8080/",
          "height": 430
        },
        "id": "44lOr7Xn41jm",
        "outputId": "b3083588-496d-4b63-ae45-eb02045d4d1f"
      },
      "source": [
        "def compute_single_neuron_isis(spike_times, neuron_idx):\n",
        "  \"\"\"Compute a vector of ISIs for a single neuron given spike times.\n",
        "\n",
        "  Args:\n",
        "    spike_times (list of 1D arrays): Spike time dataset, with the first\n",
        "      dimension corresponding to different neurons.\n",
        "    neuron_idx (int): Index of the unit to compute ISIs for.\n",
        "\n",
        "  Returns:\n",
        "    isis (1D array): Duration of time between each spike from one neuron.\n",
        "  \"\"\"\n",
        "  #############################################################################\n",
        "  # Students: Fill in missing code (...) and comment or remove the next line\n",
        "  ## raise NotImplementedError(\"Exercise: compute single neuron ISIs\")\n",
        "  #############################################################################\n",
        "\n",
        "  # Extract the spike times for the specified neuron\n",
        "  single_neuron_spikes = spike_times[neuron_idx]\n",
        "\n",
        "  # Compute the ISIs for this set of spikes\n",
        "  # Hint: the function np.diff computes discrete differences along an array\n",
        "  isis = np.diff(single_neuron_spikes)\n",
        "\n",
        "  return isis\n",
        "\n",
        "# Compute ISIs\n",
        "single_neuron_isis = compute_single_neuron_isis(spike_times, neuron_idx=283)\n",
        "\n",
        "# Visualize ISIs\n",
        "plot_isis(single_neuron_isis)"
      ],
      "execution_count": 58,
      "outputs": [
        {
          "output_type": "display_data",
          "data": {
            "image/png": "[encoded data removed]",
            "text/plain": [
              "<Figure size 576x432 with 1 Axes>"
            ]
          },
          "metadata": {
            "tags": [],
            "image/png": {
              "width": 558,
              "height": 413
            },
            "needs_background": "light"
          }
        }
      ]
    },
    {
      "cell_type": "markdown",
      "metadata": {
        "execution": {
          "iopub.execute_input": "2021-07-03T17:54:22.998186Z",
          "iopub.status.busy": "2021-07-03T17:54:22.997577Z",
          "iopub.status.idle": "2021-07-03T17:54:23.356486Z",
          "shell.execute_reply": "2021-07-03T17:54:23.355980Z"
        },
        "pycharm": {
          "name": "#%%\n"
        },
        "id": "sR9ewN9n41jm"
      },
      "source": [
        "[*Click for solution*](https://github.com/NeuromatchAcademy/course-content/tree/master//tutorials/W1D1_ModelTypes/solutions/W1D1_Tutorial1_Solution_2972c168.py)\n",
        "\n",
        "*Example output:*\n",
        "\n",
        "<img alt='Solution hint' align='left' width=1116.0 height=828.0 src=https://raw.githubusercontent.com/NeuromatchAcademy/course-content/master/tutorials/W1D1_ModelTypes/static/W1D1_Tutorial1_Solution_2972c168_0.png>\n",
        "\n"
      ]
    },
    {
      "cell_type": "markdown",
      "metadata": {
        "id": "FDfa-8xq41jn"
      },
      "source": [
        "---\n",
        "\n",
        "In general, the shorter ISIs are predominant, with counts decreasing rapidly (and smoothly, more or less) with increasing ISI. However, counts also rapidly decrease to zero with _decreasing_ ISI below the maximum of the distribution (8-11 ms). The absence of these very low ISIs agrees with the refractory period hypothesis: the neuron cannot fire quickly enough to populate this region of the ISI distribution.\n",
        "\n",
        "Check the distributions of some other neurons. To resolve various features of the distributions, you might need to play with the value of `n_bins`. Using too few bins might smooth over interesting details, but if you use too many bins, the random variability will start to dominate.\n",
        "\n",
        "You might also want to restrict the range to see the shape of the distribution when focusing on relatively short or long ISIs. *Hint:* `plt.hist` takes a `range` argument"
      ]
    },
    {
      "cell_type": "markdown",
      "metadata": {
        "id": "3vQnGGGQ41jn"
      },
      "source": [
        "---\n",
        "\n",
        "# Section 4: What is the functional form of an ISI distribution?\n",
        "\n",
        "*Estimated timing to here from start of tutorial: 35 min*"
      ]
    },
    {
      "cell_type": "code",
      "metadata": {
        "cellView": "form",
        "execution": {
          "iopub.execute_input": "2021-07-03T17:54:23.369679Z",
          "iopub.status.busy": "2021-07-03T17:54:23.369060Z",
          "iopub.status.idle": "2021-07-03T17:54:23.429414Z",
          "shell.execute_reply": "2021-07-03T17:54:23.428823Z"
        },
        "colab": {
          "base_uri": "https://localhost:8080/",
          "height": 581,
          "referenced_widgets": [
            "0d78080cb2954e93913971b074cdb0e7",
            "30afa6152c094e749957594352d52443",
            "1972580227854b54a29943310628a557",
            "0d9a15b3437c40daa798a65711706c94",
            "77a5231df8b24a66b6307511bd0caf9f",
            "56d113e1316c47ff923d53b320d78db0"
          ]
        },
        "id": "6vXyu07E41jo",
        "outputId": "4c997d3b-a3e6-4f3d-aa9d-e99ffa7a1dc8"
      },
      "source": [
        "# @title Video 4: ISI distribution\n",
        "from ipywidgets import widgets\n",
        "\n",
        "out2 = widgets.Output()\n",
        "with out2:\n",
        "  from IPython.display import IFrame\n",
        "  class BiliVideo(IFrame):\n",
        "      def __init__(self, id, page=1, width=400, height=300, **kwargs):\n",
        "          self.id=id\n",
        "          src = 'https://player.bilibili.com/player.html?bvid={0}&page={1}'.format(id, page)\n",
        "          super(BiliVideo, self).__init__(src, width, height, **kwargs)\n",
        "\n",
        "  video = BiliVideo(id=\"BV1ov411B7Pm\", width=854, height=480, fs=1)\n",
        "  print('Video available at https://www.bilibili.com/video/{0}'.format(video.id))\n",
        "  display(video)\n",
        "\n",
        "out1 = widgets.Output()\n",
        "with out1:\n",
        "  from IPython.display import YouTubeVideo\n",
        "  video = YouTubeVideo(id=\"DHhM80MOTe8\", width=854, height=480, fs=1, rel=0)\n",
        "  print('Video available at https://youtube.com/watch?v=' + video.id)\n",
        "  display(video)\n",
        "\n",
        "out = widgets.Tab([out1, out2])\n",
        "out.set_title(0, 'Youtube')\n",
        "out.set_title(1, 'Bilibili')\n",
        "\n",
        "display(out)"
      ],
      "execution_count": 59,
      "outputs": [
        {
          "output_type": "display_data",
          "data": {
            "application/vnd.jupyter.widget-view+json": {
              "model_id": "0d78080cb2954e93913971b074cdb0e7",
              "version_minor": 0,
              "version_major": 2
            },
            "text/plain": [
              "Tab(children=(Output(), Output()), _titles={'0': 'Youtube', '1': 'Bilibili'})"
            ]
          },
          "metadata": {
            "tags": []
          }
        }
      ]
    },
    {
      "cell_type": "markdown",
      "metadata": {
        "id": "8dCrdvoc41jo"
      },
      "source": [
        "The ISI histograms seem to follow continuous, monotonically decreasing functions above their maxima. The function is clearly non-linear. Could it belong to a single family of functions?\n",
        "\n",
        "To motivate the idea of using a mathematical function to explain physiological phenomena, let's define a few different function forms that we might expect the relationship to follow: exponential, inverse, and linear."
      ]
    },
    {
      "cell_type": "code",
      "metadata": {
        "execution": {
          "iopub.execute_input": "2021-07-03T17:54:23.445271Z",
          "iopub.status.busy": "2021-07-03T17:54:23.443840Z",
          "iopub.status.idle": "2021-07-03T17:54:23.446205Z",
          "shell.execute_reply": "2021-07-03T17:54:23.446819Z"
        },
        "pycharm": {
          "name": "#%%\n"
        },
        "id": "xgKOr4MY41jo"
      },
      "source": [
        "def exponential(xs, scale, rate, x0):\n",
        "  \"\"\"A simple parametrized exponential function, applied element-wise.\n",
        "\n",
        "  Args:\n",
        "    xs (np.ndarray or float): Input(s) to the function.\n",
        "    scale (float): Linear scaling factor.\n",
        "    rate (float): Exponential growth (positive) or decay (negative) rate.\n",
        "    x0 (float): Horizontal offset.\n",
        "\n",
        "  \"\"\"\n",
        "  ys = scale * np.exp(rate * (xs - x0))\n",
        "  return ys\n",
        "\n",
        "def inverse(xs, scale, x0):\n",
        "  \"\"\"A simple parametrized inverse function (`1/x`), applied element-wise.\n",
        "\n",
        "  Args:\n",
        "    xs (np.ndarray or float): Input(s) to the function.\n",
        "    scale (float): Linear scaling factor.\n",
        "    x0 (float): Horizontal offset.\n",
        "\n",
        "  \"\"\"\n",
        "  ys = scale / (xs - x0)\n",
        "  return ys\n",
        "\n",
        "def linear(xs, slope, y0):\n",
        "  \"\"\"A simple linear function, applied element-wise.\n",
        "\n",
        "  Args:\n",
        "    xs (np.ndarray or float): Input(s) to the function.\n",
        "    slope (float): Slope of the line.\n",
        "    y0 (float): y-intercept of the line.\n",
        "\n",
        "  \"\"\"\n",
        "  ys = slope * xs + y0\n",
        "  return ys"
      ],
      "execution_count": 62,
      "outputs": []
    },
    {
      "cell_type": "markdown",
      "metadata": {
        "id": "trI0ZI2r41jp"
      },
      "source": [
        "### Interactive Demo 4: ISI functions explorer\n",
        "\n",
        "Here is an interactive demo where you can vary the parameters of these functions and see how well the resulting outputs correspond to the data. Adjust the parameters by moving the sliders and see how close you can get the lines to follow the falling curve of the histogram. This will give you a taste of what you're trying to do when you *fit a model* to data.\n",
        "\n",
        "\"Interactive demo\" cells have hidden code that defines an interface where you can play with the parameters of some function using sliders. You don't need to worry about how the code works – but you do need to **run the cell** to enable the sliders.\n",
        "\n",
        "- Which type of function (exponential/inverse/linear) can you make match the data best?\n"
      ]
    },
    {
      "cell_type": "code",
      "metadata": {
        "cellView": "form",
        "execution": {
          "iopub.execute_input": "2021-07-03T17:54:23.458648Z",
          "iopub.status.busy": "2021-07-03T17:54:23.454106Z",
          "iopub.status.idle": "2021-07-03T17:54:23.875898Z",
          "shell.execute_reply": "2021-07-03T17:54:23.876365Z"
        },
        "pycharm": {
          "name": "#%%\n"
        },
        "colab": {
          "base_uri": "https://localhost:8080/",
          "height": 654,
          "referenced_widgets": [
            "93297efb4c7d45a6bdd44a8950c8fe4a",
            "3514e21097184807a8c63d163cea0b93",
            "7189960321354b93b97270b688dbeae4",
            "4dc8d4c778284f3699c86d29a5773230",
            "22d63544ca0841c888ff23518ef8c6b1",
            "3d80d270ec3949d4b69c3927107be2c2",
            "830b5c8e75484b77b253cb90e5242ee3",
            "116d36a199fc4e1cac379eb466334390",
            "c6fcee9366d24ec5b3f25a2a0f1890bd",
            "c69554af22f64554813a3a5e4eb8fcd2",
            "309b8a3350d044019350134b720c205b",
            "a929a8633aef4fe08ba57ba51395145d",
            "74a6fd68c46f437598c2bff54d4e5ce7",
            "8d998077948f4c7d82a92a1978528110",
            "5ff87d6e1b6d403b898d661b1678f4af",
            "30130167ff9b454ba1bdd87dbaec34e5",
            "fdc2b2173d9b41c2945d23ef2ee60bfa",
            "c1b21fb0b6ca41bbb1f76b801cc9c686",
            "a6fd260973be4cd6801a6269f4992110",
            "744ae2d5904d4eb5ae8d5e2fab978a8e",
            "ebb26e8f154449ec95f399b7ed52cd1a",
            "459e7ad435c54616b3754ed59d41adbb",
            "d3d52e3cb3e1430991211efb58aff88a",
            "ae6e10f43c294b2a80902d298d975082",
            "550beb4c83a24dc4b7f26e6b711881d5"
          ]
        },
        "id": "8lOSu-_B41jp",
        "outputId": "666e1060-f33a-4643-f29d-90887079bd8e"
      },
      "source": [
        "#@title\n",
        "\n",
        "#@markdown Be sure to run this cell to enable the demo\n",
        "# Don't worry about understanding this code! It's to setup an interactive plot.\n",
        "single_neuron_idx = 283\n",
        "single_neuron_spikes = spike_times[single_neuron_idx]\n",
        "single_neuron_isis = np.diff(single_neuron_spikes)\n",
        "\n",
        "counts, edges = np.histogram(\n",
        "  single_neuron_isis,\n",
        "  bins=50,\n",
        "  range=(0, single_neuron_isis.max())\n",
        ")\n",
        "\n",
        "functions = dict(\n",
        "  exponential=exponential,\n",
        "  inverse=inverse,\n",
        "  linear=linear,\n",
        ")\n",
        "\n",
        "colors = dict(\n",
        "  exponential=\"C1\",\n",
        "  inverse=\"C2\",\n",
        "  linear=\"C4\",\n",
        ")\n",
        "\n",
        "@widgets.interact(\n",
        "  exp_scale=widgets.FloatSlider(1000, min=0, max=20000, step=250),\n",
        "  exp_rate=widgets.FloatSlider(-10, min=-200, max=50, step=1),\n",
        "  exp_x0=widgets.FloatSlider(0.1, min=-0.5, max=0.5, step=0.005),\n",
        "  inv_scale=widgets.FloatSlider(1000, min=0, max=3e2, step=10),\n",
        "  inv_x0=widgets.FloatSlider(0, min=-0.2, max=0.2, step=0.01),\n",
        "  lin_slope=widgets.FloatSlider(-1e5, min=-6e5, max=1e5, step=10000),\n",
        "  lin_y0=widgets.FloatSlider(10000, min=0, max=4e4, step=1000),\n",
        ")\n",
        "def fit_plot(\n",
        "  exp_scale=1000, exp_rate=-10, exp_x0=0.1,\n",
        "  inv_scale=1000, inv_x0=0,\n",
        "  lin_slope=-1e5, lin_y0=2000,\n",
        "):\n",
        "  \"\"\"Helper function for plotting function fits with interactive sliders.\"\"\"\n",
        "  func_params = dict(\n",
        "    exponential=(exp_scale, exp_rate, exp_x0),\n",
        "    inverse=(inv_scale, inv_x0),\n",
        "    linear=(lin_slope, lin_y0),\n",
        "  )\n",
        "  f, ax = plt.subplots()\n",
        "  ax.fill_between(edges[:-1], counts, step=\"post\", alpha=.5)\n",
        "  xs = np.linspace(1e-10, edges.max())\n",
        "  for name, function in functions.items():\n",
        "    ys = function(xs, *func_params[name])\n",
        "    ax.plot(xs, ys, lw=3, color=colors[name], label=name);\n",
        "  ax.set(\n",
        "      xlim=(edges.min(), edges.max()),\n",
        "      ylim=(0, counts.max() * 1.1),\n",
        "      xlabel=\"ISI (s)\",\n",
        "      ylabel=\"Number of spikes\",\n",
        "  )\n",
        "  ax.legend()"
      ],
      "execution_count": 63,
      "outputs": [
        {
          "output_type": "display_data",
          "data": {
            "application/vnd.jupyter.widget-view+json": {
              "model_id": "93297efb4c7d45a6bdd44a8950c8fe4a",
              "version_minor": 0,
              "version_major": 2
            },
            "text/plain": [
              "interactive(children=(FloatSlider(value=1000.0, description='exp_scale', max=20000.0, step=250.0), FloatSlider…"
            ]
          },
          "metadata": {
            "tags": []
          }
        }
      ]
    },
    {
      "cell_type": "markdown",
      "metadata": {
        "execution": {
          "iopub.execute_input": "2021-07-03T17:54:23.881204Z",
          "iopub.status.busy": "2021-07-03T17:54:23.880570Z",
          "iopub.status.idle": "2021-07-03T17:54:23.884239Z",
          "shell.execute_reply": "2021-07-03T17:54:23.884689Z"
        },
        "id": "HgkKQEQ941jq"
      },
      "source": [
        "[*Click for solution*](https://github.com/NeuromatchAcademy/course-content/tree/master//tutorials/W1D1_ModelTypes/solutions/W1D1_Tutorial1_Solution_b6cd7761.py)\n",
        "\n"
      ]
    },
    {
      "cell_type": "code",
      "metadata": {
        "cellView": "form",
        "execution": {
          "iopub.execute_input": "2021-07-03T17:54:23.896459Z",
          "iopub.status.busy": "2021-07-03T17:54:23.892167Z",
          "iopub.status.idle": "2021-07-03T17:54:23.957580Z",
          "shell.execute_reply": "2021-07-03T17:54:23.958179Z"
        },
        "id": "fugDoudY41jq"
      },
      "source": [
        "# @title Video 5: Fitting models by hand\n",
        "from ipywidgets import widgets\n",
        "\n",
        "out2 = widgets.Output()\n",
        "with out2:\n",
        "  from IPython.display import IFrame\n",
        "  class BiliVideo(IFrame):\n",
        "      def __init__(self, id, page=1, width=400, height=300, **kwargs):\n",
        "          self.id=id\n",
        "          src = 'https://player.bilibili.com/player.html?bvid={0}&page={1}'.format(id, page)\n",
        "          super(BiliVideo, self).__init__(src, width, height, **kwargs)\n",
        "\n",
        "  video = BiliVideo(id=\"BV1w54y1S7Eb\", width=854, height=480, fs=1)\n",
        "  print('Video available at https://www.bilibili.com/video/{0}'.format(video.id))\n",
        "  display(video)\n",
        "\n",
        "out1 = widgets.Output()\n",
        "with out1:\n",
        "  from IPython.display import YouTubeVideo\n",
        "  video = YouTubeVideo(id=\"uW2HDk_4-wk\", width=854, height=480, fs=1, rel=0)\n",
        "  print('Video available at https://youtube.com/watch?v=' + video.id)\n",
        "  display(video)\n",
        "\n",
        "out = widgets.Tab([out1, out2])\n",
        "out.set_title(0, 'Youtube')\n",
        "out.set_title(1, 'Bilibili')\n",
        "\n",
        "display(out)"
      ],
      "execution_count": null,
      "outputs": []
    },
    {
      "cell_type": "markdown",
      "metadata": {
        "id": "Gl8L8V_e41js"
      },
      "source": [
        "---\n",
        "# Section 5: Reflecting on what models\n",
        "\n",
        "*Estimated timing to here from start of tutorial: 40 min*"
      ]
    },
    {
      "cell_type": "markdown",
      "metadata": {
        "id": "XZZLqPHy41js"
      },
      "source": [
        "## Think! 5: Reflecting on what models\n",
        "\n",
        "Please discuss the following questions for around 10 minutes with your group:\n",
        "- Have you seen what models before?\n",
        "- Have you ever done one?\n",
        "- Why are what models useful?\n",
        "- When are they possible? Does your field have what models?\n",
        "- What do we learn from constructing them?"
      ]
    },
    {
      "cell_type": "markdown",
      "metadata": {
        "id": "6T8ElY3iETu-"
      },
      "source": [
        "-\tWe need a lot of what information before we can start looking at how or why\n",
        "-\tThis way you can start to examine the patterns of the data by looking at all the why information \n",
        "- we can get some insight from what models\n",
        "- might be able to predict future data may look like based on some assumptions: if if fits then we can confirm  but if it doesn't then it is interesting and we can write a paper on it. \n",
        "- can also use for simulation "
      ]
    },
    {
      "cell_type": "markdown",
      "metadata": {
        "id": "t3b_2qBc41js"
      },
      "source": [
        "---\n",
        "# Summary\n",
        "\n",
        "*Estimated timing of tutorial: 50 minutes*\n",
        "\n",
        "In this tutorial, we loaded some neural data and poked at it to understand how the dataset is organized. Then we made some basic plots to visualize (1) the average level of activity across the population and (2) the distribution of ISIs for an individual neuron. In the very last bit, we started to think about using mathematical formalisms to understand or explain some physiological phenomenon. All of this only allowed us to understand \"What\" the data looks like.\n",
        "\n",
        "This is the first step towards developing models that can tell us something about the brain. That's what we'll focus on in the next two tutorials."
      ]
    }
  ]
}