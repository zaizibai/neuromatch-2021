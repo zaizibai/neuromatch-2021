{
  "nbformat": 4,
  "nbformat_minor": 0,
  "metadata": {
    "anaconda-cloud": {},
    "colab": {
      "name": "W3D2_Tutorial3",
      "provenance": [],
      "collapsed_sections": [],
      "toc_visible": true,
      "include_colab_link": true
    },
    "kernel": {
      "display_name": "Python 3",
      "language": "python",
      "name": "python3"
    },
    "kernelspec": {
      "display_name": "Python 3",
      "language": "python",
      "name": "python3"
    },
    "language_info": {
      "codemirror_mode": {
        "name": "ipython",
        "version": 3
      },
      "file_extension": ".py",
      "mimetype": "text/x-python",
      "name": "python",
      "nbconvert_exporter": "python",
      "pygments_lexer": "ipython3",
      "version": "3.7.10"
    },
    "widgets": {
      "application/vnd.jupyter.widget-state+json": {
        "3d1609ffbd8444dba27445a3ded1a38f": {
          "model_module": "@jupyter-widgets/controls",
          "model_name": "TabModel",
          "state": {
            "_view_name": "TabView",
            "_dom_classes": [],
            "_titles": {
              "0": "Youtube",
              "1": "Bilibili"
            },
            "_model_name": "TabModel",
            "_view_module": "@jupyter-widgets/controls",
            "selected_index": 0,
            "_model_module_version": "1.5.0",
            "_view_count": null,
            "_view_module_version": "1.5.0",
            "box_style": "",
            "layout": "IPY_MODEL_8685fec1eecb4973acdec1653ae17b6a",
            "_model_module": "@jupyter-widgets/controls",
            "children": [
              "IPY_MODEL_102ebf8b056f42d3bd4fd85cf16b4930",
              "IPY_MODEL_58eb1fbddd6f4d5ebfed38ad5d3ab06d"
            ]
          }
        },
        "8685fec1eecb4973acdec1653ae17b6a": {
          "model_module": "@jupyter-widgets/base",
          "model_name": "LayoutModel",
          "state": {
            "_view_name": "LayoutView",
            "grid_template_rows": null,
            "right": null,
            "justify_content": null,
            "_view_module": "@jupyter-widgets/base",
            "overflow": null,
            "_model_module_version": "1.2.0",
            "_view_count": null,
            "flex_flow": null,
            "width": null,
            "min_width": null,
            "border": null,
            "align_items": null,
            "bottom": null,
            "_model_module": "@jupyter-widgets/base",
            "top": null,
            "grid_column": null,
            "overflow_y": null,
            "overflow_x": null,
            "grid_auto_flow": null,
            "grid_area": null,
            "grid_template_columns": null,
            "flex": null,
            "_model_name": "LayoutModel",
            "justify_items": null,
            "grid_row": null,
            "max_height": null,
            "align_content": null,
            "visibility": null,
            "align_self": null,
            "height": null,
            "min_height": null,
            "padding": null,
            "grid_auto_rows": null,
            "grid_gap": null,
            "max_width": null,
            "order": null,
            "_view_module_version": "1.2.0",
            "grid_template_areas": null,
            "object_position": null,
            "object_fit": null,
            "grid_auto_columns": null,
            "margin": null,
            "display": null,
            "left": null
          }
        },
        "102ebf8b056f42d3bd4fd85cf16b4930": {
          "model_module": "@jupyter-widgets/output",
          "model_name": "OutputModel",
          "state": {
            "_view_name": "OutputView",
            "msg_id": "",
            "_dom_classes": [],
            "_model_name": "OutputModel",
            "outputs": [
              {
                "output_type": "stream",
                "metadata": {
                  "tags": []
                },
                "text": "Video available at https://youtube.com/watch?v=P1jFKXDzAYQ\n",
                "stream": "stdout"
              },
              {
                "output_type": "display_data",
                "metadata": {
                  "tags": []
                },
                "text/html": "\n        <iframe\n            width=\"854\"\n            height=\"480\"\n            src=\"https://www.youtube.com/embed/P1jFKXDzAYQ?fs=1&rel=0\"\n            frameborder=\"0\"\n            allowfullscreen\n        ></iframe>\n        ",
                "text/plain": "<IPython.lib.display.YouTubeVideo at 0x7fb2d52b96d0>",
                "image/jpeg": "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\n"
              }
            ],
            "_view_module": "@jupyter-widgets/output",
            "_model_module_version": "1.0.0",
            "_view_count": null,
            "_view_module_version": "1.0.0",
            "layout": "IPY_MODEL_1e23c87339394e38b2951eebb242c403",
            "_model_module": "@jupyter-widgets/output"
          }
        },
        "58eb1fbddd6f4d5ebfed38ad5d3ab06d": {
          "model_module": "@jupyter-widgets/output",
          "model_name": "OutputModel",
          "state": {
            "_view_name": "OutputView",
            "msg_id": "",
            "_dom_classes": [],
            "_model_name": "OutputModel",
            "outputs": [
              {
                "output_type": "stream",
                "metadata": {
                  "tags": []
                },
                "text": "Video available at https://www.bilibili.com/video/\n",
                "stream": "stdout"
              },
              {
                "output_type": "display_data",
                "metadata": {
                  "tags": []
                },
                "text/html": "\n        <iframe\n            width=\"854\"\n            height=\"480\"\n            src=\"https://player.bilibili.com/player.html?bvid=&page=1?fs=1\"\n            frameborder=\"0\"\n            allowfullscreen\n        ></iframe>\n        ",
                "text/plain": "<__main__.BiliVideo at 0x7fb2e81d7610>"
              }
            ],
            "_view_module": "@jupyter-widgets/output",
            "_model_module_version": "1.0.0",
            "_view_count": null,
            "_view_module_version": "1.0.0",
            "layout": "IPY_MODEL_a3d2eac657a84e0196fd4f0b5d670d15",
            "_model_module": "@jupyter-widgets/output"
          }
        },
        "1e23c87339394e38b2951eebb242c403": {
          "model_module": "@jupyter-widgets/base",
          "model_name": "LayoutModel",
          "state": {
            "_view_name": "LayoutView",
            "grid_template_rows": null,
            "right": null,
            "justify_content": null,
            "_view_module": "@jupyter-widgets/base",
            "overflow": null,
            "_model_module_version": "1.2.0",
            "_view_count": null,
            "flex_flow": null,
            "width": null,
            "min_width": null,
            "border": null,
            "align_items": null,
            "bottom": null,
            "_model_module": "@jupyter-widgets/base",
            "top": null,
            "grid_column": null,
            "overflow_y": null,
            "overflow_x": null,
            "grid_auto_flow": null,
            "grid_area": null,
            "grid_template_columns": null,
            "flex": null,
            "_model_name": "LayoutModel",
            "justify_items": null,
            "grid_row": null,
            "max_height": null,
            "align_content": null,
            "visibility": null,
            "align_self": null,
            "height": null,
            "min_height": null,
            "padding": null,
            "grid_auto_rows": null,
            "grid_gap": null,
            "max_width": null,
            "order": null,
            "_view_module_version": "1.2.0",
            "grid_template_areas": null,
            "object_position": null,
            "object_fit": null,
            "grid_auto_columns": null,
            "margin": null,
            "display": null,
            "left": null
          }
        },
        "a3d2eac657a84e0196fd4f0b5d670d15": {
          "model_module": "@jupyter-widgets/base",
          "model_name": "LayoutModel",
          "state": {
            "_view_name": "LayoutView",
            "grid_template_rows": null,
            "right": null,
            "justify_content": null,
            "_view_module": "@jupyter-widgets/base",
            "overflow": null,
            "_model_module_version": "1.2.0",
            "_view_count": null,
            "flex_flow": null,
            "width": null,
            "min_width": null,
            "border": null,
            "align_items": null,
            "bottom": null,
            "_model_module": "@jupyter-widgets/base",
            "top": null,
            "grid_column": null,
            "overflow_y": null,
            "overflow_x": null,
            "grid_auto_flow": null,
            "grid_area": null,
            "grid_template_columns": null,
            "flex": null,
            "_model_name": "LayoutModel",
            "justify_items": null,
            "grid_row": null,
            "max_height": null,
            "align_content": null,
            "visibility": null,
            "align_self": null,
            "height": null,
            "min_height": null,
            "padding": null,
            "grid_auto_rows": null,
            "grid_gap": null,
            "max_width": null,
            "order": null,
            "_view_module_version": "1.2.0",
            "grid_template_areas": null,
            "object_position": null,
            "object_fit": null,
            "grid_auto_columns": null,
            "margin": null,
            "display": null,
            "left": null
          }
        },
        "61c9063c5b79467ea554a917cd7d84df": {
          "model_module": "@jupyter-widgets/controls",
          "model_name": "TabModel",
          "state": {
            "_view_name": "TabView",
            "_dom_classes": [],
            "_titles": {
              "0": "Youtube",
              "1": "Bilibili"
            },
            "_model_name": "TabModel",
            "_view_module": "@jupyter-widgets/controls",
            "selected_index": 0,
            "_model_module_version": "1.5.0",
            "_view_count": null,
            "_view_module_version": "1.5.0",
            "box_style": "",
            "layout": "IPY_MODEL_6efd9565ed3a4e1396d51cd985858493",
            "_model_module": "@jupyter-widgets/controls",
            "children": [
              "IPY_MODEL_cfd22f92e7814e5095f8f001ae28ca36",
              "IPY_MODEL_42d979cd88774db6b64029742dab72d4"
            ]
          }
        },
        "6efd9565ed3a4e1396d51cd985858493": {
          "model_module": "@jupyter-widgets/base",
          "model_name": "LayoutModel",
          "state": {
            "_view_name": "LayoutView",
            "grid_template_rows": null,
            "right": null,
            "justify_content": null,
            "_view_module": "@jupyter-widgets/base",
            "overflow": null,
            "_model_module_version": "1.2.0",
            "_view_count": null,
            "flex_flow": null,
            "width": null,
            "min_width": null,
            "border": null,
            "align_items": null,
            "bottom": null,
            "_model_module": "@jupyter-widgets/base",
            "top": null,
            "grid_column": null,
            "overflow_y": null,
            "overflow_x": null,
            "grid_auto_flow": null,
            "grid_area": null,
            "grid_template_columns": null,
            "flex": null,
            "_model_name": "LayoutModel",
            "justify_items": null,
            "grid_row": null,
            "max_height": null,
            "align_content": null,
            "visibility": null,
            "align_self": null,
            "height": null,
            "min_height": null,
            "padding": null,
            "grid_auto_rows": null,
            "grid_gap": null,
            "max_width": null,
            "order": null,
            "_view_module_version": "1.2.0",
            "grid_template_areas": null,
            "object_position": null,
            "object_fit": null,
            "grid_auto_columns": null,
            "margin": null,
            "display": null,
            "left": null
          }
        },
        "cfd22f92e7814e5095f8f001ae28ca36": {
          "model_module": "@jupyter-widgets/output",
          "model_name": "OutputModel",
          "state": {
            "_view_name": "OutputView",
            "msg_id": "",
            "_dom_classes": [],
            "_model_name": "OutputModel",
            "outputs": [
              {
                "output_type": "stream",
                "metadata": {
                  "tags": []
                },
                "text": "Video available at https://youtube.com/watch?v=hqYP3-M3rFg\n",
                "stream": "stdout"
              },
              {
                "output_type": "display_data",
                "metadata": {
                  "tags": []
                },
                "text/html": "\n        <iframe\n            width=\"854\"\n            height=\"480\"\n            src=\"https://www.youtube.com/embed/hqYP3-M3rFg?fs=1&rel=0\"\n            frameborder=\"0\"\n            allowfullscreen\n        ></iframe>\n        ",
                "text/plain": "<IPython.lib.display.YouTubeVideo at 0x7fb2d48a5710>",
                "image/jpeg": "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\n"
              }
            ],
            "_view_module": "@jupyter-widgets/output",
            "_model_module_version": "1.0.0",
            "_view_count": null,
            "_view_module_version": "1.0.0",
            "layout": "IPY_MODEL_eef07477c5894525b75f447d1bee6dce",
            "_model_module": "@jupyter-widgets/output"
          }
        },
        "42d979cd88774db6b64029742dab72d4": {
          "model_module": "@jupyter-widgets/output",
          "model_name": "OutputModel",
          "state": {
            "_view_name": "OutputView",
            "msg_id": "",
            "_dom_classes": [],
            "_model_name": "OutputModel",
            "outputs": [
              {
                "output_type": "stream",
                "metadata": {
                  "tags": []
                },
                "text": "Video available at https://www.bilibili.com/video/\n",
                "stream": "stdout"
              },
              {
                "output_type": "display_data",
                "metadata": {
                  "tags": []
                },
                "text/html": "\n        <iframe\n            width=\"854\"\n            height=\"480\"\n            src=\"https://player.bilibili.com/player.html?bvid=&page=1?fs=1\"\n            frameborder=\"0\"\n            allowfullscreen\n        ></iframe>\n        ",
                "text/plain": "<__main__.BiliVideo at 0x7fb2d48a1690>"
              }
            ],
            "_view_module": "@jupyter-widgets/output",
            "_model_module_version": "1.0.0",
            "_view_count": null,
            "_view_module_version": "1.0.0",
            "layout": "IPY_MODEL_76b71dd16e7444bbaf0f67cfd28898b9",
            "_model_module": "@jupyter-widgets/output"
          }
        },
        "eef07477c5894525b75f447d1bee6dce": {
          "model_module": "@jupyter-widgets/base",
          "model_name": "LayoutModel",
          "state": {
            "_view_name": "LayoutView",
            "grid_template_rows": null,
            "right": null,
            "justify_content": null,
            "_view_module": "@jupyter-widgets/base",
            "overflow": null,
            "_model_module_version": "1.2.0",
            "_view_count": null,
            "flex_flow": null,
            "width": null,
            "min_width": null,
            "border": null,
            "align_items": null,
            "bottom": null,
            "_model_module": "@jupyter-widgets/base",
            "top": null,
            "grid_column": null,
            "overflow_y": null,
            "overflow_x": null,
            "grid_auto_flow": null,
            "grid_area": null,
            "grid_template_columns": null,
            "flex": null,
            "_model_name": "LayoutModel",
            "justify_items": null,
            "grid_row": null,
            "max_height": null,
            "align_content": null,
            "visibility": null,
            "align_self": null,
            "height": null,
            "min_height": null,
            "padding": null,
            "grid_auto_rows": null,
            "grid_gap": null,
            "max_width": null,
            "order": null,
            "_view_module_version": "1.2.0",
            "grid_template_areas": null,
            "object_position": null,
            "object_fit": null,
            "grid_auto_columns": null,
            "margin": null,
            "display": null,
            "left": null
          }
        },
        "76b71dd16e7444bbaf0f67cfd28898b9": {
          "model_module": "@jupyter-widgets/base",
          "model_name": "LayoutModel",
          "state": {
            "_view_name": "LayoutView",
            "grid_template_rows": null,
            "right": null,
            "justify_content": null,
            "_view_module": "@jupyter-widgets/base",
            "overflow": null,
            "_model_module_version": "1.2.0",
            "_view_count": null,
            "flex_flow": null,
            "width": null,
            "min_width": null,
            "border": null,
            "align_items": null,
            "bottom": null,
            "_model_module": "@jupyter-widgets/base",
            "top": null,
            "grid_column": null,
            "overflow_y": null,
            "overflow_x": null,
            "grid_auto_flow": null,
            "grid_area": null,
            "grid_template_columns": null,
            "flex": null,
            "_model_name": "LayoutModel",
            "justify_items": null,
            "grid_row": null,
            "max_height": null,
            "align_content": null,
            "visibility": null,
            "align_self": null,
            "height": null,
            "min_height": null,
            "padding": null,
            "grid_auto_rows": null,
            "grid_gap": null,
            "max_width": null,
            "order": null,
            "_view_module_version": "1.2.0",
            "grid_template_areas": null,
            "object_position": null,
            "object_fit": null,
            "grid_auto_columns": null,
            "margin": null,
            "display": null,
            "left": null
          }
        },
        "9ce01bcce2a247849e060b396ccca10b": {
          "model_module": "@jupyter-widgets/controls",
          "model_name": "VBoxModel",
          "state": {
            "_view_name": "VBoxView",
            "_dom_classes": [
              "widget-interact"
            ],
            "_model_name": "VBoxModel",
            "_view_module": "@jupyter-widgets/controls",
            "_model_module_version": "1.5.0",
            "_view_count": null,
            "_view_module_version": "1.5.0",
            "box_style": "",
            "layout": "IPY_MODEL_ac388299f3ea4ecf94e847e373b1101e",
            "_model_module": "@jupyter-widgets/controls",
            "children": [
              "IPY_MODEL_895d46edcf824e9f8c02597b856c5502",
              "IPY_MODEL_935fc636495a48fcbce5728e3bb12917",
              "IPY_MODEL_bf055ff7d52e4145b23de79069d36200"
            ]
          }
        },
        "ac388299f3ea4ecf94e847e373b1101e": {
          "model_module": "@jupyter-widgets/base",
          "model_name": "LayoutModel",
          "state": {
            "_view_name": "LayoutView",
            "grid_template_rows": null,
            "right": null,
            "justify_content": null,
            "_view_module": "@jupyter-widgets/base",
            "overflow": null,
            "_model_module_version": "1.2.0",
            "_view_count": null,
            "flex_flow": null,
            "width": null,
            "min_width": null,
            "border": null,
            "align_items": null,
            "bottom": null,
            "_model_module": "@jupyter-widgets/base",
            "top": null,
            "grid_column": null,
            "overflow_y": null,
            "overflow_x": null,
            "grid_auto_flow": null,
            "grid_area": null,
            "grid_template_columns": null,
            "flex": null,
            "_model_name": "LayoutModel",
            "justify_items": null,
            "grid_row": null,
            "max_height": null,
            "align_content": null,
            "visibility": null,
            "align_self": null,
            "height": null,
            "min_height": null,
            "padding": null,
            "grid_auto_rows": null,
            "grid_gap": null,
            "max_width": null,
            "order": null,
            "_view_module_version": "1.2.0",
            "grid_template_areas": null,
            "object_position": null,
            "object_fit": null,
            "grid_auto_columns": null,
            "margin": null,
            "display": null,
            "left": null
          }
        },
        "895d46edcf824e9f8c02597b856c5502": {
          "model_module": "@jupyter-widgets/controls",
          "model_name": "FloatSliderModel",
          "state": {
            "_view_name": "FloatSliderView",
            "style": "IPY_MODEL_20a2f2604ca543a18a21846257ae4cea",
            "_dom_classes": [],
            "description": "D",
            "step": 0.1,
            "_model_name": "FloatSliderModel",
            "orientation": "horizontal",
            "max": 2,
            "_view_module": "@jupyter-widgets/controls",
            "_model_module_version": "1.5.0",
            "value": 0,
            "_view_count": null,
            "disabled": false,
            "_view_module_version": "1.5.0",
            "min": -2,
            "continuous_update": true,
            "readout_format": ".2f",
            "description_tooltip": null,
            "readout": true,
            "_model_module": "@jupyter-widgets/controls",
            "layout": "IPY_MODEL_065f3aaface4465aad7ffd548a78dc7e"
          }
        },
        "935fc636495a48fcbce5728e3bb12917": {
          "model_module": "@jupyter-widgets/controls",
          "model_name": "FloatSliderModel",
          "state": {
            "_view_name": "FloatSliderView",
            "style": "IPY_MODEL_4b60deb4c1144f99b8232ecf8bcde266",
            "_dom_classes": [],
            "description": "sigma_p",
            "step": 0.1,
            "_model_name": "FloatSliderModel",
            "orientation": "horizontal",
            "max": 5,
            "_view_module": "@jupyter-widgets/controls",
            "_model_module_version": "1.5.0",
            "value": 1.1,
            "_view_count": null,
            "disabled": false,
            "_view_module_version": "1.5.0",
            "min": 0,
            "continuous_update": true,
            "readout_format": ".2f",
            "description_tooltip": null,
            "readout": true,
            "_model_module": "@jupyter-widgets/controls",
            "layout": "IPY_MODEL_995bc85c99334d20b7df2eb45a0cc510"
          }
        },
        "bf055ff7d52e4145b23de79069d36200": {
          "model_module": "@jupyter-widgets/output",
          "model_name": "OutputModel",
          "state": {
            "_view_name": "OutputView",
            "msg_id": "",
            "_dom_classes": [],
            "_model_name": "OutputModel",
            "outputs": [
              {
                "output_type": "display_data",
                "metadata": {
                  "tags": [],
                  "image/png": {
                    "width": 558,
                    "height": 413
                  },
                  "needs_background": "light"
                },
                "image/png": "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\n",
                "text/plain": "<Figure size 576x432 with 1 Axes>"
              }
            ],
            "_view_module": "@jupyter-widgets/output",
            "_model_module_version": "1.0.0",
            "_view_count": null,
            "_view_module_version": "1.0.0",
            "layout": "IPY_MODEL_d0d8714e715b42f0bfb49c9bd340bb7d",
            "_model_module": "@jupyter-widgets/output"
          }
        },
        "20a2f2604ca543a18a21846257ae4cea": {
          "model_module": "@jupyter-widgets/controls",
          "model_name": "SliderStyleModel",
          "state": {
            "_view_name": "StyleView",
            "handle_color": null,
            "_model_name": "SliderStyleModel",
            "description_width": "",
            "_view_module": "@jupyter-widgets/base",
            "_model_module_version": "1.5.0",
            "_view_count": null,
            "_view_module_version": "1.2.0",
            "_model_module": "@jupyter-widgets/controls"
          }
        },
        "065f3aaface4465aad7ffd548a78dc7e": {
          "model_module": "@jupyter-widgets/base",
          "model_name": "LayoutModel",
          "state": {
            "_view_name": "LayoutView",
            "grid_template_rows": null,
            "right": null,
            "justify_content": null,
            "_view_module": "@jupyter-widgets/base",
            "overflow": null,
            "_model_module_version": "1.2.0",
            "_view_count": null,
            "flex_flow": null,
            "width": null,
            "min_width": null,
            "border": null,
            "align_items": null,
            "bottom": null,
            "_model_module": "@jupyter-widgets/base",
            "top": null,
            "grid_column": null,
            "overflow_y": null,
            "overflow_x": null,
            "grid_auto_flow": null,
            "grid_area": null,
            "grid_template_columns": null,
            "flex": null,
            "_model_name": "LayoutModel",
            "justify_items": null,
            "grid_row": null,
            "max_height": null,
            "align_content": null,
            "visibility": null,
            "align_self": null,
            "height": null,
            "min_height": null,
            "padding": null,
            "grid_auto_rows": null,
            "grid_gap": null,
            "max_width": null,
            "order": null,
            "_view_module_version": "1.2.0",
            "grid_template_areas": null,
            "object_position": null,
            "object_fit": null,
            "grid_auto_columns": null,
            "margin": null,
            "display": null,
            "left": null
          }
        },
        "4b60deb4c1144f99b8232ecf8bcde266": {
          "model_module": "@jupyter-widgets/controls",
          "model_name": "SliderStyleModel",
          "state": {
            "_view_name": "StyleView",
            "handle_color": null,
            "_model_name": "SliderStyleModel",
            "description_width": "",
            "_view_module": "@jupyter-widgets/base",
            "_model_module_version": "1.5.0",
            "_view_count": null,
            "_view_module_version": "1.2.0",
            "_model_module": "@jupyter-widgets/controls"
          }
        },
        "995bc85c99334d20b7df2eb45a0cc510": {
          "model_module": "@jupyter-widgets/base",
          "model_name": "LayoutModel",
          "state": {
            "_view_name": "LayoutView",
            "grid_template_rows": null,
            "right": null,
            "justify_content": null,
            "_view_module": "@jupyter-widgets/base",
            "overflow": null,
            "_model_module_version": "1.2.0",
            "_view_count": null,
            "flex_flow": null,
            "width": null,
            "min_width": null,
            "border": null,
            "align_items": null,
            "bottom": null,
            "_model_module": "@jupyter-widgets/base",
            "top": null,
            "grid_column": null,
            "overflow_y": null,
            "overflow_x": null,
            "grid_auto_flow": null,
            "grid_area": null,
            "grid_template_columns": null,
            "flex": null,
            "_model_name": "LayoutModel",
            "justify_items": null,
            "grid_row": null,
            "max_height": null,
            "align_content": null,
            "visibility": null,
            "align_self": null,
            "height": null,
            "min_height": null,
            "padding": null,
            "grid_auto_rows": null,
            "grid_gap": null,
            "max_width": null,
            "order": null,
            "_view_module_version": "1.2.0",
            "grid_template_areas": null,
            "object_position": null,
            "object_fit": null,
            "grid_auto_columns": null,
            "margin": null,
            "display": null,
            "left": null
          }
        },
        "d0d8714e715b42f0bfb49c9bd340bb7d": {
          "model_module": "@jupyter-widgets/base",
          "model_name": "LayoutModel",
          "state": {
            "_view_name": "LayoutView",
            "grid_template_rows": null,
            "right": null,
            "justify_content": null,
            "_view_module": "@jupyter-widgets/base",
            "overflow": null,
            "_model_module_version": "1.2.0",
            "_view_count": null,
            "flex_flow": null,
            "width": null,
            "min_width": null,
            "border": null,
            "align_items": null,
            "bottom": null,
            "_model_module": "@jupyter-widgets/base",
            "top": null,
            "grid_column": null,
            "overflow_y": null,
            "overflow_x": null,
            "grid_auto_flow": null,
            "grid_area": null,
            "grid_template_columns": null,
            "flex": null,
            "_model_name": "LayoutModel",
            "justify_items": null,
            "grid_row": null,
            "max_height": null,
            "align_content": null,
            "visibility": null,
            "align_self": null,
            "height": null,
            "min_height": null,
            "padding": null,
            "grid_auto_rows": null,
            "grid_gap": null,
            "max_width": null,
            "order": null,
            "_view_module_version": "1.2.0",
            "grid_template_areas": null,
            "object_position": null,
            "object_fit": null,
            "grid_auto_columns": null,
            "margin": null,
            "display": null,
            "left": null
          }
        },
        "a6bf6c765c9c438fa38259c83c587e59": {
          "model_module": "@jupyter-widgets/controls",
          "model_name": "VBoxModel",
          "state": {
            "_view_name": "VBoxView",
            "_dom_classes": [
              "widget-interact"
            ],
            "_model_name": "VBoxModel",
            "_view_module": "@jupyter-widgets/controls",
            "_model_module_version": "1.5.0",
            "_view_count": null,
            "_view_module_version": "1.5.0",
            "box_style": "",
            "layout": "IPY_MODEL_1718aecbef2049c49df1346fc79d6fd3",
            "_model_module": "@jupyter-widgets/controls",
            "children": [
              "IPY_MODEL_ca3cc74e85524296b2a2da7928debf50",
              "IPY_MODEL_b66fb92694ee49a48c4d4ec831107aec"
            ]
          }
        },
        "1718aecbef2049c49df1346fc79d6fd3": {
          "model_module": "@jupyter-widgets/base",
          "model_name": "LayoutModel",
          "state": {
            "_view_name": "LayoutView",
            "grid_template_rows": null,
            "right": null,
            "justify_content": null,
            "_view_module": "@jupyter-widgets/base",
            "overflow": null,
            "_model_module_version": "1.2.0",
            "_view_count": null,
            "flex_flow": null,
            "width": null,
            "min_width": null,
            "border": null,
            "align_items": null,
            "bottom": null,
            "_model_module": "@jupyter-widgets/base",
            "top": null,
            "grid_column": null,
            "overflow_y": null,
            "overflow_x": null,
            "grid_auto_flow": null,
            "grid_area": null,
            "grid_template_columns": null,
            "flex": null,
            "_model_name": "LayoutModel",
            "justify_items": null,
            "grid_row": null,
            "max_height": null,
            "align_content": null,
            "visibility": null,
            "align_self": null,
            "height": null,
            "min_height": null,
            "padding": null,
            "grid_auto_rows": null,
            "grid_gap": null,
            "max_width": null,
            "order": null,
            "_view_module_version": "1.2.0",
            "grid_template_areas": null,
            "object_position": null,
            "object_fit": null,
            "grid_auto_columns": null,
            "margin": null,
            "display": null,
            "left": null
          }
        },
        "ca3cc74e85524296b2a2da7928debf50": {
          "model_module": "@jupyter-widgets/controls",
          "model_name": "FloatSliderModel",
          "state": {
            "_view_name": "FloatSliderView",
            "style": "IPY_MODEL_3148529a1aa44807bc72fefd952abd4c",
            "_dom_classes": [],
            "description": "sigma_m",
            "step": 0.1,
            "_model_name": "FloatSliderModel",
            "orientation": "horizontal",
            "max": 5,
            "_view_module": "@jupyter-widgets/controls",
            "_model_module_version": "1.5.0",
            "value": 0,
            "_view_count": null,
            "disabled": false,
            "_view_module_version": "1.5.0",
            "min": 0,
            "continuous_update": true,
            "readout_format": ".2f",
            "description_tooltip": null,
            "readout": true,
            "_model_module": "@jupyter-widgets/controls",
            "layout": "IPY_MODEL_6be78a1306d8483a97e3e9fc2bfe36d4"
          }
        },
        "b66fb92694ee49a48c4d4ec831107aec": {
          "model_module": "@jupyter-widgets/output",
          "model_name": "OutputModel",
          "state": {
            "_view_name": "OutputView",
            "msg_id": "",
            "_dom_classes": [],
            "_model_name": "OutputModel",
            "outputs": [
              {
                "output_type": "display_data",
                "metadata": {
                  "tags": [],
                  "image/png": {
                    "width": 558,
                    "height": 413
                  },
                  "needs_background": "light"
                },
                "image/png": "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\n",
                "text/plain": "<Figure size 576x432 with 2 Axes>"
              }
            ],
            "_view_module": "@jupyter-widgets/output",
            "_model_module_version": "1.0.0",
            "_view_count": null,
            "_view_module_version": "1.0.0",
            "layout": "IPY_MODEL_4bf3e2229ae847d9970c6d68fad59feb",
            "_model_module": "@jupyter-widgets/output"
          }
        },
        "3148529a1aa44807bc72fefd952abd4c": {
          "model_module": "@jupyter-widgets/controls",
          "model_name": "SliderStyleModel",
          "state": {
            "_view_name": "StyleView",
            "handle_color": null,
            "_model_name": "SliderStyleModel",
            "description_width": "",
            "_view_module": "@jupyter-widgets/base",
            "_model_module_version": "1.5.0",
            "_view_count": null,
            "_view_module_version": "1.2.0",
            "_model_module": "@jupyter-widgets/controls"
          }
        },
        "6be78a1306d8483a97e3e9fc2bfe36d4": {
          "model_module": "@jupyter-widgets/base",
          "model_name": "LayoutModel",
          "state": {
            "_view_name": "LayoutView",
            "grid_template_rows": null,
            "right": null,
            "justify_content": null,
            "_view_module": "@jupyter-widgets/base",
            "overflow": null,
            "_model_module_version": "1.2.0",
            "_view_count": null,
            "flex_flow": null,
            "width": null,
            "min_width": null,
            "border": null,
            "align_items": null,
            "bottom": null,
            "_model_module": "@jupyter-widgets/base",
            "top": null,
            "grid_column": null,
            "overflow_y": null,
            "overflow_x": null,
            "grid_auto_flow": null,
            "grid_area": null,
            "grid_template_columns": null,
            "flex": null,
            "_model_name": "LayoutModel",
            "justify_items": null,
            "grid_row": null,
            "max_height": null,
            "align_content": null,
            "visibility": null,
            "align_self": null,
            "height": null,
            "min_height": null,
            "padding": null,
            "grid_auto_rows": null,
            "grid_gap": null,
            "max_width": null,
            "order": null,
            "_view_module_version": "1.2.0",
            "grid_template_areas": null,
            "object_position": null,
            "object_fit": null,
            "grid_auto_columns": null,
            "margin": null,
            "display": null,
            "left": null
          }
        },
        "4bf3e2229ae847d9970c6d68fad59feb": {
          "model_module": "@jupyter-widgets/base",
          "model_name": "LayoutModel",
          "state": {
            "_view_name": "LayoutView",
            "grid_template_rows": null,
            "right": null,
            "justify_content": null,
            "_view_module": "@jupyter-widgets/base",
            "overflow": null,
            "_model_module_version": "1.2.0",
            "_view_count": null,
            "flex_flow": null,
            "width": null,
            "min_width": null,
            "border": null,
            "align_items": null,
            "bottom": null,
            "_model_module": "@jupyter-widgets/base",
            "top": null,
            "grid_column": null,
            "overflow_y": null,
            "overflow_x": null,
            "grid_auto_flow": null,
            "grid_area": null,
            "grid_template_columns": null,
            "flex": null,
            "_model_name": "LayoutModel",
            "justify_items": null,
            "grid_row": null,
            "max_height": null,
            "align_content": null,
            "visibility": null,
            "align_self": null,
            "height": null,
            "min_height": null,
            "padding": null,
            "grid_auto_rows": null,
            "grid_gap": null,
            "max_width": null,
            "order": null,
            "_view_module_version": "1.2.0",
            "grid_template_areas": null,
            "object_position": null,
            "object_fit": null,
            "grid_auto_columns": null,
            "margin": null,
            "display": null,
            "left": null
          }
        },
        "f813ee21ea69482980245d7e6588bd0e": {
          "model_module": "@jupyter-widgets/controls",
          "model_name": "TabModel",
          "state": {
            "_view_name": "TabView",
            "_dom_classes": [],
            "_titles": {
              "0": "Youtube",
              "1": "Bilibili"
            },
            "_model_name": "TabModel",
            "_view_module": "@jupyter-widgets/controls",
            "selected_index": 0,
            "_model_module_version": "1.5.0",
            "_view_count": null,
            "_view_module_version": "1.5.0",
            "box_style": "",
            "layout": "IPY_MODEL_cf0873951bc547d19e0c0ca0e1c5011c",
            "_model_module": "@jupyter-widgets/controls",
            "children": [
              "IPY_MODEL_f7fb7c2c5cd240449c0ecb2af25e2fc6",
              "IPY_MODEL_70f6ed3ad9e94701a2b7a1185bd51c1e"
            ]
          }
        },
        "cf0873951bc547d19e0c0ca0e1c5011c": {
          "model_module": "@jupyter-widgets/base",
          "model_name": "LayoutModel",
          "state": {
            "_view_name": "LayoutView",
            "grid_template_rows": null,
            "right": null,
            "justify_content": null,
            "_view_module": "@jupyter-widgets/base",
            "overflow": null,
            "_model_module_version": "1.2.0",
            "_view_count": null,
            "flex_flow": null,
            "width": null,
            "min_width": null,
            "border": null,
            "align_items": null,
            "bottom": null,
            "_model_module": "@jupyter-widgets/base",
            "top": null,
            "grid_column": null,
            "overflow_y": null,
            "overflow_x": null,
            "grid_auto_flow": null,
            "grid_area": null,
            "grid_template_columns": null,
            "flex": null,
            "_model_name": "LayoutModel",
            "justify_items": null,
            "grid_row": null,
            "max_height": null,
            "align_content": null,
            "visibility": null,
            "align_self": null,
            "height": null,
            "min_height": null,
            "padding": null,
            "grid_auto_rows": null,
            "grid_gap": null,
            "max_width": null,
            "order": null,
            "_view_module_version": "1.2.0",
            "grid_template_areas": null,
            "object_position": null,
            "object_fit": null,
            "grid_auto_columns": null,
            "margin": null,
            "display": null,
            "left": null
          }
        },
        "f7fb7c2c5cd240449c0ecb2af25e2fc6": {
          "model_module": "@jupyter-widgets/output",
          "model_name": "OutputModel",
          "state": {
            "_view_name": "OutputView",
            "msg_id": "",
            "_dom_classes": [],
            "_model_name": "OutputModel",
            "outputs": [
              {
                "output_type": "stream",
                "metadata": {
                  "tags": []
                },
                "text": "Video available at https://youtube.com/watch?v=EFCS55MtB-s\n",
                "stream": "stdout"
              },
              {
                "output_type": "display_data",
                "metadata": {
                  "tags": []
                },
                "text/html": "\n        <iframe\n            width=\"854\"\n            height=\"480\"\n            src=\"https://www.youtube.com/embed/EFCS55MtB-s?fs=1&rel=0\"\n            frameborder=\"0\"\n            allowfullscreen\n        ></iframe>\n        ",
                "text/plain": "<IPython.lib.display.YouTubeVideo at 0x7fb2ca657d90>",
                "image/jpeg": "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\n"
              }
            ],
            "_view_module": "@jupyter-widgets/output",
            "_model_module_version": "1.0.0",
            "_view_count": null,
            "_view_module_version": "1.0.0",
            "layout": "IPY_MODEL_0fe448ad66754f99a8ba4a1bb82c88d4",
            "_model_module": "@jupyter-widgets/output"
          }
        },
        "70f6ed3ad9e94701a2b7a1185bd51c1e": {
          "model_module": "@jupyter-widgets/output",
          "model_name": "OutputModel",
          "state": {
            "_view_name": "OutputView",
            "msg_id": "",
            "_dom_classes": [],
            "_model_name": "OutputModel",
            "outputs": [
              {
                "output_type": "stream",
                "metadata": {
                  "tags": []
                },
                "text": "Video available at https://www.bilibili.com/video/\n",
                "stream": "stdout"
              },
              {
                "output_type": "display_data",
                "metadata": {
                  "tags": []
                },
                "text/html": "\n        <iframe\n            width=\"854\"\n            height=\"480\"\n            src=\"https://player.bilibili.com/player.html?bvid=&page=1?fs=1\"\n            frameborder=\"0\"\n            allowfullscreen\n        ></iframe>\n        ",
                "text/plain": "<__main__.BiliVideo at 0x7fb2ca378c50>"
              }
            ],
            "_view_module": "@jupyter-widgets/output",
            "_model_module_version": "1.0.0",
            "_view_count": null,
            "_view_module_version": "1.0.0",
            "layout": "IPY_MODEL_354fd848f3d444b18496c90fc6a55252",
            "_model_module": "@jupyter-widgets/output"
          }
        },
        "0fe448ad66754f99a8ba4a1bb82c88d4": {
          "model_module": "@jupyter-widgets/base",
          "model_name": "LayoutModel",
          "state": {
            "_view_name": "LayoutView",
            "grid_template_rows": null,
            "right": null,
            "justify_content": null,
            "_view_module": "@jupyter-widgets/base",
            "overflow": null,
            "_model_module_version": "1.2.0",
            "_view_count": null,
            "flex_flow": null,
            "width": null,
            "min_width": null,
            "border": null,
            "align_items": null,
            "bottom": null,
            "_model_module": "@jupyter-widgets/base",
            "top": null,
            "grid_column": null,
            "overflow_y": null,
            "overflow_x": null,
            "grid_auto_flow": null,
            "grid_area": null,
            "grid_template_columns": null,
            "flex": null,
            "_model_name": "LayoutModel",
            "justify_items": null,
            "grid_row": null,
            "max_height": null,
            "align_content": null,
            "visibility": null,
            "align_self": null,
            "height": null,
            "min_height": null,
            "padding": null,
            "grid_auto_rows": null,
            "grid_gap": null,
            "max_width": null,
            "order": null,
            "_view_module_version": "1.2.0",
            "grid_template_areas": null,
            "object_position": null,
            "object_fit": null,
            "grid_auto_columns": null,
            "margin": null,
            "display": null,
            "left": null
          }
        },
        "354fd848f3d444b18496c90fc6a55252": {
          "model_module": "@jupyter-widgets/base",
          "model_name": "LayoutModel",
          "state": {
            "_view_name": "LayoutView",
            "grid_template_rows": null,
            "right": null,
            "justify_content": null,
            "_view_module": "@jupyter-widgets/base",
            "overflow": null,
            "_model_module_version": "1.2.0",
            "_view_count": null,
            "flex_flow": null,
            "width": null,
            "min_width": null,
            "border": null,
            "align_items": null,
            "bottom": null,
            "_model_module": "@jupyter-widgets/base",
            "top": null,
            "grid_column": null,
            "overflow_y": null,
            "overflow_x": null,
            "grid_auto_flow": null,
            "grid_area": null,
            "grid_template_columns": null,
            "flex": null,
            "_model_name": "LayoutModel",
            "justify_items": null,
            "grid_row": null,
            "max_height": null,
            "align_content": null,
            "visibility": null,
            "align_self": null,
            "height": null,
            "min_height": null,
            "padding": null,
            "grid_auto_rows": null,
            "grid_gap": null,
            "max_width": null,
            "order": null,
            "_view_module_version": "1.2.0",
            "grid_template_areas": null,
            "object_position": null,
            "object_fit": null,
            "grid_auto_columns": null,
            "margin": null,
            "display": null,
            "left": null
          }
        },
        "380caf88abb14feca7d640577782ff83": {
          "model_module": "@jupyter-widgets/controls",
          "model_name": "VBoxModel",
          "state": {
            "_view_name": "VBoxView",
            "_dom_classes": [
              "widget-interact"
            ],
            "_model_name": "VBoxModel",
            "_view_module": "@jupyter-widgets/controls",
            "_model_module_version": "1.5.0",
            "_view_count": null,
            "_view_module_version": "1.5.0",
            "box_style": "",
            "layout": "IPY_MODEL_dab46f98b04b4f059900bea8b3e769f1",
            "_model_module": "@jupyter-widgets/controls",
            "children": [
              "IPY_MODEL_ecd80e2b6e454c109f3c04d184989d16",
              "IPY_MODEL_09925896c3714857a96160ac4fa4569f",
              "IPY_MODEL_764931359d714b8e90cb301f5f885b62",
              "IPY_MODEL_b931c73075de401490b12b9067169a6d",
              "IPY_MODEL_656bf1304e3141f0b1d693ef8641b725",
              "IPY_MODEL_8f6cd07f1c974a6899c74f4eaa91d5f9",
              "IPY_MODEL_cb9a1fccea914706950c40804ed85737",
              "IPY_MODEL_3434dd3eb7eb4180ac0e696b20a3a9e3"
            ]
          }
        },
        "dab46f98b04b4f059900bea8b3e769f1": {
          "model_module": "@jupyter-widgets/base",
          "model_name": "LayoutModel",
          "state": {
            "_view_name": "LayoutView",
            "grid_template_rows": null,
            "right": null,
            "justify_content": null,
            "_view_module": "@jupyter-widgets/base",
            "overflow": null,
            "_model_module_version": "1.2.0",
            "_view_count": null,
            "flex_flow": null,
            "width": null,
            "min_width": null,
            "border": null,
            "align_items": null,
            "bottom": null,
            "_model_module": "@jupyter-widgets/base",
            "top": null,
            "grid_column": null,
            "overflow_y": null,
            "overflow_x": null,
            "grid_auto_flow": null,
            "grid_area": null,
            "grid_template_columns": null,
            "flex": null,
            "_model_name": "LayoutModel",
            "justify_items": null,
            "grid_row": null,
            "max_height": null,
            "align_content": null,
            "visibility": null,
            "align_self": null,
            "height": null,
            "min_height": null,
            "padding": null,
            "grid_auto_rows": null,
            "grid_gap": null,
            "max_width": null,
            "order": null,
            "_view_module_version": "1.2.0",
            "grid_template_areas": null,
            "object_position": null,
            "object_fit": null,
            "grid_auto_columns": null,
            "margin": null,
            "display": null,
            "left": null
          }
        },
        "ecd80e2b6e454c109f3c04d184989d16": {
          "model_module": "@jupyter-widgets/controls",
          "model_name": "IntSliderModel",
          "state": {
            "_view_name": "IntSliderView",
            "style": "IPY_MODEL_7fdbbd79c433441ca962587d7f930e54",
            "_dom_classes": [],
            "description": "current time",
            "step": 1,
            "_model_name": "IntSliderModel",
            "orientation": "horizontal",
            "max": 199,
            "_view_module": "@jupyter-widgets/controls",
            "_model_module_version": "1.5.0",
            "value": 55,
            "_view_count": null,
            "disabled": false,
            "_view_module_version": "1.5.0",
            "min": 2,
            "continuous_update": true,
            "readout_format": "d",
            "description_tooltip": null,
            "readout": true,
            "_model_module": "@jupyter-widgets/controls",
            "layout": "IPY_MODEL_d32d9e243424476fb49292370b3851e8"
          }
        },
        "09925896c3714857a96160ac4fa4569f": {
          "model_module": "@jupyter-widgets/controls",
          "model_name": "FloatSliderModel",
          "state": {
            "_view_name": "FloatSliderView",
            "style": "IPY_MODEL_03b215419b5a44289533b1584b0b6d96",
            "_dom_classes": [],
            "description": "dynamics time constant",
            "step": 0.1,
            "_model_name": "FloatSliderModel",
            "orientation": "horizontal",
            "max": 50,
            "_view_module": "@jupyter-widgets/controls",
            "_model_module_version": "1.5.0",
            "value": 49.3,
            "_view_count": null,
            "disabled": false,
            "_view_module_version": "1.5.0",
            "min": 1,
            "continuous_update": true,
            "readout_format": ".2f",
            "description_tooltip": null,
            "readout": true,
            "_model_module": "@jupyter-widgets/controls",
            "layout": "IPY_MODEL_5cdc9a6776574884a2d638251b6e7e14"
          }
        },
        "764931359d714b8e90cb301f5f885b62": {
          "model_module": "@jupyter-widgets/controls",
          "model_name": "FloatSliderModel",
          "state": {
            "_view_name": "FloatSliderView",
            "style": "IPY_MODEL_0d19cb8f2ecf4db19785a020b678ed2f",
            "_dom_classes": [],
            "description": "process noise",
            "step": 0.1,
            "_model_name": "FloatSliderModel",
            "orientation": "horizontal",
            "max": 10,
            "_view_module": "@jupyter-widgets/controls",
            "_model_module_version": "1.5.0",
            "value": 10,
            "_view_count": null,
            "disabled": false,
            "_view_module_version": "1.5.0",
            "min": 0.1,
            "continuous_update": true,
            "readout_format": ".2f",
            "description_tooltip": null,
            "readout": true,
            "_model_module": "@jupyter-widgets/controls",
            "layout": "IPY_MODEL_8abf7a57c63f49bfa6ba5c86e3c8f42e"
          }
        },
        "b931c73075de401490b12b9067169a6d": {
          "model_module": "@jupyter-widgets/controls",
          "model_name": "FloatSliderModel",
          "state": {
            "_view_name": "FloatSliderView",
            "style": "IPY_MODEL_17b2d4e25cce40c99b6f579e16ec8382",
            "_dom_classes": [],
            "description": "observation noise",
            "step": 0.1,
            "_model_name": "FloatSliderModel",
            "orientation": "horizontal",
            "max": 10,
            "_view_module": "@jupyter-widgets/controls",
            "_model_module_version": "1.5.0",
            "value": 9.3,
            "_view_count": null,
            "disabled": false,
            "_view_module_version": "1.5.0",
            "min": 0.1,
            "continuous_update": true,
            "readout_format": ".2f",
            "description_tooltip": null,
            "readout": true,
            "_model_module": "@jupyter-widgets/controls",
            "layout": "IPY_MODEL_0b3b521f8b6543c0981c186c48f94a44"
          }
        },
        "656bf1304e3141f0b1d693ef8641b725": {
          "model_module": "@jupyter-widgets/controls",
          "model_name": "CheckboxModel",
          "state": {
            "_view_name": "CheckboxView",
            "style": "IPY_MODEL_1b9da1b578714d248c3e19320f77847b",
            "_dom_classes": [],
            "description": "measurement",
            "_model_name": "CheckboxModel",
            "_view_module": "@jupyter-widgets/controls",
            "_model_module_version": "1.5.0",
            "value": true,
            "_view_count": null,
            "disabled": false,
            "_view_module_version": "1.5.0",
            "indent": false,
            "description_tooltip": null,
            "_model_module": "@jupyter-widgets/controls",
            "layout": "IPY_MODEL_25cdb9ad268248cf804e6b45a8fd0edf"
          }
        },
        "8f6cd07f1c974a6899c74f4eaa91d5f9": {
          "model_module": "@jupyter-widgets/controls",
          "model_name": "CheckboxModel",
          "state": {
            "_view_name": "CheckboxView",
            "style": "IPY_MODEL_89dc06a23fea4e129735db3242001d4f",
            "_dom_classes": [],
            "description": "estimate",
            "_model_name": "CheckboxModel",
            "_view_module": "@jupyter-widgets/controls",
            "_model_module_version": "1.5.0",
            "value": true,
            "_view_count": null,
            "disabled": false,
            "_view_module_version": "1.5.0",
            "indent": false,
            "description_tooltip": null,
            "_model_module": "@jupyter-widgets/controls",
            "layout": "IPY_MODEL_536874baea1d4b9c95b29c95d279f231"
          }
        },
        "cb9a1fccea914706950c40804ed85737": {
          "model_module": "@jupyter-widgets/controls",
          "model_name": "CheckboxModel",
          "state": {
            "_view_name": "CheckboxView",
            "style": "IPY_MODEL_f7247665dcec49b984a4d530c2ebf43b",
            "_dom_classes": [],
            "description": "estimator confidence intervals",
            "_model_name": "CheckboxModel",
            "_view_module": "@jupyter-widgets/controls",
            "_model_module_version": "1.5.0",
            "value": true,
            "_view_count": null,
            "disabled": false,
            "_view_module_version": "1.5.0",
            "indent": false,
            "description_tooltip": null,
            "_model_module": "@jupyter-widgets/controls",
            "layout": "IPY_MODEL_47d10d8b7abe43f88a81026432a7bc5a"
          }
        },
        "3434dd3eb7eb4180ac0e696b20a3a9e3": {
          "model_module": "@jupyter-widgets/output",
          "model_name": "OutputModel",
          "state": {
            "_view_name": "OutputView",
            "msg_id": "",
            "_dom_classes": [],
            "_model_name": "OutputModel",
            "outputs": [
              {
                "output_type": "display_data",
                "metadata": {
                  "tags": [],
                  "image/png": {
                    "width": 1061,
                    "height": 369
                  },
                  "needs_background": "light"
                },
                "image/png": "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\n",
                "text/plain": "<Figure size 1080x720 with 1 Axes>"
              }
            ],
            "_view_module": "@jupyter-widgets/output",
            "_model_module_version": "1.0.0",
            "_view_count": null,
            "_view_module_version": "1.0.0",
            "layout": "IPY_MODEL_875fc565e13c4b7ab26cf4a7978c6fa5",
            "_model_module": "@jupyter-widgets/output"
          }
        },
        "7fdbbd79c433441ca962587d7f930e54": {
          "model_module": "@jupyter-widgets/controls",
          "model_name": "SliderStyleModel",
          "state": {
            "_view_name": "StyleView",
            "handle_color": null,
            "_model_name": "SliderStyleModel",
            "description_width": "",
            "_view_module": "@jupyter-widgets/base",
            "_model_module_version": "1.5.0",
            "_view_count": null,
            "_view_module_version": "1.2.0",
            "_model_module": "@jupyter-widgets/controls"
          }
        },
        "d32d9e243424476fb49292370b3851e8": {
          "model_module": "@jupyter-widgets/base",
          "model_name": "LayoutModel",
          "state": {
            "_view_name": "LayoutView",
            "grid_template_rows": null,
            "right": null,
            "justify_content": null,
            "_view_module": "@jupyter-widgets/base",
            "overflow": null,
            "_model_module_version": "1.2.0",
            "_view_count": null,
            "flex_flow": null,
            "width": null,
            "min_width": null,
            "border": null,
            "align_items": null,
            "bottom": null,
            "_model_module": "@jupyter-widgets/base",
            "top": null,
            "grid_column": null,
            "overflow_y": null,
            "overflow_x": null,
            "grid_auto_flow": null,
            "grid_area": null,
            "grid_template_columns": null,
            "flex": null,
            "_model_name": "LayoutModel",
            "justify_items": null,
            "grid_row": null,
            "max_height": null,
            "align_content": null,
            "visibility": null,
            "align_self": null,
            "height": null,
            "min_height": null,
            "padding": null,
            "grid_auto_rows": null,
            "grid_gap": null,
            "max_width": null,
            "order": null,
            "_view_module_version": "1.2.0",
            "grid_template_areas": null,
            "object_position": null,
            "object_fit": null,
            "grid_auto_columns": null,
            "margin": null,
            "display": null,
            "left": null
          }
        },
        "03b215419b5a44289533b1584b0b6d96": {
          "model_module": "@jupyter-widgets/controls",
          "model_name": "SliderStyleModel",
          "state": {
            "_view_name": "StyleView",
            "handle_color": null,
            "_model_name": "SliderStyleModel",
            "description_width": "",
            "_view_module": "@jupyter-widgets/base",
            "_model_module_version": "1.5.0",
            "_view_count": null,
            "_view_module_version": "1.2.0",
            "_model_module": "@jupyter-widgets/controls"
          }
        },
        "5cdc9a6776574884a2d638251b6e7e14": {
          "model_module": "@jupyter-widgets/base",
          "model_name": "LayoutModel",
          "state": {
            "_view_name": "LayoutView",
            "grid_template_rows": null,
            "right": null,
            "justify_content": null,
            "_view_module": "@jupyter-widgets/base",
            "overflow": null,
            "_model_module_version": "1.2.0",
            "_view_count": null,
            "flex_flow": null,
            "width": null,
            "min_width": null,
            "border": null,
            "align_items": null,
            "bottom": null,
            "_model_module": "@jupyter-widgets/base",
            "top": null,
            "grid_column": null,
            "overflow_y": null,
            "overflow_x": null,
            "grid_auto_flow": null,
            "grid_area": null,
            "grid_template_columns": null,
            "flex": null,
            "_model_name": "LayoutModel",
            "justify_items": null,
            "grid_row": null,
            "max_height": null,
            "align_content": null,
            "visibility": null,
            "align_self": null,
            "height": null,
            "min_height": null,
            "padding": null,
            "grid_auto_rows": null,
            "grid_gap": null,
            "max_width": null,
            "order": null,
            "_view_module_version": "1.2.0",
            "grid_template_areas": null,
            "object_position": null,
            "object_fit": null,
            "grid_auto_columns": null,
            "margin": null,
            "display": null,
            "left": null
          }
        },
        "0d19cb8f2ecf4db19785a020b678ed2f": {
          "model_module": "@jupyter-widgets/controls",
          "model_name": "SliderStyleModel",
          "state": {
            "_view_name": "StyleView",
            "handle_color": null,
            "_model_name": "SliderStyleModel",
            "description_width": "",
            "_view_module": "@jupyter-widgets/base",
            "_model_module_version": "1.5.0",
            "_view_count": null,
            "_view_module_version": "1.2.0",
            "_model_module": "@jupyter-widgets/controls"
          }
        },
        "8abf7a57c63f49bfa6ba5c86e3c8f42e": {
          "model_module": "@jupyter-widgets/base",
          "model_name": "LayoutModel",
          "state": {
            "_view_name": "LayoutView",
            "grid_template_rows": null,
            "right": null,
            "justify_content": null,
            "_view_module": "@jupyter-widgets/base",
            "overflow": null,
            "_model_module_version": "1.2.0",
            "_view_count": null,
            "flex_flow": null,
            "width": null,
            "min_width": null,
            "border": null,
            "align_items": null,
            "bottom": null,
            "_model_module": "@jupyter-widgets/base",
            "top": null,
            "grid_column": null,
            "overflow_y": null,
            "overflow_x": null,
            "grid_auto_flow": null,
            "grid_area": null,
            "grid_template_columns": null,
            "flex": null,
            "_model_name": "LayoutModel",
            "justify_items": null,
            "grid_row": null,
            "max_height": null,
            "align_content": null,
            "visibility": null,
            "align_self": null,
            "height": null,
            "min_height": null,
            "padding": null,
            "grid_auto_rows": null,
            "grid_gap": null,
            "max_width": null,
            "order": null,
            "_view_module_version": "1.2.0",
            "grid_template_areas": null,
            "object_position": null,
            "object_fit": null,
            "grid_auto_columns": null,
            "margin": null,
            "display": null,
            "left": null
          }
        },
        "17b2d4e25cce40c99b6f579e16ec8382": {
          "model_module": "@jupyter-widgets/controls",
          "model_name": "SliderStyleModel",
          "state": {
            "_view_name": "StyleView",
            "handle_color": null,
            "_model_name": "SliderStyleModel",
            "description_width": "",
            "_view_module": "@jupyter-widgets/base",
            "_model_module_version": "1.5.0",
            "_view_count": null,
            "_view_module_version": "1.2.0",
            "_model_module": "@jupyter-widgets/controls"
          }
        },
        "0b3b521f8b6543c0981c186c48f94a44": {
          "model_module": "@jupyter-widgets/base",
          "model_name": "LayoutModel",
          "state": {
            "_view_name": "LayoutView",
            "grid_template_rows": null,
            "right": null,
            "justify_content": null,
            "_view_module": "@jupyter-widgets/base",
            "overflow": null,
            "_model_module_version": "1.2.0",
            "_view_count": null,
            "flex_flow": null,
            "width": null,
            "min_width": null,
            "border": null,
            "align_items": null,
            "bottom": null,
            "_model_module": "@jupyter-widgets/base",
            "top": null,
            "grid_column": null,
            "overflow_y": null,
            "overflow_x": null,
            "grid_auto_flow": null,
            "grid_area": null,
            "grid_template_columns": null,
            "flex": null,
            "_model_name": "LayoutModel",
            "justify_items": null,
            "grid_row": null,
            "max_height": null,
            "align_content": null,
            "visibility": null,
            "align_self": null,
            "height": null,
            "min_height": null,
            "padding": null,
            "grid_auto_rows": null,
            "grid_gap": null,
            "max_width": null,
            "order": null,
            "_view_module_version": "1.2.0",
            "grid_template_areas": null,
            "object_position": null,
            "object_fit": null,
            "grid_auto_columns": null,
            "margin": null,
            "display": null,
            "left": null
          }
        },
        "1b9da1b578714d248c3e19320f77847b": {
          "model_module": "@jupyter-widgets/controls",
          "model_name": "DescriptionStyleModel",
          "state": {
            "_view_name": "StyleView",
            "_model_name": "DescriptionStyleModel",
            "description_width": "",
            "_view_module": "@jupyter-widgets/base",
            "_model_module_version": "1.5.0",
            "_view_count": null,
            "_view_module_version": "1.2.0",
            "_model_module": "@jupyter-widgets/controls"
          }
        },
        "25cdb9ad268248cf804e6b45a8fd0edf": {
          "model_module": "@jupyter-widgets/base",
          "model_name": "LayoutModel",
          "state": {
            "_view_name": "LayoutView",
            "grid_template_rows": null,
            "right": null,
            "justify_content": null,
            "_view_module": "@jupyter-widgets/base",
            "overflow": null,
            "_model_module_version": "1.2.0",
            "_view_count": null,
            "flex_flow": null,
            "width": null,
            "min_width": null,
            "border": null,
            "align_items": null,
            "bottom": null,
            "_model_module": "@jupyter-widgets/base",
            "top": null,
            "grid_column": null,
            "overflow_y": null,
            "overflow_x": null,
            "grid_auto_flow": null,
            "grid_area": null,
            "grid_template_columns": null,
            "flex": null,
            "_model_name": "LayoutModel",
            "justify_items": null,
            "grid_row": null,
            "max_height": null,
            "align_content": null,
            "visibility": null,
            "align_self": null,
            "height": null,
            "min_height": null,
            "padding": null,
            "grid_auto_rows": null,
            "grid_gap": null,
            "max_width": null,
            "order": null,
            "_view_module_version": "1.2.0",
            "grid_template_areas": null,
            "object_position": null,
            "object_fit": null,
            "grid_auto_columns": null,
            "margin": null,
            "display": null,
            "left": null
          }
        },
        "89dc06a23fea4e129735db3242001d4f": {
          "model_module": "@jupyter-widgets/controls",
          "model_name": "DescriptionStyleModel",
          "state": {
            "_view_name": "StyleView",
            "_model_name": "DescriptionStyleModel",
            "description_width": "",
            "_view_module": "@jupyter-widgets/base",
            "_model_module_version": "1.5.0",
            "_view_count": null,
            "_view_module_version": "1.2.0",
            "_model_module": "@jupyter-widgets/controls"
          }
        },
        "536874baea1d4b9c95b29c95d279f231": {
          "model_module": "@jupyter-widgets/base",
          "model_name": "LayoutModel",
          "state": {
            "_view_name": "LayoutView",
            "grid_template_rows": null,
            "right": null,
            "justify_content": null,
            "_view_module": "@jupyter-widgets/base",
            "overflow": null,
            "_model_module_version": "1.2.0",
            "_view_count": null,
            "flex_flow": null,
            "width": null,
            "min_width": null,
            "border": null,
            "align_items": null,
            "bottom": null,
            "_model_module": "@jupyter-widgets/base",
            "top": null,
            "grid_column": null,
            "overflow_y": null,
            "overflow_x": null,
            "grid_auto_flow": null,
            "grid_area": null,
            "grid_template_columns": null,
            "flex": null,
            "_model_name": "LayoutModel",
            "justify_items": null,
            "grid_row": null,
            "max_height": null,
            "align_content": null,
            "visibility": null,
            "align_self": null,
            "height": null,
            "min_height": null,
            "padding": null,
            "grid_auto_rows": null,
            "grid_gap": null,
            "max_width": null,
            "order": null,
            "_view_module_version": "1.2.0",
            "grid_template_areas": null,
            "object_position": null,
            "object_fit": null,
            "grid_auto_columns": null,
            "margin": null,
            "display": null,
            "left": null
          }
        },
        "f7247665dcec49b984a4d530c2ebf43b": {
          "model_module": "@jupyter-widgets/controls",
          "model_name": "DescriptionStyleModel",
          "state": {
            "_view_name": "StyleView",
            "_model_name": "DescriptionStyleModel",
            "description_width": "",
            "_view_module": "@jupyter-widgets/base",
            "_model_module_version": "1.5.0",
            "_view_count": null,
            "_view_module_version": "1.2.0",
            "_model_module": "@jupyter-widgets/controls"
          }
        },
        "47d10d8b7abe43f88a81026432a7bc5a": {
          "model_module": "@jupyter-widgets/base",
          "model_name": "LayoutModel",
          "state": {
            "_view_name": "LayoutView",
            "grid_template_rows": null,
            "right": null,
            "justify_content": null,
            "_view_module": "@jupyter-widgets/base",
            "overflow": null,
            "_model_module_version": "1.2.0",
            "_view_count": null,
            "flex_flow": null,
            "width": null,
            "min_width": null,
            "border": null,
            "align_items": null,
            "bottom": null,
            "_model_module": "@jupyter-widgets/base",
            "top": null,
            "grid_column": null,
            "overflow_y": null,
            "overflow_x": null,
            "grid_auto_flow": null,
            "grid_area": null,
            "grid_template_columns": null,
            "flex": null,
            "_model_name": "LayoutModel",
            "justify_items": null,
            "grid_row": null,
            "max_height": null,
            "align_content": null,
            "visibility": null,
            "align_self": null,
            "height": null,
            "min_height": null,
            "padding": null,
            "grid_auto_rows": null,
            "grid_gap": null,
            "max_width": null,
            "order": null,
            "_view_module_version": "1.2.0",
            "grid_template_areas": null,
            "object_position": null,
            "object_fit": null,
            "grid_auto_columns": null,
            "margin": null,
            "display": null,
            "left": null
          }
        },
        "875fc565e13c4b7ab26cf4a7978c6fa5": {
          "model_module": "@jupyter-widgets/base",
          "model_name": "LayoutModel",
          "state": {
            "_view_name": "LayoutView",
            "grid_template_rows": null,
            "right": null,
            "justify_content": null,
            "_view_module": "@jupyter-widgets/base",
            "overflow": null,
            "_model_module_version": "1.2.0",
            "_view_count": null,
            "flex_flow": null,
            "width": null,
            "min_width": null,
            "border": null,
            "align_items": null,
            "bottom": null,
            "_model_module": "@jupyter-widgets/base",
            "top": null,
            "grid_column": null,
            "overflow_y": null,
            "overflow_x": null,
            "grid_auto_flow": null,
            "grid_area": null,
            "grid_template_columns": null,
            "flex": null,
            "_model_name": "LayoutModel",
            "justify_items": null,
            "grid_row": null,
            "max_height": null,
            "align_content": null,
            "visibility": null,
            "align_self": null,
            "height": null,
            "min_height": null,
            "padding": null,
            "grid_auto_rows": null,
            "grid_gap": null,
            "max_width": null,
            "order": null,
            "_view_module_version": "1.2.0",
            "grid_template_areas": null,
            "object_position": null,
            "object_fit": null,
            "grid_auto_columns": null,
            "margin": null,
            "display": null,
            "left": null
          }
        },
        "9da4ba0f57b44117aab880cee298aab1": {
          "model_module": "@jupyter-widgets/controls",
          "model_name": "VBoxModel",
          "state": {
            "_view_name": "VBoxView",
            "_dom_classes": [
              "widget-interact"
            ],
            "_model_name": "VBoxModel",
            "_view_module": "@jupyter-widgets/controls",
            "_model_module_version": "1.5.0",
            "_view_count": null,
            "_view_module_version": "1.5.0",
            "box_style": "",
            "layout": "IPY_MODEL_b09b1028049c42f0b708059bd38ee02b",
            "_model_module": "@jupyter-widgets/controls",
            "children": [
              "IPY_MODEL_aa7d5093dff64fbfb7a65e862e78552c",
              "IPY_MODEL_f9170998d49945538544b10d73178374",
              "IPY_MODEL_b89df97c2ea1490c956c9c5a5d431782",
              "IPY_MODEL_f846507384264ad79e28bb658d292075",
              "IPY_MODEL_46f6bfc088af46b082dd3691abf9e6d7"
            ]
          }
        },
        "b09b1028049c42f0b708059bd38ee02b": {
          "model_module": "@jupyter-widgets/base",
          "model_name": "LayoutModel",
          "state": {
            "_view_name": "LayoutView",
            "grid_template_rows": null,
            "right": null,
            "justify_content": null,
            "_view_module": "@jupyter-widgets/base",
            "overflow": null,
            "_model_module_version": "1.2.0",
            "_view_count": null,
            "flex_flow": null,
            "width": null,
            "min_width": null,
            "border": null,
            "align_items": null,
            "bottom": null,
            "_model_module": "@jupyter-widgets/base",
            "top": null,
            "grid_column": null,
            "overflow_y": null,
            "overflow_x": null,
            "grid_auto_flow": null,
            "grid_area": null,
            "grid_template_columns": null,
            "flex": null,
            "_model_name": "LayoutModel",
            "justify_items": null,
            "grid_row": null,
            "max_height": null,
            "align_content": null,
            "visibility": null,
            "align_self": null,
            "height": null,
            "min_height": null,
            "padding": null,
            "grid_auto_rows": null,
            "grid_gap": null,
            "max_width": null,
            "order": null,
            "_view_module_version": "1.2.0",
            "grid_template_areas": null,
            "object_position": null,
            "object_fit": null,
            "grid_auto_columns": null,
            "margin": null,
            "display": null,
            "left": null
          }
        },
        "aa7d5093dff64fbfb7a65e862e78552c": {
          "model_module": "@jupyter-widgets/controls",
          "model_name": "FloatSliderModel",
          "state": {
            "_view_name": "FloatSliderView",
            "style": "IPY_MODEL_df2a7fc59e12437cbeccbddedf97caeb",
            "_dom_classes": [],
            "description": "tau",
            "step": 0.1,
            "_model_name": "FloatSliderModel",
            "orientation": "horizontal",
            "max": 50,
            "_view_module": "@jupyter-widgets/controls",
            "_model_module_version": "1.5.0",
            "value": 50,
            "_view_count": null,
            "disabled": false,
            "_view_module_version": "1.5.0",
            "min": 1,
            "continuous_update": true,
            "readout_format": ".2f",
            "description_tooltip": null,
            "readout": true,
            "_model_module": "@jupyter-widgets/controls",
            "layout": "IPY_MODEL_905c4beacca34b2b8ae617615b50b495"
          }
        },
        "f9170998d49945538544b10d73178374": {
          "model_module": "@jupyter-widgets/controls",
          "model_name": "FloatSliderModel",
          "state": {
            "_view_name": "FloatSliderView",
            "style": "IPY_MODEL_7c0c96ff07d94b3da6b0e513e2f9829d",
            "_dom_classes": [],
            "description": "process noise",
            "step": 0.1,
            "_model_name": "FloatSliderModel",
            "orientation": "horizontal",
            "max": 10,
            "_view_module": "@jupyter-widgets/controls",
            "_model_module_version": "1.5.0",
            "value": 10,
            "_view_count": null,
            "disabled": false,
            "_view_module_version": "1.5.0",
            "min": 0.1,
            "continuous_update": true,
            "readout_format": ".2f",
            "description_tooltip": null,
            "readout": true,
            "_model_module": "@jupyter-widgets/controls",
            "layout": "IPY_MODEL_5525c7aac91c4a3c98cadca950959dfc"
          }
        },
        "b89df97c2ea1490c956c9c5a5d431782": {
          "model_module": "@jupyter-widgets/controls",
          "model_name": "FloatSliderModel",
          "state": {
            "_view_name": "FloatSliderView",
            "style": "IPY_MODEL_e0058ff0777b4c839990ed0a6e4f8136",
            "_dom_classes": [],
            "description": "observation noise",
            "step": 0.1,
            "_model_name": "FloatSliderModel",
            "orientation": "horizontal",
            "max": 10,
            "_view_module": "@jupyter-widgets/controls",
            "_model_module_version": "1.5.0",
            "value": 10,
            "_view_count": null,
            "disabled": false,
            "_view_module_version": "1.5.0",
            "min": 0.1,
            "continuous_update": true,
            "readout_format": ".2f",
            "description_tooltip": null,
            "readout": true,
            "_model_module": "@jupyter-widgets/controls",
            "layout": "IPY_MODEL_19c8f3712a7248b0974ac4cbee7adec0"
          }
        },
        "f846507384264ad79e28bb658d292075": {
          "model_module": "@jupyter-widgets/controls",
          "model_name": "CheckboxModel",
          "state": {
            "_view_name": "CheckboxView",
            "style": "IPY_MODEL_968f89ecf1c84ed8ad4baf8d3aee85ad",
            "_dom_classes": [],
            "description": "measurements",
            "_model_name": "CheckboxModel",
            "_view_module": "@jupyter-widgets/controls",
            "_model_module_version": "1.5.0",
            "value": false,
            "_view_count": null,
            "disabled": false,
            "_view_module_version": "1.5.0",
            "indent": false,
            "description_tooltip": null,
            "_model_module": "@jupyter-widgets/controls",
            "layout": "IPY_MODEL_225bce60bc774d9fb9980d5068ad6cd4"
          }
        },
        "46f6bfc088af46b082dd3691abf9e6d7": {
          "model_module": "@jupyter-widgets/output",
          "model_name": "OutputModel",
          "state": {
            "_view_name": "OutputView",
            "msg_id": "",
            "_dom_classes": [],
            "_model_name": "OutputModel",
            "outputs": [
              {
                "output_type": "display_data",
                "metadata": {
                  "tags": [],
                  "image/png": {
                    "width": 701,
                    "height": 341
                  },
                  "needs_background": "light"
                },
                "image/png": "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\n",
                "text/plain": "<Figure size 720x360 with 2 Axes>"
              }
            ],
            "_view_module": "@jupyter-widgets/output",
            "_model_module_version": "1.0.0",
            "_view_count": null,
            "_view_module_version": "1.0.0",
            "layout": "IPY_MODEL_e16560a9a40d42c28ca601755f101cc8",
            "_model_module": "@jupyter-widgets/output"
          }
        },
        "df2a7fc59e12437cbeccbddedf97caeb": {
          "model_module": "@jupyter-widgets/controls",
          "model_name": "SliderStyleModel",
          "state": {
            "_view_name": "StyleView",
            "handle_color": null,
            "_model_name": "SliderStyleModel",
            "description_width": "",
            "_view_module": "@jupyter-widgets/base",
            "_model_module_version": "1.5.0",
            "_view_count": null,
            "_view_module_version": "1.2.0",
            "_model_module": "@jupyter-widgets/controls"
          }
        },
        "905c4beacca34b2b8ae617615b50b495": {
          "model_module": "@jupyter-widgets/base",
          "model_name": "LayoutModel",
          "state": {
            "_view_name": "LayoutView",
            "grid_template_rows": null,
            "right": null,
            "justify_content": null,
            "_view_module": "@jupyter-widgets/base",
            "overflow": null,
            "_model_module_version": "1.2.0",
            "_view_count": null,
            "flex_flow": null,
            "width": null,
            "min_width": null,
            "border": null,
            "align_items": null,
            "bottom": null,
            "_model_module": "@jupyter-widgets/base",
            "top": null,
            "grid_column": null,
            "overflow_y": null,
            "overflow_x": null,
            "grid_auto_flow": null,
            "grid_area": null,
            "grid_template_columns": null,
            "flex": null,
            "_model_name": "LayoutModel",
            "justify_items": null,
            "grid_row": null,
            "max_height": null,
            "align_content": null,
            "visibility": null,
            "align_self": null,
            "height": null,
            "min_height": null,
            "padding": null,
            "grid_auto_rows": null,
            "grid_gap": null,
            "max_width": null,
            "order": null,
            "_view_module_version": "1.2.0",
            "grid_template_areas": null,
            "object_position": null,
            "object_fit": null,
            "grid_auto_columns": null,
            "margin": null,
            "display": null,
            "left": null
          }
        },
        "7c0c96ff07d94b3da6b0e513e2f9829d": {
          "model_module": "@jupyter-widgets/controls",
          "model_name": "SliderStyleModel",
          "state": {
            "_view_name": "StyleView",
            "handle_color": null,
            "_model_name": "SliderStyleModel",
            "description_width": "",
            "_view_module": "@jupyter-widgets/base",
            "_model_module_version": "1.5.0",
            "_view_count": null,
            "_view_module_version": "1.2.0",
            "_model_module": "@jupyter-widgets/controls"
          }
        },
        "5525c7aac91c4a3c98cadca950959dfc": {
          "model_module": "@jupyter-widgets/base",
          "model_name": "LayoutModel",
          "state": {
            "_view_name": "LayoutView",
            "grid_template_rows": null,
            "right": null,
            "justify_content": null,
            "_view_module": "@jupyter-widgets/base",
            "overflow": null,
            "_model_module_version": "1.2.0",
            "_view_count": null,
            "flex_flow": null,
            "width": null,
            "min_width": null,
            "border": null,
            "align_items": null,
            "bottom": null,
            "_model_module": "@jupyter-widgets/base",
            "top": null,
            "grid_column": null,
            "overflow_y": null,
            "overflow_x": null,
            "grid_auto_flow": null,
            "grid_area": null,
            "grid_template_columns": null,
            "flex": null,
            "_model_name": "LayoutModel",
            "justify_items": null,
            "grid_row": null,
            "max_height": null,
            "align_content": null,
            "visibility": null,
            "align_self": null,
            "height": null,
            "min_height": null,
            "padding": null,
            "grid_auto_rows": null,
            "grid_gap": null,
            "max_width": null,
            "order": null,
            "_view_module_version": "1.2.0",
            "grid_template_areas": null,
            "object_position": null,
            "object_fit": null,
            "grid_auto_columns": null,
            "margin": null,
            "display": null,
            "left": null
          }
        },
        "e0058ff0777b4c839990ed0a6e4f8136": {
          "model_module": "@jupyter-widgets/controls",
          "model_name": "SliderStyleModel",
          "state": {
            "_view_name": "StyleView",
            "handle_color": null,
            "_model_name": "SliderStyleModel",
            "description_width": "",
            "_view_module": "@jupyter-widgets/base",
            "_model_module_version": "1.5.0",
            "_view_count": null,
            "_view_module_version": "1.2.0",
            "_model_module": "@jupyter-widgets/controls"
          }
        },
        "19c8f3712a7248b0974ac4cbee7adec0": {
          "model_module": "@jupyter-widgets/base",
          "model_name": "LayoutModel",
          "state": {
            "_view_name": "LayoutView",
            "grid_template_rows": null,
            "right": null,
            "justify_content": null,
            "_view_module": "@jupyter-widgets/base",
            "overflow": null,
            "_model_module_version": "1.2.0",
            "_view_count": null,
            "flex_flow": null,
            "width": null,
            "min_width": null,
            "border": null,
            "align_items": null,
            "bottom": null,
            "_model_module": "@jupyter-widgets/base",
            "top": null,
            "grid_column": null,
            "overflow_y": null,
            "overflow_x": null,
            "grid_auto_flow": null,
            "grid_area": null,
            "grid_template_columns": null,
            "flex": null,
            "_model_name": "LayoutModel",
            "justify_items": null,
            "grid_row": null,
            "max_height": null,
            "align_content": null,
            "visibility": null,
            "align_self": null,
            "height": null,
            "min_height": null,
            "padding": null,
            "grid_auto_rows": null,
            "grid_gap": null,
            "max_width": null,
            "order": null,
            "_view_module_version": "1.2.0",
            "grid_template_areas": null,
            "object_position": null,
            "object_fit": null,
            "grid_auto_columns": null,
            "margin": null,
            "display": null,
            "left": null
          }
        },
        "968f89ecf1c84ed8ad4baf8d3aee85ad": {
          "model_module": "@jupyter-widgets/controls",
          "model_name": "DescriptionStyleModel",
          "state": {
            "_view_name": "StyleView",
            "_model_name": "DescriptionStyleModel",
            "description_width": "",
            "_view_module": "@jupyter-widgets/base",
            "_model_module_version": "1.5.0",
            "_view_count": null,
            "_view_module_version": "1.2.0",
            "_model_module": "@jupyter-widgets/controls"
          }
        },
        "225bce60bc774d9fb9980d5068ad6cd4": {
          "model_module": "@jupyter-widgets/base",
          "model_name": "LayoutModel",
          "state": {
            "_view_name": "LayoutView",
            "grid_template_rows": null,
            "right": null,
            "justify_content": null,
            "_view_module": "@jupyter-widgets/base",
            "overflow": null,
            "_model_module_version": "1.2.0",
            "_view_count": null,
            "flex_flow": null,
            "width": null,
            "min_width": null,
            "border": null,
            "align_items": null,
            "bottom": null,
            "_model_module": "@jupyter-widgets/base",
            "top": null,
            "grid_column": null,
            "overflow_y": null,
            "overflow_x": null,
            "grid_auto_flow": null,
            "grid_area": null,
            "grid_template_columns": null,
            "flex": null,
            "_model_name": "LayoutModel",
            "justify_items": null,
            "grid_row": null,
            "max_height": null,
            "align_content": null,
            "visibility": null,
            "align_self": null,
            "height": null,
            "min_height": null,
            "padding": null,
            "grid_auto_rows": null,
            "grid_gap": null,
            "max_width": null,
            "order": null,
            "_view_module_version": "1.2.0",
            "grid_template_areas": null,
            "object_position": null,
            "object_fit": null,
            "grid_auto_columns": null,
            "margin": null,
            "display": null,
            "left": null
          }
        },
        "e16560a9a40d42c28ca601755f101cc8": {
          "model_module": "@jupyter-widgets/base",
          "model_name": "LayoutModel",
          "state": {
            "_view_name": "LayoutView",
            "grid_template_rows": null,
            "right": null,
            "justify_content": null,
            "_view_module": "@jupyter-widgets/base",
            "overflow": null,
            "_model_module_version": "1.2.0",
            "_view_count": null,
            "flex_flow": null,
            "width": null,
            "min_width": null,
            "border": null,
            "align_items": null,
            "bottom": null,
            "_model_module": "@jupyter-widgets/base",
            "top": null,
            "grid_column": null,
            "overflow_y": null,
            "overflow_x": null,
            "grid_auto_flow": null,
            "grid_area": null,
            "grid_template_columns": null,
            "flex": null,
            "_model_name": "LayoutModel",
            "justify_items": null,
            "grid_row": null,
            "max_height": null,
            "align_content": null,
            "visibility": null,
            "align_self": null,
            "height": null,
            "min_height": null,
            "padding": null,
            "grid_auto_rows": null,
            "grid_gap": null,
            "max_width": null,
            "order": null,
            "_view_module_version": "1.2.0",
            "grid_template_areas": null,
            "object_position": null,
            "object_fit": null,
            "grid_auto_columns": null,
            "margin": null,
            "display": null,
            "left": null
          }
        },
        "1e94077bbbfa49f7bde114f4549d2340": {
          "model_module": "@jupyter-widgets/controls",
          "model_name": "VBoxModel",
          "state": {
            "_view_name": "VBoxView",
            "_dom_classes": [
              "widget-interact"
            ],
            "_model_name": "VBoxModel",
            "_view_module": "@jupyter-widgets/controls",
            "_model_module_version": "1.5.0",
            "_view_count": null,
            "_view_module_version": "1.5.0",
            "box_style": "",
            "layout": "IPY_MODEL_07094adf37f44711a3c06d906dbca577",
            "_model_module": "@jupyter-widgets/controls",
            "children": [
              "IPY_MODEL_2245c05d36b54ea1a32246be6b4a6102",
              "IPY_MODEL_7eae43c0e01748c48e7cc044adeacc4e",
              "IPY_MODEL_befd4a671a0b4335a7c2a08c4728cc48",
              "IPY_MODEL_81859213a01947959411beb45a779f10"
            ]
          }
        },
        "07094adf37f44711a3c06d906dbca577": {
          "model_module": "@jupyter-widgets/base",
          "model_name": "LayoutModel",
          "state": {
            "_view_name": "LayoutView",
            "grid_template_rows": null,
            "right": null,
            "justify_content": null,
            "_view_module": "@jupyter-widgets/base",
            "overflow": null,
            "_model_module_version": "1.2.0",
            "_view_count": null,
            "flex_flow": null,
            "width": null,
            "min_width": null,
            "border": null,
            "align_items": null,
            "bottom": null,
            "_model_module": "@jupyter-widgets/base",
            "top": null,
            "grid_column": null,
            "overflow_y": null,
            "overflow_x": null,
            "grid_auto_flow": null,
            "grid_area": null,
            "grid_template_columns": null,
            "flex": null,
            "_model_name": "LayoutModel",
            "justify_items": null,
            "grid_row": null,
            "max_height": null,
            "align_content": null,
            "visibility": null,
            "align_self": null,
            "height": null,
            "min_height": null,
            "padding": null,
            "grid_auto_rows": null,
            "grid_gap": null,
            "max_width": null,
            "order": null,
            "_view_module_version": "1.2.0",
            "grid_template_areas": null,
            "object_position": null,
            "object_fit": null,
            "grid_auto_columns": null,
            "margin": null,
            "display": null,
            "left": null
          }
        },
        "2245c05d36b54ea1a32246be6b4a6102": {
          "model_module": "@jupyter-widgets/controls",
          "model_name": "IntSliderModel",
          "state": {
            "_view_name": "IntSliderView",
            "style": "IPY_MODEL_adb02e57491f4592bc9a8f433bd8ab7e",
            "_dom_classes": [],
            "description": "max time",
            "step": 1,
            "_model_name": "IntSliderModel",
            "orientation": "horizontal",
            "max": 199,
            "_view_module": "@jupyter-widgets/controls",
            "_model_module_version": "1.5.0",
            "value": 152,
            "_view_count": null,
            "disabled": false,
            "_view_module_version": "1.5.0",
            "min": 2,
            "continuous_update": true,
            "readout_format": "d",
            "description_tooltip": null,
            "readout": true,
            "_model_module": "@jupyter-widgets/controls",
            "layout": "IPY_MODEL_11c558d0f43247ffbe2b19f5eadb6640"
          }
        },
        "7eae43c0e01748c48e7cc044adeacc4e": {
          "model_module": "@jupyter-widgets/controls",
          "model_name": "FloatSliderModel",
          "state": {
            "_view_name": "FloatSliderView",
            "style": "IPY_MODEL_8bcfc1b5167a466392e3e51a8964ba8d",
            "_dom_classes": [],
            "description": "time constant",
            "step": 0.1,
            "_model_name": "FloatSliderModel",
            "orientation": "horizontal",
            "max": 50,
            "_view_module": "@jupyter-widgets/controls",
            "_model_module_version": "1.5.0",
            "value": 32.2,
            "_view_count": null,
            "disabled": false,
            "_view_module_version": "1.5.0",
            "min": 1,
            "continuous_update": true,
            "readout_format": ".2f",
            "description_tooltip": null,
            "readout": true,
            "_model_module": "@jupyter-widgets/controls",
            "layout": "IPY_MODEL_87b6cca40832455fbd1ffc299f3250a1"
          }
        },
        "befd4a671a0b4335a7c2a08c4728cc48": {
          "model_module": "@jupyter-widgets/controls",
          "model_name": "FloatSliderModel",
          "state": {
            "_view_name": "FloatSliderView",
            "style": "IPY_MODEL_d432b600c6f0480084536777119c8b56",
            "_dom_classes": [],
            "description": "SNR (decibels)",
            "step": 0.1,
            "_model_name": "FloatSliderModel",
            "orientation": "horizontal",
            "max": 10,
            "_view_module": "@jupyter-widgets/controls",
            "_model_module_version": "1.5.0",
            "value": -19.5,
            "_view_count": null,
            "disabled": false,
            "_view_module_version": "1.5.0",
            "min": -40,
            "continuous_update": true,
            "readout_format": ".2f",
            "description_tooltip": null,
            "readout": true,
            "_model_module": "@jupyter-widgets/controls",
            "layout": "IPY_MODEL_c53d338a726a40589f217762bcadcc51"
          }
        },
        "81859213a01947959411beb45a779f10": {
          "model_module": "@jupyter-widgets/output",
          "model_name": "OutputModel",
          "state": {
            "_view_name": "OutputView",
            "msg_id": "",
            "_dom_classes": [],
            "_model_name": "OutputModel",
            "outputs": [
              {
                "output_type": "display_data",
                "metadata": {
                  "tags": [],
                  "image/png": {
                    "width": 558,
                    "height": 414
                  },
                  "needs_background": "light"
                },
                "image/png": "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\n",
                "text/plain": "<Figure size 576x432 with 1 Axes>"
              }
            ],
            "_view_module": "@jupyter-widgets/output",
            "_model_module_version": "1.0.0",
            "_view_count": null,
            "_view_module_version": "1.0.0",
            "layout": "IPY_MODEL_bd3f7f9724824166b534d5d2418b5711",
            "_model_module": "@jupyter-widgets/output"
          }
        },
        "adb02e57491f4592bc9a8f433bd8ab7e": {
          "model_module": "@jupyter-widgets/controls",
          "model_name": "SliderStyleModel",
          "state": {
            "_view_name": "StyleView",
            "handle_color": null,
            "_model_name": "SliderStyleModel",
            "description_width": "",
            "_view_module": "@jupyter-widgets/base",
            "_model_module_version": "1.5.0",
            "_view_count": null,
            "_view_module_version": "1.2.0",
            "_model_module": "@jupyter-widgets/controls"
          }
        },
        "11c558d0f43247ffbe2b19f5eadb6640": {
          "model_module": "@jupyter-widgets/base",
          "model_name": "LayoutModel",
          "state": {
            "_view_name": "LayoutView",
            "grid_template_rows": null,
            "right": null,
            "justify_content": null,
            "_view_module": "@jupyter-widgets/base",
            "overflow": null,
            "_model_module_version": "1.2.0",
            "_view_count": null,
            "flex_flow": null,
            "width": null,
            "min_width": null,
            "border": null,
            "align_items": null,
            "bottom": null,
            "_model_module": "@jupyter-widgets/base",
            "top": null,
            "grid_column": null,
            "overflow_y": null,
            "overflow_x": null,
            "grid_auto_flow": null,
            "grid_area": null,
            "grid_template_columns": null,
            "flex": null,
            "_model_name": "LayoutModel",
            "justify_items": null,
            "grid_row": null,
            "max_height": null,
            "align_content": null,
            "visibility": null,
            "align_self": null,
            "height": null,
            "min_height": null,
            "padding": null,
            "grid_auto_rows": null,
            "grid_gap": null,
            "max_width": null,
            "order": null,
            "_view_module_version": "1.2.0",
            "grid_template_areas": null,
            "object_position": null,
            "object_fit": null,
            "grid_auto_columns": null,
            "margin": null,
            "display": null,
            "left": null
          }
        },
        "8bcfc1b5167a466392e3e51a8964ba8d": {
          "model_module": "@jupyter-widgets/controls",
          "model_name": "SliderStyleModel",
          "state": {
            "_view_name": "StyleView",
            "handle_color": null,
            "_model_name": "SliderStyleModel",
            "description_width": "",
            "_view_module": "@jupyter-widgets/base",
            "_model_module_version": "1.5.0",
            "_view_count": null,
            "_view_module_version": "1.2.0",
            "_model_module": "@jupyter-widgets/controls"
          }
        },
        "87b6cca40832455fbd1ffc299f3250a1": {
          "model_module": "@jupyter-widgets/base",
          "model_name": "LayoutModel",
          "state": {
            "_view_name": "LayoutView",
            "grid_template_rows": null,
            "right": null,
            "justify_content": null,
            "_view_module": "@jupyter-widgets/base",
            "overflow": null,
            "_model_module_version": "1.2.0",
            "_view_count": null,
            "flex_flow": null,
            "width": null,
            "min_width": null,
            "border": null,
            "align_items": null,
            "bottom": null,
            "_model_module": "@jupyter-widgets/base",
            "top": null,
            "grid_column": null,
            "overflow_y": null,
            "overflow_x": null,
            "grid_auto_flow": null,
            "grid_area": null,
            "grid_template_columns": null,
            "flex": null,
            "_model_name": "LayoutModel",
            "justify_items": null,
            "grid_row": null,
            "max_height": null,
            "align_content": null,
            "visibility": null,
            "align_self": null,
            "height": null,
            "min_height": null,
            "padding": null,
            "grid_auto_rows": null,
            "grid_gap": null,
            "max_width": null,
            "order": null,
            "_view_module_version": "1.2.0",
            "grid_template_areas": null,
            "object_position": null,
            "object_fit": null,
            "grid_auto_columns": null,
            "margin": null,
            "display": null,
            "left": null
          }
        },
        "d432b600c6f0480084536777119c8b56": {
          "model_module": "@jupyter-widgets/controls",
          "model_name": "SliderStyleModel",
          "state": {
            "_view_name": "StyleView",
            "handle_color": null,
            "_model_name": "SliderStyleModel",
            "description_width": "",
            "_view_module": "@jupyter-widgets/base",
            "_model_module_version": "1.5.0",
            "_view_count": null,
            "_view_module_version": "1.2.0",
            "_model_module": "@jupyter-widgets/controls"
          }
        },
        "c53d338a726a40589f217762bcadcc51": {
          "model_module": "@jupyter-widgets/base",
          "model_name": "LayoutModel",
          "state": {
            "_view_name": "LayoutView",
            "grid_template_rows": null,
            "right": null,
            "justify_content": null,
            "_view_module": "@jupyter-widgets/base",
            "overflow": null,
            "_model_module_version": "1.2.0",
            "_view_count": null,
            "flex_flow": null,
            "width": null,
            "min_width": null,
            "border": null,
            "align_items": null,
            "bottom": null,
            "_model_module": "@jupyter-widgets/base",
            "top": null,
            "grid_column": null,
            "overflow_y": null,
            "overflow_x": null,
            "grid_auto_flow": null,
            "grid_area": null,
            "grid_template_columns": null,
            "flex": null,
            "_model_name": "LayoutModel",
            "justify_items": null,
            "grid_row": null,
            "max_height": null,
            "align_content": null,
            "visibility": null,
            "align_self": null,
            "height": null,
            "min_height": null,
            "padding": null,
            "grid_auto_rows": null,
            "grid_gap": null,
            "max_width": null,
            "order": null,
            "_view_module_version": "1.2.0",
            "grid_template_areas": null,
            "object_position": null,
            "object_fit": null,
            "grid_auto_columns": null,
            "margin": null,
            "display": null,
            "left": null
          }
        },
        "bd3f7f9724824166b534d5d2418b5711": {
          "model_module": "@jupyter-widgets/base",
          "model_name": "LayoutModel",
          "state": {
            "_view_name": "LayoutView",
            "grid_template_rows": null,
            "right": null,
            "justify_content": null,
            "_view_module": "@jupyter-widgets/base",
            "overflow": null,
            "_model_module_version": "1.2.0",
            "_view_count": null,
            "flex_flow": null,
            "width": null,
            "min_width": null,
            "border": null,
            "align_items": null,
            "bottom": null,
            "_model_module": "@jupyter-widgets/base",
            "top": null,
            "grid_column": null,
            "overflow_y": null,
            "overflow_x": null,
            "grid_auto_flow": null,
            "grid_area": null,
            "grid_template_columns": null,
            "flex": null,
            "_model_name": "LayoutModel",
            "justify_items": null,
            "grid_row": null,
            "max_height": null,
            "align_content": null,
            "visibility": null,
            "align_self": null,
            "height": null,
            "min_height": null,
            "padding": null,
            "grid_auto_rows": null,
            "grid_gap": null,
            "max_width": null,
            "order": null,
            "_view_module_version": "1.2.0",
            "grid_template_areas": null,
            "object_position": null,
            "object_fit": null,
            "grid_auto_columns": null,
            "margin": null,
            "display": null,
            "left": null
          }
        }
      }
    }
  },
  "cells": [
    {
      "cell_type": "markdown",
      "metadata": {
        "id": "view-in-github",
        "colab_type": "text"
      },
      "source": [
        "<a href=\"https://colab.research.google.com/github/drewwint/neuromatch-2021/blob/main/tutorials/W3D2_HiddenDynamics/student/W3D2_Tutorial3.ipynb\" target=\"_parent\"><img src=\"https://colab.research.google.com/assets/colab-badge.svg\" alt=\"Open In Colab\"/></a>"
      ]
    },
    {
      "cell_type": "markdown",
      "metadata": {
        "id": "_l8B34cbs2Mv"
      },
      "source": [
        "# Tutorial 3: 1D Kalman Filter\n",
        "**Week 3, Day 2: Hidden Dynamics**\n",
        "\n",
        "**By Neuromatch Academy**\n",
        "\n",
        "__Content creators:__ Itzel Olivos Castillo and Xaq Pitkow\n",
        "\n",
        "__Content reviewers:__ Your names here\n"
      ]
    },
    {
      "cell_type": "markdown",
      "metadata": {
        "id": "xXsLACdPs2Mz"
      },
      "source": [
        "---\n",
        "# Tutorial Objectives\n",
        "\n",
        "In previous tutorials we used Hidden Markov Models (HMM) to infer *discrete* latent states from a sequence of measurements. In this tutorial, we will learn how to infer a *continuous* latent variable using the Kalman filter, which is one version of an HMM.\n",
        "\n",
        "In this tutorial, you will:\n",
        "* Review linear dynamical systems\n",
        "* Learn about the Kalman filter in one dimension\n",
        "* Manipulate parameters of process to see how the Kalman filter behaves\n",
        "* Think about some core properties of the Kalman filter.\n",
        "\n",
        "You can imagine this inference process happening as Mission Control tries to locate and track Astrocat. But you can also imagine that the brain is using an analogous Hidden Markov Model to track objects in the world, or to estimate the consequences of its own actions. And you could use this technique to estimate brain activity from noisy measurements, for understanding or for building a brain-machine interface."
      ]
    },
    {
      "cell_type": "markdown",
      "metadata": {
        "id": "Nz9nmacds2M2"
      },
      "source": [
        "# Setup"
      ]
    },
    {
      "cell_type": "code",
      "metadata": {
        "execution": {
          "iopub.execute_input": "2021-06-25T15:18:26.047476Z",
          "iopub.status.busy": "2021-06-25T15:18:26.046441Z",
          "iopub.status.idle": "2021-06-25T15:18:26.584750Z",
          "shell.execute_reply": "2021-06-25T15:18:26.583949Z"
        },
        "id": "bvRLmfUws2M3"
      },
      "source": [
        "import numpy as np\n",
        "import matplotlib.pyplot as plt\n",
        "from matplotlib import transforms\n",
        "from collections import namedtuple\n",
        "from scipy.stats import norm\n",
        "\n",
        "gaussian = namedtuple('Gaussian', ['mean', 'cov'])"
      ],
      "execution_count": 1,
      "outputs": []
    },
    {
      "cell_type": "code",
      "metadata": {
        "cellView": "form",
        "execution": {
          "iopub.execute_input": "2021-06-25T15:18:26.591804Z",
          "iopub.status.busy": "2021-06-25T15:18:26.589223Z",
          "iopub.status.idle": "2021-06-25T15:18:26.792676Z",
          "shell.execute_reply": "2021-06-25T15:18:26.791627Z"
        },
        "id": "SO2eZIIrs2M4"
      },
      "source": [
        "# @title Figure Settings\n",
        "import ipywidgets as widgets       # interactive display\n",
        "from ipywidgets import interactive, interact, HBox, Layout,VBox\n",
        "from IPython.display import HTML\n",
        "%config InlineBackend.figure_format = 'retina'\n",
        "plt.style.use(\"https://raw.githubusercontent.com/NeuromatchAcademy/course-content/master/nma.mplstyle\")"
      ],
      "execution_count": 2,
      "outputs": []
    },
    {
      "cell_type": "code",
      "metadata": {
        "cellView": "form",
        "execution": {
          "iopub.execute_input": "2021-06-25T15:18:26.804042Z",
          "iopub.status.busy": "2021-06-25T15:18:26.803417Z",
          "iopub.status.idle": "2021-06-25T15:18:26.806269Z",
          "shell.execute_reply": "2021-06-25T15:18:26.806671Z"
        },
        "id": "IZvBokqEs2M5"
      },
      "source": [
        "# @title Plotting Functions\n",
        "\n",
        "def plot_trajectory(s, T):\n",
        "  fig, ax = plt.subplots()\n",
        "  ax.plot([0, T], [0, 0], 'k')\n",
        "  ax.plot(s, color='limegreen', lw=2)\n",
        "  ax.plot([T], [s[-1]], marker='o', markersize=8, color='limegreen')\n",
        "  ax.set(xlabel = 'Time t', ylabel = 's(t)')\n",
        "\n",
        "def plot_measurement(s, m, T):\n",
        "  fig, axes = plt.subplots(1, 2)\n",
        "\n",
        "  axes[0].plot(s, color='limegreen', lw=2, label='true position')\n",
        "  axes[0].plot([T], [s[-1]], marker='o', markersize=8, color='limegreen')\n",
        "  axes[0].plot(m, '.', color='crimson', lw=2, label='measurement')\n",
        "  axes[0].set(xlabel = 'Time t', ylabel = 's(t)')\n",
        "\n",
        "  sbounds = 1.1*max(max(np.abs(s)), max(np.abs(m)))\n",
        "  axes[1].plot([-sbounds, sbounds], [-sbounds, sbounds], 'k')    # plot line of equality\n",
        "\n",
        "  axes[1].scatter(s, m, marker='.', color='red', s=100)\n",
        "  axes[1].set(xlabel = 'State', ylabel = 'Measurement')\n",
        "\n",
        "def plot_function(u=1,v=2,w=3,x=4,y=5,z=6):\n",
        "    time=np.arange(0,1,0.01)\n",
        "    df=pd.DataFrame({\"Y1\":np.sin(time*u*2*np.pi),\"y2\":np.sin(time*v*2*np.pi),\"y3\":np.sin(time*w*2*np.pi),\n",
        "                    \"y4\":np.sin(time*x*2*np.pi),\"y5\":np.sin(time*y*2*np.pi),\"y6\":np.sin(time*z*2*np.pi)})\n",
        "    df.plot()"
      ],
      "execution_count": 3,
      "outputs": []
    },
    {
      "cell_type": "code",
      "metadata": {
        "cellView": "form",
        "execution": {
          "iopub.execute_input": "2021-06-25T15:18:26.813808Z",
          "iopub.status.busy": "2021-06-25T15:18:26.813211Z",
          "iopub.status.idle": "2021-06-25T15:18:26.816849Z",
          "shell.execute_reply": "2021-06-25T15:18:26.816239Z"
        },
        "id": "PxqFHw9xs2M6"
      },
      "source": [
        "# @title Helper Functions\n",
        "\n",
        "# Fixed params\n",
        "T_max = 200\n",
        "D = 1\n",
        "tau_min = 1\n",
        "tau_max = 50\n",
        "process_noise_min = 0.1\n",
        "process_noise_max = 10\n",
        "measurement_noise_min = 0.1\n",
        "measurement_noise_max = 10\n",
        "\n",
        "unit_process_noise = np.random.randn(T_max)     # compute all N(0, 1) in advance to speed up time slider\n",
        "unit_measurement_noise = np.random.randn(T_max)     # compute all N(0, 1) in advance to speed up time slider\n",
        "\n",
        "def filter(D, process_noise, measurement_noise, belief, m, s):\n",
        "    prior = gaussian(belief.mean, belief.cov)\n",
        "\n",
        "    predicted_estimate = D * belief.mean\n",
        "    predicted_covariance = D**2 * belief.cov + process_noise\n",
        "    yesterdays_post = gaussian(predicted_estimate, predicted_covariance)\n",
        "\n",
        "    likelihood = gaussian(m, measurement_noise)\n",
        "    innovation_estimate = m - predicted_estimate\n",
        "    innovation_covariance = predicted_covariance + measurement_noise\n",
        "\n",
        "    K = predicted_covariance / innovation_covariance  # Kalman gain, i.e. the weight given to the difference between the measurement and predicted measurement\n",
        "    updated_mean = predicted_estimate + K * innovation_estimate\n",
        "    updated_cov = (1 - K) * predicted_covariance\n",
        "    todays_posterior = gaussian(updated_mean, updated_cov)\n",
        "\n",
        "    return prior, yesterdays_post, likelihood, todays_posterior"
      ],
      "execution_count": 4,
      "outputs": []
    },
    {
      "cell_type": "markdown",
      "metadata": {
        "id": "4w5wX6ZCs2M7"
      },
      "source": [
        "# Section 1: Astrocat Dynamics"
      ]
    },
    {
      "cell_type": "code",
      "metadata": {
        "cellView": "form",
        "execution": {
          "iopub.execute_input": "2021-06-25T15:18:26.828678Z",
          "iopub.status.busy": "2021-06-25T15:18:26.827790Z",
          "iopub.status.idle": "2021-06-25T15:18:26.981055Z",
          "shell.execute_reply": "2021-06-25T15:18:26.979516Z"
        },
        "id": "f2UUld-ds2NK",
        "outputId": "ce6a25f5-6270-429d-c760-bd7c47cffcd2",
        "colab": {
          "base_uri": "https://localhost:8080/",
          "height": 581,
          "referenced_widgets": [
            "3d1609ffbd8444dba27445a3ded1a38f",
            "8685fec1eecb4973acdec1653ae17b6a",
            "102ebf8b056f42d3bd4fd85cf16b4930",
            "58eb1fbddd6f4d5ebfed38ad5d3ab06d",
            "1e23c87339394e38b2951eebb242c403",
            "a3d2eac657a84e0196fd4f0b5d670d15"
          ]
        }
      },
      "source": [
        "# @title Video 1: Astrocat through time\n",
        "from ipywidgets import widgets\n",
        "\n",
        "out2 = widgets.Output()\n",
        "with out2:\n",
        "  from IPython.display import IFrame\n",
        "  class BiliVideo(IFrame):\n",
        "      def __init__(self, id, page=1, width=400, height=300, **kwargs):\n",
        "          self.id=id\n",
        "          src = 'https://player.bilibili.com/player.html?bvid={0}&page={1}'.format(id, page)\n",
        "          super(BiliVideo, self).__init__(src, width, height, **kwargs)\n",
        "\n",
        "  video = BiliVideo(id=\"\", width=854, height=480, fs=1)\n",
        "  print('Video available at https://www.bilibili.com/video/{0}'.format(video.id))\n",
        "  display(video)\n",
        "\n",
        "out1 = widgets.Output()\n",
        "with out1:\n",
        "  from IPython.display import YouTubeVideo\n",
        "  video = YouTubeVideo(id=\"P1jFKXDzAYQ\", width=854, height=480, fs=1, rel=0)\n",
        "  print('Video available at https://youtube.com/watch?v=' + video.id)\n",
        "  display(video)\n",
        "\n",
        "out = widgets.Tab([out1, out2])\n",
        "out.set_title(0, 'Youtube')\n",
        "out.set_title(1, 'Bilibili')\n",
        "\n",
        "display(out)"
      ],
      "execution_count": 5,
      "outputs": [
        {
          "output_type": "display_data",
          "data": {
            "application/vnd.jupyter.widget-view+json": {
              "model_id": "3d1609ffbd8444dba27445a3ded1a38f",
              "version_minor": 0,
              "version_major": 2
            },
            "text/plain": [
              "Tab(children=(Output(), Output()), _titles={'0': 'Youtube', '1': 'Bilibili'})"
            ]
          },
          "metadata": {
            "tags": []
          }
        }
      ]
    },
    {
      "cell_type": "code",
      "metadata": {
        "cellView": "form",
        "execution": {
          "iopub.execute_input": "2021-06-25T15:18:26.994185Z",
          "iopub.status.busy": "2021-06-25T15:18:26.993646Z",
          "iopub.status.idle": "2021-06-25T15:18:27.095081Z",
          "shell.execute_reply": "2021-06-25T15:18:27.094610Z"
        },
        "id": "Pw974SG5s2NM",
        "outputId": "f32271d1-f89a-46b5-e9a4-c410dacecf68",
        "colab": {
          "base_uri": "https://localhost:8080/",
          "height": 581,
          "referenced_widgets": [
            "61c9063c5b79467ea554a917cd7d84df",
            "6efd9565ed3a4e1396d51cd985858493",
            "cfd22f92e7814e5095f8f001ae28ca36",
            "42d979cd88774db6b64029742dab72d4",
            "eef07477c5894525b75f447d1bee6dce",
            "76b71dd16e7444bbaf0f67cfd28898b9"
          ]
        }
      },
      "source": [
        "# @title Video 2: Introduction\n",
        "from ipywidgets import widgets\n",
        "\n",
        "out2 = widgets.Output()\n",
        "with out2:\n",
        "  from IPython.display import IFrame\n",
        "  class BiliVideo(IFrame):\n",
        "      def __init__(self, id, page=1, width=400, height=300, **kwargs):\n",
        "          self.id=id\n",
        "          src = 'https://player.bilibili.com/player.html?bvid={0}&page={1}'.format(id, page)\n",
        "          super(BiliVideo, self).__init__(src, width, height, **kwargs)\n",
        "\n",
        "  video = BiliVideo(id=\"\", width=854, height=480, fs=1)\n",
        "  print('Video available at https://www.bilibili.com/video/{0}'.format(video.id))\n",
        "  display(video)\n",
        "\n",
        "out1 = widgets.Output()\n",
        "with out1:\n",
        "  from IPython.display import YouTubeVideo\n",
        "  video = YouTubeVideo(id=\"hqYP3-M3rFg\", width=854, height=480, fs=1, rel=0)\n",
        "  print('Video available at https://youtube.com/watch?v=' + video.id)\n",
        "  display(video)\n",
        "\n",
        "out = widgets.Tab([out1, out2])\n",
        "out.set_title(0, 'Youtube')\n",
        "out.set_title(1, 'Bilibili')\n",
        "\n",
        "display(out)"
      ],
      "execution_count": 6,
      "outputs": [
        {
          "output_type": "display_data",
          "data": {
            "application/vnd.jupyter.widget-view+json": {
              "model_id": "61c9063c5b79467ea554a917cd7d84df",
              "version_minor": 0,
              "version_major": 2
            },
            "text/plain": [
              "Tab(children=(Output(), Output()), _titles={'0': 'Youtube', '1': 'Bilibili'})"
            ]
          },
          "metadata": {
            "tags": []
          }
        }
      ]
    },
    {
      "cell_type": "markdown",
      "metadata": {
        "id": "1GDuZULbs2NM"
      },
      "source": [
        "## Section 1.1: Simulating Astrocat's movements\n",
        "\n",
        "Astrocat's position $s_t$ is determined by the linear dynamical system $s_t = Ds_{t-1} + w_{t-1}$. $D$ is a scalar that models how astrocat would like to change its position over time and $w_t \\sim \\mathcal{N}(0, \\sigma_p^2)$ is white Gaussian noise caused by unreliable actuators in astrocat's propulsion unit."
      ]
    },
    {
      "cell_type": "markdown",
      "metadata": {
        "id": "buvRYddIs2NM"
      },
      "source": [
        "### Coding Exercise 1.1: Simulating Astrocat's movements\n",
        "\n",
        "We will first simulate Astrocat's movements according to the linear dynamical system outlined above. \n",
        "\n",
        "You will complete a function `simulate_trajectory` below to simulate a possible trajectory,\n"
      ]
    },
    {
      "cell_type": "code",
      "metadata": {
        "execution": {
          "iopub.execute_input": "2021-06-25T15:18:27.109360Z",
          "iopub.status.busy": "2021-06-25T15:18:27.108835Z",
          "iopub.status.idle": "2021-06-25T15:18:27.207485Z",
          "shell.execute_reply": "2021-06-25T15:18:27.207982Z"
        },
        "id": "SX8Vs1FIs2NN",
        "outputId": "13aaf93e-7fa2-46cb-abdd-a0ece4f23f39",
        "colab": {
          "base_uri": "https://localhost:8080/",
          "height": 430
        }
      },
      "source": [
        "def simulate_trajectory(D, s0, sigma_eta, T):\n",
        "  \"\"\" Compute the response of the linear dynamical system.\n",
        "\n",
        "  Args:\n",
        "    D (scalar): dynamics multiplier\n",
        "    s0 (scalar): initial postion\n",
        "    sigma_eta (scalar): amount of noise in the system\n",
        "    T (scalar): total duration of the simulation\n",
        "\n",
        "  Returns:\n",
        "    ndarray: `s`: astrocat's trajectory up to time T\n",
        "  \"\"\"\n",
        "\n",
        "  ###################################################################\n",
        "  ## Fill out the following then remove\n",
        "  ## raise NotImplementedError(\"Student exercise: need to implement simulation\")\n",
        "  ###################################################################\n",
        "\n",
        "  # Initialize variables\n",
        "  s = np.zeros(T + 1)\n",
        "  s[0] = s0\n",
        "\n",
        "  # Compute the position at time t given the position at time t-1 for all t\n",
        "  # Consider that np.random.normal(mu, sigma) generates a random sample from\n",
        "  # a gaussian with mean = mu and standard deviation = sigma\n",
        "\n",
        "  for t in range(1, len(s)):\n",
        "\n",
        "    s[t] = D*s[t-1] + np.random.normal(0, sigma_eta)\n",
        "\n",
        "  return s\n",
        "\n",
        "# Set random seed\n",
        "np.random.seed(0)\n",
        "\n",
        "# Choose parameters\n",
        "D = -0.5    # parameter in f(x)\n",
        "T = 10      # total Time duration\n",
        "s0 = 5.     # initial condition of x at time 0\n",
        "sigma_eta = 2 # amount of noise in the actuators of astrocat's propulsion unit\n",
        "\n",
        "# Simulate trajectory\n",
        "s = simulate_trajectory(D, s0, sigma_eta, T)\n",
        "\n",
        "# Visualize\n",
        "plot_trajectory(s, T)"
      ],
      "execution_count": 7,
      "outputs": [
        {
          "output_type": "display_data",
          "data": {
            "image/png": "[encoded data removed]",
            "text/plain": [
              "<Figure size 576x432 with 1 Axes>"
            ]
          },
          "metadata": {
            "tags": [],
            "image/png": {
              "width": 558,
              "height": 413
            },
            "needs_background": "light"
          }
        }
      ]
    },
    {
      "cell_type": "markdown",
      "metadata": {
        "execution": {
          "iopub.execute_input": "2021-06-25T15:18:27.228744Z",
          "iopub.status.busy": "2021-06-25T15:18:27.213733Z",
          "iopub.status.idle": "2021-06-25T15:18:27.466271Z",
          "shell.execute_reply": "2021-06-25T15:18:27.466705Z"
        },
        "id": "f9L8S-lIs2NN"
      },
      "source": [
        "[*Click for solution*](https://github.com/NeuromatchAcademy/course-content/tree/master//tutorials/W3D2_HiddenDynamics/solutions/W3D2_Tutorial3_Solution_e1815642.py)\n",
        "\n",
        "*Example output:*\n",
        "\n",
        "<img alt='Solution hint' align='left' width=558 height=413 src=https://raw.githubusercontent.com/NeuromatchAcademy/course-content/master/tutorials/W3D2_HiddenDynamics/static/W3D2_Tutorial3_Solution_e1815642_0.png>\n",
        "\n"
      ]
    },
    {
      "cell_type": "markdown",
      "metadata": {
        "id": "XxNeVzeXs2NN"
      },
      "source": [
        "### Interactive Demo 1.1: Astrocat movement\n",
        "\n",
        "In the demo below, you can play with the parameters, specially $D$ and the noise standard deviation $\\sigma_p$, of the linear dynamical system governing Astrocat's movement. We will look at a longer time span.\n",
        "\n",
        "\n",
        "\n",
        "1.   What happens when D is large (>1)? Why?\n",
        "2.   What happens when D is a large negative number (<-1)? Why?\n",
        "3.   What about when D is zero?\n",
        "\n",
        "\n"
      ]
    },
    {
      "cell_type": "code",
      "metadata": {
        "cellView": "form",
        "execution": {
          "iopub.execute_input": "2021-06-25T15:18:27.497565Z",
          "iopub.status.busy": "2021-06-25T15:18:27.496941Z",
          "iopub.status.idle": "2021-06-25T15:18:27.728257Z",
          "shell.execute_reply": "2021-06-25T15:18:27.727727Z"
        },
        "id": "ZbCUZ_Fus2NP",
        "outputId": "79f81f8e-6534-4b2a-cb79-a98211959439",
        "colab": {
          "base_uri": "https://localhost:8080/",
          "height": 494,
          "referenced_widgets": [
            "9ce01bcce2a247849e060b396ccca10b",
            "ac388299f3ea4ecf94e847e373b1101e",
            "895d46edcf824e9f8c02597b856c5502",
            "935fc636495a48fcbce5728e3bb12917",
            "bf055ff7d52e4145b23de79069d36200",
            "20a2f2604ca543a18a21846257ae4cea",
            "065f3aaface4465aad7ffd548a78dc7e",
            "4b60deb4c1144f99b8232ecf8bcde266",
            "995bc85c99334d20b7df2eb45a0cc510",
            "d0d8714e715b42f0bfb49c9bd340bb7d"
          ]
        }
      },
      "source": [
        "# @markdown Execute this cell to enable the widget\n",
        "\n",
        "def simulate_trajectory(D, s0, sigma_eta, T):\n",
        "  \"\"\" Compute the response of the linear dynamical system.\n",
        "\n",
        "  Args:\n",
        "    D (scalar): dynamics multiplier\n",
        "    s0 (scalar): initial postion\n",
        "    sigma_eta (scalar): amount of noise in the system\n",
        "    T (scalar): total duration of the simulation\n",
        "\n",
        "  Returns:\n",
        "    ndarray: `s`: astrocat's trajectory up to time T\n",
        "  \"\"\"\n",
        "\n",
        "  # Initialize variables\n",
        "  s = np.zeros(T + 1)\n",
        "  s[0] = s0\n",
        "\n",
        "  # Compute the position at time t given the position at time t-1 for all t\n",
        "  # Consider that np.random.normal(mu, sigma) generates a random sample from\n",
        "  # a gaussian with mean = mu and standard deviation = sigma\n",
        "\n",
        "  for t in range(1, len(s)):\n",
        "\n",
        "    s[t] = D*s[t-1] + np.random.normal(0, sigma_eta)\n",
        "\n",
        "  return s\n",
        "\n",
        "@widgets.interact(D = widgets.FloatSlider(value=-.5, min=-2, max=2, step=0.1), sigma_p = widgets.FloatSlider(value=2.0, min=0, max=5, step=0.1))\n",
        "\n",
        "def interactive_movement(D, sigma_p):\n",
        "\n",
        "    # Choose parameters\n",
        "    T = 100      # total Time duration\n",
        "    s0 = 5.     # initial condition of x at time 0\n",
        "\n",
        "    # Simulate trajectory\n",
        "    s = simulate_trajectory(D, s0, sigma_p, T)\n",
        "\n",
        "    # Visualize\n",
        "    plot_trajectory(s, T)"
      ],
      "execution_count": 8,
      "outputs": [
        {
          "output_type": "display_data",
          "data": {
            "application/vnd.jupyter.widget-view+json": {
              "model_id": "9ce01bcce2a247849e060b396ccca10b",
              "version_minor": 0,
              "version_major": 2
            },
            "text/plain": [
              "interactive(children=(FloatSlider(value=-0.5, description='D', max=2.0, min=-2.0), FloatSlider(value=2.0, desc…"
            ]
          },
          "metadata": {
            "tags": []
          }
        }
      ]
    },
    {
      "cell_type": "markdown",
      "metadata": {
        "id": "XLWlIZZFxHRO"
      },
      "source": [
        "#### Answers\n",
        "1) When D is large, the state at time step t will depend heavily on the state at time\n",
        "   step t_1. If we forget about the noise term, D = 2 would mean that the state at each\n",
        "   time step is double the one before! So the state becomes huge and basically explodes towards\n",
        "   infinity.\n",
        "\n",
        "2) If D is a large negative number, the state at time t will be a different sign than the\n",
        "   state at time step t_1. So the state will oscillate over the x axis.\n",
        "\n",
        "3) When D is zero, the state at time t will not depend on the previous state, it will just\n",
        "   be drawn from the noise distribution\n",
        "   _____________________________________________________________________________"
      ]
    },
    {
      "cell_type": "markdown",
      "metadata": {
        "execution": {
          "iopub.execute_input": "2021-06-25T15:18:27.736701Z",
          "iopub.status.busy": "2021-06-25T15:18:27.735698Z",
          "iopub.status.idle": "2021-06-25T15:18:27.738573Z",
          "shell.execute_reply": "2021-06-25T15:18:27.739017Z"
        },
        "id": "h-katEaGs2NP"
      },
      "source": [
        "[*Click for solution*](https://github.com/NeuromatchAcademy/course-content/tree/master//tutorials/W3D2_HiddenDynamics/solutions/W3D2_Tutorial3_Solution_fd240254.py)\n",
        "\n"
      ]
    },
    {
      "cell_type": "markdown",
      "metadata": {
        "id": "--B0CjIOs2NP"
      },
      "source": [
        "## Section 1.2: Measuring Astrocat's movements"
      ]
    },
    {
      "cell_type": "markdown",
      "metadata": {
        "id": "cYz-tSIis2NQ"
      },
      "source": [
        "### Coding Exercise 1.2: Reading measurements from Astrocat's collar\n",
        "\n",
        "Since we will not have access to Astrocat's true position, we must estimate it using measurements of a noisy sensor attached to its collar. Complete the function below to read measurements from Astrocat's collar.\n",
        "\n",
        "We show the measurement and state at every time step in the left plot. In the right plot, we make a scatter plot to compare measured state to true state."
      ]
    },
    {
      "cell_type": "code",
      "metadata": {
        "execution": {
          "iopub.execute_input": "2021-06-25T15:18:27.798889Z",
          "iopub.status.busy": "2021-06-25T15:18:27.792218Z",
          "iopub.status.idle": "2021-06-25T15:18:28.085792Z",
          "shell.execute_reply": "2021-06-25T15:18:28.086262Z"
        },
        "id": "8a7l29kws2NQ",
        "outputId": "cb72abf0-6e4c-4489-e73f-81849e4af044",
        "colab": {
          "base_uri": "https://localhost:8080/",
          "height": 431
        }
      },
      "source": [
        "def read_collar(s, sigma_measurements):\n",
        "  \"\"\" Compute the measurements of the noisy sensor attached to astrocat's collar\n",
        "\n",
        "  Args:\n",
        "    s (ndarray): astrocat's true position over time\n",
        "    sigma_measurements (scalar): amount of noise in the sensor\n",
        "\n",
        "  Returns:\n",
        "    ndarray: `m`: astrocat's position over time according to the sensor\n",
        "  \"\"\"\n",
        "\n",
        "  # Initialize variables\n",
        "  m = np.zeros(len(s))\n",
        "\n",
        "  # For all time t, add white Gaussian noise with magnitude sigma_measurements\n",
        "  # Consider that np.random.normal(mu, sigma) generates a random sample from\n",
        "  # a gaussian with mean = mu and standard deviation = sigma\n",
        "\n",
        "  for t in range(len(s)):\n",
        "\n",
        "    ###################################################################\n",
        "    ## Fill out the following then remove\n",
        "    ## raise NotImplementedError(\"Student exercise: need to implement read_collar function\")\n",
        "    ###################################################################\n",
        "\n",
        "    m[t] = s[t] + sigma_measurements * np.random.randn()\n",
        "\n",
        "  return m\n",
        "\n",
        "# Choose parameters\n",
        "sigma_measurement = 4 # amount of noise in astrocat's collar\n",
        "\n",
        "# Read measurements from color\n",
        "m = read_collar(s, sigma_measurement)\n",
        "\n",
        "# Visualize\n",
        "plot_measurement(s, m, T)"
      ],
      "execution_count": 12,
      "outputs": [
        {
          "output_type": "display_data",
          "data": {
            "image/png": "[encoded data removed]",
            "text/plain": [
              "<Figure size 576x432 with 2 Axes>"
            ]
          },
          "metadata": {
            "tags": [],
            "image/png": {
              "width": 558,
              "height": 414
            },
            "needs_background": "light"
          }
        }
      ]
    },
    {
      "cell_type": "markdown",
      "metadata": {
        "id": "2mVbyNODs2NQ"
      },
      "source": [
        "### Interactive Demo 1.2: Compare true states to measured states\n",
        "\n",
        "In the following demo, you can change $\\sigma_{measurement}$ and visualize the resulting measurements and measurement accuracy.\n",
        "\n",
        "Before playing with the demo, discuss:\n",
        "\n",
        "\n",
        "1.   What is the difference between $\\sigma_{measurement}$ and the $\\sigma_p$ we played with in Interactive Demo 1.1?\n",
        "2. How will accuracy of measured state change with $\\sigma_{measurement}$? \n",
        "3.   What will happen if $\\sigma_{measurement}$ is 0?\n",
        "\n"
      ]
    },
    {
      "cell_type": "code",
      "metadata": {
        "cellView": "form",
        "execution": {
          "iopub.execute_input": "2021-06-25T15:18:28.107908Z",
          "iopub.status.busy": "2021-06-25T15:18:28.107301Z",
          "iopub.status.idle": "2021-06-25T15:18:28.428111Z",
          "shell.execute_reply": "2021-06-25T15:18:28.427587Z"
        },
        "id": "8ETWVWtfs2NQ",
        "outputId": "6391f21a-5974-47a8-a939-58dbefd6c624",
        "colab": {
          "base_uri": "https://localhost:8080/",
          "height": 462,
          "referenced_widgets": [
            "a6bf6c765c9c438fa38259c83c587e59",
            "1718aecbef2049c49df1346fc79d6fd3",
            "ca3cc74e85524296b2a2da7928debf50",
            "b66fb92694ee49a48c4d4ec831107aec",
            "3148529a1aa44807bc72fefd952abd4c",
            "6be78a1306d8483a97e3e9fc2bfe36d4",
            "4bf3e2229ae847d9970c6d68fad59feb"
          ]
        }
      },
      "source": [
        "# @markdown Execute this cell to enable the widget\n",
        "\n",
        "@widgets.interact(sigma_m = widgets.FloatSlider(value=2.0, min=0, max=5, step=0.1))\n",
        "def plot_measurement_quality(sigma_m):\n",
        "\n",
        "  # Read measurements from color\n",
        "  m = read_collar(s, sigma_m)\n",
        "\n",
        "  # Visualize\n",
        "  plot_measurement(s, m, T)"
      ],
      "execution_count": 10,
      "outputs": [
        {
          "output_type": "display_data",
          "data": {
            "application/vnd.jupyter.widget-view+json": {
              "model_id": "a6bf6c765c9c438fa38259c83c587e59",
              "version_minor": 0,
              "version_major": 2
            },
            "text/plain": [
              "interactive(children=(FloatSlider(value=2.0, description='sigma_m', max=5.0), Output()), _dom_classes=('widget…"
            ]
          },
          "metadata": {
            "tags": []
          }
        }
      ]
    },
    {
      "cell_type": "markdown",
      "metadata": {
        "id": "JrjZsbqOyDss"
      },
      "source": [
        "#### Answers\n",
        "1) sigma_m is how much noise there is in the measurement observation model\n",
        "   (the reading of the color location).\n",
        "   sigma_p was the noise in the actual movement every step.\n",
        "\n",
        "2) Accuracy will be worse with higher noise\n",
        "\n",
        "3) If sigma_m is 0, the measured states will be fully accurate.\n",
        "_________________________________________________________________________________________"
      ]
    },
    {
      "cell_type": "markdown",
      "metadata": {
        "execution": {
          "iopub.execute_input": "2021-06-25T15:18:28.435260Z",
          "iopub.status.busy": "2021-06-25T15:18:28.434666Z",
          "iopub.status.idle": "2021-06-25T15:18:28.437445Z",
          "shell.execute_reply": "2021-06-25T15:18:28.437896Z"
        },
        "id": "2bRSGPMys2NQ"
      },
      "source": [
        "[*Click for solution*](https://github.com/NeuromatchAcademy/course-content/tree/master//tutorials/W3D2_HiddenDynamics/solutions/W3D2_Tutorial3_Solution_8bda671a.py)\n",
        "\n"
      ]
    },
    {
      "cell_type": "markdown",
      "metadata": {
        "id": "TluEHlafs2NQ"
      },
      "source": [
        "As you can see by the measured state quality in the previous demo, using only the measurements to track astrocat can be catastrophic. A Kalman filter will solve this problem, as we will see in the next section!"
      ]
    },
    {
      "cell_type": "markdown",
      "metadata": {
        "id": "Prif5KHDs2NQ"
      },
      "source": [
        "---\n",
        "# Section 2: The Kalman filter"
      ]
    },
    {
      "cell_type": "code",
      "metadata": {
        "cellView": "form",
        "execution": {
          "iopub.execute_input": "2021-06-25T15:18:28.451184Z",
          "iopub.status.busy": "2021-06-25T15:18:28.449639Z",
          "iopub.status.idle": "2021-06-25T15:18:28.531530Z",
          "shell.execute_reply": "2021-06-25T15:18:28.527884Z"
        },
        "id": "hwfe-PRKs2NS",
        "outputId": "6d047a26-49ee-417a-8356-9918dabec624",
        "colab": {
          "base_uri": "https://localhost:8080/",
          "height": 581,
          "referenced_widgets": [
            "f813ee21ea69482980245d7e6588bd0e",
            "cf0873951bc547d19e0c0ca0e1c5011c",
            "f7fb7c2c5cd240449c0ecb2af25e2fc6",
            "70f6ed3ad9e94701a2b7a1185bd51c1e",
            "0fe448ad66754f99a8ba4a1bb82c88d4",
            "354fd848f3d444b18496c90fc6a55252"
          ]
        }
      },
      "source": [
        "# @title Video 3: Explanation of Kalman filter\n",
        "from ipywidgets import widgets\n",
        "\n",
        "out2 = widgets.Output()\n",
        "with out2:\n",
        "  from IPython.display import IFrame\n",
        "  class BiliVideo(IFrame):\n",
        "      def __init__(self, id, page=1, width=400, height=300, **kwargs):\n",
        "          self.id=id\n",
        "          src = 'https://player.bilibili.com/player.html?bvid={0}&page={1}'.format(id, page)\n",
        "          super(BiliVideo, self).__init__(src, width, height, **kwargs)\n",
        "\n",
        "  video = BiliVideo(id=\"\", width=854, height=480, fs=1)\n",
        "  print('Video available at https://www.bilibili.com/video/{0}'.format(video.id))\n",
        "  display(video)\n",
        "\n",
        "out1 = widgets.Output()\n",
        "with out1:\n",
        "  from IPython.display import YouTubeVideo\n",
        "  video = YouTubeVideo(id=\"EFCS55MtB-s\", width=854, height=480, fs=1, rel=0)\n",
        "  print('Video available at https://youtube.com/watch?v=' + video.id)\n",
        "  display(video)\n",
        "\n",
        "out = widgets.Tab([out1, out2])\n",
        "out.set_title(0, 'Youtube')\n",
        "out.set_title(1, 'Bilibili')\n",
        "\n",
        "display(out)"
      ],
      "execution_count": 13,
      "outputs": [
        {
          "output_type": "display_data",
          "data": {
            "application/vnd.jupyter.widget-view+json": {
              "model_id": "f813ee21ea69482980245d7e6588bd0e",
              "version_minor": 0,
              "version_major": 2
            },
            "text/plain": [
              "Tab(children=(Output(), Output()), _titles={'0': 'Youtube', '1': 'Bilibili'})"
            ]
          },
          "metadata": {
            "tags": []
          }
        }
      ]
    },
    {
      "cell_type": "markdown",
      "metadata": {
        "id": "gUrtRTQ6s2NS"
      },
      "source": [
        "## Section 2.1: Using the Kalman filter"
      ]
    },
    {
      "cell_type": "markdown",
      "metadata": {
        "id": "IZJH-XvAs2NS"
      },
      "source": [
        "### Interactive Demo 2.1: The Kalman filter in action\n",
        "\n",
        "Next we provide you with an interactive visualization to understand how the Kalman filter works. Play with the sliders to gain an intuition for how the different factors affect the Kalman filter's inferences.\n",
        "\n",
        "The sliders:\n",
        "* current time: Kalman filter synthesizes measurements up until this time.\n",
        "* dynamics time constant $\\tau$: this determines the dynamics matrix, $D=\\exp{-\\Delta t/\\tau}$ where $\\Delta t$ is the discrete time step (here 1).\n"
      ]
    },
    {
      "cell_type": "code",
      "metadata": {
        "cellView": "form",
        "execution": {
          "iopub.execute_input": "2021-06-25T15:18:28.548581Z",
          "iopub.status.busy": "2021-06-25T15:18:28.542683Z",
          "iopub.status.idle": "2021-06-25T15:18:28.888769Z",
          "shell.execute_reply": "2021-06-25T15:18:28.888177Z"
        },
        "id": "EI6uWrLVs2NS",
        "outputId": "8146116f-6c41-4a9c-fcc2-fcc024b1c871",
        "colab": {
          "base_uri": "https://localhost:8080/",
          "height": 610,
          "referenced_widgets": [
            "380caf88abb14feca7d640577782ff83",
            "dab46f98b04b4f059900bea8b3e769f1",
            "ecd80e2b6e454c109f3c04d184989d16",
            "09925896c3714857a96160ac4fa4569f",
            "764931359d714b8e90cb301f5f885b62",
            "b931c73075de401490b12b9067169a6d",
            "656bf1304e3141f0b1d693ef8641b725",
            "8f6cd07f1c974a6899c74f4eaa91d5f9",
            "cb9a1fccea914706950c40804ed85737",
            "3434dd3eb7eb4180ac0e696b20a3a9e3",
            "7fdbbd79c433441ca962587d7f930e54",
            "d32d9e243424476fb49292370b3851e8",
            "03b215419b5a44289533b1584b0b6d96",
            "5cdc9a6776574884a2d638251b6e7e14",
            "0d19cb8f2ecf4db19785a020b678ed2f",
            "8abf7a57c63f49bfa6ba5c86e3c8f42e",
            "17b2d4e25cce40c99b6f579e16ec8382",
            "0b3b521f8b6543c0981c186c48f94a44",
            "1b9da1b578714d248c3e19320f77847b",
            "25cdb9ad268248cf804e6b45a8fd0edf",
            "89dc06a23fea4e129735db3242001d4f",
            "536874baea1d4b9c95b29c95d279f231",
            "f7247665dcec49b984a4d530c2ebf43b",
            "47d10d8b7abe43f88a81026432a7bc5a",
            "875fc565e13c4b7ab26cf4a7978c6fa5"
          ]
        }
      },
      "source": [
        "#@markdown Execute this cell to enable the widget\n",
        "display(HTML('''<style>.widget-label { min-width: 15ex !important; }</style>'''))\n",
        "\n",
        "@widgets.interact(T=widgets.IntSlider(T_max/4, description=\"current time\", min=2, max=T_max-1),\n",
        "                  tau=widgets.FloatSlider(tau_max/2, description='dynamics time constant', min=tau_min, max=tau_max),\n",
        "                  process_noise=widgets.FloatSlider(2, description=\"process noise\", min=process_noise_min, max=process_noise_max),\n",
        "                  measurement_noise=widgets.FloatSlider(3, description=\"observation noise\", min=measurement_noise_min, max=measurement_noise_max),\n",
        "                  flag_s = widgets.Checkbox(value=True, description='state', disabled=True, indent=False),\n",
        "                  flag_m = widgets.Checkbox(value=False, description='measurement', disabled=False, indent=False),\n",
        "                  flag_s_ = widgets.Checkbox(value=False, description='estimate', disabled=False, indent=False),\n",
        "                  flag_err_ = widgets.Checkbox(value=False, description='estimator confidence intervals', disabled=False, indent=False))\n",
        "\n",
        "def stochastic_system(T, tau, process_noise, measurement_noise, flag_m, flag_s_, flag_err_):\n",
        "    t = np.arange(0, T_max, 1)              # timeline\n",
        "    s = np.zeros(T_max)                     # states\n",
        "    D = np.exp(-1/tau)                      # dynamics multiplier (matrix if s is vector)\n",
        "    prior_mean = 0\n",
        "    prior_cov = process_noise/(1-D**2)\n",
        "\n",
        "    s[0] = np.sqrt(prior_cov) * unit_process_noise[0]   # Sample initial condition from equilibrium distribution\n",
        "\n",
        "    m = np.zeros(T_max)    # measurement\n",
        "    s_ = np.zeros(T_max)    # estimate (posterior mean)\n",
        "    cov_ = np.zeros(T_max)    # uncertainty (posterior covariance)\n",
        "\n",
        "    s_[0] = prior_mean\n",
        "    cov_[0] = prior_cov\n",
        "    posterior = gaussian(prior_mean, prior_cov)\n",
        "\n",
        "    captured_prior = None\n",
        "    captured_likelihood = None\n",
        "    captured_posterior = None\n",
        "\n",
        "    for i in range(1, T_max):\n",
        "        s[i] = D * s[i-1] + np.sqrt(process_noise) * unit_process_noise[i-1]\n",
        "        m[i] = s[i] + np.sqrt(measurement_noise) * unit_measurement_noise[i]\n",
        "\n",
        "        prior, yesterdays_post, likelihood, posterior = filter(D, process_noise, measurement_noise, posterior, m[i], s[i])\n",
        "\n",
        "        s_[i] =  posterior.mean\n",
        "        cov_[i] = posterior.cov\n",
        "\n",
        "        if i == T:\n",
        "          captured_prior = prior\n",
        "          captured_likelihood = likelihood\n",
        "          captured_posterior = posterior\n",
        "\n",
        "    smin = min(min(m),min(s-2*np.sqrt(cov_[-1])),min(s_-2*np.sqrt(cov_[-1])))\n",
        "    smax = max(max(m),max(s+2*np.sqrt(cov_[-1])),max(s_+2*np.sqrt(cov_[-1])))\n",
        "    pscale = 0.2  # scaling factor for displaying pdfs\n",
        "\n",
        "    fig = plt.figure(figsize=[15, 10])\n",
        "    ax = plt.subplot(2, 1, 1)\n",
        "    ax.set_xlabel('time')\n",
        "    ax.set_ylabel('state')\n",
        "    ax.set_xlim([0, T_max+(T_max*pscale)])\n",
        "    ax.set_ylim([smin, smax])\n",
        "\n",
        "    show_pdf = [False, False]\n",
        "    ax.plot(t[:T+1], s[:T+1], color='limegreen', lw=2)\n",
        "    ax.plot(t[T:], s[T:], color='limegreen', lw=2, alpha=0.3)\n",
        "    ax.plot([t[T:T+1]], [s[T:T+1]], marker='o', markersize=8, color='limegreen')\n",
        "\n",
        "    if flag_m:\n",
        "        ax.plot(t[:T+1], m[:T+1], '.', color='crimson', lw=2)\n",
        "        ax.plot([t[T:T+1]], [m[T:T+1]], marker='o', markersize=8, color='crimson')\n",
        "\n",
        "        domain = np.linspace(ax.get_ylim()[0], ax.get_ylim()[1], 500)\n",
        "        pdf_likelihood = norm.pdf(domain, captured_likelihood.mean, np.sqrt(captured_likelihood.cov))\n",
        "        ax.fill_betweenx(domain, T + pdf_likelihood*(T_max*pscale), T, color='crimson', alpha=0.5, label='likelihood', edgecolor=\"crimson\", linewidth=0)\n",
        "        ax.plot(T + pdf_likelihood*(T_max*pscale), domain, color='crimson', linewidth=2.0)\n",
        "\n",
        "        ax.legend(ncol=3, loc='upper left')\n",
        "        show_pdf[0] = True\n",
        "\n",
        "    if flag_s_:\n",
        "        ax.plot(t[:T+1], s_[:T+1], color='black', lw=2)\n",
        "        ax.plot([t[T:T+1]], [s_[T:T+1]], marker='o', markersize=8, color='black')\n",
        "        show_pdf[1] = True\n",
        "\n",
        "    if flag_err_:\n",
        "        ax.fill_between(t[:T+1], s_[:T+1] + 2 * np.sqrt(cov_)[:T+1], s_[:T+1] - 2 * np.sqrt(cov_)[:T+1], color='black', alpha=0.3)\n",
        "        show_pdf[1] = True\n",
        "\n",
        "    if show_pdf[1]:\n",
        "        domain = np.linspace(ax.get_ylim()[0], ax.get_ylim()[1], 500)\n",
        "        pdf_post = norm.pdf(domain, captured_posterior.mean, np.sqrt(captured_posterior.cov))\n",
        "        ax.fill_betweenx(domain, T + pdf_post*(T_max*pscale), T, color='black', alpha=0.5, label='posterior', edgecolor=\"black\", linewidth=0)\n",
        "        ax.plot(T + pdf_post*(T_max*pscale), domain, color='black', linewidth=2.0)\n",
        "        ax.legend(ncol=3, loc='upper left')\n",
        "\n",
        "    if show_pdf[0] and show_pdf[1]:\n",
        "        domain = np.linspace(ax.get_ylim()[0], ax.get_ylim()[1], 500)\n",
        "        pdf_prior = norm.pdf(domain, captured_prior.mean, np.sqrt(captured_prior.cov))\n",
        "        ax.fill_betweenx(domain, T + pdf_prior*(T_max*pscale), T, color='dodgerblue', alpha=0.5, label='prior', edgecolor=\"dodgerblue\", linewidth=0)\n",
        "        ax.plot(T + pdf_prior*(T_max*pscale), domain, color='dodgerblue', linewidth=2.0)\n",
        "        ax.legend(ncol=3, loc='upper left')\n",
        "\n",
        "plt.show()"
      ],
      "execution_count": 14,
      "outputs": [
        {
          "output_type": "display_data",
          "data": {
            "text/html": [
              "<style>.widget-label { min-width: 15ex !important; }</style>"
            ],
            "text/plain": [
              "<IPython.core.display.HTML object>"
            ]
          },
          "metadata": {
            "tags": []
          }
        },
        {
          "output_type": "display_data",
          "data": {
            "application/vnd.jupyter.widget-view+json": {
              "model_id": "380caf88abb14feca7d640577782ff83",
              "version_minor": 0,
              "version_major": 2
            },
            "text/plain": [
              "interactive(children=(IntSlider(value=50, description='current time', max=199, min=2), FloatSlider(value=25.0,…"
            ]
          },
          "metadata": {
            "tags": []
          }
        }
      ]
    },
    {
      "cell_type": "markdown",
      "metadata": {
        "id": "q86Hxh91s2NT"
      },
      "source": [
        "## Section 2.2: Estimation Accuracy"
      ]
    },
    {
      "cell_type": "markdown",
      "metadata": {
        "id": "lIRugS3ys2NT"
      },
      "source": [
        "### Interactive Demo 2.2: Compare states, estimates, and measurements\n",
        "\n",
        "How well do the estimates $\\hat{s}$ match the actual values $s$? How does the distribution of errors $\\hat{s}_t - s_t$ compare to the posterior variance? Why? Try different parameters of the Hidden Markov Model and observe how the properties change.\n",
        "\n",
        "How do the _measurements_ $m$ compare to the true states?"
      ]
    },
    {
      "cell_type": "code",
      "metadata": {
        "cellView": "form",
        "execution": {
          "iopub.execute_input": "2021-06-25T15:18:28.903424Z",
          "iopub.status.busy": "2021-06-25T15:18:28.898039Z",
          "iopub.status.idle": "2021-06-25T15:18:29.494792Z",
          "shell.execute_reply": "2021-06-25T15:18:29.494358Z"
        },
        "id": "lf5LXg4Ns2NU",
        "outputId": "8dddec5c-0535-4b5f-cbf4-d0d270c04d4c",
        "colab": {
          "base_uri": "https://localhost:8080/",
          "height": 486,
          "referenced_widgets": [
            "9da4ba0f57b44117aab880cee298aab1",
            "b09b1028049c42f0b708059bd38ee02b",
            "aa7d5093dff64fbfb7a65e862e78552c",
            "f9170998d49945538544b10d73178374",
            "b89df97c2ea1490c956c9c5a5d431782",
            "f846507384264ad79e28bb658d292075",
            "46f6bfc088af46b082dd3691abf9e6d7",
            "df2a7fc59e12437cbeccbddedf97caeb",
            "905c4beacca34b2b8ae617615b50b495",
            "7c0c96ff07d94b3da6b0e513e2f9829d",
            "5525c7aac91c4a3c98cadca950959dfc",
            "e0058ff0777b4c839990ed0a6e4f8136",
            "19c8f3712a7248b0974ac4cbee7adec0",
            "968f89ecf1c84ed8ad4baf8d3aee85ad",
            "225bce60bc774d9fb9980d5068ad6cd4",
            "e16560a9a40d42c28ca601755f101cc8"
          ]
        }
      },
      "source": [
        "#@markdown Execute this cell to enable the widget\n",
        "display(HTML('''<style>.widget-label { min-width: 15ex !important; }</style>'''))\n",
        "\n",
        "@widgets.interact(tau=widgets.FloatSlider(tau_max/2, description='tau', min=tau_min, max=tau_max),\n",
        "                  process_noise=widgets.FloatSlider(2, description=\"process noise\", min=process_noise_min, max=process_noise_max),\n",
        "                  measurement_noise=widgets.FloatSlider(3, description=\"observation noise\", min=measurement_noise_min, max=measurement_noise_max),\n",
        "                  flag_m = widgets.Checkbox(value=False, description='measurements', disabled=False, indent=False))\n",
        "\n",
        "def stochastic_system(tau, process_noise, measurement_noise, flag_m):\n",
        "    T = T_max\n",
        "    t = np.arange(0, T_max, 1)              # timeline\n",
        "    s = np.zeros(T_max)                     # states\n",
        "    D = np.exp(-1/tau)                      # dynamics multiplier (matrix if s is vector)\n",
        "    prior_mean = 0\n",
        "    prior_cov = process_noise/(1-D**2)\n",
        "\n",
        "    s[0] = np.sqrt(prior_cov) * np.random.randn()   # Sample initial condition from equilibrium distribution\n",
        "\n",
        "    m = np.zeros(T_max)    # measurement\n",
        "    s_ = np.zeros(T_max)    # estimate (posterior mean)\n",
        "    cov_ = np.zeros(T_max)    # uncertainty (posterior covariance)\n",
        "\n",
        "    s_[0] = prior_mean\n",
        "    cov_[0] = prior_cov\n",
        "    posterior = gaussian(prior_mean, prior_cov)\n",
        "\n",
        "    for i in range(1, T):\n",
        "        s[i] = D * s[i-1] + np.sqrt(process_noise) * np.random.randn()\n",
        "        m[i] = s[i] + np.sqrt(measurement_noise) * np.random.randn()\n",
        "\n",
        "        prior, yesterdays_post, likelihood, posterior = filter(D, process_noise, measurement_noise, posterior, m[i], s[i])\n",
        "\n",
        "        s_[i] =  posterior.mean\n",
        "        cov_[i] = posterior.cov\n",
        "\n",
        "    fig = plt.figure(figsize=[10, 5])\n",
        "    ax = plt.subplot(1, 2, 1)\n",
        "    ax.set_xlabel('s')\n",
        "    ax.set_ylabel('$\\mu$')\n",
        "\n",
        "    sbounds = 1.1*max(max(np.abs(s)), max(np.abs(s_)), max(np.abs(m)))\n",
        "    ax.plot([-sbounds, sbounds], [-sbounds, sbounds], 'k')    # plot line of equality\n",
        "    ax.errorbar(s, s_, yerr=2*np.sqrt(cov_[-1]), marker='.', mfc='black', mec='black', linestyle='none', color='gray')\n",
        "\n",
        "    axhist = plt.subplot(1, 2, 2)\n",
        "    axhist.set_xlabel('error $s-\\hat{s}$')\n",
        "    axhist.set_ylabel('probability')\n",
        "    axhist.hist(s-s_, density=True, bins=25, alpha=.5, label='histogram of estimate errors', color='yellow')\n",
        "\n",
        "    if flag_m:\n",
        "        ax.plot(s, m, marker='.', linestyle='none', color='red')\n",
        "        axhist.hist(s-m,density=True,bins=25,alpha=.5,label='histogram of measurement errors',color='orange')\n",
        "\n",
        "    domain = np.arange(-sbounds, sbounds, 0.1)\n",
        "    pdf_g = norm.pdf(domain, 0, np.sqrt(cov_[-1]))\n",
        "    axhist.fill_between(domain, pdf_g, color='black', alpha=0.5, label=r'posterior shifted to mean')\n",
        "    axhist.legend()\n",
        "\n",
        "plt.show()"
      ],
      "execution_count": 15,
      "outputs": [
        {
          "output_type": "display_data",
          "data": {
            "text/html": [
              "<style>.widget-label { min-width: 15ex !important; }</style>"
            ],
            "text/plain": [
              "<IPython.core.display.HTML object>"
            ]
          },
          "metadata": {
            "tags": []
          }
        },
        {
          "output_type": "display_data",
          "data": {
            "application/vnd.jupyter.widget-view+json": {
              "model_id": "9da4ba0f57b44117aab880cee298aab1",
              "version_minor": 0,
              "version_major": 2
            },
            "text/plain": [
              "interactive(children=(FloatSlider(value=25.0, description='tau', max=50.0, min=1.0), FloatSlider(value=2.0, de…"
            ]
          },
          "metadata": {
            "tags": []
          }
        }
      ]
    },
    {
      "cell_type": "markdown",
      "metadata": {
        "id": "GQpZfJ8Qs2NU"
      },
      "source": [
        "## Section 2.3: How long does it take to find astrocat?"
      ]
    },
    {
      "cell_type": "markdown",
      "metadata": {
        "id": "H6gZjIiRs2NU"
      },
      "source": [
        "### Interactive Demo 2.3: Search duration\n",
        "\n",
        "Here we plot the posterior variance as a function of time. Before mission control gets measurements, their only information about astrocat's location is the prior. After some measurements, they home in on astrocat.\n",
        "* How does the variance shrink with time?\n",
        "* The speed depends on the process dynamics, but does it also depend on the signal-to-noise ratio (SNR)? (Here we measure SNR in decibels, a log scale where 1 dB means 0.1 log unit.)\n",
        "\n",
        "The red curve shows how rapidly the latent variance equilibrates from an initial condition. (It's exponential with a time constant of $\\sim 1/(1-D^2)$.) Does the latent process converge faster or slower than the posterior converges? Can you explain this based on how the Kalman filter integrates evidence?\n"
      ]
    },
    {
      "cell_type": "code",
      "metadata": {
        "cellView": "form",
        "execution": {
          "iopub.execute_input": "2021-06-25T15:18:29.510146Z",
          "iopub.status.busy": "2021-06-25T15:18:29.509374Z",
          "iopub.status.idle": "2021-06-25T15:18:29.744261Z",
          "shell.execute_reply": "2021-06-25T15:18:29.743723Z"
        },
        "id": "Jal7V1Wss2NV",
        "outputId": "2fae65d7-2656-4206-89a9-e648dbf6da98",
        "colab": {
          "base_uri": "https://localhost:8080/",
          "height": 527,
          "referenced_widgets": [
            "1e94077bbbfa49f7bde114f4549d2340",
            "07094adf37f44711a3c06d906dbca577",
            "2245c05d36b54ea1a32246be6b4a6102",
            "7eae43c0e01748c48e7cc044adeacc4e",
            "befd4a671a0b4335a7c2a08c4728cc48",
            "81859213a01947959411beb45a779f10",
            "adb02e57491f4592bc9a8f433bd8ab7e",
            "11c558d0f43247ffbe2b19f5eadb6640",
            "8bcfc1b5167a466392e3e51a8964ba8d",
            "87b6cca40832455fbd1ffc299f3250a1",
            "d432b600c6f0480084536777119c8b56",
            "c53d338a726a40589f217762bcadcc51",
            "bd3f7f9724824166b534d5d2418b5711"
          ]
        }
      },
      "source": [
        "#@title Initial transient for finding Astrocat\n",
        "display(HTML('''<style>.widget-label { min-width: 15ex !important; }</style>'''))\n",
        "\n",
        "@widgets.interact(T=widgets.IntSlider(tau_max/2, description=\"max time\", min=2, max=T_max-1),\n",
        "                  tau=widgets.FloatSlider(tau_max/2, description='time constant', min=tau_min, max=tau_max),\n",
        "                  SNRdB=widgets.FloatSlider(-20., description=\"SNR (decibels)\", min=-40., max=10.))\n",
        "\n",
        "def stochastic_system(T, tau, SNRdB):\n",
        "    t = np.arange(0, T, 1)              # timeline\n",
        "    s = np.zeros(T)                     # states\n",
        "    D = np.exp(-1/tau)                  # dynamics matrix (scalar here)\n",
        "    prior_mean = 0\n",
        "    process_noise = 1\n",
        "    SNR = 10**(.1*SNRdB)\n",
        "    measurement_noise = process_noise / SNR\n",
        "    prior_cov = process_noise/(1-D**2)\n",
        "\n",
        "    s[0] = np.sqrt(prior_cov) * unit_process_noise[0]   # Sample initial condition from equilibrium distribution\n",
        "\n",
        "    m = np.zeros(T)    # measurements\n",
        "    s_ = np.zeros(T)    # estimates (posterior mean)\n",
        "    cov_ = np.zeros(T)    # uncertainty (posterior covariance)\n",
        "\n",
        "    s_[0] = prior_mean\n",
        "    cov_[0] = prior_cov\n",
        "    posterior = gaussian(prior_mean, prior_cov)\n",
        "\n",
        "    for i in range(1, T):\n",
        "        s[i] = D * s[i-1] + np.sqrt(process_noise) * unit_process_noise[i-1]\n",
        "        m[i] = s[i] + np.sqrt(measurement_noise) * unit_measurement_noise[i]\n",
        "\n",
        "        prior, yesterdays_post, likelihood, posterior = filter(D, process_noise, measurement_noise, posterior, m[i], s[i])\n",
        "\n",
        "        s_[i] =  posterior.mean\n",
        "        cov_[i] = posterior.cov\n",
        "\n",
        "    equilibrium_var = process_noise * (D**2 - 1 - SNR + np.sqrt((D**2 - 1 - SNR)**2 + 4 * D**2 * SNR)) / (2 * D**2 * SNR)\n",
        "\n",
        "    fig = plt.figure()\n",
        "    plt.xlabel('time')\n",
        "    plt.ylabel('variance')\n",
        "    plt.xlim([0, T])\n",
        "    plt.ylim([0, max(cov_)])\n",
        "\n",
        "    plt.fill_between(t, 0, cov_, color='black', alpha=0.3)\n",
        "    plt.plot(t, cov_, color='black', label='posterior variance')\n",
        "    plt.plot(t, equilibrium_var + (prior_cov - equilibrium_var) * np.exp(-2*t/tau), color='red', label='autocorrelation of hidden process')\n",
        "    plt.legend()\n",
        "\n",
        "plt.show()"
      ],
      "execution_count": 16,
      "outputs": [
        {
          "output_type": "display_data",
          "data": {
            "text/html": [
              "<style>.widget-label { min-width: 15ex !important; }</style>"
            ],
            "text/plain": [
              "<IPython.core.display.HTML object>"
            ]
          },
          "metadata": {
            "tags": []
          }
        },
        {
          "output_type": "display_data",
          "data": {
            "application/vnd.jupyter.widget-view+json": {
              "model_id": "1e94077bbbfa49f7bde114f4549d2340",
              "version_minor": 0,
              "version_major": 2
            },
            "text/plain": [
              "interactive(children=(IntSlider(value=25, description='max time', max=199, min=2), FloatSlider(value=25.0, des…"
            ]
          },
          "metadata": {
            "tags": []
          }
        }
      ]
    },
    {
      "cell_type": "markdown",
      "metadata": {
        "id": "MauBLw2ys2NV"
      },
      "source": [
        "---\n",
        "# Section 3: Applications of Kalman filter in brain science\n",
        "\n",
        "* Brain-Computer Interface: estimate intended movements using neural activity as measurements.\n",
        "* Data analysis: estimate brain activity from noisy measurements (e.g. EEG)\n",
        "* Model of perception: prey tracking using noisy sensory measurements\n",
        "* Imagine your own! When are you trying to estimate something you cannot see directly?\n",
        "\n",
        "There are many variants that improve upon the limitations of the Kalman filter: non-Gaussian states and measurements, nonlinear dynamics, and more."
      ]
    },
    {
      "cell_type": "markdown",
      "metadata": {
        "id": "LAjyAcvys2NV"
      },
      "source": [
        "---\n",
        "# Summary\n",
        "\n",
        "\n",
        "**Useful references:**\n",
        "- Roweis, Ghahramani (1998): A unifying review of linear Gaussian Models\n",
        "- Bishop (2006): Pattern Recognition and Machine Learning"
      ]
    }
  ]
}