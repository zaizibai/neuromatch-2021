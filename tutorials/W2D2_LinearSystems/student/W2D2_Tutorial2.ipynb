{
  "nbformat": 4,
  "nbformat_minor": 0,
  "metadata": {
    "colab": {
      "name": "W2D2_Tutorial2",
      "provenance": [],
      "collapsed_sections": [],
      "toc_visible": true,
      "include_colab_link": true
    },
    "kernel": {
      "display_name": "Python 3",
      "language": "python",
      "name": "python3"
    },
    "kernelspec": {
      "display_name": "Python 3",
      "name": "python3"
    },
    "language_info": {
      "codemirror_mode": {
        "name": "ipython",
        "version": 3
      },
      "file_extension": ".py",
      "mimetype": "text/x-python",
      "name": "python",
      "nbconvert_exporter": "python",
      "pygments_lexer": "ipython3",
      "version": "3.7.10"
    },
    "widgets": {
      "application/vnd.jupyter.widget-state+json": {
        "79933905769e4367ad1cc52b9695032f": {
          "model_module": "@jupyter-widgets/controls",
          "model_name": "TabModel",
          "state": {
            "_view_name": "TabView",
            "_dom_classes": [],
            "_titles": {
              "0": "Youtube",
              "1": "Bilibili"
            },
            "_model_name": "TabModel",
            "_view_module": "@jupyter-widgets/controls",
            "selected_index": 0,
            "_model_module_version": "1.5.0",
            "_view_count": null,
            "_view_module_version": "1.5.0",
            "box_style": "",
            "layout": "IPY_MODEL_fdb7b74c83894a32bb0223b23c85cbf5",
            "_model_module": "@jupyter-widgets/controls",
            "children": [
              "IPY_MODEL_491a7dd86bf04949802cc7ac18d44c09",
              "IPY_MODEL_64a3833e490e462caefa9f49fb6a12d2"
            ]
          }
        },
        "fdb7b74c83894a32bb0223b23c85cbf5": {
          "model_module": "@jupyter-widgets/base",
          "model_name": "LayoutModel",
          "state": {
            "_view_name": "LayoutView",
            "grid_template_rows": null,
            "right": null,
            "justify_content": null,
            "_view_module": "@jupyter-widgets/base",
            "overflow": null,
            "_model_module_version": "1.2.0",
            "_view_count": null,
            "flex_flow": null,
            "width": null,
            "min_width": null,
            "border": null,
            "align_items": null,
            "bottom": null,
            "_model_module": "@jupyter-widgets/base",
            "top": null,
            "grid_column": null,
            "overflow_y": null,
            "overflow_x": null,
            "grid_auto_flow": null,
            "grid_area": null,
            "grid_template_columns": null,
            "flex": null,
            "_model_name": "LayoutModel",
            "justify_items": null,
            "grid_row": null,
            "max_height": null,
            "align_content": null,
            "visibility": null,
            "align_self": null,
            "height": null,
            "min_height": null,
            "padding": null,
            "grid_auto_rows": null,
            "grid_gap": null,
            "max_width": null,
            "order": null,
            "_view_module_version": "1.2.0",
            "grid_template_areas": null,
            "object_position": null,
            "object_fit": null,
            "grid_auto_columns": null,
            "margin": null,
            "display": null,
            "left": null
          }
        },
        "491a7dd86bf04949802cc7ac18d44c09": {
          "model_module": "@jupyter-widgets/output",
          "model_name": "OutputModel",
          "state": {
            "_view_name": "OutputView",
            "msg_id": "",
            "_dom_classes": [],
            "_model_name": "OutputModel",
            "outputs": [
              {
                "output_type": "stream",
                "metadata": {
                  "tags": []
                },
                "text": "Video available at https://youtube.com/watch?v=xZO6GbU48ns\n",
                "stream": "stdout"
              },
              {
                "output_type": "display_data",
                "metadata": {
                  "tags": []
                },
                "text/html": "\n        <iframe\n            width=\"854\"\n            height=\"480\"\n            src=\"https://www.youtube.com/embed/xZO6GbU48ns?fs=1&rel=0\"\n            frameborder=\"0\"\n            allowfullscreen\n        ></iframe>\n        ",
                "text/plain": "<IPython.lib.display.YouTubeVideo at 0x7f7c35319e50>",
                "image/jpeg": "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\n"
              }
            ],
            "_view_module": "@jupyter-widgets/output",
            "_model_module_version": "1.0.0",
            "_view_count": null,
            "_view_module_version": "1.0.0",
            "layout": "IPY_MODEL_a37bd25f6a7b405d9abf7e228a3efa2c",
            "_model_module": "@jupyter-widgets/output"
          }
        },
        "64a3833e490e462caefa9f49fb6a12d2": {
          "model_module": "@jupyter-widgets/output",
          "model_name": "OutputModel",
          "state": {
            "_view_name": "OutputView",
            "msg_id": "",
            "_dom_classes": [],
            "_model_name": "OutputModel",
            "outputs": [
              {
                "output_type": "stream",
                "metadata": {
                  "tags": []
                },
                "text": "Video available at https://www.bilibili.com/video/BV11C4y1h7Eu\n",
                "stream": "stdout"
              },
              {
                "output_type": "display_data",
                "metadata": {
                  "tags": []
                },
                "text/html": "\n        <iframe\n            width=\"854\"\n            height=\"480\"\n            src=\"https://player.bilibili.com/player.html?bvid=BV11C4y1h7Eu&page=1?fs=1\"\n            frameborder=\"0\"\n            allowfullscreen\n        ></iframe>\n        ",
                "text/plain": "<__main__.BiliVideo at 0x7f7c35319b90>"
              }
            ],
            "_view_module": "@jupyter-widgets/output",
            "_model_module_version": "1.0.0",
            "_view_count": null,
            "_view_module_version": "1.0.0",
            "layout": "IPY_MODEL_18fc4210560f41ca98df57c2c9964b8a",
            "_model_module": "@jupyter-widgets/output"
          }
        },
        "a37bd25f6a7b405d9abf7e228a3efa2c": {
          "model_module": "@jupyter-widgets/base",
          "model_name": "LayoutModel",
          "state": {
            "_view_name": "LayoutView",
            "grid_template_rows": null,
            "right": null,
            "justify_content": null,
            "_view_module": "@jupyter-widgets/base",
            "overflow": null,
            "_model_module_version": "1.2.0",
            "_view_count": null,
            "flex_flow": null,
            "width": null,
            "min_width": null,
            "border": null,
            "align_items": null,
            "bottom": null,
            "_model_module": "@jupyter-widgets/base",
            "top": null,
            "grid_column": null,
            "overflow_y": null,
            "overflow_x": null,
            "grid_auto_flow": null,
            "grid_area": null,
            "grid_template_columns": null,
            "flex": null,
            "_model_name": "LayoutModel",
            "justify_items": null,
            "grid_row": null,
            "max_height": null,
            "align_content": null,
            "visibility": null,
            "align_self": null,
            "height": null,
            "min_height": null,
            "padding": null,
            "grid_auto_rows": null,
            "grid_gap": null,
            "max_width": null,
            "order": null,
            "_view_module_version": "1.2.0",
            "grid_template_areas": null,
            "object_position": null,
            "object_fit": null,
            "grid_auto_columns": null,
            "margin": null,
            "display": null,
            "left": null
          }
        },
        "18fc4210560f41ca98df57c2c9964b8a": {
          "model_module": "@jupyter-widgets/base",
          "model_name": "LayoutModel",
          "state": {
            "_view_name": "LayoutView",
            "grid_template_rows": null,
            "right": null,
            "justify_content": null,
            "_view_module": "@jupyter-widgets/base",
            "overflow": null,
            "_model_module_version": "1.2.0",
            "_view_count": null,
            "flex_flow": null,
            "width": null,
            "min_width": null,
            "border": null,
            "align_items": null,
            "bottom": null,
            "_model_module": "@jupyter-widgets/base",
            "top": null,
            "grid_column": null,
            "overflow_y": null,
            "overflow_x": null,
            "grid_auto_flow": null,
            "grid_area": null,
            "grid_template_columns": null,
            "flex": null,
            "_model_name": "LayoutModel",
            "justify_items": null,
            "grid_row": null,
            "max_height": null,
            "align_content": null,
            "visibility": null,
            "align_self": null,
            "height": null,
            "min_height": null,
            "padding": null,
            "grid_auto_rows": null,
            "grid_gap": null,
            "max_width": null,
            "order": null,
            "_view_module_version": "1.2.0",
            "grid_template_areas": null,
            "object_position": null,
            "object_fit": null,
            "grid_auto_columns": null,
            "margin": null,
            "display": null,
            "left": null
          }
        },
        "bb0f6ba7d78540fe9c205cdb1f2b88a9": {
          "model_module": "@jupyter-widgets/controls",
          "model_name": "VBoxModel",
          "state": {
            "_view_name": "VBoxView",
            "_dom_classes": [
              "widget-interact"
            ],
            "_model_name": "VBoxModel",
            "_view_module": "@jupyter-widgets/controls",
            "_model_module_version": "1.5.0",
            "_view_count": null,
            "_view_module_version": "1.5.0",
            "box_style": "",
            "layout": "IPY_MODEL_d58f05d3d67e4d3bbdae161e0bf1f296",
            "_model_module": "@jupyter-widgets/controls",
            "children": [
              "IPY_MODEL_88a1bdb60fda44c6a1159d51febb6d9a",
              "IPY_MODEL_b1fc2bba8f1e4e2788e00e6cc4a40bff",
              "IPY_MODEL_9498437523bf4f1cba398599b3079553",
              "IPY_MODEL_13a09ae97e964022990749e214ebae17"
            ]
          }
        },
        "d58f05d3d67e4d3bbdae161e0bf1f296": {
          "model_module": "@jupyter-widgets/base",
          "model_name": "LayoutModel",
          "state": {
            "_view_name": "LayoutView",
            "grid_template_rows": null,
            "right": null,
            "justify_content": null,
            "_view_module": "@jupyter-widgets/base",
            "overflow": null,
            "_model_module_version": "1.2.0",
            "_view_count": null,
            "flex_flow": null,
            "width": null,
            "min_width": null,
            "border": null,
            "align_items": null,
            "bottom": null,
            "_model_module": "@jupyter-widgets/base",
            "top": null,
            "grid_column": null,
            "overflow_y": null,
            "overflow_x": null,
            "grid_auto_flow": null,
            "grid_area": null,
            "grid_template_columns": null,
            "flex": null,
            "_model_name": "LayoutModel",
            "justify_items": null,
            "grid_row": null,
            "max_height": null,
            "align_content": null,
            "visibility": null,
            "align_self": null,
            "height": null,
            "min_height": null,
            "padding": null,
            "grid_auto_rows": null,
            "grid_gap": null,
            "max_width": null,
            "order": null,
            "_view_module_version": "1.2.0",
            "grid_template_areas": null,
            "object_position": null,
            "object_fit": null,
            "grid_auto_columns": null,
            "margin": null,
            "display": null,
            "left": null
          }
        },
        "88a1bdb60fda44c6a1159d51febb6d9a": {
          "model_module": "@jupyter-widgets/controls",
          "model_name": "FloatSliderModel",
          "state": {
            "_view_name": "FloatSliderView",
            "style": "IPY_MODEL_b5be1fd171724a59945219cd33951c01",
            "_dom_classes": [],
            "description": "c2o",
            "step": 0.01,
            "_model_name": "FloatSliderModel",
            "orientation": "horizontal",
            "max": 1,
            "_view_module": "@jupyter-widgets/controls",
            "_model_module_version": "1.5.0",
            "value": 0.67,
            "_view_count": null,
            "disabled": false,
            "_view_module_version": "1.5.0",
            "min": 0,
            "continuous_update": true,
            "readout_format": ".2f",
            "description_tooltip": null,
            "readout": true,
            "_model_module": "@jupyter-widgets/controls",
            "layout": "IPY_MODEL_5a5034d678a94750876cf215278383c4"
          }
        },
        "b1fc2bba8f1e4e2788e00e6cc4a40bff": {
          "model_module": "@jupyter-widgets/controls",
          "model_name": "FloatSliderModel",
          "state": {
            "_view_name": "FloatSliderView",
            "style": "IPY_MODEL_8c6d4f59c689406fafe8a919d4ad8161",
            "_dom_classes": [],
            "description": "o2c",
            "step": 0.01,
            "_model_name": "FloatSliderModel",
            "orientation": "horizontal",
            "max": 1,
            "_view_module": "@jupyter-widgets/controls",
            "_model_module_version": "1.5.0",
            "value": 0.97,
            "_view_count": null,
            "disabled": false,
            "_view_module_version": "1.5.0",
            "min": 0,
            "continuous_update": true,
            "readout_format": ".2f",
            "description_tooltip": null,
            "readout": true,
            "_model_module": "@jupyter-widgets/controls",
            "layout": "IPY_MODEL_a1466a4c1bb44b1f9ecf8c7d6205a77c"
          }
        },
        "9498437523bf4f1cba398599b3079553": {
          "model_module": "@jupyter-widgets/controls",
          "model_name": "IntSliderModel",
          "state": {
            "_view_name": "IntSliderView",
            "style": "IPY_MODEL_250db73063ee4a55bc2f2c84e4a478b9",
            "_dom_classes": [],
            "description": "T",
            "step": 1000,
            "_model_name": "IntSliderModel",
            "orientation": "horizontal",
            "max": 10000,
            "_view_module": "@jupyter-widgets/controls",
            "_model_module_version": "1.5.0",
            "value": 3000,
            "_view_count": null,
            "disabled": false,
            "_view_module_version": "1.5.0",
            "min": 1000,
            "continuous_update": true,
            "readout_format": "d",
            "description_tooltip": null,
            "readout": true,
            "_model_module": "@jupyter-widgets/controls",
            "layout": "IPY_MODEL_c58bcaaf27f5431085d009caca6e5aad"
          }
        },
        "13a09ae97e964022990749e214ebae17": {
          "model_module": "@jupyter-widgets/output",
          "model_name": "OutputModel",
          "state": {
            "_view_name": "OutputView",
            "msg_id": "",
            "_dom_classes": [],
            "_model_name": "OutputModel",
            "outputs": [
              {
                "output_type": "display_data",
                "metadata": {
                  "tags": [],
                  "image/png": {
                    "width": 558,
                    "height": 413
                  },
                  "needs_background": "light"
                },
                "image/png": "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\n",
                "text/plain": "<Figure size 576x432 with 1 Axes>"
              }
            ],
            "_view_module": "@jupyter-widgets/output",
            "_model_module_version": "1.0.0",
            "_view_count": null,
            "_view_module_version": "1.0.0",
            "layout": "IPY_MODEL_dcac40a25569412d82f6306a72d5a471",
            "_model_module": "@jupyter-widgets/output"
          }
        },
        "b5be1fd171724a59945219cd33951c01": {
          "model_module": "@jupyter-widgets/controls",
          "model_name": "SliderStyleModel",
          "state": {
            "_view_name": "StyleView",
            "handle_color": null,
            "_model_name": "SliderStyleModel",
            "description_width": "",
            "_view_module": "@jupyter-widgets/base",
            "_model_module_version": "1.5.0",
            "_view_count": null,
            "_view_module_version": "1.2.0",
            "_model_module": "@jupyter-widgets/controls"
          }
        },
        "5a5034d678a94750876cf215278383c4": {
          "model_module": "@jupyter-widgets/base",
          "model_name": "LayoutModel",
          "state": {
            "_view_name": "LayoutView",
            "grid_template_rows": null,
            "right": null,
            "justify_content": null,
            "_view_module": "@jupyter-widgets/base",
            "overflow": null,
            "_model_module_version": "1.2.0",
            "_view_count": null,
            "flex_flow": null,
            "width": null,
            "min_width": null,
            "border": null,
            "align_items": null,
            "bottom": null,
            "_model_module": "@jupyter-widgets/base",
            "top": null,
            "grid_column": null,
            "overflow_y": null,
            "overflow_x": null,
            "grid_auto_flow": null,
            "grid_area": null,
            "grid_template_columns": null,
            "flex": null,
            "_model_name": "LayoutModel",
            "justify_items": null,
            "grid_row": null,
            "max_height": null,
            "align_content": null,
            "visibility": null,
            "align_self": null,
            "height": null,
            "min_height": null,
            "padding": null,
            "grid_auto_rows": null,
            "grid_gap": null,
            "max_width": null,
            "order": null,
            "_view_module_version": "1.2.0",
            "grid_template_areas": null,
            "object_position": null,
            "object_fit": null,
            "grid_auto_columns": null,
            "margin": null,
            "display": null,
            "left": null
          }
        },
        "8c6d4f59c689406fafe8a919d4ad8161": {
          "model_module": "@jupyter-widgets/controls",
          "model_name": "SliderStyleModel",
          "state": {
            "_view_name": "StyleView",
            "handle_color": null,
            "_model_name": "SliderStyleModel",
            "description_width": "",
            "_view_module": "@jupyter-widgets/base",
            "_model_module_version": "1.5.0",
            "_view_count": null,
            "_view_module_version": "1.2.0",
            "_model_module": "@jupyter-widgets/controls"
          }
        },
        "a1466a4c1bb44b1f9ecf8c7d6205a77c": {
          "model_module": "@jupyter-widgets/base",
          "model_name": "LayoutModel",
          "state": {
            "_view_name": "LayoutView",
            "grid_template_rows": null,
            "right": null,
            "justify_content": null,
            "_view_module": "@jupyter-widgets/base",
            "overflow": null,
            "_model_module_version": "1.2.0",
            "_view_count": null,
            "flex_flow": null,
            "width": null,
            "min_width": null,
            "border": null,
            "align_items": null,
            "bottom": null,
            "_model_module": "@jupyter-widgets/base",
            "top": null,
            "grid_column": null,
            "overflow_y": null,
            "overflow_x": null,
            "grid_auto_flow": null,
            "grid_area": null,
            "grid_template_columns": null,
            "flex": null,
            "_model_name": "LayoutModel",
            "justify_items": null,
            "grid_row": null,
            "max_height": null,
            "align_content": null,
            "visibility": null,
            "align_self": null,
            "height": null,
            "min_height": null,
            "padding": null,
            "grid_auto_rows": null,
            "grid_gap": null,
            "max_width": null,
            "order": null,
            "_view_module_version": "1.2.0",
            "grid_template_areas": null,
            "object_position": null,
            "object_fit": null,
            "grid_auto_columns": null,
            "margin": null,
            "display": null,
            "left": null
          }
        },
        "250db73063ee4a55bc2f2c84e4a478b9": {
          "model_module": "@jupyter-widgets/controls",
          "model_name": "SliderStyleModel",
          "state": {
            "_view_name": "StyleView",
            "handle_color": null,
            "_model_name": "SliderStyleModel",
            "description_width": "",
            "_view_module": "@jupyter-widgets/base",
            "_model_module_version": "1.5.0",
            "_view_count": null,
            "_view_module_version": "1.2.0",
            "_model_module": "@jupyter-widgets/controls"
          }
        },
        "c58bcaaf27f5431085d009caca6e5aad": {
          "model_module": "@jupyter-widgets/base",
          "model_name": "LayoutModel",
          "state": {
            "_view_name": "LayoutView",
            "grid_template_rows": null,
            "right": null,
            "justify_content": null,
            "_view_module": "@jupyter-widgets/base",
            "overflow": null,
            "_model_module_version": "1.2.0",
            "_view_count": null,
            "flex_flow": null,
            "width": null,
            "min_width": null,
            "border": null,
            "align_items": null,
            "bottom": null,
            "_model_module": "@jupyter-widgets/base",
            "top": null,
            "grid_column": null,
            "overflow_y": null,
            "overflow_x": null,
            "grid_auto_flow": null,
            "grid_area": null,
            "grid_template_columns": null,
            "flex": null,
            "_model_name": "LayoutModel",
            "justify_items": null,
            "grid_row": null,
            "max_height": null,
            "align_content": null,
            "visibility": null,
            "align_self": null,
            "height": null,
            "min_height": null,
            "padding": null,
            "grid_auto_rows": null,
            "grid_gap": null,
            "max_width": null,
            "order": null,
            "_view_module_version": "1.2.0",
            "grid_template_areas": null,
            "object_position": null,
            "object_fit": null,
            "grid_auto_columns": null,
            "margin": null,
            "display": null,
            "left": null
          }
        },
        "dcac40a25569412d82f6306a72d5a471": {
          "model_module": "@jupyter-widgets/base",
          "model_name": "LayoutModel",
          "state": {
            "_view_name": "LayoutView",
            "grid_template_rows": null,
            "right": null,
            "justify_content": null,
            "_view_module": "@jupyter-widgets/base",
            "overflow": null,
            "_model_module_version": "1.2.0",
            "_view_count": null,
            "flex_flow": null,
            "width": null,
            "min_width": null,
            "border": null,
            "align_items": null,
            "bottom": null,
            "_model_module": "@jupyter-widgets/base",
            "top": null,
            "grid_column": null,
            "overflow_y": null,
            "overflow_x": null,
            "grid_auto_flow": null,
            "grid_area": null,
            "grid_template_columns": null,
            "flex": null,
            "_model_name": "LayoutModel",
            "justify_items": null,
            "grid_row": null,
            "max_height": null,
            "align_content": null,
            "visibility": null,
            "align_self": null,
            "height": null,
            "min_height": null,
            "padding": null,
            "grid_auto_rows": null,
            "grid_gap": null,
            "max_width": null,
            "order": null,
            "_view_module_version": "1.2.0",
            "grid_template_areas": null,
            "object_position": null,
            "object_fit": null,
            "grid_auto_columns": null,
            "margin": null,
            "display": null,
            "left": null
          }
        },
        "15d9dd7317f84788a7970be0da8904a0": {
          "model_module": "@jupyter-widgets/controls",
          "model_name": "TabModel",
          "state": {
            "_view_name": "TabView",
            "_dom_classes": [],
            "_titles": {
              "0": "Youtube",
              "1": "Bilibili"
            },
            "_model_name": "TabModel",
            "_view_module": "@jupyter-widgets/controls",
            "selected_index": 0,
            "_model_module_version": "1.5.0",
            "_view_count": null,
            "_view_module_version": "1.5.0",
            "box_style": "",
            "layout": "IPY_MODEL_199463b60c3945ebb1acfb0884107aed",
            "_model_module": "@jupyter-widgets/controls",
            "children": [
              "IPY_MODEL_e844a863d27d42369b072086b3fc173d",
              "IPY_MODEL_fcf9efacb9544078a4c806d89c074dca"
            ]
          }
        },
        "199463b60c3945ebb1acfb0884107aed": {
          "model_module": "@jupyter-widgets/base",
          "model_name": "LayoutModel",
          "state": {
            "_view_name": "LayoutView",
            "grid_template_rows": null,
            "right": null,
            "justify_content": null,
            "_view_module": "@jupyter-widgets/base",
            "overflow": null,
            "_model_module_version": "1.2.0",
            "_view_count": null,
            "flex_flow": null,
            "width": null,
            "min_width": null,
            "border": null,
            "align_items": null,
            "bottom": null,
            "_model_module": "@jupyter-widgets/base",
            "top": null,
            "grid_column": null,
            "overflow_y": null,
            "overflow_x": null,
            "grid_auto_flow": null,
            "grid_area": null,
            "grid_template_columns": null,
            "flex": null,
            "_model_name": "LayoutModel",
            "justify_items": null,
            "grid_row": null,
            "max_height": null,
            "align_content": null,
            "visibility": null,
            "align_self": null,
            "height": null,
            "min_height": null,
            "padding": null,
            "grid_auto_rows": null,
            "grid_gap": null,
            "max_width": null,
            "order": null,
            "_view_module_version": "1.2.0",
            "grid_template_areas": null,
            "object_position": null,
            "object_fit": null,
            "grid_auto_columns": null,
            "margin": null,
            "display": null,
            "left": null
          }
        },
        "e844a863d27d42369b072086b3fc173d": {
          "model_module": "@jupyter-widgets/output",
          "model_name": "OutputModel",
          "state": {
            "_view_name": "OutputView",
            "msg_id": "",
            "_dom_classes": [],
            "_model_name": "OutputModel",
            "outputs": [
              {
                "output_type": "stream",
                "metadata": {
                  "tags": []
                },
                "text": "Video available at https://youtube.com/watch?v=U6YRhLuRhHg\n",
                "stream": "stdout"
              },
              {
                "output_type": "display_data",
                "metadata": {
                  "tags": []
                },
                "text/html": "\n        <iframe\n            width=\"854\"\n            height=\"480\"\n            src=\"https://www.youtube.com/embed/U6YRhLuRhHg?fs=1&rel=0\"\n            frameborder=\"0\"\n            allowfullscreen\n        ></iframe>\n        ",
                "text/plain": "<IPython.lib.display.YouTubeVideo at 0x7f7c2c53acd0>",
                "image/jpeg": "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\n"
              }
            ],
            "_view_module": "@jupyter-widgets/output",
            "_model_module_version": "1.0.0",
            "_view_count": null,
            "_view_module_version": "1.0.0",
            "layout": "IPY_MODEL_ae8c76eb08d94b5ba1ad09108e11845d",
            "_model_module": "@jupyter-widgets/output"
          }
        },
        "fcf9efacb9544078a4c806d89c074dca": {
          "model_module": "@jupyter-widgets/output",
          "model_name": "OutputModel",
          "state": {
            "_view_name": "OutputView",
            "msg_id": "",
            "_dom_classes": [],
            "_model_name": "OutputModel",
            "outputs": [
              {
                "output_type": "stream",
                "metadata": {
                  "tags": []
                },
                "text": "Video available at https://www.bilibili.com/video/BV1uk4y1B7ru\n",
                "stream": "stdout"
              },
              {
                "output_type": "display_data",
                "metadata": {
                  "tags": []
                },
                "text/html": "\n        <iframe\n            width=\"854\"\n            height=\"480\"\n            src=\"https://player.bilibili.com/player.html?bvid=BV1uk4y1B7ru&page=1?fs=1\"\n            frameborder=\"0\"\n            allowfullscreen\n        ></iframe>\n        ",
                "text/plain": "<__main__.BiliVideo at 0x7f7c2c53ac10>"
              }
            ],
            "_view_module": "@jupyter-widgets/output",
            "_model_module_version": "1.0.0",
            "_view_count": null,
            "_view_module_version": "1.0.0",
            "layout": "IPY_MODEL_6ce7c2eef00b431da919d5bf6567a583",
            "_model_module": "@jupyter-widgets/output"
          }
        },
        "ae8c76eb08d94b5ba1ad09108e11845d": {
          "model_module": "@jupyter-widgets/base",
          "model_name": "LayoutModel",
          "state": {
            "_view_name": "LayoutView",
            "grid_template_rows": null,
            "right": null,
            "justify_content": null,
            "_view_module": "@jupyter-widgets/base",
            "overflow": null,
            "_model_module_version": "1.2.0",
            "_view_count": null,
            "flex_flow": null,
            "width": null,
            "min_width": null,
            "border": null,
            "align_items": null,
            "bottom": null,
            "_model_module": "@jupyter-widgets/base",
            "top": null,
            "grid_column": null,
            "overflow_y": null,
            "overflow_x": null,
            "grid_auto_flow": null,
            "grid_area": null,
            "grid_template_columns": null,
            "flex": null,
            "_model_name": "LayoutModel",
            "justify_items": null,
            "grid_row": null,
            "max_height": null,
            "align_content": null,
            "visibility": null,
            "align_self": null,
            "height": null,
            "min_height": null,
            "padding": null,
            "grid_auto_rows": null,
            "grid_gap": null,
            "max_width": null,
            "order": null,
            "_view_module_version": "1.2.0",
            "grid_template_areas": null,
            "object_position": null,
            "object_fit": null,
            "grid_auto_columns": null,
            "margin": null,
            "display": null,
            "left": null
          }
        },
        "6ce7c2eef00b431da919d5bf6567a583": {
          "model_module": "@jupyter-widgets/base",
          "model_name": "LayoutModel",
          "state": {
            "_view_name": "LayoutView",
            "grid_template_rows": null,
            "right": null,
            "justify_content": null,
            "_view_module": "@jupyter-widgets/base",
            "overflow": null,
            "_model_module_version": "1.2.0",
            "_view_count": null,
            "flex_flow": null,
            "width": null,
            "min_width": null,
            "border": null,
            "align_items": null,
            "bottom": null,
            "_model_module": "@jupyter-widgets/base",
            "top": null,
            "grid_column": null,
            "overflow_y": null,
            "overflow_x": null,
            "grid_auto_flow": null,
            "grid_area": null,
            "grid_template_columns": null,
            "flex": null,
            "_model_name": "LayoutModel",
            "justify_items": null,
            "grid_row": null,
            "max_height": null,
            "align_content": null,
            "visibility": null,
            "align_self": null,
            "height": null,
            "min_height": null,
            "padding": null,
            "grid_auto_rows": null,
            "grid_gap": null,
            "max_width": null,
            "order": null,
            "_view_module_version": "1.2.0",
            "grid_template_areas": null,
            "object_position": null,
            "object_fit": null,
            "grid_auto_columns": null,
            "margin": null,
            "display": null,
            "left": null
          }
        },
        "b602b41b04b648d48c6590ed98e805e0": {
          "model_module": "@jupyter-widgets/controls",
          "model_name": "TabModel",
          "state": {
            "_view_name": "TabView",
            "_dom_classes": [],
            "_titles": {
              "0": "Youtube",
              "1": "Bilibili"
            },
            "_model_name": "TabModel",
            "_view_module": "@jupyter-widgets/controls",
            "selected_index": 0,
            "_model_module_version": "1.5.0",
            "_view_count": null,
            "_view_module_version": "1.5.0",
            "box_style": "",
            "layout": "IPY_MODEL_4b6f51b49cb342e2ac479074f3eef36b",
            "_model_module": "@jupyter-widgets/controls",
            "children": [
              "IPY_MODEL_234f2920a3b84fa9b498bd3f70fb0524",
              "IPY_MODEL_4ca18f0c388848ceb0cc858824563272"
            ]
          }
        },
        "4b6f51b49cb342e2ac479074f3eef36b": {
          "model_module": "@jupyter-widgets/base",
          "model_name": "LayoutModel",
          "state": {
            "_view_name": "LayoutView",
            "grid_template_rows": null,
            "right": null,
            "justify_content": null,
            "_view_module": "@jupyter-widgets/base",
            "overflow": null,
            "_model_module_version": "1.2.0",
            "_view_count": null,
            "flex_flow": null,
            "width": null,
            "min_width": null,
            "border": null,
            "align_items": null,
            "bottom": null,
            "_model_module": "@jupyter-widgets/base",
            "top": null,
            "grid_column": null,
            "overflow_y": null,
            "overflow_x": null,
            "grid_auto_flow": null,
            "grid_area": null,
            "grid_template_columns": null,
            "flex": null,
            "_model_name": "LayoutModel",
            "justify_items": null,
            "grid_row": null,
            "max_height": null,
            "align_content": null,
            "visibility": null,
            "align_self": null,
            "height": null,
            "min_height": null,
            "padding": null,
            "grid_auto_rows": null,
            "grid_gap": null,
            "max_width": null,
            "order": null,
            "_view_module_version": "1.2.0",
            "grid_template_areas": null,
            "object_position": null,
            "object_fit": null,
            "grid_auto_columns": null,
            "margin": null,
            "display": null,
            "left": null
          }
        },
        "234f2920a3b84fa9b498bd3f70fb0524": {
          "model_module": "@jupyter-widgets/output",
          "model_name": "OutputModel",
          "state": {
            "_view_name": "OutputView",
            "msg_id": "",
            "_dom_classes": [],
            "_model_name": "OutputModel",
            "outputs": [
              {
                "output_type": "stream",
                "metadata": {
                  "tags": []
                },
                "text": "Video available at https://youtube.com/watch?v=csetTTauIh8\n",
                "stream": "stdout"
              },
              {
                "output_type": "display_data",
                "metadata": {
                  "tags": []
                },
                "text/html": "\n        <iframe\n            width=\"854\"\n            height=\"480\"\n            src=\"https://www.youtube.com/embed/csetTTauIh8?fs=1&rel=0\"\n            frameborder=\"0\"\n            allowfullscreen\n        ></iframe>\n        ",
                "text/plain": "<IPython.lib.display.YouTubeVideo at 0x7f7c2c5431d0>",
                "image/jpeg": "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\n"
              }
            ],
            "_view_module": "@jupyter-widgets/output",
            "_model_module_version": "1.0.0",
            "_view_count": null,
            "_view_module_version": "1.0.0",
            "layout": "IPY_MODEL_77be8cd35be14a4bb548b1aa59be7c59",
            "_model_module": "@jupyter-widgets/output"
          }
        },
        "4ca18f0c388848ceb0cc858824563272": {
          "model_module": "@jupyter-widgets/output",
          "model_name": "OutputModel",
          "state": {
            "_view_name": "OutputView",
            "msg_id": "",
            "_dom_classes": [],
            "_model_name": "OutputModel",
            "outputs": [
              {
                "output_type": "stream",
                "metadata": {
                  "tags": []
                },
                "text": "Video available at https://www.bilibili.com/video/BV1di4y1g7Yc\n",
                "stream": "stdout"
              },
              {
                "output_type": "display_data",
                "metadata": {
                  "tags": []
                },
                "text/html": "\n        <iframe\n            width=\"854\"\n            height=\"480\"\n            src=\"https://player.bilibili.com/player.html?bvid=BV1di4y1g7Yc&page=1?fs=1\"\n            frameborder=\"0\"\n            allowfullscreen\n        ></iframe>\n        ",
                "text/plain": "<__main__.BiliVideo at 0x7f7c2c951c90>"
              }
            ],
            "_view_module": "@jupyter-widgets/output",
            "_model_module_version": "1.0.0",
            "_view_count": null,
            "_view_module_version": "1.0.0",
            "layout": "IPY_MODEL_4798d283b3bf40d3b571c2f9bdb41900",
            "_model_module": "@jupyter-widgets/output"
          }
        },
        "77be8cd35be14a4bb548b1aa59be7c59": {
          "model_module": "@jupyter-widgets/base",
          "model_name": "LayoutModel",
          "state": {
            "_view_name": "LayoutView",
            "grid_template_rows": null,
            "right": null,
            "justify_content": null,
            "_view_module": "@jupyter-widgets/base",
            "overflow": null,
            "_model_module_version": "1.2.0",
            "_view_count": null,
            "flex_flow": null,
            "width": null,
            "min_width": null,
            "border": null,
            "align_items": null,
            "bottom": null,
            "_model_module": "@jupyter-widgets/base",
            "top": null,
            "grid_column": null,
            "overflow_y": null,
            "overflow_x": null,
            "grid_auto_flow": null,
            "grid_area": null,
            "grid_template_columns": null,
            "flex": null,
            "_model_name": "LayoutModel",
            "justify_items": null,
            "grid_row": null,
            "max_height": null,
            "align_content": null,
            "visibility": null,
            "align_self": null,
            "height": null,
            "min_height": null,
            "padding": null,
            "grid_auto_rows": null,
            "grid_gap": null,
            "max_width": null,
            "order": null,
            "_view_module_version": "1.2.0",
            "grid_template_areas": null,
            "object_position": null,
            "object_fit": null,
            "grid_auto_columns": null,
            "margin": null,
            "display": null,
            "left": null
          }
        },
        "4798d283b3bf40d3b571c2f9bdb41900": {
          "model_module": "@jupyter-widgets/base",
          "model_name": "LayoutModel",
          "state": {
            "_view_name": "LayoutView",
            "grid_template_rows": null,
            "right": null,
            "justify_content": null,
            "_view_module": "@jupyter-widgets/base",
            "overflow": null,
            "_model_module_version": "1.2.0",
            "_view_count": null,
            "flex_flow": null,
            "width": null,
            "min_width": null,
            "border": null,
            "align_items": null,
            "bottom": null,
            "_model_module": "@jupyter-widgets/base",
            "top": null,
            "grid_column": null,
            "overflow_y": null,
            "overflow_x": null,
            "grid_auto_flow": null,
            "grid_area": null,
            "grid_template_columns": null,
            "flex": null,
            "_model_name": "LayoutModel",
            "justify_items": null,
            "grid_row": null,
            "max_height": null,
            "align_content": null,
            "visibility": null,
            "align_self": null,
            "height": null,
            "min_height": null,
            "padding": null,
            "grid_auto_rows": null,
            "grid_gap": null,
            "max_width": null,
            "order": null,
            "_view_module_version": "1.2.0",
            "grid_template_areas": null,
            "object_position": null,
            "object_fit": null,
            "grid_auto_columns": null,
            "margin": null,
            "display": null,
            "left": null
          }
        }
      }
    }
  },
  "cells": [
    {
      "cell_type": "markdown",
      "metadata": {
        "id": "view-in-github",
        "colab_type": "text"
      },
      "source": [
        "<a href=\"https://colab.research.google.com/github/drewwint/neuromatch-2021/blob/main/tutorials/W2D2_LinearSystems/student/W2D2_Tutorial2.ipynb\" target=\"_parent\"><img src=\"https://colab.research.google.com/assets/colab-badge.svg\" alt=\"Open In Colab\"/></a>"
      ]
    },
    {
      "cell_type": "markdown",
      "metadata": {
        "id": "rZBO6UsiKZ_h"
      },
      "source": [
        "# Tutorial 2: Markov Processes\n",
        "**Week 2, Day 2: Linear Systems**\n",
        "\n",
        "**By Neuromatch Academy**\n",
        "\n",
        "**Content Creators**: Bing Wen Brunton, Ellie Stradquist\n",
        "\n",
        "**Content Reviewers**: Norma Kuhn, Karolina Stosio, John Butler, Matthew Krause, Ella Batty, Richard Gao, Michael Waskom"
      ]
    },
    {
      "cell_type": "markdown",
      "metadata": {
        "id": "BAMHq-6BKZ_k"
      },
      "source": [
        "---\n",
        "# Tutorial Objectives\n",
        "\n",
        "In this tutorial, we will look at the dynamical systems introduced in the first tutorial through a different lens. \n",
        "\n",
        "In Tutorial 1, we studied dynamical systems as a deterministic process. For Tutorial 2, we will look at **probabilistic** dynamical systems. You may sometimes hear these systems called _stochastic_. In a probabilistic process, elements of randomness are involved. Every time you observe some probabilistic dynamical system, started from the same initial conditions, the outcome will likely be different. Put another way, dynamical systems that involve probability will incorporate random variations in their behavior. \n",
        "\n",
        "For some probabilistic dynamical systems, the differential equations express a relationship between $\\dot{x}$ and $x$ at every time $t$, so that the direction of $x$ at _every_ time depends entirely on the value of $x$. Said a different way, knowledge of the value of the state variables $x$ at time t is _all_ the information needed to determine $\\dot{x}$ and therefore $x$ at the next time.\n",
        "\n",
        "This property --- that the present state entirely determines the transition to the next state --- is what defines a **Markov process** and systems obeying this property can be described as **Markovian**.\n",
        "\n",
        "The goal of Tutorial 2 is to consider this type of Markov process in a simple example where the state transitions are probabilistic. In particular, we will:\n",
        "\n",
        "* Understand Markov processes and history dependence.\n",
        "* Explore the behavior of a two-state telegraph process and understand how its equilibrium distribution is dependent on its parameters.\n",
        "\n"
      ]
    },
    {
      "cell_type": "markdown",
      "metadata": {
        "id": "KAZK55LHKZ_m"
      },
      "source": [
        "---\n",
        "# Setup"
      ]
    },
    {
      "cell_type": "code",
      "metadata": {
        "execution": {
          "iopub.execute_input": "2021-06-25T15:13:26.047874Z",
          "iopub.status.busy": "2021-06-25T15:13:26.047295Z",
          "iopub.status.idle": "2021-06-25T15:13:26.372981Z",
          "shell.execute_reply": "2021-06-25T15:13:26.372012Z"
        },
        "id": "PX7PPxscKZ_n"
      },
      "source": [
        "import numpy as np\n",
        "import matplotlib.pyplot as plt"
      ],
      "execution_count": 1,
      "outputs": []
    },
    {
      "cell_type": "code",
      "metadata": {
        "cellView": "form",
        "execution": {
          "iopub.execute_input": "2021-06-25T15:13:26.379571Z",
          "iopub.status.busy": "2021-06-25T15:13:26.378573Z",
          "iopub.status.idle": "2021-06-25T15:13:26.611922Z",
          "shell.execute_reply": "2021-06-25T15:13:26.611020Z"
        },
        "id": "A4w7SPA2KZ_n"
      },
      "source": [
        "#@title Figure settings\n",
        "import ipywidgets as widgets       # interactive display\n",
        "%config InlineBackend.figure_format = 'retina'\n",
        "plt.style.use(\"https://raw.githubusercontent.com/NeuromatchAcademy/course-content/master/nma.mplstyle\")"
      ],
      "execution_count": 2,
      "outputs": []
    },
    {
      "cell_type": "code",
      "metadata": {
        "cellView": "form",
        "execution": {
          "iopub.execute_input": "2021-06-25T15:13:26.620300Z",
          "iopub.status.busy": "2021-06-25T15:13:26.619744Z",
          "iopub.status.idle": "2021-06-25T15:13:26.622681Z",
          "shell.execute_reply": "2021-06-25T15:13:26.622160Z"
        },
        "id": "sq2CcmQeKZ_p"
      },
      "source": [
        "#@title Helper Functions\n",
        "\n",
        "def plot_switch_simulation(t, x):\n",
        "  fig = plt.figure()\n",
        "  plt.plot(t, x)\n",
        "  plt.title('State-switch simulation')\n",
        "  plt.xlabel('Time')\n",
        "  plt.xlim((0, 300)) # zoom in time\n",
        "  plt.ylabel('State of ion channel 0/1', labelpad=-60)\n",
        "  plt.yticks([0, 1], ['Closed (0)', 'Open (1)'])\n",
        "  plt.show()\n",
        "  return\n",
        "\n",
        "def plot_interswitch_interval_histogram(inter_switch_intervals):\n",
        "  fig = plt.figure()\n",
        "  plt.hist(inter_switch_intervals)\n",
        "  plt.title('Inter-switch Intervals Distribution')\n",
        "  plt.ylabel('Interval Count')\n",
        "  plt.xlabel('time')\n",
        "  plt.show()\n",
        "\n",
        "def plot_state_probabilities(time, states):\n",
        "  fig = plt.figure()\n",
        "  plt.plot(time, states[:,0], label='Closed to open')\n",
        "  plt.plot(time, states[:,1], label='Open to closed')\n",
        "  plt.legend()\n",
        "  plt.xlabel('time')\n",
        "  plt.ylabel('prob(open OR closed)')"
      ],
      "execution_count": 3,
      "outputs": []
    },
    {
      "cell_type": "markdown",
      "metadata": {
        "id": "EXGnBkobKZ_p"
      },
      "source": [
        "---\n",
        "# Section 1:  Telegraph Process"
      ]
    },
    {
      "cell_type": "code",
      "metadata": {
        "cellView": "form",
        "execution": {
          "iopub.execute_input": "2021-06-25T15:13:26.634387Z",
          "iopub.status.busy": "2021-06-25T15:13:26.633860Z",
          "iopub.status.idle": "2021-06-25T15:13:26.758006Z",
          "shell.execute_reply": "2021-06-25T15:13:26.758455Z"
        },
        "id": "AxHc32AZKZ_q",
        "outputId": "a910c97e-2460-4e93-c33f-2c845d27c3f9",
        "colab": {
          "base_uri": "https://localhost:8080/",
          "height": 581,
          "referenced_widgets": [
            "79933905769e4367ad1cc52b9695032f",
            "fdb7b74c83894a32bb0223b23c85cbf5",
            "491a7dd86bf04949802cc7ac18d44c09",
            "64a3833e490e462caefa9f49fb6a12d2",
            "a37bd25f6a7b405d9abf7e228a3efa2c",
            "18fc4210560f41ca98df57c2c9964b8a"
          ]
        }
      },
      "source": [
        "# @title Video 1: Markov Process\n",
        "from ipywidgets import widgets\n",
        "\n",
        "out2 = widgets.Output()\n",
        "with out2:\n",
        "  from IPython.display import IFrame\n",
        "  class BiliVideo(IFrame):\n",
        "      def __init__(self, id, page=1, width=400, height=300, **kwargs):\n",
        "          self.id=id\n",
        "          src = 'https://player.bilibili.com/player.html?bvid={0}&page={1}'.format(id, page)\n",
        "          super(BiliVideo, self).__init__(src, width, height, **kwargs)\n",
        "\n",
        "  video = BiliVideo(id=\"BV11C4y1h7Eu\", width=854, height=480, fs=1)\n",
        "  print('Video available at https://www.bilibili.com/video/{0}'.format(video.id))\n",
        "  display(video)\n",
        "\n",
        "out1 = widgets.Output()\n",
        "with out1:\n",
        "  from IPython.display import YouTubeVideo\n",
        "  video = YouTubeVideo(id=\"xZO6GbU48ns\", width=854, height=480, fs=1, rel=0)\n",
        "  print('Video available at https://youtube.com/watch?v=' + video.id)\n",
        "  display(video)\n",
        "\n",
        "out = widgets.Tab([out1, out2])\n",
        "out.set_title(0, 'Youtube')\n",
        "out.set_title(1, 'Bilibili')\n",
        "\n",
        "display(out)"
      ],
      "execution_count": 4,
      "outputs": [
        {
          "output_type": "display_data",
          "data": {
            "application/vnd.jupyter.widget-view+json": {
              "model_id": "79933905769e4367ad1cc52b9695032f",
              "version_minor": 0,
              "version_major": 2
            },
            "text/plain": [
              "Tab(children=(Output(), Output()), _titles={'0': 'Youtube', '1': 'Bilibili'})"
            ]
          },
          "metadata": {
            "tags": []
          }
        }
      ]
    },
    {
      "cell_type": "markdown",
      "metadata": {
        "id": "SbzBOWQfKZ_r"
      },
      "source": [
        "Let's consider a Markov process with two states, where switches between each two states are probabilistic (known as a telegraph process). To be concrete, let's say we are modeling an **ion channel in a neuron that can be in one of two states: Closed (0) or Open (1)**. \n",
        "\n",
        "If the ion channel is Closed, it may transition to the Open state with probability $P(0 \\rightarrow 1 | x = 0) = \\mu_{c2o}$. Likewise, If the ion channel is Open, it transitions to Closed with probability $P(1 \\rightarrow 0 | x=1) = \\mu_{o2c}$.\n",
        "\n",
        "We simulate the process of changing states as a **Poisson process**. The Poisson process is a way to model discrete events where the average time between event occurrences is known but the exact time of some event is not known. Importantly, the Poisson process dictates the following points: \n",
        "1. The probability of some event occurring is _independent from all other events_.\n",
        "2. The average rate of events within a given time period is constant.\n",
        "3. Two events cannot occur at the same moment. Our ion channel can either be in an open or closed state, but not both simultaneously. \n",
        "\n",
        "In the simulation below, we will use the Poisson process to model the state of our ion channel at all points $t$ within the total simulation time $T$. \n",
        "\n",
        "As we simulate the state change process, we also track at which times thoughout the simulation the state makes a switch. We can use those times to measure the distribution of the time _intervals_ between state switches."
      ]
    },
    {
      "cell_type": "markdown",
      "metadata": {
        "id": "vPmJr3LIKZ_r"
      },
      "source": [
        "**Run the cell below** to show the state-change simulation process. Note that a random seed was set in the code block, so re-running the code will produce the same plot. Commenting out that line will produce a different simulation each run."
      ]
    },
    {
      "cell_type": "code",
      "metadata": {
        "cellView": "form",
        "colab": {
          "base_uri": "https://localhost:8080/",
          "height": 430
        },
        "execution": {
          "iopub.execute_input": "2021-06-25T15:13:26.772347Z",
          "iopub.status.busy": "2021-06-25T15:13:26.771769Z",
          "iopub.status.idle": "2021-06-25T15:13:26.991689Z",
          "shell.execute_reply": "2021-06-25T15:13:26.992152Z"
        },
        "id": "PCBv3bfTKZ_s",
        "outputId": "a76f84e6-f206-4271-dbb5-149604df0c51"
      },
      "source": [
        "# @title State-change simulation process\n",
        "\n",
        "# parameters\n",
        "T = 5000     # total Time duration\n",
        "dt = 0.001   # timestep of our simulation\n",
        "\n",
        "# simulate state of our ion channel in time\n",
        "# the two parameters that govern transitions are\n",
        "# c2o: closed to open rate\n",
        "# o2c: open to closed rate\n",
        "def ion_channel_opening(c2o, o2c, T, dt):\n",
        "    # initialize variables\n",
        "    t = np.arange(0, T, dt)\n",
        "    x = np.zeros_like(t)\n",
        "    switch_times = []\n",
        "\n",
        "    # assume we always start in Closed state\n",
        "    x[0] = 0\n",
        "\n",
        "    # generate a bunch of random uniformly distributed numbers\n",
        "    # between zero and unity: [0, 1),\n",
        "    # one for each dt in our simulation.\n",
        "    # we will use these random numbers to model the\n",
        "    # closed/open transitions\n",
        "    myrand = np.random.random_sample(size=len(t))\n",
        "\n",
        "\n",
        "    # walk through time steps of the simulation\n",
        "    for k in range(len(t)-1):\n",
        "        # switching between closed/open states are\n",
        "        # Poisson processes\n",
        "        if x[k] == 0 and myrand[k] < c2o*dt: # remember to scale by dt!\n",
        "            x[k+1:] = 1\n",
        "            switch_times.append(k*dt)\n",
        "        elif x[k] == 1 and myrand[k] < o2c*dt:\n",
        "            x[k+1:] = 0\n",
        "            switch_times.append(k*dt)\n",
        "\n",
        "    return t, x, switch_times\n",
        "\n",
        "\n",
        "c2o = 0.02\n",
        "o2c = 0.1\n",
        "np.random.seed(0) # set random seed\n",
        "t, x, switch_times = ion_channel_opening(c2o, o2c, T, .1)\n",
        "plot_switch_simulation(t,x)"
      ],
      "execution_count": 7,
      "outputs": [
        {
          "output_type": "display_data",
          "data": {
            "image/png": "[encoded data removed]",
            "text/plain": [
              "<Figure size 576x432 with 1 Axes>"
            ]
          },
          "metadata": {
            "tags": [],
            "image/png": {
              "width": 558,
              "height": 413
            },
            "needs_background": "light"
          }
        }
      ]
    },
    {
      "cell_type": "markdown",
      "metadata": {
        "id": "VCpctoGxKZ_s"
      },
      "source": [
        "## Exercise 1 (2A): Computing intervals between switches\n",
        "We now have `switch_times`, which is a list consisting of times when the state switched. Using this, calculate the time intervals between each state switch and store these in a list called `inter_switch_intervals`.\n",
        "\n",
        "We will then plot the distribution of these intervals. How would you describe the shape of the distribution?\n"
      ]
    },
    {
      "cell_type": "code",
      "metadata": {
        "id": "XpuHbK4kOogW",
        "outputId": "375deb6e-5115-4928-9828-7d0cd1d9f86b",
        "colab": {
          "base_uri": "https://localhost:8080/"
        }
      },
      "source": [
        "print(switch_times)\n",
        "  ## these are the switch times from above and we are going to take their differnces to plot below"
      ],
      "execution_count": 11,
      "outputs": [
        {
          "output_type": "stream",
          "text": [
            "[75.7, 82.10000000000001, 107.0, 113.0, 163.3, 171.20000000000002, 203.20000000000002, 205.5, 234.9, 242.8, 328.0, 329.1, 367.40000000000003, 373.6, 385.6, 410.3, 459.6, 465.40000000000003, 513.6, 518.9, 538.3000000000001, 543.5, 551.0, 558.5, 583.8000000000001, 584.8000000000001, 606.4, 607.3000000000001, 609.0, 622.6, 687.4000000000001, 690.0, 737.6, 745.1, 760.8000000000001, 764.8000000000001, 774.7, 777.1, 786.9000000000001, 787.3000000000001, 790.7, 792.9000000000001, 853.2, 857.1, 862.3000000000001, 864.9000000000001, 920.8000000000001, 921.6, 1001.1, 1001.7, 1024.1000000000001, 1038.8, 1063.7, 1091.7, 1245.4, 1249.0, 1293.0, 1298.7, 1302.6000000000001, 1303.3000000000002, 1318.4, 1347.1000000000001, 1376.7, 1389.8000000000002, 1390.6000000000001, 1412.3000000000002, 1420.8000000000002, 1437.6000000000001, 1445.5, 1450.4, 1457.1000000000001, 1464.3000000000002, 1471.9, 1475.8000000000002, 1708.1000000000001, 1719.0, 1742.6000000000001, 1757.7, 1758.3000000000002, 1758.5, 1769.7, 1796.5, 1868.2, 1877.9, 1893.3000000000002, 1897.8000000000002, 1926.1000000000001, 1928.7, 1946.7, 1950.3000000000002, 2031.6000000000001, 2036.2, 2232.9, 2244.6, 2259.6, 2268.5, 2280.3, 2291.1, 2297.8, 2312.5, 2372.4, 2376.4, 2413.9, 2417.6, 2440.0, 2450.5, 2453.4, 2467.5, 2626.8, 2637.3, 2649.6000000000004, 2664.4, 2673.5, 2675.0, 2823.6000000000004, 2855.3, 2865.2000000000003, 2872.1000000000004, 2903.9, 2904.7000000000003, 2937.8, 2943.8, 3042.8, 3064.8, 3280.9, 3291.1000000000004, 3298.9, 3310.6000000000004, 3434.4, 3439.2000000000003, 3522.0, 3526.5, 3543.3, 3543.7000000000003, 3672.4, 3679.8, 3781.5, 3782.1000000000004, 3804.0, 3844.8, 3882.2000000000003, 3921.2000000000003, 3943.2000000000003, 3947.6000000000004, 4037.2000000000003, 4059.9, 4075.4, 4097.400000000001, 4213.0, 4223.2, 4311.7, 4336.8, 4474.1, 4484.3, 4493.8, 4496.7, 4500.1, 4506.3, 4578.400000000001, 4581.400000000001, 4748.3, 4759.1, 4800.1, 4804.8, 4826.900000000001, 4837.900000000001, 4925.8, 4950.3]\n"
          ],
          "name": "stdout"
        }
      ]
    },
    {
      "cell_type": "code",
      "metadata": {
        "colab": {
          "base_uri": "https://localhost:8080/",
          "height": 430
        },
        "execution": {
          "iopub.execute_input": "2021-06-25T15:13:26.995724Z",
          "iopub.status.busy": "2021-06-25T15:13:26.995212Z",
          "iopub.status.idle": "2021-06-25T15:13:26.997517Z",
          "shell.execute_reply": "2021-06-25T15:13:26.997038Z"
        },
        "id": "GIa7CFwYKZ_t",
        "outputId": "6517e55e-fbd4-4355-c1ab-2c6c9d16533a"
      },
      "source": [
        "##############################################################################\n",
        "## TODO: Insert your code here to calculate between-state-switch intervals,\n",
        "##       and uncomment the last line to plot the histogram\n",
        "##############################################################################\n",
        "\n",
        "# hint: see np.diff()\n",
        "inter_switch_intervals = np.diff(switch_times)\n",
        "\n",
        "\n",
        "plot_interswitch_interval_histogram(inter_switch_intervals)"
      ],
      "execution_count": 12,
      "outputs": [
        {
          "output_type": "display_data",
          "data": {
            "image/png": "[encoded data removed]",
            "text/plain": [
              "<Figure size 576x432 with 1 Axes>"
            ]
          },
          "metadata": {
            "tags": [],
            "image/png": {
              "width": 558,
              "height": 413
            },
            "needs_background": "light"
          }
        }
      ]
    },
    {
      "cell_type": "markdown",
      "metadata": {
        "execution": {
          "iopub.execute_input": "2021-06-25T15:13:27.001413Z",
          "iopub.status.busy": "2021-06-25T15:13:27.000909Z",
          "iopub.status.idle": "2021-06-25T15:13:27.246988Z",
          "shell.execute_reply": "2021-06-25T15:13:27.246452Z"
        },
        "outputId": "407f2b47-bc20-4723-9f97-f5ae3d2d98fb",
        "id": "oR_EDj0mKZ_t"
      },
      "source": [
        "[*Click for solution*](https://github.com/NeuromatchAcademy/course-content/tree/master//tutorials/W2D2_LinearSystems/solutions/W2D2_Tutorial2_Solution_30701e58.py)\n",
        "\n",
        "*Example output:*\n",
        "\n",
        "<img alt='Solution hint' align='left' width=560 height=416 src=https://raw.githubusercontent.com/NeuromatchAcademy/course-content/master/tutorials/W2D2_LinearSystems/static/W2D2_Tutorial2_Solution_30701e58_0.png>\n",
        "\n"
      ]
    },
    {
      "cell_type": "markdown",
      "metadata": {
        "id": "nXxKp2JoKZ_u"
      },
      "source": [
        "We can also generate a bar graph to visualize the distribution of the number of time-steps spent in each of the two possible system states during the simulation. **Run the cell below** to visualize the distribution. \n",
        "\n"
      ]
    },
    {
      "cell_type": "code",
      "metadata": {
        "cellView": "form",
        "colab": {
          "base_uri": "https://localhost:8080/",
          "height": 430
        },
        "execution": {
          "iopub.execute_input": "2021-06-25T15:13:27.251046Z",
          "iopub.status.busy": "2021-06-25T15:13:27.250601Z",
          "iopub.status.idle": "2021-06-25T15:13:27.403042Z",
          "shell.execute_reply": "2021-06-25T15:13:27.403592Z"
        },
        "id": "JnfF8xXaKZ_u",
        "outputId": "36ea60df-bb49-4560-9950-068822eca507"
      },
      "source": [
        "# @title Distribution of time spent in each state.\n",
        "\n",
        "states = ['Closed', 'Open']\n",
        "(unique, counts) = np.unique(x, return_counts=True)\n",
        "plt.bar(states, counts)\n",
        "plt.ylabel('Number of time steps')\n",
        "plt.xlabel('State of ion channel');"
      ],
      "execution_count": 13,
      "outputs": [
        {
          "output_type": "display_data",
          "data": {
            "image/png": "[encoded data removed]",
            "text/plain": [
              "<Figure size 576x432 with 1 Axes>"
            ]
          },
          "metadata": {
            "tags": [],
            "image/png": {
              "width": 557,
              "height": 413
            },
            "needs_background": "light"
          }
        }
      ]
    },
    {
      "cell_type": "markdown",
      "metadata": {
        "id": "BADVKHN-KZ_v"
      },
      "source": [
        "<!-- Though the system started initially in the Closed ($x=0$) state, over time, it settles into a equilibrium distribution where we can predict on what fraction of time it is Open as a function of the $\\mu$ parameters. \n",
        "\n",
        "Before we continue exploring these distributions further, let's first take a look at the this fraction of Open states as a cumulative mean of the state $x$: -->\n",
        "\n",
        "Even though the state is _discrete_--the ion channel can only be either Closed or Open--we can still look at the **mean state** of the system, averaged over some window of time. \n",
        "\n",
        "Since we've coded Closed as $x=0$ and Open as $x=1$, conveniently, the mean of $x$ over some window of time has the interpretation of **fraction of time channel is Open**.\n",
        "\n",
        "Let's also take a look at the fraction of Open states as a cumulative mean of the state $x$. The cumulative mean tells us the average number of state-changes that the system will have undergone after a certain amount of time. **Run the cell below**."
      ]
    },
    {
      "cell_type": "code",
      "metadata": {
        "cellView": "form",
        "colab": {
          "base_uri": "https://localhost:8080/",
          "height": 431
        },
        "execution": {
          "iopub.execute_input": "2021-06-25T15:13:27.405921Z",
          "iopub.status.busy": "2021-06-25T15:13:27.405466Z",
          "iopub.status.idle": "2021-06-25T15:13:27.601534Z",
          "shell.execute_reply": "2021-06-25T15:13:27.601930Z"
        },
        "id": "Qu0EUZZEKZ_v",
        "outputId": "5540f9c2-1f34-4460-eb63-32df4d327342"
      },
      "source": [
        "# @title Cumulative mean of state\n",
        "plt.plot(t, np.cumsum(x) / np.arange(1, len(t)+1))\n",
        "plt.xlabel('time')\n",
        "plt.ylabel('Cumulative mean of state');"
      ],
      "execution_count": 14,
      "outputs": [
        {
          "output_type": "display_data",
          "data": {
            "image/png": "[encoded data removed]",
            "text/plain": [
              "<Figure size 576x432 with 1 Axes>"
            ]
          },
          "metadata": {
            "tags": [],
            "image/png": {
              "width": 558,
              "height": 414
            },
            "needs_background": "light"
          }
        }
      ]
    },
    {
      "cell_type": "markdown",
      "metadata": {
        "id": "ZftOYawFKZ_w"
      },
      "source": [
        "Notice in the plot above that, although the channel started in the Closed ($x=0$) state, gradually adopted some mean value after some time. This mean value is related to the transition probabilities $\\mu_{c2o}$\n",
        "and $\\mu_{o2c}$."
      ]
    },
    {
      "cell_type": "markdown",
      "metadata": {
        "id": "Q8HYqoFvKZ_w"
      },
      "source": [
        "## Interactive Demo: Varying transition probability values & T\n",
        "\n",
        "Using the interactive demo below, explore the state-switch simulation for different transition probability values of states $\\mu_{c2o}$ and $\\mu_{o2c}$. Also, try different values for total simulation time length *T*. \n",
        "\n",
        "Does the general shape of the inter-switch interval distribution change or does it stay relatively the same? How does the bar graph of system states change based on these values?"
      ]
    },
    {
      "cell_type": "code",
      "metadata": {
        "cellView": "form",
        "colab": {
          "base_uri": "https://localhost:8080/",
          "height": 526,
          "referenced_widgets": [
            "bb0f6ba7d78540fe9c205cdb1f2b88a9",
            "d58f05d3d67e4d3bbdae161e0bf1f296",
            "88a1bdb60fda44c6a1159d51febb6d9a",
            "b1fc2bba8f1e4e2788e00e6cc4a40bff",
            "9498437523bf4f1cba398599b3079553",
            "13a09ae97e964022990749e214ebae17",
            "b5be1fd171724a59945219cd33951c01",
            "5a5034d678a94750876cf215278383c4",
            "8c6d4f59c689406fafe8a919d4ad8161",
            "a1466a4c1bb44b1f9ecf8c7d6205a77c",
            "250db73063ee4a55bc2f2c84e4a478b9",
            "c58bcaaf27f5431085d009caca6e5aad",
            "dcac40a25569412d82f6306a72d5a471"
          ]
        },
        "execution": {
          "iopub.execute_input": "2021-06-25T15:13:27.638736Z",
          "iopub.status.busy": "2021-06-25T15:13:27.638168Z",
          "iopub.status.idle": "2021-06-25T15:13:27.853455Z",
          "shell.execute_reply": "2021-06-25T15:13:27.853923Z"
        },
        "id": "svQTMXV-KZ_x",
        "outputId": "7678b29e-4a84-41ef-bd2d-b647ffb7ef2a"
      },
      "source": [
        "#@title\n",
        "\n",
        "#@markdown Make sure you execute this cell to enable the widget!\n",
        "\n",
        "@widgets.interact\n",
        "def plot_inter_switch_intervals(c2o = (0,1, .01), o2c = (0, 1, .01), T=(1000,10000, 1000)):\n",
        "\n",
        "  t, x, switch_times = ion_channel_opening(c2o, o2c, T, .1)\n",
        "\n",
        "  inter_switch_intervals = np.diff(switch_times)\n",
        "\n",
        "  #plot inter-switch intervals\n",
        "  plt.hist(inter_switch_intervals)\n",
        "  plt.title('Inter-switch Intervals Distribution')\n",
        "  plt.ylabel('Interval Count')\n",
        "  plt.xlabel('time')\n",
        "  plt.show()\n",
        "  plt.close()"
      ],
      "execution_count": 15,
      "outputs": [
        {
          "output_type": "display_data",
          "data": {
            "application/vnd.jupyter.widget-view+json": {
              "model_id": "bb0f6ba7d78540fe9c205cdb1f2b88a9",
              "version_minor": 0,
              "version_major": 2
            },
            "text/plain": [
              "interactive(children=(FloatSlider(value=0.0, description='c2o', max=1.0, step=0.01), FloatSlider(value=0.0, de…"
            ]
          },
          "metadata": {
            "tags": []
          }
        }
      ]
    },
    {
      "cell_type": "markdown",
      "metadata": {
        "execution": {
          "iopub.execute_input": "2021-06-25T15:13:27.857153Z",
          "iopub.status.busy": "2021-06-25T15:13:27.856763Z",
          "iopub.status.idle": "2021-06-25T15:13:27.860022Z",
          "shell.execute_reply": "2021-06-25T15:13:27.860539Z"
        },
        "id": "vqMR8LhMKZ_z"
      },
      "source": [
        "[*Click for solution*](https://github.com/NeuromatchAcademy/course-content/tree/master//tutorials/W2D2_LinearSystems/solutions/W2D2_Tutorial2_Solution_ecb9dc3a.py)\n",
        "\n"
      ]
    },
    {
      "cell_type": "markdown",
      "metadata": {
        "id": "x0hAz7BGKZ_z"
      },
      "source": [
        "---\n",
        "# Section 2: Distributional Perspective\n",
        "\n"
      ]
    },
    {
      "cell_type": "code",
      "metadata": {
        "cellView": "form",
        "execution": {
          "iopub.execute_input": "2021-06-25T15:13:27.872095Z",
          "iopub.status.busy": "2021-06-25T15:13:27.870643Z",
          "iopub.status.idle": "2021-06-25T15:13:27.973759Z",
          "shell.execute_reply": "2021-06-25T15:13:27.973312Z"
        },
        "id": "wJAJNRobKZ_0",
        "outputId": "59a4f7b3-f360-4f03-e6b5-e6bcb2085a62",
        "colab": {
          "base_uri": "https://localhost:8080/",
          "height": 581,
          "referenced_widgets": [
            "15d9dd7317f84788a7970be0da8904a0",
            "199463b60c3945ebb1acfb0884107aed",
            "e844a863d27d42369b072086b3fc173d",
            "fcf9efacb9544078a4c806d89c074dca",
            "ae8c76eb08d94b5ba1ad09108e11845d",
            "6ce7c2eef00b431da919d5bf6567a583"
          ]
        }
      },
      "source": [
        "# @title Video 2: State Transitions\n",
        "from ipywidgets import widgets\n",
        "\n",
        "out2 = widgets.Output()\n",
        "with out2:\n",
        "  from IPython.display import IFrame\n",
        "  class BiliVideo(IFrame):\n",
        "      def __init__(self, id, page=1, width=400, height=300, **kwargs):\n",
        "          self.id=id\n",
        "          src = 'https://player.bilibili.com/player.html?bvid={0}&page={1}'.format(id, page)\n",
        "          super(BiliVideo, self).__init__(src, width, height, **kwargs)\n",
        "\n",
        "  video = BiliVideo(id=\"BV1uk4y1B7ru\", width=854, height=480, fs=1)\n",
        "  print('Video available at https://www.bilibili.com/video/{0}'.format(video.id))\n",
        "  display(video)\n",
        "\n",
        "out1 = widgets.Output()\n",
        "with out1:\n",
        "  from IPython.display import YouTubeVideo\n",
        "  video = YouTubeVideo(id=\"U6YRhLuRhHg\", width=854, height=480, fs=1, rel=0)\n",
        "  print('Video available at https://youtube.com/watch?v=' + video.id)\n",
        "  display(video)\n",
        "\n",
        "out = widgets.Tab([out1, out2])\n",
        "out.set_title(0, 'Youtube')\n",
        "out.set_title(1, 'Bilibili')\n",
        "\n",
        "display(out)"
      ],
      "execution_count": 16,
      "outputs": [
        {
          "output_type": "display_data",
          "data": {
            "application/vnd.jupyter.widget-view+json": {
              "model_id": "15d9dd7317f84788a7970be0da8904a0",
              "version_minor": 0,
              "version_major": 2
            },
            "text/plain": [
              "Tab(children=(Output(), Output()), _titles={'0': 'Youtube', '1': 'Bilibili'})"
            ]
          },
          "metadata": {
            "tags": []
          }
        }
      ]
    },
    {
      "cell_type": "markdown",
      "metadata": {
        "id": "kT1mwlX4KaAE"
      },
      "source": [
        "We can run this simulation many times and gather empirical distributions of open/closed states. Alternatively, we can formulate the exact same system probabilistically, keeping track of the probability of being in each state.\n",
        "\n",
        "<!-- Although the system started initially in the Closed ($x=0$) state, over time, it settles into a equilibrium distribution where we can predict on what fraction of time it is Open as a function of the $\\mu$ parameters.  -->\n",
        "\n",
        "(see diagram in lecture)\n",
        "\n",
        "The same system of transitions can then be formulated using a vector of 2 elements as the state vector and a dynamics matrix $\\mathbf{A}$. The result of this formulation is a *state transition matrix*:\n",
        "\n",
        "$\\left[ \\begin{array}{c} C \\\\ O \\end{array} \\right]_{k+1} = \\mathbf{A} \\left[ \\begin{array}{c} C \\\\ O \\end{array} \\right]_k = \\left[ \\begin{array} & 1-\\mu_{\\text{c2o}} & \\mu_{\\text{o2c}} \\\\ \\mu_{\\text{c2o}} & 1-\\mu_{\\text{o2c}} \\end{array} \\right] \\left[ \\begin{array}{c} C \\\\ O \\end{array} \\right]_k$.\n",
        "\n",
        "\n",
        "Each transition probability shown in the matrix is as follows:\n",
        "1. $1-\\mu_{\\text{c2o}}$, the probability that the closed state remains closed. \n",
        "2. $\\mu_{\\text{c2o}}$, the probability that the closed state transitions to the open state.\n",
        "3.  $\\mu_{\\text{o2c}}$, the probability that the open state transitions to the closed state. \n",
        "4. $1-\\mu_{\\text{o2c}}$, the probability that the open state remains open. \n",
        "\n",
        "\n",
        "_Notice_ that this system is written as a discrete step in time, and $\\mathbf{A}$ describes the transition, mapping the state from step $k$ to step $k+1$. This is different from what we did in the exercises above where $\\mathbf{A}$ had described the function from the state to the time derivative of the state.\n"
      ]
    },
    {
      "cell_type": "markdown",
      "metadata": {
        "id": "gBc-IKXcKaAF"
      },
      "source": [
        "## Exercise 2 (2B): Probability Propagation\n",
        "\n",
        "Complete the code below to simulate the propagation of probabilities of closed/open of the ion channel through time. A variable called `x_kp1` (short for, $x$ at timestep $k$ plus 1) should be calculated per each step *k* in the loop. However, you should plot $x$."
      ]
    },
    {
      "cell_type": "code",
      "metadata": {
        "colab": {
          "base_uri": "https://localhost:8080/",
          "height": 431
        },
        "execution": {
          "iopub.execute_input": "2021-06-25T15:13:27.986785Z",
          "iopub.status.busy": "2021-06-25T15:13:27.985832Z",
          "iopub.status.idle": "2021-06-25T15:13:27.987410Z",
          "shell.execute_reply": "2021-06-25T15:13:27.987880Z"
        },
        "id": "ts3JNLN1KaAF",
        "outputId": "7adf57d2-3656-44ae-b085-739cc4bbbfc9"
      },
      "source": [
        "def simulate_prob_prop(A, x0, dt, T):\n",
        "  \"\"\" Simulate the propagation of probabilities given the transition matrix A,\n",
        "  with initial state x0, for a duration of T at timestep dt.\n",
        "\n",
        "  Args:\n",
        "    A (ndarray): state transition matrix\n",
        "    x0 (ndarray): state probabilities at time 0\n",
        "    dt (scalar): timestep of the simulation\n",
        "    T (scalar): total duration of the simulation\n",
        "\n",
        "  Returns:\n",
        "    ndarray, ndarray: `x` for all simulation steps and the time `t` at each step\n",
        "  \"\"\"\n",
        "\n",
        "  # Initialize variables\n",
        "  t = np.arange(0, T, dt)\n",
        "  x = x0 # x at time t_0\n",
        "\n",
        "  # Step through the system in time\n",
        "  for k in range(len(t)-1):\n",
        "      ###################################################################\n",
        "      ## TODO: Insert your code here to compute x_kp1 (x at k plus 1)\n",
        "      # raise NotImplementedError(\"Student exercise: need to implement simulation\")\n",
        "      ## hint: use np.dot(a, b) function to compute the dot product\n",
        "      ##       of the transition matrix A and the last state in x\n",
        "      ## hint 2: use np.vstack to append the latest state to x\n",
        "      ###################################################################\n",
        "\n",
        "      # Compute the state of x at time k+1\n",
        "      x_kp1 = np.dot(A, x[-1,:])\n",
        "      # Stack (append) this new state onto x to keep track of x through time steps\n",
        "      x = np.vstack((x, x_kp1))\n",
        "  return x, t\n",
        "\n",
        "# parameters\n",
        "T = 500     # total Time duration\n",
        "dt = 0.1   # timestep of our simulation\n",
        "\n",
        "# same parameters as above\n",
        "# c2o: closed to open rate\n",
        "# o2c: open to closed rate\n",
        "c2o = 0.02\n",
        "o2c = 0.1\n",
        "A = np.array([[1 - c2o*dt, o2c*dt],\n",
        "              [c2o*dt,     1 - o2c*dt]])\n",
        "\n",
        "# initial condition: start as Closed\n",
        "x0 = np.array([[1, 0]])\n",
        "\n",
        "# Uncomment this to plot the probabilities\n",
        "x, t = simulate_prob_prop(A, x0, dt, T)\n",
        "plot_state_probabilities(t,x)"
      ],
      "execution_count": 18,
      "outputs": [
        {
          "output_type": "display_data",
          "data": {
            "image/png": "[encoded data removed]",
            "text/plain": [
              "<Figure size 576x432 with 1 Axes>"
            ]
          },
          "metadata": {
            "tags": [],
            "image/png": {
              "width": 558,
              "height": 414
            },
            "needs_background": "light"
          }
        }
      ]
    },
    {
      "cell_type": "markdown",
      "metadata": {
        "execution": {
          "iopub.execute_input": "2021-06-25T15:13:27.998036Z",
          "iopub.status.busy": "2021-06-25T15:13:27.995955Z",
          "iopub.status.idle": "2021-06-25T15:13:28.305265Z",
          "shell.execute_reply": "2021-06-25T15:13:28.304218Z"
        },
        "outputId": "b7d16b7a-4130-4b81-d10b-87a035087482",
        "id": "mHRB27aYKaAF"
      },
      "source": [
        "[*Click for solution*](https://github.com/NeuromatchAcademy/course-content/tree/master//tutorials/W2D2_LinearSystems/solutions/W2D2_Tutorial2_Solution_f426cf5b.py)\n",
        "\n",
        "*Example output:*\n",
        "\n",
        "<img alt='Solution hint' align='left' width=558 height=414 src=https://raw.githubusercontent.com/NeuromatchAcademy/course-content/master/tutorials/W2D2_LinearSystems/static/W2D2_Tutorial2_Solution_f426cf5b_0.png>\n",
        "\n"
      ]
    },
    {
      "cell_type": "markdown",
      "metadata": {
        "id": "HT4x3zm8KaAF"
      },
      "source": [
        "Here, we simulated the propagation of probabilities of the ion channel's state changing through time. Using this method is useful in that we can **run the simulation once** and see **how the probabilities propagate throughout time**, rather than re-running and empirically observing the telegraph simulation over and over again. \n",
        "\n",
        "Although the system started initially in the Closed ($x=0$) state, over time, it settles into a equilibrium distribution where we can predict what fraction of time it is Open as a function of the $\\mu$ parameters. We can say that the plot above show this _relaxation towards equilibrium_.\n",
        "\n",
        "Re-calculating our value of the probability of $c2o$ again with this method, we see that this matches the simulation output from the telegraph process! \n",
        "\n"
      ]
    },
    {
      "cell_type": "code",
      "metadata": {
        "colab": {
          "base_uri": "https://localhost:8080/"
        },
        "execution": {
          "iopub.execute_input": "2021-06-25T15:13:28.310892Z",
          "iopub.status.busy": "2021-06-25T15:13:28.310349Z",
          "iopub.status.idle": "2021-06-25T15:13:28.315988Z",
          "shell.execute_reply": "2021-06-25T15:13:28.315288Z"
        },
        "id": "8YLqEIx6KaAG",
        "outputId": "e78beaaf-0159-4a2b-d0de-da75be331a5c"
      },
      "source": [
        "print(\"Probability of state c2o: %.3f\"%(c2o / (c2o + o2c)))\n",
        "x[-1,:]"
      ],
      "execution_count": 19,
      "outputs": [
        {
          "output_type": "stream",
          "text": [
            "Probability of state c2o: 0.167\n"
          ],
          "name": "stdout"
        },
        {
          "output_type": "execute_result",
          "data": {
            "text/plain": [
              "array([0.83333333, 0.16666667])"
            ]
          },
          "metadata": {
            "tags": []
          },
          "execution_count": 19
        }
      ]
    },
    {
      "cell_type": "markdown",
      "metadata": {
        "id": "ace_YUzDKaAG"
      },
      "source": [
        "---\n",
        "# Section 3: Equilibrium of the telegraph process"
      ]
    },
    {
      "cell_type": "code",
      "metadata": {
        "cellView": "form",
        "execution": {
          "iopub.execute_input": "2021-06-25T15:13:28.327631Z",
          "iopub.status.busy": "2021-06-25T15:13:28.323310Z",
          "iopub.status.idle": "2021-06-25T15:13:28.439770Z",
          "shell.execute_reply": "2021-06-25T15:13:28.436122Z"
        },
        "id": "6fj89cxaKaAG",
        "outputId": "920b6080-814b-4204-b405-20ad3378b9f8",
        "colab": {
          "base_uri": "https://localhost:8080/",
          "height": 581,
          "referenced_widgets": [
            "b602b41b04b648d48c6590ed98e805e0",
            "4b6f51b49cb342e2ac479074f3eef36b",
            "234f2920a3b84fa9b498bd3f70fb0524",
            "4ca18f0c388848ceb0cc858824563272",
            "77be8cd35be14a4bb548b1aa59be7c59",
            "4798d283b3bf40d3b571c2f9bdb41900"
          ]
        }
      },
      "source": [
        "# @title Video 3: Continous vs. Discrete Time Formulation\n",
        "from ipywidgets import widgets\n",
        "\n",
        "out2 = widgets.Output()\n",
        "with out2:\n",
        "  from IPython.display import IFrame\n",
        "  class BiliVideo(IFrame):\n",
        "      def __init__(self, id, page=1, width=400, height=300, **kwargs):\n",
        "          self.id=id\n",
        "          src = 'https://player.bilibili.com/player.html?bvid={0}&page={1}'.format(id, page)\n",
        "          super(BiliVideo, self).__init__(src, width, height, **kwargs)\n",
        "\n",
        "  video = BiliVideo(id=\"BV1di4y1g7Yc\", width=854, height=480, fs=1)\n",
        "  print('Video available at https://www.bilibili.com/video/{0}'.format(video.id))\n",
        "  display(video)\n",
        "\n",
        "out1 = widgets.Output()\n",
        "with out1:\n",
        "  from IPython.display import YouTubeVideo\n",
        "  video = YouTubeVideo(id=\"csetTTauIh8\", width=854, height=480, fs=1, rel=0)\n",
        "  print('Video available at https://youtube.com/watch?v=' + video.id)\n",
        "  display(video)\n",
        "\n",
        "out = widgets.Tab([out1, out2])\n",
        "out.set_title(0, 'Youtube')\n",
        "out.set_title(1, 'Bilibili')\n",
        "\n",
        "display(out)"
      ],
      "execution_count": 20,
      "outputs": [
        {
          "output_type": "display_data",
          "data": {
            "application/vnd.jupyter.widget-view+json": {
              "model_id": "b602b41b04b648d48c6590ed98e805e0",
              "version_minor": 0,
              "version_major": 2
            },
            "text/plain": [
              "Tab(children=(Output(), Output()), _titles={'0': 'Youtube', '1': 'Bilibili'})"
            ]
          },
          "metadata": {
            "tags": []
          }
        }
      ]
    },
    {
      "cell_type": "markdown",
      "metadata": {
        "id": "6fE0nc8GKaAH"
      },
      "source": [
        "Since we have now modeled the propagation of probabilities by the transition matrix $\\mathbf{A}$ in Section 2, let's connect the behavior of the system at equilibrium with the eigendecomposition of $\\mathbf{A}$.\n",
        "\n",
        "As introduced in the lecture video, the eigenvalues of $\\mathbf{A}$ tell us about the stability of the system, specifically in the directions of the corresponding eigenvectors."
      ]
    },
    {
      "cell_type": "code",
      "metadata": {
        "colab": {
          "base_uri": "https://localhost:8080/"
        },
        "execution": {
          "iopub.execute_input": "2021-06-25T15:13:28.451296Z",
          "iopub.status.busy": "2021-06-25T15:13:28.449974Z",
          "iopub.status.idle": "2021-06-25T15:13:28.453254Z",
          "shell.execute_reply": "2021-06-25T15:13:28.452782Z"
        },
        "id": "xkq3GYe1KaAH",
        "outputId": "bba7ac7b-9c66-4494-b154-b90b359a8277"
      },
      "source": [
        "# compute the eigendecomposition of A\n",
        "lam, v = np.linalg.eig(A)\n",
        "\n",
        "# print the 2 eigenvalues\n",
        "print(\"Eigenvalues:\",lam)\n",
        "\n",
        "# print the 2 eigenvectors\n",
        "eigenvector1 = v[:,0]\n",
        "eigenvector2 = v[:,1]\n",
        "print(\"Eigenvector 1:\", eigenvector1)\n",
        "print(\"Eigenvector 2:\", eigenvector2)"
      ],
      "execution_count": 21,
      "outputs": [
        {
          "output_type": "stream",
          "text": [
            "Eigenvalues: [1.    0.988]\n",
            "Eigenvector 1: [0.98058068 0.19611614]\n",
            "Eigenvector 2: [-0.70710678  0.70710678]\n"
          ],
          "name": "stdout"
        }
      ]
    },
    {
      "cell_type": "markdown",
      "metadata": {
        "id": "glaugUvCKaAH"
      },
      "source": [
        "## Exercise 3 (2C): Finding a stable state\n",
        "\n",
        "Which of these eigenvalues corresponds to the **stable** (equilibrium) solution? What is the eigenvector of this eigenvalue? How does that explain \n",
        "the equilibrium solutions in simulation in Section 2 of this tutorial?\n",
        "\n",
        "_hint_: our simulation is written in terms of probabilities, so they must sum to 1. Therefore, you may also want to rescale the elements of the eigenvector such that they also sum to 1. These can then be directly compared with the probabilities of the states in the simulation. "
      ]
    },
    {
      "cell_type": "code",
      "metadata": {
        "execution": {
          "iopub.execute_input": "2021-06-25T15:13:28.456612Z",
          "iopub.status.busy": "2021-06-25T15:13:28.456063Z",
          "iopub.status.idle": "2021-06-25T15:13:28.460815Z",
          "shell.execute_reply": "2021-06-25T15:13:28.460245Z"
        },
        "id": "tIsQrS3kKaAJ"
      },
      "source": [
        "###################################################################\n",
        "## Insert your thoughts here\n",
        "###################################################################\n",
        "\n",
        "Whichever eigenvalue is 1 is the stable solution. There should be another\n",
        "eigenvalue that is <1, which means it is decaying and goes away after the\n",
        "transient period.\n",
        "\n",
        "The eigenvector corresponding to this eigenvalue is the stable solution.\n",
        "To see this, we need to normalize this eigenvector so that its 2 elements\n",
        "sum to one, then we would see that the two numbers correspond to\n",
        "[P(open), P(closed)] at equilibrium -- hopefully these are exactly the\n",
        "equilibrium solutions observed in Section 2.\n"
      ],
      "execution_count": null,
      "outputs": []
    },
    {
      "cell_type": "markdown",
      "metadata": {
        "execution": {
          "iopub.execute_input": "2021-06-25T15:13:28.466916Z",
          "iopub.status.busy": "2021-06-25T15:13:28.465661Z",
          "iopub.status.idle": "2021-06-25T15:13:28.468726Z",
          "shell.execute_reply": "2021-06-25T15:13:28.468254Z"
        },
        "outputId": "4dc32baf-8769-4d5b-ec79-aad4e61d086c",
        "id": "KXwDk1fZKaAJ"
      },
      "source": [
        "[*Click for solution*](https://github.com/NeuromatchAcademy/course-content/tree/master//tutorials/W2D2_LinearSystems/solutions/W2D2_Tutorial2_Solution_5d5bcbfc.py)\n",
        "\n"
      ]
    },
    {
      "cell_type": "markdown",
      "metadata": {
        "id": "hcB5M8SEKaAJ"
      },
      "source": [
        "---\n",
        "# Summary\n",
        "\n",
        "In this tutorial, we learned:\n",
        "\n",
        "* The definition of a Markov process with history dependence.\n",
        "* The behavior of a simple 2-state Markov proces--the telegraph process--can be simulated either as a state-change simulation or as a propagation of probability distributions.\n",
        "* The relationship between the stability analysis of a dynamical system expressed either in continuous or discrete time.\n",
        "* The equilibrium behavior of a telegraph process is predictable and can be understood using the same strategy as for deterministic systems in Tutorial 1: by taking the eigendecomposition of the A matrix."
      ]
    }
  ]
}